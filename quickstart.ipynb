{
 "cells": [
  {
   "cell_type": "code",
   "execution_count": null,
   "id": "8caf5358-1937-48a2-ac2b-afe5fc1eea5e",
   "metadata": {},
   "outputs": [],
   "source": [
    "from pynewsreader.core import Feed, PyNewsReader\n",
    "pnr = PyNewsReader()"
   ]
  },
  {
   "cell_type": "code",
   "execution_count": null,
   "id": "34152b0a-7d6c-4015-8dbe-61aa75dc3332",
   "metadata": {},
   "outputs": [
    {
     "name": "stderr",
     "output_type": "stream",
     "text": [
      "/home/mark/mambaforge/lib/python3.10/site-packages/reader/_storage/_html_utils.py:51: MarkupResemblesLocatorWarning: The input looks more like a filename than markup. You may want to open this file and pass the filehandle into Beautiful Soup.\n",
      "  return bs4.BeautifulSoup(html, features=features)\n"
     ]
    },
    {
     "data": {
      "text/html": [
       "<pre style=\"white-space:pre;overflow-x:auto;line-height:normal;font-family:Menlo,'DejaVu Sans Mono',consolas,'Courier New',monospace\">Marking entry as read: Republican governor criticized for saying Musk is too rich to be corrupted\n",
       "</pre>\n"
      ],
      "text/plain": [
       "Marking entry as read: Republican governor criticized for saying Musk is too rich to be corrupted\n"
      ]
     },
     "metadata": {},
     "output_type": "display_data"
    },
    {
     "data": {
      "text/html": [
       "<pre style=\"white-space:pre;overflow-x:auto;line-height:normal;font-family:Menlo,'DejaVu Sans Mono',consolas,'Courier New',monospace\">Marking entry as read: David Beckham earns £28m in dividends from personal brand empire\n",
       "</pre>\n"
      ],
      "text/plain": [
       "Marking entry as read: David Beckham earns £28m in dividends from personal brand empire\n"
      ]
     },
     "metadata": {},
     "output_type": "display_data"
    },
    {
     "data": {
      "text/html": [
       "<pre style=\"white-space:pre;overflow-x:auto;line-height:normal;font-family:Menlo,'DejaVu Sans Mono',consolas,'Courier New',monospace\">Marking entry as read: Germany accuses Elon Musk of trying to influence its election with endorsement of far-right \n",
       "party\n",
       "</pre>\n"
      ],
      "text/plain": [
       "Marking entry as read: Germany accuses Elon Musk of trying to influence its election with endorsement of far-right \n",
       "party\n"
      ]
     },
     "metadata": {},
     "output_type": "display_data"
    },
    {
     "data": {
      "text/html": [
       "<pre style=\"white-space:pre;overflow-x:auto;line-height:normal;font-family:Menlo,'DejaVu Sans Mono',consolas,'Courier New',monospace\">Marking entry as read: Germany accuses Elon Musk of trying to influence its election with endorsement of far-right \n",
       "party\n",
       "</pre>\n"
      ],
      "text/plain": [
       "Marking entry as read: Germany accuses Elon Musk of trying to influence its election with endorsement of far-right \n",
       "party\n"
      ]
     },
     "metadata": {},
     "output_type": "display_data"
    },
    {
     "data": {
      "text/html": [
       "<pre style=\"white-space:pre;overflow-x:auto;line-height:normal;font-family:Menlo,'DejaVu Sans Mono',consolas,'Courier New',monospace\">Marking entry as read: Canadian striker Jonathan David says <span style=\"color: #008080; text-decoration-color: #008080; font-weight: bold\">50</span>-<span style=\"color: #008080; text-decoration-color: #008080; font-weight: bold\">50</span> he stays with Lille as he mulls new contract\n",
       "</pre>\n"
      ],
      "text/plain": [
       "Marking entry as read: Canadian striker Jonathan David says \u001b[1;36m50\u001b[0m-\u001b[1;36m50\u001b[0m he stays with Lille as he mulls new contract\n"
      ]
     },
     "metadata": {},
     "output_type": "display_data"
    },
    {
     "data": {
      "text/html": [
       "<pre style=\"white-space:pre;overflow-x:auto;line-height:normal;font-family:Menlo,'DejaVu Sans Mono',consolas,'Courier New',monospace\">Marking entry as read: Berlin accuses Elon Musk of trying to influence German election\n",
       "</pre>\n"
      ],
      "text/plain": [
       "Marking entry as read: Berlin accuses Elon Musk of trying to influence German election\n"
      ]
     },
     "metadata": {},
     "output_type": "display_data"
    },
    {
     "data": {
      "text/html": [
       "<pre style=\"white-space:pre;overflow-x:auto;line-height:normal;font-family:Menlo,'DejaVu Sans Mono',consolas,'Courier New',monospace\">Marking entry as read: German government seeks to downplay Musk's backing of far-right party ahead of general \n",
       "election\n",
       "</pre>\n"
      ],
      "text/plain": [
       "Marking entry as read: German government seeks to downplay Musk's backing of far-right party ahead of general \n",
       "election\n"
      ]
     },
     "metadata": {},
     "output_type": "display_data"
    },
    {
     "data": {
      "text/html": [
       "<pre style=\"white-space:pre;overflow-x:auto;line-height:normal;font-family:Menlo,'DejaVu Sans Mono',consolas,'Courier New',monospace\">Marking entry as read: Trump and Musk are obsessed with genetics – but there’s no science behind their simplistic \n",
       "views | Jonathan Roberts\n",
       "</pre>\n"
      ],
      "text/plain": [
       "Marking entry as read: Trump and Musk are obsessed with genetics – but there’s no science behind their simplistic \n",
       "views | Jonathan Roberts\n"
      ]
     },
     "metadata": {},
     "output_type": "display_data"
    },
    {
     "data": {
      "text/html": [
       "<pre style=\"white-space:pre;overflow-x:auto;line-height:normal;font-family:Menlo,'DejaVu Sans Mono',consolas,'Courier New',monospace\">Marking entry as read: The Raptors have lost <span style=\"color: #008080; text-decoration-color: #008080; font-weight: bold\">10</span> games in a row — and they’re getting worse: ‘This isn't fun’\n",
       "</pre>\n"
      ],
      "text/plain": [
       "Marking entry as read: The Raptors have lost \u001b[1;36m10\u001b[0m games in a row — and they’re getting worse: ‘This isn't fun’\n"
      ]
     },
     "metadata": {},
     "output_type": "display_data"
    },
    {
     "data": {
      "text/html": [
       "<pre style=\"white-space:pre;overflow-x:auto;line-height:normal;font-family:Menlo,'DejaVu Sans Mono',consolas,'Courier New',monospace\">Marking entry as read: Canada edges Germany to get back into win column at world juniors\n",
       "</pre>\n"
      ],
      "text/plain": [
       "Marking entry as read: Canada edges Germany to get back into win column at world juniors\n"
      ]
     },
     "metadata": {},
     "output_type": "display_data"
    },
    {
     "data": {
      "text/html": [
       "<pre style=\"white-space:pre;overflow-x:auto;line-height:normal;font-family:Menlo,'DejaVu Sans Mono',consolas,'Courier New',monospace\">Marking entry as read: Canada edges Germany to get back into win column at world juniors\n",
       "</pre>\n"
      ],
      "text/plain": [
       "Marking entry as read: Canada edges Germany to get back into win column at world juniors\n"
      ]
     },
     "metadata": {},
     "output_type": "display_data"
    },
    {
     "data": {
      "text/html": [
       "<pre style=\"white-space:pre;overflow-x:auto;line-height:normal;font-family:Menlo,'DejaVu Sans Mono',consolas,'Courier New',monospace\">Marking entry as read: <span style=\"color: #008000; text-decoration-color: #008000\">'We'</span>re snake-bitten': Unconvincing Canada gets past Germany <span style=\"color: #008080; text-decoration-color: #008080; font-weight: bold\">3</span>-<span style=\"color: #008080; text-decoration-color: #008080; font-weight: bold\">0</span> at world juniors\n",
       "</pre>\n"
      ],
      "text/plain": [
       "Marking entry as read: \u001b[32m'We'\u001b[0mre snake-bitten': Unconvincing Canada gets past Germany \u001b[1;36m3\u001b[0m-\u001b[1;36m0\u001b[0m at world juniors\n"
      ]
     },
     "metadata": {},
     "output_type": "display_data"
    },
    {
     "data": {
      "text/html": [
       "<pre style=\"white-space:pre;overflow-x:auto;line-height:normal;font-family:Menlo,'DejaVu Sans Mono',consolas,'Courier New',monospace\">Marking entry as read: Maschmeyer leads Charge past Sirens for 2nd win in <span style=\"color: #008080; text-decoration-color: #008080; font-weight: bold\">6</span> games\n",
       "</pre>\n"
      ],
      "text/plain": [
       "Marking entry as read: Maschmeyer leads Charge past Sirens for 2nd win in \u001b[1;36m6\u001b[0m games\n"
      ]
     },
     "metadata": {},
     "output_type": "display_data"
    },
    {
     "data": {
      "text/html": [
       "<pre style=\"white-space:pre;overflow-x:auto;line-height:normal;font-family:Menlo,'DejaVu Sans Mono',consolas,'Courier New',monospace\">Marking entry as read: <span style=\"color: #008000; text-decoration-color: #008000\">'Let'</span>s not panic': Canada picks up the pieces after ugly Latvia loss at world juniors\n",
       "</pre>\n"
      ],
      "text/plain": [
       "Marking entry as read: \u001b[32m'Let'\u001b[0ms not panic': Canada picks up the pieces after ugly Latvia loss at world juniors\n"
      ]
     },
     "metadata": {},
     "output_type": "display_data"
    },
    {
     "data": {
      "text/html": [
       "<pre style=\"white-space:pre;overflow-x:auto;line-height:normal;font-family:Menlo,'DejaVu Sans Mono',consolas,'Courier New',monospace\">Marking entry as read: <span style=\"color: #008000; text-decoration-color: #008000\">'Let'</span>s not panic': Canada picks up the pieces after ugly Latvia loss at world juniors\n",
       "</pre>\n"
      ],
      "text/plain": [
       "Marking entry as read: \u001b[32m'Let'\u001b[0ms not panic': Canada picks up the pieces after ugly Latvia loss at world juniors\n"
      ]
     },
     "metadata": {},
     "output_type": "display_data"
    },
    {
     "data": {
      "text/html": [
       "<pre style=\"white-space:pre;overflow-x:auto;line-height:normal;font-family:Menlo,'DejaVu Sans Mono',consolas,'Courier New',monospace\">Marking entry as read: Google search hallucinates Encanto <span style=\"color: #008080; text-decoration-color: #008080; font-weight: bold\">2</span>\n",
       "</pre>\n"
      ],
      "text/plain": [
       "Marking entry as read: Google search hallucinates Encanto \u001b[1;36m2\u001b[0m\n"
      ]
     },
     "metadata": {},
     "output_type": "display_data"
    },
    {
     "data": {
      "text/html": [
       "<pre style=\"white-space:pre;overflow-x:auto;line-height:normal;font-family:Menlo,'DejaVu Sans Mono',consolas,'Courier New',monospace\">Marking entry as read: Trump backs Musk in MAGA-world rift over visa program for skilled workers\n",
       "</pre>\n"
      ],
      "text/plain": [
       "Marking entry as read: Trump backs Musk in MAGA-world rift over visa program for skilled workers\n"
      ]
     },
     "metadata": {},
     "output_type": "display_data"
    },
    {
     "data": {
      "text/html": [
       "<pre style=\"white-space:pre;overflow-x:auto;line-height:normal;font-family:Menlo,'DejaVu Sans Mono',consolas,'Courier New',monospace\">Marking entry as read: Top Canadian defensive prospect Matthew Schaefer out for rest of world juniors with injury\n",
       "</pre>\n"
      ],
      "text/plain": [
       "Marking entry as read: Top Canadian defensive prospect Matthew Schaefer out for rest of world juniors with injury\n"
      ]
     },
     "metadata": {},
     "output_type": "display_data"
    },
    {
     "data": {
      "text/html": [
       "<pre style=\"white-space:pre;overflow-x:auto;line-height:normal;font-family:Menlo,'DejaVu Sans Mono',consolas,'Courier New',monospace\">Marking entry as read: <span style=\"color: #008000; text-decoration-color: #008000\">'Devastating'</span>: Uninspired Canada upset by Latvia in a shootout at world juniors\n",
       "</pre>\n"
      ],
      "text/plain": [
       "Marking entry as read: \u001b[32m'Devastating'\u001b[0m: Uninspired Canada upset by Latvia in a shootout at world juniors\n"
      ]
     },
     "metadata": {},
     "output_type": "display_data"
    },
    {
     "data": {
      "text/html": [
       "<pre style=\"white-space:pre;overflow-x:auto;line-height:normal;font-family:Menlo,'DejaVu Sans Mono',consolas,'Courier New',monospace\">Marking entry as read: Legendary sportscaster Greg Gumbel dead at <span style=\"color: #008080; text-decoration-color: #008080; font-weight: bold\">78</span> after cancer battle\n",
       "</pre>\n"
      ],
      "text/plain": [
       "Marking entry as read: Legendary sportscaster Greg Gumbel dead at \u001b[1;36m78\u001b[0m after cancer battle\n"
      ]
     },
     "metadata": {},
     "output_type": "display_data"
    },
    {
     "data": {
      "text/html": [
       "<pre style=\"white-space:pre;overflow-x:auto;line-height:normal;font-family:Menlo,'DejaVu Sans Mono',consolas,'Courier New',monospace\">Marking entry as read: Death and lies at Muskoka Recovery: How this ‘luxury’ Ontario rehab operates without \n",
       "oversight\n",
       "</pre>\n"
      ],
      "text/plain": [
       "Marking entry as read: Death and lies at Muskoka Recovery: How this ‘luxury’ Ontario rehab operates without \n",
       "oversight\n"
      ]
     },
     "metadata": {},
     "output_type": "display_data"
    },
    {
     "data": {
      "text/html": [
       "<pre style=\"white-space:pre;overflow-x:auto;line-height:normal;font-family:Menlo,'DejaVu Sans Mono',consolas,'Courier New',monospace\">Marking entry as read: Fake nurses. No doctor on site. Staff who like to party: The inside story of this ‘luxury’ \n",
       "Muskoka addiction rehab\n",
       "</pre>\n"
      ],
      "text/plain": [
       "Marking entry as read: Fake nurses. No doctor on site. Staff who like to party: The inside story of this ‘luxury’ \n",
       "Muskoka addiction rehab\n"
      ]
     },
     "metadata": {},
     "output_type": "display_data"
    },
    {
     "data": {
      "text/html": [
       "<pre style=\"white-space:pre;overflow-x:auto;line-height:normal;font-family:Menlo,'DejaVu Sans Mono',consolas,'Courier New',monospace\">Marking entry as read: Esports are booming in Africa – but can its infrastructure keep pace?\n",
       "</pre>\n"
      ],
      "text/plain": [
       "Marking entry as read: Esports are booming in Africa – but can its infrastructure keep pace?\n"
      ]
     },
     "metadata": {},
     "output_type": "display_data"
    },
    {
     "data": {
      "text/html": [
       "<pre style=\"white-space:pre;overflow-x:auto;line-height:normal;font-family:Menlo,'DejaVu Sans Mono',consolas,'Courier New',monospace\">Marking entry as read: AI startups can apply for our Google for Startups Cloud AI Accelerator now\n",
       "</pre>\n"
      ],
      "text/plain": [
       "Marking entry as read: AI startups can apply for our Google for Startups Cloud AI Accelerator now\n"
      ]
     },
     "metadata": {},
     "output_type": "display_data"
    },
    {
     "data": {
      "text/html": [
       "<pre style=\"white-space:pre;overflow-x:auto;line-height:normal;font-family:Menlo,'DejaVu Sans Mono',consolas,'Courier New',monospace\">Marking entry as read: Go inside the Google Quantum AI lab to learn about how quantum computing works\n",
       "</pre>\n"
      ],
      "text/plain": [
       "Marking entry as read: Go inside the Google Quantum AI lab to learn about how quantum computing works\n"
      ]
     },
     "metadata": {},
     "output_type": "display_data"
    },
    {
     "data": {
      "text/html": [
       "<pre style=\"white-space:pre;overflow-x:auto;line-height:normal;font-family:Menlo,'DejaVu Sans Mono',consolas,'Courier New',monospace\">Marking entry as read: Welcome PaliGemma <span style=\"color: #008080; text-decoration-color: #008080; font-weight: bold\">2</span> – New vision language models by Google\n",
       "</pre>\n"
      ],
      "text/plain": [
       "Marking entry as read: Welcome PaliGemma \u001b[1;36m2\u001b[0m – New vision language models by Google\n"
      ]
     },
     "metadata": {},
     "output_type": "display_data"
    },
    {
     "data": {
      "text/html": [
       "<pre style=\"white-space:pre;overflow-x:auto;line-height:normal;font-family:Menlo,'DejaVu Sans Mono',consolas,'Courier New',monospace\">Marking entry as read: Google launches the London AI Campus\n",
       "</pre>\n"
      ],
      "text/plain": [
       "Marking entry as read: Google launches the London AI Campus\n"
      ]
     },
     "metadata": {},
     "output_type": "display_data"
    },
    {
     "data": {
      "text/html": [
       "<pre style=\"white-space:pre;overflow-x:auto;line-height:normal;font-family:Menlo,'DejaVu Sans Mono',consolas,'Courier New',monospace\">Marking entry as read: Apple Watch Series <span style=\"color: #008080; text-decoration-color: #008080; font-weight: bold\">10</span> review: thinner, lighter and basically the same\n",
       "</pre>\n"
      ],
      "text/plain": [
       "Marking entry as read: Apple Watch Series \u001b[1;36m10\u001b[0m review: thinner, lighter and basically the same\n"
      ]
     },
     "metadata": {},
     "output_type": "display_data"
    },
    {
     "data": {
      "text/html": [
       "<pre style=\"white-space:pre;overflow-x:auto;line-height:normal;font-family:Menlo,'DejaVu Sans Mono',consolas,'Courier New',monospace\">Marking entry as read: Apple MacBook Pro M4 review: faster, better and cheaper\n",
       "</pre>\n"
      ],
      "text/plain": [
       "Marking entry as read: Apple MacBook Pro M4 review: faster, better and cheaper\n"
      ]
     },
     "metadata": {},
     "output_type": "display_data"
    },
    {
     "data": {
      "text/html": [
       "<pre style=\"white-space:pre;overflow-x:auto;line-height:normal;font-family:Menlo,'DejaVu Sans Mono',consolas,'Courier New',monospace\">Marking entry as read: Apple iPhone <span style=\"color: #008080; text-decoration-color: #008080; font-weight: bold\">16</span> Pro Max review: totally maxed out\n",
       "</pre>\n"
      ],
      "text/plain": [
       "Marking entry as read: Apple iPhone \u001b[1;36m16\u001b[0m Pro Max review: totally maxed out\n"
      ]
     },
     "metadata": {},
     "output_type": "display_data"
    },
    {
     "data": {
      "text/html": [
       "<pre style=\"white-space:pre;overflow-x:auto;line-height:normal;font-family:Menlo,'DejaVu Sans Mono',consolas,'Courier New',monospace\">Marking entry as read: Apple iPhone <span style=\"color: #008080; text-decoration-color: #008080; font-weight: bold\">16</span> Pro Max review: totally maxed out\n",
       "</pre>\n"
      ],
      "text/plain": [
       "Marking entry as read: Apple iPhone \u001b[1;36m16\u001b[0m Pro Max review: totally maxed out\n"
      ]
     },
     "metadata": {},
     "output_type": "display_data"
    },
    {
     "data": {
      "text/html": [
       "<pre style=\"white-space:pre;overflow-x:auto;line-height:normal;font-family:Menlo,'DejaVu Sans Mono',consolas,'Courier New',monospace\">Marking entry as read: Apple iPad mini A17 Pro review: the best small tablet gets faster\n",
       "</pre>\n"
      ],
      "text/plain": [
       "Marking entry as read: Apple iPad mini A17 Pro review: the best small tablet gets faster\n"
      ]
     },
     "metadata": {},
     "output_type": "display_data"
    },
    {
     "data": {
      "text/html": [
       "<pre style=\"white-space:pre;overflow-x:auto;line-height:normal;font-family:Menlo,'DejaVu Sans Mono',consolas,'Courier New',monospace\">Marking entry as read: Apple iPad mini A17 Pro review: the best small tablet gets faster\n",
       "</pre>\n"
      ],
      "text/plain": [
       "Marking entry as read: Apple iPad mini A17 Pro review: the best small tablet gets faster\n"
      ]
     },
     "metadata": {},
     "output_type": "display_data"
    },
    {
     "data": {
      "text/html": [
       "<pre style=\"white-space:pre;overflow-x:auto;line-height:normal;font-family:Menlo,'DejaVu Sans Mono',consolas,'Courier New',monospace\">Marking entry as read: iPhone <span style=\"color: #008080; text-decoration-color: #008080; font-weight: bold\">16</span> Plus review: Apple’s battery beast\n",
       "</pre>\n"
      ],
      "text/plain": [
       "Marking entry as read: iPhone \u001b[1;36m16\u001b[0m Plus review: Apple’s battery beast\n"
      ]
     },
     "metadata": {},
     "output_type": "display_data"
    },
    {
     "data": {
      "text/html": [
       "<pre style=\"white-space:pre;overflow-x:auto;line-height:normal;font-family:Menlo,'DejaVu Sans Mono',consolas,'Courier New',monospace\">Marking entry as read: iPhone <span style=\"color: #008080; text-decoration-color: #008080; font-weight: bold\">16</span> Plus review: Apple’s battery beast\n",
       "</pre>\n"
      ],
      "text/plain": [
       "Marking entry as read: iPhone \u001b[1;36m16\u001b[0m Plus review: Apple’s battery beast\n"
      ]
     },
     "metadata": {},
     "output_type": "display_data"
    },
    {
     "data": {
      "text/html": [
       "<pre style=\"white-space:pre;overflow-x:auto;line-height:normal;font-family:Menlo,'DejaVu Sans Mono',consolas,'Courier New',monospace\">Marking entry as read: Google Pixel <span style=\"color: #008080; text-decoration-color: #008080; font-weight: bold\">9</span> review: a good phone overshadowed by great ones\n",
       "</pre>\n"
      ],
      "text/plain": [
       "Marking entry as read: Google Pixel \u001b[1;36m9\u001b[0m review: a good phone overshadowed by great ones\n"
      ]
     },
     "metadata": {},
     "output_type": "display_data"
    },
    {
     "data": {
      "text/html": [
       "<pre style=\"white-space:pre;overflow-x:auto;line-height:normal;font-family:Menlo,'DejaVu Sans Mono',consolas,'Courier New',monospace\">Marking entry as read: Google Pixel <span style=\"color: #008080; text-decoration-color: #008080; font-weight: bold\">9</span> Pro Fold review: the ideal foldable phone design\n",
       "</pre>\n"
      ],
      "text/plain": [
       "Marking entry as read: Google Pixel \u001b[1;36m9\u001b[0m Pro Fold review: the ideal foldable phone design\n"
      ]
     },
     "metadata": {},
     "output_type": "display_data"
    },
    {
     "data": {
      "text/html": [
       "<pre style=\"white-space:pre;overflow-x:auto;line-height:normal;font-family:Menlo,'DejaVu Sans Mono',consolas,'Courier New',monospace\">Marking entry as read: Deploy Meta Llama <span style=\"color: #008080; text-decoration-color: #008080; font-weight: bold\">3.1</span> 405B on Google Cloud Vertex AI\n",
       "</pre>\n"
      ],
      "text/plain": [
       "Marking entry as read: Deploy Meta Llama \u001b[1;36m3.1\u001b[0m 405B on Google Cloud Vertex AI\n"
      ]
     },
     "metadata": {},
     "output_type": "display_data"
    },
    {
     "data": {
      "text/html": [
       "<pre style=\"white-space:pre;overflow-x:auto;line-height:normal;font-family:Menlo,'DejaVu Sans Mono',consolas,'Courier New',monospace\">Marking entry as read: Google releases Gemma <span style=\"color: #008080; text-decoration-color: #008080; font-weight: bold\">2</span> 2B, ShieldGemma and Gemma Scope\n",
       "</pre>\n"
      ],
      "text/plain": [
       "Marking entry as read: Google releases Gemma \u001b[1;36m2\u001b[0m 2B, ShieldGemma and Gemma Scope\n"
      ]
     },
     "metadata": {},
     "output_type": "display_data"
    },
    {
     "data": {
      "text/html": [
       "<pre style=\"white-space:pre;overflow-x:auto;line-height:normal;font-family:Menlo,'DejaVu Sans Mono',consolas,'Courier New',monospace\">Marking entry as read: Google Cloud TPUs made available to Hugging Face users\n",
       "</pre>\n"
      ],
      "text/plain": [
       "Marking entry as read: Google Cloud TPUs made available to Hugging Face users\n"
      ]
     },
     "metadata": {},
     "output_type": "display_data"
    },
    {
     "data": {
      "text/html": [
       "<pre style=\"white-space:pre;overflow-x:auto;line-height:normal;font-family:Menlo,'DejaVu Sans Mono',consolas,'Courier New',monospace\">Marking entry as read: Welcome Gemma <span style=\"color: #008080; text-decoration-color: #008080; font-weight: bold\">2</span> - Google's new open LLM\n",
       "</pre>\n"
      ],
      "text/plain": [
       "Marking entry as read: Welcome Gemma \u001b[1;36m2\u001b[0m - Google's new open LLM\n"
      ]
     },
     "metadata": {},
     "output_type": "display_data"
    },
    {
     "data": {
      "text/html": [
       "<pre style=\"white-space:pre;overflow-x:auto;line-height:normal;font-family:Menlo,'DejaVu Sans Mono',consolas,'Courier New',monospace\">Marking entry as read: PaliGemma – Google's Cutting-Edge Open Vision Language Model\n",
       "</pre>\n"
      ],
      "text/plain": [
       "Marking entry as read: PaliGemma – Google's Cutting-Edge Open Vision Language Model\n"
      ]
     },
     "metadata": {},
     "output_type": "display_data"
    },
    {
     "data": {
      "text/html": [
       "<pre style=\"white-space:pre;overflow-x:auto;line-height:normal;font-family:Menlo,'DejaVu Sans Mono',consolas,'Courier New',monospace\">Marking entry as read: CodeGemma - an official Google release for code LLMs\n",
       "</pre>\n"
      ],
      "text/plain": [
       "Marking entry as read: CodeGemma - an official Google release for code LLMs\n"
      ]
     },
     "metadata": {},
     "output_type": "display_data"
    },
    {
     "data": {
      "text/html": [
       "<pre style=\"white-space:pre;overflow-x:auto;line-height:normal;font-family:Menlo,'DejaVu Sans Mono',consolas,'Courier New',monospace\">Marking entry as read: Welcome Gemma - Google's new open LLM\n",
       "</pre>\n"
      ],
      "text/plain": [
       "Marking entry as read: Welcome Gemma - Google's new open LLM\n"
      ]
     },
     "metadata": {},
     "output_type": "display_data"
    },
    {
     "data": {
      "text/html": [
       "<pre style=\"white-space:pre;overflow-x:auto;line-height:normal;font-family:Menlo,'DejaVu Sans Mono',consolas,'Courier New',monospace\">Marking entry as read: Hugging Face and Google partner for open AI collaboration\n",
       "</pre>\n"
      ],
      "text/plain": [
       "Marking entry as read: Hugging Face and Google partner for open AI collaboration\n"
      ]
     },
     "metadata": {},
     "output_type": "display_data"
    },
    {
     "data": {
      "text/html": [
       "<pre style=\"white-space:pre;overflow-x:auto;line-height:normal;font-family:Menlo,'DejaVu Sans Mono',consolas,'Courier New',monospace\">Marking entry as read: Releasing Swift Transformers: Run On-Device LLMs in Apple Devices\n",
       "</pre>\n"
      ],
      "text/plain": [
       "Marking entry as read: Releasing Swift Transformers: Run On-Device LLMs in Apple Devices\n"
      ]
     },
     "metadata": {},
     "output_type": "display_data"
    },
    {
     "data": {
      "text/html": [
       "<pre style=\"white-space:pre;overflow-x:auto;line-height:normal;font-family:Menlo,'DejaVu Sans Mono',consolas,'Courier New',monospace\">Marking entry as read: Faster Stable Diffusion with Core ML on iPhone, iPad, and Mac\n",
       "</pre>\n"
      ],
      "text/plain": [
       "Marking entry as read: Faster Stable Diffusion with Core ML on iPhone, iPad, and Mac\n"
      ]
     },
     "metadata": {},
     "output_type": "display_data"
    },
    {
     "data": {
      "text/html": [
       "<pre style=\"white-space:pre;overflow-x:auto;line-height:normal;font-family:Menlo,'DejaVu Sans Mono',consolas,'Courier New',monospace\">Marking entry as read: Faster Stable Diffusion with Core ML on iPhone, iPad, and Mac\n",
       "</pre>\n"
      ],
      "text/plain": [
       "Marking entry as read: Faster Stable Diffusion with Core ML on iPhone, iPad, and Mac\n"
      ]
     },
     "metadata": {},
     "output_type": "display_data"
    },
    {
     "data": {
      "text/html": [
       "<pre style=\"white-space:pre;overflow-x:auto;line-height:normal;font-family:Menlo,'DejaVu Sans Mono',consolas,'Courier New',monospace\">Marking entry as read: Running IF with 🧨 diffusers on a Free Tier Google Colab\n",
       "</pre>\n"
      ],
      "text/plain": [
       "Marking entry as read: Running IF with 🧨 diffusers on a Free Tier Google Colab\n"
      ]
     },
     "metadata": {},
     "output_type": "display_data"
    },
    {
     "data": {
      "text/html": [
       "<pre style=\"white-space:pre;overflow-x:auto;line-height:normal;font-family:Menlo,'DejaVu Sans Mono',consolas,'Courier New',monospace\">Marking entry as read: Using Stable Diffusion with Core ML on Apple Silicon\n",
       "</pre>\n"
      ],
      "text/plain": [
       "Marking entry as read: Using Stable Diffusion with Core ML on Apple Silicon\n"
      ]
     },
     "metadata": {},
     "output_type": "display_data"
    },
    {
     "data": {
      "text/html": [
       "<pre style=\"white-space:pre;overflow-x:auto;line-height:normal;font-family:Menlo,'DejaVu Sans Mono',consolas,'Courier New',monospace\">Marking entry as read: My Journey to a serverless transformers pipeline on Google Cloud\n",
       "</pre>\n"
      ],
      "text/plain": [
       "Marking entry as read: My Journey to a serverless transformers pipeline on Google Cloud\n"
      ]
     },
     "metadata": {},
     "output_type": "display_data"
    },
    {
     "data": {
      "text/html": [
       "<pre style=\"white-space:pre;overflow-x:auto;line-height:normal;font-family:Menlo,'DejaVu Sans Mono',consolas,'Courier New',monospace\">Marking entry as important: Trump's tariff threat could drive interest rates even lower in <span style=\"color: #008080; text-decoration-color: #008080; font-weight: bold\">2025</span>, economists predict\n",
       "</pre>\n"
      ],
      "text/plain": [
       "Marking entry as important: Trump's tariff threat could drive interest rates even lower in \u001b[1;36m2025\u001b[0m, economists predict\n"
      ]
     },
     "metadata": {},
     "output_type": "display_data"
    },
    {
     "data": {
      "text/html": [
       "<pre style=\"white-space:pre;overflow-x:auto;line-height:normal;font-family:Menlo,'DejaVu Sans Mono',consolas,'Courier New',monospace\">Marking entry as important: U.S. Federal Reserve cuts interest rates by another quarter point\n",
       "</pre>\n"
      ],
      "text/plain": [
       "Marking entry as important: U.S. Federal Reserve cuts interest rates by another quarter point\n"
      ]
     },
     "metadata": {},
     "output_type": "display_data"
    },
    {
     "data": {
      "text/html": [
       "<pre style=\"white-space:pre;overflow-x:auto;line-height:normal;font-family:Menlo,'DejaVu Sans Mono',consolas,'Courier New',monospace\">Marking entry as important: Harold the Mortgage Closer accused of charging ‘vulnerable’ people interest rates up to\n",
       "<span style=\"color: #008080; text-decoration-color: #008080; font-weight: bold\">76</span> per cent\n",
       "</pre>\n"
      ],
      "text/plain": [
       "Marking entry as important: Harold the Mortgage Closer accused of charging ‘vulnerable’ people interest rates up to\n",
       "\u001b[1;36m76\u001b[0m per cent\n"
      ]
     },
     "metadata": {},
     "output_type": "display_data"
    }
   ],
   "source": [
    "# Add a feed, and use a custom name for it\n",
    "some_feeds = {\n",
    "    \"https://www.cbc.ca/webfeed/rss/rss-canada\": \"CBC | Canada\",\n",
    "    \"https://www.cbc.ca/webfeed/rss/rss-business\": \"CBC | Business\",\n",
    "}\n",
    "all_feeds = {\n",
    "    \"https://ricochet.media/feed/\": \"Richochet Media\",\n",
    "    \"https://thetyee.ca/rss2.xml\": \"The Tyee\",\n",
    "    \"https://www.thestar.com/search/?f=rss&t=article&bl=2827101&l=50\": \"Toronto Star | Top Stories\",\n",
    "    \"https://www.thestar.com/search/?f=rss&t=article&c=news/investigations*&l=50&s=start_time&sd=desc\": \"Toronto Star | Investigations\",\n",
    "    \"https://www.macleans.ca/feed/\": \"Macleans\",\n",
    "    \"https://www.cbc.ca/webfeed/rss/rss-topstories\": \"CBC | Top Stories\",\n",
    "    \"https://www.cbc.ca/webfeed/rss/rss-canada-ottawa\": \"CBC | Ottawa\",\n",
    "    \"https://www.cbc.ca/webfeed/rss/rss-world\": \"CBC | World\",\n",
    "    \"https://www.cbc.ca/webfeed/rss/rss-canada\": \"CBC | Canada\",\n",
    "    \"https://www.cbc.ca/webfeed/rss/rss-business\": \"CBC | Business\",\n",
    "    \"https://www.cbc.ca/webfeed/rss/rss-technology\": \"CBC | Technology\",\n",
    "    \"https://thenarwhal.ca/feed/\": None,\n",
    "    \"https://www.theguardian.com/world/rss\": None,\n",
    "    \"https://www.theguardian.com/uk/technology/rss\": None,\n",
    "    \"https://www.theguardian.com/science/rss\": None,\n",
    "    \"https://www.theguardian.com/world/canada/rss\": None,\n",
    "    \"https://www.thebeaverton.com/feed/?q=1684448990\":\"The Beaverton\",\n",
    "    \"https://hf.co/blog/feed.xml\": \"Huggingface Blog\",\n",
    "    \"https://engineering.fb.com/feed\": \"Facebook AI Blog\",\n",
    "    \"https://blog.google/technology/ai/rss/\": \"Google AI Blog\",\n",
    "    \"https://openai.com/blog/rss.xml\": \"OpenAI Blog\",\n",
    "    \"https://www.answer.ai/index.xml\": \"Answer.ai Blog\",\n",
    "    \"https://simonwillison.net/atom/everything/\":\"Simon Wilson Weblog\"\n",
    "}\n",
    "\n",
    "for feed, name in all_feeds.items():\n",
    "    pnr.add_feed(Feed(url=feed, name=name if name else None))\n",
    "\n",
    "# Update feeds\n",
    "pnr.update()"
   ]
  },
  {
   "cell_type": "code",
   "execution_count": null,
   "id": "d2462bf3-9a3c-4065-b3c0-f0564a776e79",
   "metadata": {},
   "outputs": [
    {
     "data": {
      "text/plain": [
       "[Feeds(url='https://openai.com/blog/rss.xml', name='OpenAI Blog'),\n",
       " Feeds(url='https://www.macleans.ca/feed', name='https://www.macleans.ca/feed'),\n",
       " Feeds(url='https://blog.google/technology/ai/rss', name='AI'),\n",
       " Feeds(url='https://www.answer.ai/index.xml', name='Answer.ai Blog'),\n",
       " Feeds(url='https://www.theguardian.com/world/canada/rss', name='Canada | The Guardian'),\n",
       " Feeds(url='https://www.cbc.ca/webfeed/rss/rss-business', name='CBC | Business'),\n",
       " Feeds(url='https://www.cbc.ca/webfeed/rss/rss-canada', name='CBC | Canada'),\n",
       " Feeds(url='https://www.cbc.ca/webfeed/rss/rss-canada-ottawa', name='CBC | Ottawa'),\n",
       " Feeds(url='https://www.cbc.ca/webfeed/rss/rss-technology', name='CBC | Technology'),\n",
       " Feeds(url='https://www.cbc.ca/webfeed/rss/rss-topstories', name='CBC | Top Stories'),\n",
       " Feeds(url='https://www.cbc.ca/webfeed/rss/rss-world', name='CBC | World'),\n",
       " Feeds(url='https://engineering.fb.com/feed', name='Facebook AI Blog'),\n",
       " Feeds(url='https://hf.co/blog/feed.xml', name='Huggingface Blog'),\n",
       " Feeds(url='https://ricochet.media/feed', name='Ricochet'),\n",
       " Feeds(url='https://www.theguardian.com/science/rss', name='Science | The Guardian'),\n",
       " Feeds(url='https://simonwillison.net/atom/everything', name=\"Simon Willison's Weblog\"),\n",
       " Feeds(url='https://www.theguardian.com/uk/technology/rss', name='Technology | The Guardian'),\n",
       " Feeds(url='https://www.thebeaverton.com/feed/?q=1684448990', name='The Beaverton'),\n",
       " Feeds(url='https://thenarwhal.ca/feed', name='The Narwhal'),\n",
       " Feeds(url='https://thetyee.ca/rss2.xml', name='The Tyee'),\n",
       " Feeds(url='https://www.theguardian.com/world/rss', name='World news | The Guardian'),\n",
       " Feeds(url='https://www.thestar.com/search/?f=rss&t=article&c=news/investigations*&l=50&s=start_time&sd=desc', name='Toronto Star | Investigations'),\n",
       " Feeds(url='https://www.thestar.com/search/?f=rss&t=article&bl=2827101&l=50', name='Toronto Star | Top Stories')]"
      ]
     },
     "execution_count": null,
     "metadata": {},
     "output_type": "execute_result"
    }
   ],
   "source": [
    "pnr.feeds()"
   ]
  },
  {
   "cell_type": "code",
   "execution_count": null,
   "id": "65191ead-5111-4a69-ba74-b161f0d66ccf",
   "metadata": {},
   "outputs": [
    {
     "data": {
      "text/html": [
       "<pre style=\"white-space:pre;overflow-x:auto;line-height:normal;font-family:Menlo,'DejaVu Sans Mono',consolas,'Courier New',monospace\">╭─────────────────────────────────────────── <span style=\"font-weight: bold\">World news | The Guardian</span> ───────────────────────────────────────────╮\n",
       "│ Title: <span style=\"font-weight: bold\">Essex county council sends 95% of non-recycled waste to landfill, data reveals</span>                           │\n",
       "│ Date: 2024-12-30                                                                                                │\n",
       "│                                                                                                                 │\n",
       "│ Seven local authorities in England have waste figures highlighted as government launches circular economy       │\n",
       "│ measuresNew government data published on Monday showed that 95% of non-recycled waste in Essex is sent to       │\n",
       "│ landfill, as ministers launched their plans for a circular economy.The data revealed that seven local           │\n",
       "│ authorities in England reported sending more than 40% of their residual waste to landfill in 2022 to 2023, with │\n",
       "│ Essex county council at the top of the list. Continue reading...                                                │\n",
       "│                                                                                                                 │\n",
       "╰─ <a href=\"https://www.theguardian.com/environment/2024/dec/30/essex-county-council-sends-95-of-non-recycled-waste-to-landfill-data-reveals\" target=\"_blank\">https://www.theguardian.com/environment/2024/dec/30/essex-county-council-sends-95-of-non-recycled-waste-to-lan</a>─╯\n",
       "</pre>\n"
      ],
      "text/plain": [
       "╭─────────────────────────────────────────── \u001b[1mWorld news | The Guardian\u001b[0m ───────────────────────────────────────────╮\n",
       "│ Title: \u001b[1mEssex county council sends 95% of non-recycled waste to landfill, data reveals\u001b[0m                           │\n",
       "│ Date: 2024-12-30                                                                                                │\n",
       "│                                                                                                                 │\n",
       "│ Seven local authorities in England have waste figures highlighted as government launches circular economy       │\n",
       "│ measuresNew government data published on Monday showed that 95% of non-recycled waste in Essex is sent to       │\n",
       "│ landfill, as ministers launched their plans for a circular economy.The data revealed that seven local           │\n",
       "│ authorities in England reported sending more than 40% of their residual waste to landfill in 2022 to 2023, with │\n",
       "│ Essex county council at the top of the list. Continue reading...                                                │\n",
       "│                                                                                                                 │\n",
       "╰─ \u001b]8;id=22398;https://www.theguardian.com/environment/2024/dec/30/essex-county-council-sends-95-of-non-recycled-waste-to-landfill-data-reveals\u001b\\https://www.theguardian.com/environment/2024/dec/30/essex-county-council-sends-95-of-non-recycled-waste-to-lan\u001b]8;;\u001b\\─╯\n"
      ]
     },
     "metadata": {},
     "output_type": "display_data"
    },
    {
     "data": {
      "text/html": [
       "<pre style=\"white-space:pre;overflow-x:auto;line-height:normal;font-family:Menlo,'DejaVu Sans Mono',consolas,'Courier New',monospace\">\n",
       "</pre>\n"
      ],
      "text/plain": [
       "\n"
      ]
     },
     "metadata": {},
     "output_type": "display_data"
    }
   ],
   "source": [
    "# List entries\n",
    "pnr.show(limit=1)"
   ]
  },
  {
   "cell_type": "code",
   "execution_count": null,
   "id": "229c1d43-5684-49d6-b6f9-0f395e7d2db4",
   "metadata": {},
   "outputs": [
    {
     "data": {
      "text/html": [
       "<pre style=\"white-space:pre;overflow-x:auto;line-height:normal;font-family:Menlo,'DejaVu Sans Mono',consolas,'Courier New',monospace\">╭──────────────────────────────────────────────── <span style=\"font-weight: bold\">CBC | Business</span> ─────────────────────────────────────────────────╮\n",
       "│ ❗Title: <span style=\"font-weight: bold\">U.S. Federal Reserve cuts interest rates by another quarter point</span>                                      │\n",
       "│ Date: 2024-12-18                                                                                                │\n",
       "│                                                                                                                 │\n",
       "│ The Federal Reserve cut its key interest rate Wednesday by a quarter-point — its third cut this year — but also │\n",
       "│ signalled that it expects to reduce rates next year more slowly than previously thought, with inflation still   │\n",
       "│ well above the central bank's two per cent target.                                                              │\n",
       "│                                                                                                                 │\n",
       "╰─────────────────── <a href=\"https://www.cbc.ca/news/business/fed-cuts-rates-dec-18-1.7414148?cmp=rss\" target=\"_blank\">https://www.cbc.ca/news/business/fed-cuts-rates-dec-18-1.7414148?cmp=rss</a> ────────────────────╯\n",
       "</pre>\n"
      ],
      "text/plain": [
       "╭──────────────────────────────────────────────── \u001b[1mCBC | Business\u001b[0m ─────────────────────────────────────────────────╮\n",
       "│ ❗Title: \u001b[1mU.S. Federal Reserve cuts interest rates by another quarter point\u001b[0m                                      │\n",
       "│ Date: 2024-12-18                                                                                                │\n",
       "│                                                                                                                 │\n",
       "│ The Federal Reserve cut its key interest rate Wednesday by a quarter-point — its third cut this year — but also │\n",
       "│ signalled that it expects to reduce rates next year more slowly than previously thought, with inflation still   │\n",
       "│ well above the central bank's two per cent target.                                                              │\n",
       "│                                                                                                                 │\n",
       "╰─────────────────── \u001b]8;id=684123;https://www.cbc.ca/news/business/fed-cuts-rates-dec-18-1.7414148?cmp=rss\u001b\\https://www.cbc.ca/news/business/fed-cuts-rates-dec-18-1.7414148?cmp=rss\u001b]8;;\u001b\\ ────────────────────╯\n"
      ]
     },
     "metadata": {},
     "output_type": "display_data"
    },
    {
     "data": {
      "text/html": [
       "<pre style=\"white-space:pre;overflow-x:auto;line-height:normal;font-family:Menlo,'DejaVu Sans Mono',consolas,'Courier New',monospace\">\n",
       "</pre>\n"
      ],
      "text/plain": [
       "\n"
      ]
     },
     "metadata": {},
     "output_type": "display_data"
    }
   ],
   "source": [
    "# Search entries\n",
    "pnr.search(\"inflation\", limit=1)"
   ]
  },
  {
   "cell_type": "code",
   "execution_count": null,
   "id": "b3794c53-44be-432a-97cd-397c74ad6f87",
   "metadata": {},
   "outputs": [],
   "source": [
    "# Blacklist \n",
    "for i in [\n",
    "    \"Musk\",\n",
    "    \"Apple\",\n",
    "    \"Bezos\",\n",
    "    \"Google\",\n",
    "    \"Samsung\",\n",
    "    \"iPhone\",\n",
    "    \"iPad\",\n",
    "    \"guardian.com/sport/\",\n",
    "    \"guardian.com/football/\",\n",
    "    \"thestar.com/sports\",\n",
    "    \"cbc.ca/sports\"\n",
    "]:\n",
    "    pnr.blacklist_add(i)"
   ]
  },
  {
   "cell_type": "code",
   "execution_count": null,
   "id": "d30e9c11-3b74-4d70-8396-5ace108297ce",
   "metadata": {},
   "outputs": [],
   "source": [
    "# Whitelist\n",
    "# Automatically marks as \"Important\"\n",
    "for i in [\"interest rate\", \"Bank of Canada\", \"housing market\"]:\n",
    "    pnr.whitelist_add(i)"
   ]
  },
  {
   "cell_type": "code",
   "execution_count": null,
   "id": "be06e716-3fa6-4fa1-8853-b3d73f338ea8",
   "metadata": {},
   "outputs": [
    {
     "data": {
      "text/plain": [
       "Entry(id='https://www.theguardian.com/environment/2024/dec/30/essex-county-council-sends-95-of-non-recycled-waste-to-landfill-data-reveals', updated=datetime.datetime(2024, 12, 30, 18, 4, 58, tzinfo=datetime.timezone.utc), title='Essex county council sends 95% of non-recycled waste to landfill, data reveals', link='https://www.theguardian.com/environment/2024/dec/30/essex-county-council-sends-95-of-non-recycled-waste-to-landfill-data-reveals', author='Helena Horton Environment reporter', published=datetime.datetime(2024, 12, 30, 18, 4, 58, tzinfo=datetime.timezone.utc), summary='<p>Seven local authorities in England have waste figures highlighted as government launches circular economy measures</p><p>New government data published on Monday showed that 95% of non-recycled waste in Essex is sent to landfill, as ministers launched their plans for a circular economy.</p><p><a href=\"https://www.gov.uk/government/publications/residual-waste-infrastructure-capacity-note/residual-waste-infrastructure-capacity-note\">The data</a> revealed that seven local authorities in England reported sending more than 40% of their residual waste to landfill in 2022 to 2023, with Essex county council at the top of the list.</p> <a href=\"https://www.theguardian.com/environment/2024/dec/30/essex-county-council-sends-95-of-non-recycled-waste-to-landfill-data-reveals\">Continue reading...</a>', content=(), enclosures=(), source=None, read=True, read_modified=datetime.datetime(2024, 12, 30, 18, 15, 15, 944841, tzinfo=datetime.timezone.utc), important=None, important_modified=None, added=datetime.datetime(2024, 12, 30, 18, 15, 4, 669311, tzinfo=datetime.timezone.utc), added_by='feed', last_updated=datetime.datetime(2024, 12, 30, 18, 15, 4, 669311, tzinfo=datetime.timezone.utc), original_feed_url='https://www.theguardian.com/world/rss', _sequence=b'\\x0b\\x99\\xc4\\x86z\\xfd7\\xa4q\\x99\\x8c\\xeb\\xdf0\\xbe\\xab', feed=Feed(url='https://www.theguardian.com/world/rss', updated=datetime.datetime(2024, 12, 30, 18, 13, 34, tzinfo=datetime.timezone.utc), title='World news | The Guardian', link='https://www.theguardian.com/world', author=None, subtitle=\"Latest World news news, comment and analysis from the Guardian, the world's leading liberal voice\", version='rss20', user_title=None, added=datetime.datetime(2024, 12, 30, 18, 14, 50, 697218, tzinfo=datetime.timezone.utc), last_updated=datetime.datetime(2024, 12, 30, 18, 15, 4, 669311, tzinfo=datetime.timezone.utc), last_exception=None, updates_enabled=True, update_after=datetime.datetime(2024, 12, 30, 19, 0, tzinfo=datetime.timezone.utc), last_retrieved=datetime.datetime(2024, 12, 30, 18, 15, 4, 669311, tzinfo=datetime.timezone.utc)))"
      ]
     },
     "execution_count": null,
     "metadata": {},
     "output_type": "execute_result"
    }
   ],
   "source": [
    "# Low-level access to data\n",
    "res = next(pnr._get_entries(read=True, limit=1))\n",
    "res"
   ]
  }
 ],
 "metadata": {
  "kernelspec": {
   "display_name": "Python 3 (ipykernel)",
   "language": "python",
   "name": "python3"
  },
  "language_info": {
   "codemirror_mode": {
    "name": "ipython",
    "version": 3
   },
   "file_extension": ".py",
   "mimetype": "text/x-python",
   "name": "python",
   "nbconvert_exporter": "python",
   "pygments_lexer": "ipython3",
   "version": "3.10.6"
  }
 },
 "nbformat": 4,
 "nbformat_minor": 5
}
