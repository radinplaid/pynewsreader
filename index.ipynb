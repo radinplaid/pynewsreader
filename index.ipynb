{
 "cells": [
  {
   "cell_type": "code",
   "execution_count": null,
   "metadata": {},
   "outputs": [],
   "source": [
    "#| hide\n",
    "from pynewsreader.core import *"
   ]
  },
  {
   "cell_type": "markdown",
   "metadata": {},
   "source": [
    "# pynewsreader\n",
    "\n",
    "> An easy to use news aggregator and viewer written in python "
   ]
  },
  {
   "cell_type": "markdown",
   "metadata": {},
   "source": [
    "## Install"
   ]
  },
  {
   "cell_type": "markdown",
   "metadata": {},
   "source": [
    "```sh\n",
    "pip install git+https://github.com/radinplaid/pynewsreader.git\n",
    "```"
   ]
  },
  {
   "cell_type": "markdown",
   "metadata": {},
   "source": [
    "## Command Line Usage\n",
    "\n",
    "```bash\n",
    "# Show help\n",
    "pnr --help\n",
    "\n",
    "# Add a feed\n",
    "pnr add_feed https://rss.cbc.ca/lineup/world.xml\n",
    "\n",
    "# Update feed(s)\n",
    "pnr update\n",
    "\n",
    "# Show entries\n",
    "pnr show --limit 10\n",
    "\n",
    "# Search entries\n",
    "pnr search canada\n",
    "\n",
    "```"
   ]
  },
  {
   "cell_type": "markdown",
   "metadata": {},
   "source": [
    "## Python Usage\n"
   ]
  },
  {
   "cell_type": "markdown",
   "metadata": {},
   "source": [
    "Import and initialize pnr object"
   ]
  },
  {
   "cell_type": "code",
   "execution_count": null,
   "metadata": {},
   "outputs": [],
   "source": [
    "from pynewsreader.core import Feed, PyNewsReader\n",
    "\n",
    "pnr = PyNewsReader()"
   ]
  },
  {
   "cell_type": "markdown",
   "metadata": {},
   "source": [
    "Add a feed, and use a custom name for it"
   ]
  },
  {
   "cell_type": "code",
   "execution_count": null,
   "metadata": {},
   "outputs": [],
   "source": [
    "myfeed = Feed(\n",
    "    url=\"https://www.thestar.com/content/thestar/feed.RSSManagerServlet.articles.topstories.rss\",\n",
    "    name=\"Toronto Star | Top Stories\",\n",
    ")\n",
    "\n",
    "pnr.add_feed(myfeed)"
   ]
  },
  {
   "cell_type": "markdown",
   "metadata": {},
   "source": [
    "Update feeds"
   ]
  },
  {
   "cell_type": "code",
   "execution_count": null,
   "metadata": {},
   "outputs": [],
   "source": [
    "pnr.update()"
   ]
  },
  {
   "cell_type": "markdown",
   "metadata": {},
   "source": [
    "List entries"
   ]
  },
  {
   "cell_type": "code",
   "execution_count": null,
   "metadata": {},
   "outputs": [
    {
     "data": {
      "text/html": [
       "<pre style=\"white-space:pre;overflow-x:auto;line-height:normal;font-family:Menlo,'DejaVu Sans Mono',consolas,'Courier New',monospace\">╭───────────────────────────────────────────── <span style=\"font-weight: bold\">CBC | Technology News</span> ─────────────────────────────────────────────╮\n",
       "│ Title: <span style=\"font-weight: bold\">Can dolphins get Alzheimer's disease?</span>                                                                    │\n",
       "│ Date: 2022-12-22                                                                                                │\n",
       "│                                                                                                                 │\n",
       "│ Dolphins, like people, are incredibly intelligent and social creatures. And also like people, they may be prone │\n",
       "│ to the ravages of cognitive decline.                                                                            │\n",
       "│                                                                                                                 │\n",
       "╰─────────────── <a href=\"https://www.cbc.ca/radio/asithappens/dolphins-alzheimers-study-1.6695727?cmp=rss\" target=\"_blank\">https://www.cbc.ca/radio/asithappens/dolphins-alzheimers-study-1.6695727?cmp=rss</a> ────────────────╯\n",
       "</pre>\n"
      ],
      "text/plain": [
       "╭───────────────────────────────────────────── \u001b[1mCBC | Technology News\u001b[0m ─────────────────────────────────────────────╮\n",
       "│ Title: \u001b[1mCan dolphins get Alzheimer's disease?\u001b[0m                                                                    │\n",
       "│ Date: 2022-12-22                                                                                                │\n",
       "│                                                                                                                 │\n",
       "│ Dolphins, like people, are incredibly intelligent and social creatures. And also like people, they may be prone │\n",
       "│ to the ravages of cognitive decline.                                                                            │\n",
       "│                                                                                                                 │\n",
       "╰─────────────── \u001b]8;id=924792;https://www.cbc.ca/radio/asithappens/dolphins-alzheimers-study-1.6695727?cmp=rss\u001b\\https://www.cbc.ca/radio/asithappens/dolphins-alzheimers-study-1.6695727?cmp=rss\u001b]8;;\u001b\\ ────────────────╯\n"
      ]
     },
     "metadata": {},
     "output_type": "display_data"
    },
    {
     "data": {
      "text/html": [
       "<pre style=\"white-space:pre;overflow-x:auto;line-height:normal;font-family:Menlo,'DejaVu Sans Mono',consolas,'Courier New',monospace\">\n",
       "</pre>\n"
      ],
      "text/plain": [
       "\n"
      ]
     },
     "metadata": {},
     "output_type": "display_data"
    },
    {
     "data": {
      "text/html": [
       "<pre style=\"white-space:pre;overflow-x:auto;line-height:normal;font-family:Menlo,'DejaVu Sans Mono',consolas,'Courier New',monospace\">╭────────────────────────────────────────────────── <span style=\"font-weight: bold\">The Narwhal</span> ──────────────────────────────────────────────────╮\n",
       "│ Title: <span style=\"font-weight: bold\">Head of Ontario species at risk agency resigns over changes to Greenbelt, conservation authorities</span>       │\n",
       "│ Date: 2022-12-22                                                                                                │\n",
       "│                                                                                                                 │\n",
       "│ By                                                                                                              │\n",
       "│ Emma McIntosh                                                                                                   │\n",
       "│                                                                                                                 │\n",
       "│                                                                                                                 │\n",
       "│ Doug Varty, who stepped down as chair of Ontario’s Species Conservation Action Agency, said the government “is  │\n",
       "│ not listening to or acting in the best long-term interests of the people”                                       │\n",
       "│                                                                                                                 │\n",
       "╰────────────────────────── <a href=\"https://thenarwhal.ca/ontario-species-at-risk-resignation/\" target=\"_blank\">https://thenarwhal.ca/ontario-species-at-risk-resignation/</a> ───────────────────────────╯\n",
       "</pre>\n"
      ],
      "text/plain": [
       "╭────────────────────────────────────────────────── \u001b[1mThe Narwhal\u001b[0m ──────────────────────────────────────────────────╮\n",
       "│ Title: \u001b[1mHead of Ontario species at risk agency resigns over changes to Greenbelt, conservation authorities\u001b[0m       │\n",
       "│ Date: 2022-12-22                                                                                                │\n",
       "│                                                                                                                 │\n",
       "│ By                                                                                                              │\n",
       "│ Emma McIntosh                                                                                                   │\n",
       "│                                                                                                                 │\n",
       "│                                                                                                                 │\n",
       "│ Doug Varty, who stepped down as chair of Ontario’s Species Conservation Action Agency, said the government “is  │\n",
       "│ not listening to or acting in the best long-term interests of the people”                                       │\n",
       "│                                                                                                                 │\n",
       "╰────────────────────────── \u001b]8;id=137122;https://thenarwhal.ca/ontario-species-at-risk-resignation/\u001b\\https://thenarwhal.ca/ontario-species-at-risk-resignation/\u001b]8;;\u001b\\ ───────────────────────────╯\n"
      ]
     },
     "metadata": {},
     "output_type": "display_data"
    },
    {
     "data": {
      "text/html": [
       "<pre style=\"white-space:pre;overflow-x:auto;line-height:normal;font-family:Menlo,'DejaVu Sans Mono',consolas,'Courier New',monospace\">\n",
       "</pre>\n"
      ],
      "text/plain": [
       "\n"
      ]
     },
     "metadata": {},
     "output_type": "display_data"
    },
    {
     "data": {
      "text/html": [
       "<pre style=\"white-space:pre;overflow-x:auto;line-height:normal;font-family:Menlo,'DejaVu Sans Mono',consolas,'Courier New',monospace\">╭───────────────────────────────────────────── <span style=\"font-weight: bold\">CBC | Technology News</span> ─────────────────────────────────────────────╮\n",
       "│ Title: <span style=\"font-weight: bold\">Bob's pick of the most spectacular science stories of 2022</span>                                               │\n",
       "│ Date: 2022-12-22                                                                                                │\n",
       "│                                                                                                                 │\n",
       "│ Bob McDonald's blog: Space and climate change dominated science headlines in the past year                      │\n",
       "│                                                                                                                 │\n",
       "╰─────────────── <a href=\"https://www.cbc.ca/radio/quirks/bobs-blog-2022-science-stories-1.6695001?cmp=rss\" target=\"_blank\">https://www.cbc.ca/radio/quirks/bobs-blog-2022-science-stories-1.6695001?cmp=rss</a> ────────────────╯\n",
       "</pre>\n"
      ],
      "text/plain": [
       "╭───────────────────────────────────────────── \u001b[1mCBC | Technology News\u001b[0m ─────────────────────────────────────────────╮\n",
       "│ Title: \u001b[1mBob's pick of the most spectacular science stories of 2022\u001b[0m                                               │\n",
       "│ Date: 2022-12-22                                                                                                │\n",
       "│                                                                                                                 │\n",
       "│ Bob McDonald's blog: Space and climate change dominated science headlines in the past year                      │\n",
       "│                                                                                                                 │\n",
       "╰─────────────── \u001b]8;id=104632;https://www.cbc.ca/radio/quirks/bobs-blog-2022-science-stories-1.6695001?cmp=rss\u001b\\https://www.cbc.ca/radio/quirks/bobs-blog-2022-science-stories-1.6695001?cmp=rss\u001b]8;;\u001b\\ ────────────────╯\n"
      ]
     },
     "metadata": {},
     "output_type": "display_data"
    },
    {
     "data": {
      "text/html": [
       "<pre style=\"white-space:pre;overflow-x:auto;line-height:normal;font-family:Menlo,'DejaVu Sans Mono',consolas,'Courier New',monospace\">\n",
       "</pre>\n"
      ],
      "text/plain": [
       "\n"
      ]
     },
     "metadata": {},
     "output_type": "display_data"
    },
    {
     "data": {
      "text/html": [
       "<pre style=\"white-space:pre;overflow-x:auto;line-height:normal;font-family:Menlo,'DejaVu Sans Mono',consolas,'Courier New',monospace\">╭────────────────────────────────────────────── <span style=\"font-weight: bold\">CBC | Business News</span> ──────────────────────────────────────────────╮\n",
       "│ Title: <span style=\"font-weight: bold\">TikTok confirms employees improperly accessed journalists' user data in hunt for leaks</span>                   │\n",
       "│ Date: 2022-12-22                                                                                                │\n",
       "│                                                                                                                 │\n",
       "│ ByteDance, the Chinese parent company of TikTok, says some of its employees accessed two U.S. reporters' data   │\n",
       "│ while trying to trace leaks of company information.                                                             │\n",
       "│                                                                                                                 │\n",
       "╰────────── <a href=\"https://www.cbc.ca/news/business/tiktok-employees-journalists-data-leaks-1.6695348?cmp=rss\" target=\"_blank\">https://www.cbc.ca/news/business/tiktok-employees-journalists-data-leaks-1.6695348?cmp=rss</a> ───────────╯\n",
       "</pre>\n"
      ],
      "text/plain": [
       "╭────────────────────────────────────────────── \u001b[1mCBC | Business News\u001b[0m ──────────────────────────────────────────────╮\n",
       "│ Title: \u001b[1mTikTok confirms employees improperly accessed journalists' user data in hunt for leaks\u001b[0m                   │\n",
       "│ Date: 2022-12-22                                                                                                │\n",
       "│                                                                                                                 │\n",
       "│ ByteDance, the Chinese parent company of TikTok, says some of its employees accessed two U.S. reporters' data   │\n",
       "│ while trying to trace leaks of company information.                                                             │\n",
       "│                                                                                                                 │\n",
       "╰────────── \u001b]8;id=973392;https://www.cbc.ca/news/business/tiktok-employees-journalists-data-leaks-1.6695348?cmp=rss\u001b\\https://www.cbc.ca/news/business/tiktok-employees-journalists-data-leaks-1.6695348?cmp=rss\u001b]8;;\u001b\\ ───────────╯\n"
      ]
     },
     "metadata": {},
     "output_type": "display_data"
    },
    {
     "data": {
      "text/html": [
       "<pre style=\"white-space:pre;overflow-x:auto;line-height:normal;font-family:Menlo,'DejaVu Sans Mono',consolas,'Courier New',monospace\">\n",
       "</pre>\n"
      ],
      "text/plain": [
       "\n"
      ]
     },
     "metadata": {},
     "output_type": "display_data"
    },
    {
     "data": {
      "text/html": [
       "<pre style=\"white-space:pre;overflow-x:auto;line-height:normal;font-family:Menlo,'DejaVu Sans Mono',consolas,'Courier New',monospace\">╭──────────────────────────────────────────── <span style=\"font-weight: bold\">CBC | Top Stories News</span> ─────────────────────────────────────────────╮\n",
       "│ Title: <span style=\"font-weight: bold\">More fed up air passengers turn to courts for compensation over flight delays and cancellations</span>          │\n",
       "│ Date: 2022-12-22                                                                                                │\n",
       "│                                                                                                                 │\n",
       "│                                                                                                                 │\n",
       "│                                                                                                                 │\n",
       "╰── <a href=\"https://www.cbc.ca/news/politics/canadian-transportation-agency-backlog-complaints-court-1.6686052?cmp=rss\" target=\"_blank\">https://www.cbc.ca/news/politics/canadian-transportation-agency-backlog-complaints-court-1.6686052?cmp=rss</a> ───╯\n",
       "</pre>\n"
      ],
      "text/plain": [
       "╭──────────────────────────────────────────── \u001b[1mCBC | Top Stories News\u001b[0m ─────────────────────────────────────────────╮\n",
       "│ Title: \u001b[1mMore fed up air passengers turn to courts for compensation over flight delays and cancellations\u001b[0m          │\n",
       "│ Date: 2022-12-22                                                                                                │\n",
       "│                                                                                                                 │\n",
       "│                                                                                                                 │\n",
       "│                                                                                                                 │\n",
       "╰── \u001b]8;id=215212;https://www.cbc.ca/news/politics/canadian-transportation-agency-backlog-complaints-court-1.6686052?cmp=rss\u001b\\https://www.cbc.ca/news/politics/canadian-transportation-agency-backlog-complaints-court-1.6686052?cmp=rss\u001b]8;;\u001b\\ ───╯\n"
      ]
     },
     "metadata": {},
     "output_type": "display_data"
    },
    {
     "data": {
      "text/html": [
       "<pre style=\"white-space:pre;overflow-x:auto;line-height:normal;font-family:Menlo,'DejaVu Sans Mono',consolas,'Courier New',monospace\">\n",
       "</pre>\n"
      ],
      "text/plain": [
       "\n"
      ]
     },
     "metadata": {},
     "output_type": "display_data"
    },
    {
     "data": {
      "text/html": [
       "<pre style=\"white-space:pre;overflow-x:auto;line-height:normal;font-family:Menlo,'DejaVu Sans Mono',consolas,'Courier New',monospace\">╭─────────────────────────────────────────────── <span style=\"font-weight: bold\">CBC | Canada News</span> ───────────────────────────────────────────────╮\n",
       "│ Title: <span style=\"font-weight: bold\">Was your travel disrupted? Here's what you're owed — and what you won't get</span>                              │\n",
       "│ Date: 2022-12-22                                                                                                │\n",
       "│                                                                                                                 │\n",
       "│                                                                                                                 │\n",
       "│                                                                                                                 │\n",
       "╰───────── <a href=\"https://www.cbc.ca/news/business/storm-travel-chaos-compensation-rebooking-1.6698399?cmp=rss\" target=\"_blank\">https://www.cbc.ca/news/business/storm-travel-chaos-compensation-rebooking-1.6698399?cmp=rss</a> ──────────╯\n",
       "</pre>\n"
      ],
      "text/plain": [
       "╭─────────────────────────────────────────────── \u001b[1mCBC | Canada News\u001b[0m ───────────────────────────────────────────────╮\n",
       "│ Title: \u001b[1mWas your travel disrupted? Here's what you're owed — and what you won't get\u001b[0m                              │\n",
       "│ Date: 2022-12-22                                                                                                │\n",
       "│                                                                                                                 │\n",
       "│                                                                                                                 │\n",
       "│                                                                                                                 │\n",
       "╰───────── \u001b]8;id=108284;https://www.cbc.ca/news/business/storm-travel-chaos-compensation-rebooking-1.6698399?cmp=rss\u001b\\https://www.cbc.ca/news/business/storm-travel-chaos-compensation-rebooking-1.6698399?cmp=rss\u001b]8;;\u001b\\ ──────────╯\n"
      ]
     },
     "metadata": {},
     "output_type": "display_data"
    },
    {
     "data": {
      "text/html": [
       "<pre style=\"white-space:pre;overflow-x:auto;line-height:normal;font-family:Menlo,'DejaVu Sans Mono',consolas,'Courier New',monospace\">\n",
       "</pre>\n"
      ],
      "text/plain": [
       "\n"
      ]
     },
     "metadata": {},
     "output_type": "display_data"
    }
   ],
   "source": [
    "pnr.show()"
   ]
  },
  {
   "cell_type": "markdown",
   "metadata": {},
   "source": [
    "Search entries"
   ]
  },
  {
   "cell_type": "code",
   "execution_count": null,
   "metadata": {},
   "outputs": [
    {
     "data": {
      "text/html": [
       "<pre style=\"white-space:pre;overflow-x:auto;line-height:normal;font-family:Menlo,'DejaVu Sans Mono',consolas,'Courier New',monospace\">╭─────────────────────────────────────────────── <span style=\"font-weight: bold\">CBC | Canada News</span> ───────────────────────────────────────────────╮\n",
       "│ Title: <span style=\"font-weight: bold\">Aerial pictures of the year in Canada</span>                                                                    │\n",
       "│ Date: 2022-12-22                                                                                                │\n",
       "│                                                                                                                 │\n",
       "│ CBC and other drone operators have been busy covering Canada from above this year. Here are some aerial         │\n",
       "│ highlights in 2022.                                                                                             │\n",
       "│                                                                                                                 │\n",
       "╰───────── <a href=\"https://www.cbc.ca/news/canada/photos/aerial-pictures-of-the-year-in-canada-1.6695142?cmp=rss\" target=\"_blank\">https://www.cbc.ca/news/canada/photos/aerial-pictures-of-the-year-in-canada-1.6695142?cmp=rss</a> ─────────╯\n",
       "</pre>\n"
      ],
      "text/plain": [
       "╭─────────────────────────────────────────────── \u001b[1mCBC | Canada News\u001b[0m ───────────────────────────────────────────────╮\n",
       "│ Title: \u001b[1mAerial pictures of the year in Canada\u001b[0m                                                                    │\n",
       "│ Date: 2022-12-22                                                                                                │\n",
       "│                                                                                                                 │\n",
       "│ CBC and other drone operators have been busy covering Canada from above this year. Here are some aerial         │\n",
       "│ highlights in 2022.                                                                                             │\n",
       "│                                                                                                                 │\n",
       "╰───────── \u001b]8;id=734828;https://www.cbc.ca/news/canada/photos/aerial-pictures-of-the-year-in-canada-1.6695142?cmp=rss\u001b\\https://www.cbc.ca/news/canada/photos/aerial-pictures-of-the-year-in-canada-1.6695142?cmp=rss\u001b]8;;\u001b\\ ─────────╯\n"
      ]
     },
     "metadata": {},
     "output_type": "display_data"
    },
    {
     "data": {
      "text/html": [
       "<pre style=\"white-space:pre;overflow-x:auto;line-height:normal;font-family:Menlo,'DejaVu Sans Mono',consolas,'Courier New',monospace\">\n",
       "</pre>\n"
      ],
      "text/plain": [
       "\n"
      ]
     },
     "metadata": {},
     "output_type": "display_data"
    },
    {
     "data": {
      "text/html": [
       "<pre style=\"white-space:pre;overflow-x:auto;line-height:normal;font-family:Menlo,'DejaVu Sans Mono',consolas,'Courier New',monospace\">╭─────────────────────────────────────────────── <span style=\"font-weight: bold\">CBC | Canada News</span> ───────────────────────────────────────────────╮\n",
       "│ Title: <span style=\"font-weight: bold\">Bedard shines as Canada demolishes Germany to bounce back at world juniors</span>                               │\n",
       "│ Date: 2022-12-29                                                                                                │\n",
       "│                                                                                                                 │\n",
       "│ Connor Bedard had a hat trick and four assists as Canada got back on track at the world junior hockey           │\n",
       "│ championship Wednesday with an emphatic 11-2 victory over Germany.                                              │\n",
       "│                                                                                                                 │\n",
       "╰──────────── <a href=\"https://www.cbc.ca/sports/hockey/canada-germany-world-juniors-dec-28-1.6699120?cmp=rss\" target=\"_blank\">https://www.cbc.ca/sports/hockey/canada-germany-world-juniors-dec-28-1.6699120?cmp=rss</a> ─────────────╯\n",
       "</pre>\n"
      ],
      "text/plain": [
       "╭─────────────────────────────────────────────── \u001b[1mCBC | Canada News\u001b[0m ───────────────────────────────────────────────╮\n",
       "│ Title: \u001b[1mBedard shines as Canada demolishes Germany to bounce back at world juniors\u001b[0m                               │\n",
       "│ Date: 2022-12-29                                                                                                │\n",
       "│                                                                                                                 │\n",
       "│ Connor Bedard had a hat trick and four assists as Canada got back on track at the world junior hockey           │\n",
       "│ championship Wednesday with an emphatic 11-2 victory over Germany.                                              │\n",
       "│                                                                                                                 │\n",
       "╰──────────── \u001b]8;id=876819;https://www.cbc.ca/sports/hockey/canada-germany-world-juniors-dec-28-1.6699120?cmp=rss\u001b\\https://www.cbc.ca/sports/hockey/canada-germany-world-juniors-dec-28-1.6699120?cmp=rss\u001b]8;;\u001b\\ ─────────────╯\n"
      ]
     },
     "metadata": {},
     "output_type": "display_data"
    },
    {
     "data": {
      "text/html": [
       "<pre style=\"white-space:pre;overflow-x:auto;line-height:normal;font-family:Menlo,'DejaVu Sans Mono',consolas,'Courier New',monospace\">\n",
       "</pre>\n"
      ],
      "text/plain": [
       "\n"
      ]
     },
     "metadata": {},
     "output_type": "display_data"
    },
    {
     "data": {
      "text/html": [
       "<pre style=\"white-space:pre;overflow-x:auto;line-height:normal;font-family:Menlo,'DejaVu Sans Mono',consolas,'Courier New',monospace\">╭─────────────────────────────────────────────── <span style=\"font-weight: bold\">CBC | Canada News</span> ───────────────────────────────────────────────╮\n",
       "│ Title: <span style=\"font-weight: bold\">Experts call for change as number of police shootings in Canada increases annually</span>                       │\n",
       "│ Date: 2022-12-27                                                                                                │\n",
       "│                                                                                                                 │\n",
       "│ A tally compiled by The Canadian Press has found police shot 87 people in Canada between Jan. 1 and Nov. 30 —   │\n",
       "│ 46 fatally. It was based on available information from police, independent investigative units and reporting    │\n",
       "│ from The Canadian Press.                                                                                        │\n",
       "│                                                                                                                 │\n",
       "╰─ <a href=\"https://www.cbc.ca/news/canada/edmonton/experts-call-for-change-as-number-of-police-shootings-in-canada-increases-annually-1.6698288?cmp=rss\" target=\"_blank\">https://www.cbc.ca/news/canada/edmonton/experts-call-for-change-as-number-of-police-shootings-in-canada-increa</a>─╯\n",
       "</pre>\n"
      ],
      "text/plain": [
       "╭─────────────────────────────────────────────── \u001b[1mCBC | Canada News\u001b[0m ───────────────────────────────────────────────╮\n",
       "│ Title: \u001b[1mExperts call for change as number of police shootings in Canada increases annually\u001b[0m                       │\n",
       "│ Date: 2022-12-27                                                                                                │\n",
       "│                                                                                                                 │\n",
       "│ A tally compiled by The Canadian Press has found police shot 87 people in Canada between Jan. 1 and Nov. 30 —   │\n",
       "│ 46 fatally. It was based on available information from police, independent investigative units and reporting    │\n",
       "│ from The Canadian Press.                                                                                        │\n",
       "│                                                                                                                 │\n",
       "╰─ \u001b]8;id=913248;https://www.cbc.ca/news/canada/edmonton/experts-call-for-change-as-number-of-police-shootings-in-canada-increases-annually-1.6698288?cmp=rss\u001b\\https://www.cbc.ca/news/canada/edmonton/experts-call-for-change-as-number-of-police-shootings-in-canada-increa\u001b]8;;\u001b\\─╯\n"
      ]
     },
     "metadata": {},
     "output_type": "display_data"
    },
    {
     "data": {
      "text/html": [
       "<pre style=\"white-space:pre;overflow-x:auto;line-height:normal;font-family:Menlo,'DejaVu Sans Mono',consolas,'Courier New',monospace\">\n",
       "</pre>\n"
      ],
      "text/plain": [
       "\n"
      ]
     },
     "metadata": {},
     "output_type": "display_data"
    },
    {
     "data": {
      "text/html": [
       "<pre style=\"white-space:pre;overflow-x:auto;line-height:normal;font-family:Menlo,'DejaVu Sans Mono',consolas,'Courier New',monospace\">╭─────────────────────────────────────────────── <span style=\"font-weight: bold\">CBC | Canada News</span> ───────────────────────────────────────────────╮\n",
       "│ Title: <span style=\"font-weight: bold\">Thousands in Canada facing travel woes, still without power days after storms</span>                            │\n",
       "│ Date: 2022-12-27                                                                                                │\n",
       "│                                                                                                                 │\n",
       "│ Thousands of Canadians were still without electricity or facing travel headaches on Tuesday, days after fierce  │\n",
       "│ winter storms struck right before Christmas, while the U.S. deals with the fallout from the fierce weather      │\n",
       "│ that's claimed dozens of lives.                                                                                 │\n",
       "│                                                                                                                 │\n",
       "╰───────────────────── <a href=\"https://www.cbc.ca/news/canada/canada-winter-storm-1.6698203?cmp=rss\" target=\"_blank\">https://www.cbc.ca/news/canada/canada-winter-storm-1.6698203?cmp=rss</a> ──────────────────────╯\n",
       "</pre>\n"
      ],
      "text/plain": [
       "╭─────────────────────────────────────────────── \u001b[1mCBC | Canada News\u001b[0m ───────────────────────────────────────────────╮\n",
       "│ Title: \u001b[1mThousands in Canada facing travel woes, still without power days after storms\u001b[0m                            │\n",
       "│ Date: 2022-12-27                                                                                                │\n",
       "│                                                                                                                 │\n",
       "│ Thousands of Canadians were still without electricity or facing travel headaches on Tuesday, days after fierce  │\n",
       "│ winter storms struck right before Christmas, while the U.S. deals with the fallout from the fierce weather      │\n",
       "│ that's claimed dozens of lives.                                                                                 │\n",
       "│                                                                                                                 │\n",
       "╰───────────────────── \u001b]8;id=589851;https://www.cbc.ca/news/canada/canada-winter-storm-1.6698203?cmp=rss\u001b\\https://www.cbc.ca/news/canada/canada-winter-storm-1.6698203?cmp=rss\u001b]8;;\u001b\\ ──────────────────────╯\n"
      ]
     },
     "metadata": {},
     "output_type": "display_data"
    },
    {
     "data": {
      "text/html": [
       "<pre style=\"white-space:pre;overflow-x:auto;line-height:normal;font-family:Menlo,'DejaVu Sans Mono',consolas,'Courier New',monospace\">\n",
       "</pre>\n"
      ],
      "text/plain": [
       "\n"
      ]
     },
     "metadata": {},
     "output_type": "display_data"
    },
    {
     "data": {
      "text/html": [
       "<pre style=\"white-space:pre;overflow-x:auto;line-height:normal;font-family:Menlo,'DejaVu Sans Mono',consolas,'Courier New',monospace\">╭─────────────────────────────────────────────── <span style=\"font-weight: bold\">CBC | Canada News</span> ───────────────────────────────────────────────╮\n",
       "│ Title: <span style=\"font-weight: bold\">Hockey star Marie-Philip Poulin picks up 2nd major award, named Canada's top female athlete by Canadian </span> │\n",
       "│ <span style=\"font-weight: bold\">Press</span>                                                                                                           │\n",
       "│ Date: 2022-12-28                                                                                                │\n",
       "│                                                                                                                 │\n",
       "│ Dubbed \"one of the greatest clutch performers this country has ever produced,\" Canadian women's hockey team     │\n",
       "│ captain Marie-Philip Poulin has been voted The Canadian Press female athlete of the year for 2022.              │\n",
       "│                                                                                                                 │\n",
       "╰─ <a href=\"https://www.cbc.ca/sports/olympics/winter/hockey/marie-philip-poulin-top-female-athlete-canadian-press-1.6698642?cmp=rss\" target=\"_blank\">https://www.cbc.ca/sports/olympics/winter/hockey/marie-philip-poulin-top-female-athlete-canadian-press-1.66986</a>─╯\n",
       "</pre>\n"
      ],
      "text/plain": [
       "╭─────────────────────────────────────────────── \u001b[1mCBC | Canada News\u001b[0m ───────────────────────────────────────────────╮\n",
       "│ Title: \u001b[1mHockey star Marie-Philip Poulin picks up 2nd major award, named Canada's top female athlete by Canadian \u001b[0m │\n",
       "│ \u001b[1mPress\u001b[0m                                                                                                           │\n",
       "│ Date: 2022-12-28                                                                                                │\n",
       "│                                                                                                                 │\n",
       "│ Dubbed \"one of the greatest clutch performers this country has ever produced,\" Canadian women's hockey team     │\n",
       "│ captain Marie-Philip Poulin has been voted The Canadian Press female athlete of the year for 2022.              │\n",
       "│                                                                                                                 │\n",
       "╰─ \u001b]8;id=176697;https://www.cbc.ca/sports/olympics/winter/hockey/marie-philip-poulin-top-female-athlete-canadian-press-1.6698642?cmp=rss\u001b\\https://www.cbc.ca/sports/olympics/winter/hockey/marie-philip-poulin-top-female-athlete-canadian-press-1.66986\u001b]8;;\u001b\\─╯\n"
      ]
     },
     "metadata": {},
     "output_type": "display_data"
    },
    {
     "data": {
      "text/html": [
       "<pre style=\"white-space:pre;overflow-x:auto;line-height:normal;font-family:Menlo,'DejaVu Sans Mono',consolas,'Courier New',monospace\">\n",
       "</pre>\n"
      ],
      "text/plain": [
       "\n"
      ]
     },
     "metadata": {},
     "output_type": "display_data"
    },
    {
     "data": {
      "text/html": [
       "<pre style=\"white-space:pre;overflow-x:auto;line-height:normal;font-family:Menlo,'DejaVu Sans Mono',consolas,'Courier New',monospace\">╭─────────────────────────────────────────────────── <span style=\"font-weight: bold\">Macleans</span> ────────────────────────────────────────────────────╮\n",
       "│ Title: <span style=\"font-weight: bold\">Top 50 Fastest-growing Charities in Canada</span>                                                               │\n",
       "│ Date: 2022-12-01                                                                                                │\n",
       "│                                                                                                                 │\n",
       "│ Created for                                                                                                     │\n",
       "│ With its Fastest-growing Charities in Canada annual report, the Veritas Foundation aims to show which of the    │\n",
       "│ country’s roughly 86,000 charities are attracting the most interest from donors.…                               │\n",
       "│ The post Top 50 Fastest-growing Charities in Canada appeared first on Macleans.ca.                              │\n",
       "│                                                                                                                 │\n",
       "╰───────────────── <a href=\"https://www.macleans.ca/sponsored/top-50-fastest-growing-charities-in-canada/\" target=\"_blank\">https://www.macleans.ca/sponsored/top-50-fastest-growing-charities-in-canada/</a> ─────────────────╯\n",
       "</pre>\n"
      ],
      "text/plain": [
       "╭─────────────────────────────────────────────────── \u001b[1mMacleans\u001b[0m ────────────────────────────────────────────────────╮\n",
       "│ Title: \u001b[1mTop 50 Fastest-growing Charities in Canada\u001b[0m                                                               │\n",
       "│ Date: 2022-12-01                                                                                                │\n",
       "│                                                                                                                 │\n",
       "│ Created for                                                                                                     │\n",
       "│ With its Fastest-growing Charities in Canada annual report, the Veritas Foundation aims to show which of the    │\n",
       "│ country’s roughly 86,000 charities are attracting the most interest from donors.…                               │\n",
       "│ The post Top 50 Fastest-growing Charities in Canada appeared first on Macleans.ca.                              │\n",
       "│                                                                                                                 │\n",
       "╰───────────────── \u001b]8;id=485958;https://www.macleans.ca/sponsored/top-50-fastest-growing-charities-in-canada/\u001b\\https://www.macleans.ca/sponsored/top-50-fastest-growing-charities-in-canada/\u001b]8;;\u001b\\ ─────────────────╯\n"
      ]
     },
     "metadata": {},
     "output_type": "display_data"
    },
    {
     "data": {
      "text/html": [
       "<pre style=\"white-space:pre;overflow-x:auto;line-height:normal;font-family:Menlo,'DejaVu Sans Mono',consolas,'Courier New',monospace\">\n",
       "</pre>\n"
      ],
      "text/plain": [
       "\n"
      ]
     },
     "metadata": {},
     "output_type": "display_data"
    },
    {
     "data": {
      "text/html": [
       "<pre style=\"white-space:pre;overflow-x:auto;line-height:normal;font-family:Menlo,'DejaVu Sans Mono',consolas,'Courier New',monospace\">╭─────────────────────────────────────────────── <span style=\"font-weight: bold\">CBC | Canada News</span> ───────────────────────────────────────────────╮\n",
       "│ Title: <span style=\"font-weight: bold\">Canada is mulling a national school food policy. What does this mean for the N.W.T.?</span>                     │\n",
       "│ Date: 2022-12-28                                                                                                │\n",
       "│                                                                                                                 │\n",
       "│ As the federal government prepares its first-ever school food policy — which could pave the way for a           │\n",
       "│ nationwide school food program — educators in the N.W.T. are pondering what it might mean for their students.   │\n",
       "│                                                                                                                 │\n",
       "╰─────────────── <a href=\"https://www.cbc.ca/news/canada/north/school-food-program-north-1.6692991?cmp=rss\" target=\"_blank\">https://www.cbc.ca/news/canada/north/school-food-program-north-1.6692991?cmp=rss</a> ────────────────╯\n",
       "</pre>\n"
      ],
      "text/plain": [
       "╭─────────────────────────────────────────────── \u001b[1mCBC | Canada News\u001b[0m ───────────────────────────────────────────────╮\n",
       "│ Title: \u001b[1mCanada is mulling a national school food policy. What does this mean for the N.W.T.?\u001b[0m                     │\n",
       "│ Date: 2022-12-28                                                                                                │\n",
       "│                                                                                                                 │\n",
       "│ As the federal government prepares its first-ever school food policy — which could pave the way for a           │\n",
       "│ nationwide school food program — educators in the N.W.T. are pondering what it might mean for their students.   │\n",
       "│                                                                                                                 │\n",
       "╰─────────────── \u001b]8;id=754995;https://www.cbc.ca/news/canada/north/school-food-program-north-1.6692991?cmp=rss\u001b\\https://www.cbc.ca/news/canada/north/school-food-program-north-1.6692991?cmp=rss\u001b]8;;\u001b\\ ────────────────╯\n"
      ]
     },
     "metadata": {},
     "output_type": "display_data"
    },
    {
     "data": {
      "text/html": [
       "<pre style=\"white-space:pre;overflow-x:auto;line-height:normal;font-family:Menlo,'DejaVu Sans Mono',consolas,'Courier New',monospace\">\n",
       "</pre>\n"
      ],
      "text/plain": [
       "\n"
      ]
     },
     "metadata": {},
     "output_type": "display_data"
    },
    {
     "data": {
      "text/html": [
       "<pre style=\"white-space:pre;overflow-x:auto;line-height:normal;font-family:Menlo,'DejaVu Sans Mono',consolas,'Courier New',monospace\">╭──────────────────────────────────────────── <span style=\"font-weight: bold\">CBC | Top Stories News</span> ─────────────────────────────────────────────╮\n",
       "│ Title: <span style=\"font-weight: bold\">Canada among 4 countries launching effort to hold Iran accountable for shooting down Flight PS752</span>        │\n",
       "│ Date: 2022-12-28                                                                                                │\n",
       "│                                                                                                                 │\n",
       "│                                                                                                                 │\n",
       "│                                                                                                                 │\n",
       "╰──────────── <a href=\"https://www.cbc.ca/news/politics/canada-trigger-convention-iran-ps752-1.6698758?cmp=rss\" target=\"_blank\">https://www.cbc.ca/news/politics/canada-trigger-convention-iran-ps752-1.6698758?cmp=rss</a> ────────────╯\n",
       "</pre>\n"
      ],
      "text/plain": [
       "╭──────────────────────────────────────────── \u001b[1mCBC | Top Stories News\u001b[0m ─────────────────────────────────────────────╮\n",
       "│ Title: \u001b[1mCanada among 4 countries launching effort to hold Iran accountable for shooting down Flight PS752\u001b[0m        │\n",
       "│ Date: 2022-12-28                                                                                                │\n",
       "│                                                                                                                 │\n",
       "│                                                                                                                 │\n",
       "│                                                                                                                 │\n",
       "╰──────────── \u001b]8;id=78219;https://www.cbc.ca/news/politics/canada-trigger-convention-iran-ps752-1.6698758?cmp=rss\u001b\\https://www.cbc.ca/news/politics/canada-trigger-convention-iran-ps752-1.6698758?cmp=rss\u001b]8;;\u001b\\ ────────────╯\n"
      ]
     },
     "metadata": {},
     "output_type": "display_data"
    },
    {
     "data": {
      "text/html": [
       "<pre style=\"white-space:pre;overflow-x:auto;line-height:normal;font-family:Menlo,'DejaVu Sans Mono',consolas,'Courier New',monospace\">\n",
       "</pre>\n"
      ],
      "text/plain": [
       "\n"
      ]
     },
     "metadata": {},
     "output_type": "display_data"
    },
    {
     "data": {
      "text/html": [
       "<pre style=\"white-space:pre;overflow-x:auto;line-height:normal;font-family:Menlo,'DejaVu Sans Mono',consolas,'Courier New',monospace\">╭──────────────────────────────────────────── <span style=\"font-weight: bold\">CBC | Top Stories News</span> ─────────────────────────────────────────────╮\n",
       "│ Title: <span style=\"font-weight: bold\">Sidney Crosby, Eugene Levy and Karina LeBlanc among 99 new Order of Canada appointees</span>                    │\n",
       "│ Date: 2022-12-29                                                                                                │\n",
       "│                                                                                                                 │\n",
       "│ Gov. Gen. Mary Simon has announced the new Order of Canada appointments, recognizing Canadians from a range of  │\n",
       "│ backgrounds for their contributions to the country.                                                             │\n",
       "│                                                                                                                 │\n",
       "╰───────────────── <a href=\"https://www.cbc.ca/news/politics/order-of-canada-appointees-1.6698239?cmp=rss\" target=\"_blank\">https://www.cbc.ca/news/politics/order-of-canada-appointees-1.6698239?cmp=rss</a> ─────────────────╯\n",
       "</pre>\n"
      ],
      "text/plain": [
       "╭──────────────────────────────────────────── \u001b[1mCBC | Top Stories News\u001b[0m ─────────────────────────────────────────────╮\n",
       "│ Title: \u001b[1mSidney Crosby, Eugene Levy and Karina LeBlanc among 99 new Order of Canada appointees\u001b[0m                    │\n",
       "│ Date: 2022-12-29                                                                                                │\n",
       "│                                                                                                                 │\n",
       "│ Gov. Gen. Mary Simon has announced the new Order of Canada appointments, recognizing Canadians from a range of  │\n",
       "│ backgrounds for their contributions to the country.                                                             │\n",
       "│                                                                                                                 │\n",
       "╰───────────────── \u001b]8;id=327916;https://www.cbc.ca/news/politics/order-of-canada-appointees-1.6698239?cmp=rss\u001b\\https://www.cbc.ca/news/politics/order-of-canada-appointees-1.6698239?cmp=rss\u001b]8;;\u001b\\ ─────────────────╯\n"
      ]
     },
     "metadata": {},
     "output_type": "display_data"
    },
    {
     "data": {
      "text/html": [
       "<pre style=\"white-space:pre;overflow-x:auto;line-height:normal;font-family:Menlo,'DejaVu Sans Mono',consolas,'Courier New',monospace\">\n",
       "</pre>\n"
      ],
      "text/plain": [
       "\n"
      ]
     },
     "metadata": {},
     "output_type": "display_data"
    },
    {
     "data": {
      "text/html": [
       "<pre style=\"white-space:pre;overflow-x:auto;line-height:normal;font-family:Menlo,'DejaVu Sans Mono',consolas,'Courier New',monospace\">╭────────────────────────────────────────────── <span style=\"font-weight: bold\">CBC | Business News</span> ──────────────────────────────────────────────╮\n",
       "│ Title: <span style=\"font-weight: bold\">Canada's ban on foreign property buyers won't apply to many workers, international students</span>              │\n",
       "│ Date: 2022-12-21                                                                                                │\n",
       "│                                                                                                                 │\n",
       "│ Days before non-residents are banned from buying homes in Canada, the federal government has announced several  │\n",
       "│ exemptions — including for certain foreign workers, international students and diplomats.                       │\n",
       "│                                                                                                                 │\n",
       "╰───────── <a href=\"https://www.cbc.ca/news/politics/canada-ban-non-resident-buyers-exemptions-1.6693875?cmp=rss\" target=\"_blank\">https://www.cbc.ca/news/politics/canada-ban-non-resident-buyers-exemptions-1.6693875?cmp=rss</a> ──────────╯\n",
       "</pre>\n"
      ],
      "text/plain": [
       "╭────────────────────────────────────────────── \u001b[1mCBC | Business News\u001b[0m ──────────────────────────────────────────────╮\n",
       "│ Title: \u001b[1mCanada's ban on foreign property buyers won't apply to many workers, international students\u001b[0m              │\n",
       "│ Date: 2022-12-21                                                                                                │\n",
       "│                                                                                                                 │\n",
       "│ Days before non-residents are banned from buying homes in Canada, the federal government has announced several  │\n",
       "│ exemptions — including for certain foreign workers, international students and diplomats.                       │\n",
       "│                                                                                                                 │\n",
       "╰───────── \u001b]8;id=482631;https://www.cbc.ca/news/politics/canada-ban-non-resident-buyers-exemptions-1.6693875?cmp=rss\u001b\\https://www.cbc.ca/news/politics/canada-ban-non-resident-buyers-exemptions-1.6693875?cmp=rss\u001b]8;;\u001b\\ ──────────╯\n"
      ]
     },
     "metadata": {},
     "output_type": "display_data"
    },
    {
     "data": {
      "text/html": [
       "<pre style=\"white-space:pre;overflow-x:auto;line-height:normal;font-family:Menlo,'DejaVu Sans Mono',consolas,'Courier New',monospace\">\n",
       "</pre>\n"
      ],
      "text/plain": [
       "\n"
      ]
     },
     "metadata": {},
     "output_type": "display_data"
    }
   ],
   "source": [
    "pnr.search(\"canada\")"
   ]
  }
 ],
 "metadata": {
  "kernelspec": {
   "display_name": "Python 3 (ipykernel)",
   "language": "python",
   "name": "python3"
  }
 },
 "nbformat": 4,
 "nbformat_minor": 4
}
