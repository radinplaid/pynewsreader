{
 "cells": [
  {
   "cell_type": "code",
   "execution_count": null,
   "metadata": {},
   "outputs": [],
   "source": [
    "#| hide\n",
    "from pynewsreader.core import *"
   ]
  },
  {
   "cell_type": "markdown",
   "metadata": {},
   "source": [
    "# pynewsreader\n",
    "\n",
    "> An easy to use news aggregator and viewer written in python "
   ]
  },
  {
   "cell_type": "markdown",
   "metadata": {},
   "source": [
    "## Install"
   ]
  },
  {
   "cell_type": "markdown",
   "metadata": {},
   "source": [
    "```sh\n",
    "pip install git+https://github.com/radinplaid/pynewsreader.git\n",
    "```"
   ]
  },
  {
   "cell_type": "markdown",
   "metadata": {},
   "source": [
    "## Command Line Usage\n",
    "\n",
    "```bash\n",
    "# Show help\n",
    "pnr --help\n",
    "\n",
    "# Add a feed\n",
    "pnr add_feed https://rss.cbc.ca/lineup/world.xml\n",
    "\n",
    "# Update feed(s)\n",
    "pnr update\n",
    "\n",
    "# Show entries\n",
    "pnr show --limit 10\n",
    "\n",
    "# Search entries\n",
    "pnr search canada\n",
    "\n",
    "```"
   ]
  },
  {
   "cell_type": "markdown",
   "metadata": {},
   "source": [
    "## Python Usage\n"
   ]
  },
  {
   "cell_type": "markdown",
   "metadata": {},
   "source": [
    "Import and initialize pnr object"
   ]
  },
  {
   "cell_type": "code",
   "execution_count": null,
   "metadata": {},
   "outputs": [],
   "source": [
    "from pynewsreader.core import Feed, PyNewsReader\n",
    "\n",
    "pnr = PyNewsReader()"
   ]
  },
  {
   "cell_type": "markdown",
   "metadata": {},
   "source": [
    "Add a feed, and use a custom name for it"
   ]
  },
  {
   "cell_type": "code",
   "execution_count": null,
   "metadata": {},
   "outputs": [],
   "source": [
    "myfeed = Feed(\n",
    "    url=\"https://www.thestar.com/content/thestar/feed.RSSManagerServlet.articles.topstories.rss\",\n",
    "    name=\"Toronto Star | Top Stories\",\n",
    ")\n",
    "\n",
    "pnr.add_feed(myfeed)"
   ]
  },
  {
   "cell_type": "markdown",
   "metadata": {},
   "source": [
    "Update feeds"
   ]
  },
  {
   "cell_type": "code",
   "execution_count": null,
   "metadata": {},
   "outputs": [],
   "source": [
    "pnr.update()"
   ]
  },
  {
   "cell_type": "markdown",
   "metadata": {},
   "source": [
    "List entries"
   ]
  },
  {
   "cell_type": "code",
   "execution_count": null,
   "metadata": {},
   "outputs": [
    {
     "data": {
      "text/html": [
       "<pre style=\"white-space:pre;overflow-x:auto;line-height:normal;font-family:Menlo,'DejaVu Sans Mono',consolas,'Courier New',monospace\">╭──────────────────────────────────────────── <span style=\"font-weight: bold\">CBC | Top Stories News</span> ─────────────────────────────────────────────╮\n",
       "│ Title: <span style=\"font-weight: bold\">The Garage Gang: Four decades of square dancing, mischief and friendship on P.E.I.</span>                       │\n",
       "│ Date: 2023-01-08                                                                                                │\n",
       "│                                                                                                                 │\n",
       "│ A group of Islanders have been meeting up regularly for 40 years, their bond withstanding the test of time and  │\n",
       "│ life’s hardships.                                                                                               │\n",
       "│                                                                                                                 │\n",
       "╰── <a href=\"https://www.cbc.ca/news/canada/prince-edward-island/garage-gang-square-dancing-friendship-1.6699472?cmp=rss\" target=\"_blank\">https://www.cbc.ca/news/canada/prince-edward-island/garage-gang-square-dancing-friendship-1.6699472?cmp=rss</a> ──╯\n",
       "</pre>\n"
      ],
      "text/plain": [
       "╭──────────────────────────────────────────── \u001b[1mCBC | Top Stories News\u001b[0m ─────────────────────────────────────────────╮\n",
       "│ Title: \u001b[1mThe Garage Gang: Four decades of square dancing, mischief and friendship on P.E.I.\u001b[0m                       │\n",
       "│ Date: 2023-01-08                                                                                                │\n",
       "│                                                                                                                 │\n",
       "│ A group of Islanders have been meeting up regularly for 40 years, their bond withstanding the test of time and  │\n",
       "│ life’s hardships.                                                                                               │\n",
       "│                                                                                                                 │\n",
       "╰── \u001b]8;id=416729;https://www.cbc.ca/news/canada/prince-edward-island/garage-gang-square-dancing-friendship-1.6699472?cmp=rss\u001b\\https://www.cbc.ca/news/canada/prince-edward-island/garage-gang-square-dancing-friendship-1.6699472?cmp=rss\u001b]8;;\u001b\\ ──╯\n"
      ]
     },
     "metadata": {},
     "output_type": "display_data"
    },
    {
     "data": {
      "text/html": [
       "<pre style=\"white-space:pre;overflow-x:auto;line-height:normal;font-family:Menlo,'DejaVu Sans Mono',consolas,'Courier New',monospace\">\n",
       "</pre>\n"
      ],
      "text/plain": [
       "\n"
      ]
     },
     "metadata": {},
     "output_type": "display_data"
    },
    {
     "data": {
      "text/html": [
       "<pre style=\"white-space:pre;overflow-x:auto;line-height:normal;font-family:Menlo,'DejaVu Sans Mono',consolas,'Courier New',monospace\">╭──────────────────────────────────────────── <span style=\"font-weight: bold\">CBC | Top Stories News</span> ─────────────────────────────────────────────╮\n",
       "│ Title: <span style=\"font-weight: bold\">Book recovered from Franklin ship could show whether other written items are salvageable, historian says</span> │\n",
       "│ Date: 2023-01-08                                                                                                │\n",
       "│                                                                                                                 │\n",
       "│ A leather-bound folio found one of Capt. John Franklin's doomed Arctic ships might show how recoverable other   │\n",
       "│ documents might be in future searches, according to historian Ken McGoogan.                                     │\n",
       "│                                                                                                                 │\n",
       "╰──── <a href=\"https://www.cbc.ca/news/canada/north/2022-excavation-franklin-ship-northwest-passage-1.6703841?cmp=rss\" target=\"_blank\">https://www.cbc.ca/news/canada/north/2022-excavation-franklin-ship-northwest-passage-1.6703841?cmp=rss</a> ─────╯\n",
       "</pre>\n"
      ],
      "text/plain": [
       "╭──────────────────────────────────────────── \u001b[1mCBC | Top Stories News\u001b[0m ─────────────────────────────────────────────╮\n",
       "│ Title: \u001b[1mBook recovered from Franklin ship could show whether other written items are salvageable, historian says\u001b[0m │\n",
       "│ Date: 2023-01-08                                                                                                │\n",
       "│                                                                                                                 │\n",
       "│ A leather-bound folio found one of Capt. John Franklin's doomed Arctic ships might show how recoverable other   │\n",
       "│ documents might be in future searches, according to historian Ken McGoogan.                                     │\n",
       "│                                                                                                                 │\n",
       "╰──── \u001b]8;id=213221;https://www.cbc.ca/news/canada/north/2022-excavation-franklin-ship-northwest-passage-1.6703841?cmp=rss\u001b\\https://www.cbc.ca/news/canada/north/2022-excavation-franklin-ship-northwest-passage-1.6703841?cmp=rss\u001b]8;;\u001b\\ ─────╯\n"
      ]
     },
     "metadata": {},
     "output_type": "display_data"
    },
    {
     "data": {
      "text/html": [
       "<pre style=\"white-space:pre;overflow-x:auto;line-height:normal;font-family:Menlo,'DejaVu Sans Mono',consolas,'Courier New',monospace\">\n",
       "</pre>\n"
      ],
      "text/plain": [
       "\n"
      ]
     },
     "metadata": {},
     "output_type": "display_data"
    },
    {
     "data": {
      "text/html": [
       "<pre style=\"white-space:pre;overflow-x:auto;line-height:normal;font-family:Menlo,'DejaVu Sans Mono',consolas,'Courier New',monospace\">╭───────────────────────────────────────────────── <span style=\"font-weight: bold\">The Guardian</span> ──────────────────────────────────────────────────╮\n",
       "│ Title: <span style=\"font-weight: bold\">Tory right warns Sunak: this is calm before storm over small boats and Brexit</span>                            │\n",
       "│ Date: 2023-01-08                                                                                                │\n",
       "│                                                                                                                 │\n",
       "│ As the PM tries to move on from ‘perma-crisis’, agitated former ministers promise big trouble aheadSenior       │\n",
       "│ Tories are warning Rishi Sunak that he is enjoying the “calm before the storm”, with his own MPs already        │\n",
       "│ plotting to tackle him over immigration and a beleaguered plan to secure “Brexit freedoms”.The prime minister   │\n",
       "│ spent Saturday attempting to show his commitment to easing the crisis in the NHS – one of the five pledges he   │\n",
       "│ made in his new year’s speech – by holding a summit with health services figures. Delays to discharging people  │\n",
       "│ from hospital, social care shortages, an A&amp;E crisis and waiting lists were all discussed at the “NHS recovery   │\n",
       "│ forum”. Sunak told those attending that “boldness and radicalism” would be needed to solve the pressures.       │\n",
       "│ Continue reading...                                                                                             │\n",
       "│                                                                                                                 │\n",
       "╰─ <a href=\"https://www.theguardian.com/politics/2023/jan/08/tory-right-warns-sunak-calm-before-storm-small-boats-brexit\" target=\"_blank\">https://www.theguardian.com/politics/2023/jan/08/tory-right-warns-sunak-calm-before-storm-small-boats-brexit</a> ──╯\n",
       "</pre>\n"
      ],
      "text/plain": [
       "╭───────────────────────────────────────────────── \u001b[1mThe Guardian\u001b[0m ──────────────────────────────────────────────────╮\n",
       "│ Title: \u001b[1mTory right warns Sunak: this is calm before storm over small boats and Brexit\u001b[0m                            │\n",
       "│ Date: 2023-01-08                                                                                                │\n",
       "│                                                                                                                 │\n",
       "│ As the PM tries to move on from ‘perma-crisis’, agitated former ministers promise big trouble aheadSenior       │\n",
       "│ Tories are warning Rishi Sunak that he is enjoying the “calm before the storm”, with his own MPs already        │\n",
       "│ plotting to tackle him over immigration and a beleaguered plan to secure “Brexit freedoms”.The prime minister   │\n",
       "│ spent Saturday attempting to show his commitment to easing the crisis in the NHS – one of the five pledges he   │\n",
       "│ made in his new year’s speech – by holding a summit with health services figures. Delays to discharging people  │\n",
       "│ from hospital, social care shortages, an A&E crisis and waiting lists were all discussed at the “NHS recovery   │\n",
       "│ forum”. Sunak told those attending that “boldness and radicalism” would be needed to solve the pressures.       │\n",
       "│ Continue reading...                                                                                             │\n",
       "│                                                                                                                 │\n",
       "╰─ \u001b]8;id=648676;https://www.theguardian.com/politics/2023/jan/08/tory-right-warns-sunak-calm-before-storm-small-boats-brexit\u001b\\https://www.theguardian.com/politics/2023/jan/08/tory-right-warns-sunak-calm-before-storm-small-boats-brexit\u001b]8;;\u001b\\ ──╯\n"
      ]
     },
     "metadata": {},
     "output_type": "display_data"
    },
    {
     "data": {
      "text/html": [
       "<pre style=\"white-space:pre;overflow-x:auto;line-height:normal;font-family:Menlo,'DejaVu Sans Mono',consolas,'Courier New',monospace\">\n",
       "</pre>\n"
      ],
      "text/plain": [
       "\n"
      ]
     },
     "metadata": {},
     "output_type": "display_data"
    },
    {
     "data": {
      "text/html": [
       "<pre style=\"white-space:pre;overflow-x:auto;line-height:normal;font-family:Menlo,'DejaVu Sans Mono',consolas,'Courier New',monospace\">╭───────────────────────────────────────────────── <span style=\"font-weight: bold\">The Guardian</span> ──────────────────────────────────────────────────╮\n",
       "│ Title: <span style=\"font-weight: bold\">Russia and Belarus extend military drills amid fears of new push into Ukraine</span>                            │\n",
       "│ Date: 2023-01-08                                                                                                │\n",
       "│                                                                                                                 │\n",
       "│ Weapons, soldiers and equipment added to exercises, as concern grows Minsk is being pressured to join           │\n",
       "│ warRussia-Ukraine war – latest news updatesRussia and Belarus have expanded their joint military training       │\n",
       "│ exercises in Belarus, the country’s defence TV channel said on Sunday, as concern grows that Moscow is          │\n",
       "│ pressuring its closest ally to join the war in Ukraine.The two countries added weapons, soldiers and            │\n",
       "│ specialised equipment to the exercises and were doing drills drawing on Russian experience in Ukraine, Reuters  │\n",
       "│ reported. Continue reading...                                                                                   │\n",
       "│                                                                                                                 │\n",
       "╰── <a href=\"https://www.theguardian.com/world/2023/jan/08/russia-belarus-extend-military-drills-fears-new-push-ukraine\" target=\"_blank\">https://www.theguardian.com/world/2023/jan/08/russia-belarus-extend-military-drills-fears-new-push-ukraine</a> ───╯\n",
       "</pre>\n"
      ],
      "text/plain": [
       "╭───────────────────────────────────────────────── \u001b[1mThe Guardian\u001b[0m ──────────────────────────────────────────────────╮\n",
       "│ Title: \u001b[1mRussia and Belarus extend military drills amid fears of new push into Ukraine\u001b[0m                            │\n",
       "│ Date: 2023-01-08                                                                                                │\n",
       "│                                                                                                                 │\n",
       "│ Weapons, soldiers and equipment added to exercises, as concern grows Minsk is being pressured to join           │\n",
       "│ warRussia-Ukraine war – latest news updatesRussia and Belarus have expanded their joint military training       │\n",
       "│ exercises in Belarus, the country’s defence TV channel said on Sunday, as concern grows that Moscow is          │\n",
       "│ pressuring its closest ally to join the war in Ukraine.The two countries added weapons, soldiers and            │\n",
       "│ specialised equipment to the exercises and were doing drills drawing on Russian experience in Ukraine, Reuters  │\n",
       "│ reported. Continue reading...                                                                                   │\n",
       "│                                                                                                                 │\n",
       "╰── \u001b]8;id=711975;https://www.theguardian.com/world/2023/jan/08/russia-belarus-extend-military-drills-fears-new-push-ukraine\u001b\\https://www.theguardian.com/world/2023/jan/08/russia-belarus-extend-military-drills-fears-new-push-ukraine\u001b]8;;\u001b\\ ───╯\n"
      ]
     },
     "metadata": {},
     "output_type": "display_data"
    },
    {
     "data": {
      "text/html": [
       "<pre style=\"white-space:pre;overflow-x:auto;line-height:normal;font-family:Menlo,'DejaVu Sans Mono',consolas,'Courier New',monospace\">\n",
       "</pre>\n"
      ],
      "text/plain": [
       "\n"
      ]
     },
     "metadata": {},
     "output_type": "display_data"
    },
    {
     "data": {
      "text/html": [
       "<pre style=\"white-space:pre;overflow-x:auto;line-height:normal;font-family:Menlo,'DejaVu Sans Mono',consolas,'Courier New',monospace\">╭───────────────────────────────────────────────── <span style=\"font-weight: bold\">The Guardian</span> ──────────────────────────────────────────────────╮\n",
       "│ Title: <span style=\"font-weight: bold\">Russia-Ukraine war: Moscow’s ceasefire ends with no let up in fighting; Ukraine strikes power plants in </span> │\n",
       "│ <span style=\"font-weight: bold\">Donetsk, officials say – live</span>                                                                                   │\n",
       "│ Date: 2023-01-08                                                                                                │\n",
       "│                                                                                                                 │\n",
       "│ Russian attacks reported in at least seven Ukraine regions despite Putin’s ceasefire pledge; shelling           │\n",
       "│ reportedly damages power plants in Moscow-controlled regionWhat we know on day 319 of the invasionOne person    │\n",
       "│ was killed as a result of the attack on the Starobesheve power plant in Novyi Svit, Russia’s state Tass news    │\n",
       "│ agency said on Sunday.The thermal power plant was one of two in part of Ukraine’s Donetsk region that is        │\n",
       "│ controlled by Russian forces that were damaged in a rocket attack by the Ukrainian army, Moscow-installed       │\n",
       "│ officials said.The body of one dead woman was extracted from under the rubble at the plant.The tasks set by the │\n",
       "│ president (Putin) for the special military operation will still be fulfilled.And there definitely will be a     │\n",
       "│ victory. Continue reading...                                                                                    │\n",
       "│                                                                                                                 │\n",
       "╰─ <a href=\"https://www.theguardian.com/world/live/2023/jan/08/russia-ukraine-war-moscows-ceasefire-ends-with-no-let-up-in-fighting-ukraine-strikes-power-plants-in-donetsk-officials-say-live\" target=\"_blank\">https://www.theguardian.com/world/live/2023/jan/08/russia-ukraine-war-moscows-ceasefire-ends-with-no-let-up-in</a>─╯\n",
       "</pre>\n"
      ],
      "text/plain": [
       "╭───────────────────────────────────────────────── \u001b[1mThe Guardian\u001b[0m ──────────────────────────────────────────────────╮\n",
       "│ Title: \u001b[1mRussia-Ukraine war: Moscow’s ceasefire ends with no let up in fighting; Ukraine strikes power plants in \u001b[0m │\n",
       "│ \u001b[1mDonetsk, officials say – live\u001b[0m                                                                                   │\n",
       "│ Date: 2023-01-08                                                                                                │\n",
       "│                                                                                                                 │\n",
       "│ Russian attacks reported in at least seven Ukraine regions despite Putin’s ceasefire pledge; shelling           │\n",
       "│ reportedly damages power plants in Moscow-controlled regionWhat we know on day 319 of the invasionOne person    │\n",
       "│ was killed as a result of the attack on the Starobesheve power plant in Novyi Svit, Russia’s state Tass news    │\n",
       "│ agency said on Sunday.The thermal power plant was one of two in part of Ukraine’s Donetsk region that is        │\n",
       "│ controlled by Russian forces that were damaged in a rocket attack by the Ukrainian army, Moscow-installed       │\n",
       "│ officials said.The body of one dead woman was extracted from under the rubble at the plant.The tasks set by the │\n",
       "│ president (Putin) for the special military operation will still be fulfilled.And there definitely will be a     │\n",
       "│ victory. Continue reading...                                                                                    │\n",
       "│                                                                                                                 │\n",
       "╰─ \u001b]8;id=539241;https://www.theguardian.com/world/live/2023/jan/08/russia-ukraine-war-moscows-ceasefire-ends-with-no-let-up-in-fighting-ukraine-strikes-power-plants-in-donetsk-officials-say-live\u001b\\https://www.theguardian.com/world/live/2023/jan/08/russia-ukraine-war-moscows-ceasefire-ends-with-no-let-up-in\u001b]8;;\u001b\\─╯\n"
      ]
     },
     "metadata": {},
     "output_type": "display_data"
    },
    {
     "data": {
      "text/html": [
       "<pre style=\"white-space:pre;overflow-x:auto;line-height:normal;font-family:Menlo,'DejaVu Sans Mono',consolas,'Courier New',monospace\">\n",
       "</pre>\n"
      ],
      "text/plain": [
       "\n"
      ]
     },
     "metadata": {},
     "output_type": "display_data"
    },
    {
     "data": {
      "text/html": [
       "<pre style=\"white-space:pre;overflow-x:auto;line-height:normal;font-family:Menlo,'DejaVu Sans Mono',consolas,'Courier New',monospace\">╭───────────────────────────────────────────────── <span style=\"font-weight: bold\">The Guardian</span> ──────────────────────────────────────────────────╮\n",
       "│ Title: <span style=\"font-weight: bold\">Officer arrested after car crash kills two innocent teenagers during police chase</span>                        │\n",
       "│ Date: 2023-01-08                                                                                                │\n",
       "│                                                                                                                 │\n",
       "│ Maggie Dunn, 17, and Caroline Gill, 16, died in collision as chased suspected car thief in Louisiana townIt was │\n",
       "│ a tragically high price to pay for catching a suspected car thief: two innocent teenagers dead and a police     │\n",
       "│ officer jailed, facing serious charges for a car crash that resulted from the pursuit.Maggie Dunn, 17, and      │\n",
       "│ Caroline Gill, 16, who were cheerleaders for their high school in the southern Louisiana town of Brusly, died   │\n",
       "│ in the collision on 31 December. They’re the latest fatalities among hundreds every year attributed to          │\n",
       "│ accidents involving police pursuits in the US. Continue reading...                                              │\n",
       "│                                                                                                                 │\n",
       "╰──── <a href=\"https://www.theguardian.com/us-news/2023/jan/08/officer-arrested-police-chase-car-crash-kills-two-teens\" target=\"_blank\">https://www.theguardian.com/us-news/2023/jan/08/officer-arrested-police-chase-car-crash-kills-two-teens</a> ────╯\n",
       "</pre>\n"
      ],
      "text/plain": [
       "╭───────────────────────────────────────────────── \u001b[1mThe Guardian\u001b[0m ──────────────────────────────────────────────────╮\n",
       "│ Title: \u001b[1mOfficer arrested after car crash kills two innocent teenagers during police chase\u001b[0m                        │\n",
       "│ Date: 2023-01-08                                                                                                │\n",
       "│                                                                                                                 │\n",
       "│ Maggie Dunn, 17, and Caroline Gill, 16, died in collision as chased suspected car thief in Louisiana townIt was │\n",
       "│ a tragically high price to pay for catching a suspected car thief: two innocent teenagers dead and a police     │\n",
       "│ officer jailed, facing serious charges for a car crash that resulted from the pursuit.Maggie Dunn, 17, and      │\n",
       "│ Caroline Gill, 16, who were cheerleaders for their high school in the southern Louisiana town of Brusly, died   │\n",
       "│ in the collision on 31 December. They’re the latest fatalities among hundreds every year attributed to          │\n",
       "│ accidents involving police pursuits in the US. Continue reading...                                              │\n",
       "│                                                                                                                 │\n",
       "╰──── \u001b]8;id=702283;https://www.theguardian.com/us-news/2023/jan/08/officer-arrested-police-chase-car-crash-kills-two-teens\u001b\\https://www.theguardian.com/us-news/2023/jan/08/officer-arrested-police-chase-car-crash-kills-two-teens\u001b]8;;\u001b\\ ────╯\n"
      ]
     },
     "metadata": {},
     "output_type": "display_data"
    },
    {
     "data": {
      "text/html": [
       "<pre style=\"white-space:pre;overflow-x:auto;line-height:normal;font-family:Menlo,'DejaVu Sans Mono',consolas,'Courier New',monospace\">\n",
       "</pre>\n"
      ],
      "text/plain": [
       "\n"
      ]
     },
     "metadata": {},
     "output_type": "display_data"
    }
   ],
   "source": [
    "pnr.show()"
   ]
  },
  {
   "cell_type": "markdown",
   "metadata": {},
   "source": [
    "Search entries"
   ]
  },
  {
   "cell_type": "code",
   "execution_count": null,
   "metadata": {},
   "outputs": [],
   "source": [
    "import datetime\n",
    "import dateutil\n",
    "import pytz\n",
    "test = [i for i in pnr._reader.get_entries(limit=10)][0]"
   ]
  },
  {
   "cell_type": "code",
   "execution_count": null,
   "metadata": {},
   "outputs": [
    {
     "data": {
      "text/plain": [
       "datetime.datetime(2023, 1, 6, 0, 0, tzinfo=<UTC>)"
      ]
     },
     "execution_count": null,
     "metadata": {},
     "output_type": "execute_result"
    }
   ],
   "source": [
    "dateutil.parser.parse(\"2023-01-06\").replace(tzinfo=pytz.UTC)"
   ]
  },
  {
   "cell_type": "code",
   "execution_count": null,
   "metadata": {},
   "outputs": [
    {
     "data": {
      "text/plain": [
       "datetime.datetime(2023, 2, 2, 0, 0)"
      ]
     },
     "execution_count": null,
     "metadata": {},
     "output_type": "execute_result"
    }
   ],
   "source": [
    "dateutil.parser.parse(\"2023-02-02\")"
   ]
  },
  {
   "cell_type": "code",
   "execution_count": null,
   "metadata": {},
   "outputs": [
    {
     "data": {
      "text/plain": [
       "'https://www.theguardian.com/commentisfree/all/rss'"
      ]
     },
     "execution_count": null,
     "metadata": {},
     "output_type": "execute_result"
    }
   ],
   "source": [
    "test.feed.url"
   ]
  },
  {
   "cell_type": "code",
   "execution_count": null,
   "metadata": {},
   "outputs": [
    {
     "data": {
      "text/plain": [
       "'The Guardian'"
      ]
     },
     "execution_count": null,
     "metadata": {},
     "output_type": "execute_result"
    }
   ],
   "source": [
    "test.feed.title"
   ]
  },
  {
   "cell_type": "code",
   "execution_count": null,
   "metadata": {},
   "outputs": [],
   "source": []
  },
  {
   "cell_type": "code",
   "execution_count": null,
   "metadata": {},
   "outputs": [
    {
     "data": {
      "text/plain": [
       "PosixPath('.')"
      ]
     },
     "execution_count": null,
     "metadata": {},
     "output_type": "execute_result"
    }
   ],
   "source": []
  },
  {
   "cell_type": "code",
   "execution_count": null,
   "metadata": {},
   "outputs": [
    {
     "name": "stdout",
     "output_type": "stream",
     "text": [
      "/home/mark/Somebody_Saved_Me_Words__Music__Vol._27-chapters.json\n",
      "/home/mark/Troy_The_Greek_Myths_Reimagined-chapters.json\n",
      "/home/mark/The_Secret_History_of_Soldiers_How_Canadians_Survived_the_Great_War-chapters.json\n"
     ]
    }
   ],
   "source": [
    "from pathlib import Path\n",
    "import json\n",
    "import shutil\n",
    "import os\n",
    "\n",
    "for jsonfile in Path.home().glob(\"*chapters.json\"):\n",
    "    print(jsonfile)\n",
    "    with jsonfile.open() as myfile:\n",
    "        x = json.load(myfile)\n",
    "\n",
    "    # Better to use recursion\n",
    "    newchapters = []\n",
    "    for i in x['content_metadata']['chapter_info']['chapters']:\n",
    "        if 'chapters' in i:\n",
    "            for j in i['chapters']:\n",
    "                if 'chapters' in j:\n",
    "                    for k in j['chapters']:\n",
    "                        if 'chapters' in k:\n",
    "                            newchapters.append(k) \n",
    "                        else:\n",
    "                            print(i,j)\n",
    "                            raise Exception()\n",
    "                else:\n",
    "                    newchapters.append(j) \n",
    "\n",
    "        else:\n",
    "            newchapters.append(i)\n",
    "\n",
    "    x['content_metadata']['chapter_info']['chapters'] = newchapters\n",
    "\n",
    "    if not Path(str(jsonfile)+\".backup\").exists():\n",
    "        shutil.copy(jsonfile, str(jsonfile)+\".backup\")\n",
    "\n",
    "    with open(str(jsonfile), \"wt\") as myfile:\n",
    "        json.dump(x, myfile)"
   ]
  },
  {
   "cell_type": "code",
   "execution_count": null,
   "metadata": {},
   "outputs": [
    {
     "data": {
      "text/plain": [
       "'/home/mark/Culloden_The_History_and_Archaeology_of_the_Last_Clan_Battle-chapters.json.backup'"
      ]
     },
     "execution_count": null,
     "metadata": {},
     "output_type": "execute_result"
    }
   ],
   "source": [
    "\n"
   ]
  },
  {
   "cell_type": "code",
   "execution_count": null,
   "metadata": {},
   "outputs": [
    {
     "data": {
      "text/plain": [
       "[{'length_ms': 18942,\n",
       "  'start_offset_ms': 0,\n",
       "  'start_offset_sec': 0,\n",
       "  'title': 'Opening Credits'},\n",
       " {'length_ms': 10444,\n",
       "  'start_offset_ms': 18942,\n",
       "  'start_offset_sec': 19,\n",
       "  'title': \"Publisher's Note\"},\n",
       " {'length_ms': 2534352,\n",
       "  'start_offset_ms': 29386,\n",
       "  'start_offset_sec': 29,\n",
       "  'title': 'Introduction: The Battle of Culloden - More Than a Difference of Opinion'},\n",
       " {'length_ms': 3121273,\n",
       "  'start_offset_ms': 2563738,\n",
       "  'start_offset_sec': 2564,\n",
       "  'title': 'Chapter 1: The ’45 Campaign'},\n",
       " {'length_ms': 757310,\n",
       "  'start_offset_ms': 5790371,\n",
       "  'start_offset_sec': 5790,\n",
       "  'title': 'The Regiments at Culloden'},\n",
       " {'length_ms': 325200,\n",
       "  'start_offset_ms': 6547681,\n",
       "  'start_offset_sec': 6548,\n",
       "  'title': 'Organization'},\n",
       " {'length_ms': 1113436,\n",
       "  'start_offset_ms': 6872881,\n",
       "  'start_offset_sec': 6873,\n",
       "  'title': 'Recruitment'},\n",
       " {'length_ms': 382370,\n",
       "  'start_offset_ms': 7986317,\n",
       "  'start_offset_sec': 7986,\n",
       "  'title': 'The French'},\n",
       " {'length_ms': 1006809,\n",
       "  'start_offset_ms': 8368687,\n",
       "  'start_offset_sec': 8369,\n",
       "  'title': 'Fighting'},\n",
       " {'length_ms': 348598,\n",
       "  'start_offset_ms': 9466192,\n",
       "  'start_offset_sec': 9466,\n",
       "  'title': 'The Regiments at Culloden'},\n",
       " {'length_ms': 172700,\n",
       "  'start_offset_ms': 9814790,\n",
       "  'start_offset_sec': 9815,\n",
       "  'title': 'First Brigade'},\n",
       " {'length_ms': 207100,\n",
       "  'start_offset_ms': 9987490,\n",
       "  'start_offset_sec': 9987,\n",
       "  'title': 'Third Brigade'},\n",
       " {'length_ms': 148200,\n",
       "  'start_offset_ms': 10194590,\n",
       "  'start_offset_sec': 10195,\n",
       "  'title': 'Second Brigade'},\n",
       " {'length_ms': 331010,\n",
       "  'start_offset_ms': 10342790,\n",
       "  'start_offset_sec': 10343,\n",
       "  'title': 'Fourth Brigade'},\n",
       " {'length_ms': 162290,\n",
       "  'start_offset_ms': 10673800,\n",
       "  'start_offset_sec': 10674,\n",
       "  'title': 'Unbrigaded'},\n",
       " {'length_ms': 223500,\n",
       "  'start_offset_ms': 10836090,\n",
       "  'start_offset_sec': 10836,\n",
       "  'title': 'Cavalry Regiments'},\n",
       " {'length_ms': 142388,\n",
       "  'start_offset_ms': 11059590,\n",
       "  'start_offset_sec': 11060,\n",
       "  'title': 'The Royal Artillery'},\n",
       " {'length_ms': 226893,\n",
       "  'start_offset_ms': 11201978,\n",
       "  'start_offset_sec': 11202,\n",
       "  'title': 'Organization'},\n",
       " {'length_ms': 1658800,\n",
       "  'start_offset_ms': 11428871,\n",
       "  'start_offset_sec': 11429,\n",
       "  'title': 'Recruitment'},\n",
       " {'length_ms': 104860,\n",
       "  'start_offset_ms': 13087671,\n",
       "  'start_offset_sec': 13088,\n",
       "  'title': 'The Regiments’ Successors'},\n",
       " {'length_ms': 1447053,\n",
       "  'start_offset_ms': 13201891,\n",
       "  'start_offset_sec': 13202,\n",
       "  'title': 'Government Cavalry'},\n",
       " {'length_ms': 566580,\n",
       "  'start_offset_ms': 14648944,\n",
       "  'start_offset_sec': 14649,\n",
       "  'title': 'Jacobite Cavalry'},\n",
       " {'length_ms': 495024,\n",
       "  'start_offset_ms': 15215524,\n",
       "  'start_offset_sec': 15216,\n",
       "  'title': 'Cavalry Action at Culloden'},\n",
       " {'length_ms': 3431073,\n",
       "  'start_offset_ms': 15710548,\n",
       "  'start_offset_sec': 15711,\n",
       "  'title': 'Chapter 5: The Battle of Culloden: A Narrative Account'},\n",
       " {'length_ms': 145247,\n",
       "  'start_offset_ms': 19153545,\n",
       "  'start_offset_sec': 19154,\n",
       "  'title': 'Introduction'},\n",
       " {'length_ms': 386201,\n",
       "  'start_offset_ms': 19298792,\n",
       "  'start_offset_sec': 19299,\n",
       "  'title': 'The Battlefield Then and Now'},\n",
       " {'length_ms': 4274368,\n",
       "  'start_offset_ms': 19684993,\n",
       "  'start_offset_sec': 19685,\n",
       "  'title': 'Results'},\n",
       " {'length_ms': 53388,\n",
       "  'start_offset_ms': 23959361,\n",
       "  'start_offset_sec': 23959,\n",
       "  'title': 'Summing Up'},\n",
       " {'length_ms': 78043,\n",
       "  'start_offset_ms': 24012749,\n",
       "  'start_offset_sec': 24013,\n",
       "  'title': 'Acknowledgements'},\n",
       " {'length_ms': 157489,\n",
       "  'start_offset_ms': 24504474,\n",
       "  'start_offset_sec': 24504,\n",
       "  'title': '1. Yorke’s Sketch Map, 1746'},\n",
       " {'length_ms': 257799,\n",
       "  'start_offset_ms': 24661963,\n",
       "  'start_offset_sec': 24662,\n",
       "  'title': '2. Cathcart’s Sketch Map, 1746'},\n",
       " {'length_ms': 767378,\n",
       "  'start_offset_ms': 24919762,\n",
       "  'start_offset_sec': 24920,\n",
       "  'title': '3. Sandby’s Map, 1746'},\n",
       " {'length_ms': 475069,\n",
       "  'start_offset_ms': 25687140,\n",
       "  'start_offset_sec': 25687,\n",
       "  'title': '4. Leigh Jones’ Map, 1746'},\n",
       " {'length_ms': 250602,\n",
       "  'start_offset_ms': 26162209,\n",
       "  'start_offset_sec': 26162,\n",
       "  'title': '5. Paterson’s Map, About 1746'},\n",
       " {'length_ms': 587973,\n",
       "  'start_offset_ms': 26412811,\n",
       "  'start_offset_sec': 26413,\n",
       "  'title': '6. Finlayson’s Map, 1747-51'},\n",
       " {'length_ms': 207126,\n",
       "  'start_offset_ms': 27000784,\n",
       "  'start_offset_sec': 27001,\n",
       "  'title': '7. Lord Elcho’s Sketch Map, Between 1747 and 1754'},\n",
       " {'length_ms': 320799,\n",
       "  'start_offset_ms': 27207910,\n",
       "  'start_offset_sec': 27208,\n",
       "  'title': '8. French Officer’s Map, About 1748'},\n",
       " {'length_ms': 204102,\n",
       "  'start_offset_ms': 27528709,\n",
       "  'start_offset_sec': 27529,\n",
       "  'title': 'Conclusion'},\n",
       " {'length_ms': 47445,\n",
       "  'start_offset_ms': 27732811,\n",
       "  'start_offset_sec': 27733,\n",
       "  'title': 'Acknowledgements'},\n",
       " {'length_ms': 2621462,\n",
       "  'start_offset_ms': 27780256,\n",
       "  'start_offset_sec': 27780,\n",
       "  'title': 'Chapter 8: Irish Intriguers and Scottish Councils: Post-Culloden Narratives and Their Recriminations'},\n",
       " {'length_ms': 250086,\n",
       "  'start_offset_ms': 30453527,\n",
       "  'start_offset_sec': 30454,\n",
       "  'title': 'The Battlefield Landscape, 1746-1846'},\n",
       " {'length_ms': 991500,\n",
       "  'start_offset_ms': 30703613,\n",
       "  'start_offset_sec': 30704,\n",
       "  'title': 'The Culloden Memorials'},\n",
       " {'length_ms': 362199,\n",
       "  'start_offset_ms': 31695113,\n",
       "  'start_offset_sec': 31695,\n",
       "  'title': 'Developments on the Battlefield, 1897-1937'},\n",
       " {'length_ms': 726588,\n",
       "  'start_offset_ms': 32057312,\n",
       "  'start_offset_sec': 32057,\n",
       "  'title': 'Restoration and Conservation of the Battlefield: The Work of the National Trust for Scotland'},\n",
       " {'length_ms': 1321740,\n",
       "  'start_offset_ms': 32961356,\n",
       "  'start_offset_sec': 32961,\n",
       "  'title': 'The ’45 and the War of the Austrian Succession'},\n",
       " {'length_ms': 1194570,\n",
       "  'start_offset_ms': 34283096,\n",
       "  'start_offset_sec': 34283,\n",
       "  'title': 'Culloden and British Politics'},\n",
       " {'length_ms': 985867,\n",
       "  'start_offset_ms': 35477666,\n",
       "  'start_offset_sec': 35478,\n",
       "  'title': 'The ’45 and the Jacobite Cause'},\n",
       " {'length_ms': 36834,\n",
       "  'start_offset_ms': 36463533,\n",
       "  'start_offset_sec': 36464,\n",
       "  'title': 'End Credits'}]"
      ]
     },
     "execution_count": null,
     "metadata": {},
     "output_type": "execute_result"
    }
   ],
   "source": [
    "newchapters"
   ]
  },
  {
   "cell_type": "code",
   "execution_count": null,
   "metadata": {},
   "outputs": [],
   "source": []
  }
 ],
 "metadata": {
  "kernelspec": {
   "display_name": "Python 3 (ipykernel)",
   "language": "python",
   "name": "python3"
  }
 },
 "nbformat": 4,
 "nbformat_minor": 4
}
