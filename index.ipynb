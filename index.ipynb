{
 "cells": [
  {
   "cell_type": "code",
   "execution_count": null,
   "metadata": {},
   "outputs": [],
   "source": [
    "#| hide\n",
    "from pynewsreader.core import *"
   ]
  },
  {
   "cell_type": "markdown",
   "metadata": {},
   "source": [
    "# pynewsreader\n",
    "\n",
    "> An easy to use news aggregator and viewer written in python \n",
    "\n",
    "NOTE: This project is under active development and the API may change quite a bit before version 0.1 ends up on Pypi. Feel free to give it a try!"
   ]
  },
  {
   "cell_type": "markdown",
   "metadata": {},
   "source": [
    "## Install"
   ]
  },
  {
   "cell_type": "markdown",
   "metadata": {},
   "source": [
    "```sh\n",
    "pip install git+https://github.com/radinplaid/pynewsreader.git\n",
    "```"
   ]
  },
  {
   "cell_type": "markdown",
   "metadata": {},
   "source": [
    "## Command Line Usage\n",
    "\n",
    "```bash\n",
    "# Show help\n",
    "pnr --help\n",
    "\n",
    "# Add a feed\n",
    "pnr add_feed https://rss.cbc.ca/lineup/world.xml\n",
    "\n",
    "# Update feed(s)\n",
    "pnr update\n",
    "\n",
    "# Show entries\n",
    "pnr show --limit 10\n",
    "\n",
    "# Search entries\n",
    "pnr search canada\n",
    "\n",
    "```"
   ]
  },
  {
   "cell_type": "markdown",
   "metadata": {},
   "source": [
    "## Web Application\n",
    "\n",
    "The main interface for viewing the RSS feeds is the Flask web application, which can be lauched from the command line:\n",
    "\n",
    "```bash\n",
    "pnr-app --host 0.0.0.0 --port 5000\n",
    "# Or\n",
    "python3 -m pynewsreader.app --host 0.0.0.0 --port 5000\n",
    "```"
   ]
  },
  {
   "cell_type": "markdown",
   "metadata": {},
   "source": [
    "## Python Usage\n"
   ]
  },
  {
   "cell_type": "markdown",
   "metadata": {},
   "source": [
    "Import and initialize pnr object"
   ]
  },
  {
   "cell_type": "code",
   "execution_count": null,
   "metadata": {},
   "outputs": [],
   "source": [
    "from pynewsreader.core import Feed, PyNewsReader\n",
    "\n",
    "pnr = PyNewsReader()"
   ]
  },
  {
   "cell_type": "markdown",
   "metadata": {},
   "source": [
    "Add a feed, and use a custom name for it"
   ]
  },
  {
   "cell_type": "code",
   "execution_count": null,
   "metadata": {},
   "outputs": [],
   "source": [
    "myfeed = Feed(\n",
    "    url=\"https://www.thestar.com/content/thestar/feed.RSSManagerServlet.articles.topstories.rss\",\n",
    "    name=\"Toronto Star | Top Stories\",\n",
    ")\n",
    "\n",
    "pnr.add_feed(myfeed)"
   ]
  },
  {
   "cell_type": "markdown",
   "metadata": {},
   "source": [
    "Update feeds"
   ]
  },
  {
   "cell_type": "code",
   "execution_count": null,
   "metadata": {},
   "outputs": [],
   "source": [
    "pnr.update()"
   ]
  },
  {
   "cell_type": "markdown",
   "metadata": {},
   "source": [
    "List entries"
   ]
  },
  {
   "cell_type": "code",
   "execution_count": null,
   "metadata": {},
   "outputs": [
    {
     "data": {
      "text/html": [
       "<pre style=\"white-space:pre;overflow-x:auto;line-height:normal;font-family:Menlo,'DejaVu Sans Mono',consolas,'Courier New',monospace\">╭────────────────────────────────────────── <span style=\"font-weight: bold\">Toronto Star | Top Stories</span> ───────────────────────────────────────────╮\n",
       "│ Title: <span style=\"font-weight: bold\">Jail where immigration detainee was held had one psychiatrist for 20 hours/week for 1,200 inmates, </span>      │\n",
       "│ <span style=\"font-weight: bold\">inquest hears</span>                                                                                                   │\n",
       "│ Date: 2023-01-27                                                                                                │\n",
       "│                                                                                                                 │\n",
       "│ Lindsay jail’s nursing staff struggled to provide sufficient care, health-care manager testifies at inquest     │\n",
       "│ into death of Abdurahman Ibrahim Hassan.                                                                        │\n",
       "│                                                                                                                 │\n",
       "╰─ <a href=\"https://www.thestar.com/news/canada/2023/01/26/jail-where-immigration-detainee-was-held-had-one-psychiatrist-for-20-hoursweek-for-1200-inmates-inquest-hears.html\" target=\"_blank\">https://www.thestar.com/news/canada/2023/01/26/jail-where-immigration-detainee-was-held-had-one-psychiatrist-f</a>─╯\n",
       "</pre>\n"
      ],
      "text/plain": [
       "╭────────────────────────────────────────── \u001b[1mToronto Star | Top Stories\u001b[0m ───────────────────────────────────────────╮\n",
       "│ Title: \u001b[1mJail where immigration detainee was held had one psychiatrist for 20 hours/week for 1,200 inmates, \u001b[0m      │\n",
       "│ \u001b[1minquest hears\u001b[0m                                                                                                   │\n",
       "│ Date: 2023-01-27                                                                                                │\n",
       "│                                                                                                                 │\n",
       "│ Lindsay jail’s nursing staff struggled to provide sufficient care, health-care manager testifies at inquest     │\n",
       "│ into death of Abdurahman Ibrahim Hassan.                                                                        │\n",
       "│                                                                                                                 │\n",
       "╰─ \u001b]8;id=240933;https://www.thestar.com/news/canada/2023/01/26/jail-where-immigration-detainee-was-held-had-one-psychiatrist-for-20-hoursweek-for-1200-inmates-inquest-hears.html\u001b\\https://www.thestar.com/news/canada/2023/01/26/jail-where-immigration-detainee-was-held-had-one-psychiatrist-f\u001b]8;;\u001b\\─╯\n"
      ]
     },
     "metadata": {},
     "output_type": "display_data"
    },
    {
     "data": {
      "text/html": [
       "<pre style=\"white-space:pre;overflow-x:auto;line-height:normal;font-family:Menlo,'DejaVu Sans Mono',consolas,'Courier New',monospace\">\n",
       "</pre>\n"
      ],
      "text/plain": [
       "\n"
      ]
     },
     "metadata": {},
     "output_type": "display_data"
    },
    {
     "data": {
      "text/html": [
       "<pre style=\"white-space:pre;overflow-x:auto;line-height:normal;font-family:Menlo,'DejaVu Sans Mono',consolas,'Courier New',monospace\">╭────────────────────────────────────────── <span style=\"font-weight: bold\">Toronto Star | Top Stories</span> ───────────────────────────────────────────╮\n",
       "│ Title: <span style=\"font-weight: bold\">Industry minister says he’s in no hurry to sign off on Rogers-Shaw merger</span>                                │\n",
       "│ Date: 2023-01-26                                                                                                │\n",
       "│                                                                                                                 │\n",
       "│ Industry Minister François-Philippe Champagne told the Star that he has looked at —but wants to more fully      │\n",
       "│ understand — Tuesday’s decision by the Federal Court of Appeal that approved the merger of the two              │\n",
       "│ communications giants.                                                                                          │\n",
       "│                                                                                                                 │\n",
       "╰─ <a href=\"https://www.thestar.com/politics/federal/2023/01/26/industry-minister-says-hes-in-no-hurry-to-sign-off-on-rogers-shaw-merger.html\" target=\"_blank\">https://www.thestar.com/politics/federal/2023/01/26/industry-minister-says-hes-in-no-hurry-to-sign-off-on-roge</a>─╯\n",
       "</pre>\n"
      ],
      "text/plain": [
       "╭────────────────────────────────────────── \u001b[1mToronto Star | Top Stories\u001b[0m ───────────────────────────────────────────╮\n",
       "│ Title: \u001b[1mIndustry minister says he’s in no hurry to sign off on Rogers-Shaw merger\u001b[0m                                │\n",
       "│ Date: 2023-01-26                                                                                                │\n",
       "│                                                                                                                 │\n",
       "│ Industry Minister François-Philippe Champagne told the Star that he has looked at —but wants to more fully      │\n",
       "│ understand — Tuesday’s decision by the Federal Court of Appeal that approved the merger of the two              │\n",
       "│ communications giants.                                                                                          │\n",
       "│                                                                                                                 │\n",
       "╰─ \u001b]8;id=794896;https://www.thestar.com/politics/federal/2023/01/26/industry-minister-says-hes-in-no-hurry-to-sign-off-on-rogers-shaw-merger.html\u001b\\https://www.thestar.com/politics/federal/2023/01/26/industry-minister-says-hes-in-no-hurry-to-sign-off-on-roge\u001b]8;;\u001b\\─╯\n"
      ]
     },
     "metadata": {},
     "output_type": "display_data"
    },
    {
     "data": {
      "text/html": [
       "<pre style=\"white-space:pre;overflow-x:auto;line-height:normal;font-family:Menlo,'DejaVu Sans Mono',consolas,'Courier New',monospace\">\n",
       "</pre>\n"
      ],
      "text/plain": [
       "\n"
      ]
     },
     "metadata": {},
     "output_type": "display_data"
    },
    {
     "data": {
      "text/html": [
       "<pre style=\"white-space:pre;overflow-x:auto;line-height:normal;font-family:Menlo,'DejaVu Sans Mono',consolas,'Courier New',monospace\">╭────────────────────────────────────────── <span style=\"font-weight: bold\">Toronto Star | Top Stories</span> ───────────────────────────────────────────╮\n",
       "│ Title: <span style=\"font-weight: bold\">Keep those shovels handy, Toronto. More snow is on the way this week</span>                                     │\n",
       "│ Date: 2023-01-26                                                                                                │\n",
       "│                                                                                                                 │\n",
       "│ After a record-breaking snowfall in Toronto and most of the GTA Wednesday night, some forecasters say the snow  │\n",
       "│ is going to stick around for a while.                                                                           │\n",
       "│                                                                                                                 │\n",
       "╰─ <a href=\"https://www.thestar.com/news/gta/2023/01/26/keep-those-shovels-handy-toronto-more-snow-is-on-the-way-this-week.html\" target=\"_blank\">https://www.thestar.com/news/gta/2023/01/26/keep-those-shovels-handy-toronto-more-snow-is-on-the-way-this-week</a>─╯\n",
       "</pre>\n"
      ],
      "text/plain": [
       "╭────────────────────────────────────────── \u001b[1mToronto Star | Top Stories\u001b[0m ───────────────────────────────────────────╮\n",
       "│ Title: \u001b[1mKeep those shovels handy, Toronto. More snow is on the way this week\u001b[0m                                     │\n",
       "│ Date: 2023-01-26                                                                                                │\n",
       "│                                                                                                                 │\n",
       "│ After a record-breaking snowfall in Toronto and most of the GTA Wednesday night, some forecasters say the snow  │\n",
       "│ is going to stick around for a while.                                                                           │\n",
       "│                                                                                                                 │\n",
       "╰─ \u001b]8;id=531436;https://www.thestar.com/news/gta/2023/01/26/keep-those-shovels-handy-toronto-more-snow-is-on-the-way-this-week.html\u001b\\https://www.thestar.com/news/gta/2023/01/26/keep-those-shovels-handy-toronto-more-snow-is-on-the-way-this-week\u001b]8;;\u001b\\─╯\n"
      ]
     },
     "metadata": {},
     "output_type": "display_data"
    },
    {
     "data": {
      "text/html": [
       "<pre style=\"white-space:pre;overflow-x:auto;line-height:normal;font-family:Menlo,'DejaVu Sans Mono',consolas,'Courier New',monospace\">\n",
       "</pre>\n"
      ],
      "text/plain": [
       "\n"
      ]
     },
     "metadata": {},
     "output_type": "display_data"
    },
    {
     "data": {
      "text/html": [
       "<pre style=\"white-space:pre;overflow-x:auto;line-height:normal;font-family:Menlo,'DejaVu Sans Mono',consolas,'Courier New',monospace\">╭────────────────────────────────────────── <span style=\"font-weight: bold\">Toronto Star | Top Stories</span> ───────────────────────────────────────────╮\n",
       "│ Title: <span style=\"font-weight: bold\">Home Depot Canada routinely shared customer data with Facebook owner, privacy commissioner finds</span>         │\n",
       "│ Date: 2023-01-26                                                                                                │\n",
       "│                                                                                                                 │\n",
       "│ Investigation finds Home Depot collected email addresses for electronic receipts and sent data to Meta without  │\n",
       "│ obtaining proper consent from customers.                                                                        │\n",
       "│                                                                                                                 │\n",
       "╰─ <a href=\"https://www.thestar.com/business/2023/01/26/home-depot-canada-routinely-shared-customer-data-with-facebook-owner-privacy-commissioner-finds.html\" target=\"_blank\">https://www.thestar.com/business/2023/01/26/home-depot-canada-routinely-shared-customer-data-with-facebook-own</a>─╯\n",
       "</pre>\n"
      ],
      "text/plain": [
       "╭────────────────────────────────────────── \u001b[1mToronto Star | Top Stories\u001b[0m ───────────────────────────────────────────╮\n",
       "│ Title: \u001b[1mHome Depot Canada routinely shared customer data with Facebook owner, privacy commissioner finds\u001b[0m         │\n",
       "│ Date: 2023-01-26                                                                                                │\n",
       "│                                                                                                                 │\n",
       "│ Investigation finds Home Depot collected email addresses for electronic receipts and sent data to Meta without  │\n",
       "│ obtaining proper consent from customers.                                                                        │\n",
       "│                                                                                                                 │\n",
       "╰─ \u001b]8;id=788593;https://www.thestar.com/business/2023/01/26/home-depot-canada-routinely-shared-customer-data-with-facebook-owner-privacy-commissioner-finds.html\u001b\\https://www.thestar.com/business/2023/01/26/home-depot-canada-routinely-shared-customer-data-with-facebook-own\u001b]8;;\u001b\\─╯\n"
      ]
     },
     "metadata": {},
     "output_type": "display_data"
    },
    {
     "data": {
      "text/html": [
       "<pre style=\"white-space:pre;overflow-x:auto;line-height:normal;font-family:Menlo,'DejaVu Sans Mono',consolas,'Courier New',monospace\">\n",
       "</pre>\n"
      ],
      "text/plain": [
       "\n"
      ]
     },
     "metadata": {},
     "output_type": "display_data"
    },
    {
     "data": {
      "text/html": [
       "<pre style=\"white-space:pre;overflow-x:auto;line-height:normal;font-family:Menlo,'DejaVu Sans Mono',consolas,'Courier New',monospace\">╭─────────────────────────────────────────────── <span style=\"font-weight: bold\">CBC | World News</span> ────────────────────────────────────────────────╮\n",
       "│ Title: <span style=\"font-weight: bold\">U.S. National Archives wants all past presidents, vice-presidents to look again for classified documents</span> │\n",
       "│ Date: 2023-01-27                                                                                                │\n",
       "│                                                                                                                 │\n",
       "│ The U.S. National Archives has asked former U.S. presidents and vice-presidents to recheck their personal       │\n",
       "│ records for any classified documents following the news that President Joe Biden and former vice-president Mike │\n",
       "│ Pence had such documents in their possession.                                                                   │\n",
       "│                                                                                                                 │\n",
       "╰─ <a href=\"https://www.cbc.ca/news/world/national-archives-classified-documents-presidents-vice-presidents-1.6727690?cmp=rss\" target=\"_blank\">https://www.cbc.ca/news/world/national-archives-classified-documents-presidents-vice-presidents-1.6727690?cmp=</a>─╯\n",
       "</pre>\n"
      ],
      "text/plain": [
       "╭─────────────────────────────────────────────── \u001b[1mCBC | World News\u001b[0m ────────────────────────────────────────────────╮\n",
       "│ Title: \u001b[1mU.S. National Archives wants all past presidents, vice-presidents to look again for classified documents\u001b[0m │\n",
       "│ Date: 2023-01-27                                                                                                │\n",
       "│                                                                                                                 │\n",
       "│ The U.S. National Archives has asked former U.S. presidents and vice-presidents to recheck their personal       │\n",
       "│ records for any classified documents following the news that President Joe Biden and former vice-president Mike │\n",
       "│ Pence had such documents in their possession.                                                                   │\n",
       "│                                                                                                                 │\n",
       "╰─ \u001b]8;id=955961;https://www.cbc.ca/news/world/national-archives-classified-documents-presidents-vice-presidents-1.6727690?cmp=rss\u001b\\https://www.cbc.ca/news/world/national-archives-classified-documents-presidents-vice-presidents-1.6727690?cmp=\u001b]8;;\u001b\\─╯\n"
      ]
     },
     "metadata": {},
     "output_type": "display_data"
    },
    {
     "data": {
      "text/html": [
       "<pre style=\"white-space:pre;overflow-x:auto;line-height:normal;font-family:Menlo,'DejaVu Sans Mono',consolas,'Courier New',monospace\">\n",
       "</pre>\n"
      ],
      "text/plain": [
       "\n"
      ]
     },
     "metadata": {},
     "output_type": "display_data"
    },
    {
     "data": {
      "text/html": [
       "<pre style=\"white-space:pre;overflow-x:auto;line-height:normal;font-family:Menlo,'DejaVu Sans Mono',consolas,'Courier New',monospace\">╭─────────────────────────────────────────────── <span style=\"font-weight: bold\">CBC | World News</span> ────────────────────────────────────────────────╮\n",
       "│ Title: <span style=\"font-weight: bold\">Court orders Detroit museum to hold onto disputed van Gogh</span>                                               │\n",
       "│ Date: 2023-01-26                                                                                                │\n",
       "│                                                                                                                 │\n",
       "│ A U.S. federal appeals court has ordered a Detroit museum to hold onto an 1888 painting by Vincent van Gogh     │\n",
       "│ amid a Brazilian collector’s dispute with the museum over the painting.                                         │\n",
       "│                                                                                                                 │\n",
       "╰──────────── <a href=\"https://www.cbc.ca/news/canada/windsor/detroit-court-vincent-van-gogh-1.6727396?cmp=rss\" target=\"_blank\">https://www.cbc.ca/news/canada/windsor/detroit-court-vincent-van-gogh-1.6727396?cmp=rss</a> ────────────╯\n",
       "</pre>\n"
      ],
      "text/plain": [
       "╭─────────────────────────────────────────────── \u001b[1mCBC | World News\u001b[0m ────────────────────────────────────────────────╮\n",
       "│ Title: \u001b[1mCourt orders Detroit museum to hold onto disputed van Gogh\u001b[0m                                               │\n",
       "│ Date: 2023-01-26                                                                                                │\n",
       "│                                                                                                                 │\n",
       "│ A U.S. federal appeals court has ordered a Detroit museum to hold onto an 1888 painting by Vincent van Gogh     │\n",
       "│ amid a Brazilian collector’s dispute with the museum over the painting.                                         │\n",
       "│                                                                                                                 │\n",
       "╰──────────── \u001b]8;id=539012;https://www.cbc.ca/news/canada/windsor/detroit-court-vincent-van-gogh-1.6727396?cmp=rss\u001b\\https://www.cbc.ca/news/canada/windsor/detroit-court-vincent-van-gogh-1.6727396?cmp=rss\u001b]8;;\u001b\\ ────────────╯\n"
      ]
     },
     "metadata": {},
     "output_type": "display_data"
    },
    {
     "data": {
      "text/html": [
       "<pre style=\"white-space:pre;overflow-x:auto;line-height:normal;font-family:Menlo,'DejaVu Sans Mono',consolas,'Courier New',monospace\">\n",
       "</pre>\n"
      ],
      "text/plain": [
       "\n"
      ]
     },
     "metadata": {},
     "output_type": "display_data"
    }
   ],
   "source": [
    "pnr.show()"
   ]
  },
  {
   "cell_type": "markdown",
   "metadata": {},
   "source": [
    "Search entries"
   ]
  },
  {
   "cell_type": "code",
   "execution_count": null,
   "metadata": {},
   "outputs": [
    {
     "data": {
      "text/html": [
       "<pre style=\"white-space:pre;overflow-x:auto;line-height:normal;font-family:Menlo,'DejaVu Sans Mono',consolas,'Courier New',monospace\">╭─────────────────────────────────────────────── <span style=\"font-weight: bold\">CBC | World News</span> ────────────────────────────────────────────────╮\n",
       "│ Title: <span style=\"font-weight: bold\">U.S. inflation rate was 6.5% in December</span>                                                                 │\n",
       "│ Date: 2023-01-12                                                                                                │\n",
       "│                                                                                                                 │\n",
       "│ The inflation rate in the U.S. decelerated to 6.5 per cent in December, mostly due to much cheaper gasoline.    │\n",
       "│                                                                                                                 │\n",
       "╰─────────────────── <a href=\"https://www.cbc.ca/news/business/us-inflation-december-1.6711469?cmp=rss\" target=\"_blank\">https://www.cbc.ca/news/business/us-inflation-december-1.6711469?cmp=rss</a> ────────────────────╯\n",
       "</pre>\n"
      ],
      "text/plain": [
       "╭─────────────────────────────────────────────── \u001b[1mCBC | World News\u001b[0m ────────────────────────────────────────────────╮\n",
       "│ Title: \u001b[1mU.S. inflation rate was 6.5% in December\u001b[0m                                                                 │\n",
       "│ Date: 2023-01-12                                                                                                │\n",
       "│                                                                                                                 │\n",
       "│ The inflation rate in the U.S. decelerated to 6.5 per cent in December, mostly due to much cheaper gasoline.    │\n",
       "│                                                                                                                 │\n",
       "╰─────────────────── \u001b]8;id=962560;https://www.cbc.ca/news/business/us-inflation-december-1.6711469?cmp=rss\u001b\\https://www.cbc.ca/news/business/us-inflation-december-1.6711469?cmp=rss\u001b]8;;\u001b\\ ────────────────────╯\n"
      ]
     },
     "metadata": {},
     "output_type": "display_data"
    },
    {
     "data": {
      "text/html": [
       "<pre style=\"white-space:pre;overflow-x:auto;line-height:normal;font-family:Menlo,'DejaVu Sans Mono',consolas,'Courier New',monospace\">\n",
       "</pre>\n"
      ],
      "text/plain": [
       "\n"
      ]
     },
     "metadata": {},
     "output_type": "display_data"
    },
    {
     "data": {
      "text/html": [
       "<pre style=\"white-space:pre;overflow-x:auto;line-height:normal;font-family:Menlo,'DejaVu Sans Mono',consolas,'Courier New',monospace\">╭────────────────────────────────────────────── <span style=\"font-weight: bold\">CBC | Business News</span> ──────────────────────────────────────────────╮\n",
       "│ Title: <span style=\"font-weight: bold\">As inflation grows, this union leader says workers have an appetite to fight for higher pay</span>              │\n",
       "│ Date: 2023-01-06                                                                                                │\n",
       "│                                                                                                                 │\n",
       "│ The Unifor national president talks inflation, the growing wealth gap and the value of a union.                 │\n",
       "│                                                                                                                 │\n",
       "╰───────── <a href=\"https://www.cbc.ca/news/canada/newfoundland-labrador/lana-payne-legislation-1.6702286?cmp=rss\" target=\"_blank\">https://www.cbc.ca/news/canada/newfoundland-labrador/lana-payne-legislation-1.6702286?cmp=rss</a> ─────────╯\n",
       "</pre>\n"
      ],
      "text/plain": [
       "╭────────────────────────────────────────────── \u001b[1mCBC | Business News\u001b[0m ──────────────────────────────────────────────╮\n",
       "│ Title: \u001b[1mAs inflation grows, this union leader says workers have an appetite to fight for higher pay\u001b[0m              │\n",
       "│ Date: 2023-01-06                                                                                                │\n",
       "│                                                                                                                 │\n",
       "│ The Unifor national president talks inflation, the growing wealth gap and the value of a union.                 │\n",
       "│                                                                                                                 │\n",
       "╰───────── \u001b]8;id=298792;https://www.cbc.ca/news/canada/newfoundland-labrador/lana-payne-legislation-1.6702286?cmp=rss\u001b\\https://www.cbc.ca/news/canada/newfoundland-labrador/lana-payne-legislation-1.6702286?cmp=rss\u001b]8;;\u001b\\ ─────────╯\n"
      ]
     },
     "metadata": {},
     "output_type": "display_data"
    },
    {
     "data": {
      "text/html": [
       "<pre style=\"white-space:pre;overflow-x:auto;line-height:normal;font-family:Menlo,'DejaVu Sans Mono',consolas,'Courier New',monospace\">\n",
       "</pre>\n"
      ],
      "text/plain": [
       "\n"
      ]
     },
     "metadata": {},
     "output_type": "display_data"
    },
    {
     "data": {
      "text/html": [
       "<pre style=\"white-space:pre;overflow-x:auto;line-height:normal;font-family:Menlo,'DejaVu Sans Mono',consolas,'Courier New',monospace\">╭─────────────────────────────────────────── <span style=\"font-weight: bold\">Toronto Star | Editorials</span> ───────────────────────────────────────────╮\n",
       "│ ❗Title: <span style=\"font-weight: bold\">With inflation easing will interest rates hikes pause?</span>                                                 │\n",
       "│ Date: 2023-01-20                                                                                                │\n",
       "│                                                                                                                 │\n",
       "│ With some welcome downward movement on inflation, let’s hope then that we’re seeing an end to the Bank of       │\n",
       "│ Canada’s string of rate hikes.                                                                                  │\n",
       "│                                                                                                                 │\n",
       "╰─ <a href=\"https://www.thestar.com/opinion/editorials/2023/01/20/with-inflation-easing-will-interest-rates-hikes-pause.html\" target=\"_blank\">https://www.thestar.com/opinion/editorials/2023/01/20/with-inflation-easing-will-interest-rates-hikes-pause.ht</a>─╯\n",
       "</pre>\n"
      ],
      "text/plain": [
       "╭─────────────────────────────────────────── \u001b[1mToronto Star | Editorials\u001b[0m ───────────────────────────────────────────╮\n",
       "│ ❗Title: \u001b[1mWith inflation easing will interest rates hikes pause?\u001b[0m                                                 │\n",
       "│ Date: 2023-01-20                                                                                                │\n",
       "│                                                                                                                 │\n",
       "│ With some welcome downward movement on inflation, let’s hope then that we’re seeing an end to the Bank of       │\n",
       "│ Canada’s string of rate hikes.                                                                                  │\n",
       "│                                                                                                                 │\n",
       "╰─ \u001b]8;id=230967;https://www.thestar.com/opinion/editorials/2023/01/20/with-inflation-easing-will-interest-rates-hikes-pause.html\u001b\\https://www.thestar.com/opinion/editorials/2023/01/20/with-inflation-easing-will-interest-rates-hikes-pause.ht\u001b]8;;\u001b\\─╯\n"
      ]
     },
     "metadata": {},
     "output_type": "display_data"
    },
    {
     "data": {
      "text/html": [
       "<pre style=\"white-space:pre;overflow-x:auto;line-height:normal;font-family:Menlo,'DejaVu Sans Mono',consolas,'Courier New',monospace\">\n",
       "</pre>\n"
      ],
      "text/plain": [
       "\n"
      ]
     },
     "metadata": {},
     "output_type": "display_data"
    },
    {
     "data": {
      "text/html": [
       "<pre style=\"white-space:pre;overflow-x:auto;line-height:normal;font-family:Menlo,'DejaVu Sans Mono',consolas,'Courier New',monospace\">╭────────────────────────────────────────────── <span style=\"font-weight: bold\">CBC | Business News</span> ──────────────────────────────────────────────╮\n",
       "│ Title: <span style=\"font-weight: bold\">Inflation rate slows to 6.3% — but groceries are still going up at nearly twice that pace</span>                │\n",
       "│ Date: 2023-01-17                                                                                                │\n",
       "│                                                                                                                 │\n",
       "│ Canada's annual inflation rate cooled to 6.3 per cent in December, its lowest level since February.             │\n",
       "│                                                                                                                 │\n",
       "╰───────────────── <a href=\"https://www.cbc.ca/news/business/canada-inflation-december-1.6716315?cmp=rss\" target=\"_blank\">https://www.cbc.ca/news/business/canada-inflation-december-1.6716315?cmp=rss</a> ──────────────────╯\n",
       "</pre>\n"
      ],
      "text/plain": [
       "╭────────────────────────────────────────────── \u001b[1mCBC | Business News\u001b[0m ──────────────────────────────────────────────╮\n",
       "│ Title: \u001b[1mInflation rate slows to 6.3% — but groceries are still going up at nearly twice that pace\u001b[0m                │\n",
       "│ Date: 2023-01-17                                                                                                │\n",
       "│                                                                                                                 │\n",
       "│ Canada's annual inflation rate cooled to 6.3 per cent in December, its lowest level since February.             │\n",
       "│                                                                                                                 │\n",
       "╰───────────────── \u001b]8;id=911558;https://www.cbc.ca/news/business/canada-inflation-december-1.6716315?cmp=rss\u001b\\https://www.cbc.ca/news/business/canada-inflation-december-1.6716315?cmp=rss\u001b]8;;\u001b\\ ──────────────────╯\n"
      ]
     },
     "metadata": {},
     "output_type": "display_data"
    },
    {
     "data": {
      "text/html": [
       "<pre style=\"white-space:pre;overflow-x:auto;line-height:normal;font-family:Menlo,'DejaVu Sans Mono',consolas,'Courier New',monospace\">\n",
       "</pre>\n"
      ],
      "text/plain": [
       "\n"
      ]
     },
     "metadata": {},
     "output_type": "display_data"
    },
    {
     "data": {
      "text/html": [
       "<pre style=\"white-space:pre;overflow-x:auto;line-height:normal;font-family:Menlo,'DejaVu Sans Mono',consolas,'Courier New',monospace\">╭──────────────────────────────────────────────── <span style=\"font-weight: bold\">Richochet Media</span> ────────────────────────────────────────────────╮\n",
       "│ Title: <span style=\"font-weight: bold\">Inflation has been especially good for Canada’s extraction industries</span>                                    │\n",
       "│ Date: Unknown                                                                                                   │\n",
       "│                                                                                                                 │\n",
       "│ While most people struggle to afford the basics, executives at Canada’s oil, gas and mining companies have      │\n",
       "│ pocketed nearly a quarter of the extra money Canadians are spending due to inflation, according to a new report │\n",
       "│ from the Canadian Centre for Po...                                                                              │\n",
       "│                                                                                                                 │\n",
       "╰───────── <a href=\"https://ricochet.media/en/3920/inflation-has-been-very-good-for-canadas-extraction-industries\" target=\"_blank\">https://ricochet.media/en/3920/inflation-has-been-very-good-for-canadas-extraction-industries</a> ─────────╯\n",
       "</pre>\n"
      ],
      "text/plain": [
       "╭──────────────────────────────────────────────── \u001b[1mRichochet Media\u001b[0m ────────────────────────────────────────────────╮\n",
       "│ Title: \u001b[1mInflation has been especially good for Canada’s extraction industries\u001b[0m                                    │\n",
       "│ Date: Unknown                                                                                                   │\n",
       "│                                                                                                                 │\n",
       "│ While most people struggle to afford the basics, executives at Canada’s oil, gas and mining companies have      │\n",
       "│ pocketed nearly a quarter of the extra money Canadians are spending due to inflation, according to a new report │\n",
       "│ from the Canadian Centre for Po...                                                                              │\n",
       "│                                                                                                                 │\n",
       "╰───────── \u001b]8;id=555516;https://ricochet.media/en/3920/inflation-has-been-very-good-for-canadas-extraction-industries\u001b\\https://ricochet.media/en/3920/inflation-has-been-very-good-for-canadas-extraction-industries\u001b]8;;\u001b\\ ─────────╯\n"
      ]
     },
     "metadata": {},
     "output_type": "display_data"
    },
    {
     "data": {
      "text/html": [
       "<pre style=\"white-space:pre;overflow-x:auto;line-height:normal;font-family:Menlo,'DejaVu Sans Mono',consolas,'Courier New',monospace\">\n",
       "</pre>\n"
      ],
      "text/plain": [
       "\n"
      ]
     },
     "metadata": {},
     "output_type": "display_data"
    },
    {
     "data": {
      "text/html": [
       "<pre style=\"white-space:pre;overflow-x:auto;line-height:normal;font-family:Menlo,'DejaVu Sans Mono',consolas,'Courier New',monospace\">╭────────────────────────────────────────────── <span style=\"font-weight: bold\">CBC | Business News</span> ──────────────────────────────────────────────╮\n",
       "│ Title: <span style=\"font-weight: bold\">Central bank offers 'rosy outlook' on recession and inflation but warns of risks and pain</span>                │\n",
       "│ Date: 2023-01-26                                                                                                │\n",
       "│                                                                                                                 │\n",
       "│ Another rate hike will make mortgages more expensive and boost the cost of lines of credit above seven per cent │\n",
       "│ but the Bank of Canada says it may have inflation licked without a deep recession. Not everyone is so sure. And │\n",
       "│ it won't be painless.                                                                                           │\n",
       "│                                                                                                                 │\n",
       "╰────────── <a href=\"https://www.cbc.ca/news/business/inflation-wages-rates-column-don-pittis-1.6722851?cmp=rss\" target=\"_blank\">https://www.cbc.ca/news/business/inflation-wages-rates-column-don-pittis-1.6722851?cmp=rss</a> ───────────╯\n",
       "</pre>\n"
      ],
      "text/plain": [
       "╭────────────────────────────────────────────── \u001b[1mCBC | Business News\u001b[0m ──────────────────────────────────────────────╮\n",
       "│ Title: \u001b[1mCentral bank offers 'rosy outlook' on recession and inflation but warns of risks and pain\u001b[0m                │\n",
       "│ Date: 2023-01-26                                                                                                │\n",
       "│                                                                                                                 │\n",
       "│ Another rate hike will make mortgages more expensive and boost the cost of lines of credit above seven per cent │\n",
       "│ but the Bank of Canada says it may have inflation licked without a deep recession. Not everyone is so sure. And │\n",
       "│ it won't be painless.                                                                                           │\n",
       "│                                                                                                                 │\n",
       "╰────────── \u001b]8;id=568842;https://www.cbc.ca/news/business/inflation-wages-rates-column-don-pittis-1.6722851?cmp=rss\u001b\\https://www.cbc.ca/news/business/inflation-wages-rates-column-don-pittis-1.6722851?cmp=rss\u001b]8;;\u001b\\ ───────────╯\n"
      ]
     },
     "metadata": {},
     "output_type": "display_data"
    },
    {
     "data": {
      "text/html": [
       "<pre style=\"white-space:pre;overflow-x:auto;line-height:normal;font-family:Menlo,'DejaVu Sans Mono',consolas,'Courier New',monospace\">\n",
       "</pre>\n"
      ],
      "text/plain": [
       "\n"
      ]
     },
     "metadata": {},
     "output_type": "display_data"
    },
    {
     "data": {
      "text/html": [
       "<pre style=\"white-space:pre;overflow-x:auto;line-height:normal;font-family:Menlo,'DejaVu Sans Mono',consolas,'Courier New',monospace\">╭──────────────────────────────────────────────── <span style=\"font-weight: bold\">Richochet Media</span> ────────────────────────────────────────────────╮\n",
       "│ Title: <span style=\"font-weight: bold\">The only real solution to surviving inflation is collective organizing</span>                                   │\n",
       "│ Date: Unknown                                                                                                   │\n",
       "│                                                                                                                 │\n",
       "│ When Teamsters Local 91 was bargaining its collective agreement with Metro for warehouse workers in Ottawa      │\n",
       "│ earlier this year, the negotiation team was able to make a number of points to the head office. One: Metro was  │\n",
       "│ having trouble retaining employe...                                                                             │\n",
       "│                                                                                                                 │\n",
       "╰───── <a href=\"https://ricochet.media/en/3914/the-only-real-solution-to-surviving-inflation-is-collective-organizing\" target=\"_blank\">https://ricochet.media/en/3914/the-only-real-solution-to-surviving-inflation-is-collective-organizing</a> ─────╯\n",
       "</pre>\n"
      ],
      "text/plain": [
       "╭──────────────────────────────────────────────── \u001b[1mRichochet Media\u001b[0m ────────────────────────────────────────────────╮\n",
       "│ Title: \u001b[1mThe only real solution to surviving inflation is collective organizing\u001b[0m                                   │\n",
       "│ Date: Unknown                                                                                                   │\n",
       "│                                                                                                                 │\n",
       "│ When Teamsters Local 91 was bargaining its collective agreement with Metro for warehouse workers in Ottawa      │\n",
       "│ earlier this year, the negotiation team was able to make a number of points to the head office. One: Metro was  │\n",
       "│ having trouble retaining employe...                                                                             │\n",
       "│                                                                                                                 │\n",
       "╰───── \u001b]8;id=127252;https://ricochet.media/en/3914/the-only-real-solution-to-surviving-inflation-is-collective-organizing\u001b\\https://ricochet.media/en/3914/the-only-real-solution-to-surviving-inflation-is-collective-organizing\u001b]8;;\u001b\\ ─────╯\n"
      ]
     },
     "metadata": {},
     "output_type": "display_data"
    },
    {
     "data": {
      "text/html": [
       "<pre style=\"white-space:pre;overflow-x:auto;line-height:normal;font-family:Menlo,'DejaVu Sans Mono',consolas,'Courier New',monospace\">\n",
       "</pre>\n"
      ],
      "text/plain": [
       "\n"
      ]
     },
     "metadata": {},
     "output_type": "display_data"
    },
    {
     "data": {
      "text/html": [
       "<pre style=\"white-space:pre;overflow-x:auto;line-height:normal;font-family:Menlo,'DejaVu Sans Mono',consolas,'Courier New',monospace\">╭─────────────────────────────────────────────────── <span style=\"font-weight: bold\">Macleans</span> ────────────────────────────────────────────────────╮\n",
       "│ Title: <span style=\"font-weight: bold\">The Year Ahead: Education in 2023</span>                                                                        │\n",
       "│ Date: 2022-12-06                                                                                                │\n",
       "│                                                                                                                 │\n",
       "│ Universities incorporating Indigenous education, inflated post-secondary grades and student protests are in     │\n",
       "│ store                                                                                                           │\n",
       "│ The post The Year Ahead: Education in 2023 appeared first on Macleans.ca.                                       │\n",
       "│                                                                                                                 │\n",
       "╰─── <a href=\"https://www.macleans.ca/year-ahead/year-ahead-education-international-students-public-school-university/\" target=\"_blank\">https://www.macleans.ca/year-ahead/year-ahead-education-international-students-public-school-university/</a> ────╯\n",
       "</pre>\n"
      ],
      "text/plain": [
       "╭─────────────────────────────────────────────────── \u001b[1mMacleans\u001b[0m ────────────────────────────────────────────────────╮\n",
       "│ Title: \u001b[1mThe Year Ahead: Education in 2023\u001b[0m                                                                        │\n",
       "│ Date: 2022-12-06                                                                                                │\n",
       "│                                                                                                                 │\n",
       "│ Universities incorporating Indigenous education, inflated post-secondary grades and student protests are in     │\n",
       "│ store                                                                                                           │\n",
       "│ The post The Year Ahead: Education in 2023 appeared first on Macleans.ca.                                       │\n",
       "│                                                                                                                 │\n",
       "╰─── \u001b]8;id=186987;https://www.macleans.ca/year-ahead/year-ahead-education-international-students-public-school-university/\u001b\\https://www.macleans.ca/year-ahead/year-ahead-education-international-students-public-school-university/\u001b]8;;\u001b\\ ────╯\n"
      ]
     },
     "metadata": {},
     "output_type": "display_data"
    },
    {
     "data": {
      "text/html": [
       "<pre style=\"white-space:pre;overflow-x:auto;line-height:normal;font-family:Menlo,'DejaVu Sans Mono',consolas,'Courier New',monospace\">\n",
       "</pre>\n"
      ],
      "text/plain": [
       "\n"
      ]
     },
     "metadata": {},
     "output_type": "display_data"
    },
    {
     "data": {
      "text/html": [
       "<pre style=\"white-space:pre;overflow-x:auto;line-height:normal;font-family:Menlo,'DejaVu Sans Mono',consolas,'Courier New',monospace\">╭────────────────────────────────────────── <span style=\"font-weight: bold\">Toronto Star | Top Stories</span> ───────────────────────────────────────────╮\n",
       "│ Title: <span style=\"font-weight: bold\">Chrystia Freeland rejects critical report, says Canada has economic ‘strength’</span>                           │\n",
       "│ Date: 2023-01-24                                                                                                │\n",
       "│                                                                                                                 │\n",
       "│ Faced with warnings of a possible recession, inflation and still-rising interest rates, the Liberal government  │\n",
       "│ sought Tuesday to reassure Canadians it will keep its big-ticket promises as well as get its fiscal house in    │\n",
       "│ order.                                                                                                          │\n",
       "│                                                                                                                 │\n",
       "╰─ <a href=\"https://www.thestar.com/politics/federal/2023/01/24/chrystia-freeland-rejects-critical-report-says-canada-has-economic-strength.html\" target=\"_blank\">https://www.thestar.com/politics/federal/2023/01/24/chrystia-freeland-rejects-critical-report-says-canada-has-</a>─╯\n",
       "</pre>\n"
      ],
      "text/plain": [
       "╭────────────────────────────────────────── \u001b[1mToronto Star | Top Stories\u001b[0m ───────────────────────────────────────────╮\n",
       "│ Title: \u001b[1mChrystia Freeland rejects critical report, says Canada has economic ‘strength’\u001b[0m                           │\n",
       "│ Date: 2023-01-24                                                                                                │\n",
       "│                                                                                                                 │\n",
       "│ Faced with warnings of a possible recession, inflation and still-rising interest rates, the Liberal government  │\n",
       "│ sought Tuesday to reassure Canadians it will keep its big-ticket promises as well as get its fiscal house in    │\n",
       "│ order.                                                                                                          │\n",
       "│                                                                                                                 │\n",
       "╰─ \u001b]8;id=972209;https://www.thestar.com/politics/federal/2023/01/24/chrystia-freeland-rejects-critical-report-says-canada-has-economic-strength.html\u001b\\https://www.thestar.com/politics/federal/2023/01/24/chrystia-freeland-rejects-critical-report-says-canada-has-\u001b]8;;\u001b\\─╯\n"
      ]
     },
     "metadata": {},
     "output_type": "display_data"
    },
    {
     "data": {
      "text/html": [
       "<pre style=\"white-space:pre;overflow-x:auto;line-height:normal;font-family:Menlo,'DejaVu Sans Mono',consolas,'Courier New',monospace\">\n",
       "</pre>\n"
      ],
      "text/plain": [
       "\n"
      ]
     },
     "metadata": {},
     "output_type": "display_data"
    },
    {
     "data": {
      "text/html": [
       "<pre style=\"white-space:pre;overflow-x:auto;line-height:normal;font-family:Menlo,'DejaVu Sans Mono',consolas,'Courier New',monospace\">╭────────────────────────────────────────────── <span style=\"font-weight: bold\">CBC | Business News</span> ──────────────────────────────────────────────╮\n",
       "│ Title: <span style=\"font-weight: bold\">New paradigm means markets may fall with the economy as stimulus runs out</span>                                │\n",
       "│ Date: 2023-01-06                                                                                                │\n",
       "│                                                                                                                 │\n",
       "│ Not long ago it seemed that even as the economy slumped, owners of stocks, bonds and houses only got richer.    │\n",
       "│ But as central banks battle inflation and governments rein in stimulus spending, the rules have changed.        │\n",
       "│                                                                                                                 │\n",
       "╰───────────── <a href=\"https://www.cbc.ca/news/business/market-inflation-column-don-pittis-1.6702103?cmp=rss\" target=\"_blank\">https://www.cbc.ca/news/business/market-inflation-column-don-pittis-1.6702103?cmp=rss</a> ─────────────╯\n",
       "</pre>\n"
      ],
      "text/plain": [
       "╭────────────────────────────────────────────── \u001b[1mCBC | Business News\u001b[0m ──────────────────────────────────────────────╮\n",
       "│ Title: \u001b[1mNew paradigm means markets may fall with the economy as stimulus runs out\u001b[0m                                │\n",
       "│ Date: 2023-01-06                                                                                                │\n",
       "│                                                                                                                 │\n",
       "│ Not long ago it seemed that even as the economy slumped, owners of stocks, bonds and houses only got richer.    │\n",
       "│ But as central banks battle inflation and governments rein in stimulus spending, the rules have changed.        │\n",
       "│                                                                                                                 │\n",
       "╰───────────── \u001b]8;id=366320;https://www.cbc.ca/news/business/market-inflation-column-don-pittis-1.6702103?cmp=rss\u001b\\https://www.cbc.ca/news/business/market-inflation-column-don-pittis-1.6702103?cmp=rss\u001b]8;;\u001b\\ ─────────────╯\n"
      ]
     },
     "metadata": {},
     "output_type": "display_data"
    },
    {
     "data": {
      "text/html": [
       "<pre style=\"white-space:pre;overflow-x:auto;line-height:normal;font-family:Menlo,'DejaVu Sans Mono',consolas,'Courier New',monospace\">\n",
       "</pre>\n"
      ],
      "text/plain": [
       "\n"
      ]
     },
     "metadata": {},
     "output_type": "display_data"
    }
   ],
   "source": [
    "pnr.search(\"inflation\")"
   ]
  },
  {
   "cell_type": "code",
   "execution_count": null,
   "metadata": {},
   "outputs": [],
   "source": [
    "# | hide\n",
    "import nbdev\n",
    "\n",
    "nbdev.nbdev_export()"
   ]
  }
 ],
 "metadata": {
  "kernelspec": {
   "display_name": "Python 3 (ipykernel)",
   "language": "python",
   "name": "python3"
  }
 },
 "nbformat": 4,
 "nbformat_minor": 4
}
