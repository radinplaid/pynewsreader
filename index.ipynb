{
 "cells": [
  {
   "cell_type": "code",
   "execution_count": null,
   "metadata": {},
   "outputs": [],
   "source": [
    "#| hide\n",
    "from pynewsreader.core import *"
   ]
  },
  {
   "cell_type": "markdown",
   "metadata": {},
   "source": [
    "# pynewsreader\n",
    "\n",
    "> An easy to use news aggregator and viewer written in python "
   ]
  },
  {
   "cell_type": "markdown",
   "metadata": {},
   "source": [
    "## Install"
   ]
  },
  {
   "cell_type": "markdown",
   "metadata": {},
   "source": [
    "```sh\n",
    "pip install git+https://github.com/radinplaid/pynewsreader.git\n",
    "```"
   ]
  },
  {
   "cell_type": "markdown",
   "metadata": {},
   "source": [
    "## Command Line Usage\n",
    "\n",
    "```bash\n",
    "# Show help\n",
    "pnr --help\n",
    "\n",
    "# Add a feed\n",
    "pnr add_feed https://rss.cbc.ca/lineup/world.xml\n",
    "\n",
    "# Update feed(s)\n",
    "pnr update\n",
    "\n",
    "# Show entries\n",
    "pnr show --limit 10\n",
    "\n",
    "# Search entries\n",
    "pnr search canada\n",
    "\n",
    "```"
   ]
  },
  {
   "cell_type": "markdown",
   "metadata": {},
   "source": [
    "## Python Usage\n"
   ]
  },
  {
   "cell_type": "markdown",
   "metadata": {},
   "source": [
    "Import and initialize pnr object"
   ]
  },
  {
   "cell_type": "code",
   "execution_count": null,
   "metadata": {},
   "outputs": [],
   "source": [
    "from pynewsreader.core import Feed, PyNewsReader\n",
    "\n",
    "pnr = PyNewsReader()"
   ]
  },
  {
   "cell_type": "markdown",
   "metadata": {},
   "source": [
    "Add a feed, and use a custom name for it"
   ]
  },
  {
   "cell_type": "code",
   "execution_count": null,
   "metadata": {},
   "outputs": [],
   "source": [
    "myfeed = Feed(\n",
    "    url=\"https://www.thestar.com/content/thestar/feed.RSSManagerServlet.articles.topstories.rss\",\n",
    "    name=\"Toronto Star | Top Stories\",\n",
    ")\n",
    "\n",
    "pnr.add_feed(myfeed)"
   ]
  },
  {
   "cell_type": "markdown",
   "metadata": {},
   "source": [
    "Update feeds"
   ]
  },
  {
   "cell_type": "code",
   "execution_count": null,
   "metadata": {},
   "outputs": [],
   "source": [
    "pnr.update()"
   ]
  },
  {
   "cell_type": "markdown",
   "metadata": {},
   "source": [
    "List entries"
   ]
  },
  {
   "cell_type": "code",
   "execution_count": null,
   "metadata": {},
   "outputs": [
    {
     "data": {
      "text/html": [
       "<pre style=\"white-space:pre;overflow-x:auto;line-height:normal;font-family:Menlo,'DejaVu Sans Mono',consolas,'Courier New',monospace\">╭──────────────────────────────────────────── <span style=\"font-weight: bold\">CBC | Top Stories News</span> ─────────────────────────────────────────────╮\n",
       "│ Title: <span style=\"font-weight: bold\">The Garage Gang: Four decades of square dancing, mischief and friendship on P.E.I.</span>                       │\n",
       "│ Date: 2023-01-08                                                                                                │\n",
       "│                                                                                                                 │\n",
       "│ A group of Islanders have been meeting up regularly for 40 years, their bond withstanding the test of time and  │\n",
       "│ life’s hardships.                                                                                               │\n",
       "│                                                                                                                 │\n",
       "╰── <a href=\"https://www.cbc.ca/news/canada/prince-edward-island/garage-gang-square-dancing-friendship-1.6699472?cmp=rss\" target=\"_blank\">https://www.cbc.ca/news/canada/prince-edward-island/garage-gang-square-dancing-friendship-1.6699472?cmp=rss</a> ──╯\n",
       "</pre>\n"
      ],
      "text/plain": [
       "╭──────────────────────────────────────────── \u001b[1mCBC | Top Stories News\u001b[0m ─────────────────────────────────────────────╮\n",
       "│ Title: \u001b[1mThe Garage Gang: Four decades of square dancing, mischief and friendship on P.E.I.\u001b[0m                       │\n",
       "│ Date: 2023-01-08                                                                                                │\n",
       "│                                                                                                                 │\n",
       "│ A group of Islanders have been meeting up regularly for 40 years, their bond withstanding the test of time and  │\n",
       "│ life’s hardships.                                                                                               │\n",
       "│                                                                                                                 │\n",
       "╰── \u001b]8;id=416729;https://www.cbc.ca/news/canada/prince-edward-island/garage-gang-square-dancing-friendship-1.6699472?cmp=rss\u001b\\https://www.cbc.ca/news/canada/prince-edward-island/garage-gang-square-dancing-friendship-1.6699472?cmp=rss\u001b]8;;\u001b\\ ──╯\n"
      ]
     },
     "metadata": {},
     "output_type": "display_data"
    },
    {
     "data": {
      "text/html": [
       "<pre style=\"white-space:pre;overflow-x:auto;line-height:normal;font-family:Menlo,'DejaVu Sans Mono',consolas,'Courier New',monospace\">\n",
       "</pre>\n"
      ],
      "text/plain": [
       "\n"
      ]
     },
     "metadata": {},
     "output_type": "display_data"
    },
    {
     "data": {
      "text/html": [
       "<pre style=\"white-space:pre;overflow-x:auto;line-height:normal;font-family:Menlo,'DejaVu Sans Mono',consolas,'Courier New',monospace\">╭──────────────────────────────────────────── <span style=\"font-weight: bold\">CBC | Top Stories News</span> ─────────────────────────────────────────────╮\n",
       "│ Title: <span style=\"font-weight: bold\">Book recovered from Franklin ship could show whether other written items are salvageable, historian says</span> │\n",
       "│ Date: 2023-01-08                                                                                                │\n",
       "│                                                                                                                 │\n",
       "│ A leather-bound folio found one of Capt. John Franklin's doomed Arctic ships might show how recoverable other   │\n",
       "│ documents might be in future searches, according to historian Ken McGoogan.                                     │\n",
       "│                                                                                                                 │\n",
       "╰──── <a href=\"https://www.cbc.ca/news/canada/north/2022-excavation-franklin-ship-northwest-passage-1.6703841?cmp=rss\" target=\"_blank\">https://www.cbc.ca/news/canada/north/2022-excavation-franklin-ship-northwest-passage-1.6703841?cmp=rss</a> ─────╯\n",
       "</pre>\n"
      ],
      "text/plain": [
       "╭──────────────────────────────────────────── \u001b[1mCBC | Top Stories News\u001b[0m ─────────────────────────────────────────────╮\n",
       "│ Title: \u001b[1mBook recovered from Franklin ship could show whether other written items are salvageable, historian says\u001b[0m │\n",
       "│ Date: 2023-01-08                                                                                                │\n",
       "│                                                                                                                 │\n",
       "│ A leather-bound folio found one of Capt. John Franklin's doomed Arctic ships might show how recoverable other   │\n",
       "│ documents might be in future searches, according to historian Ken McGoogan.                                     │\n",
       "│                                                                                                                 │\n",
       "╰──── \u001b]8;id=213221;https://www.cbc.ca/news/canada/north/2022-excavation-franklin-ship-northwest-passage-1.6703841?cmp=rss\u001b\\https://www.cbc.ca/news/canada/north/2022-excavation-franklin-ship-northwest-passage-1.6703841?cmp=rss\u001b]8;;\u001b\\ ─────╯\n"
      ]
     },
     "metadata": {},
     "output_type": "display_data"
    },
    {
     "data": {
      "text/html": [
       "<pre style=\"white-space:pre;overflow-x:auto;line-height:normal;font-family:Menlo,'DejaVu Sans Mono',consolas,'Courier New',monospace\">\n",
       "</pre>\n"
      ],
      "text/plain": [
       "\n"
      ]
     },
     "metadata": {},
     "output_type": "display_data"
    },
    {
     "data": {
      "text/html": [
       "<pre style=\"white-space:pre;overflow-x:auto;line-height:normal;font-family:Menlo,'DejaVu Sans Mono',consolas,'Courier New',monospace\">╭───────────────────────────────────────────────── <span style=\"font-weight: bold\">The Guardian</span> ──────────────────────────────────────────────────╮\n",
       "│ Title: <span style=\"font-weight: bold\">Tory right warns Sunak: this is calm before storm over small boats and Brexit</span>                            │\n",
       "│ Date: 2023-01-08                                                                                                │\n",
       "│                                                                                                                 │\n",
       "│ As the PM tries to move on from ‘perma-crisis’, agitated former ministers promise big trouble aheadSenior       │\n",
       "│ Tories are warning Rishi Sunak that he is enjoying the “calm before the storm”, with his own MPs already        │\n",
       "│ plotting to tackle him over immigration and a beleaguered plan to secure “Brexit freedoms”.The prime minister   │\n",
       "│ spent Saturday attempting to show his commitment to easing the crisis in the NHS – one of the five pledges he   │\n",
       "│ made in his new year’s speech – by holding a summit with health services figures. Delays to discharging people  │\n",
       "│ from hospital, social care shortages, an A&amp;E crisis and waiting lists were all discussed at the “NHS recovery   │\n",
       "│ forum”. Sunak told those attending that “boldness and radicalism” would be needed to solve the pressures.       │\n",
       "│ Continue reading...                                                                                             │\n",
       "│                                                                                                                 │\n",
       "╰─ <a href=\"https://www.theguardian.com/politics/2023/jan/08/tory-right-warns-sunak-calm-before-storm-small-boats-brexit\" target=\"_blank\">https://www.theguardian.com/politics/2023/jan/08/tory-right-warns-sunak-calm-before-storm-small-boats-brexit</a> ──╯\n",
       "</pre>\n"
      ],
      "text/plain": [
       "╭───────────────────────────────────────────────── \u001b[1mThe Guardian\u001b[0m ──────────────────────────────────────────────────╮\n",
       "│ Title: \u001b[1mTory right warns Sunak: this is calm before storm over small boats and Brexit\u001b[0m                            │\n",
       "│ Date: 2023-01-08                                                                                                │\n",
       "│                                                                                                                 │\n",
       "│ As the PM tries to move on from ‘perma-crisis’, agitated former ministers promise big trouble aheadSenior       │\n",
       "│ Tories are warning Rishi Sunak that he is enjoying the “calm before the storm”, with his own MPs already        │\n",
       "│ plotting to tackle him over immigration and a beleaguered plan to secure “Brexit freedoms”.The prime minister   │\n",
       "│ spent Saturday attempting to show his commitment to easing the crisis in the NHS – one of the five pledges he   │\n",
       "│ made in his new year’s speech – by holding a summit with health services figures. Delays to discharging people  │\n",
       "│ from hospital, social care shortages, an A&E crisis and waiting lists were all discussed at the “NHS recovery   │\n",
       "│ forum”. Sunak told those attending that “boldness and radicalism” would be needed to solve the pressures.       │\n",
       "│ Continue reading...                                                                                             │\n",
       "│                                                                                                                 │\n",
       "╰─ \u001b]8;id=648676;https://www.theguardian.com/politics/2023/jan/08/tory-right-warns-sunak-calm-before-storm-small-boats-brexit\u001b\\https://www.theguardian.com/politics/2023/jan/08/tory-right-warns-sunak-calm-before-storm-small-boats-brexit\u001b]8;;\u001b\\ ──╯\n"
      ]
     },
     "metadata": {},
     "output_type": "display_data"
    },
    {
     "data": {
      "text/html": [
       "<pre style=\"white-space:pre;overflow-x:auto;line-height:normal;font-family:Menlo,'DejaVu Sans Mono',consolas,'Courier New',monospace\">\n",
       "</pre>\n"
      ],
      "text/plain": [
       "\n"
      ]
     },
     "metadata": {},
     "output_type": "display_data"
    },
    {
     "data": {
      "text/html": [
       "<pre style=\"white-space:pre;overflow-x:auto;line-height:normal;font-family:Menlo,'DejaVu Sans Mono',consolas,'Courier New',monospace\">╭───────────────────────────────────────────────── <span style=\"font-weight: bold\">The Guardian</span> ──────────────────────────────────────────────────╮\n",
       "│ Title: <span style=\"font-weight: bold\">Russia and Belarus extend military drills amid fears of new push into Ukraine</span>                            │\n",
       "│ Date: 2023-01-08                                                                                                │\n",
       "│                                                                                                                 │\n",
       "│ Weapons, soldiers and equipment added to exercises, as concern grows Minsk is being pressured to join           │\n",
       "│ warRussia-Ukraine war – latest news updatesRussia and Belarus have expanded their joint military training       │\n",
       "│ exercises in Belarus, the country’s defence TV channel said on Sunday, as concern grows that Moscow is          │\n",
       "│ pressuring its closest ally to join the war in Ukraine.The two countries added weapons, soldiers and            │\n",
       "│ specialised equipment to the exercises and were doing drills drawing on Russian experience in Ukraine, Reuters  │\n",
       "│ reported. Continue reading...                                                                                   │\n",
       "│                                                                                                                 │\n",
       "╰── <a href=\"https://www.theguardian.com/world/2023/jan/08/russia-belarus-extend-military-drills-fears-new-push-ukraine\" target=\"_blank\">https://www.theguardian.com/world/2023/jan/08/russia-belarus-extend-military-drills-fears-new-push-ukraine</a> ───╯\n",
       "</pre>\n"
      ],
      "text/plain": [
       "╭───────────────────────────────────────────────── \u001b[1mThe Guardian\u001b[0m ──────────────────────────────────────────────────╮\n",
       "│ Title: \u001b[1mRussia and Belarus extend military drills amid fears of new push into Ukraine\u001b[0m                            │\n",
       "│ Date: 2023-01-08                                                                                                │\n",
       "│                                                                                                                 │\n",
       "│ Weapons, soldiers and equipment added to exercises, as concern grows Minsk is being pressured to join           │\n",
       "│ warRussia-Ukraine war – latest news updatesRussia and Belarus have expanded their joint military training       │\n",
       "│ exercises in Belarus, the country’s defence TV channel said on Sunday, as concern grows that Moscow is          │\n",
       "│ pressuring its closest ally to join the war in Ukraine.The two countries added weapons, soldiers and            │\n",
       "│ specialised equipment to the exercises and were doing drills drawing on Russian experience in Ukraine, Reuters  │\n",
       "│ reported. Continue reading...                                                                                   │\n",
       "│                                                                                                                 │\n",
       "╰── \u001b]8;id=711975;https://www.theguardian.com/world/2023/jan/08/russia-belarus-extend-military-drills-fears-new-push-ukraine\u001b\\https://www.theguardian.com/world/2023/jan/08/russia-belarus-extend-military-drills-fears-new-push-ukraine\u001b]8;;\u001b\\ ───╯\n"
      ]
     },
     "metadata": {},
     "output_type": "display_data"
    },
    {
     "data": {
      "text/html": [
       "<pre style=\"white-space:pre;overflow-x:auto;line-height:normal;font-family:Menlo,'DejaVu Sans Mono',consolas,'Courier New',monospace\">\n",
       "</pre>\n"
      ],
      "text/plain": [
       "\n"
      ]
     },
     "metadata": {},
     "output_type": "display_data"
    },
    {
     "data": {
      "text/html": [
       "<pre style=\"white-space:pre;overflow-x:auto;line-height:normal;font-family:Menlo,'DejaVu Sans Mono',consolas,'Courier New',monospace\">╭───────────────────────────────────────────────── <span style=\"font-weight: bold\">The Guardian</span> ──────────────────────────────────────────────────╮\n",
       "│ Title: <span style=\"font-weight: bold\">Russia-Ukraine war: Moscow’s ceasefire ends with no let up in fighting; Ukraine strikes power plants in </span> │\n",
       "│ <span style=\"font-weight: bold\">Donetsk, officials say – live</span>                                                                                   │\n",
       "│ Date: 2023-01-08                                                                                                │\n",
       "│                                                                                                                 │\n",
       "│ Russian attacks reported in at least seven Ukraine regions despite Putin’s ceasefire pledge; shelling           │\n",
       "│ reportedly damages power plants in Moscow-controlled regionWhat we know on day 319 of the invasionOne person    │\n",
       "│ was killed as a result of the attack on the Starobesheve power plant in Novyi Svit, Russia’s state Tass news    │\n",
       "│ agency said on Sunday.The thermal power plant was one of two in part of Ukraine’s Donetsk region that is        │\n",
       "│ controlled by Russian forces that were damaged in a rocket attack by the Ukrainian army, Moscow-installed       │\n",
       "│ officials said.The body of one dead woman was extracted from under the rubble at the plant.The tasks set by the │\n",
       "│ president (Putin) for the special military operation will still be fulfilled.And there definitely will be a     │\n",
       "│ victory. Continue reading...                                                                                    │\n",
       "│                                                                                                                 │\n",
       "╰─ <a href=\"https://www.theguardian.com/world/live/2023/jan/08/russia-ukraine-war-moscows-ceasefire-ends-with-no-let-up-in-fighting-ukraine-strikes-power-plants-in-donetsk-officials-say-live\" target=\"_blank\">https://www.theguardian.com/world/live/2023/jan/08/russia-ukraine-war-moscows-ceasefire-ends-with-no-let-up-in</a>─╯\n",
       "</pre>\n"
      ],
      "text/plain": [
       "╭───────────────────────────────────────────────── \u001b[1mThe Guardian\u001b[0m ──────────────────────────────────────────────────╮\n",
       "│ Title: \u001b[1mRussia-Ukraine war: Moscow’s ceasefire ends with no let up in fighting; Ukraine strikes power plants in \u001b[0m │\n",
       "│ \u001b[1mDonetsk, officials say – live\u001b[0m                                                                                   │\n",
       "│ Date: 2023-01-08                                                                                                │\n",
       "│                                                                                                                 │\n",
       "│ Russian attacks reported in at least seven Ukraine regions despite Putin’s ceasefire pledge; shelling           │\n",
       "│ reportedly damages power plants in Moscow-controlled regionWhat we know on day 319 of the invasionOne person    │\n",
       "│ was killed as a result of the attack on the Starobesheve power plant in Novyi Svit, Russia’s state Tass news    │\n",
       "│ agency said on Sunday.The thermal power plant was one of two in part of Ukraine’s Donetsk region that is        │\n",
       "│ controlled by Russian forces that were damaged in a rocket attack by the Ukrainian army, Moscow-installed       │\n",
       "│ officials said.The body of one dead woman was extracted from under the rubble at the plant.The tasks set by the │\n",
       "│ president (Putin) for the special military operation will still be fulfilled.And there definitely will be a     │\n",
       "│ victory. Continue reading...                                                                                    │\n",
       "│                                                                                                                 │\n",
       "╰─ \u001b]8;id=539241;https://www.theguardian.com/world/live/2023/jan/08/russia-ukraine-war-moscows-ceasefire-ends-with-no-let-up-in-fighting-ukraine-strikes-power-plants-in-donetsk-officials-say-live\u001b\\https://www.theguardian.com/world/live/2023/jan/08/russia-ukraine-war-moscows-ceasefire-ends-with-no-let-up-in\u001b]8;;\u001b\\─╯\n"
      ]
     },
     "metadata": {},
     "output_type": "display_data"
    },
    {
     "data": {
      "text/html": [
       "<pre style=\"white-space:pre;overflow-x:auto;line-height:normal;font-family:Menlo,'DejaVu Sans Mono',consolas,'Courier New',monospace\">\n",
       "</pre>\n"
      ],
      "text/plain": [
       "\n"
      ]
     },
     "metadata": {},
     "output_type": "display_data"
    },
    {
     "data": {
      "text/html": [
       "<pre style=\"white-space:pre;overflow-x:auto;line-height:normal;font-family:Menlo,'DejaVu Sans Mono',consolas,'Courier New',monospace\">╭───────────────────────────────────────────────── <span style=\"font-weight: bold\">The Guardian</span> ──────────────────────────────────────────────────╮\n",
       "│ Title: <span style=\"font-weight: bold\">Officer arrested after car crash kills two innocent teenagers during police chase</span>                        │\n",
       "│ Date: 2023-01-08                                                                                                │\n",
       "│                                                                                                                 │\n",
       "│ Maggie Dunn, 17, and Caroline Gill, 16, died in collision as chased suspected car thief in Louisiana townIt was │\n",
       "│ a tragically high price to pay for catching a suspected car thief: two innocent teenagers dead and a police     │\n",
       "│ officer jailed, facing serious charges for a car crash that resulted from the pursuit.Maggie Dunn, 17, and      │\n",
       "│ Caroline Gill, 16, who were cheerleaders for their high school in the southern Louisiana town of Brusly, died   │\n",
       "│ in the collision on 31 December. They’re the latest fatalities among hundreds every year attributed to          │\n",
       "│ accidents involving police pursuits in the US. Continue reading...                                              │\n",
       "│                                                                                                                 │\n",
       "╰──── <a href=\"https://www.theguardian.com/us-news/2023/jan/08/officer-arrested-police-chase-car-crash-kills-two-teens\" target=\"_blank\">https://www.theguardian.com/us-news/2023/jan/08/officer-arrested-police-chase-car-crash-kills-two-teens</a> ────╯\n",
       "</pre>\n"
      ],
      "text/plain": [
       "╭───────────────────────────────────────────────── \u001b[1mThe Guardian\u001b[0m ──────────────────────────────────────────────────╮\n",
       "│ Title: \u001b[1mOfficer arrested after car crash kills two innocent teenagers during police chase\u001b[0m                        │\n",
       "│ Date: 2023-01-08                                                                                                │\n",
       "│                                                                                                                 │\n",
       "│ Maggie Dunn, 17, and Caroline Gill, 16, died in collision as chased suspected car thief in Louisiana townIt was │\n",
       "│ a tragically high price to pay for catching a suspected car thief: two innocent teenagers dead and a police     │\n",
       "│ officer jailed, facing serious charges for a car crash that resulted from the pursuit.Maggie Dunn, 17, and      │\n",
       "│ Caroline Gill, 16, who were cheerleaders for their high school in the southern Louisiana town of Brusly, died   │\n",
       "│ in the collision on 31 December. They’re the latest fatalities among hundreds every year attributed to          │\n",
       "│ accidents involving police pursuits in the US. Continue reading...                                              │\n",
       "│                                                                                                                 │\n",
       "╰──── \u001b]8;id=702283;https://www.theguardian.com/us-news/2023/jan/08/officer-arrested-police-chase-car-crash-kills-two-teens\u001b\\https://www.theguardian.com/us-news/2023/jan/08/officer-arrested-police-chase-car-crash-kills-two-teens\u001b]8;;\u001b\\ ────╯\n"
      ]
     },
     "metadata": {},
     "output_type": "display_data"
    },
    {
     "data": {
      "text/html": [
       "<pre style=\"white-space:pre;overflow-x:auto;line-height:normal;font-family:Menlo,'DejaVu Sans Mono',consolas,'Courier New',monospace\">\n",
       "</pre>\n"
      ],
      "text/plain": [
       "\n"
      ]
     },
     "metadata": {},
     "output_type": "display_data"
    }
   ],
   "source": [
    "pnr.show()"
   ]
  },
  {
   "cell_type": "markdown",
   "metadata": {},
   "source": [
    "Search entries"
   ]
  },
  {
   "cell_type": "code",
   "execution_count": null,
   "metadata": {},
   "outputs": [],
   "source": [
    "import datetime\n",
    "import dateutil\n",
    "import pytz\n",
    "test = [i for i in pnr._reader.get_entries(limit=10)][0]"
   ]
  },
  {
   "cell_type": "code",
   "execution_count": null,
   "metadata": {},
   "outputs": [
    {
     "data": {
      "text/plain": [
       "datetime.datetime(2023, 1, 6, 0, 0, tzinfo=<UTC>)"
      ]
     },
     "execution_count": null,
     "metadata": {},
     "output_type": "execute_result"
    }
   ],
   "source": [
    "dateutil.parser.parse(\"2023-01-06\").replace(tzinfo=pytz.UTC)"
   ]
  },
  {
   "cell_type": "code",
   "execution_count": null,
   "metadata": {},
   "outputs": [
    {
     "data": {
      "text/plain": [
       "datetime.datetime(2023, 2, 2, 0, 0)"
      ]
     },
     "execution_count": null,
     "metadata": {},
     "output_type": "execute_result"
    }
   ],
   "source": [
    "dateutil.parser.parse(\"2023-02-02\")"
   ]
  },
  {
   "cell_type": "code",
   "execution_count": null,
   "metadata": {},
   "outputs": [
    {
     "data": {
      "text/plain": [
       "'https://www.theguardian.com/commentisfree/all/rss'"
      ]
     },
     "execution_count": null,
     "metadata": {},
     "output_type": "execute_result"
    }
   ],
   "source": [
    "test.feed.url"
   ]
  },
  {
   "cell_type": "code",
   "execution_count": null,
   "metadata": {},
   "outputs": [
    {
     "data": {
      "text/plain": [
       "'The Guardian'"
      ]
     },
     "execution_count": null,
     "metadata": {},
     "output_type": "execute_result"
    }
   ],
   "source": [
    "test.feed.title"
   ]
  },
  {
   "cell_type": "code",
   "execution_count": null,
   "metadata": {},
   "outputs": [],
   "source": []
  }
 ],
 "metadata": {
  "kernelspec": {
   "display_name": "Python 3 (ipykernel)",
   "language": "python",
   "name": "python3"
  }
 },
 "nbformat": 4,
 "nbformat_minor": 4
}
