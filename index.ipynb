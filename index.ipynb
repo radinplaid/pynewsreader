{
 "cells": [
  {
   "cell_type": "code",
   "execution_count": null,
   "metadata": {},
   "outputs": [],
   "source": [
    "#| hide\n",
    "from pynewsreader.core import *"
   ]
  },
  {
   "cell_type": "markdown",
   "metadata": {},
   "source": [
    "# pynewsreader\n",
    "\n",
    "> An easy to use news aggregator and viewer written in python \n",
    "\n",
    "NOTE: This project is under active development and the API may change quite a bit before version 0.1 ends up on Pypi. Feel free to give it a try!"
   ]
  },
  {
   "cell_type": "markdown",
   "metadata": {},
   "source": [
    "## Install"
   ]
  },
  {
   "cell_type": "markdown",
   "metadata": {},
   "source": [
    "```sh\n",
    "pip install git+https://github.com/radinplaid/pynewsreader.git\n",
    "```"
   ]
  },
  {
   "cell_type": "markdown",
   "metadata": {},
   "source": [
    "## Command Line Usage\n",
    "\n",
    "```bash\n",
    "# Show help\n",
    "pnr --help\n",
    "\n",
    "# Add a feed\n",
    "pnr add_feed https://rss.cbc.ca/lineup/world.xml\n",
    "\n",
    "# Update feed(s)\n",
    "pnr update\n",
    "\n",
    "# Show entries\n",
    "pnr show --limit 10\n",
    "\n",
    "# Search entries\n",
    "pnr search canada\n",
    "\n",
    "```"
   ]
  },
  {
   "cell_type": "markdown",
   "metadata": {},
   "source": [
    "## Web Application\n",
    "\n",
    "The main interface for viewing the RSS feeds is the Flask web application, which can be lauched from the command line:\n",
    "\n",
    "```bash\n",
    "pnr-app --host 0.0.0.0 --port 5000\n",
    "# Or\n",
    "python3 -m pynewsreader.app --host 0.0.0.0 --port 5000\n",
    "```"
   ]
  },
  {
   "cell_type": "markdown",
   "metadata": {},
   "source": [
    "## Python Usage\n"
   ]
  },
  {
   "cell_type": "markdown",
   "metadata": {},
   "source": [
    "Import and initialize pnr object"
   ]
  },
  {
   "cell_type": "code",
   "execution_count": null,
   "metadata": {},
   "outputs": [],
   "source": [
    "from pynewsreader.core import Feed, PyNewsReader\n",
    "\n",
    "pnr = PyNewsReader()"
   ]
  },
  {
   "cell_type": "code",
   "execution_count": null,
   "metadata": {},
   "outputs": [
    {
     "data": {
      "text/plain": [
       "[Feeds(url='https://openai.com/blog/rss.xml', name='OpenAI Blog'),\n",
       " Feeds(url='https://www.macleans.ca/feed', name='https://www.macleans.ca/feed'),\n",
       " Feeds(url='https://blog.google/technology/ai/rss', name='AI'),\n",
       " Feeds(url='https://www.answer.ai/index.xml', name='Answer.ai Blog'),\n",
       " Feeds(url='https://www.theguardian.com/world/canada/rss', name='Canada | The Guardian'),\n",
       " Feeds(url='https://www.cbc.ca/webfeed/rss/rss-business', name='CBC | Business'),\n",
       " Feeds(url='https://www.cbc.ca/webfeed/rss/rss-canada', name='CBC | Canada'),\n",
       " Feeds(url='https://www.cbc.ca/webfeed/rss/rss-canada-ottawa', name='CBC | Ottawa'),\n",
       " Feeds(url='https://www.cbc.ca/webfeed/rss/rss-technology', name='CBC | Technology'),\n",
       " Feeds(url='https://www.cbc.ca/webfeed/rss/rss-topstories', name='CBC | Top Stories'),\n",
       " Feeds(url='https://www.cbc.ca/webfeed/rss/rss-world', name='CBC | World'),\n",
       " Feeds(url='https://engineering.fb.com/feed', name='Facebook AI Blog'),\n",
       " Feeds(url='https://hf.co/blog/feed.xml', name='Huggingface Blog'),\n",
       " Feeds(url='https://ricochet.media/feed', name='Ricochet'),\n",
       " Feeds(url='https://www.theguardian.com/science/rss', name='Science | The Guardian'),\n",
       " Feeds(url='https://simonwillison.net/atom/everything', name=\"Simon Willison's Weblog\"),\n",
       " Feeds(url='https://www.theguardian.com/uk/technology/rss', name='Technology | The Guardian'),\n",
       " Feeds(url='https://www.thebeaverton.com/feed/?q=1684448990', name='The Beaverton'),\n",
       " Feeds(url='https://thenarwhal.ca/feed', name='The Narwhal'),\n",
       " Feeds(url='https://thetyee.ca/rss2.xml', name='The Tyee'),\n",
       " Feeds(url='https://www.theguardian.com/world/rss', name='World news | The Guardian'),\n",
       " Feeds(url='https://www.thestar.com/search/?f=rss&t=article&c=news/investigations*&l=50&s=start_time&sd=desc', name='Toronto Star | Investigations'),\n",
       " Feeds(url='https://www.thestar.com/search/?f=rss&t=article&bl=2827101&l=50', name='Toronto Star | Top Stories')]"
      ]
     },
     "execution_count": null,
     "metadata": {},
     "output_type": "execute_result"
    }
   ],
   "source": [
    "pnr.feeds()"
   ]
  },
  {
   "cell_type": "markdown",
   "metadata": {},
   "source": [
    "Add a feed, and use a custom name for it"
   ]
  },
  {
   "cell_type": "code",
   "execution_count": null,
   "metadata": {},
   "outputs": [],
   "source": [
    "some_feeds = {\n",
    "    \"https://www.cbc.ca/webfeed/rss/rss-canada\": \"CBC | Canada\",\n",
    "    \"https://www.cbc.ca/webfeed/rss/rss-business\": \"CBC | Business\",\n",
    "}"
   ]
  },
  {
   "cell_type": "code",
   "execution_count": null,
   "metadata": {},
   "outputs": [],
   "source": [
    "all_feeds = {\n",
    "    \"https://ricochet.media/feed/\": \"Richochet Media\",\n",
    "    \"https://thetyee.ca/rss2.xml\": \"The Tyee\",\n",
    "    \"https://www.thestar.com/search/?f=rss&t=article&bl=2827101&l=50\": \"Toronto Star | Top Stories\",\n",
    "    \"https://www.thestar.com/search/?f=rss&t=article&c=news/investigations*&l=50&s=start_time&sd=desc\": \"Toronto Star | Investigations\",\n",
    "    \"https://www.macleans.ca/feed/\": \"Macleans\",\n",
    "    \"https://www.cbc.ca/webfeed/rss/rss-topstories\": \"CBC | Top Stories\",\n",
    "    \"https://www.cbc.ca/webfeed/rss/rss-canada-ottawa\": \"CBC | Ottawa\",\n",
    "    \"https://www.cbc.ca/webfeed/rss/rss-world\": \"CBC | World\",\n",
    "    \"https://www.cbc.ca/webfeed/rss/rss-canada\": \"CBC | Canada\",\n",
    "    \"https://www.cbc.ca/webfeed/rss/rss-business\": \"CBC | Business\",\n",
    "    \"https://www.cbc.ca/webfeed/rss/rss-technology\": \"CBC | Technology\",\n",
    "    \"https://thenarwhal.ca/feed/\": None,\n",
    "    \"https://www.theguardian.com/world/rss\": None,\n",
    "    \"https://www.theguardian.com/uk/technology/rss\": None,\n",
    "    \"https://www.theguardian.com/science/rss\": None,\n",
    "    \"https://www.theguardian.com/world/canada/rss\": None,\n",
    "    \"https://www.thebeaverton.com/feed/?q=1684448990\":\"The Beaverton\",\n",
    "    \"https://hf.co/blog/feed.xml\": \"Huggingface Blog\",\n",
    "    \"https://engineering.fb.com/feed\": \"Facebook AI Blog\",\n",
    "    \"https://blog.google/technology/ai/rss/\": \"Google AI Blog\",\n",
    "    \"https://openai.com/blog/rss.xml\": \"OpenAI Blog\",\n",
    "    \"https://www.answer.ai/index.xml\": \"Answer.ai Blog\",\n",
    "    \"https://simonwillison.net/atom/everything/\":\"Simon Wilson Weblog\"\n",
    "}"
   ]
  },
  {
   "cell_type": "code",
   "execution_count": null,
   "metadata": {},
   "outputs": [
    {
     "data": {
      "text/plain": [
       "[Feeds(url='https://openai.com/blog/rss.xml', name='OpenAI Blog'),\n",
       " Feeds(url='https://www.macleans.ca/feed', name='https://www.macleans.ca/feed'),\n",
       " Feeds(url='https://blog.google/technology/ai/rss', name='AI'),\n",
       " Feeds(url='https://www.answer.ai/index.xml', name='Answer.ai Blog'),\n",
       " Feeds(url='https://www.theguardian.com/world/canada/rss', name='Canada | The Guardian'),\n",
       " Feeds(url='https://www.cbc.ca/webfeed/rss/rss-business', name='CBC | Business'),\n",
       " Feeds(url='https://www.cbc.ca/webfeed/rss/rss-canada', name='CBC | Canada'),\n",
       " Feeds(url='https://www.cbc.ca/webfeed/rss/rss-canada-ottawa', name='CBC | Ottawa'),\n",
       " Feeds(url='https://www.cbc.ca/webfeed/rss/rss-technology', name='CBC | Technology'),\n",
       " Feeds(url='https://www.cbc.ca/webfeed/rss/rss-topstories', name='CBC | Top Stories'),\n",
       " Feeds(url='https://www.cbc.ca/webfeed/rss/rss-world', name='CBC | World'),\n",
       " Feeds(url='https://engineering.fb.com/feed', name='Facebook AI Blog'),\n",
       " Feeds(url='https://hf.co/blog/feed.xml', name='Huggingface Blog'),\n",
       " Feeds(url='https://ricochet.media/feed', name='Ricochet'),\n",
       " Feeds(url='https://www.theguardian.com/science/rss', name='Science | The Guardian'),\n",
       " Feeds(url='https://simonwillison.net/atom/everything', name=\"Simon Willison's Weblog\"),\n",
       " Feeds(url='https://www.theguardian.com/uk/technology/rss', name='Technology | The Guardian'),\n",
       " Feeds(url='https://www.thebeaverton.com/feed/?q=1684448990', name='The Beaverton'),\n",
       " Feeds(url='https://thenarwhal.ca/feed', name='The Narwhal'),\n",
       " Feeds(url='https://thetyee.ca/rss2.xml', name='The Tyee'),\n",
       " Feeds(url='https://www.theguardian.com/world/rss', name='World news | The Guardian'),\n",
       " Feeds(url='https://www.thestar.com/search/?f=rss&t=article&c=news/investigations*&l=50&s=start_time&sd=desc', name='Toronto Star | Investigations'),\n",
       " Feeds(url='https://www.thestar.com/search/?f=rss&t=article&bl=2827101&l=50', name='Toronto Star | Top Stories')]"
      ]
     },
     "execution_count": null,
     "metadata": {},
     "output_type": "execute_result"
    }
   ],
   "source": [
    "pnr.feeds()"
   ]
  },
  {
   "cell_type": "code",
   "execution_count": null,
   "metadata": {},
   "outputs": [],
   "source": [
    "for feed, name in some_feeds.items():\n",
    "    pnr.add_feed(Feed(url=feed, name=name if name else None))"
   ]
  },
  {
   "cell_type": "code",
   "execution_count": null,
   "metadata": {},
   "outputs": [
    {
     "data": {
      "text/plain": [
       "[Feeds(url='https://openai.com/blog/rss.xml', name='OpenAI Blog'),\n",
       " Feeds(url='https://www.macleans.ca/feed', name='https://www.macleans.ca/feed'),\n",
       " Feeds(url='https://blog.google/technology/ai/rss', name='AI'),\n",
       " Feeds(url='https://www.answer.ai/index.xml', name='Answer.ai Blog'),\n",
       " Feeds(url='https://www.theguardian.com/world/canada/rss', name='Canada | The Guardian'),\n",
       " Feeds(url='https://www.cbc.ca/webfeed/rss/rss-business', name='CBC | Business'),\n",
       " Feeds(url='https://www.cbc.ca/webfeed/rss/rss-canada', name='CBC | Canada'),\n",
       " Feeds(url='https://www.cbc.ca/webfeed/rss/rss-canada-ottawa', name='CBC | Ottawa'),\n",
       " Feeds(url='https://www.cbc.ca/webfeed/rss/rss-technology', name='CBC | Technology'),\n",
       " Feeds(url='https://www.cbc.ca/webfeed/rss/rss-topstories', name='CBC | Top Stories'),\n",
       " Feeds(url='https://www.cbc.ca/webfeed/rss/rss-world', name='CBC | World'),\n",
       " Feeds(url='https://engineering.fb.com/feed', name='Facebook AI Blog'),\n",
       " Feeds(url='https://hf.co/blog/feed.xml', name='Huggingface Blog'),\n",
       " Feeds(url='https://ricochet.media/feed', name='Ricochet'),\n",
       " Feeds(url='https://www.theguardian.com/science/rss', name='Science | The Guardian'),\n",
       " Feeds(url='https://simonwillison.net/atom/everything', name=\"Simon Willison's Weblog\"),\n",
       " Feeds(url='https://www.theguardian.com/uk/technology/rss', name='Technology | The Guardian'),\n",
       " Feeds(url='https://www.thebeaverton.com/feed/?q=1684448990', name='The Beaverton'),\n",
       " Feeds(url='https://thenarwhal.ca/feed', name='The Narwhal'),\n",
       " Feeds(url='https://thetyee.ca/rss2.xml', name='The Tyee'),\n",
       " Feeds(url='https://www.theguardian.com/world/rss', name='World news | The Guardian'),\n",
       " Feeds(url='https://www.thestar.com/search/?f=rss&t=article&c=news/investigations*&l=50&s=start_time&sd=desc', name='Toronto Star | Investigations'),\n",
       " Feeds(url='https://www.thestar.com/search/?f=rss&t=article&bl=2827101&l=50', name='Toronto Star | Top Stories')]"
      ]
     },
     "execution_count": null,
     "metadata": {},
     "output_type": "execute_result"
    }
   ],
   "source": [
    "pnr.feeds()"
   ]
  },
  {
   "cell_type": "markdown",
   "metadata": {},
   "source": [
    "Update feeds"
   ]
  },
  {
   "cell_type": "code",
   "execution_count": null,
   "metadata": {},
   "outputs": [
    {
     "data": {
      "text/html": [
       "<pre style=\"white-space:pre;overflow-x:auto;line-height:normal;font-family:Menlo,'DejaVu Sans Mono',consolas,'Courier New',monospace\">Marking entry as important: Harold the Mortgage Closer accused of charging ‘vulnerable’ people interest rates up to\n",
       "<span style=\"color: #008080; text-decoration-color: #008080; font-weight: bold\">76</span> per cent\n",
       "</pre>\n"
      ],
      "text/plain": [
       "Marking entry as important: Harold the Mortgage Closer accused of charging ‘vulnerable’ people interest rates up to\n",
       "\u001b[1;36m76\u001b[0m per cent\n"
      ]
     },
     "metadata": {},
     "output_type": "display_data"
    }
   ],
   "source": [
    "pnr.update()"
   ]
  },
  {
   "cell_type": "markdown",
   "metadata": {},
   "source": [
    "List entries"
   ]
  },
  {
   "cell_type": "code",
   "execution_count": null,
   "metadata": {},
   "outputs": [
    {
     "data": {
      "text/html": [
       "<pre style=\"white-space:pre;overflow-x:auto;line-height:normal;font-family:Menlo,'DejaVu Sans Mono',consolas,'Courier New',monospace\">╭─────────────────────────────────────────── <span style=\"font-weight: bold\">World news | The Guardian</span> ───────────────────────────────────────────╮\n",
       "│ Title: <span style=\"font-weight: bold\">Mike Johnson says spending vote ‘very likely’ to avoid government shutdown – US politics live</span>            │\n",
       "│ Date: 2024-12-20                                                                                                │\n",
       "│                                                                                                                 │\n",
       "│ House speaker says there is ‘unanimous’ agreement to ‘move forward’; Republicans reportedly eye stopgap deal    │\n",
       "│ and raising debt limit after Trump inauguration Trump demands again to suspend US debt ceiling after funding    │\n",
       "│ deal failsThe US government could shut down. Here’s what to knowBesides bringing the federal government to the  │\n",
       "│ brink of a shutdown, Donald Trump has also lately been pressuring European countries to agree to buy more       │\n",
       "│ US-produced oil and gas, the Guardian’s Jill Ambrose reports:The US president-elect, Donald Trump, has warned   │\n",
       "│ the EU that it will face trade tariffs on its exports to the US unless its member states buy more American oil  │\n",
       "│ and gas. Continue reading...                                                                                    │\n",
       "│                                                                                                                 │\n",
       "╰─── <a href=\"https://www.theguardian.com/us-news/live/2024/dec/20/trump-government-shutdown-us-politics-latest-updates\" target=\"_blank\">https://www.theguardian.com/us-news/live/2024/dec/20/trump-government-shutdown-us-politics-latest-updates</a> ───╯\n",
       "</pre>\n"
      ],
      "text/plain": [
       "╭─────────────────────────────────────────── \u001b[1mWorld news | The Guardian\u001b[0m ───────────────────────────────────────────╮\n",
       "│ Title: \u001b[1mMike Johnson says spending vote ‘very likely’ to avoid government shutdown – US politics live\u001b[0m            │\n",
       "│ Date: 2024-12-20                                                                                                │\n",
       "│                                                                                                                 │\n",
       "│ House speaker says there is ‘unanimous’ agreement to ‘move forward’; Republicans reportedly eye stopgap deal    │\n",
       "│ and raising debt limit after Trump inauguration Trump demands again to suspend US debt ceiling after funding    │\n",
       "│ deal failsThe US government could shut down. Here’s what to knowBesides bringing the federal government to the  │\n",
       "│ brink of a shutdown, Donald Trump has also lately been pressuring European countries to agree to buy more       │\n",
       "│ US-produced oil and gas, the Guardian’s Jill Ambrose reports:The US president-elect, Donald Trump, has warned   │\n",
       "│ the EU that it will face trade tariffs on its exports to the US unless its member states buy more American oil  │\n",
       "│ and gas. Continue reading...                                                                                    │\n",
       "│                                                                                                                 │\n",
       "╰─── \u001b]8;id=965676;https://www.theguardian.com/us-news/live/2024/dec/20/trump-government-shutdown-us-politics-latest-updates\u001b\\https://www.theguardian.com/us-news/live/2024/dec/20/trump-government-shutdown-us-politics-latest-updates\u001b]8;;\u001b\\ ───╯\n"
      ]
     },
     "metadata": {},
     "output_type": "display_data"
    },
    {
     "data": {
      "text/html": [
       "<pre style=\"white-space:pre;overflow-x:auto;line-height:normal;font-family:Menlo,'DejaVu Sans Mono',consolas,'Courier New',monospace\">\n",
       "</pre>\n"
      ],
      "text/plain": [
       "\n"
      ]
     },
     "metadata": {},
     "output_type": "display_data"
    }
   ],
   "source": [
    "pnr.show(limit=1)"
   ]
  },
  {
   "cell_type": "markdown",
   "metadata": {},
   "source": [
    "Search entries"
   ]
  },
  {
   "cell_type": "code",
   "execution_count": null,
   "metadata": {},
   "outputs": [
    {
     "data": {
      "text/html": [
       "<pre style=\"white-space:pre;overflow-x:auto;line-height:normal;font-family:Menlo,'DejaVu Sans Mono',consolas,'Courier New',monospace\">╭──────────────────────────────────────────────── <span style=\"font-weight: bold\">CBC | Business</span> ─────────────────────────────────────────────────╮\n",
       "│ Title: <span style=\"font-weight: bold\">Canada's inflation rate edges down to 1.9%</span>                                                               │\n",
       "│ Date: 2024-12-17                                                                                                │\n",
       "│                                                                                                                 │\n",
       "│ Canada's annual inflation rate ticked down to 1.9 per cent in November, with the slowdown in price growth       │\n",
       "│ mostly driven by lower mortgage interest costs and cheaper travel tours, Statistics Canada said on Tuesday.     │\n",
       "│                                                                                                                 │\n",
       "╰──────────────── <a href=\"https://www.cbc.ca/news/business/inflation-rate-november-2024-1.7412342?cmp=rss\" target=\"_blank\">https://www.cbc.ca/news/business/inflation-rate-november-2024-1.7412342?cmp=rss</a> ────────────────╯\n",
       "</pre>\n"
      ],
      "text/plain": [
       "╭──────────────────────────────────────────────── \u001b[1mCBC | Business\u001b[0m ─────────────────────────────────────────────────╮\n",
       "│ Title: \u001b[1mCanada's inflation rate edges down to 1.9%\u001b[0m                                                               │\n",
       "│ Date: 2024-12-17                                                                                                │\n",
       "│                                                                                                                 │\n",
       "│ Canada's annual inflation rate ticked down to 1.9 per cent in November, with the slowdown in price growth       │\n",
       "│ mostly driven by lower mortgage interest costs and cheaper travel tours, Statistics Canada said on Tuesday.     │\n",
       "│                                                                                                                 │\n",
       "╰──────────────── \u001b]8;id=644104;https://www.cbc.ca/news/business/inflation-rate-november-2024-1.7412342?cmp=rss\u001b\\https://www.cbc.ca/news/business/inflation-rate-november-2024-1.7412342?cmp=rss\u001b]8;;\u001b\\ ────────────────╯\n"
      ]
     },
     "metadata": {},
     "output_type": "display_data"
    },
    {
     "data": {
      "text/html": [
       "<pre style=\"white-space:pre;overflow-x:auto;line-height:normal;font-family:Menlo,'DejaVu Sans Mono',consolas,'Courier New',monospace\">\n",
       "</pre>\n"
      ],
      "text/plain": [
       "\n"
      ]
     },
     "metadata": {},
     "output_type": "display_data"
    }
   ],
   "source": [
    "pnr.search(\"inflation\", limit=1)"
   ]
  },
  {
   "cell_type": "markdown",
   "metadata": {},
   "source": [
    "Blacklist "
   ]
  },
  {
   "cell_type": "code",
   "execution_count": null,
   "metadata": {},
   "outputs": [],
   "source": [
    "for i in [\n",
    "    \"Musk\",\n",
    "    \"Apple\",\n",
    "    \"Bezos\",\n",
    "    \"Google\",\n",
    "    \"Samsung\",\n",
    "    \"iPhone\",\n",
    "    \"iPad\",\n",
    "    \"guardian.com/sport/\",\n",
    "    \"guardian.com/football/\",\n",
    "    \"thestar.com/sports\",\n",
    "    \"cbc.ca/sports\"\n",
    "]:\n",
    "    pnr.blacklist_add(i)"
   ]
  },
  {
   "cell_type": "markdown",
   "metadata": {},
   "source": [
    "Whitelist"
   ]
  },
  {
   "cell_type": "code",
   "execution_count": null,
   "metadata": {},
   "outputs": [],
   "source": [
    "# Automatically marks as \"Important\"\n",
    "for i in [\"interest rate\", \"Bank of Canada\", \"housing market\"]:\n",
    "    pnr.whitelist_add(i)"
   ]
  },
  {
   "cell_type": "code",
   "execution_count": null,
   "metadata": {},
   "outputs": [],
   "source": [
    "# | hide\n",
    "import nbdev\n",
    "\n",
    "nbdev.nbdev_export()"
   ]
  }
 ],
 "metadata": {
  "kernelspec": {
   "display_name": "conda-root-py",
   "language": "python",
   "name": "conda-root-py"
  }
 },
 "nbformat": 4,
 "nbformat_minor": 4
}
