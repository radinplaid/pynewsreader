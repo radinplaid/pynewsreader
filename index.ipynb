{
 "cells": [
  {
   "cell_type": "code",
   "execution_count": null,
   "metadata": {},
   "outputs": [],
   "source": [
    "#| hide\n",
    "from pynewsreader.core import *"
   ]
  },
  {
   "cell_type": "markdown",
   "metadata": {},
   "source": [
    "# pynewsreader\n",
    "\n",
    "> An easy to use news aggregator and viewer written in python "
   ]
  },
  {
   "cell_type": "markdown",
   "metadata": {},
   "source": [
    "## Install"
   ]
  },
  {
   "cell_type": "markdown",
   "metadata": {},
   "source": [
    "```sh\n",
    "pip install git+https://github.com/radinplaid/pynewsreader.git\n",
    "```"
   ]
  },
  {
   "cell_type": "markdown",
   "metadata": {},
   "source": [
    "## Command Line Usage\n",
    "\n",
    "```bash\n",
    "# Show help\n",
    "pnr --help\n",
    "\n",
    "# Add a feed\n",
    "pnr add_feed https://rss.cbc.ca/lineup/world.xml\n",
    "\n",
    "# Update feed(s)\n",
    "pnr update\n",
    "\n",
    "# Show entries\n",
    "pnr show --limit 10\n",
    "\n",
    "# Search entries\n",
    "pnr search canada\n",
    "\n",
    "```"
   ]
  },
  {
   "cell_type": "markdown",
   "metadata": {},
   "source": [
    "## Python Usage\n"
   ]
  },
  {
   "cell_type": "markdown",
   "metadata": {},
   "source": [
    "Import and initialize pnr object"
   ]
  },
  {
   "cell_type": "code",
   "execution_count": null,
   "metadata": {},
   "outputs": [],
   "source": [
    "from pynewsreader.core import Feed, PyNewsReader\n",
    "\n",
    "pnr = PyNewsReader()"
   ]
  },
  {
   "cell_type": "markdown",
   "metadata": {},
   "source": [
    "Add a feed, and use a custom name for it"
   ]
  },
  {
   "cell_type": "code",
   "execution_count": null,
   "metadata": {},
   "outputs": [],
   "source": [
    "myfeed = Feed(\n",
    "    url=\"https://www.thestar.com/content/thestar/feed.RSSManagerServlet.articles.topstories.rss\",\n",
    "    name=\"Toronto Star | Top Stories\",\n",
    ")\n",
    "\n",
    "pnr.add_feed(myfeed)"
   ]
  },
  {
   "cell_type": "markdown",
   "metadata": {},
   "source": [
    "Update feeds"
   ]
  },
  {
   "cell_type": "code",
   "execution_count": null,
   "metadata": {},
   "outputs": [
    {
     "data": {
      "text/html": [
       "<pre style=\"white-space:pre;overflow-x:auto;line-height:normal;font-family:Menlo,'DejaVu Sans Mono',consolas,'Courier New',monospace\">Marking entry as important: With inflation easing will interest rates hikes pause?\n",
       "</pre>\n"
      ],
      "text/plain": [
       "Marking entry as important: With inflation easing will interest rates hikes pause?\n"
      ]
     },
     "metadata": {},
     "output_type": "display_data"
    },
    {
     "data": {
      "text/html": [
       "<pre style=\"white-space:pre;overflow-x:auto;line-height:normal;font-family:Menlo,'DejaVu Sans Mono',consolas,'Courier New',monospace\">Marking entry as important: Majority of Canadian consumers and businesses expect a recession this year, Bank of \n",
       "Canada surveys find\n",
       "</pre>\n"
      ],
      "text/plain": [
       "Marking entry as important: Majority of Canadian consumers and businesses expect a recession this year, Bank of \n",
       "Canada surveys find\n"
      ]
     },
     "metadata": {},
     "output_type": "display_data"
    },
    {
     "data": {
      "text/html": [
       "<pre style=\"white-space:pre;overflow-x:auto;line-height:normal;font-family:Menlo,'DejaVu Sans Mono',consolas,'Courier New',monospace\">Marking entry as important: Bank of Canada may lose billions in coming years, think tank warns\n",
       "</pre>\n"
      ],
      "text/plain": [
       "Marking entry as important: Bank of Canada may lose billions in coming years, think tank warns\n"
      ]
     },
     "metadata": {},
     "output_type": "display_data"
    }
   ],
   "source": [
    "pnr.update()"
   ]
  },
  {
   "cell_type": "markdown",
   "metadata": {},
   "source": [
    "List entries"
   ]
  },
  {
   "cell_type": "code",
   "execution_count": null,
   "metadata": {},
   "outputs": [
    {
     "data": {
      "text/html": [
       "<pre style=\"white-space:pre;overflow-x:auto;line-height:normal;font-family:Menlo,'DejaVu Sans Mono',consolas,'Courier New',monospace\">╭──────────────────────────────────────────── <span style=\"font-weight: bold\">CBC | Top Stories News</span> ─────────────────────────────────────────────╮\n",
       "│ Title: <span style=\"font-weight: bold\">Actor Jeremy Renner reveals he broke more than 30 bones in snowplow accident</span>                             │\n",
       "│ Date: 2023-01-21                                                                                                │\n",
       "│                                                                                                                 │\n",
       "│ Actor Jeremy Renner says he broke more than 30 bones in a snowplow accident on New Year's Day.                  │\n",
       "│                                                                                                                 │\n",
       "╰───── <a href=\"https://www.cbc.ca/news/entertainment/jeremy-renner-snowplow-accident-broken-bones-1.6722214?cmp=rss\" target=\"_blank\">https://www.cbc.ca/news/entertainment/jeremy-renner-snowplow-accident-broken-bones-1.6722214?cmp=rss</a> ──────╯\n",
       "</pre>\n"
      ],
      "text/plain": [
       "╭──────────────────────────────────────────── \u001b[1mCBC | Top Stories News\u001b[0m ─────────────────────────────────────────────╮\n",
       "│ Title: \u001b[1mActor Jeremy Renner reveals he broke more than 30 bones in snowplow accident\u001b[0m                             │\n",
       "│ Date: 2023-01-21                                                                                                │\n",
       "│                                                                                                                 │\n",
       "│ Actor Jeremy Renner says he broke more than 30 bones in a snowplow accident on New Year's Day.                  │\n",
       "│                                                                                                                 │\n",
       "╰───── \u001b]8;id=902050;https://www.cbc.ca/news/entertainment/jeremy-renner-snowplow-accident-broken-bones-1.6722214?cmp=rss\u001b\\https://www.cbc.ca/news/entertainment/jeremy-renner-snowplow-accident-broken-bones-1.6722214?cmp=rss\u001b]8;;\u001b\\ ──────╯\n"
      ]
     },
     "metadata": {},
     "output_type": "display_data"
    },
    {
     "data": {
      "text/html": [
       "<pre style=\"white-space:pre;overflow-x:auto;line-height:normal;font-family:Menlo,'DejaVu Sans Mono',consolas,'Courier New',monospace\">\n",
       "</pre>\n"
      ],
      "text/plain": [
       "\n"
      ]
     },
     "metadata": {},
     "output_type": "display_data"
    },
    {
     "data": {
      "text/html": [
       "<pre style=\"white-space:pre;overflow-x:auto;line-height:normal;font-family:Menlo,'DejaVu Sans Mono',consolas,'Courier New',monospace\">╭──────────────────────────────────────────── <span style=\"font-weight: bold\">CBC | Top Stories News</span> ─────────────────────────────────────────────╮\n",
       "│ Title: <span style=\"font-weight: bold\">François Legault criticizes Justin Trudeau over notwithstanding clause comments</span>                          │\n",
       "│ Date: 2023-01-21                                                                                                │\n",
       "│                                                                                                                 │\n",
       "│ Quebec Premier François Legault is criticizing Prime Minister Justin Trudeau for \"attacking Quebec's democracy  │\n",
       "│ and people\" by proposing to limit the use of the notwithstanding clause.                                        │\n",
       "│                                                                                                                 │\n",
       "╰─ <a href=\"https://www.cbc.ca/news/canada/montreal/fran%C3%A7ois-legault-trudeau-democracy-under-attack-1.6722077?cmp=rss\" target=\"_blank\">https://www.cbc.ca/news/canada/montreal/fran%C3%A7ois-legault-trudeau-democracy-under-attack-1.6722077?cmp=rss</a>─╯\n",
       "</pre>\n"
      ],
      "text/plain": [
       "╭──────────────────────────────────────────── \u001b[1mCBC | Top Stories News\u001b[0m ─────────────────────────────────────────────╮\n",
       "│ Title: \u001b[1mFrançois Legault criticizes Justin Trudeau over notwithstanding clause comments\u001b[0m                          │\n",
       "│ Date: 2023-01-21                                                                                                │\n",
       "│                                                                                                                 │\n",
       "│ Quebec Premier François Legault is criticizing Prime Minister Justin Trudeau for \"attacking Quebec's democracy  │\n",
       "│ and people\" by proposing to limit the use of the notwithstanding clause.                                        │\n",
       "│                                                                                                                 │\n",
       "╰─ \u001b]8;id=816613;https://www.cbc.ca/news/canada/montreal/fran%C3%A7ois-legault-trudeau-democracy-under-attack-1.6722077?cmp=rss\u001b\\https://www.cbc.ca/news/canada/montreal/fran%C3%A7ois-legault-trudeau-democracy-under-attack-1.6722077?cmp=rss\u001b]8;;\u001b\\─╯\n"
      ]
     },
     "metadata": {},
     "output_type": "display_data"
    },
    {
     "data": {
      "text/html": [
       "<pre style=\"white-space:pre;overflow-x:auto;line-height:normal;font-family:Menlo,'DejaVu Sans Mono',consolas,'Courier New',monospace\">\n",
       "</pre>\n"
      ],
      "text/plain": [
       "\n"
      ]
     },
     "metadata": {},
     "output_type": "display_data"
    },
    {
     "data": {
      "text/html": [
       "<pre style=\"white-space:pre;overflow-x:auto;line-height:normal;font-family:Menlo,'DejaVu Sans Mono',consolas,'Courier New',monospace\">╭─────────────────────────────────────────────────── <span style=\"font-weight: bold\">The Tyee</span> ────────────────────────────────────────────────────╮\n",
       "│ Title: <span style=\"font-weight: bold\">Welcome to the Year of the Rabbit (in Culture)</span>                                                           │\n",
       "│ Date: Unknown                                                                                                   │\n",
       "│                                                                                                                 │\n",
       "│ Vancouver’s Lunar New Year parade returns to Chinatown after years of cancellations. We’re glad to be back.     │\n",
       "│                                                                                                                 │\n",
       "╰────────────────────────── <a href=\"https://thetyee.ca/Culture/2023/01/20/Welcome-Year-Rabbit/\" target=\"_blank\">https://thetyee.ca/Culture/2023/01/20/Welcome-Year-Rabbit/</a> ───────────────────────────╯\n",
       "</pre>\n"
      ],
      "text/plain": [
       "╭─────────────────────────────────────────────────── \u001b[1mThe Tyee\u001b[0m ────────────────────────────────────────────────────╮\n",
       "│ Title: \u001b[1mWelcome to the Year of the Rabbit (in Culture)\u001b[0m                                                           │\n",
       "│ Date: Unknown                                                                                                   │\n",
       "│                                                                                                                 │\n",
       "│ Vancouver’s Lunar New Year parade returns to Chinatown after years of cancellations. We’re glad to be back.     │\n",
       "│                                                                                                                 │\n",
       "╰────────────────────────── \u001b]8;id=873552;https://thetyee.ca/Culture/2023/01/20/Welcome-Year-Rabbit/\u001b\\https://thetyee.ca/Culture/2023/01/20/Welcome-Year-Rabbit/\u001b]8;;\u001b\\ ───────────────────────────╯\n"
      ]
     },
     "metadata": {},
     "output_type": "display_data"
    },
    {
     "data": {
      "text/html": [
       "<pre style=\"white-space:pre;overflow-x:auto;line-height:normal;font-family:Menlo,'DejaVu Sans Mono',consolas,'Courier New',monospace\">\n",
       "</pre>\n"
      ],
      "text/plain": [
       "\n"
      ]
     },
     "metadata": {},
     "output_type": "display_data"
    },
    {
     "data": {
      "text/html": [
       "<pre style=\"white-space:pre;overflow-x:auto;line-height:normal;font-family:Menlo,'DejaVu Sans Mono',consolas,'Courier New',monospace\">╭─────────────────────────────────────────────────── <span style=\"font-weight: bold\">The Tyee</span> ────────────────────────────────────────────────────╮\n",
       "│ Title: <span style=\"font-weight: bold\">Donors Step Up After Vancouver Council Axes Funding to VANDU Art Program (in News)</span>                       │\n",
       "│ Date: Unknown                                                                                                   │\n",
       "│                                                                                                                 │\n",
       "│ Councillors said they had problems with how the drug user group handled a previous city contract.               │\n",
       "│                                                                                                                 │\n",
       "╰────── <a href=\"https://thetyee.ca/News/2023/01/20/Donors-Step-Up-Vancouver-Council-Axes-Funding-VANDU-Art-Program/\" target=\"_blank\">https://thetyee.ca/News/2023/01/20/Donors-Step-Up-Vancouver-Council-Axes-Funding-VANDU-Art-Program/</a> ──────╯\n",
       "</pre>\n"
      ],
      "text/plain": [
       "╭─────────────────────────────────────────────────── \u001b[1mThe Tyee\u001b[0m ────────────────────────────────────────────────────╮\n",
       "│ Title: \u001b[1mDonors Step Up After Vancouver Council Axes Funding to VANDU Art Program (in News)\u001b[0m                       │\n",
       "│ Date: Unknown                                                                                                   │\n",
       "│                                                                                                                 │\n",
       "│ Councillors said they had problems with how the drug user group handled a previous city contract.               │\n",
       "│                                                                                                                 │\n",
       "╰────── \u001b]8;id=369536;https://thetyee.ca/News/2023/01/20/Donors-Step-Up-Vancouver-Council-Axes-Funding-VANDU-Art-Program/\u001b\\https://thetyee.ca/News/2023/01/20/Donors-Step-Up-Vancouver-Council-Axes-Funding-VANDU-Art-Program/\u001b]8;;\u001b\\ ──────╯\n"
      ]
     },
     "metadata": {},
     "output_type": "display_data"
    },
    {
     "data": {
      "text/html": [
       "<pre style=\"white-space:pre;overflow-x:auto;line-height:normal;font-family:Menlo,'DejaVu Sans Mono',consolas,'Courier New',monospace\">\n",
       "</pre>\n"
      ],
      "text/plain": [
       "\n"
      ]
     },
     "metadata": {},
     "output_type": "display_data"
    },
    {
     "data": {
      "text/html": [
       "<pre style=\"white-space:pre;overflow-x:auto;line-height:normal;font-family:Menlo,'DejaVu Sans Mono',consolas,'Courier New',monospace\">╭─────────────────────────────────────────────────── <span style=\"font-weight: bold\">The Tyee</span> ────────────────────────────────────────────────────╮\n",
       "│ Title: <span style=\"font-weight: bold\">Escape from Crimea to Canada (in Culture)</span>                                                                │\n",
       "│ Date: Unknown                                                                                                   │\n",
       "│                                                                                                                 │\n",
       "│ A Ukrainian refugee shares his story of fleeing fear to navigate a fresh start in BC.                           │\n",
       "│                                                                                                                 │\n",
       "╰────────────────────────── <a href=\"https://thetyee.ca/Culture/2023/01/20/Escape-Crimea-Canada/\" target=\"_blank\">https://thetyee.ca/Culture/2023/01/20/Escape-Crimea-Canada/</a> ──────────────────────────╯\n",
       "</pre>\n"
      ],
      "text/plain": [
       "╭─────────────────────────────────────────────────── \u001b[1mThe Tyee\u001b[0m ────────────────────────────────────────────────────╮\n",
       "│ Title: \u001b[1mEscape from Crimea to Canada (in Culture)\u001b[0m                                                                │\n",
       "│ Date: Unknown                                                                                                   │\n",
       "│                                                                                                                 │\n",
       "│ A Ukrainian refugee shares his story of fleeing fear to navigate a fresh start in BC.                           │\n",
       "│                                                                                                                 │\n",
       "╰────────────────────────── \u001b]8;id=886788;https://thetyee.ca/Culture/2023/01/20/Escape-Crimea-Canada/\u001b\\https://thetyee.ca/Culture/2023/01/20/Escape-Crimea-Canada/\u001b]8;;\u001b\\ ──────────────────────────╯\n"
      ]
     },
     "metadata": {},
     "output_type": "display_data"
    },
    {
     "data": {
      "text/html": [
       "<pre style=\"white-space:pre;overflow-x:auto;line-height:normal;font-family:Menlo,'DejaVu Sans Mono',consolas,'Courier New',monospace\">\n",
       "</pre>\n"
      ],
      "text/plain": [
       "\n"
      ]
     },
     "metadata": {},
     "output_type": "display_data"
    },
    {
     "data": {
      "text/html": [
       "<pre style=\"white-space:pre;overflow-x:auto;line-height:normal;font-family:Menlo,'DejaVu Sans Mono',consolas,'Courier New',monospace\">╭─────────────────────────────────────────────────── <span style=\"font-weight: bold\">The Tyee</span> ────────────────────────────────────────────────────╮\n",
       "│ Title: <span style=\"font-weight: bold\">‘Once You've Clear Cut It, That's It’ (in News)</span>                                                          │\n",
       "│ Date: Unknown                                                                                                   │\n",
       "│                                                                                                                 │\n",
       "│ Kwakiutl Hereditary Chiefs issued a cease-and-desist order on old-growth logging in their territory. It         │\n",
       "│ continued anyway.                                                                                               │\n",
       "│                                                                                                                 │\n",
       "╰────────────────── <a href=\"https://thetyee.ca/News/2023/01/20/Clear-Cut-Old-Growth-Kwakiutl-Territory/\" target=\"_blank\">https://thetyee.ca/News/2023/01/20/Clear-Cut-Old-Growth-Kwakiutl-Territory/</a> ──────────────────╯\n",
       "</pre>\n"
      ],
      "text/plain": [
       "╭─────────────────────────────────────────────────── \u001b[1mThe Tyee\u001b[0m ────────────────────────────────────────────────────╮\n",
       "│ Title: \u001b[1m‘Once You've Clear Cut It, That's It’ (in News)\u001b[0m                                                          │\n",
       "│ Date: Unknown                                                                                                   │\n",
       "│                                                                                                                 │\n",
       "│ Kwakiutl Hereditary Chiefs issued a cease-and-desist order on old-growth logging in their territory. It         │\n",
       "│ continued anyway.                                                                                               │\n",
       "│                                                                                                                 │\n",
       "╰────────────────── \u001b]8;id=923488;https://thetyee.ca/News/2023/01/20/Clear-Cut-Old-Growth-Kwakiutl-Territory/\u001b\\https://thetyee.ca/News/2023/01/20/Clear-Cut-Old-Growth-Kwakiutl-Territory/\u001b]8;;\u001b\\ ──────────────────╯\n"
      ]
     },
     "metadata": {},
     "output_type": "display_data"
    },
    {
     "data": {
      "text/html": [
       "<pre style=\"white-space:pre;overflow-x:auto;line-height:normal;font-family:Menlo,'DejaVu Sans Mono',consolas,'Courier New',monospace\">\n",
       "</pre>\n"
      ],
      "text/plain": [
       "\n"
      ]
     },
     "metadata": {},
     "output_type": "display_data"
    }
   ],
   "source": [
    "pnr.show()"
   ]
  },
  {
   "cell_type": "markdown",
   "metadata": {},
   "source": [
    "Search entries"
   ]
  },
  {
   "cell_type": "code",
   "execution_count": null,
   "metadata": {},
   "outputs": [
    {
     "data": {
      "text/html": [
       "<pre style=\"white-space:pre;overflow-x:auto;line-height:normal;font-family:Menlo,'DejaVu Sans Mono',consolas,'Courier New',monospace\">╭─────────────────────────────────────────────── <span style=\"font-weight: bold\">CBC | World News</span> ────────────────────────────────────────────────╮\n",
       "│ Title: <span style=\"font-weight: bold\">U.S. inflation rate was 6.5% in December</span>                                                                 │\n",
       "│ Date: 2023-01-12                                                                                                │\n",
       "│                                                                                                                 │\n",
       "│ The inflation rate in the U.S. decelerated to 6.5 per cent in December, mostly due to much cheaper gasoline.    │\n",
       "│                                                                                                                 │\n",
       "╰─────────────────── <a href=\"https://www.cbc.ca/news/business/us-inflation-december-1.6711469?cmp=rss\" target=\"_blank\">https://www.cbc.ca/news/business/us-inflation-december-1.6711469?cmp=rss</a> ────────────────────╯\n",
       "</pre>\n"
      ],
      "text/plain": [
       "╭─────────────────────────────────────────────── \u001b[1mCBC | World News\u001b[0m ────────────────────────────────────────────────╮\n",
       "│ Title: \u001b[1mU.S. inflation rate was 6.5% in December\u001b[0m                                                                 │\n",
       "│ Date: 2023-01-12                                                                                                │\n",
       "│                                                                                                                 │\n",
       "│ The inflation rate in the U.S. decelerated to 6.5 per cent in December, mostly due to much cheaper gasoline.    │\n",
       "│                                                                                                                 │\n",
       "╰─────────────────── \u001b]8;id=349093;https://www.cbc.ca/news/business/us-inflation-december-1.6711469?cmp=rss\u001b\\https://www.cbc.ca/news/business/us-inflation-december-1.6711469?cmp=rss\u001b]8;;\u001b\\ ────────────────────╯\n"
      ]
     },
     "metadata": {},
     "output_type": "display_data"
    },
    {
     "data": {
      "text/html": [
       "<pre style=\"white-space:pre;overflow-x:auto;line-height:normal;font-family:Menlo,'DejaVu Sans Mono',consolas,'Courier New',monospace\">\n",
       "</pre>\n"
      ],
      "text/plain": [
       "\n"
      ]
     },
     "metadata": {},
     "output_type": "display_data"
    },
    {
     "data": {
      "text/html": [
       "<pre style=\"white-space:pre;overflow-x:auto;line-height:normal;font-family:Menlo,'DejaVu Sans Mono',consolas,'Courier New',monospace\">╭────────────────────────────────────────────── <span style=\"font-weight: bold\">CBC | Business News</span> ──────────────────────────────────────────────╮\n",
       "│ Title: <span style=\"font-weight: bold\">As inflation grows, this union leader says workers have an appetite to fight for higher pay</span>              │\n",
       "│ Date: 2023-01-06                                                                                                │\n",
       "│                                                                                                                 │\n",
       "│ The Unifor national president talks inflation, the growing wealth gap and the value of a union.                 │\n",
       "│                                                                                                                 │\n",
       "╰───────── <a href=\"https://www.cbc.ca/news/canada/newfoundland-labrador/lana-payne-legislation-1.6702286?cmp=rss\" target=\"_blank\">https://www.cbc.ca/news/canada/newfoundland-labrador/lana-payne-legislation-1.6702286?cmp=rss</a> ─────────╯\n",
       "</pre>\n"
      ],
      "text/plain": [
       "╭────────────────────────────────────────────── \u001b[1mCBC | Business News\u001b[0m ──────────────────────────────────────────────╮\n",
       "│ Title: \u001b[1mAs inflation grows, this union leader says workers have an appetite to fight for higher pay\u001b[0m              │\n",
       "│ Date: 2023-01-06                                                                                                │\n",
       "│                                                                                                                 │\n",
       "│ The Unifor national president talks inflation, the growing wealth gap and the value of a union.                 │\n",
       "│                                                                                                                 │\n",
       "╰───────── \u001b]8;id=820317;https://www.cbc.ca/news/canada/newfoundland-labrador/lana-payne-legislation-1.6702286?cmp=rss\u001b\\https://www.cbc.ca/news/canada/newfoundland-labrador/lana-payne-legislation-1.6702286?cmp=rss\u001b]8;;\u001b\\ ─────────╯\n"
      ]
     },
     "metadata": {},
     "output_type": "display_data"
    },
    {
     "data": {
      "text/html": [
       "<pre style=\"white-space:pre;overflow-x:auto;line-height:normal;font-family:Menlo,'DejaVu Sans Mono',consolas,'Courier New',monospace\">\n",
       "</pre>\n"
      ],
      "text/plain": [
       "\n"
      ]
     },
     "metadata": {},
     "output_type": "display_data"
    },
    {
     "data": {
      "text/html": [
       "<pre style=\"white-space:pre;overflow-x:auto;line-height:normal;font-family:Menlo,'DejaVu Sans Mono',consolas,'Courier New',monospace\">╭─────────────────────────────────────────── <span style=\"font-weight: bold\">Toronto Star | Editorials</span> ───────────────────────────────────────────╮\n",
       "│ ❗Title: <span style=\"font-weight: bold\">With inflation easing will interest rates hikes pause?</span>                                                 │\n",
       "│ Date: 2023-01-20                                                                                                │\n",
       "│                                                                                                                 │\n",
       "│ With some welcome downward movement on inflation, let’s hope then that we’re seeing an end to the Bank of       │\n",
       "│ Canada’s string of rate hikes.                                                                                  │\n",
       "│                                                                                                                 │\n",
       "╰─ <a href=\"https://www.thestar.com/opinion/editorials/2023/01/20/with-inflation-easing-will-interest-rates-hikes-pause.html\" target=\"_blank\">https://www.thestar.com/opinion/editorials/2023/01/20/with-inflation-easing-will-interest-rates-hikes-pause.ht</a>─╯\n",
       "</pre>\n"
      ],
      "text/plain": [
       "╭─────────────────────────────────────────── \u001b[1mToronto Star | Editorials\u001b[0m ───────────────────────────────────────────╮\n",
       "│ ❗Title: \u001b[1mWith inflation easing will interest rates hikes pause?\u001b[0m                                                 │\n",
       "│ Date: 2023-01-20                                                                                                │\n",
       "│                                                                                                                 │\n",
       "│ With some welcome downward movement on inflation, let’s hope then that we’re seeing an end to the Bank of       │\n",
       "│ Canada’s string of rate hikes.                                                                                  │\n",
       "│                                                                                                                 │\n",
       "╰─ \u001b]8;id=647541;https://www.thestar.com/opinion/editorials/2023/01/20/with-inflation-easing-will-interest-rates-hikes-pause.html\u001b\\https://www.thestar.com/opinion/editorials/2023/01/20/with-inflation-easing-will-interest-rates-hikes-pause.ht\u001b]8;;\u001b\\─╯\n"
      ]
     },
     "metadata": {},
     "output_type": "display_data"
    },
    {
     "data": {
      "text/html": [
       "<pre style=\"white-space:pre;overflow-x:auto;line-height:normal;font-family:Menlo,'DejaVu Sans Mono',consolas,'Courier New',monospace\">\n",
       "</pre>\n"
      ],
      "text/plain": [
       "\n"
      ]
     },
     "metadata": {},
     "output_type": "display_data"
    },
    {
     "data": {
      "text/html": [
       "<pre style=\"white-space:pre;overflow-x:auto;line-height:normal;font-family:Menlo,'DejaVu Sans Mono',consolas,'Courier New',monospace\">╭────────────────────────────────────────────── <span style=\"font-weight: bold\">CBC | Business News</span> ──────────────────────────────────────────────╮\n",
       "│ Title: <span style=\"font-weight: bold\">Inflation rate slows to 6.3% — but groceries are still going up at nearly twice that pace</span>                │\n",
       "│ Date: 2023-01-17                                                                                                │\n",
       "│                                                                                                                 │\n",
       "│ Canada's annual inflation rate cooled to 6.3 per cent in December, its lowest level since February.             │\n",
       "│                                                                                                                 │\n",
       "╰───────────────── <a href=\"https://www.cbc.ca/news/business/canada-inflation-december-1.6716315?cmp=rss\" target=\"_blank\">https://www.cbc.ca/news/business/canada-inflation-december-1.6716315?cmp=rss</a> ──────────────────╯\n",
       "</pre>\n"
      ],
      "text/plain": [
       "╭────────────────────────────────────────────── \u001b[1mCBC | Business News\u001b[0m ──────────────────────────────────────────────╮\n",
       "│ Title: \u001b[1mInflation rate slows to 6.3% — but groceries are still going up at nearly twice that pace\u001b[0m                │\n",
       "│ Date: 2023-01-17                                                                                                │\n",
       "│                                                                                                                 │\n",
       "│ Canada's annual inflation rate cooled to 6.3 per cent in December, its lowest level since February.             │\n",
       "│                                                                                                                 │\n",
       "╰───────────────── \u001b]8;id=111258;https://www.cbc.ca/news/business/canada-inflation-december-1.6716315?cmp=rss\u001b\\https://www.cbc.ca/news/business/canada-inflation-december-1.6716315?cmp=rss\u001b]8;;\u001b\\ ──────────────────╯\n"
      ]
     },
     "metadata": {},
     "output_type": "display_data"
    },
    {
     "data": {
      "text/html": [
       "<pre style=\"white-space:pre;overflow-x:auto;line-height:normal;font-family:Menlo,'DejaVu Sans Mono',consolas,'Courier New',monospace\">\n",
       "</pre>\n"
      ],
      "text/plain": [
       "\n"
      ]
     },
     "metadata": {},
     "output_type": "display_data"
    },
    {
     "data": {
      "text/html": [
       "<pre style=\"white-space:pre;overflow-x:auto;line-height:normal;font-family:Menlo,'DejaVu Sans Mono',consolas,'Courier New',monospace\">╭──────────────────────────────────────────────── <span style=\"font-weight: bold\">Richochet Media</span> ────────────────────────────────────────────────╮\n",
       "│ Title: <span style=\"font-weight: bold\">Inflation has been especially good for Canada’s extraction industries</span>                                    │\n",
       "│ Date: Unknown                                                                                                   │\n",
       "│                                                                                                                 │\n",
       "│ While most people struggle to afford the basics, executives at Canada’s oil, gas and mining companies have      │\n",
       "│ pocketed nearly a quarter of the extra money Canadians are spending due to inflation, according to a new report │\n",
       "│ from the Canadian Centre for Po...                                                                              │\n",
       "│                                                                                                                 │\n",
       "╰───────── <a href=\"https://ricochet.media/en/3920/inflation-has-been-very-good-for-canadas-extraction-industries\" target=\"_blank\">https://ricochet.media/en/3920/inflation-has-been-very-good-for-canadas-extraction-industries</a> ─────────╯\n",
       "</pre>\n"
      ],
      "text/plain": [
       "╭──────────────────────────────────────────────── \u001b[1mRichochet Media\u001b[0m ────────────────────────────────────────────────╮\n",
       "│ Title: \u001b[1mInflation has been especially good for Canada’s extraction industries\u001b[0m                                    │\n",
       "│ Date: Unknown                                                                                                   │\n",
       "│                                                                                                                 │\n",
       "│ While most people struggle to afford the basics, executives at Canada’s oil, gas and mining companies have      │\n",
       "│ pocketed nearly a quarter of the extra money Canadians are spending due to inflation, according to a new report │\n",
       "│ from the Canadian Centre for Po...                                                                              │\n",
       "│                                                                                                                 │\n",
       "╰───────── \u001b]8;id=595795;https://ricochet.media/en/3920/inflation-has-been-very-good-for-canadas-extraction-industries\u001b\\https://ricochet.media/en/3920/inflation-has-been-very-good-for-canadas-extraction-industries\u001b]8;;\u001b\\ ─────────╯\n"
      ]
     },
     "metadata": {},
     "output_type": "display_data"
    },
    {
     "data": {
      "text/html": [
       "<pre style=\"white-space:pre;overflow-x:auto;line-height:normal;font-family:Menlo,'DejaVu Sans Mono',consolas,'Courier New',monospace\">\n",
       "</pre>\n"
      ],
      "text/plain": [
       "\n"
      ]
     },
     "metadata": {},
     "output_type": "display_data"
    },
    {
     "data": {
      "text/html": [
       "<pre style=\"white-space:pre;overflow-x:auto;line-height:normal;font-family:Menlo,'DejaVu Sans Mono',consolas,'Courier New',monospace\">╭──────────────────────────────────────────────── <span style=\"font-weight: bold\">Richochet Media</span> ────────────────────────────────────────────────╮\n",
       "│ Title: <span style=\"font-weight: bold\">The only real solution to surviving inflation is collective organizing</span>                                   │\n",
       "│ Date: Unknown                                                                                                   │\n",
       "│                                                                                                                 │\n",
       "│ When Teamsters Local 91 was bargaining its collective agreement with Metro for warehouse workers in Ottawa      │\n",
       "│ earlier this year, the negotiation team was able to make a number of points to the head office. One: Metro was  │\n",
       "│ having trouble retaining employe...                                                                             │\n",
       "│                                                                                                                 │\n",
       "╰───── <a href=\"https://ricochet.media/en/3914/the-only-real-solution-to-surviving-inflation-is-collective-organizing\" target=\"_blank\">https://ricochet.media/en/3914/the-only-real-solution-to-surviving-inflation-is-collective-organizing</a> ─────╯\n",
       "</pre>\n"
      ],
      "text/plain": [
       "╭──────────────────────────────────────────────── \u001b[1mRichochet Media\u001b[0m ────────────────────────────────────────────────╮\n",
       "│ Title: \u001b[1mThe only real solution to surviving inflation is collective organizing\u001b[0m                                   │\n",
       "│ Date: Unknown                                                                                                   │\n",
       "│                                                                                                                 │\n",
       "│ When Teamsters Local 91 was bargaining its collective agreement with Metro for warehouse workers in Ottawa      │\n",
       "│ earlier this year, the negotiation team was able to make a number of points to the head office. One: Metro was  │\n",
       "│ having trouble retaining employe...                                                                             │\n",
       "│                                                                                                                 │\n",
       "╰───── \u001b]8;id=661359;https://ricochet.media/en/3914/the-only-real-solution-to-surviving-inflation-is-collective-organizing\u001b\\https://ricochet.media/en/3914/the-only-real-solution-to-surviving-inflation-is-collective-organizing\u001b]8;;\u001b\\ ─────╯\n"
      ]
     },
     "metadata": {},
     "output_type": "display_data"
    },
    {
     "data": {
      "text/html": [
       "<pre style=\"white-space:pre;overflow-x:auto;line-height:normal;font-family:Menlo,'DejaVu Sans Mono',consolas,'Courier New',monospace\">\n",
       "</pre>\n"
      ],
      "text/plain": [
       "\n"
      ]
     },
     "metadata": {},
     "output_type": "display_data"
    },
    {
     "data": {
      "text/html": [
       "<pre style=\"white-space:pre;overflow-x:auto;line-height:normal;font-family:Menlo,'DejaVu Sans Mono',consolas,'Courier New',monospace\">╭─────────────────────────────────────────────────── <span style=\"font-weight: bold\">Macleans</span> ────────────────────────────────────────────────────╮\n",
       "│ Title: <span style=\"font-weight: bold\">The Year Ahead: Education in 2023</span>                                                                        │\n",
       "│ Date: 2022-12-06                                                                                                │\n",
       "│                                                                                                                 │\n",
       "│ Universities incorporating Indigenous education, inflated post-secondary grades and student protests are in     │\n",
       "│ store                                                                                                           │\n",
       "│ The post The Year Ahead: Education in 2023 appeared first on Macleans.ca.                                       │\n",
       "│                                                                                                                 │\n",
       "╰─── <a href=\"https://www.macleans.ca/year-ahead/year-ahead-education-international-students-public-school-university/\" target=\"_blank\">https://www.macleans.ca/year-ahead/year-ahead-education-international-students-public-school-university/</a> ────╯\n",
       "</pre>\n"
      ],
      "text/plain": [
       "╭─────────────────────────────────────────────────── \u001b[1mMacleans\u001b[0m ────────────────────────────────────────────────────╮\n",
       "│ Title: \u001b[1mThe Year Ahead: Education in 2023\u001b[0m                                                                        │\n",
       "│ Date: 2022-12-06                                                                                                │\n",
       "│                                                                                                                 │\n",
       "│ Universities incorporating Indigenous education, inflated post-secondary grades and student protests are in     │\n",
       "│ store                                                                                                           │\n",
       "│ The post The Year Ahead: Education in 2023 appeared first on Macleans.ca.                                       │\n",
       "│                                                                                                                 │\n",
       "╰─── \u001b]8;id=482264;https://www.macleans.ca/year-ahead/year-ahead-education-international-students-public-school-university/\u001b\\https://www.macleans.ca/year-ahead/year-ahead-education-international-students-public-school-university/\u001b]8;;\u001b\\ ────╯\n"
      ]
     },
     "metadata": {},
     "output_type": "display_data"
    },
    {
     "data": {
      "text/html": [
       "<pre style=\"white-space:pre;overflow-x:auto;line-height:normal;font-family:Menlo,'DejaVu Sans Mono',consolas,'Courier New',monospace\">\n",
       "</pre>\n"
      ],
      "text/plain": [
       "\n"
      ]
     },
     "metadata": {},
     "output_type": "display_data"
    },
    {
     "data": {
      "text/html": [
       "<pre style=\"white-space:pre;overflow-x:auto;line-height:normal;font-family:Menlo,'DejaVu Sans Mono',consolas,'Courier New',monospace\">╭────────────────────────────────────────────── <span style=\"font-weight: bold\">CBC | Business News</span> ──────────────────────────────────────────────╮\n",
       "│ Title: <span style=\"font-weight: bold\">New paradigm means markets may fall with the economy as stimulus runs out</span>                                │\n",
       "│ Date: 2023-01-06                                                                                                │\n",
       "│                                                                                                                 │\n",
       "│ Not long ago it seemed that even as the economy slumped, owners of stocks, bonds and houses only got richer.    │\n",
       "│ But as central banks battle inflation and governments rein in stimulus spending, the rules have changed.        │\n",
       "│                                                                                                                 │\n",
       "╰───────────── <a href=\"https://www.cbc.ca/news/business/market-inflation-column-don-pittis-1.6702103?cmp=rss\" target=\"_blank\">https://www.cbc.ca/news/business/market-inflation-column-don-pittis-1.6702103?cmp=rss</a> ─────────────╯\n",
       "</pre>\n"
      ],
      "text/plain": [
       "╭────────────────────────────────────────────── \u001b[1mCBC | Business News\u001b[0m ──────────────────────────────────────────────╮\n",
       "│ Title: \u001b[1mNew paradigm means markets may fall with the economy as stimulus runs out\u001b[0m                                │\n",
       "│ Date: 2023-01-06                                                                                                │\n",
       "│                                                                                                                 │\n",
       "│ Not long ago it seemed that even as the economy slumped, owners of stocks, bonds and houses only got richer.    │\n",
       "│ But as central banks battle inflation and governments rein in stimulus spending, the rules have changed.        │\n",
       "│                                                                                                                 │\n",
       "╰───────────── \u001b]8;id=50657;https://www.cbc.ca/news/business/market-inflation-column-don-pittis-1.6702103?cmp=rss\u001b\\https://www.cbc.ca/news/business/market-inflation-column-don-pittis-1.6702103?cmp=rss\u001b]8;;\u001b\\ ─────────────╯\n"
      ]
     },
     "metadata": {},
     "output_type": "display_data"
    },
    {
     "data": {
      "text/html": [
       "<pre style=\"white-space:pre;overflow-x:auto;line-height:normal;font-family:Menlo,'DejaVu Sans Mono',consolas,'Courier New',monospace\">\n",
       "</pre>\n"
      ],
      "text/plain": [
       "\n"
      ]
     },
     "metadata": {},
     "output_type": "display_data"
    },
    {
     "data": {
      "text/html": [
       "<pre style=\"white-space:pre;overflow-x:auto;line-height:normal;font-family:Menlo,'DejaVu Sans Mono',consolas,'Courier New',monospace\">╭────────────────────────────────────────────── <span style=\"font-weight: bold\">CBC | Business News</span> ──────────────────────────────────────────────╮\n",
       "│ Title: <span style=\"font-weight: bold\">Netflix earnings show streaming giant is adding customers once again</span>                                     │\n",
       "│ Date: 2023-01-20                                                                                                │\n",
       "│                                                                                                                 │\n",
       "│ Netflix's subscriber growth is surging again, providing an early sign that its shift to include ads in a        │\n",
       "│ cheaper version of its video streaming service is helping to combat tougher competition and attract             │\n",
       "│ cost-conscious customers grappling with inflation.                                                              │\n",
       "│                                                                                                                 │\n",
       "╰────────────────────── <a href=\"https://www.cbc.ca/news/business/netflix-earnings-1.6720405?cmp=rss\" target=\"_blank\">https://www.cbc.ca/news/business/netflix-earnings-1.6720405?cmp=rss</a> ──────────────────────╯\n",
       "</pre>\n"
      ],
      "text/plain": [
       "╭────────────────────────────────────────────── \u001b[1mCBC | Business News\u001b[0m ──────────────────────────────────────────────╮\n",
       "│ Title: \u001b[1mNetflix earnings show streaming giant is adding customers once again\u001b[0m                                     │\n",
       "│ Date: 2023-01-20                                                                                                │\n",
       "│                                                                                                                 │\n",
       "│ Netflix's subscriber growth is surging again, providing an early sign that its shift to include ads in a        │\n",
       "│ cheaper version of its video streaming service is helping to combat tougher competition and attract             │\n",
       "│ cost-conscious customers grappling with inflation.                                                              │\n",
       "│                                                                                                                 │\n",
       "╰────────────────────── \u001b]8;id=1622;https://www.cbc.ca/news/business/netflix-earnings-1.6720405?cmp=rss\u001b\\https://www.cbc.ca/news/business/netflix-earnings-1.6720405?cmp=rss\u001b]8;;\u001b\\ ──────────────────────╯\n"
      ]
     },
     "metadata": {},
     "output_type": "display_data"
    },
    {
     "data": {
      "text/html": [
       "<pre style=\"white-space:pre;overflow-x:auto;line-height:normal;font-family:Menlo,'DejaVu Sans Mono',consolas,'Courier New',monospace\">\n",
       "</pre>\n"
      ],
      "text/plain": [
       "\n"
      ]
     },
     "metadata": {},
     "output_type": "display_data"
    },
    {
     "data": {
      "text/html": [
       "<pre style=\"white-space:pre;overflow-x:auto;line-height:normal;font-family:Menlo,'DejaVu Sans Mono',consolas,'Courier New',monospace\">╭─────────────────────────────────────────────────── <span style=\"font-weight: bold\">Macleans</span> ────────────────────────────────────────────────────╮\n",
       "│ Title: <span style=\"font-weight: bold\">The Year Ahead: Our Guide To 2023</span>                                                                        │\n",
       "│ Date: 2022-12-06                                                                                                │\n",
       "│                                                                                                                 │\n",
       "│ The people, places, events and ideas that will define the year ahead                                            │\n",
       "│ The post The Year Ahead: Our Guide To 2023 appeared first on Macleans.ca.                                       │\n",
       "│                                                                                                                 │\n",
       "╰─────────────────────── <a href=\"https://www.macleans.ca/rankings/the-year-ahead-2023-predictions/\" target=\"_blank\">https://www.macleans.ca/rankings/the-year-ahead-2023-predictions/</a> ───────────────────────╯\n",
       "</pre>\n"
      ],
      "text/plain": [
       "╭─────────────────────────────────────────────────── \u001b[1mMacleans\u001b[0m ────────────────────────────────────────────────────╮\n",
       "│ Title: \u001b[1mThe Year Ahead: Our Guide To 2023\u001b[0m                                                                        │\n",
       "│ Date: 2022-12-06                                                                                                │\n",
       "│                                                                                                                 │\n",
       "│ The people, places, events and ideas that will define the year ahead                                            │\n",
       "│ The post The Year Ahead: Our Guide To 2023 appeared first on Macleans.ca.                                       │\n",
       "│                                                                                                                 │\n",
       "╰─────────────────────── \u001b]8;id=448685;https://www.macleans.ca/rankings/the-year-ahead-2023-predictions/\u001b\\https://www.macleans.ca/rankings/the-year-ahead-2023-predictions/\u001b]8;;\u001b\\ ───────────────────────╯\n"
      ]
     },
     "metadata": {},
     "output_type": "display_data"
    },
    {
     "data": {
      "text/html": [
       "<pre style=\"white-space:pre;overflow-x:auto;line-height:normal;font-family:Menlo,'DejaVu Sans Mono',consolas,'Courier New',monospace\">\n",
       "</pre>\n"
      ],
      "text/plain": [
       "\n"
      ]
     },
     "metadata": {},
     "output_type": "display_data"
    }
   ],
   "source": [
    "pnr.search(\"inflation\")"
   ]
  }
 ],
 "metadata": {
  "kernelspec": {
   "display_name": "Python 3",
   "language": "python",
   "name": "python3"
  }
 },
 "nbformat": 4,
 "nbformat_minor": 4
}
