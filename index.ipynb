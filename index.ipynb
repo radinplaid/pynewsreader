{
 "cells": [
  {
   "cell_type": "code",
   "execution_count": null,
   "metadata": {},
   "outputs": [],
   "source": [
    "#| hide\n",
    "from pynewsreader.core import *"
   ]
  },
  {
   "cell_type": "markdown",
   "metadata": {},
   "source": [
    "# pynewsreader\n",
    "\n",
    "> An easy to use news aggregator and viewer written in python \n",
    "\n",
    "NOTE: This project is under active development and the API may change quite a bit before version 0.1 ends up on Pypi. Feel free to give it a try!"
   ]
  },
  {
   "cell_type": "markdown",
   "metadata": {},
   "source": [
    "## Install"
   ]
  },
  {
   "cell_type": "markdown",
   "metadata": {},
   "source": [
    "```sh\n",
    "pip install git+https://github.com/radinplaid/pynewsreader.git\n",
    "```"
   ]
  },
  {
   "cell_type": "markdown",
   "metadata": {},
   "source": [
    "## Command Line Usage\n",
    "\n",
    "```bash\n",
    "# Show help\n",
    "pnr --help\n",
    "\n",
    "# Add a feed\n",
    "pnr add_feed https://rss.cbc.ca/lineup/world.xml\n",
    "\n",
    "# Update feed(s)\n",
    "pnr update\n",
    "\n",
    "# Show entries\n",
    "pnr show --limit 10\n",
    "\n",
    "# Search entries\n",
    "pnr search canada\n",
    "\n",
    "```"
   ]
  },
  {
   "cell_type": "markdown",
   "metadata": {},
   "source": [
    "## Web Application\n",
    "\n",
    "The main interface for viewing the RSS feeds is the Flask web application, which can be lauched from the command line:\n",
    "\n",
    "```bash\n",
    "pnr-app --host 0.0.0.0 --port 5000\n",
    "# Or\n",
    "python3 -m pynewsreader.app --host 0.0.0.0 --port 5000\n",
    "```"
   ]
  },
  {
   "cell_type": "markdown",
   "metadata": {},
   "source": [
    "## Python Usage\n"
   ]
  },
  {
   "cell_type": "markdown",
   "metadata": {},
   "source": [
    "Import and initialize pnr object"
   ]
  },
  {
   "cell_type": "code",
   "execution_count": null,
   "metadata": {},
   "outputs": [],
   "source": [
    "from pynewsreader.core import Feed, PyNewsReader\n",
    "\n",
    "pnr = PyNewsReader()"
   ]
  },
  {
   "cell_type": "markdown",
   "metadata": {},
   "source": [
    "Add a feed, and use a custom name for it"
   ]
  },
  {
   "cell_type": "code",
   "execution_count": null,
   "metadata": {},
   "outputs": [],
   "source": [
    "myfeed = Feed(\n",
    "    url=\"https://www.thestar.com/content/thestar/feed.RSSManagerServlet.articles.topstories.rss\",\n",
    "    name=\"Toronto Star | Top Stories\",\n",
    ")\n",
    "\n",
    "pnr.add_feed(myfeed)"
   ]
  },
  {
   "cell_type": "code",
   "execution_count": null,
   "metadata": {},
   "outputs": [],
   "source": [
    "myfeed = Feed(\n",
    "    url=\"https://www.thebeaverton.com/feed/?q=1684448990\",\n",
    "    name=\"The Beaverton\",\n",
    ")\n",
    "\n",
    "pnr.add_feed(myfeed)"
   ]
  },
  {
   "cell_type": "markdown",
   "metadata": {},
   "source": [
    "Update feeds"
   ]
  },
  {
   "cell_type": "code",
   "execution_count": null,
   "metadata": {},
   "outputs": [
    {
     "data": {
      "text/html": [
       "<pre style=\"white-space:pre;overflow-x:auto;line-height:normal;font-family:Menlo,'DejaVu Sans Mono',consolas,'Courier New',monospace\">Marking entry as read: Elon Musk assures users his latest tweet too funny to be antisemitic\n",
       "</pre>\n"
      ],
      "text/plain": [
       "Marking entry as read: Elon Musk assures users his latest tweet too funny to be antisemitic\n"
      ]
     },
     "metadata": {},
     "output_type": "display_data"
    }
   ],
   "source": [
    "pnr.update()"
   ]
  },
  {
   "cell_type": "markdown",
   "metadata": {},
   "source": [
    "List entries"
   ]
  },
  {
   "cell_type": "code",
   "execution_count": null,
   "metadata": {},
   "outputs": [
    {
     "data": {
      "text/html": [
       "<pre style=\"white-space:pre;overflow-x:auto;line-height:normal;font-family:Menlo,'DejaVu Sans Mono',consolas,'Courier New',monospace\">╭───────────────────────────────────────────────── <span style=\"font-weight: bold\">The Guardian</span> ──────────────────────────────────────────────────╮\n",
       "│ Title: <span style=\"font-weight: bold\">Sign up for the Guardian Documentaries newsletter: our free short film email</span>                             │\n",
       "│ Date: 2016-09-02                                                                                                │\n",
       "│                                                                                                                 │\n",
       "│ Be the first to see our latest thought-provoking films, bringing you bold and original storytelling from around │\n",
       "│ the worldDiscover the stories behind our latest short films, learn more about our international film-makers,    │\n",
       "│ and join us for exclusive documentary events. We’ll also share a selection of our favourite films, from our     │\n",
       "│ archives and from further afield, for you to enjoy. Sign up below.Can’t wait for the next newsletter? Start     │\n",
       "│ exploring our archive now. Continue reading...                                                                  │\n",
       "│                                                                                                                 │\n",
       "╰────────── <a href=\"https://www.theguardian.com/info/2016/sep/02/sign-up-for-the-guardian-documentaries-update\" target=\"_blank\">https://www.theguardian.com/info/2016/sep/02/sign-up-for-the-guardian-documentaries-update</a> ───────────╯\n",
       "</pre>\n"
      ],
      "text/plain": [
       "╭───────────────────────────────────────────────── \u001b[1mThe Guardian\u001b[0m ──────────────────────────────────────────────────╮\n",
       "│ Title: \u001b[1mSign up for the Guardian Documentaries newsletter: our free short film email\u001b[0m                             │\n",
       "│ Date: 2016-09-02                                                                                                │\n",
       "│                                                                                                                 │\n",
       "│ Be the first to see our latest thought-provoking films, bringing you bold and original storytelling from around │\n",
       "│ the worldDiscover the stories behind our latest short films, learn more about our international film-makers,    │\n",
       "│ and join us for exclusive documentary events. We’ll also share a selection of our favourite films, from our     │\n",
       "│ archives and from further afield, for you to enjoy. Sign up below.Can’t wait for the next newsletter? Start     │\n",
       "│ exploring our archive now. Continue reading...                                                                  │\n",
       "│                                                                                                                 │\n",
       "╰────────── \u001b]8;id=808230;https://www.theguardian.com/info/2016/sep/02/sign-up-for-the-guardian-documentaries-update\u001b\\https://www.theguardian.com/info/2016/sep/02/sign-up-for-the-guardian-documentaries-update\u001b]8;;\u001b\\ ───────────╯\n"
      ]
     },
     "metadata": {},
     "output_type": "display_data"
    },
    {
     "data": {
      "text/html": [
       "<pre style=\"white-space:pre;overflow-x:auto;line-height:normal;font-family:Menlo,'DejaVu Sans Mono',consolas,'Courier New',monospace\">\n",
       "</pre>\n"
      ],
      "text/plain": [
       "\n"
      ]
     },
     "metadata": {},
     "output_type": "display_data"
    }
   ],
   "source": [
    "pnr.show(limit=1)"
   ]
  },
  {
   "cell_type": "markdown",
   "metadata": {},
   "source": [
    "Search entries"
   ]
  },
  {
   "cell_type": "code",
   "execution_count": null,
   "metadata": {},
   "outputs": [
    {
     "data": {
      "text/html": [
       "<pre style=\"white-space:pre;overflow-x:auto;line-height:normal;font-family:Menlo,'DejaVu Sans Mono',consolas,'Courier New',monospace\">╭────────────────────────────────────────── <span style=\"font-weight: bold\">Toronto Star | Top Stories</span> ───────────────────────────────────────────╮\n",
       "│ ❗Title: <span style=\"font-weight: bold\">‘Vicious feedback loop’: The Bank of Canada hiked rates to push inflation down — but it’s also driving</span> │\n",
       "│ <span style=\"font-weight: bold\">inflation up</span>                                                                                                    │\n",
       "│ Date: 2023-05-18                                                                                                │\n",
       "│                                                                                                                 │\n",
       "│ As more Canadians renewed their mortgages at much higher interest rates, costs have soared and contributed to   │\n",
       "│ sticky inflation.                                                                                               │\n",
       "│                                                                                                                 │\n",
       "╰─ <a href=\"https://www.thestar.com/business/2023/05/18/mortgage-costs-jump-28-per-cent-in-april-driving-an-inflation-feedback-loop.html\" target=\"_blank\">https://www.thestar.com/business/2023/05/18/mortgage-costs-jump-28-per-cent-in-april-driving-an-inflation-feed</a>─╯\n",
       "</pre>\n"
      ],
      "text/plain": [
       "╭────────────────────────────────────────── \u001b[1mToronto Star | Top Stories\u001b[0m ───────────────────────────────────────────╮\n",
       "│ ❗Title: \u001b[1m‘Vicious feedback loop’: The Bank of Canada hiked rates to push inflation down — but it’s also driving\u001b[0m │\n",
       "│ \u001b[1minflation up\u001b[0m                                                                                                    │\n",
       "│ Date: 2023-05-18                                                                                                │\n",
       "│                                                                                                                 │\n",
       "│ As more Canadians renewed their mortgages at much higher interest rates, costs have soared and contributed to   │\n",
       "│ sticky inflation.                                                                                               │\n",
       "│                                                                                                                 │\n",
       "╰─ \u001b]8;id=353460;https://www.thestar.com/business/2023/05/18/mortgage-costs-jump-28-per-cent-in-april-driving-an-inflation-feedback-loop.html\u001b\\https://www.thestar.com/business/2023/05/18/mortgage-costs-jump-28-per-cent-in-april-driving-an-inflation-feed\u001b]8;;\u001b\\─╯\n"
      ]
     },
     "metadata": {},
     "output_type": "display_data"
    },
    {
     "data": {
      "text/html": [
       "<pre style=\"white-space:pre;overflow-x:auto;line-height:normal;font-family:Menlo,'DejaVu Sans Mono',consolas,'Courier New',monospace\">\n",
       "</pre>\n"
      ],
      "text/plain": [
       "\n"
      ]
     },
     "metadata": {},
     "output_type": "display_data"
    }
   ],
   "source": [
    "pnr.search(\"inflation\", limit=1)"
   ]
  },
  {
   "cell_type": "code",
   "execution_count": null,
   "metadata": {},
   "outputs": [],
   "source": [
    "# | hide\n",
    "import nbdev\n",
    "\n",
    "nbdev.nbdev_export()"
   ]
  }
 ],
 "metadata": {
  "kernelspec": {
   "display_name": "Python 3 (ipykernel)",
   "language": "python",
   "name": "python3"
  }
 },
 "nbformat": 4,
 "nbformat_minor": 4
}
