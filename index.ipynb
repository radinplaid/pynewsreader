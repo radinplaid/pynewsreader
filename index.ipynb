{
 "cells": [
  {
   "cell_type": "code",
   "execution_count": null,
   "metadata": {},
   "outputs": [],
   "source": [
    "#| hide\n",
    "from pynewsreader.core import *"
   ]
  },
  {
   "cell_type": "markdown",
   "metadata": {},
   "source": [
    "# pynewsreader\n",
    "\n",
    "> An easy to use news aggregator and viewer written in python "
   ]
  },
  {
   "cell_type": "markdown",
   "metadata": {},
   "source": [
    "## Install"
   ]
  },
  {
   "cell_type": "markdown",
   "metadata": {},
   "source": [
    "```sh\n",
    "pip install git+https://github.com/radinplaid/pynewsreader.git\n",
    "```"
   ]
  },
  {
   "cell_type": "markdown",
   "metadata": {},
   "source": [
    "## Command Line Usage\n",
    "\n",
    "```bash\n",
    "# Show help\n",
    "pnr --help\n",
    "\n",
    "# Add a feed\n",
    "pnr add_feed https://rss.cbc.ca/lineup/world.xml\n",
    "\n",
    "# Update feed(s)\n",
    "pnr update\n",
    "\n",
    "# Show entries\n",
    "pnr show --limit 10\n",
    "\n",
    "# Search entries\n",
    "pnr search canada\n",
    "\n",
    "```"
   ]
  },
  {
   "cell_type": "markdown",
   "metadata": {},
   "source": [
    "## Python Usage\n"
   ]
  },
  {
   "cell_type": "markdown",
   "metadata": {},
   "source": [
    "Import and initialize pnr object"
   ]
  },
  {
   "cell_type": "code",
   "execution_count": null,
   "metadata": {},
   "outputs": [],
   "source": [
    "from pynewsreader.core import Feed, PyNewsReader\n",
    "\n",
    "pnr = PyNewsReader()"
   ]
  },
  {
   "cell_type": "markdown",
   "metadata": {},
   "source": [
    "Add a feed, and use a custom name for it"
   ]
  },
  {
   "cell_type": "code",
   "execution_count": null,
   "metadata": {},
   "outputs": [],
   "source": [
    "myfeed = Feed(\n",
    "    url=\"https://www.thestar.com/content/thestar/feed.RSSManagerServlet.articles.topstories.rss\",\n",
    "    name=\"Toronto Star | Top Stories\",\n",
    ")\n",
    "\n",
    "pnr.add_feed(myfeed)"
   ]
  },
  {
   "cell_type": "markdown",
   "metadata": {},
   "source": [
    "Update feeds"
   ]
  },
  {
   "cell_type": "code",
   "execution_count": null,
   "metadata": {},
   "outputs": [],
   "source": [
    "pnr.update()"
   ]
  },
  {
   "cell_type": "markdown",
   "metadata": {},
   "source": [
    "List entries"
   ]
  },
  {
   "cell_type": "code",
   "execution_count": null,
   "metadata": {},
   "outputs": [
    {
     "data": {
      "text/html": [
       "<pre style=\"white-space:pre;overflow-x:auto;line-height:normal;font-family:Menlo,'DejaVu Sans Mono',consolas,'Courier New',monospace\">╭─────────────────────────────────────────────── <span style=\"font-weight: bold\">CBC | World News</span> ────────────────────────────────────────────────╮\n",
       "│ Title: <span style=\"font-weight: bold\">At least 90 protesters detained in Iran face execution or life-threatening charges, CBC News has learned</span> │\n",
       "│ Date: 2022-12-24                                                                                                │\n",
       "│                                                                                                                 │\n",
       "│ Human rights activists say the need to identify and publicize the names of thousands of protesters detained in  │\n",
       "│ Iran is urgent and that the attention and public pressure on Iranian authorities will help save the lives of    │\n",
       "│ many who are voiceless.                                                                                         │\n",
       "│                                                                                                                 │\n",
       "╰─────────────── <a href=\"https://www.cbc.ca/news/world/iranian-protesters-face-execution-1.6697095?cmp=rss\" target=\"_blank\">https://www.cbc.ca/news/world/iranian-protesters-face-execution-1.6697095?cmp=rss</a> ───────────────╯\n",
       "</pre>\n"
      ],
      "text/plain": [
       "╭─────────────────────────────────────────────── \u001b[1mCBC | World News\u001b[0m ────────────────────────────────────────────────╮\n",
       "│ Title: \u001b[1mAt least 90 protesters detained in Iran face execution or life-threatening charges, CBC News has learned\u001b[0m │\n",
       "│ Date: 2022-12-24                                                                                                │\n",
       "│                                                                                                                 │\n",
       "│ Human rights activists say the need to identify and publicize the names of thousands of protesters detained in  │\n",
       "│ Iran is urgent and that the attention and public pressure on Iranian authorities will help save the lives of    │\n",
       "│ many who are voiceless.                                                                                         │\n",
       "│                                                                                                                 │\n",
       "╰─────────────── \u001b]8;id=318297;https://www.cbc.ca/news/world/iranian-protesters-face-execution-1.6697095?cmp=rss\u001b\\https://www.cbc.ca/news/world/iranian-protesters-face-execution-1.6697095?cmp=rss\u001b]8;;\u001b\\ ───────────────╯\n"
      ]
     },
     "metadata": {},
     "output_type": "display_data"
    },
    {
     "data": {
      "text/html": [
       "<pre style=\"white-space:pre;overflow-x:auto;line-height:normal;font-family:Menlo,'DejaVu Sans Mono',consolas,'Courier New',monospace\">\n",
       "</pre>\n"
      ],
      "text/plain": [
       "\n"
      ]
     },
     "metadata": {},
     "output_type": "display_data"
    },
    {
     "data": {
      "text/html": [
       "<pre style=\"white-space:pre;overflow-x:auto;line-height:normal;font-family:Menlo,'DejaVu Sans Mono',consolas,'Courier New',monospace\">╭────────────────────────────────────────── <span style=\"font-weight: bold\">Toronto Star | Top Stories</span> ───────────────────────────────────────────╮\n",
       "│ Title: <span style=\"font-weight: bold\">SickKids says it could be ‘weeks’ until full recovery from ransomware attack</span>                             │\n",
       "│ Date: 2022-12-24                                                                                                │\n",
       "│                                                                                                                 │\n",
       "│ “Some patients and families may still experience diagnostic and/or treatment delays.”                           │\n",
       "│                                                                                                                 │\n",
       "╰─ <a href=\"https://www.thestar.com/news/gta/2022/12/23/sickkids-says-it-could-be-weeks-until-full-recovery-from-ransomware-attack.html\" target=\"_blank\">https://www.thestar.com/news/gta/2022/12/23/sickkids-says-it-could-be-weeks-until-full-recovery-from-ransomwar</a>─╯\n",
       "</pre>\n"
      ],
      "text/plain": [
       "╭────────────────────────────────────────── \u001b[1mToronto Star | Top Stories\u001b[0m ───────────────────────────────────────────╮\n",
       "│ Title: \u001b[1mSickKids says it could be ‘weeks’ until full recovery from ransomware attack\u001b[0m                             │\n",
       "│ Date: 2022-12-24                                                                                                │\n",
       "│                                                                                                                 │\n",
       "│ “Some patients and families may still experience diagnostic and/or treatment delays.”                           │\n",
       "│                                                                                                                 │\n",
       "╰─ \u001b]8;id=667650;https://www.thestar.com/news/gta/2022/12/23/sickkids-says-it-could-be-weeks-until-full-recovery-from-ransomware-attack.html\u001b\\https://www.thestar.com/news/gta/2022/12/23/sickkids-says-it-could-be-weeks-until-full-recovery-from-ransomwar\u001b]8;;\u001b\\─╯\n"
      ]
     },
     "metadata": {},
     "output_type": "display_data"
    },
    {
     "data": {
      "text/html": [
       "<pre style=\"white-space:pre;overflow-x:auto;line-height:normal;font-family:Menlo,'DejaVu Sans Mono',consolas,'Courier New',monospace\">\n",
       "</pre>\n"
      ],
      "text/plain": [
       "\n"
      ]
     },
     "metadata": {},
     "output_type": "display_data"
    },
    {
     "data": {
      "text/html": [
       "<pre style=\"white-space:pre;overflow-x:auto;line-height:normal;font-family:Menlo,'DejaVu Sans Mono',consolas,'Courier New',monospace\">╭────────────────────────────────────────── <span style=\"font-weight: bold\">Toronto Star | Top Stories</span> ───────────────────────────────────────────╮\n",
       "│ Title: <span style=\"font-weight: bold\">Blue Jays trade Lourdes Gurriel Jr., Gabriel Moreno to Diamondbacks for Daulton Varsho</span>                   │\n",
       "│ Date: 2022-12-23                                                                                                │\n",
       "│                                                                                                                 │\n",
       "│ The 26-year-old Varsho blasted 27 home runs last season with Arizona and gives the Jays the left-handed power   │\n",
       "│ bat they’d been seeking.                                                                                        │\n",
       "│                                                                                                                 │\n",
       "╰─ <a href=\"https://www.thestar.com/sports/bluejays/2022/12/23/blue-jays-trade-lourdes-gurriel-jr-prospect-gabriel-moreno-to-diamondbacks-for-daulton-varsho.html\" target=\"_blank\">https://www.thestar.com/sports/bluejays/2022/12/23/blue-jays-trade-lourdes-gurriel-jr-prospect-gabriel-moreno-</a>─╯\n",
       "</pre>\n"
      ],
      "text/plain": [
       "╭────────────────────────────────────────── \u001b[1mToronto Star | Top Stories\u001b[0m ───────────────────────────────────────────╮\n",
       "│ Title: \u001b[1mBlue Jays trade Lourdes Gurriel Jr., Gabriel Moreno to Diamondbacks for Daulton Varsho\u001b[0m                   │\n",
       "│ Date: 2022-12-23                                                                                                │\n",
       "│                                                                                                                 │\n",
       "│ The 26-year-old Varsho blasted 27 home runs last season with Arizona and gives the Jays the left-handed power   │\n",
       "│ bat they’d been seeking.                                                                                        │\n",
       "│                                                                                                                 │\n",
       "╰─ \u001b]8;id=76337;https://www.thestar.com/sports/bluejays/2022/12/23/blue-jays-trade-lourdes-gurriel-jr-prospect-gabriel-moreno-to-diamondbacks-for-daulton-varsho.html\u001b\\https://www.thestar.com/sports/bluejays/2022/12/23/blue-jays-trade-lourdes-gurriel-jr-prospect-gabriel-moreno-\u001b]8;;\u001b\\─╯\n"
      ]
     },
     "metadata": {},
     "output_type": "display_data"
    },
    {
     "data": {
      "text/html": [
       "<pre style=\"white-space:pre;overflow-x:auto;line-height:normal;font-family:Menlo,'DejaVu Sans Mono',consolas,'Courier New',monospace\">\n",
       "</pre>\n"
      ],
      "text/plain": [
       "\n"
      ]
     },
     "metadata": {},
     "output_type": "display_data"
    },
    {
     "data": {
      "text/html": [
       "<pre style=\"white-space:pre;overflow-x:auto;line-height:normal;font-family:Menlo,'DejaVu Sans Mono',consolas,'Courier New',monospace\">╭─────────────────────────────────────────────── <span style=\"font-weight: bold\">CBC | World News</span> ────────────────────────────────────────────────╮\n",
       "│ Title: <span style=\"font-weight: bold\">Thom Bell, an architect of 1970s Philadelphia soul, dead at 79</span>                                           │\n",
       "│ Date: 2022-12-23                                                                                                │\n",
       "│                                                                                                                 │\n",
       "│ Grammy-winning producer and arranger Thom Bell, who helped perfect the 'Sound of Philadelphia' of the 1970s     │\n",
       "│ with the orchestral settings of such hits as I'll Be Around and Betcha by Golly, Wow, has died at age 79.       │\n",
       "│                                                                                                                 │\n",
       "╰──────────────── <a href=\"https://www.cbc.ca/news/entertainment/obit-thom-bell-producer-1.6696798?cmp=rss\" target=\"_blank\">https://www.cbc.ca/news/entertainment/obit-thom-bell-producer-1.6696798?cmp=rss</a> ────────────────╯\n",
       "</pre>\n"
      ],
      "text/plain": [
       "╭─────────────────────────────────────────────── \u001b[1mCBC | World News\u001b[0m ────────────────────────────────────────────────╮\n",
       "│ Title: \u001b[1mThom Bell, an architect of 1970s Philadelphia soul, dead at 79\u001b[0m                                           │\n",
       "│ Date: 2022-12-23                                                                                                │\n",
       "│                                                                                                                 │\n",
       "│ Grammy-winning producer and arranger Thom Bell, who helped perfect the 'Sound of Philadelphia' of the 1970s     │\n",
       "│ with the orchestral settings of such hits as I'll Be Around and Betcha by Golly, Wow, has died at age 79.       │\n",
       "│                                                                                                                 │\n",
       "╰──────────────── \u001b]8;id=297828;https://www.cbc.ca/news/entertainment/obit-thom-bell-producer-1.6696798?cmp=rss\u001b\\https://www.cbc.ca/news/entertainment/obit-thom-bell-producer-1.6696798?cmp=rss\u001b]8;;\u001b\\ ────────────────╯\n"
      ]
     },
     "metadata": {},
     "output_type": "display_data"
    },
    {
     "data": {
      "text/html": [
       "<pre style=\"white-space:pre;overflow-x:auto;line-height:normal;font-family:Menlo,'DejaVu Sans Mono',consolas,'Courier New',monospace\">\n",
       "</pre>\n"
      ],
      "text/plain": [
       "\n"
      ]
     },
     "metadata": {},
     "output_type": "display_data"
    },
    {
     "data": {
      "text/html": [
       "<pre style=\"white-space:pre;overflow-x:auto;line-height:normal;font-family:Menlo,'DejaVu Sans Mono',consolas,'Courier New',monospace\">╭────────────────────────────────────────── <span style=\"font-weight: bold\">Toronto Star | Top Stories</span> ───────────────────────────────────────────╮\n",
       "│ Title: <span style=\"font-weight: bold\">Doug Ford’s chief of staff is leaving</span>                                                                    │\n",
       "│ Date: 2022-12-23                                                                                                │\n",
       "│                                                                                                                 │\n",
       "│ Jamie Wallace, the premier’s top aide since 2019, is leaving to head up Supply Ontario, the province’s          │\n",
       "│ procurement agency.                                                                                             │\n",
       "│                                                                                                                 │\n",
       "╰─────── <a href=\"https://www.thestar.com/politics/provincial/2022/12/23/doug-fords-chief-of-staff-is-leaving.html\" target=\"_blank\">https://www.thestar.com/politics/provincial/2022/12/23/doug-fords-chief-of-staff-is-leaving.html</a> ────────╯\n",
       "</pre>\n"
      ],
      "text/plain": [
       "╭────────────────────────────────────────── \u001b[1mToronto Star | Top Stories\u001b[0m ───────────────────────────────────────────╮\n",
       "│ Title: \u001b[1mDoug Ford’s chief of staff is leaving\u001b[0m                                                                    │\n",
       "│ Date: 2022-12-23                                                                                                │\n",
       "│                                                                                                                 │\n",
       "│ Jamie Wallace, the premier’s top aide since 2019, is leaving to head up Supply Ontario, the province’s          │\n",
       "│ procurement agency.                                                                                             │\n",
       "│                                                                                                                 │\n",
       "╰─────── \u001b]8;id=337776;https://www.thestar.com/politics/provincial/2022/12/23/doug-fords-chief-of-staff-is-leaving.html\u001b\\https://www.thestar.com/politics/provincial/2022/12/23/doug-fords-chief-of-staff-is-leaving.html\u001b]8;;\u001b\\ ────────╯\n"
      ]
     },
     "metadata": {},
     "output_type": "display_data"
    },
    {
     "data": {
      "text/html": [
       "<pre style=\"white-space:pre;overflow-x:auto;line-height:normal;font-family:Menlo,'DejaVu Sans Mono',consolas,'Courier New',monospace\">\n",
       "</pre>\n"
      ],
      "text/plain": [
       "\n"
      ]
     },
     "metadata": {},
     "output_type": "display_data"
    }
   ],
   "source": [
    "pnr.show()"
   ]
  },
  {
   "cell_type": "markdown",
   "metadata": {},
   "source": [
    "Search entries"
   ]
  },
  {
   "cell_type": "code",
   "execution_count": null,
   "metadata": {},
   "outputs": [
    {
     "data": {
      "text/html": [
       "<pre style=\"white-space:pre;overflow-x:auto;line-height:normal;font-family:Menlo,'DejaVu Sans Mono',consolas,'Courier New',monospace\">╭────────────────────────────────────────── <span style=\"font-weight: bold\">Toronto Star | Top Stories</span> ───────────────────────────────────────────╮\n",
       "│ Title: <span style=\"font-weight: bold\">If Canada wants citizens back from Syrian prison camps, it may just need to ask</span>                          │\n",
       "│ Date: 2022-12-23                                                                                                │\n",
       "│                                                                                                                 │\n",
       "│ Canada has acknowledged “deteriorating conditions” in Roj and Al-Hol camps and is reviewing whether Canadians   │\n",
       "│ are eligible for emergency assistance.                                                                          │\n",
       "│                                                                                                                 │\n",
       "╰─ <a href=\"https://www.thestar.com/news/canada/2022/12/23/if-canada-wants-citizens-back-from-syrian-prison-camps-it-may-just-need-to-ask.html\" target=\"_blank\">https://www.thestar.com/news/canada/2022/12/23/if-canada-wants-citizens-back-from-syrian-prison-camps-it-may-j</a>─╯\n",
       "</pre>\n"
      ],
      "text/plain": [
       "╭────────────────────────────────────────── \u001b[1mToronto Star | Top Stories\u001b[0m ───────────────────────────────────────────╮\n",
       "│ Title: \u001b[1mIf Canada wants citizens back from Syrian prison camps, it may just need to ask\u001b[0m                          │\n",
       "│ Date: 2022-12-23                                                                                                │\n",
       "│                                                                                                                 │\n",
       "│ Canada has acknowledged “deteriorating conditions” in Roj and Al-Hol camps and is reviewing whether Canadians   │\n",
       "│ are eligible for emergency assistance.                                                                          │\n",
       "│                                                                                                                 │\n",
       "╰─ \u001b]8;id=222755;https://www.thestar.com/news/canada/2022/12/23/if-canada-wants-citizens-back-from-syrian-prison-camps-it-may-just-need-to-ask.html\u001b\\https://www.thestar.com/news/canada/2022/12/23/if-canada-wants-citizens-back-from-syrian-prison-camps-it-may-j\u001b]8;;\u001b\\─╯\n"
      ]
     },
     "metadata": {},
     "output_type": "display_data"
    },
    {
     "data": {
      "text/html": [
       "<pre style=\"white-space:pre;overflow-x:auto;line-height:normal;font-family:Menlo,'DejaVu Sans Mono',consolas,'Courier New',monospace\">\n",
       "</pre>\n"
      ],
      "text/plain": [
       "\n"
      ]
     },
     "metadata": {},
     "output_type": "display_data"
    },
    {
     "data": {
      "text/html": [
       "<pre style=\"white-space:pre;overflow-x:auto;line-height:normal;font-family:Menlo,'DejaVu Sans Mono',consolas,'Courier New',monospace\">╭─────────────────────────────────────────────── <span style=\"font-weight: bold\">CBC | World News</span> ────────────────────────────────────────────────╮\n",
       "│ Title: <span style=\"font-weight: bold\">Refugee group partners with Ottawa to bring hundreds of LGBTQ Afghans to Canada</span>                          │\n",
       "│ Date: 2022-12-22                                                                                                │\n",
       "│                                                                                                                 │\n",
       "│ A leading advocacy organization for LGBTQ refugees is partnering with the federal government to resettle        │\n",
       "│ hundreds of Afghan refugees fleeing persecution because of their sexual orientation or gender identity.         │\n",
       "│                                                                                                                 │\n",
       "╰────────────── <a href=\"https://www.cbc.ca/news/canada/canada-afghanistan-lgbtq-refugees-1.6694650?cmp=rss\" target=\"_blank\">https://www.cbc.ca/news/canada/canada-afghanistan-lgbtq-refugees-1.6694650?cmp=rss</a> ───────────────╯\n",
       "</pre>\n"
      ],
      "text/plain": [
       "╭─────────────────────────────────────────────── \u001b[1mCBC | World News\u001b[0m ────────────────────────────────────────────────╮\n",
       "│ Title: \u001b[1mRefugee group partners with Ottawa to bring hundreds of LGBTQ Afghans to Canada\u001b[0m                          │\n",
       "│ Date: 2022-12-22                                                                                                │\n",
       "│                                                                                                                 │\n",
       "│ A leading advocacy organization for LGBTQ refugees is partnering with the federal government to resettle        │\n",
       "│ hundreds of Afghan refugees fleeing persecution because of their sexual orientation or gender identity.         │\n",
       "│                                                                                                                 │\n",
       "╰────────────── \u001b]8;id=947773;https://www.cbc.ca/news/canada/canada-afghanistan-lgbtq-refugees-1.6694650?cmp=rss\u001b\\https://www.cbc.ca/news/canada/canada-afghanistan-lgbtq-refugees-1.6694650?cmp=rss\u001b]8;;\u001b\\ ───────────────╯\n"
      ]
     },
     "metadata": {},
     "output_type": "display_data"
    },
    {
     "data": {
      "text/html": [
       "<pre style=\"white-space:pre;overflow-x:auto;line-height:normal;font-family:Menlo,'DejaVu Sans Mono',consolas,'Courier New',monospace\">\n",
       "</pre>\n"
      ],
      "text/plain": [
       "\n"
      ]
     },
     "metadata": {},
     "output_type": "display_data"
    },
    {
     "data": {
      "text/html": [
       "<pre style=\"white-space:pre;overflow-x:auto;line-height:normal;font-family:Menlo,'DejaVu Sans Mono',consolas,'Courier New',monospace\">╭────────────────────────────────────────── <span style=\"font-weight: bold\">Toronto Star | Top Stories</span> ───────────────────────────────────────────╮\n",
       "│ Title: <span style=\"font-weight: bold\">What is a ‘weather bomb’? Here are the winter storm terms you need to know</span>                               │\n",
       "│ Date: 2022-12-22                                                                                                │\n",
       "│                                                                                                                 │\n",
       "│ Environment and Climate Change Canada issued a winter storm warning for Toronto that promises to bring          │\n",
       "│ “hazardous” travel conditions.                                                                                  │\n",
       "│                                                                                                                 │\n",
       "╰─ <a href=\"https://www.thestar.com/news/gta/2022/12/22/what-is-a-weather-bomb-here-are-the-winter-storm-terms-you-need-to-know.html\" target=\"_blank\">https://www.thestar.com/news/gta/2022/12/22/what-is-a-weather-bomb-here-are-the-winter-storm-terms-you-need-to</a>─╯\n",
       "</pre>\n"
      ],
      "text/plain": [
       "╭────────────────────────────────────────── \u001b[1mToronto Star | Top Stories\u001b[0m ───────────────────────────────────────────╮\n",
       "│ Title: \u001b[1mWhat is a ‘weather bomb’? Here are the winter storm terms you need to know\u001b[0m                               │\n",
       "│ Date: 2022-12-22                                                                                                │\n",
       "│                                                                                                                 │\n",
       "│ Environment and Climate Change Canada issued a winter storm warning for Toronto that promises to bring          │\n",
       "│ “hazardous” travel conditions.                                                                                  │\n",
       "│                                                                                                                 │\n",
       "╰─ \u001b]8;id=406288;https://www.thestar.com/news/gta/2022/12/22/what-is-a-weather-bomb-here-are-the-winter-storm-terms-you-need-to-know.html\u001b\\https://www.thestar.com/news/gta/2022/12/22/what-is-a-weather-bomb-here-are-the-winter-storm-terms-you-need-to\u001b]8;;\u001b\\─╯\n"
      ]
     },
     "metadata": {},
     "output_type": "display_data"
    },
    {
     "data": {
      "text/html": [
       "<pre style=\"white-space:pre;overflow-x:auto;line-height:normal;font-family:Menlo,'DejaVu Sans Mono',consolas,'Courier New',monospace\">\n",
       "</pre>\n"
      ],
      "text/plain": [
       "\n"
      ]
     },
     "metadata": {},
     "output_type": "display_data"
    },
    {
     "data": {
      "text/html": [
       "<pre style=\"white-space:pre;overflow-x:auto;line-height:normal;font-family:Menlo,'DejaVu Sans Mono',consolas,'Courier New',monospace\">╭────────────────────────────────────────── <span style=\"font-weight: bold\">Toronto Star | Top Stories</span> ───────────────────────────────────────────╮\n",
       "│ Title: <span style=\"font-weight: bold\">Supermarkets continue to increase profits on back of inflation, data shows</span>                               │\n",
       "│ Date: 2022-12-23                                                                                                │\n",
       "│                                                                                                                 │\n",
       "│ Canada’s big three supermarket chains have continued to boost their profits amid record high grocery prices, a  │\n",
       "│ new Star analysis has found.                                                                                    │\n",
       "│                                                                                                                 │\n",
       "╰─ <a href=\"https://www.thestar.com/news/canada/2022/12/23/supermarkets-continue-to-increase-profits-on-back-of-inflation-data-shows.html\" target=\"_blank\">https://www.thestar.com/news/canada/2022/12/23/supermarkets-continue-to-increase-profits-on-back-of-inflation-</a>─╯\n",
       "</pre>\n"
      ],
      "text/plain": [
       "╭────────────────────────────────────────── \u001b[1mToronto Star | Top Stories\u001b[0m ───────────────────────────────────────────╮\n",
       "│ Title: \u001b[1mSupermarkets continue to increase profits on back of inflation, data shows\u001b[0m                               │\n",
       "│ Date: 2022-12-23                                                                                                │\n",
       "│                                                                                                                 │\n",
       "│ Canada’s big three supermarket chains have continued to boost their profits amid record high grocery prices, a  │\n",
       "│ new Star analysis has found.                                                                                    │\n",
       "│                                                                                                                 │\n",
       "╰─ \u001b]8;id=690604;https://www.thestar.com/news/canada/2022/12/23/supermarkets-continue-to-increase-profits-on-back-of-inflation-data-shows.html\u001b\\https://www.thestar.com/news/canada/2022/12/23/supermarkets-continue-to-increase-profits-on-back-of-inflation-\u001b]8;;\u001b\\─╯\n"
      ]
     },
     "metadata": {},
     "output_type": "display_data"
    },
    {
     "data": {
      "text/html": [
       "<pre style=\"white-space:pre;overflow-x:auto;line-height:normal;font-family:Menlo,'DejaVu Sans Mono',consolas,'Courier New',monospace\">\n",
       "</pre>\n"
      ],
      "text/plain": [
       "\n"
      ]
     },
     "metadata": {},
     "output_type": "display_data"
    },
    {
     "data": {
      "text/html": [
       "<pre style=\"white-space:pre;overflow-x:auto;line-height:normal;font-family:Menlo,'DejaVu Sans Mono',consolas,'Courier New',monospace\">╭─────────────────────────────────────────────── <span style=\"font-weight: bold\">CBC | World News</span> ────────────────────────────────────────────────╮\n",
       "│ Title: <span style=\"font-weight: bold\">Former Haiti PM Laurent Lamothe seeks to contest Canadian sanctions in Federal Court</span>                     │\n",
       "│ Date: 2022-12-23                                                                                                │\n",
       "│                                                                                                                 │\n",
       "│ Former Haitian prime minister Laurent Lamothe is asking a judge to strike down sanctions Canada imposed on him  │\n",
       "│ over claims he supported gangs that have unleashed a humanitarian crisis in Haiti.                              │\n",
       "│                                                                                                                 │\n",
       "╰────────────── <a href=\"https://www.cbc.ca/news/politics/laurent-lamothe-haiti-sanctions-1.6696134?cmp=rss\" target=\"_blank\">https://www.cbc.ca/news/politics/laurent-lamothe-haiti-sanctions-1.6696134?cmp=rss</a> ───────────────╯\n",
       "</pre>\n"
      ],
      "text/plain": [
       "╭─────────────────────────────────────────────── \u001b[1mCBC | World News\u001b[0m ────────────────────────────────────────────────╮\n",
       "│ Title: \u001b[1mFormer Haiti PM Laurent Lamothe seeks to contest Canadian sanctions in Federal Court\u001b[0m                     │\n",
       "│ Date: 2022-12-23                                                                                                │\n",
       "│                                                                                                                 │\n",
       "│ Former Haitian prime minister Laurent Lamothe is asking a judge to strike down sanctions Canada imposed on him  │\n",
       "│ over claims he supported gangs that have unleashed a humanitarian crisis in Haiti.                              │\n",
       "│                                                                                                                 │\n",
       "╰────────────── \u001b]8;id=411994;https://www.cbc.ca/news/politics/laurent-lamothe-haiti-sanctions-1.6696134?cmp=rss\u001b\\https://www.cbc.ca/news/politics/laurent-lamothe-haiti-sanctions-1.6696134?cmp=rss\u001b]8;;\u001b\\ ───────────────╯\n"
      ]
     },
     "metadata": {},
     "output_type": "display_data"
    },
    {
     "data": {
      "text/html": [
       "<pre style=\"white-space:pre;overflow-x:auto;line-height:normal;font-family:Menlo,'DejaVu Sans Mono',consolas,'Courier New',monospace\">\n",
       "</pre>\n"
      ],
      "text/plain": [
       "\n"
      ]
     },
     "metadata": {},
     "output_type": "display_data"
    },
    {
     "data": {
      "text/html": [
       "<pre style=\"white-space:pre;overflow-x:auto;line-height:normal;font-family:Menlo,'DejaVu Sans Mono',consolas,'Courier New',monospace\">╭─────────────────────────────────────────────── <span style=\"font-weight: bold\">CBC | World News</span> ────────────────────────────────────────────────╮\n",
       "│ Title: <span style=\"font-weight: bold\">Diplomacy isn't dead, but sometimes you can't reason with a bully, says Bob Rae</span>                          │\n",
       "│ Date: 2022-12-23                                                                                                │\n",
       "│                                                                                                                 │\n",
       "│ Canada’s Ambassador to the United Nations Bob Rae says diplomacy and appeasement often isn't the way to deal    │\n",
       "│ with extreme aggression, such as in Russia’s invasion of Ukraine.                                               │\n",
       "│                                                                                                                 │\n",
       "╰────────── <a href=\"https://www.cbc.ca/radio/thecurrent/bob-rae-2022-diplomacy-russia-ukraine-1.6695397?cmp=rss\" target=\"_blank\">https://www.cbc.ca/radio/thecurrent/bob-rae-2022-diplomacy-russia-ukraine-1.6695397?cmp=rss</a> ──────────╯\n",
       "</pre>\n"
      ],
      "text/plain": [
       "╭─────────────────────────────────────────────── \u001b[1mCBC | World News\u001b[0m ────────────────────────────────────────────────╮\n",
       "│ Title: \u001b[1mDiplomacy isn't dead, but sometimes you can't reason with a bully, says Bob Rae\u001b[0m                          │\n",
       "│ Date: 2022-12-23                                                                                                │\n",
       "│                                                                                                                 │\n",
       "│ Canada’s Ambassador to the United Nations Bob Rae says diplomacy and appeasement often isn't the way to deal    │\n",
       "│ with extreme aggression, such as in Russia’s invasion of Ukraine.                                               │\n",
       "│                                                                                                                 │\n",
       "╰────────── \u001b]8;id=306107;https://www.cbc.ca/radio/thecurrent/bob-rae-2022-diplomacy-russia-ukraine-1.6695397?cmp=rss\u001b\\https://www.cbc.ca/radio/thecurrent/bob-rae-2022-diplomacy-russia-ukraine-1.6695397?cmp=rss\u001b]8;;\u001b\\ ──────────╯\n"
      ]
     },
     "metadata": {},
     "output_type": "display_data"
    },
    {
     "data": {
      "text/html": [
       "<pre style=\"white-space:pre;overflow-x:auto;line-height:normal;font-family:Menlo,'DejaVu Sans Mono',consolas,'Courier New',monospace\">\n",
       "</pre>\n"
      ],
      "text/plain": [
       "\n"
      ]
     },
     "metadata": {},
     "output_type": "display_data"
    }
   ],
   "source": [
    "pnr.search(\"canada\")"
   ]
  },
  {
   "cell_type": "code",
   "execution_count": null,
   "metadata": {},
   "outputs": [],
   "source": []
  }
 ],
 "metadata": {
  "kernelspec": {
   "display_name": "Python 3",
   "language": "python",
   "name": "python3"
  }
 },
 "nbformat": 4,
 "nbformat_minor": 4
}
