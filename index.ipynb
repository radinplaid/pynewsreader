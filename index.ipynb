{
 "cells": [
  {
   "cell_type": "code",
   "execution_count": null,
   "metadata": {},
   "outputs": [],
   "source": [
    "#| hide\n",
    "from pynewsreader.core import *"
   ]
  },
  {
   "cell_type": "markdown",
   "metadata": {},
   "source": [
    "# pynewsreader\n",
    "\n",
    "> An easy to use news aggregator and viewer written in python \n",
    "\n",
    "NOTE: This project is under active development and the API may change quite a bit before version 0.1 ends up on Pypi. Feel free to give it a try!"
   ]
  },
  {
   "cell_type": "markdown",
   "metadata": {},
   "source": [
    "## Install"
   ]
  },
  {
   "cell_type": "markdown",
   "metadata": {},
   "source": [
    "```sh\n",
    "pip install git+https://github.com/radinplaid/pynewsreader.git\n",
    "```"
   ]
  },
  {
   "cell_type": "markdown",
   "metadata": {},
   "source": [
    "## Command Line Usage\n",
    "\n",
    "```bash\n",
    "# Show help\n",
    "pnr --help\n",
    "\n",
    "# Add a feed\n",
    "pnr add_feed https://rss.cbc.ca/lineup/world.xml\n",
    "\n",
    "# Update feed(s)\n",
    "pnr update\n",
    "\n",
    "# Show entries\n",
    "pnr show --limit 10\n",
    "\n",
    "# Search entries\n",
    "pnr search canada\n",
    "\n",
    "```"
   ]
  },
  {
   "cell_type": "markdown",
   "metadata": {},
   "source": [
    "## Web Application\n",
    "\n",
    "The main interface for viewing the RSS feeds is the Flask web application, which can be lauched from the command line:\n",
    "\n",
    "```bash\n",
    "pnr-app\n",
    "# Or\n",
    "python3 -m pynewsreader.app\n",
    "```"
   ]
  },
  {
   "cell_type": "markdown",
   "metadata": {},
   "source": [
    "## Python Usage\n"
   ]
  },
  {
   "cell_type": "markdown",
   "metadata": {},
   "source": [
    "Import and initialize pnr object"
   ]
  },
  {
   "cell_type": "code",
   "execution_count": null,
   "metadata": {},
   "outputs": [],
   "source": [
    "from pynewsreader.core import Feed, PyNewsReader\n",
    "\n",
    "pnr = PyNewsReader()"
   ]
  },
  {
   "cell_type": "markdown",
   "metadata": {},
   "source": [
    "Add a feed, and use a custom name for it"
   ]
  },
  {
   "cell_type": "code",
   "execution_count": null,
   "metadata": {},
   "outputs": [],
   "source": [
    "myfeed = Feed(\n",
    "    url=\"https://www.thestar.com/content/thestar/feed.RSSManagerServlet.articles.topstories.rss\",\n",
    "    name=\"Toronto Star | Top Stories\",\n",
    ")\n",
    "\n",
    "pnr.add_feed(myfeed)"
   ]
  },
  {
   "cell_type": "markdown",
   "metadata": {},
   "source": [
    "Update feeds"
   ]
  },
  {
   "cell_type": "code",
   "execution_count": null,
   "metadata": {},
   "outputs": [
    {
     "data": {
      "text/html": [
       "<pre style=\"white-space:pre;overflow-x:auto;line-height:normal;font-family:Menlo,'DejaVu Sans Mono',consolas,'Courier New',monospace\">Marking entry as read: Precious Achiuwa’s energy rubs off on Raptors teammates\n",
       "</pre>\n"
      ],
      "text/plain": [
       "Marking entry as read: Precious Achiuwa’s energy rubs off on Raptors teammates\n"
      ]
     },
     "metadata": {},
     "output_type": "display_data"
    },
    {
     "data": {
      "text/html": [
       "<pre style=\"white-space:pre;overflow-x:auto;line-height:normal;font-family:Menlo,'DejaVu Sans Mono',consolas,'Courier New',monospace\">Marking entry as important: Bank of Canada raises interest rate again — but hits <span style=\"color: #008000; text-decoration-color: #008000\">'pause'</span> on any more for now\n",
       "</pre>\n"
      ],
      "text/plain": [
       "Marking entry as important: Bank of Canada raises interest rate again — but hits \u001b[32m'pause'\u001b[0m on any more for now\n"
      ]
     },
     "metadata": {},
     "output_type": "display_data"
    },
    {
     "data": {
      "text/html": [
       "<pre style=\"white-space:pre;overflow-x:auto;line-height:normal;font-family:Menlo,'DejaVu Sans Mono',consolas,'Courier New',monospace\">Marking entry as important: Bank of Canada raises interest rate again — but hits <span style=\"color: #008000; text-decoration-color: #008000\">'pause'</span> on any more for now\n",
       "</pre>\n"
      ],
      "text/plain": [
       "Marking entry as important: Bank of Canada raises interest rate again — but hits \u001b[32m'pause'\u001b[0m on any more for now\n"
      ]
     },
     "metadata": {},
     "output_type": "display_data"
    },
    {
     "data": {
      "text/html": [
       "<pre style=\"white-space:pre;overflow-x:auto;line-height:normal;font-family:Menlo,'DejaVu Sans Mono',consolas,'Courier New',monospace\">Marking entry as important: Bank of Canada raises interest rate again — but hits <span style=\"color: #008000; text-decoration-color: #008000\">'pause'</span> on any more for now\n",
       "</pre>\n"
      ],
      "text/plain": [
       "Marking entry as important: Bank of Canada raises interest rate again — but hits \u001b[32m'pause'\u001b[0m on any more for now\n"
      ]
     },
     "metadata": {},
     "output_type": "display_data"
    },
    {
     "data": {
      "text/html": [
       "<pre style=\"white-space:pre;overflow-x:auto;line-height:normal;font-family:Menlo,'DejaVu Sans Mono',consolas,'Courier New',monospace\">Marking entry as important: Bank of Canada raises interest rate again — but hits <span style=\"color: #008000; text-decoration-color: #008000\">'pause'</span> on any more for now\n",
       "</pre>\n"
      ],
      "text/plain": [
       "Marking entry as important: Bank of Canada raises interest rate again — but hits \u001b[32m'pause'\u001b[0m on any more for now\n"
      ]
     },
     "metadata": {},
     "output_type": "display_data"
    },
    {
     "data": {
      "text/html": [
       "<pre style=\"white-space:pre;overflow-x:auto;line-height:normal;font-family:Menlo,'DejaVu Sans Mono',consolas,'Courier New',monospace\">Marking entry as important: Bank of Canada raises key interest rate for eighth time, to <span style=\"color: #008080; text-decoration-color: #008080; font-weight: bold\">4.5</span> per cent. What you need\n",
       "to know\n",
       "</pre>\n"
      ],
      "text/plain": [
       "Marking entry as important: Bank of Canada raises key interest rate for eighth time, to \u001b[1;36m4.5\u001b[0m per cent. What you need\n",
       "to know\n"
      ]
     },
     "metadata": {},
     "output_type": "display_data"
    },
    {
     "data": {
      "text/html": [
       "<pre style=\"white-space:pre;overflow-x:auto;line-height:normal;font-family:Menlo,'DejaVu Sans Mono',consolas,'Courier New',monospace\">Marking entry as important: Bank of Canada raises key interest rate for eighth time, to <span style=\"color: #008080; text-decoration-color: #008080; font-weight: bold\">4.5</span> per cent. What you need\n",
       "to know\n",
       "</pre>\n"
      ],
      "text/plain": [
       "Marking entry as important: Bank of Canada raises key interest rate for eighth time, to \u001b[1;36m4.5\u001b[0m per cent. What you need\n",
       "to know\n"
      ]
     },
     "metadata": {},
     "output_type": "display_data"
    },
    {
     "data": {
      "text/html": [
       "<pre style=\"white-space:pre;overflow-x:auto;line-height:normal;font-family:Menlo,'DejaVu Sans Mono',consolas,'Courier New',monospace\">Marking entry as important: Bank of Canada raises interest rate again — but hints that hikes may be done for now\n",
       "</pre>\n"
      ],
      "text/plain": [
       "Marking entry as important: Bank of Canada raises interest rate again — but hints that hikes may be done for now\n"
      ]
     },
     "metadata": {},
     "output_type": "display_data"
    },
    {
     "data": {
      "text/html": [
       "<pre style=\"white-space:pre;overflow-x:auto;line-height:normal;font-family:Menlo,'DejaVu Sans Mono',consolas,'Courier New',monospace\">Marking entry as important: Bank of Canada raises interest rate again — but hints that hikes may be done for now\n",
       "</pre>\n"
      ],
      "text/plain": [
       "Marking entry as important: Bank of Canada raises interest rate again — but hints that hikes may be done for now\n"
      ]
     },
     "metadata": {},
     "output_type": "display_data"
    }
   ],
   "source": [
    "pnr.update()"
   ]
  },
  {
   "cell_type": "markdown",
   "metadata": {},
   "source": [
    "List entries"
   ]
  },
  {
   "cell_type": "code",
   "execution_count": null,
   "metadata": {},
   "outputs": [
    {
     "data": {
      "text/html": [
       "<pre style=\"white-space:pre;overflow-x:auto;line-height:normal;font-family:Menlo,'DejaVu Sans Mono',consolas,'Courier New',monospace\">╭─────────────────────────────────────────────────── <span style=\"font-weight: bold\">The Tyee</span> ────────────────────────────────────────────────────╮\n",
       "│ Title: <span style=\"font-weight: bold\">Council Approves Grant for Notorious SRO (in News)</span>                                                       │\n",
       "│ Date: Unknown                                                                                                   │\n",
       "│                                                                                                                 │\n",
       "│ Vancouver councillors say they’re satisfied a renovation and new operations plan will make the London Hotel     │\n",
       "│ safer.                                                                                                          │\n",
       "│                                                                                                                 │\n",
       "╰──────────────────────── <a href=\"https://thetyee.ca/News/2023/01/25/Council-Approves-SRO-Grant/\" target=\"_blank\">https://thetyee.ca/News/2023/01/25/Council-Approves-SRO-Grant/</a> ─────────────────────────╯\n",
       "</pre>\n"
      ],
      "text/plain": [
       "╭─────────────────────────────────────────────────── \u001b[1mThe Tyee\u001b[0m ────────────────────────────────────────────────────╮\n",
       "│ Title: \u001b[1mCouncil Approves Grant for Notorious SRO (in News)\u001b[0m                                                       │\n",
       "│ Date: Unknown                                                                                                   │\n",
       "│                                                                                                                 │\n",
       "│ Vancouver councillors say they’re satisfied a renovation and new operations plan will make the London Hotel     │\n",
       "│ safer.                                                                                                          │\n",
       "│                                                                                                                 │\n",
       "╰──────────────────────── \u001b]8;id=59419;https://thetyee.ca/News/2023/01/25/Council-Approves-SRO-Grant/\u001b\\https://thetyee.ca/News/2023/01/25/Council-Approves-SRO-Grant/\u001b]8;;\u001b\\ ─────────────────────────╯\n"
      ]
     },
     "metadata": {},
     "output_type": "display_data"
    },
    {
     "data": {
      "text/html": [
       "<pre style=\"white-space:pre;overflow-x:auto;line-height:normal;font-family:Menlo,'DejaVu Sans Mono',consolas,'Courier New',monospace\">\n",
       "</pre>\n"
      ],
      "text/plain": [
       "\n"
      ]
     },
     "metadata": {},
     "output_type": "display_data"
    },
    {
     "data": {
      "text/html": [
       "<pre style=\"white-space:pre;overflow-x:auto;line-height:normal;font-family:Menlo,'DejaVu Sans Mono',consolas,'Courier New',monospace\">╭─────────────────────────────────────────────────── <span style=\"font-weight: bold\">The Tyee</span> ────────────────────────────────────────────────────╮\n",
       "│ Title: <span style=\"font-weight: bold\">Sports Are Beneficial for Kids. Trans Kids Should Get to Play (in News)</span>                                  │\n",
       "│ Date: Unknown                                                                                                   │\n",
       "│                                                                                                                 │\n",
       "│ Anti-trans sports bills are gaining ground in the US. Canada needs to protect trans athletes, say experts.      │\n",
       "│                                                                                                                 │\n",
       "╰─────────────────── <a href=\"https://thetyee.ca/News/2023/01/25/Trans-Kids-Should-Get-To-Play-Sports/\" target=\"_blank\">https://thetyee.ca/News/2023/01/25/Trans-Kids-Should-Get-To-Play-Sports/</a> ────────────────────╯\n",
       "</pre>\n"
      ],
      "text/plain": [
       "╭─────────────────────────────────────────────────── \u001b[1mThe Tyee\u001b[0m ────────────────────────────────────────────────────╮\n",
       "│ Title: \u001b[1mSports Are Beneficial for Kids. Trans Kids Should Get to Play (in News)\u001b[0m                                  │\n",
       "│ Date: Unknown                                                                                                   │\n",
       "│                                                                                                                 │\n",
       "│ Anti-trans sports bills are gaining ground in the US. Canada needs to protect trans athletes, say experts.      │\n",
       "│                                                                                                                 │\n",
       "╰─────────────────── \u001b]8;id=433560;https://thetyee.ca/News/2023/01/25/Trans-Kids-Should-Get-To-Play-Sports/\u001b\\https://thetyee.ca/News/2023/01/25/Trans-Kids-Should-Get-To-Play-Sports/\u001b]8;;\u001b\\ ────────────────────╯\n"
      ]
     },
     "metadata": {},
     "output_type": "display_data"
    },
    {
     "data": {
      "text/html": [
       "<pre style=\"white-space:pre;overflow-x:auto;line-height:normal;font-family:Menlo,'DejaVu Sans Mono',consolas,'Courier New',monospace\">\n",
       "</pre>\n"
      ],
      "text/plain": [
       "\n"
      ]
     },
     "metadata": {},
     "output_type": "display_data"
    },
    {
     "data": {
      "text/html": [
       "<pre style=\"white-space:pre;overflow-x:auto;line-height:normal;font-family:Menlo,'DejaVu Sans Mono',consolas,'Courier New',monospace\">╭─────────────────────────────────────────────────── <span style=\"font-weight: bold\">The Tyee</span> ────────────────────────────────────────────────────╮\n",
       "│ Title: <span style=\"font-weight: bold\">Can We Befriend Wolves? Should We? (in Culture)</span>                                                          │\n",
       "│ Date: Unknown                                                                                                   │\n",
       "│                                                                                                                 │\n",
       "│ A local documentary explores the ethics and dangers of our relationship with the beautiful predator.            │\n",
       "│                                                                                                                 │\n",
       "╰─────────────────────── <a href=\"https://thetyee.ca/Culture/2023/01/25/Should-We-Befriend-Wolves/\" target=\"_blank\">https://thetyee.ca/Culture/2023/01/25/Should-We-Befriend-Wolves/</a> ────────────────────────╯\n",
       "</pre>\n"
      ],
      "text/plain": [
       "╭─────────────────────────────────────────────────── \u001b[1mThe Tyee\u001b[0m ────────────────────────────────────────────────────╮\n",
       "│ Title: \u001b[1mCan We Befriend Wolves? Should We? (in Culture)\u001b[0m                                                          │\n",
       "│ Date: Unknown                                                                                                   │\n",
       "│                                                                                                                 │\n",
       "│ A local documentary explores the ethics and dangers of our relationship with the beautiful predator.            │\n",
       "│                                                                                                                 │\n",
       "╰─────────────────────── \u001b]8;id=57531;https://thetyee.ca/Culture/2023/01/25/Should-We-Befriend-Wolves/\u001b\\https://thetyee.ca/Culture/2023/01/25/Should-We-Befriend-Wolves/\u001b]8;;\u001b\\ ────────────────────────╯\n"
      ]
     },
     "metadata": {},
     "output_type": "display_data"
    },
    {
     "data": {
      "text/html": [
       "<pre style=\"white-space:pre;overflow-x:auto;line-height:normal;font-family:Menlo,'DejaVu Sans Mono',consolas,'Courier New',monospace\">\n",
       "</pre>\n"
      ],
      "text/plain": [
       "\n"
      ]
     },
     "metadata": {},
     "output_type": "display_data"
    },
    {
     "data": {
      "text/html": [
       "<pre style=\"white-space:pre;overflow-x:auto;line-height:normal;font-family:Menlo,'DejaVu Sans Mono',consolas,'Courier New',monospace\">╭─────────────────────────────────────────────────── <span style=\"font-weight: bold\">The Tyee</span> ────────────────────────────────────────────────────╮\n",
       "│ Title: <span style=\"font-weight: bold\">‘A Burning Sense of Injustice’  (in News)</span>                                                                │\n",
       "│ Date: Unknown                                                                                                   │\n",
       "│                                                                                                                 │\n",
       "│ Kelly Ashton died after falling twice in long-term care. Her family seeks justice for what they allege is a     │\n",
       "│ wrongful death.                                                                                                 │\n",
       "│                                                                                                                 │\n",
       "╰─────────────── <a href=\"https://thetyee.ca/News/2023/01/25/Family-Seeks-Justice-For-Long-Term-Care-Death/\" target=\"_blank\">https://thetyee.ca/News/2023/01/25/Family-Seeks-Justice-For-Long-Term-Care-Death/</a> ───────────────╯\n",
       "</pre>\n"
      ],
      "text/plain": [
       "╭─────────────────────────────────────────────────── \u001b[1mThe Tyee\u001b[0m ────────────────────────────────────────────────────╮\n",
       "│ Title: \u001b[1m‘A Burning Sense of Injustice’  (in News)\u001b[0m                                                                │\n",
       "│ Date: Unknown                                                                                                   │\n",
       "│                                                                                                                 │\n",
       "│ Kelly Ashton died after falling twice in long-term care. Her family seeks justice for what they allege is a     │\n",
       "│ wrongful death.                                                                                                 │\n",
       "│                                                                                                                 │\n",
       "╰─────────────── \u001b]8;id=584565;https://thetyee.ca/News/2023/01/25/Family-Seeks-Justice-For-Long-Term-Care-Death/\u001b\\https://thetyee.ca/News/2023/01/25/Family-Seeks-Justice-For-Long-Term-Care-Death/\u001b]8;;\u001b\\ ───────────────╯\n"
      ]
     },
     "metadata": {},
     "output_type": "display_data"
    },
    {
     "data": {
      "text/html": [
       "<pre style=\"white-space:pre;overflow-x:auto;line-height:normal;font-family:Menlo,'DejaVu Sans Mono',consolas,'Courier New',monospace\">\n",
       "</pre>\n"
      ],
      "text/plain": [
       "\n"
      ]
     },
     "metadata": {},
     "output_type": "display_data"
    },
    {
     "data": {
      "text/html": [
       "<pre style=\"white-space:pre;overflow-x:auto;line-height:normal;font-family:Menlo,'DejaVu Sans Mono',consolas,'Courier New',monospace\">╭──────────────────────────────────────────── <span style=\"font-weight: bold\">Science | The Guardian</span> ─────────────────────────────────────────────╮\n",
       "│ Title: <span style=\"font-weight: bold\">Six lifestyle choices to slow memory decline named in 10-year study</span>                                      │\n",
       "│ Date: 2023-01-25                                                                                                │\n",
       "│                                                                                                                 │\n",
       "│ Over-60s who combined more healthy lifestyle choices enjoyed most benefit, found Beijing researchersA           │\n",
       "│ combination of healthy lifestyle choices such as eating well, regularly exercising, playing cards and           │\n",
       "│ socialising at least twice a week may help slow the rate of memory decline and reduce the risk of dementia, a   │\n",
       "│ decade-long study suggests.Memory is a fundamental function of daily life that continuously declines as people  │\n",
       "│ age, impairing quality of life and productivity, and increasing the risk of dementia. Continue reading...       │\n",
       "│                                                                                                                 │\n",
       "╰─ <a href=\"https://www.theguardian.com/science/2023/jan/25/six-lifestyle-choices-to-slow-memory-decline-named-in-10-year-study\" target=\"_blank\">https://www.theguardian.com/science/2023/jan/25/six-lifestyle-choices-to-slow-memory-decline-named-in-10-year-</a>─╯\n",
       "</pre>\n"
      ],
      "text/plain": [
       "╭──────────────────────────────────────────── \u001b[1mScience | The Guardian\u001b[0m ─────────────────────────────────────────────╮\n",
       "│ Title: \u001b[1mSix lifestyle choices to slow memory decline named in 10-year study\u001b[0m                                      │\n",
       "│ Date: 2023-01-25                                                                                                │\n",
       "│                                                                                                                 │\n",
       "│ Over-60s who combined more healthy lifestyle choices enjoyed most benefit, found Beijing researchersA           │\n",
       "│ combination of healthy lifestyle choices such as eating well, regularly exercising, playing cards and           │\n",
       "│ socialising at least twice a week may help slow the rate of memory decline and reduce the risk of dementia, a   │\n",
       "│ decade-long study suggests.Memory is a fundamental function of daily life that continuously declines as people  │\n",
       "│ age, impairing quality of life and productivity, and increasing the risk of dementia. Continue reading...       │\n",
       "│                                                                                                                 │\n",
       "╰─ \u001b]8;id=828172;https://www.theguardian.com/science/2023/jan/25/six-lifestyle-choices-to-slow-memory-decline-named-in-10-year-study\u001b\\https://www.theguardian.com/science/2023/jan/25/six-lifestyle-choices-to-slow-memory-decline-named-in-10-year-\u001b]8;;\u001b\\─╯\n"
      ]
     },
     "metadata": {},
     "output_type": "display_data"
    },
    {
     "data": {
      "text/html": [
       "<pre style=\"white-space:pre;overflow-x:auto;line-height:normal;font-family:Menlo,'DejaVu Sans Mono',consolas,'Courier New',monospace\">\n",
       "</pre>\n"
      ],
      "text/plain": [
       "\n"
      ]
     },
     "metadata": {},
     "output_type": "display_data"
    },
    {
     "data": {
      "text/html": [
       "<pre style=\"white-space:pre;overflow-x:auto;line-height:normal;font-family:Menlo,'DejaVu Sans Mono',consolas,'Courier New',monospace\">╭────────────────────────────────────────── <span style=\"font-weight: bold\">Toronto Star | Top Stories</span> ───────────────────────────────────────────╮\n",
       "│ Title: <span style=\"font-weight: bold\">‘I take more Ubers’: TTC riders on edge in the wake of public transit attacks</span>                            │\n",
       "│ Date: 2023-01-25                                                                                                │\n",
       "│                                                                                                                 │\n",
       "│ Despite assurances from police and the TTC, some riders have changed travel plans and armed themselves after a  │\n",
       "│ spate of violent incidents.                                                                                     │\n",
       "│                                                                                                                 │\n",
       "╰─ <a href=\"https://www.thestar.com/news/gta/2023/01/25/i-take-more-ubers-ttc-riders-on-edge-in-the-wake-of-public-transit-attacks.html\" target=\"_blank\">https://www.thestar.com/news/gta/2023/01/25/i-take-more-ubers-ttc-riders-on-edge-in-the-wake-of-public-transit</a>─╯\n",
       "</pre>\n"
      ],
      "text/plain": [
       "╭────────────────────────────────────────── \u001b[1mToronto Star | Top Stories\u001b[0m ───────────────────────────────────────────╮\n",
       "│ Title: \u001b[1m‘I take more Ubers’: TTC riders on edge in the wake of public transit attacks\u001b[0m                            │\n",
       "│ Date: 2023-01-25                                                                                                │\n",
       "│                                                                                                                 │\n",
       "│ Despite assurances from police and the TTC, some riders have changed travel plans and armed themselves after a  │\n",
       "│ spate of violent incidents.                                                                                     │\n",
       "│                                                                                                                 │\n",
       "╰─ \u001b]8;id=681568;https://www.thestar.com/news/gta/2023/01/25/i-take-more-ubers-ttc-riders-on-edge-in-the-wake-of-public-transit-attacks.html\u001b\\https://www.thestar.com/news/gta/2023/01/25/i-take-more-ubers-ttc-riders-on-edge-in-the-wake-of-public-transit\u001b]8;;\u001b\\─╯\n"
      ]
     },
     "metadata": {},
     "output_type": "display_data"
    },
    {
     "data": {
      "text/html": [
       "<pre style=\"white-space:pre;overflow-x:auto;line-height:normal;font-family:Menlo,'DejaVu Sans Mono',consolas,'Courier New',monospace\">\n",
       "</pre>\n"
      ],
      "text/plain": [
       "\n"
      ]
     },
     "metadata": {},
     "output_type": "display_data"
    }
   ],
   "source": [
    "pnr.show()"
   ]
  },
  {
   "cell_type": "markdown",
   "metadata": {},
   "source": [
    "Search entries"
   ]
  },
  {
   "cell_type": "code",
   "execution_count": null,
   "metadata": {},
   "outputs": [
    {
     "data": {
      "text/html": [
       "<pre style=\"white-space:pre;overflow-x:auto;line-height:normal;font-family:Menlo,'DejaVu Sans Mono',consolas,'Courier New',monospace\">╭─────────────────────────────────────────────── <span style=\"font-weight: bold\">CBC | World News</span> ────────────────────────────────────────────────╮\n",
       "│ Title: <span style=\"font-weight: bold\">U.S. inflation rate was 6.5% in December</span>                                                                 │\n",
       "│ Date: 2023-01-12                                                                                                │\n",
       "│                                                                                                                 │\n",
       "│ The inflation rate in the U.S. decelerated to 6.5 per cent in December, mostly due to much cheaper gasoline.    │\n",
       "│                                                                                                                 │\n",
       "╰─────────────────── <a href=\"https://www.cbc.ca/news/business/us-inflation-december-1.6711469?cmp=rss\" target=\"_blank\">https://www.cbc.ca/news/business/us-inflation-december-1.6711469?cmp=rss</a> ────────────────────╯\n",
       "</pre>\n"
      ],
      "text/plain": [
       "╭─────────────────────────────────────────────── \u001b[1mCBC | World News\u001b[0m ────────────────────────────────────────────────╮\n",
       "│ Title: \u001b[1mU.S. inflation rate was 6.5% in December\u001b[0m                                                                 │\n",
       "│ Date: 2023-01-12                                                                                                │\n",
       "│                                                                                                                 │\n",
       "│ The inflation rate in the U.S. decelerated to 6.5 per cent in December, mostly due to much cheaper gasoline.    │\n",
       "│                                                                                                                 │\n",
       "╰─────────────────── \u001b]8;id=694505;https://www.cbc.ca/news/business/us-inflation-december-1.6711469?cmp=rss\u001b\\https://www.cbc.ca/news/business/us-inflation-december-1.6711469?cmp=rss\u001b]8;;\u001b\\ ────────────────────╯\n"
      ]
     },
     "metadata": {},
     "output_type": "display_data"
    },
    {
     "data": {
      "text/html": [
       "<pre style=\"white-space:pre;overflow-x:auto;line-height:normal;font-family:Menlo,'DejaVu Sans Mono',consolas,'Courier New',monospace\">\n",
       "</pre>\n"
      ],
      "text/plain": [
       "\n"
      ]
     },
     "metadata": {},
     "output_type": "display_data"
    },
    {
     "data": {
      "text/html": [
       "<pre style=\"white-space:pre;overflow-x:auto;line-height:normal;font-family:Menlo,'DejaVu Sans Mono',consolas,'Courier New',monospace\">╭────────────────────────────────────────────── <span style=\"font-weight: bold\">CBC | Business News</span> ──────────────────────────────────────────────╮\n",
       "│ Title: <span style=\"font-weight: bold\">As inflation grows, this union leader says workers have an appetite to fight for higher pay</span>              │\n",
       "│ Date: 2023-01-06                                                                                                │\n",
       "│                                                                                                                 │\n",
       "│ The Unifor national president talks inflation, the growing wealth gap and the value of a union.                 │\n",
       "│                                                                                                                 │\n",
       "╰───────── <a href=\"https://www.cbc.ca/news/canada/newfoundland-labrador/lana-payne-legislation-1.6702286?cmp=rss\" target=\"_blank\">https://www.cbc.ca/news/canada/newfoundland-labrador/lana-payne-legislation-1.6702286?cmp=rss</a> ─────────╯\n",
       "</pre>\n"
      ],
      "text/plain": [
       "╭────────────────────────────────────────────── \u001b[1mCBC | Business News\u001b[0m ──────────────────────────────────────────────╮\n",
       "│ Title: \u001b[1mAs inflation grows, this union leader says workers have an appetite to fight for higher pay\u001b[0m              │\n",
       "│ Date: 2023-01-06                                                                                                │\n",
       "│                                                                                                                 │\n",
       "│ The Unifor national president talks inflation, the growing wealth gap and the value of a union.                 │\n",
       "│                                                                                                                 │\n",
       "╰───────── \u001b]8;id=348105;https://www.cbc.ca/news/canada/newfoundland-labrador/lana-payne-legislation-1.6702286?cmp=rss\u001b\\https://www.cbc.ca/news/canada/newfoundland-labrador/lana-payne-legislation-1.6702286?cmp=rss\u001b]8;;\u001b\\ ─────────╯\n"
      ]
     },
     "metadata": {},
     "output_type": "display_data"
    },
    {
     "data": {
      "text/html": [
       "<pre style=\"white-space:pre;overflow-x:auto;line-height:normal;font-family:Menlo,'DejaVu Sans Mono',consolas,'Courier New',monospace\">\n",
       "</pre>\n"
      ],
      "text/plain": [
       "\n"
      ]
     },
     "metadata": {},
     "output_type": "display_data"
    },
    {
     "data": {
      "text/html": [
       "<pre style=\"white-space:pre;overflow-x:auto;line-height:normal;font-family:Menlo,'DejaVu Sans Mono',consolas,'Courier New',monospace\">╭─────────────────────────────────────────── <span style=\"font-weight: bold\">Toronto Star | Editorials</span> ───────────────────────────────────────────╮\n",
       "│ ❗Title: <span style=\"font-weight: bold\">With inflation easing will interest rates hikes pause?</span>                                                 │\n",
       "│ Date: 2023-01-20                                                                                                │\n",
       "│                                                                                                                 │\n",
       "│ With some welcome downward movement on inflation, let’s hope then that we’re seeing an end to the Bank of       │\n",
       "│ Canada’s string of rate hikes.                                                                                  │\n",
       "│                                                                                                                 │\n",
       "╰─ <a href=\"https://www.thestar.com/opinion/editorials/2023/01/20/with-inflation-easing-will-interest-rates-hikes-pause.html\" target=\"_blank\">https://www.thestar.com/opinion/editorials/2023/01/20/with-inflation-easing-will-interest-rates-hikes-pause.ht</a>─╯\n",
       "</pre>\n"
      ],
      "text/plain": [
       "╭─────────────────────────────────────────── \u001b[1mToronto Star | Editorials\u001b[0m ───────────────────────────────────────────╮\n",
       "│ ❗Title: \u001b[1mWith inflation easing will interest rates hikes pause?\u001b[0m                                                 │\n",
       "│ Date: 2023-01-20                                                                                                │\n",
       "│                                                                                                                 │\n",
       "│ With some welcome downward movement on inflation, let’s hope then that we’re seeing an end to the Bank of       │\n",
       "│ Canada’s string of rate hikes.                                                                                  │\n",
       "│                                                                                                                 │\n",
       "╰─ \u001b]8;id=115872;https://www.thestar.com/opinion/editorials/2023/01/20/with-inflation-easing-will-interest-rates-hikes-pause.html\u001b\\https://www.thestar.com/opinion/editorials/2023/01/20/with-inflation-easing-will-interest-rates-hikes-pause.ht\u001b]8;;\u001b\\─╯\n"
      ]
     },
     "metadata": {},
     "output_type": "display_data"
    },
    {
     "data": {
      "text/html": [
       "<pre style=\"white-space:pre;overflow-x:auto;line-height:normal;font-family:Menlo,'DejaVu Sans Mono',consolas,'Courier New',monospace\">\n",
       "</pre>\n"
      ],
      "text/plain": [
       "\n"
      ]
     },
     "metadata": {},
     "output_type": "display_data"
    },
    {
     "data": {
      "text/html": [
       "<pre style=\"white-space:pre;overflow-x:auto;line-height:normal;font-family:Menlo,'DejaVu Sans Mono',consolas,'Courier New',monospace\">╭────────────────────────────────────────────── <span style=\"font-weight: bold\">CBC | Business News</span> ──────────────────────────────────────────────╮\n",
       "│ Title: <span style=\"font-weight: bold\">Inflation rate slows to 6.3% — but groceries are still going up at nearly twice that pace</span>                │\n",
       "│ Date: 2023-01-17                                                                                                │\n",
       "│                                                                                                                 │\n",
       "│ Canada's annual inflation rate cooled to 6.3 per cent in December, its lowest level since February.             │\n",
       "│                                                                                                                 │\n",
       "╰───────────────── <a href=\"https://www.cbc.ca/news/business/canada-inflation-december-1.6716315?cmp=rss\" target=\"_blank\">https://www.cbc.ca/news/business/canada-inflation-december-1.6716315?cmp=rss</a> ──────────────────╯\n",
       "</pre>\n"
      ],
      "text/plain": [
       "╭────────────────────────────────────────────── \u001b[1mCBC | Business News\u001b[0m ──────────────────────────────────────────────╮\n",
       "│ Title: \u001b[1mInflation rate slows to 6.3% — but groceries are still going up at nearly twice that pace\u001b[0m                │\n",
       "│ Date: 2023-01-17                                                                                                │\n",
       "│                                                                                                                 │\n",
       "│ Canada's annual inflation rate cooled to 6.3 per cent in December, its lowest level since February.             │\n",
       "│                                                                                                                 │\n",
       "╰───────────────── \u001b]8;id=512086;https://www.cbc.ca/news/business/canada-inflation-december-1.6716315?cmp=rss\u001b\\https://www.cbc.ca/news/business/canada-inflation-december-1.6716315?cmp=rss\u001b]8;;\u001b\\ ──────────────────╯\n"
      ]
     },
     "metadata": {},
     "output_type": "display_data"
    },
    {
     "data": {
      "text/html": [
       "<pre style=\"white-space:pre;overflow-x:auto;line-height:normal;font-family:Menlo,'DejaVu Sans Mono',consolas,'Courier New',monospace\">\n",
       "</pre>\n"
      ],
      "text/plain": [
       "\n"
      ]
     },
     "metadata": {},
     "output_type": "display_data"
    },
    {
     "data": {
      "text/html": [
       "<pre style=\"white-space:pre;overflow-x:auto;line-height:normal;font-family:Menlo,'DejaVu Sans Mono',consolas,'Courier New',monospace\">╭──────────────────────────────────────────────── <span style=\"font-weight: bold\">Richochet Media</span> ────────────────────────────────────────────────╮\n",
       "│ Title: <span style=\"font-weight: bold\">Inflation has been especially good for Canada’s extraction industries</span>                                    │\n",
       "│ Date: Unknown                                                                                                   │\n",
       "│                                                                                                                 │\n",
       "│ While most people struggle to afford the basics, executives at Canada’s oil, gas and mining companies have      │\n",
       "│ pocketed nearly a quarter of the extra money Canadians are spending due to inflation, according to a new report │\n",
       "│ from the Canadian Centre for Po...                                                                              │\n",
       "│                                                                                                                 │\n",
       "╰───────── <a href=\"https://ricochet.media/en/3920/inflation-has-been-very-good-for-canadas-extraction-industries\" target=\"_blank\">https://ricochet.media/en/3920/inflation-has-been-very-good-for-canadas-extraction-industries</a> ─────────╯\n",
       "</pre>\n"
      ],
      "text/plain": [
       "╭──────────────────────────────────────────────── \u001b[1mRichochet Media\u001b[0m ────────────────────────────────────────────────╮\n",
       "│ Title: \u001b[1mInflation has been especially good for Canada’s extraction industries\u001b[0m                                    │\n",
       "│ Date: Unknown                                                                                                   │\n",
       "│                                                                                                                 │\n",
       "│ While most people struggle to afford the basics, executives at Canada’s oil, gas and mining companies have      │\n",
       "│ pocketed nearly a quarter of the extra money Canadians are spending due to inflation, according to a new report │\n",
       "│ from the Canadian Centre for Po...                                                                              │\n",
       "│                                                                                                                 │\n",
       "╰───────── \u001b]8;id=765235;https://ricochet.media/en/3920/inflation-has-been-very-good-for-canadas-extraction-industries\u001b\\https://ricochet.media/en/3920/inflation-has-been-very-good-for-canadas-extraction-industries\u001b]8;;\u001b\\ ─────────╯\n"
      ]
     },
     "metadata": {},
     "output_type": "display_data"
    },
    {
     "data": {
      "text/html": [
       "<pre style=\"white-space:pre;overflow-x:auto;line-height:normal;font-family:Menlo,'DejaVu Sans Mono',consolas,'Courier New',monospace\">\n",
       "</pre>\n"
      ],
      "text/plain": [
       "\n"
      ]
     },
     "metadata": {},
     "output_type": "display_data"
    },
    {
     "data": {
      "text/html": [
       "<pre style=\"white-space:pre;overflow-x:auto;line-height:normal;font-family:Menlo,'DejaVu Sans Mono',consolas,'Courier New',monospace\">╭──────────────────────────────────────────────── <span style=\"font-weight: bold\">Richochet Media</span> ────────────────────────────────────────────────╮\n",
       "│ Title: <span style=\"font-weight: bold\">The only real solution to surviving inflation is collective organizing</span>                                   │\n",
       "│ Date: Unknown                                                                                                   │\n",
       "│                                                                                                                 │\n",
       "│ When Teamsters Local 91 was bargaining its collective agreement with Metro for warehouse workers in Ottawa      │\n",
       "│ earlier this year, the negotiation team was able to make a number of points to the head office. One: Metro was  │\n",
       "│ having trouble retaining employe...                                                                             │\n",
       "│                                                                                                                 │\n",
       "╰───── <a href=\"https://ricochet.media/en/3914/the-only-real-solution-to-surviving-inflation-is-collective-organizing\" target=\"_blank\">https://ricochet.media/en/3914/the-only-real-solution-to-surviving-inflation-is-collective-organizing</a> ─────╯\n",
       "</pre>\n"
      ],
      "text/plain": [
       "╭──────────────────────────────────────────────── \u001b[1mRichochet Media\u001b[0m ────────────────────────────────────────────────╮\n",
       "│ Title: \u001b[1mThe only real solution to surviving inflation is collective organizing\u001b[0m                                   │\n",
       "│ Date: Unknown                                                                                                   │\n",
       "│                                                                                                                 │\n",
       "│ When Teamsters Local 91 was bargaining its collective agreement with Metro for warehouse workers in Ottawa      │\n",
       "│ earlier this year, the negotiation team was able to make a number of points to the head office. One: Metro was  │\n",
       "│ having trouble retaining employe...                                                                             │\n",
       "│                                                                                                                 │\n",
       "╰───── \u001b]8;id=586201;https://ricochet.media/en/3914/the-only-real-solution-to-surviving-inflation-is-collective-organizing\u001b\\https://ricochet.media/en/3914/the-only-real-solution-to-surviving-inflation-is-collective-organizing\u001b]8;;\u001b\\ ─────╯\n"
      ]
     },
     "metadata": {},
     "output_type": "display_data"
    },
    {
     "data": {
      "text/html": [
       "<pre style=\"white-space:pre;overflow-x:auto;line-height:normal;font-family:Menlo,'DejaVu Sans Mono',consolas,'Courier New',monospace\">\n",
       "</pre>\n"
      ],
      "text/plain": [
       "\n"
      ]
     },
     "metadata": {},
     "output_type": "display_data"
    },
    {
     "data": {
      "text/html": [
       "<pre style=\"white-space:pre;overflow-x:auto;line-height:normal;font-family:Menlo,'DejaVu Sans Mono',consolas,'Courier New',monospace\">╭─────────────────────────────────────────────────── <span style=\"font-weight: bold\">Macleans</span> ────────────────────────────────────────────────────╮\n",
       "│ Title: <span style=\"font-weight: bold\">The Year Ahead: Education in 2023</span>                                                                        │\n",
       "│ Date: 2022-12-06                                                                                                │\n",
       "│                                                                                                                 │\n",
       "│ Universities incorporating Indigenous education, inflated post-secondary grades and student protests are in     │\n",
       "│ store                                                                                                           │\n",
       "│ The post The Year Ahead: Education in 2023 appeared first on Macleans.ca.                                       │\n",
       "│                                                                                                                 │\n",
       "╰─── <a href=\"https://www.macleans.ca/year-ahead/year-ahead-education-international-students-public-school-university/\" target=\"_blank\">https://www.macleans.ca/year-ahead/year-ahead-education-international-students-public-school-university/</a> ────╯\n",
       "</pre>\n"
      ],
      "text/plain": [
       "╭─────────────────────────────────────────────────── \u001b[1mMacleans\u001b[0m ────────────────────────────────────────────────────╮\n",
       "│ Title: \u001b[1mThe Year Ahead: Education in 2023\u001b[0m                                                                        │\n",
       "│ Date: 2022-12-06                                                                                                │\n",
       "│                                                                                                                 │\n",
       "│ Universities incorporating Indigenous education, inflated post-secondary grades and student protests are in     │\n",
       "│ store                                                                                                           │\n",
       "│ The post The Year Ahead: Education in 2023 appeared first on Macleans.ca.                                       │\n",
       "│                                                                                                                 │\n",
       "╰─── \u001b]8;id=98808;https://www.macleans.ca/year-ahead/year-ahead-education-international-students-public-school-university/\u001b\\https://www.macleans.ca/year-ahead/year-ahead-education-international-students-public-school-university/\u001b]8;;\u001b\\ ────╯\n"
      ]
     },
     "metadata": {},
     "output_type": "display_data"
    },
    {
     "data": {
      "text/html": [
       "<pre style=\"white-space:pre;overflow-x:auto;line-height:normal;font-family:Menlo,'DejaVu Sans Mono',consolas,'Courier New',monospace\">\n",
       "</pre>\n"
      ],
      "text/plain": [
       "\n"
      ]
     },
     "metadata": {},
     "output_type": "display_data"
    },
    {
     "data": {
      "text/html": [
       "<pre style=\"white-space:pre;overflow-x:auto;line-height:normal;font-family:Menlo,'DejaVu Sans Mono',consolas,'Courier New',monospace\">╭────────────────────────────────────────── <span style=\"font-weight: bold\">Toronto Star | Top Stories</span> ───────────────────────────────────────────╮\n",
       "│ Title: <span style=\"font-weight: bold\">Chrystia Freeland rejects critical report, says Canada has economic ‘strength’</span>                           │\n",
       "│ Date: 2023-01-24                                                                                                │\n",
       "│                                                                                                                 │\n",
       "│ Faced with warnings of a possible recession, inflation and still-rising interest rates, the Liberal government  │\n",
       "│ sought Tuesday to reassure Canadians it will keep its big-ticket promises as well as get its fiscal house in    │\n",
       "│ order.                                                                                                          │\n",
       "│                                                                                                                 │\n",
       "╰─ <a href=\"https://www.thestar.com/politics/federal/2023/01/24/chrystia-freeland-rejects-critical-report-says-canada-has-economic-strength.html\" target=\"_blank\">https://www.thestar.com/politics/federal/2023/01/24/chrystia-freeland-rejects-critical-report-says-canada-has-</a>─╯\n",
       "</pre>\n"
      ],
      "text/plain": [
       "╭────────────────────────────────────────── \u001b[1mToronto Star | Top Stories\u001b[0m ───────────────────────────────────────────╮\n",
       "│ Title: \u001b[1mChrystia Freeland rejects critical report, says Canada has economic ‘strength’\u001b[0m                           │\n",
       "│ Date: 2023-01-24                                                                                                │\n",
       "│                                                                                                                 │\n",
       "│ Faced with warnings of a possible recession, inflation and still-rising interest rates, the Liberal government  │\n",
       "│ sought Tuesday to reassure Canadians it will keep its big-ticket promises as well as get its fiscal house in    │\n",
       "│ order.                                                                                                          │\n",
       "│                                                                                                                 │\n",
       "╰─ \u001b]8;id=943437;https://www.thestar.com/politics/federal/2023/01/24/chrystia-freeland-rejects-critical-report-says-canada-has-economic-strength.html\u001b\\https://www.thestar.com/politics/federal/2023/01/24/chrystia-freeland-rejects-critical-report-says-canada-has-\u001b]8;;\u001b\\─╯\n"
      ]
     },
     "metadata": {},
     "output_type": "display_data"
    },
    {
     "data": {
      "text/html": [
       "<pre style=\"white-space:pre;overflow-x:auto;line-height:normal;font-family:Menlo,'DejaVu Sans Mono',consolas,'Courier New',monospace\">\n",
       "</pre>\n"
      ],
      "text/plain": [
       "\n"
      ]
     },
     "metadata": {},
     "output_type": "display_data"
    },
    {
     "data": {
      "text/html": [
       "<pre style=\"white-space:pre;overflow-x:auto;line-height:normal;font-family:Menlo,'DejaVu Sans Mono',consolas,'Courier New',monospace\">╭────────────────────────────────────────────── <span style=\"font-weight: bold\">CBC | Business News</span> ──────────────────────────────────────────────╮\n",
       "│ Title: <span style=\"font-weight: bold\">New paradigm means markets may fall with the economy as stimulus runs out</span>                                │\n",
       "│ Date: 2023-01-06                                                                                                │\n",
       "│                                                                                                                 │\n",
       "│ Not long ago it seemed that even as the economy slumped, owners of stocks, bonds and houses only got richer.    │\n",
       "│ But as central banks battle inflation and governments rein in stimulus spending, the rules have changed.        │\n",
       "│                                                                                                                 │\n",
       "╰───────────── <a href=\"https://www.cbc.ca/news/business/market-inflation-column-don-pittis-1.6702103?cmp=rss\" target=\"_blank\">https://www.cbc.ca/news/business/market-inflation-column-don-pittis-1.6702103?cmp=rss</a> ─────────────╯\n",
       "</pre>\n"
      ],
      "text/plain": [
       "╭────────────────────────────────────────────── \u001b[1mCBC | Business News\u001b[0m ──────────────────────────────────────────────╮\n",
       "│ Title: \u001b[1mNew paradigm means markets may fall with the economy as stimulus runs out\u001b[0m                                │\n",
       "│ Date: 2023-01-06                                                                                                │\n",
       "│                                                                                                                 │\n",
       "│ Not long ago it seemed that even as the economy slumped, owners of stocks, bonds and houses only got richer.    │\n",
       "│ But as central banks battle inflation and governments rein in stimulus spending, the rules have changed.        │\n",
       "│                                                                                                                 │\n",
       "╰───────────── \u001b]8;id=622599;https://www.cbc.ca/news/business/market-inflation-column-don-pittis-1.6702103?cmp=rss\u001b\\https://www.cbc.ca/news/business/market-inflation-column-don-pittis-1.6702103?cmp=rss\u001b]8;;\u001b\\ ─────────────╯\n"
      ]
     },
     "metadata": {},
     "output_type": "display_data"
    },
    {
     "data": {
      "text/html": [
       "<pre style=\"white-space:pre;overflow-x:auto;line-height:normal;font-family:Menlo,'DejaVu Sans Mono',consolas,'Courier New',monospace\">\n",
       "</pre>\n"
      ],
      "text/plain": [
       "\n"
      ]
     },
     "metadata": {},
     "output_type": "display_data"
    },
    {
     "data": {
      "text/html": [
       "<pre style=\"white-space:pre;overflow-x:auto;line-height:normal;font-family:Menlo,'DejaVu Sans Mono',consolas,'Courier New',monospace\">╭────────────────────────────────────────────── <span style=\"font-weight: bold\">CBC | Business News</span> ──────────────────────────────────────────────╮\n",
       "│ Title: <span style=\"font-weight: bold\">Netflix earnings show streaming giant is adding customers once again</span>                                     │\n",
       "│ Date: 2023-01-20                                                                                                │\n",
       "│                                                                                                                 │\n",
       "│ Netflix's subscriber growth is surging again, providing an early sign that its shift to include ads in a        │\n",
       "│ cheaper version of its video streaming service is helping to combat tougher competition and attract             │\n",
       "│ cost-conscious customers grappling with inflation.                                                              │\n",
       "│                                                                                                                 │\n",
       "╰────────────────────── <a href=\"https://www.cbc.ca/news/business/netflix-earnings-1.6720405?cmp=rss\" target=\"_blank\">https://www.cbc.ca/news/business/netflix-earnings-1.6720405?cmp=rss</a> ──────────────────────╯\n",
       "</pre>\n"
      ],
      "text/plain": [
       "╭────────────────────────────────────────────── \u001b[1mCBC | Business News\u001b[0m ──────────────────────────────────────────────╮\n",
       "│ Title: \u001b[1mNetflix earnings show streaming giant is adding customers once again\u001b[0m                                     │\n",
       "│ Date: 2023-01-20                                                                                                │\n",
       "│                                                                                                                 │\n",
       "│ Netflix's subscriber growth is surging again, providing an early sign that its shift to include ads in a        │\n",
       "│ cheaper version of its video streaming service is helping to combat tougher competition and attract             │\n",
       "│ cost-conscious customers grappling with inflation.                                                              │\n",
       "│                                                                                                                 │\n",
       "╰────────────────────── \u001b]8;id=326590;https://www.cbc.ca/news/business/netflix-earnings-1.6720405?cmp=rss\u001b\\https://www.cbc.ca/news/business/netflix-earnings-1.6720405?cmp=rss\u001b]8;;\u001b\\ ──────────────────────╯\n"
      ]
     },
     "metadata": {},
     "output_type": "display_data"
    },
    {
     "data": {
      "text/html": [
       "<pre style=\"white-space:pre;overflow-x:auto;line-height:normal;font-family:Menlo,'DejaVu Sans Mono',consolas,'Courier New',monospace\">\n",
       "</pre>\n"
      ],
      "text/plain": [
       "\n"
      ]
     },
     "metadata": {},
     "output_type": "display_data"
    }
   ],
   "source": [
    "pnr.search(\"inflation\")"
   ]
  }
 ],
 "metadata": {
  "kernelspec": {
   "display_name": "Python 3",
   "language": "python",
   "name": "python3"
  }
 },
 "nbformat": 4,
 "nbformat_minor": 4
}
