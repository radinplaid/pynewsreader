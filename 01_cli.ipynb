{
 "cells": [
  {
   "cell_type": "markdown",
   "id": "55a8528f-87e5-44a5-8237-061e8c35b61b",
   "metadata": {},
   "source": [
    "# cli\n",
    "\n",
    "> pynewsreader command line interface"
   ]
  },
  {
   "cell_type": "code",
   "execution_count": null,
   "id": "eb6753cf-7b9d-4131-89cb-af25a0474158",
   "metadata": {},
   "outputs": [],
   "source": [
    "# | default_exp cli\n"
   ]
  },
  {
   "cell_type": "code",
   "execution_count": null,
   "id": "426d433c-62ba-4278-a19e-c187b7e973b0",
   "metadata": {},
   "outputs": [],
   "source": [
    "# | hide\n",
    "from nbdev.showdoc import *\n"
   ]
  },
  {
   "cell_type": "code",
   "execution_count": null,
   "id": "0d4d6691-069a-45ce-873f-82248a531aaa",
   "metadata": {},
   "outputs": [],
   "source": [
    "# | export\n",
    "\n",
    "import reader\n",
    "from typing import *\n",
    "from bs4 import BeautifulSoup\n",
    "from rich import print\n",
    "from rich.panel import Panel\n",
    "from rich.text import Text\n",
    "import logging\n",
    "import fire\n",
    "\n",
    "logger = logging.getLogger(__name__)"
   ]
  },
  {
   "cell_type": "code",
   "execution_count": null,
   "id": "704adfb9-bea9-4994-82f0-2cb5e056b5bd",
   "metadata": {},
   "outputs": [],
   "source": [
    "# | export\n",
    "from pynewsreader.core import PyNewsReader"
   ]
  },
  {
   "cell_type": "code",
   "execution_count": null,
   "id": "80bbbfda-612d-42b2-b20e-11db424de08d",
   "metadata": {},
   "outputs": [],
   "source": [
    "# | export\n",
    "def show_entries(dbpath = None, limit: int = 5, read: bool = False, important: bool = None, mark_as_read: bool = True):\n",
    "    \"\"\"Pretty print most recent entries\"\"\"\n",
    "    if dbpath is None:\n",
    "        dbpath = \"./db.sqlite\"\n",
    "    nr = PyNewsReader(dbpath=dbpath)\n",
    "    nr.show(limit, read, important, mark_as_read)"
   ]
  },
  {
   "cell_type": "code",
   "execution_count": null,
   "id": "88257758-6026-44d8-a13a-90d88858efff",
   "metadata": {},
   "outputs": [],
   "source": [
    "# | export\n",
    "def update(dbpath = None, limit: int = 5, read: bool = None, important: bool = None, mark_as_read: bool = False):\n",
    "    \"\"\"Update feeds\"\"\"\n",
    "    if dbpath is None:\n",
    "        dbpath = \"./db.sqlite\"\n",
    "    nr = PyNewsReader(dbpath=dbpath)\n",
    "    nr.update()"
   ]
  },
  {
   "cell_type": "code",
   "execution_count": null,
   "id": "995b4048-2254-47ae-84e9-26cb8883dcf9",
   "metadata": {},
   "outputs": [],
   "source": [
    "# | export\n",
    "def search(query:str = None, dbpath = None, limit: int = 5,  mark_as_read: bool = True):\n",
    "    \"\"\"Search feeds\"\"\"\n",
    "    assert query is not None, \"Must supply a query to search\"\n",
    "    if dbpath is None:\n",
    "        dbpath = \"./db.sqlite\"\n",
    "    nr = PyNewsReader(dbpath=dbpath)\n",
    "    nr.search(query)"
   ]
  },
  {
   "cell_type": "code",
   "execution_count": null,
   "id": "7bba5279-a115-49c4-a640-a663b90eb62d",
   "metadata": {},
   "outputs": [],
   "source": [
    "# | export\n",
    "def main():\n",
    "    fire.Fire({\n",
    "        'list': show_entries,\n",
    "        'update': update,\n",
    "        'search': search\n",
    "    })"
   ]
  },
  {
   "cell_type": "code",
   "execution_count": null,
   "id": "9c5fecbc-3721-4892-84e1-5e6965755b2d",
   "metadata": {},
   "outputs": [],
   "source": [
    "# | hide\n",
    "import nbdev\n",
    "\n",
    "nbdev.nbdev_export()"
   ]
  },
  {
   "cell_type": "code",
   "execution_count": null,
   "id": "b738df02-19e3-4e09-bb77-0d99c9cb2633",
   "metadata": {},
   "outputs": [],
   "source": []
  }
 ],
 "metadata": {
  "kernelspec": {
   "display_name": "Python 3 (ipykernel)",
   "language": "python",
   "name": "python3"
  }
 },
 "nbformat": 4,
 "nbformat_minor": 5
}
