{
 "cells": [
  {
   "cell_type": "markdown",
   "metadata": {},
   "source": [
    "# core\n",
    "\n",
    "> Main codebase for fetching and saving RSS feeds"
   ]
  },
  {
   "cell_type": "code",
   "execution_count": 1,
   "metadata": {
    "vscode": {
     "languageId": "python"
    }
   },
   "outputs": [],
   "source": [
    "#| default_exp core"
   ]
  },
  {
   "cell_type": "code",
   "execution_count": 2,
   "metadata": {
    "vscode": {
     "languageId": "python"
    }
   },
   "outputs": [],
   "source": [
    "#| hide\n",
    "from nbdev.showdoc import *"
   ]
  },
  {
   "cell_type": "code",
   "execution_count": 3,
   "metadata": {},
   "outputs": [],
   "source": [
    "#| export\n",
    "\n",
    "def strip_html(s: str):\n",
    "    s = BeautifulSoup(s)\n",
    "    return s.text"
   ]
  },
  {
   "cell_type": "code",
   "execution_count": 4,
   "metadata": {
    "vscode": {
     "languageId": "python"
    }
   },
   "outputs": [],
   "source": [
    "#| export\n",
    "import reader\n",
    "from bs4 import BeautifulSoup\n",
    "from rich import print\n",
    "from rich.panel import Panel\n",
    "from rich.text import Text\n",
    "\n",
    "reader = reader.make_reader(\"db.sqlite\")\n",
    "\n",
    "feeds = [\n",
    "    \"https://rss.cbc.ca/lineup/topstories.xml\",\n",
    "    \"https://rss.cbc.ca/lineup/world.xml\",\n",
    "    \"https://rss.cbc.ca/lineup/canada.xml\",\n",
    "    \"https://rss.cbc.ca/lineup/business.xml\",\n",
    "    \"https://rss.cbc.ca/lineup/technology.xml\",\n",
    "    \"https://www.cbc.ca/cmlink/rss-canada-ottawa\",\n",
    "    \"https://www.thestar.com/content/thestar/feed.RSSManagerServlet.articles.topstories.rss\",\n",
    "    \"https://www.thestar.com/content/thestar/feed.RSSManagerServlet.articles.news.investigations.rss\",\n",
    "    \"https://www.thestar.com/content/thestar/feed.RSSManagerServlet.articles.opinion.editorials.rss\",\n",
    "    \"https://www.macleans.ca/feed/\",\n",
    "    \"https://thetyee.ca/rss2.xml\",\n",
    "    \"https://thenarwhal.ca/feed/\",\n",
    "    \"https://ricochet.media/en/feed\",\n",
    "]\n",
    "\n",
    "for feed in feeds:\n",
    "    reader.add_feed(feed, exist_ok=True)"
   ]
  },
  {
   "cell_type": "markdown",
   "metadata": {},
   "source": [
    "## List feeds"
   ]
  },
  {
   "cell_type": "code",
   "execution_count": 5,
   "metadata": {},
   "outputs": [
    {
     "data": {
      "text/plain": [
       "['https://ricochet.media/en/feed',\n",
       " 'CBC | Business News',\n",
       " 'CBC | Canada News',\n",
       " 'CBC | Ottawa News',\n",
       " 'CBC | Technology News',\n",
       " 'CBC | Top Stories News',\n",
       " 'CBC | World News',\n",
       " 'Macleans.ca',\n",
       " 'The Narwhal',\n",
       " \"The Tyee | BC's home for today's news, analysis and updates\",\n",
       " 'TORONTO STAR',\n",
       " 'TORONTO STAR',\n",
       " 'TORONTO STAR']"
      ]
     },
     "execution_count": 5,
     "metadata": {},
     "output_type": "execute_result"
    }
   ],
   "source": [
    "[i.title or i.url for i in reader.get_feeds()]"
   ]
  },
  {
   "cell_type": "markdown",
   "metadata": {},
   "source": [
    "## Update Feeds"
   ]
  },
  {
   "cell_type": "code",
   "execution_count": 6,
   "metadata": {},
   "outputs": [],
   "source": [
    "reader.update_feeds()"
   ]
  },
  {
   "cell_type": "markdown",
   "metadata": {},
   "source": [
    "## List Entries"
   ]
  },
  {
   "cell_type": "code",
   "execution_count": 7,
   "metadata": {},
   "outputs": [
    {
     "data": {
      "text/html": [
       "<pre style=\"white-space:pre;overflow-x:auto;line-height:normal;font-family:Menlo,'DejaVu Sans Mono',consolas,'Courier New',monospace\">╭────────── <a href=\"https://www.cbc.ca/news/indigenous/afn-assembly-updates-investigations-1.6676651?cmp=rss\" target=\"_blank\">AFN assembly kicks off with updates on investigations, little progress on backlogged issues</a> ──────────╮\n",
       "│                                                Date: 2022-12-07                                                 │\n",
       "│  The Assembly of First Nations’ first national gathering since July kicked off Tuesday with a pledge to address │\n",
       "│    the organization’s ongoing internal troubles and an acknowledgment the tensions have resulted in a large     │\n",
       "│                                           backlog of pressing issues.                                           │\n",
       "╰──────────────────────────────────────────── CBC | Top Stories News ─────────────────────────────────────────────╯\n",
       "</pre>\n"
      ],
      "text/plain": [
       "╭────────── \u001b]8;id=960949;https://www.cbc.ca/news/indigenous/afn-assembly-updates-investigations-1.6676651?cmp=rss\u001b\\AFN assembly kicks off with updates on investigations, little progress on backlogged issues\u001b]8;;\u001b\\ ──────────╮\n",
       "│                                                Date: 2022-12-07                                                 │\n",
       "│  The Assembly of First Nations’ first national gathering since July kicked off Tuesday with a pledge to address │\n",
       "│    the organization’s ongoing internal troubles and an acknowledgment the tensions have resulted in a large     │\n",
       "│                                           backlog of pressing issues.                                           │\n",
       "╰──────────────────────────────────────────── CBC | Top Stories News ─────────────────────────────────────────────╯\n"
      ]
     },
     "metadata": {},
     "output_type": "display_data"
    },
    {
     "data": {
      "text/html": [
       "<pre style=\"white-space:pre;overflow-x:auto;line-height:normal;font-family:Menlo,'DejaVu Sans Mono',consolas,'Courier New',monospace\">\n",
       "</pre>\n"
      ],
      "text/plain": [
       "\n"
      ]
     },
     "metadata": {},
     "output_type": "display_data"
    },
    {
     "data": {
      "text/html": [
       "<pre style=\"white-space:pre;overflow-x:auto;line-height:normal;font-family:Menlo,'DejaVu Sans Mono',consolas,'Courier New',monospace\">╭──────────────────────────── <a href=\"https://thetyee.ca/Analysis/2022/12/06/BC-Hasnt-Learned-Much-Pandemic-Report-Covid-Disappointed/\" target=\"_blank\">BC Hasn’t Learned Much from the Pandemic (in Analysis)</a> ─────────────────────────────╮\n",
       "│                                                  Date: Unknown                                                  │\n",
       "│        A report on the provincial response to the COVID-19 pandemic shows citizens are disappointed and         │\n",
       "│                                          disenfranchised. Here’s why.                                           │\n",
       "╰────────────────────────── The Tyee | BC's home for today's news, analysis and updates ──────────────────────────╯\n",
       "</pre>\n"
      ],
      "text/plain": [
       "╭──────────────────────────── \u001b]8;id=971439;https://thetyee.ca/Analysis/2022/12/06/BC-Hasnt-Learned-Much-Pandemic-Report-Covid-Disappointed/\u001b\\BC Hasn’t Learned Much from the Pandemic (in Analysis)\u001b]8;;\u001b\\ ─────────────────────────────╮\n",
       "│                                                  Date: Unknown                                                  │\n",
       "│        A report on the provincial response to the COVID-19 pandemic shows citizens are disappointed and         │\n",
       "│                                          disenfranchised. Here’s why.                                           │\n",
       "╰────────────────────────── The Tyee | BC's home for today's news, analysis and updates ──────────────────────────╯\n"
      ]
     },
     "metadata": {},
     "output_type": "display_data"
    },
    {
     "data": {
      "text/html": [
       "<pre style=\"white-space:pre;overflow-x:auto;line-height:normal;font-family:Menlo,'DejaVu Sans Mono',consolas,'Courier New',monospace\">\n",
       "</pre>\n"
      ],
      "text/plain": [
       "\n"
      ]
     },
     "metadata": {},
     "output_type": "display_data"
    },
    {
     "data": {
      "text/html": [
       "<pre style=\"white-space:pre;overflow-x:auto;line-height:normal;font-family:Menlo,'DejaVu Sans Mono',consolas,'Courier New',monospace\">╭────────────────────── <a href=\"https://thetyee.ca/Culture/2022/12/06/Nan-Goldin-Art-Icon-Big-Pharma-Knees/\" target=\"_blank\">Meet the Art Icon Who Brought Big Pharma To Its Knees (in Culture)</a> ───────────────────────╮\n",
       "│                                                  Date: Unknown                                                  │\n",
       "│                         Art can change the world, and Nan Goldin’s work does just that.                         │\n",
       "╰────────────────────────── The Tyee | BC's home for today's news, analysis and updates ──────────────────────────╯\n",
       "</pre>\n"
      ],
      "text/plain": [
       "╭────────────────────── \u001b]8;id=190835;https://thetyee.ca/Culture/2022/12/06/Nan-Goldin-Art-Icon-Big-Pharma-Knees/\u001b\\Meet the Art Icon Who Brought Big Pharma To Its Knees (in Culture)\u001b]8;;\u001b\\ ───────────────────────╮\n",
       "│                                                  Date: Unknown                                                  │\n",
       "│                         Art can change the world, and Nan Goldin’s work does just that.                         │\n",
       "╰────────────────────────── The Tyee | BC's home for today's news, analysis and updates ──────────────────────────╯\n"
      ]
     },
     "metadata": {},
     "output_type": "display_data"
    },
    {
     "data": {
      "text/html": [
       "<pre style=\"white-space:pre;overflow-x:auto;line-height:normal;font-family:Menlo,'DejaVu Sans Mono',consolas,'Courier New',monospace\">\n",
       "</pre>\n"
      ],
      "text/plain": [
       "\n"
      ]
     },
     "metadata": {},
     "output_type": "display_data"
    },
    {
     "data": {
      "text/html": [
       "<pre style=\"white-space:pre;overflow-x:auto;line-height:normal;font-family:Menlo,'DejaVu Sans Mono',consolas,'Courier New',monospace\">╭─────────────────────── <a href=\"https://thetyee.ca/News/2022/12/06/Calls-For-Flu-Fighting-Vaxapalooza/\" target=\"_blank\">Calls for a Flu-Fighting ‘Vaxapalooza.’ But What Else? (in News)</a> ────────────────────────╮\n",
       "│                                                  Date: Unknown                                                  │\n",
       "│     Beyond the ‘blitz’ of flu shots aimed for by BC health officials, critics urge more focus on masks and      │\n",
       "│                                                  ventilation.                                                   │\n",
       "╰────────────────────────── The Tyee | BC's home for today's news, analysis and updates ──────────────────────────╯\n",
       "</pre>\n"
      ],
      "text/plain": [
       "╭─────────────────────── \u001b]8;id=9934;https://thetyee.ca/News/2022/12/06/Calls-For-Flu-Fighting-Vaxapalooza/\u001b\\Calls for a Flu-Fighting ‘Vaxapalooza.’ But What Else? (in News)\u001b]8;;\u001b\\ ────────────────────────╮\n",
       "│                                                  Date: Unknown                                                  │\n",
       "│     Beyond the ‘blitz’ of flu shots aimed for by BC health officials, critics urge more focus on masks and      │\n",
       "│                                                  ventilation.                                                   │\n",
       "╰────────────────────────── The Tyee | BC's home for today's news, analysis and updates ──────────────────────────╯\n"
      ]
     },
     "metadata": {},
     "output_type": "display_data"
    },
    {
     "data": {
      "text/html": [
       "<pre style=\"white-space:pre;overflow-x:auto;line-height:normal;font-family:Menlo,'DejaVu Sans Mono',consolas,'Courier New',monospace\">\n",
       "</pre>\n"
      ],
      "text/plain": [
       "\n"
      ]
     },
     "metadata": {},
     "output_type": "display_data"
    },
    {
     "data": {
      "text/html": [
       "<pre style=\"white-space:pre;overflow-x:auto;line-height:normal;font-family:Menlo,'DejaVu Sans Mono',consolas,'Courier New',monospace\">╭───────────────────── <a href=\"https://thetyee.ca/News/2022/12/06/Die-Without-Home-For-Daughter/\" target=\"_blank\">I Don’t Want to Die Without Finding Housing for My Daughter (in News)</a> ─────────────────────╮\n",
       "│                                                  Date: Unknown                                                  │\n",
       "│    Aging parents and their adult children with intellectual and developmental disabilities fight for scarce     │\n",
       "│                                               subsidized rentals.                                               │\n",
       "╰────────────────────────── The Tyee | BC's home for today's news, analysis and updates ──────────────────────────╯\n",
       "</pre>\n"
      ],
      "text/plain": [
       "╭───────────────────── \u001b]8;id=697605;https://thetyee.ca/News/2022/12/06/Die-Without-Home-For-Daughter/\u001b\\I Don’t Want to Die Without Finding Housing for My Daughter (in News)\u001b]8;;\u001b\\ ─────────────────────╮\n",
       "│                                                  Date: Unknown                                                  │\n",
       "│    Aging parents and their adult children with intellectual and developmental disabilities fight for scarce     │\n",
       "│                                               subsidized rentals.                                               │\n",
       "╰────────────────────────── The Tyee | BC's home for today's news, analysis and updates ──────────────────────────╯\n"
      ]
     },
     "metadata": {},
     "output_type": "display_data"
    },
    {
     "data": {
      "text/html": [
       "<pre style=\"white-space:pre;overflow-x:auto;line-height:normal;font-family:Menlo,'DejaVu Sans Mono',consolas,'Courier New',monospace\">\n",
       "</pre>\n"
      ],
      "text/plain": [
       "\n"
      ]
     },
     "metadata": {},
     "output_type": "display_data"
    }
   ],
   "source": [
    "for e in reader.get_entries(read=False, limit=5):\n",
    "    if e.published:\n",
    "        published_date = Text(\n",
    "            \"Date: \" + e.published.isoformat()[:10], justify=\"center\"\n",
    "        )\n",
    "    else:\n",
    "        published_date = Text(\"Date: Unknown\", justify=\"center\")\n",
    "    print(\n",
    "        Panel(\n",
    "            published_date + \"\\n\" + Text(strip_html(e.summary), justify=None),\n",
    "            title=f\"[link={e.link}]{e.title}[/link]\",\n",
    "            subtitle=e.feed.title or e.feed_url,\n",
    "        )\n",
    "    )\n",
    "    print()"
   ]
  },
  {
   "cell_type": "code",
   "execution_count": 8,
   "metadata": {
    "vscode": {
     "languageId": "python"
    }
   },
   "outputs": [],
   "source": [
    "#| hide\n",
    "import nbdev\n",
    "\n",
    "nbdev.nbdev_export()"
   ]
  }
 ],
 "metadata": {
  "kernelspec": {
   "display_name": "Python 3",
   "language": "python",
   "name": "python3"
  },
  "language_info": {
   "codemirror_mode": {
    "name": "ipython",
    "version": 3
   },
   "file_extension": ".py",
   "mimetype": "text/x-python",
   "name": "python",
   "nbconvert_exporter": "python",
   "pygments_lexer": "ipython3",
   "version": "3.8.8"
  }
 },
 "nbformat": 4,
 "nbformat_minor": 4
}
