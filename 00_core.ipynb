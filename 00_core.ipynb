{
 "cells": [
  {
   "cell_type": "markdown",
   "metadata": {},
   "source": [
    "# core\n",
    "\n",
    "> Main codebase for fetching and saving RSS feeds"
   ]
  },
  {
   "cell_type": "code",
   "execution_count": null,
   "metadata": {},
   "outputs": [],
   "source": [
    "# | default_exp core"
   ]
  },
  {
   "cell_type": "code",
   "execution_count": null,
   "metadata": {},
   "outputs": [],
   "source": [
    "# | hide\n",
    "from nbdev.showdoc import *"
   ]
  },
  {
   "cell_type": "code",
   "execution_count": null,
   "metadata": {},
   "outputs": [],
   "source": [
    "# | export\n",
    "\n",
    "import json\n",
    "import logging\n",
    "from pathlib import Path\n",
    "from typing import *\n",
    "\n",
    "import fire\n",
    "import reader\n",
    "import rich\n",
    "from bs4 import BeautifulSoup\n",
    "from fastcore.basics import patch_to\n",
    "from rich import print\n",
    "from rich.console import Console\n",
    "from rich.panel import Panel\n",
    "from rich.text import Text\n",
    "\n",
    "console = Console()\n",
    "\n",
    "logger = logging.getLogger(__name__)\n",
    "\n",
    "\n",
    "def strip_html(s: str):\n",
    "    s = BeautifulSoup(s, \"html.parser\")\n",
    "    return s.text"
   ]
  },
  {
   "cell_type": "code",
   "execution_count": null,
   "metadata": {},
   "outputs": [],
   "source": [
    "# | export\n",
    "\n",
    "class Feed:\n",
    "    \"\"\"RSS feed class\"\"\"\n",
    "\n",
    "    def __init__(self, url: str, name: str = None, tags: List[str] = []):\n",
    "        self.url = url\n",
    "        self.name = name\n",
    "        self.tags = tags\n",
    "\n",
    "    def add_tag(self, tag: str):\n",
    "        if tag not in self.tags:\n",
    "            self.tags.append(tag)\n",
    "\n",
    "    def remove_tag(self, tag: str):\n",
    "        if tag in self.tags:\n",
    "            self.tags.remove(tag)"
   ]
  },
  {
   "cell_type": "code",
   "execution_count": null,
   "metadata": {},
   "outputs": [],
   "source": [
    "# | export\n",
    "\n",
    "\n",
    "class PyNewsReader:\n",
    "    def __init__(self, feeds=List[Feed]):\n",
    "        self._dbfolder = Path().home() / \".cache/pynewsreader\"\n",
    "        if not self._dbfolder.exists():\n",
    "            self._dbfolder.mkdir(parents=True)\n",
    "\n",
    "        # If custom feed names exist, read them in\n",
    "        feed_names_path = self._dbfolder / \"feed_names.json\"\n",
    "        if feed_names_path.exists():\n",
    "            with open(self._dbfolder / \"feed_names.json\", \"rt\") as myfile:\n",
    "                self._feed_names = json.load(myfile)\n",
    "        else:\n",
    "            self._feed_names = {}\n",
    "\n",
    "        # If title blacklist exists, read it in\n",
    "        title_blacklist_path = self._dbfolder / \"title_blacklist.json\"\n",
    "        if title_blacklist_path.exists():\n",
    "            with open(self._dbfolder / \"title_blacklist.json\", \"rt\") as myfile:\n",
    "                self._title_blacklist = json.load(myfile)\n",
    "        else:\n",
    "            self._title_blacklist = []\n",
    "\n",
    "        self._reader = reader.make_reader(\n",
    "            self._dbfolder / \"db.sqlite\",\n",
    "            plugins=[\"reader.enclosure_dedupe\", \"reader.entry_dedupe\"],\n",
    "        )\n",
    "\n",
    "        # If title whitelist exists, read it in\n",
    "        title_whitelist_path = self._dbfolder / \"title_whitelist.json\"\n",
    "        if title_whitelist_path.exists():\n",
    "            with open(self._dbfolder / \"title_whitelist.json\", \"rt\") as myfile:\n",
    "                self._title_whitelist = json.load(myfile)\n",
    "        else:\n",
    "            self._title_whitelist = []\n",
    "\n",
    "        self._reader = reader.make_reader(\n",
    "            self._dbfolder / \"db.sqlite\",\n",
    "            plugins=[\"reader.enclosure_dedupe\", \"reader.entry_dedupe\"],\n",
    "        )\n",
    "\n",
    "        self._reader.enable_search()\n",
    "\n",
    "    def _print_entries(\n",
    "        self, entries: List[reader.Entry], mark_as_read: bool = True, limit: int = 10\n",
    "    ):\n",
    "        \"\"\"Pretty print entries - supports reader.Reader.get_entries arguments\"\"\"\n",
    "        displayed_links = set()\n",
    "        for e in entries:\n",
    "            if e.link in displayed_links:\n",
    "                # Don't display duplicates\n",
    "                self._reader.mark_entry_as_read(e)\n",
    "            else:\n",
    "                displayed_links.add(e.link)\n",
    "                if e.published:\n",
    "                    published_date = \"Date: \" + e.published.isoformat()[:10]\n",
    "                else:\n",
    "                    published_date = \"Date: Unknown\"\n",
    "                if mark_as_read:\n",
    "                    self._reader.mark_entry_as_read(e)\n",
    "\n",
    "                feed_title = f\"[bold]{self._get_feed_title(e.original_feed_url)}[/bold]\"\n",
    "\n",
    "                if e.important:\n",
    "                    panel_body = \":exclamation_mark:\"\n",
    "                else:\n",
    "                    panel_body = \"\"\n",
    "                panel_body += f\"Title: [bold]{e.title}[/bold]\" + \"\\n\"\n",
    "                panel_body += str(published_date) + \"\\n\\n\"\n",
    "                panel_body += strip_html(e.summary).strip() + \"\\n\"\n",
    "\n",
    "                console.print(\n",
    "                    Panel(\n",
    "                        panel_body,\n",
    "                        title=feed_title,\n",
    "                        subtitle=f\"[link={e.link}]{e.link}[/link]\",\n",
    "                    )\n",
    "                )\n",
    "                console.print()\n",
    "            if len(displayed_links) == limit:\n",
    "                return\n",
    "\n",
    "    def _get_feed_title(self, url: str):\n",
    "        \"\"\"Get display title for pynewsreader feed\"\"\"\n",
    "        if url in self._feed_names and self._feed_names[url] is not None:\n",
    "            return self._feed_names[url]\n",
    "        elif self._reader.get_feed(url).title:\n",
    "            return self._reader.get_feed(url).title\n",
    "        else:\n",
    "            return self._reader.get_feed(url).url\n",
    "\n",
    "    def _get_entries(\n",
    "        self, important: bool = None, read: Union[None, bool] = None, limit: int = 10\n",
    "    ) -> List[reader.Entry]:\n",
    "        \"\"\"Get entries in reader.Entry format\"\"\"\n",
    "        return self._reader.get_entries(read=read, limit=limit, important=important)\n",
    "\n",
    "    def _get_tags(self, entry: reader.Entry):\n",
    "        \"\"\"Get tags for a given entry\"\"\"\n",
    "        return [i[0] for i in list(self._reader.get_tags(entry))]\n",
    "\n",
    "    def _mark_matching_entries_as_read(self, match_strings: List):\n",
    "        for i in self._reader.get_entries(read=False):\n",
    "            for filter_string in match_strings:\n",
    "                if filter_string in i.title:\n",
    "                    print(f\"Marking entry as read: {i.title}\")\n",
    "                    self._reader.mark_entry_as_read(i)\n",
    "                if filter_string in i.link:\n",
    "                    print(f\"Marking entry as read: {i.title}\")\n",
    "                    self._reader.mark_entry_as_read(i)\n",
    "\n",
    "    def _mark_matching_entries_as_important(self, match_strings: List):\n",
    "        for i in self._reader.get_entries(read=False):\n",
    "            for filter_string in match_strings:\n",
    "                if filter_string in i.title:\n",
    "                    print(f\"Marking entry as important: {i.title}\")\n",
    "                    self._reader.mark_entry_as_important(i)\n",
    "\n",
    "    def _mark_important(self, entry: reader.Entry = None):\n",
    "        \"\"\"Mark entry as important\"\"\"\n",
    "        if entry is not None:\n",
    "            reader.Reader.mark_entry_as_important(entry)\n",
    "\n",
    "    def _mark_unimportant(self, entry: reader.Entry = None):\n",
    "        \"\"\"Mark entry as important\"\"\"\n",
    "        if entry is not None:\n",
    "            reader.Reader.mark_entry_as_unimportant(entry)\n",
    "\n",
    "    def _add_tag(self, entry: reader.Entry, tag_key: str, tag_value: Dict = None):\n",
    "        \"\"\"Add tag to entry\"\"\"\n",
    "        reader.Reader.set_tag(entry, tag_key, tag_value)\n",
    "\n",
    "    def _remove_tag(self, entry: reader.Entry, tag_key: str):\n",
    "        \"\"\"Remove tag from entry\"\"\"\n",
    "        self._reader.delete_tag(entry, tag_key)"
   ]
  },
  {
   "cell_type": "code",
   "execution_count": null,
   "metadata": {},
   "outputs": [],
   "source": [
    "# | export\n",
    "\n",
    "@patch_to(PyNewsReader)\n",
    "def blacklist_add(self, blacklist_string: str):\n",
    "    \"\"\"Add entry to blacklist\"\"\"\n",
    "    if blacklist_string not in self._title_blacklist:\n",
    "        self._title_blacklist.append(blacklist_string)\n",
    "        with open(self._dbfolder / \"title_blacklist.json\", \"wt\") as myfile:\n",
    "            json.dump(self._title_blacklist, myfile)\n",
    "\n",
    "\n",
    "@patch_to(PyNewsReader)\n",
    "def blacklist_remove(self, blacklist_string: str):\n",
    "    \"\"\"Remove entry from blacklist\"\"\"\n",
    "    if blacklist_string in self._title_blacklist:\n",
    "        self._title_blacklist.remove(blacklist_string)\n",
    "        with open(self._dbfolder / \"title_blacklist.json\", \"wt\") as myfile:\n",
    "            json.dump(self._title_blacklist, myfile)\n",
    "\n",
    "@patch_to(PyNewsReader)\n",
    "def blacklist_show(self):\n",
    "    \"\"\"Show blacklist\"\"\"\n",
    "    print(self._title_blacklist)\n",
    "  "
   ]
  },
  {
   "cell_type": "code",
   "execution_count": null,
   "metadata": {},
   "outputs": [],
   "source": [
    "#| export\n",
    "\n",
    "@patch_to(PyNewsReader)\n",
    "def whitelist_add(self, whitelist_string: str):\n",
    "    \"\"\"Add entry to whitelist\"\"\"\n",
    "    if whitelist_string not in self._title_whitelist:\n",
    "        self._title_whitelist.append(whitelist_string)\n",
    "        with open(self._dbfolder / \"title_whitelist.json\", \"wt\") as myfile:\n",
    "            json.dump(self._title_whitelist, myfile)\n",
    "        for entry in self._get_entries(limit=None):\n",
    "            if whitelist_string in entry.title:\n",
    "                self._reader.mark_entry_as_important(entry)\n",
    "\n",
    "\n",
    "@patch_to(PyNewsReader)\n",
    "def whitelist_remove(self, whitelist_string: str):\n",
    "    \"\"\"Remove whitelist entry\"\"\"\n",
    "    if whitelist_string in self._title_whitelist:\n",
    "        self._title_whitelist.remove(whitelist_string)\n",
    "        with open(self._dbfolder / \"title_whitelist.json\", \"wt\") as myfile:\n",
    "            json.dump(self._title_whitelist, myfile)\n",
    "        for entry in self._get_entries(limit=None):\n",
    "            if whitelist_string in entry.title:\n",
    "                self._reader.mark_entry_as_unimportant(entry)\n",
    "                \n",
    "@patch_to(PyNewsReader)\n",
    "def whitelist_show(self):\n",
    "    \"\"\"Show whitelist\"\"\"\n",
    "    print(self._title_whitelist)\n",
    "  "
   ]
  },
  {
   "cell_type": "code",
   "execution_count": null,
   "metadata": {},
   "outputs": [],
   "source": [
    "# | export\n",
    "\n",
    "@patch_to(PyNewsReader)\n",
    "def update(self):\n",
    "    \"\"\"Update feeds and search\"\"\"\n",
    "    self._reader.update_feeds()\n",
    "    self._reader.update_search()\n",
    "    if len(self._title_blacklist) > 0:\n",
    "        self._mark_matching_entries_as_read(self._title_blacklist)\n",
    "    if len(self._title_whitelist) > 0:\n",
    "        self._mark_matching_entries_as_important(self._title_whitelist)"
   ]
  },
  {
   "cell_type": "code",
   "execution_count": null,
   "metadata": {},
   "outputs": [],
   "source": [
    "# | export\n",
    "\n",
    "@patch_to(PyNewsReader)\n",
    "def add_feed(self, feed: Union[Feed, str]):\n",
    "    \"\"\"Add feed to pynewsreader\n",
    "\n",
    "    Args:\n",
    "        feed (Feed): pynewsreader Feed to add\n",
    "    \"\"\"\n",
    "    if isinstance(feed, Feed):\n",
    "        self._feed_names[feed.url] = feed.name\n",
    "        self._reader.add_feed(feed.url.rstrip(\"/\"), exist_ok=True)\n",
    "    elif isinstance(feed, str):\n",
    "        self._reader.add_feed(feed.rstrip(\"/\"), exist_ok=True)\n",
    "    else:\n",
    "        raise Exception(\"Must be str or Feed type to add\")\n",
    "\n",
    "    # Save names to file\n",
    "    with open(self._dbfolder / \"feed_names.json\", \"wt\") as myfile:\n",
    "        json.dump(self._feed_names, myfile)\n",
    "\n",
    "\n",
    "@patch_to(PyNewsReader)\n",
    "def remove_feed(self, feed: Union[Feed, str]):\n",
    "    \"\"\"Remove feed from pynewsreader instance\n",
    "\n",
    "    Args:\n",
    "        feed (Union[Feed, str]): Feed to remove\n",
    "    \"\"\"\n",
    "\n",
    "    if isinstance(feed, Feed):\n",
    "        self._reader.delete_feed(feed.url)\n",
    "    elif isinstance(feed, str):\n",
    "        self._reader.delete_feed(feed)\n",
    "    else:\n",
    "        raise Exception(TypeError)\n",
    "\n",
    "\n",
    "@patch_to(PyNewsReader)\n",
    "def feeds(self):\n",
    "    \"\"\"List pynewsreader feeds\n",
    "\n",
    "    Returns:\n",
    "        List[str]: List of names of current pynewsreader feeds\n",
    "    \"\"\"\n",
    "    return [self._get_feed_title(i.url) for i in self._reader.get_feeds()]"
   ]
  },
  {
   "cell_type": "code",
   "execution_count": null,
   "metadata": {},
   "outputs": [],
   "source": [
    "# | export\n",
    "\n",
    "@patch_to(PyNewsReader)\n",
    "def show(\n",
    "    self,\n",
    "    limit: int = 6,\n",
    "    read: bool = False,\n",
    "    important: bool = None,\n",
    "    mark_as_read: bool = True,\n",
    "):\n",
    "    \"\"\"Pretty print entries\n",
    "\n",
    "    Args:\n",
    "        limit (int, optional): Number of entries to show. Defaults to 5.\n",
    "        read (bool, optional): Show read entries (True), unread entries (False), or all entries (None). Defaults to None.\n",
    "        mark_as_read (bool, optional): Mark displayed entries as read. Defaults to False.\n",
    "    \"\"\"\n",
    "    self._print_entries(\n",
    "        self._get_entries(read=read, important=important, limit=limit * 2),\n",
    "        limit=limit,\n",
    "        mark_as_read=mark_as_read,\n",
    "    )"
   ]
  },
  {
   "cell_type": "code",
   "execution_count": null,
   "metadata": {},
   "outputs": [],
   "source": [
    "# | export\n",
    "\n",
    "@patch_to(PyNewsReader)\n",
    "def search(self, query: str, mark_as_read: bool = True, limit: int = 10):\n",
    "    \"\"\"Search entries and pretty print results\n",
    "\n",
    "    Args:a\n",
    "        query (str): Search query\n",
    "        mark_as_read (bool, optional): Mark results as read? Defaults to True.\n",
    "    \"\"\"\n",
    "    self._print_entries(\n",
    "        [self._reader.get_entry(i) for i in self._reader.search_entries(query)],\n",
    "        mark_as_read=mark_as_read,\n",
    "        limit=limit,\n",
    "    )\n"
   ]
  },
  {
   "cell_type": "code",
   "execution_count": null,
   "metadata": {},
   "outputs": [],
   "source": [
    "#| export\n",
    "\n",
    "@patch_to(PyNewsReader)\n",
    "def _mark_entries_important_by_url(self, url: str):\n",
    "    matches = [i for i in self._reader.get_entries() if i.link==url]\n",
    "    for article in matches:\n",
    "        self._reader.mark_entry_as_important(article)\n",
    "\n",
    "\n",
    "@patch_to(PyNewsReader)\n",
    "def _mark_entries_unimportant_by_url(self, url: str):\n",
    "    matches = [i for i in self._reader.get_entries() if i.link==url]\n",
    "    for article in matches:\n",
    "        self._reader.mark_entry_as_unimportant(article)\n"
   ]
  },
  {
   "cell_type": "code",
   "execution_count": null,
   "metadata": {},
   "outputs": [],
   "source": [
    "r = PyNewsReader()"
   ]
  },
  {
   "cell_type": "markdown",
   "metadata": {},
   "source": [
    "## Add Feeds"
   ]
  },
  {
   "cell_type": "code",
   "execution_count": null,
   "metadata": {},
   "outputs": [],
   "source": [
    "# With names\n",
    "for i in [\n",
    "    Feed(url=\"https://ricochet.media/en/feed\", name=\"Richochet Media\"),\n",
    "    Feed(url=\"https://thetyee.ca/rss2.xml\", name=\"The Tyee\"),\n",
    "    Feed(\n",
    "        url=\"https://www.thestar.com/content/thestar/feed.RSSManagerServlet.articles.topstories.rss\",\n",
    "        name=\"Toronto Star | Top Stories\",\n",
    "    ),\n",
    "    Feed(\n",
    "        url=\"https://www.thestar.com/content/thestar/feed.RSSManagerServlet.articles.news.investigations.rss\",\n",
    "        name=\"Toronto Star | Investigations\",\n",
    "    ),\n",
    "    Feed(\n",
    "        url=\"https://www.thestar.com/content/thestar/feed.RSSManagerServlet.articles.opinion.editorials.rss\",\n",
    "        name=\"Toronto Star | Editorials\",\n",
    "    ),\n",
    "    Feed(url=\"https://www.macleans.ca/feed/\", name=\"Macleans\"),\n",
    "]:\n",
    "    r.add_feed(i)\n",
    "\n",
    "# Use the default name from the feed\n",
    "for i in [\n",
    "    \"https://rss.cbc.ca/lineup/topstories.xml\",\n",
    "    \"https://rss.cbc.ca/lineup/world.xml\",\n",
    "    \"https://rss.cbc.ca/lineup/canada.xml\",\n",
    "    \"https://rss.cbc.ca/lineup/business.xml\",\n",
    "    \"https://rss.cbc.ca/lineup/technology.xml\",\n",
    "    \"https://www.cbc.ca/cmlink/rss-canada-ottawa\",\n",
    "    \"https://thenarwhal.ca/feed/\",\n",
    "    \"https://www.theguardian.com/science/rss\",\n",
    "    \"https://www.theguardian.com/world/canada/rss\",\n",
    "]:\n",
    "    r.add_feed(Feed(i))"
   ]
  },
  {
   "cell_type": "markdown",
   "metadata": {},
   "source": [
    "## Update Feeds"
   ]
  },
  {
   "cell_type": "code",
   "execution_count": null,
   "metadata": {},
   "outputs": [
    {
     "data": {
      "text/html": [
       "<pre style=\"white-space:pre;overflow-x:auto;line-height:normal;font-family:Menlo,'DejaVu Sans Mono',consolas,'Courier New',monospace\">Marking entry as read: Google launching its own artificial intelligence bot, known as Bard\n",
       "</pre>\n"
      ],
      "text/plain": [
       "Marking entry as read: Google launching its own artificial intelligence bot, known as Bard\n"
      ]
     },
     "metadata": {},
     "output_type": "display_data"
    },
    {
     "data": {
      "text/html": [
       "<pre style=\"white-space:pre;overflow-x:auto;line-height:normal;font-family:Menlo,'DejaVu Sans Mono',consolas,'Courier New',monospace\">Marking entry as read: Google launching its own artificial intelligence bot, known as Bard\n",
       "</pre>\n"
      ],
      "text/plain": [
       "Marking entry as read: Google launching its own artificial intelligence bot, known as Bard\n"
      ]
     },
     "metadata": {},
     "output_type": "display_data"
    },
    {
     "data": {
      "text/html": [
       "<pre style=\"white-space:pre;overflow-x:auto;line-height:normal;font-family:Menlo,'DejaVu Sans Mono',consolas,'Courier New',monospace\">Marking entry as read: <span style=\"color: #008000; text-decoration-color: #008000\">'Crypto King'</span> associate wipes iPhone, hands over $1M in bank drafts payable to Aiden \n",
       "Pleterski\n",
       "</pre>\n"
      ],
      "text/plain": [
       "Marking entry as read: \u001b[32m'Crypto King'\u001b[0m associate wipes iPhone, hands over $1M in bank drafts payable to Aiden \n",
       "Pleterski\n"
      ]
     },
     "metadata": {},
     "output_type": "display_data"
    },
    {
     "data": {
      "text/html": [
       "<pre style=\"white-space:pre;overflow-x:auto;line-height:normal;font-family:Menlo,'DejaVu Sans Mono',consolas,'Courier New',monospace\">Marking entry as read: Elon Musk cleared in trial over tweets about taking Tesla private\n",
       "</pre>\n"
      ],
      "text/plain": [
       "Marking entry as read: Elon Musk cleared in trial over tweets about taking Tesla private\n"
      ]
     },
     "metadata": {},
     "output_type": "display_data"
    },
    {
     "data": {
      "text/html": [
       "<pre style=\"white-space:pre;overflow-x:auto;line-height:normal;font-family:Menlo,'DejaVu Sans Mono',consolas,'Courier New',monospace\">Marking entry as read: ‘Tip of the iceberg’: why abuse in Canadian sport is worse than it seems\n",
       "</pre>\n"
      ],
      "text/plain": [
       "Marking entry as read: ‘Tip of the iceberg’: why abuse in Canadian sport is worse than it seems\n"
      ]
     },
     "metadata": {},
     "output_type": "display_data"
    }
   ],
   "source": [
    "r.update()"
   ]
  },
  {
   "cell_type": "markdown",
   "metadata": {},
   "source": [
    "## List Feeds"
   ]
  },
  {
   "cell_type": "code",
   "execution_count": null,
   "metadata": {},
   "outputs": [
    {
     "data": {
      "text/plain": [
       "['Canada | The Guardian',\n",
       " 'CBC | Business News',\n",
       " 'CBC | Canada News',\n",
       " 'CBC | Ottawa News',\n",
       " 'CBC | Technology News',\n",
       " 'CBC | Top Stories News',\n",
       " 'CBC | World News',\n",
       " 'Macleans',\n",
       " 'Richochet Media',\n",
       " 'Science | The Guardian',\n",
       " 'The Narwhal',\n",
       " 'The Tyee',\n",
       " 'Toronto Star | Investigations',\n",
       " 'Toronto Star | Editorials',\n",
       " 'Toronto Star | Top Stories']"
      ]
     },
     "execution_count": null,
     "metadata": {},
     "output_type": "execute_result"
    }
   ],
   "source": [
    "r.feeds()"
   ]
  },
  {
   "cell_type": "markdown",
   "metadata": {},
   "source": [
    "## Display Entries\n",
    "\n",
    "`read` = None shows all entries\n",
    "\n",
    "`read` = False shows only unread entries\n",
    "\n",
    "`read` = True shows only read entries"
   ]
  },
  {
   "cell_type": "code",
   "execution_count": null,
   "metadata": {},
   "outputs": [
    {
     "data": {
      "text/html": [
       "<pre style=\"white-space:pre;overflow-x:auto;line-height:normal;font-family:Menlo,'DejaVu Sans Mono',consolas,'Courier New',monospace\">╭─────────────────────────────────────────────────── <span style=\"font-weight: bold\">The Tyee</span> ────────────────────────────────────────────────────╮\n",
       "│ Title: <span style=\"font-weight: bold\">BC Pledges to Spend Surplus Billions to Improve Services (in News)</span>                                       │\n",
       "│ Date: Unknown                                                                                                   │\n",
       "│                                                                                                                 │\n",
       "│ Eby’s first throne speech says government’s priorities remain unchanged.                                        │\n",
       "│                                                                                                                 │\n",
       "╰─────────────── <a href=\"https://thetyee.ca/News/2023/02/06/BC-Pledges-To-Spend-Surplus-Billions-Services/\" target=\"_blank\">https://thetyee.ca/News/2023/02/06/BC-Pledges-To-Spend-Surplus-Billions-Services/</a> ───────────────╯\n",
       "</pre>\n"
      ],
      "text/plain": [
       "╭─────────────────────────────────────────────────── \u001b[1mThe Tyee\u001b[0m ────────────────────────────────────────────────────╮\n",
       "│ Title: \u001b[1mBC Pledges to Spend Surplus Billions to Improve Services (in News)\u001b[0m                                       │\n",
       "│ Date: Unknown                                                                                                   │\n",
       "│                                                                                                                 │\n",
       "│ Eby’s first throne speech says government’s priorities remain unchanged.                                        │\n",
       "│                                                                                                                 │\n",
       "╰─────────────── \u001b]8;id=777259;https://thetyee.ca/News/2023/02/06/BC-Pledges-To-Spend-Surplus-Billions-Services/\u001b\\https://thetyee.ca/News/2023/02/06/BC-Pledges-To-Spend-Surplus-Billions-Services/\u001b]8;;\u001b\\ ───────────────╯\n"
      ]
     },
     "metadata": {},
     "output_type": "display_data"
    },
    {
     "data": {
      "text/html": [
       "<pre style=\"white-space:pre;overflow-x:auto;line-height:normal;font-family:Menlo,'DejaVu Sans Mono',consolas,'Courier New',monospace\">\n",
       "</pre>\n"
      ],
      "text/plain": [
       "\n"
      ]
     },
     "metadata": {},
     "output_type": "display_data"
    },
    {
     "data": {
      "text/html": [
       "<pre style=\"white-space:pre;overflow-x:auto;line-height:normal;font-family:Menlo,'DejaVu Sans Mono',consolas,'Courier New',monospace\">╭─────────────────────────────────────────────────── <span style=\"font-weight: bold\">The Tyee</span> ────────────────────────────────────────────────────╮\n",
       "│ Title: <span style=\"font-weight: bold\">CONTEST: Win Tickets to Local Theatre for Black History Month (in Presents)</span>                              │\n",
       "│ Date: Unknown                                                                                                   │\n",
       "│                                                                                                                 │\n",
       "│ One lucky Tyee reader will get two tickets to ‘Broken Chord’ this February.                                     │\n",
       "│                                                                                                                 │\n",
       "╰───────────────────── <a href=\"https://thetyee.ca/Presents/2023/02/06/Contest-Broken-Chord-Tickets/\" target=\"_blank\">https://thetyee.ca/Presents/2023/02/06/Contest-Broken-Chord-Tickets/</a> ──────────────────────╯\n",
       "</pre>\n"
      ],
      "text/plain": [
       "╭─────────────────────────────────────────────────── \u001b[1mThe Tyee\u001b[0m ────────────────────────────────────────────────────╮\n",
       "│ Title: \u001b[1mCONTEST: Win Tickets to Local Theatre for Black History Month (in Presents)\u001b[0m                              │\n",
       "│ Date: Unknown                                                                                                   │\n",
       "│                                                                                                                 │\n",
       "│ One lucky Tyee reader will get two tickets to ‘Broken Chord’ this February.                                     │\n",
       "│                                                                                                                 │\n",
       "╰───────────────────── \u001b]8;id=557021;https://thetyee.ca/Presents/2023/02/06/Contest-Broken-Chord-Tickets/\u001b\\https://thetyee.ca/Presents/2023/02/06/Contest-Broken-Chord-Tickets/\u001b]8;;\u001b\\ ──────────────────────╯\n"
      ]
     },
     "metadata": {},
     "output_type": "display_data"
    },
    {
     "data": {
      "text/html": [
       "<pre style=\"white-space:pre;overflow-x:auto;line-height:normal;font-family:Menlo,'DejaVu Sans Mono',consolas,'Courier New',monospace\">\n",
       "</pre>\n"
      ],
      "text/plain": [
       "\n"
      ]
     },
     "metadata": {},
     "output_type": "display_data"
    },
    {
     "data": {
      "text/html": [
       "<pre style=\"white-space:pre;overflow-x:auto;line-height:normal;font-family:Menlo,'DejaVu Sans Mono',consolas,'Courier New',monospace\">╭─────────────────────────────────────────────────── <span style=\"font-weight: bold\">The Tyee</span> ────────────────────────────────────────────────────╮\n",
       "│ Title: <span style=\"font-weight: bold\">Nicole Chan Deserved Safety Within Her VPD Workplace (in Opinion)</span>                                        │\n",
       "│ Date: Unknown                                                                                                   │\n",
       "│                                                                                                                 │\n",
       "│ Her tragic death tells us we must do more for survivors of institutional sexual abuse.                          │\n",
       "│                                                                                                                 │\n",
       "╰─────────────────── <a href=\"https://thetyee.ca/Opinion/2023/02/06/Nicole-Chan-Deserved-Safety-At-VPD/\" target=\"_blank\">https://thetyee.ca/Opinion/2023/02/06/Nicole-Chan-Deserved-Safety-At-VPD/</a> ───────────────────╯\n",
       "</pre>\n"
      ],
      "text/plain": [
       "╭─────────────────────────────────────────────────── \u001b[1mThe Tyee\u001b[0m ────────────────────────────────────────────────────╮\n",
       "│ Title: \u001b[1mNicole Chan Deserved Safety Within Her VPD Workplace (in Opinion)\u001b[0m                                        │\n",
       "│ Date: Unknown                                                                                                   │\n",
       "│                                                                                                                 │\n",
       "│ Her tragic death tells us we must do more for survivors of institutional sexual abuse.                          │\n",
       "│                                                                                                                 │\n",
       "╰─────────────────── \u001b]8;id=459322;https://thetyee.ca/Opinion/2023/02/06/Nicole-Chan-Deserved-Safety-At-VPD/\u001b\\https://thetyee.ca/Opinion/2023/02/06/Nicole-Chan-Deserved-Safety-At-VPD/\u001b]8;;\u001b\\ ───────────────────╯\n"
      ]
     },
     "metadata": {},
     "output_type": "display_data"
    },
    {
     "data": {
      "text/html": [
       "<pre style=\"white-space:pre;overflow-x:auto;line-height:normal;font-family:Menlo,'DejaVu Sans Mono',consolas,'Courier New',monospace\">\n",
       "</pre>\n"
      ],
      "text/plain": [
       "\n"
      ]
     },
     "metadata": {},
     "output_type": "display_data"
    },
    {
     "data": {
      "text/html": [
       "<pre style=\"white-space:pre;overflow-x:auto;line-height:normal;font-family:Menlo,'DejaVu Sans Mono',consolas,'Courier New',monospace\">╭─────────────────────────────────────────────────── <span style=\"font-weight: bold\">The Tyee</span> ────────────────────────────────────────────────────╮\n",
       "│ Title: <span style=\"font-weight: bold\">Please Advise! Will the Smith-Trudeau Cage Match Be Worth Watching? (in Opinion)</span>                         │\n",
       "│ Date: Unknown                                                                                                   │\n",
       "│                                                                                                                 │\n",
       "│ Perhaps, says Dr. Steve. Anytime the PM and premiers meet on health care there are lots of potential fireworks. │\n",
       "│                                                                                                                 │\n",
       "╰──────────────────────── <a href=\"https://thetyee.ca/Opinion/2023/02/06/Smith-Trudeau-Cage-Match/\" target=\"_blank\">https://thetyee.ca/Opinion/2023/02/06/Smith-Trudeau-Cage-Match/</a> ────────────────────────╯\n",
       "</pre>\n"
      ],
      "text/plain": [
       "╭─────────────────────────────────────────────────── \u001b[1mThe Tyee\u001b[0m ────────────────────────────────────────────────────╮\n",
       "│ Title: \u001b[1mPlease Advise! Will the Smith-Trudeau Cage Match Be Worth Watching? (in Opinion)\u001b[0m                         │\n",
       "│ Date: Unknown                                                                                                   │\n",
       "│                                                                                                                 │\n",
       "│ Perhaps, says Dr. Steve. Anytime the PM and premiers meet on health care there are lots of potential fireworks. │\n",
       "│                                                                                                                 │\n",
       "╰──────────────────────── \u001b]8;id=703269;https://thetyee.ca/Opinion/2023/02/06/Smith-Trudeau-Cage-Match/\u001b\\https://thetyee.ca/Opinion/2023/02/06/Smith-Trudeau-Cage-Match/\u001b]8;;\u001b\\ ────────────────────────╯\n"
      ]
     },
     "metadata": {},
     "output_type": "display_data"
    },
    {
     "data": {
      "text/html": [
       "<pre style=\"white-space:pre;overflow-x:auto;line-height:normal;font-family:Menlo,'DejaVu Sans Mono',consolas,'Courier New',monospace\">\n",
       "</pre>\n"
      ],
      "text/plain": [
       "\n"
      ]
     },
     "metadata": {},
     "output_type": "display_data"
    },
    {
     "data": {
      "text/html": [
       "<pre style=\"white-space:pre;overflow-x:auto;line-height:normal;font-family:Menlo,'DejaVu Sans Mono',consolas,'Courier New',monospace\">╭─────────────────────────────────────────────────── <span style=\"font-weight: bold\">The Tyee</span> ────────────────────────────────────────────────────╮\n",
       "│ Title: <span style=\"font-weight: bold\">Why a Top BC Heart Surgeon Quit for Politics (in News)</span>                                                   │\n",
       "│ Date: Unknown                                                                                                   │\n",
       "│                                                                                                                 │\n",
       "│ Dr. Sanjiv Gandhi saved children’s lives in the operating room. Now he is a deputy leader of the BC Greens.     │\n",
       "│                                                                                                                 │\n",
       "╰──────────────────── <a href=\"https://thetyee.ca/News/2023/02/06/BC-Heart-Surgeon-Quit-For-Politics/\" target=\"_blank\">https://thetyee.ca/News/2023/02/06/BC-Heart-Surgeon-Quit-For-Politics/</a> ─────────────────────╯\n",
       "</pre>\n"
      ],
      "text/plain": [
       "╭─────────────────────────────────────────────────── \u001b[1mThe Tyee\u001b[0m ────────────────────────────────────────────────────╮\n",
       "│ Title: \u001b[1mWhy a Top BC Heart Surgeon Quit for Politics (in News)\u001b[0m                                                   │\n",
       "│ Date: Unknown                                                                                                   │\n",
       "│                                                                                                                 │\n",
       "│ Dr. Sanjiv Gandhi saved children’s lives in the operating room. Now he is a deputy leader of the BC Greens.     │\n",
       "│                                                                                                                 │\n",
       "╰──────────────────── \u001b]8;id=296264;https://thetyee.ca/News/2023/02/06/BC-Heart-Surgeon-Quit-For-Politics/\u001b\\https://thetyee.ca/News/2023/02/06/BC-Heart-Surgeon-Quit-For-Politics/\u001b]8;;\u001b\\ ─────────────────────╯\n"
      ]
     },
     "metadata": {},
     "output_type": "display_data"
    },
    {
     "data": {
      "text/html": [
       "<pre style=\"white-space:pre;overflow-x:auto;line-height:normal;font-family:Menlo,'DejaVu Sans Mono',consolas,'Courier New',monospace\">\n",
       "</pre>\n"
      ],
      "text/plain": [
       "\n"
      ]
     },
     "metadata": {},
     "output_type": "display_data"
    }
   ],
   "source": [
    "r.show(limit=5, read=None, mark_as_read=False)"
   ]
  },
  {
   "cell_type": "markdown",
   "metadata": {},
   "source": [
    "## Search Entries"
   ]
  },
  {
   "cell_type": "code",
   "execution_count": null,
   "metadata": {},
   "outputs": [
    {
     "data": {
      "text/html": [
       "<pre style=\"white-space:pre;overflow-x:auto;line-height:normal;font-family:Menlo,'DejaVu Sans Mono',consolas,'Courier New',monospace\">╭────────────────────────────────────────── <span style=\"font-weight: bold\">Toronto Star | Top Stories</span> ───────────────────────────────────────────╮\n",
       "│ ❗Title: <span style=\"font-weight: bold\">Bank of Canada raises key interest rate for eighth time, to 4.5 per cent. What you need to know</span>        │\n",
       "│ Date: 2023-01-25                                                                                                │\n",
       "│                                                                                                                 │\n",
       "│ Central bank signals its rate-hiking campaign could finally be over, while it “assesses the impact of the       │\n",
       "│ cumulative interest rate increases.”                                                                            │\n",
       "│                                                                                                                 │\n",
       "╰─ <a href=\"https://www.thestar.com/business/2023/01/25/bank-of-canada-expected-to-hike-interest-rates-for-the-eighth-straight-time.html\" target=\"_blank\">https://www.thestar.com/business/2023/01/25/bank-of-canada-expected-to-hike-interest-rates-for-the-eighth-stra</a>─╯\n",
       "</pre>\n"
      ],
      "text/plain": [
       "╭────────────────────────────────────────── \u001b[1mToronto Star | Top Stories\u001b[0m ───────────────────────────────────────────╮\n",
       "│ ❗Title: \u001b[1mBank of Canada raises key interest rate for eighth time, to 4.5 per cent. What you need to know\u001b[0m        │\n",
       "│ Date: 2023-01-25                                                                                                │\n",
       "│                                                                                                                 │\n",
       "│ Central bank signals its rate-hiking campaign could finally be over, while it “assesses the impact of the       │\n",
       "│ cumulative interest rate increases.”                                                                            │\n",
       "│                                                                                                                 │\n",
       "╰─ \u001b]8;id=793898;https://www.thestar.com/business/2023/01/25/bank-of-canada-expected-to-hike-interest-rates-for-the-eighth-straight-time.html\u001b\\https://www.thestar.com/business/2023/01/25/bank-of-canada-expected-to-hike-interest-rates-for-the-eighth-stra\u001b]8;;\u001b\\─╯\n"
      ]
     },
     "metadata": {},
     "output_type": "display_data"
    },
    {
     "data": {
      "text/html": [
       "<pre style=\"white-space:pre;overflow-x:auto;line-height:normal;font-family:Menlo,'DejaVu Sans Mono',consolas,'Courier New',monospace\">\n",
       "</pre>\n"
      ],
      "text/plain": [
       "\n"
      ]
     },
     "metadata": {},
     "output_type": "display_data"
    },
    {
     "data": {
      "text/html": [
       "<pre style=\"white-space:pre;overflow-x:auto;line-height:normal;font-family:Menlo,'DejaVu Sans Mono',consolas,'Courier New',monospace\">╭────────────────────────────────────────────── <span style=\"font-weight: bold\">CBC | Business News</span> ──────────────────────────────────────────────╮\n",
       "│ ❗Title: <span style=\"font-weight: bold\">Bank of Canada raises interest rate again — but hits 'pause' on any more for now</span>                       │\n",
       "│ Date: 2023-01-25                                                                                                │\n",
       "│                                                                                                                 │\n",
       "│ The Bank of Canada has raised its benchmark interest rate again, to 4.5 per cent, but hinted that it may now be │\n",
       "│ done with its aggressive campaign of rate hikes.                                                                │\n",
       "│                                                                                                                 │\n",
       "╰──────────── <a href=\"https://www.cbc.ca/news/business/bank-of-canada-january-rate-decision-1.6725283?cmp=rss\" target=\"_blank\">https://www.cbc.ca/news/business/bank-of-canada-january-rate-decision-1.6725283?cmp=rss</a> ────────────╯\n",
       "</pre>\n"
      ],
      "text/plain": [
       "╭────────────────────────────────────────────── \u001b[1mCBC | Business News\u001b[0m ──────────────────────────────────────────────╮\n",
       "│ ❗Title: \u001b[1mBank of Canada raises interest rate again — but hits 'pause' on any more for now\u001b[0m                       │\n",
       "│ Date: 2023-01-25                                                                                                │\n",
       "│                                                                                                                 │\n",
       "│ The Bank of Canada has raised its benchmark interest rate again, to 4.5 per cent, but hinted that it may now be │\n",
       "│ done with its aggressive campaign of rate hikes.                                                                │\n",
       "│                                                                                                                 │\n",
       "╰──────────── \u001b]8;id=204253;https://www.cbc.ca/news/business/bank-of-canada-january-rate-decision-1.6725283?cmp=rss\u001b\\https://www.cbc.ca/news/business/bank-of-canada-january-rate-decision-1.6725283?cmp=rss\u001b]8;;\u001b\\ ────────────╯\n"
      ]
     },
     "metadata": {},
     "output_type": "display_data"
    },
    {
     "data": {
      "text/html": [
       "<pre style=\"white-space:pre;overflow-x:auto;line-height:normal;font-family:Menlo,'DejaVu Sans Mono',consolas,'Courier New',monospace\">\n",
       "</pre>\n"
      ],
      "text/plain": [
       "\n"
      ]
     },
     "metadata": {},
     "output_type": "display_data"
    },
    {
     "data": {
      "text/html": [
       "<pre style=\"white-space:pre;overflow-x:auto;line-height:normal;font-family:Menlo,'DejaVu Sans Mono',consolas,'Courier New',monospace\">╭─────────────────────────────────────────────── <span style=\"font-weight: bold\">CBC | World News</span> ────────────────────────────────────────────────╮\n",
       "│ Title: <span style=\"font-weight: bold\">U.S. inflation rate was 6.5% in December</span>                                                                 │\n",
       "│ Date: 2023-01-12                                                                                                │\n",
       "│                                                                                                                 │\n",
       "│ The inflation rate in the U.S. decelerated to 6.5 per cent in December, mostly due to much cheaper gasoline.    │\n",
       "│                                                                                                                 │\n",
       "╰─────────────────── <a href=\"https://www.cbc.ca/news/business/us-inflation-december-1.6711469?cmp=rss\" target=\"_blank\">https://www.cbc.ca/news/business/us-inflation-december-1.6711469?cmp=rss</a> ────────────────────╯\n",
       "</pre>\n"
      ],
      "text/plain": [
       "╭─────────────────────────────────────────────── \u001b[1mCBC | World News\u001b[0m ────────────────────────────────────────────────╮\n",
       "│ Title: \u001b[1mU.S. inflation rate was 6.5% in December\u001b[0m                                                                 │\n",
       "│ Date: 2023-01-12                                                                                                │\n",
       "│                                                                                                                 │\n",
       "│ The inflation rate in the U.S. decelerated to 6.5 per cent in December, mostly due to much cheaper gasoline.    │\n",
       "│                                                                                                                 │\n",
       "╰─────────────────── \u001b]8;id=565848;https://www.cbc.ca/news/business/us-inflation-december-1.6711469?cmp=rss\u001b\\https://www.cbc.ca/news/business/us-inflation-december-1.6711469?cmp=rss\u001b]8;;\u001b\\ ────────────────────╯\n"
      ]
     },
     "metadata": {},
     "output_type": "display_data"
    },
    {
     "data": {
      "text/html": [
       "<pre style=\"white-space:pre;overflow-x:auto;line-height:normal;font-family:Menlo,'DejaVu Sans Mono',consolas,'Courier New',monospace\">\n",
       "</pre>\n"
      ],
      "text/plain": [
       "\n"
      ]
     },
     "metadata": {},
     "output_type": "display_data"
    },
    {
     "data": {
      "text/html": [
       "<pre style=\"white-space:pre;overflow-x:auto;line-height:normal;font-family:Menlo,'DejaVu Sans Mono',consolas,'Courier New',monospace\">╭─────────────────────────────────────────── <span style=\"font-weight: bold\">Toronto Star | Editorials</span> ───────────────────────────────────────────╮\n",
       "│ ❗Title: <span style=\"font-weight: bold\">With inflation easing will interest rates hikes pause?</span>                                                 │\n",
       "│ Date: 2023-01-20                                                                                                │\n",
       "│                                                                                                                 │\n",
       "│ With some welcome downward movement on inflation, let’s hope then that we’re seeing an end to the Bank of       │\n",
       "│ Canada’s string of rate hikes.                                                                                  │\n",
       "│                                                                                                                 │\n",
       "╰─ <a href=\"https://www.thestar.com/opinion/editorials/2023/01/20/with-inflation-easing-will-interest-rates-hikes-pause.html\" target=\"_blank\">https://www.thestar.com/opinion/editorials/2023/01/20/with-inflation-easing-will-interest-rates-hikes-pause.ht</a>─╯\n",
       "</pre>\n"
      ],
      "text/plain": [
       "╭─────────────────────────────────────────── \u001b[1mToronto Star | Editorials\u001b[0m ───────────────────────────────────────────╮\n",
       "│ ❗Title: \u001b[1mWith inflation easing will interest rates hikes pause?\u001b[0m                                                 │\n",
       "│ Date: 2023-01-20                                                                                                │\n",
       "│                                                                                                                 │\n",
       "│ With some welcome downward movement on inflation, let’s hope then that we’re seeing an end to the Bank of       │\n",
       "│ Canada’s string of rate hikes.                                                                                  │\n",
       "│                                                                                                                 │\n",
       "╰─ \u001b]8;id=679913;https://www.thestar.com/opinion/editorials/2023/01/20/with-inflation-easing-will-interest-rates-hikes-pause.html\u001b\\https://www.thestar.com/opinion/editorials/2023/01/20/with-inflation-easing-will-interest-rates-hikes-pause.ht\u001b]8;;\u001b\\─╯\n"
      ]
     },
     "metadata": {},
     "output_type": "display_data"
    },
    {
     "data": {
      "text/html": [
       "<pre style=\"white-space:pre;overflow-x:auto;line-height:normal;font-family:Menlo,'DejaVu Sans Mono',consolas,'Courier New',monospace\">\n",
       "</pre>\n"
      ],
      "text/plain": [
       "\n"
      ]
     },
     "metadata": {},
     "output_type": "display_data"
    },
    {
     "data": {
      "text/html": [
       "<pre style=\"white-space:pre;overflow-x:auto;line-height:normal;font-family:Menlo,'DejaVu Sans Mono',consolas,'Courier New',monospace\">╭────────────────────────────────────────────── <span style=\"font-weight: bold\">CBC | Business News</span> ──────────────────────────────────────────────╮\n",
       "│ Title: <span style=\"font-weight: bold\">Inflation rate slows to 6.3% — but groceries are still going up at nearly twice that pace</span>                │\n",
       "│ Date: 2023-01-17                                                                                                │\n",
       "│                                                                                                                 │\n",
       "│ Canada's annual inflation rate cooled to 6.3 per cent in December, its lowest level since February.             │\n",
       "│                                                                                                                 │\n",
       "╰───────────────── <a href=\"https://www.cbc.ca/news/business/canada-inflation-december-1.6716315?cmp=rss\" target=\"_blank\">https://www.cbc.ca/news/business/canada-inflation-december-1.6716315?cmp=rss</a> ──────────────────╯\n",
       "</pre>\n"
      ],
      "text/plain": [
       "╭────────────────────────────────────────────── \u001b[1mCBC | Business News\u001b[0m ──────────────────────────────────────────────╮\n",
       "│ Title: \u001b[1mInflation rate slows to 6.3% — but groceries are still going up at nearly twice that pace\u001b[0m                │\n",
       "│ Date: 2023-01-17                                                                                                │\n",
       "│                                                                                                                 │\n",
       "│ Canada's annual inflation rate cooled to 6.3 per cent in December, its lowest level since February.             │\n",
       "│                                                                                                                 │\n",
       "╰───────────────── \u001b]8;id=796431;https://www.cbc.ca/news/business/canada-inflation-december-1.6716315?cmp=rss\u001b\\https://www.cbc.ca/news/business/canada-inflation-december-1.6716315?cmp=rss\u001b]8;;\u001b\\ ──────────────────╯\n"
      ]
     },
     "metadata": {},
     "output_type": "display_data"
    },
    {
     "data": {
      "text/html": [
       "<pre style=\"white-space:pre;overflow-x:auto;line-height:normal;font-family:Menlo,'DejaVu Sans Mono',consolas,'Courier New',monospace\">\n",
       "</pre>\n"
      ],
      "text/plain": [
       "\n"
      ]
     },
     "metadata": {},
     "output_type": "display_data"
    },
    {
     "data": {
      "text/html": [
       "<pre style=\"white-space:pre;overflow-x:auto;line-height:normal;font-family:Menlo,'DejaVu Sans Mono',consolas,'Courier New',monospace\">╭────────────────────────────────────────── <span style=\"font-weight: bold\">Toronto Star | Top Stories</span> ───────────────────────────────────────────╮\n",
       "│ Title: <span style=\"font-weight: bold\">Vacancy rate for downtown Toronto offices climbs to 13.6 per cent</span>                                        │\n",
       "│ Date: 2023-01-12                                                                                                │\n",
       "│                                                                                                                 │\n",
       "│ This week, online retail giant Shopify put its massive new office space at The Well onto the sublet market.     │\n",
       "│                                                                                                                 │\n",
       "╰─ <a href=\"https://www.thestar.com/business/2023/01/12/vacancy-rate-for-downtown-toronto-offices-climbs-to-136-per-cent.html\" target=\"_blank\">https://www.thestar.com/business/2023/01/12/vacancy-rate-for-downtown-toronto-offices-climbs-to-136-per-cent.h</a>─╯\n",
       "</pre>\n"
      ],
      "text/plain": [
       "╭────────────────────────────────────────── \u001b[1mToronto Star | Top Stories\u001b[0m ───────────────────────────────────────────╮\n",
       "│ Title: \u001b[1mVacancy rate for downtown Toronto offices climbs to 13.6 per cent\u001b[0m                                        │\n",
       "│ Date: 2023-01-12                                                                                                │\n",
       "│                                                                                                                 │\n",
       "│ This week, online retail giant Shopify put its massive new office space at The Well onto the sublet market.     │\n",
       "│                                                                                                                 │\n",
       "╰─ \u001b]8;id=330399;https://www.thestar.com/business/2023/01/12/vacancy-rate-for-downtown-toronto-offices-climbs-to-136-per-cent.html\u001b\\https://www.thestar.com/business/2023/01/12/vacancy-rate-for-downtown-toronto-offices-climbs-to-136-per-cent.h\u001b]8;;\u001b\\─╯\n"
      ]
     },
     "metadata": {},
     "output_type": "display_data"
    },
    {
     "data": {
      "text/html": [
       "<pre style=\"white-space:pre;overflow-x:auto;line-height:normal;font-family:Menlo,'DejaVu Sans Mono',consolas,'Courier New',monospace\">\n",
       "</pre>\n"
      ],
      "text/plain": [
       "\n"
      ]
     },
     "metadata": {},
     "output_type": "display_data"
    },
    {
     "data": {
      "text/html": [
       "<pre style=\"white-space:pre;overflow-x:auto;line-height:normal;font-family:Menlo,'DejaVu Sans Mono',consolas,'Courier New',monospace\">╭────────────────────────────────────────────── <span style=\"font-weight: bold\">CBC | Business News</span> ──────────────────────────────────────────────╮\n",
       "│ Title: <span style=\"font-weight: bold\">More U.S. rate hikes in store as Federal Reserve warns inflation could 'spring back'</span>                     │\n",
       "│ Date: 2023-02-02                                                                                                │\n",
       "│                                                                                                                 │\n",
       "│ It's premature to declare victory over inflation, says the U.S. central bank's Jerome Powell, in a move that    │\n",
       "│ could force North American interest rates even higher yet.                                                      │\n",
       "│                                                                                                                 │\n",
       "╰─────────────── <a href=\"https://www.cbc.ca/news/business/fed-outlook-column-don-pittis-1.6733151?cmp=rss\" target=\"_blank\">https://www.cbc.ca/news/business/fed-outlook-column-don-pittis-1.6733151?cmp=rss</a> ────────────────╯\n",
       "</pre>\n"
      ],
      "text/plain": [
       "╭────────────────────────────────────────────── \u001b[1mCBC | Business News\u001b[0m ──────────────────────────────────────────────╮\n",
       "│ Title: \u001b[1mMore U.S. rate hikes in store as Federal Reserve warns inflation could 'spring back'\u001b[0m                     │\n",
       "│ Date: 2023-02-02                                                                                                │\n",
       "│                                                                                                                 │\n",
       "│ It's premature to declare victory over inflation, says the U.S. central bank's Jerome Powell, in a move that    │\n",
       "│ could force North American interest rates even higher yet.                                                      │\n",
       "│                                                                                                                 │\n",
       "╰─────────────── \u001b]8;id=658627;https://www.cbc.ca/news/business/fed-outlook-column-don-pittis-1.6733151?cmp=rss\u001b\\https://www.cbc.ca/news/business/fed-outlook-column-don-pittis-1.6733151?cmp=rss\u001b]8;;\u001b\\ ────────────────╯\n"
      ]
     },
     "metadata": {},
     "output_type": "display_data"
    },
    {
     "data": {
      "text/html": [
       "<pre style=\"white-space:pre;overflow-x:auto;line-height:normal;font-family:Menlo,'DejaVu Sans Mono',consolas,'Courier New',monospace\">\n",
       "</pre>\n"
      ],
      "text/plain": [
       "\n"
      ]
     },
     "metadata": {},
     "output_type": "display_data"
    },
    {
     "data": {
      "text/html": [
       "<pre style=\"white-space:pre;overflow-x:auto;line-height:normal;font-family:Menlo,'DejaVu Sans Mono',consolas,'Courier New',monospace\">╭────────────────────────────────────────────── <span style=\"font-weight: bold\">CBC | Business News</span> ──────────────────────────────────────────────╮\n",
       "│ Title: <span style=\"font-weight: bold\">U.S. added 517,000 jobs last month, pushing unemployment rate to lowest since 1969</span>                       │\n",
       "│ Date: 2023-02-03                                                                                                │\n",
       "│                                                                                                                 │\n",
       "│ The U.S. economy added more than half a million jobs in January, an astonishing number that pushed the jobless  │\n",
       "│ rate down to its lowest level in half a century.                                                                │\n",
       "│                                                                                                                 │\n",
       "╰────────────────────── <a href=\"https://www.cbc.ca/news/business/us-jobs-january-1.6735707?cmp=rss\" target=\"_blank\">https://www.cbc.ca/news/business/us-jobs-january-1.6735707?cmp=rss</a> ───────────────────────╯\n",
       "</pre>\n"
      ],
      "text/plain": [
       "╭────────────────────────────────────────────── \u001b[1mCBC | Business News\u001b[0m ──────────────────────────────────────────────╮\n",
       "│ Title: \u001b[1mU.S. added 517,000 jobs last month, pushing unemployment rate to lowest since 1969\u001b[0m                       │\n",
       "│ Date: 2023-02-03                                                                                                │\n",
       "│                                                                                                                 │\n",
       "│ The U.S. economy added more than half a million jobs in January, an astonishing number that pushed the jobless  │\n",
       "│ rate down to its lowest level in half a century.                                                                │\n",
       "│                                                                                                                 │\n",
       "╰────────────────────── \u001b]8;id=119676;https://www.cbc.ca/news/business/us-jobs-january-1.6735707?cmp=rss\u001b\\https://www.cbc.ca/news/business/us-jobs-january-1.6735707?cmp=rss\u001b]8;;\u001b\\ ───────────────────────╯\n"
      ]
     },
     "metadata": {},
     "output_type": "display_data"
    },
    {
     "data": {
      "text/html": [
       "<pre style=\"white-space:pre;overflow-x:auto;line-height:normal;font-family:Menlo,'DejaVu Sans Mono',consolas,'Courier New',monospace\">\n",
       "</pre>\n"
      ],
      "text/plain": [
       "\n"
      ]
     },
     "metadata": {},
     "output_type": "display_data"
    },
    {
     "data": {
      "text/html": [
       "<pre style=\"white-space:pre;overflow-x:auto;line-height:normal;font-family:Menlo,'DejaVu Sans Mono',consolas,'Courier New',monospace\">╭────────────────────────────────────────── <span style=\"font-weight: bold\">Toronto Star | Top Stories</span> ───────────────────────────────────────────╮\n",
       "│ ❗Title: <span style=\"font-weight: bold\">Hundreds of thousands of jobs at risk if Bank of Canada raises key rate for eighth time Wednesday, </span>    │\n",
       "│ <span style=\"font-weight: bold\">economists warn</span>                                                                                                 │\n",
       "│ Date: 2023-01-24                                                                                                │\n",
       "│                                                                                                                 │\n",
       "│ The economy still hasn’t felt the full impact of the previous seven hikes, and is already struggling, according │\n",
       "│ to experts.                                                                                                     │\n",
       "│                                                                                                                 │\n",
       "╰─ <a href=\"https://www.thestar.com/business/2023/01/24/hundreds-of-thousands-of-jobs-at-risk-if-bank-of-canada-raises-key-rate-for-eighth-time-wednesday-economists-warn.html\" target=\"_blank\">https://www.thestar.com/business/2023/01/24/hundreds-of-thousands-of-jobs-at-risk-if-bank-of-canada-raises-key</a>─╯\n",
       "</pre>\n"
      ],
      "text/plain": [
       "╭────────────────────────────────────────── \u001b[1mToronto Star | Top Stories\u001b[0m ───────────────────────────────────────────╮\n",
       "│ ❗Title: \u001b[1mHundreds of thousands of jobs at risk if Bank of Canada raises key rate for eighth time Wednesday, \u001b[0m    │\n",
       "│ \u001b[1meconomists warn\u001b[0m                                                                                                 │\n",
       "│ Date: 2023-01-24                                                                                                │\n",
       "│                                                                                                                 │\n",
       "│ The economy still hasn’t felt the full impact of the previous seven hikes, and is already struggling, according │\n",
       "│ to experts.                                                                                                     │\n",
       "│                                                                                                                 │\n",
       "╰─ \u001b]8;id=938627;https://www.thestar.com/business/2023/01/24/hundreds-of-thousands-of-jobs-at-risk-if-bank-of-canada-raises-key-rate-for-eighth-time-wednesday-economists-warn.html\u001b\\https://www.thestar.com/business/2023/01/24/hundreds-of-thousands-of-jobs-at-risk-if-bank-of-canada-raises-key\u001b]8;;\u001b\\─╯\n"
      ]
     },
     "metadata": {},
     "output_type": "display_data"
    },
    {
     "data": {
      "text/html": [
       "<pre style=\"white-space:pre;overflow-x:auto;line-height:normal;font-family:Menlo,'DejaVu Sans Mono',consolas,'Courier New',monospace\">\n",
       "</pre>\n"
      ],
      "text/plain": [
       "\n"
      ]
     },
     "metadata": {},
     "output_type": "display_data"
    },
    {
     "data": {
      "text/html": [
       "<pre style=\"white-space:pre;overflow-x:auto;line-height:normal;font-family:Menlo,'DejaVu Sans Mono',consolas,'Courier New',monospace\">╭────────────────────────────────────────── <span style=\"font-weight: bold\">Toronto Star | Top Stories</span> ───────────────────────────────────────────╮\n",
       "│ Title: <span style=\"font-weight: bold\">Justin Trudeau won’t discuss his approval ratings — but some Liberals are wondering if his message needs</span> │\n",
       "│ <span style=\"font-weight: bold\">to change</span>                                                                                                       │\n",
       "│ Date: 2023-01-25                                                                                                │\n",
       "│                                                                                                                 │\n",
       "│ The prime minister says demonstrators don’t represent most Canadians, nor do they represent a broader shift in  │\n",
       "│ public mood against him personally.                                                                             │\n",
       "│                                                                                                                 │\n",
       "╰─ <a href=\"https://www.thestar.com/politics/federal/2023/01/25/justin-trudeau-wont-discuss-his-approval-ratings-but-some-liberals-are-wondering-if-his-message-needs-to-change.html\" target=\"_blank\">https://www.thestar.com/politics/federal/2023/01/25/justin-trudeau-wont-discuss-his-approval-ratings-but-some-</a>─╯\n",
       "</pre>\n"
      ],
      "text/plain": [
       "╭────────────────────────────────────────── \u001b[1mToronto Star | Top Stories\u001b[0m ───────────────────────────────────────────╮\n",
       "│ Title: \u001b[1mJustin Trudeau won’t discuss his approval ratings — but some Liberals are wondering if his message needs\u001b[0m │\n",
       "│ \u001b[1mto change\u001b[0m                                                                                                       │\n",
       "│ Date: 2023-01-25                                                                                                │\n",
       "│                                                                                                                 │\n",
       "│ The prime minister says demonstrators don’t represent most Canadians, nor do they represent a broader shift in  │\n",
       "│ public mood against him personally.                                                                             │\n",
       "│                                                                                                                 │\n",
       "╰─ \u001b]8;id=844609;https://www.thestar.com/politics/federal/2023/01/25/justin-trudeau-wont-discuss-his-approval-ratings-but-some-liberals-are-wondering-if-his-message-needs-to-change.html\u001b\\https://www.thestar.com/politics/federal/2023/01/25/justin-trudeau-wont-discuss-his-approval-ratings-but-some-\u001b]8;;\u001b\\─╯\n"
      ]
     },
     "metadata": {},
     "output_type": "display_data"
    },
    {
     "data": {
      "text/html": [
       "<pre style=\"white-space:pre;overflow-x:auto;line-height:normal;font-family:Menlo,'DejaVu Sans Mono',consolas,'Courier New',monospace\">\n",
       "</pre>\n"
      ],
      "text/plain": [
       "\n"
      ]
     },
     "metadata": {},
     "output_type": "display_data"
    }
   ],
   "source": [
    "r.search(\"rate\", mark_as_read=False)"
   ]
  },
  {
   "cell_type": "markdown",
   "metadata": {},
   "source": [
    "## Tag Entry"
   ]
  },
  {
   "cell_type": "code",
   "execution_count": null,
   "metadata": {},
   "outputs": [],
   "source": [
    "test = list(r._reader.get_entries())"
   ]
  },
  {
   "cell_type": "code",
   "execution_count": null,
   "metadata": {},
   "outputs": [],
   "source": [
    "r._reader.set_tag(test[0], \"foobar\")"
   ]
  },
  {
   "cell_type": "code",
   "execution_count": null,
   "metadata": {},
   "outputs": [
    {
     "data": {
      "text/plain": [
       "[('foobar', None)]"
      ]
     },
     "execution_count": null,
     "metadata": {},
     "output_type": "execute_result"
    }
   ],
   "source": [
    "list(r._reader.get_tags(test[0]))"
   ]
  },
  {
   "cell_type": "code",
   "execution_count": null,
   "metadata": {},
   "outputs": [
    {
     "data": {
      "text/plain": [
       "['foobar']"
      ]
     },
     "execution_count": null,
     "metadata": {},
     "output_type": "execute_result"
    }
   ],
   "source": [
    "# We added a method to just return the tag key:\n",
    "r._get_tags(test[0])"
   ]
  },
  {
   "cell_type": "markdown",
   "metadata": {},
   "source": [
    "## Remove tag from entry"
   ]
  },
  {
   "cell_type": "code",
   "execution_count": null,
   "metadata": {},
   "outputs": [],
   "source": [
    "r._reader.delete_tag(test[0], \"foobar\")"
   ]
  },
  {
   "cell_type": "code",
   "execution_count": null,
   "metadata": {},
   "outputs": [
    {
     "data": {
      "text/plain": [
       "[]"
      ]
     },
     "execution_count": null,
     "metadata": {},
     "output_type": "execute_result"
    }
   ],
   "source": [
    "list(r._get_tags(test[0]))"
   ]
  },
  {
   "cell_type": "markdown",
   "metadata": {},
   "source": [
    "## Mark as Important/Unimportant"
   ]
  },
  {
   "cell_type": "code",
   "execution_count": null,
   "metadata": {},
   "outputs": [],
   "source": [
    "r._reader.mark_entry_as_important(test[0])\n",
    "r._reader.mark_entry_as_unimportant(test[0])"
   ]
  },
  {
   "cell_type": "markdown",
   "metadata": {},
   "source": [
    "## Mark as Read / Unread"
   ]
  },
  {
   "cell_type": "code",
   "execution_count": null,
   "metadata": {},
   "outputs": [],
   "source": [
    "r._reader.mark_entry_as_read(test[0])\n",
    "r._reader.mark_entry_as_unread(test[0])"
   ]
  },
  {
   "cell_type": "markdown",
   "metadata": {},
   "source": [
    "## Automatically mark entries as read\n",
    "\n",
    "When updating feeds, entries with titles matching these strings will automatically be marked as read"
   ]
  },
  {
   "cell_type": "code",
   "execution_count": null,
   "metadata": {},
   "outputs": [],
   "source": [
    "for i in [\n",
    "    \"Musk\",\n",
    "    \"Apple\",\n",
    "    \"Bezos\",\n",
    "    \"Google\",\n",
    "    \"Samsung\",\n",
    "    \"iPhone\",\n",
    "    \"iPad\",\n",
    "    \"guardian.com/sport/\",\n",
    "    \"guardian.com/football/\",\n",
    "    \"thestar.com/sports\",\n",
    "]:\n",
    "    r.blacklist_add(i)"
   ]
  },
  {
   "cell_type": "code",
   "execution_count": null,
   "metadata": {},
   "outputs": [
    {
     "data": {
      "text/html": [
       "<pre style=\"white-space:pre;overflow-x:auto;line-height:normal;font-family:Menlo,'DejaVu Sans Mono',consolas,'Courier New',monospace\"><span style=\"font-weight: bold\">[</span>\n",
       "    <span style=\"color: #008000; text-decoration-color: #008000\">'Musk'</span>,\n",
       "    <span style=\"color: #008000; text-decoration-color: #008000\">'Apple'</span>,\n",
       "    <span style=\"color: #008000; text-decoration-color: #008000\">'Bezos'</span>,\n",
       "    <span style=\"color: #008000; text-decoration-color: #008000\">'Google'</span>,\n",
       "    <span style=\"color: #008000; text-decoration-color: #008000\">'Samsung'</span>,\n",
       "    <span style=\"color: #008000; text-decoration-color: #008000\">'iPhone'</span>,\n",
       "    <span style=\"color: #008000; text-decoration-color: #008000\">'iPad'</span>,\n",
       "    <span style=\"color: #008000; text-decoration-color: #008000\">'guardian.com/sport/'</span>,\n",
       "    <span style=\"color: #008000; text-decoration-color: #008000\">'guardian.com/football/'</span>,\n",
       "    <span style=\"color: #008000; text-decoration-color: #008000\">'thestar.com/sports'</span>\n",
       "<span style=\"font-weight: bold\">]</span>\n",
       "</pre>\n"
      ],
      "text/plain": [
       "\u001b[1m[\u001b[0m\n",
       "    \u001b[32m'Musk'\u001b[0m,\n",
       "    \u001b[32m'Apple'\u001b[0m,\n",
       "    \u001b[32m'Bezos'\u001b[0m,\n",
       "    \u001b[32m'Google'\u001b[0m,\n",
       "    \u001b[32m'Samsung'\u001b[0m,\n",
       "    \u001b[32m'iPhone'\u001b[0m,\n",
       "    \u001b[32m'iPad'\u001b[0m,\n",
       "    \u001b[32m'guardian.com/sport/'\u001b[0m,\n",
       "    \u001b[32m'guardian.com/football/'\u001b[0m,\n",
       "    \u001b[32m'thestar.com/sports'\u001b[0m\n",
       "\u001b[1m]\u001b[0m\n"
      ]
     },
     "metadata": {},
     "output_type": "display_data"
    }
   ],
   "source": [
    "r.blacklist_show()"
   ]
  },
  {
   "cell_type": "code",
   "execution_count": null,
   "metadata": {},
   "outputs": [],
   "source": [
    "# r.update()"
   ]
  },
  {
   "cell_type": "markdown",
   "metadata": {},
   "source": [
    "## Automatically mark entries as important"
   ]
  },
  {
   "cell_type": "code",
   "execution_count": null,
   "metadata": {},
   "outputs": [],
   "source": [
    "for i in [\"interest rate\", \"Bank of Canada\", \"housing market\"]:\n",
    "    r.whitelist_add(i)"
   ]
  },
  {
   "cell_type": "code",
   "execution_count": null,
   "metadata": {},
   "outputs": [
    {
     "data": {
      "text/html": [
       "<pre style=\"white-space:pre;overflow-x:auto;line-height:normal;font-family:Menlo,'DejaVu Sans Mono',consolas,'Courier New',monospace\"><span style=\"font-weight: bold\">[</span><span style=\"color: #008000; text-decoration-color: #008000\">'interest rate'</span>, <span style=\"color: #008000; text-decoration-color: #008000\">'Bank of Canada'</span>, <span style=\"color: #008000; text-decoration-color: #008000\">'housing market'</span><span style=\"font-weight: bold\">]</span>\n",
       "</pre>\n"
      ],
      "text/plain": [
       "\u001b[1m[\u001b[0m\u001b[32m'interest rate'\u001b[0m, \u001b[32m'Bank of Canada'\u001b[0m, \u001b[32m'housing market'\u001b[0m\u001b[1m]\u001b[0m\n"
      ]
     },
     "metadata": {},
     "output_type": "display_data"
    }
   ],
   "source": [
    "r.whitelist_show()"
   ]
  },
  {
   "cell_type": "code",
   "execution_count": null,
   "metadata": {},
   "outputs": [],
   "source": [
    "# r.update()"
   ]
  },
  {
   "cell_type": "markdown",
   "metadata": {},
   "source": [
    "## Low level access to data"
   ]
  },
  {
   "cell_type": "code",
   "execution_count": null,
   "metadata": {},
   "outputs": [
    {
     "data": {
      "text/plain": [
       "Entry(id='https://thetyee.ca/News/2023/02/06/BC-Pledges-To-Spend-Surplus-Billions-Services/', updated=None, title='BC Pledges to Spend Surplus Billions to Improve Services (in News)', link='https://thetyee.ca/News/2023/02/06/BC-Pledges-To-Spend-Surplus-Billions-Services/', author='Andrew MacLeod', published=None, summary='Eby’s first throne speech says government’s priorities remain unchanged.', content=(), enclosures=(Enclosure(href='https://thetyee.ca/News/2023/02/06/DavidEbyWalking.jpg', type='image/jpeg', length=None),), read=False, read_modified=datetime.datetime(2023, 2, 7, 1, 4, 35, 113527, tzinfo=datetime.timezone.utc), important=False, important_modified=datetime.datetime(2023, 2, 7, 1, 4, 35, 104646, tzinfo=datetime.timezone.utc), added=datetime.datetime(2023, 2, 7, 1, 4, 26, 541098, tzinfo=datetime.timezone.utc), added_by='feed', last_updated=datetime.datetime(2023, 2, 7, 1, 4, 26, 541098, tzinfo=datetime.timezone.utc), original_feed_url='https://thetyee.ca/rss2.xml', feed=Feed(url='https://thetyee.ca/rss2.xml', updated=datetime.datetime(2023, 2, 7, 0, 2, 34, tzinfo=datetime.timezone.utc), title=\"The Tyee | BC's home for today's news, analysis and updates\", link='https://thetyee.ca/', author='editor@thetyee.ca (Editor)', subtitle=None, version='rss20', user_title=None, added=datetime.datetime(2023, 1, 13, 0, 25, 51, 187008, tzinfo=datetime.timezone.utc), last_updated=datetime.datetime(2023, 2, 7, 1, 4, 26, 541098, tzinfo=datetime.timezone.utc), last_exception=None, updates_enabled=True))"
      ]
     },
     "execution_count": null,
     "metadata": {},
     "output_type": "execute_result"
    }
   ],
   "source": [
    "entries = r._get_entries(limit=1)\n",
    "entry = [i for i in entries][0]\n",
    "entry"
   ]
  },
  {
   "cell_type": "markdown",
   "metadata": {},
   "source": [
    "## CLI"
   ]
  },
  {
   "cell_type": "code",
   "execution_count": null,
   "metadata": {},
   "outputs": [],
   "source": [
    "# | export\n",
    "\n",
    "\n",
    "def main():\n",
    "    fire.Fire(PyNewsReader)"
   ]
  },
  {
   "cell_type": "code",
   "execution_count": null,
   "metadata": {},
   "outputs": [
    {
     "name": "stdout",
     "output_type": "stream",
     "text": [
      "\u001b[1mNAME\u001b[0m\n",
      "    ipykernel_launcher.py -f /home/mark/.local/share/jupyter/runtime/kernel-8f2da236-3f18-4738-ac02-9dc3b1087781.json\n",
      "\n",
      "\u001b[1mSYNOPSIS\u001b[0m\n",
      "    ipykernel_launcher.py -f /home/mark/.local/share/jupyter/runtime/kernel-8f2da236-3f18-4738-ac02-9dc3b1087781.json \u001b[4mCOMMAND\u001b[0m\n",
      "\n",
      "\u001b[1mCOMMANDS\u001b[0m\n",
      "    \u001b[1m\u001b[4mCOMMAND\u001b[0m\u001b[0m is one of the following:\n",
      "\n",
      "     add_feed\n",
      "       Add feed to pynewsreader\n",
      "\n",
      "     blacklist_add\n",
      "       Add entry to blacklist\n",
      "\n",
      "     blacklist_remove\n",
      "       Remove entry from blacklist\n",
      "\n",
      "     blacklist_show\n",
      "       Show blacklist\n",
      "\n",
      "     feeds\n",
      "       List pynewsreader feeds\n",
      "\n",
      "     remove_feed\n",
      "       Remove feed from pynewsreader instance\n",
      "\n",
      "     search\n",
      "       Search entries and pretty print results\n",
      "\n",
      "     show\n",
      "       Pretty print entries\n",
      "\n",
      "     update\n",
      "       Update feeds and search\n",
      "\n",
      "     whitelist_add\n",
      "       Add entry to whitelist\n",
      "\n",
      "     whitelist_remove\n",
      "       Remove whitelist entry\n",
      "\n",
      "     whitelist_show\n",
      "       Show whitelist\n"
     ]
    }
   ],
   "source": [
    "# | export\n",
    "\n",
    "\n",
    "if __name__ == \"__main__\":\n",
    "    main()"
   ]
  },
  {
   "cell_type": "code",
   "execution_count": null,
   "metadata": {},
   "outputs": [],
   "source": [
    "# | hide\n",
    "\n",
    "# To Do:\n",
    "# * User interface"
   ]
  },
  {
   "cell_type": "code",
   "execution_count": null,
   "metadata": {},
   "outputs": [],
   "source": [
    "# | hide\n",
    "import nbdev\n",
    "\n",
    "nbdev.nbdev_export()"
   ]
  }
 ],
 "metadata": {
  "kernelspec": {
   "display_name": "Python 3 (ipykernel)",
   "language": "python",
   "name": "python3"
  }
 },
 "nbformat": 4,
 "nbformat_minor": 4
}
