{
 "cells": [
  {
   "cell_type": "markdown",
   "metadata": {},
   "source": [
    "# core\n",
    "\n",
    "> Main codebase for fetching and saving RSS feeds"
   ]
  },
  {
   "cell_type": "code",
   "execution_count": null,
   "metadata": {},
   "outputs": [],
   "source": [
    "# | default_exp core\n"
   ]
  },
  {
   "cell_type": "code",
   "execution_count": null,
   "metadata": {},
   "outputs": [],
   "source": [
    "# | hide\n",
    "from nbdev.showdoc import *\n"
   ]
  },
  {
   "cell_type": "code",
   "execution_count": null,
   "metadata": {},
   "outputs": [],
   "source": [
    "# | export\n",
    "\n",
    "import reader\n",
    "from typing import *\n",
    "from bs4 import BeautifulSoup\n",
    "from rich import print\n",
    "from rich.panel import Panel\n",
    "from rich.text import Text\n",
    "import logging\n",
    "\n",
    "logger = logging.getLogger(__name__)\n",
    "\n",
    "\n",
    "def strip_html(s: str):\n",
    "    s = BeautifulSoup(s, features=\"lxml\")\n",
    "    return s.text\n"
   ]
  },
  {
   "cell_type": "code",
   "execution_count": null,
   "metadata": {},
   "outputs": [],
   "source": [
    "# | export\n",
    "\n",
    "class Feed:\n",
    "    \"\"\"RSS feed class \n",
    "    \"\"\"\n",
    "\n",
    "    def __init__(self, url: str, name: str = None, tags: List[str] = []):\n",
    "        self.url = url\n",
    "        self.name = name\n",
    "        self.tags = tags\n",
    "\n",
    "    def add_tag(self, tag: str):\n",
    "        if tag not in self.tags:\n",
    "            self.tags.append(tag)\n",
    "\n",
    "    def remove_tag(self, tag: str):\n",
    "        if tag in self.tags:\n",
    "            self.tags.remove(tag)\n"
   ]
  },
  {
   "cell_type": "code",
   "execution_count": null,
   "metadata": {},
   "outputs": [],
   "source": [
    "# | export\n",
    "\n",
    "class PyNewsReader:\n",
    "    def __init__(self, dbpath=None, feeds=List[Feed]):\n",
    "        if dbpath is None:\n",
    "            logger.info(\"Database path not specified, using ./db.sqlite\")\n",
    "            dbpath = \"db.sqlite\"\n",
    "\n",
    "        self._reader = reader.make_reader(\n",
    "            \"db.sqlite\", plugins=[\"reader.enclosure_dedupe\", \"reader.entry_dedupe\"]\n",
    "        )\n",
    "\n",
    "        self._reader.enable_search()\n",
    "        self._feed_names = {}\n",
    "\n",
    "    def _print_entries(self, entries: List[reader.Entry], mark_as_read: bool = True, limit: int = 10):\n",
    "        \"\"\"\n",
    "        Pretty print entries - supports reader.Reader.get_entries arguments\n",
    "        \"\"\"\n",
    "        displayed_links = set()\n",
    "        for e in entries:\n",
    "            if e.link in displayed_links:\n",
    "                # Don't display duplicates\n",
    "                self._reader.mark_entry_as_read(e)\n",
    "            else:\n",
    "                displayed_links.add(e.link)\n",
    "                if e.published:\n",
    "                    published_date = Text(\n",
    "                        \"Date: \" + e.published.isoformat()[:10], justify=\"center\"\n",
    "                    )\n",
    "                else:\n",
    "                    published_date = Text(\"Date: Unknown\", justify=\"center\")\n",
    "                if mark_as_read:\n",
    "                    self._reader.mark_entry_as_read(e)\n",
    "\n",
    "                feed_title = self._get_feed_title(e.original_feed_url)\n",
    "                print(\n",
    "                    Panel(\n",
    "                        published_date\n",
    "                        + \"\\n\\n\"\n",
    "                        + Text(strip_html(e.summary) + \"\\n\", justify=None),\n",
    "                        title=f\"[link={e.link}]{e.title}[/link]\",\n",
    "                        subtitle=feed_title,\n",
    "                    )\n",
    "                )\n",
    "                print()\n",
    "            if len(displayed_links) == limit:\n",
    "                return\n",
    "\n",
    "    def _search_to_entry(self, search_result):\n",
    "        for i in self._reader.get_entries():\n",
    "            if i.id == search_result.id and i.feed_url == search_result.feed_url:\n",
    "                return i\n",
    "\n",
    "    def _get_feed_title(self, url: str):\n",
    "        \"\"\"Get display title for pynewsreader feed\n",
    "\n",
    "        Args:\n",
    "            url (str): URL of pynewsreader feed\n",
    "\n",
    "        Returns:\n",
    "            str: Display title\n",
    "        \"\"\"\n",
    "        if url in self._feed_names:\n",
    "            return self._feed_names[url]\n",
    "        elif self._reader.get_feed(url).title:\n",
    "            return self._reader.get_feed(url).title\n",
    "        else:\n",
    "            return self._reader.get_feed(url).url\n",
    "\n",
    "    def update(self):\n",
    "        \"\"\"Update feeds and search\"\"\"\n",
    "        self._reader.update_feeds()\n",
    "        self._reader.update_search()\n",
    "\n",
    "    def _get_entries(self, important: bool = None, read: Union[None, bool] = None, limit: int = 10):\n",
    "        \"\"\"Get entries in reader.Entry format\n",
    "\n",
    "        Args:\n",
    "            read (reader.Entry.read, optional): Filter on `read` status (None, True, False). Defaults to None.\n",
    "            limit (int, optional): Number of entries to return. Defaults to 10.\n",
    "\n",
    "        Returns:\n",
    "            List[reader.Entry]: List of entries\n",
    "        \"\"\"\n",
    "        return self._reader.get_entries(read=read, limit=limit, important=important)\n",
    "\n",
    "    def add_feed(self, feed: Feed):\n",
    "        \"\"\"Add feed to pynewsreader\n",
    "\n",
    "        Args:\n",
    "            feed (Feed): pynewsreader Feed to add\n",
    "        \"\"\"\n",
    "        self._reader.add_feed(feed.url, exist_ok=True)\n",
    "        if feed.name:\n",
    "            self._feed_names[feed.url] = feed.name\n",
    "\n",
    "    def remove_feed(self, feed: Feed):\n",
    "        \"\"\"Remove feed from pynewsreader instance\n",
    "\n",
    "        Args:\n",
    "            feed (Feed): Feed to remove\n",
    "        \"\"\"\n",
    "\n",
    "        self._reader.delete_feed(feed.url)\n",
    "\n",
    "    def feeds(self):\n",
    "        \"\"\"List pynewsreader feeds\n",
    "\n",
    "        Returns:\n",
    "            List[str]: List of names of current pynewsreader feeds\n",
    "        \"\"\"\n",
    "        return [self._get_feed_title(i.url) for i in self._reader.get_feeds()]\n",
    "\n",
    "    def list(self, limit: int = 5, read: bool = None, important: bool = None, mark_as_read: bool = False):\n",
    "        \"\"\"Pretty print entries\n",
    "\n",
    "        Args:\n",
    "            limit (int, optional): Number of entries to show. Defaults to 5.\n",
    "            read (bool, optional): Show read entries (True), unread entries (False), or all entries (None). Defaults to None.\n",
    "            mark_as_read (bool, optional): Mark displayed entries as read. Defaults to False.\n",
    "        \"\"\"\n",
    "        self._print_entries(self._get_entries(\n",
    "            read=read, important=important, limit=limit*2), limit=limit, mark_as_read=mark_as_read)\n",
    "\n",
    "    def search(self, query: str, mark_as_read: bool = True, limit: int = 10):\n",
    "        \"\"\"Search entries and pretty print results\n",
    "\n",
    "        Args:\n",
    "            query (str): Search query\n",
    "            mark_as_read (bool, optional): Mark results as read? Defaults to True.\n",
    "        \"\"\"\n",
    "        self._print_entries([self._search_to_entry(i) for i in self._reader.search_entries(\n",
    "            query)], mark_as_read=mark_as_read, limit=limit)\n",
    "\n",
    "    def mark_important(self, entry: reader.Entry):\n",
    "        \"\"\"Mark entry as important\n",
    "\n",
    "        Args:\n",
    "            entry (reader.Entry): Entry to mark as important\n",
    "        \"\"\"\n",
    "        reader.Reader.mark_entry_as_important(entry)\n",
    "\n",
    "    def mark_unimportant(self, entry: reader.Entry):\n",
    "        \"\"\"Mark entry as important\n",
    "\n",
    "        Args:\n",
    "            entry (reader.Entry): Entry to mark as important\n",
    "        \"\"\"\n",
    "        reader.Reader.mark_entry_as_unimportant(entry)\n",
    "\n",
    "        \n",
    "    def tag(self, entry: reader.Entry, tag_key: str, tag_value: Dict = None):\n",
    "        \"\"\"Tag an entry\n",
    "\n",
    "        Args:\n",
    "            entry (reader.Entry): Entry to tag\n",
    "            tag_key (str): Key of tag\n",
    "            tag_value (Dict, optional): Value of tag. Defaults to None.\n",
    "        \"\"\"\n",
    "        reader.Reader.set_tag(entry, tag_key, tag_value)\n"
   ]
  },
  {
   "cell_type": "code",
   "execution_count": null,
   "metadata": {},
   "outputs": [],
   "source": [
    "r = PyNewsReader()\n"
   ]
  },
  {
   "cell_type": "markdown",
   "metadata": {},
   "source": [
    "## Add Feeds"
   ]
  },
  {
   "cell_type": "code",
   "execution_count": null,
   "metadata": {},
   "outputs": [],
   "source": [
    "# With names\n",
    "for i in [\n",
    "    Feed(url='https://ricochet.media/en/feed', name=\"Richochet Media\"),\n",
    "    Feed(url='https://thetyee.ca/rss2.xml', name=\"The Tyee\"),\n",
    "    Feed(url=\"https://www.thestar.com/content/thestar/feed.RSSManagerServlet.articles.topstories.rss\",\n",
    "         name=\"Toronto Star | Top Stories\"),\n",
    "    Feed(url=\"https://www.thestar.com/content/thestar/feed.RSSManagerServlet.articles.news.investigations.rss\",\n",
    "         name=\"Toronto Star | Investigations\"),\n",
    "    Feed(url=\"https://www.thestar.com/content/thestar/feed.RSSManagerServlet.articles.opinion.editorials.rss\",\n",
    "         name=\"Toronto Star | Editorials\"),\n",
    "    Feed(url=\"https://www.macleans.ca/feed/\",\n",
    "         name=\"Macleans\")\n",
    "]:\n",
    "    r.add_feed(i)\n",
    "\n",
    "# Use the default name from the feed\n",
    "for i in [\n",
    "    \"https://rss.cbc.ca/lineup/topstories.xml\",\n",
    "    \"https://rss.cbc.ca/lineup/world.xml\",\n",
    "    \"https://rss.cbc.ca/lineup/canada.xml\",\n",
    "    \"https://rss.cbc.ca/lineup/business.xml\",\n",
    "    \"https://rss.cbc.ca/lineup/technology.xml\",\n",
    "    \"https://www.cbc.ca/cmlink/rss-canada-ottawa\",\n",
    "    \"https://thenarwhal.ca/feed/\",\n",
    "]:\n",
    "    r.add_feed(Feed(i))\n"
   ]
  },
  {
   "cell_type": "markdown",
   "metadata": {},
   "source": [
    "## List Feeds"
   ]
  },
  {
   "cell_type": "code",
   "execution_count": null,
   "metadata": {},
   "outputs": [
    {
     "data": {
      "text/plain": [
       "['Richochet Media',\n",
       " 'CBC | Business News',\n",
       " 'CBC | Canada News',\n",
       " 'CBC | Ottawa News',\n",
       " 'CBC | Technology News',\n",
       " 'CBC | Top Stories News',\n",
       " 'CBC | World News',\n",
       " 'Macleans',\n",
       " 'The Narwhal',\n",
       " 'The Tyee',\n",
       " 'Toronto Star | Investigations',\n",
       " 'Toronto Star | Editorials',\n",
       " 'Toronto Star | Top Stories']"
      ]
     },
     "execution_count": null,
     "metadata": {},
     "output_type": "execute_result"
    }
   ],
   "source": [
    "r.feeds()\n"
   ]
  },
  {
   "cell_type": "markdown",
   "metadata": {},
   "source": [
    "## Update Feeds"
   ]
  },
  {
   "cell_type": "code",
   "execution_count": null,
   "metadata": {},
   "outputs": [],
   "source": [
    "r.update()\n"
   ]
  },
  {
   "cell_type": "markdown",
   "metadata": {},
   "source": [
    "## Display Entries\n",
    "\n",
    "`read` = None shows all entries\n",
    "\n",
    "`read` = False shows only unread entries\n",
    "\n",
    "`read` = True shows only read entries"
   ]
  },
  {
   "cell_type": "code",
   "execution_count": null,
   "metadata": {},
   "outputs": [
    {
     "data": {
      "text/html": [
       "<pre style=\"white-space:pre;overflow-x:auto;line-height:normal;font-family:Menlo,'DejaVu Sans Mono',consolas,'Courier New',monospace\">╭────────────────────────── <a href=\"https://www.cbc.ca/news/science/spacex-ispace-moon-rover-launch-1.6681992?cmp=rss\" target=\"_blank\">Japan's ispace launches world's 1st commercial lunar lander</a> ──────────────────────────╮\n",
       "│                                                Date: 2022-12-11                                                 │\n",
       "│                                                                                                                 │\n",
       "│  A Japanese space startup launched a spacecraft to the moon on Sunday after several delays, a step toward what  │\n",
       "│                           would be a first for the country and for a private company.                           │\n",
       "│                                                                                                                 │\n",
       "╰───────────────────────────────────────────── CBC | Technology News ─────────────────────────────────────────────╯\n",
       "</pre>\n"
      ],
      "text/plain": [
       "╭────────────────────────── \u001b]8;id=317934;https://www.cbc.ca/news/science/spacex-ispace-moon-rover-launch-1.6681992?cmp=rss\u001b\\Japan's ispace launches world's 1st commercial lunar lander\u001b]8;;\u001b\\ ──────────────────────────╮\n",
       "│                                                Date: 2022-12-11                                                 │\n",
       "│                                                                                                                 │\n",
       "│  A Japanese space startup launched a spacecraft to the moon on Sunday after several delays, a step toward what  │\n",
       "│                           would be a first for the country and for a private company.                           │\n",
       "│                                                                                                                 │\n",
       "╰───────────────────────────────────────────── CBC | Technology News ─────────────────────────────────────────────╯\n"
      ]
     },
     "metadata": {},
     "output_type": "display_data"
    },
    {
     "data": {
      "text/html": [
       "<pre style=\"white-space:pre;overflow-x:auto;line-height:normal;font-family:Menlo,'DejaVu Sans Mono',consolas,'Courier New',monospace\">\n",
       "</pre>\n"
      ],
      "text/plain": [
       "\n"
      ]
     },
     "metadata": {},
     "output_type": "display_data"
    },
    {
     "data": {
      "text/html": [
       "<pre style=\"white-space:pre;overflow-x:auto;line-height:normal;font-family:Menlo,'DejaVu Sans Mono',consolas,'Courier New',monospace\">╭───────────────────────────── <a href=\"https://www.thestar.com/opinion/editorials/2022/12/11/ottawa-needs-to-end-its-roadblocks-to-helping-afghans.html\" target=\"_blank\">Ottawa needs to end its roadblocks to helping Afghans</a> ─────────────────────────────╮\n",
       "│                                                Date: 2022-12-11                                                 │\n",
       "│                                                                                                                 │\n",
       "│     We need to find a way to get to get humanitarian aid to Afghans before the food crisis there get worse.     │\n",
       "│                                                                                                                 │\n",
       "╰─────────────────────────────────────────── Toronto Star | Editorials ───────────────────────────────────────────╯\n",
       "</pre>\n"
      ],
      "text/plain": [
       "╭───────────────────────────── \u001b]8;id=502574;https://www.thestar.com/opinion/editorials/2022/12/11/ottawa-needs-to-end-its-roadblocks-to-helping-afghans.html\u001b\\Ottawa needs to end its roadblocks to helping Afghans\u001b]8;;\u001b\\ ─────────────────────────────╮\n",
       "│                                                Date: 2022-12-11                                                 │\n",
       "│                                                                                                                 │\n",
       "│     We need to find a way to get to get humanitarian aid to Afghans before the food crisis there get worse.     │\n",
       "│                                                                                                                 │\n",
       "╰─────────────────────────────────────────── Toronto Star | Editorials ───────────────────────────────────────────╯\n"
      ]
     },
     "metadata": {},
     "output_type": "display_data"
    },
    {
     "data": {
      "text/html": [
       "<pre style=\"white-space:pre;overflow-x:auto;line-height:normal;font-family:Menlo,'DejaVu Sans Mono',consolas,'Courier New',monospace\">\n",
       "</pre>\n"
      ],
      "text/plain": [
       "\n"
      ]
     },
     "metadata": {},
     "output_type": "display_data"
    },
    {
     "data": {
      "text/html": [
       "<pre style=\"white-space:pre;overflow-x:auto;line-height:normal;font-family:Menlo,'DejaVu Sans Mono',consolas,'Courier New',monospace\">╭───────────────── <a href=\"https://thenarwhal.ca/jane-goodall-hope/\" target=\"_blank\">Jane Goodall on hope, fatigue and finding pockets of nature wherever you are</a> ──────────────────╮\n",
       "│                                                Date: 2022-12-10                                                 │\n",
       "│                                                                                                                 │\n",
       "│                                                                                                                 │\n",
       "│                                                                                                                 │\n",
       "│                                                             By                                                  │\n",
       "│                                                 Emma Gilchrist                                                  │\n",
       "│                                                                                                                 │\n",
       "│                                                                                                                 │\n",
       "│   At 88 years old, the world’s best-known naturalist is calling on her fans to roll up their sleeves and ‘do    │\n",
       "│                                                   something’                                                    │\n",
       "│                                                                                                                 │\n",
       "╰────────────────────────────────────────────────── The Narwhal ──────────────────────────────────────────────────╯\n",
       "</pre>\n"
      ],
      "text/plain": [
       "╭───────────────── \u001b]8;id=371229;https://thenarwhal.ca/jane-goodall-hope/\u001b\\Jane Goodall on hope, fatigue and finding pockets of nature wherever you are\u001b]8;;\u001b\\ ──────────────────╮\n",
       "│                                                Date: 2022-12-10                                                 │\n",
       "│                                                                                                                 │\n",
       "│                                                                                                                 │\n",
       "│                                                                                                                 │\n",
       "│                                                             By                                                  │\n",
       "│                                                 Emma Gilchrist                                                  │\n",
       "│                                                                                                                 │\n",
       "│                                                                                                                 │\n",
       "│   At 88 years old, the world’s best-known naturalist is calling on her fans to roll up their sleeves and ‘do    │\n",
       "│                                                   something’                                                    │\n",
       "│                                                                                                                 │\n",
       "╰────────────────────────────────────────────────── The Narwhal ──────────────────────────────────────────────────╯\n"
      ]
     },
     "metadata": {},
     "output_type": "display_data"
    },
    {
     "data": {
      "text/html": [
       "<pre style=\"white-space:pre;overflow-x:auto;line-height:normal;font-family:Menlo,'DejaVu Sans Mono',consolas,'Courier New',monospace\">\n",
       "</pre>\n"
      ],
      "text/plain": [
       "\n"
      ]
     },
     "metadata": {},
     "output_type": "display_data"
    },
    {
     "data": {
      "text/html": [
       "<pre style=\"white-space:pre;overflow-x:auto;line-height:normal;font-family:Menlo,'DejaVu Sans Mono',consolas,'Courier New',monospace\">╭───────────────────────────────────────── <a href=\"https://www.thestar.com/opinion/editorials/2022/12/10/profits-in-the-grocery-aisle.html\" target=\"_blank\">Profits in the grocery aisle</a> ──────────────────────────────────────────╮\n",
       "│                                                Date: 2022-12-10                                                 │\n",
       "│                                                                                                                 │\n",
       "│  Grocery chains insist they are not unduly profiting from inflation. Price-pinched shoppers, quite naturally,   │\n",
       "│                                       would like to be convinced of that.                                       │\n",
       "│                                                                                                                 │\n",
       "╰─────────────────────────────────────────── Toronto Star | Editorials ───────────────────────────────────────────╯\n",
       "</pre>\n"
      ],
      "text/plain": [
       "╭───────────────────────────────────────── \u001b]8;id=658394;https://www.thestar.com/opinion/editorials/2022/12/10/profits-in-the-grocery-aisle.html\u001b\\Profits in the grocery aisle\u001b]8;;\u001b\\ ──────────────────────────────────────────╮\n",
       "│                                                Date: 2022-12-10                                                 │\n",
       "│                                                                                                                 │\n",
       "│  Grocery chains insist they are not unduly profiting from inflation. Price-pinched shoppers, quite naturally,   │\n",
       "│                                       would like to be convinced of that.                                       │\n",
       "│                                                                                                                 │\n",
       "╰─────────────────────────────────────────── Toronto Star | Editorials ───────────────────────────────────────────╯\n"
      ]
     },
     "metadata": {},
     "output_type": "display_data"
    },
    {
     "data": {
      "text/html": [
       "<pre style=\"white-space:pre;overflow-x:auto;line-height:normal;font-family:Menlo,'DejaVu Sans Mono',consolas,'Courier New',monospace\">\n",
       "</pre>\n"
      ],
      "text/plain": [
       "\n"
      ]
     },
     "metadata": {},
     "output_type": "display_data"
    },
    {
     "data": {
      "text/html": [
       "<pre style=\"white-space:pre;overflow-x:auto;line-height:normal;font-family:Menlo,'DejaVu Sans Mono',consolas,'Courier New',monospace\">╭────────────────────── <a href=\"https://www.cbc.ca/news/business/chatgpt-artificial-intelligence-1.6681401?cmp=rss\" target=\"_blank\">Can the new AI tool ChatGPT replace human work? Judge for yourself</a> ───────────────────────╮\n",
       "│                                                Date: 2022-12-10                                                 │\n",
       "│                                                                                                                 │\n",
       "│   A new artificial intelligence tool using natural language processing has captured the public's imagination,   │\n",
       "│                                       amassing more than a million users.                                       │\n",
       "│                                                                                                                 │\n",
       "╰───────────────────────────────────────────── CBC | Technology News ─────────────────────────────────────────────╯\n",
       "</pre>\n"
      ],
      "text/plain": [
       "╭────────────────────── \u001b]8;id=451360;https://www.cbc.ca/news/business/chatgpt-artificial-intelligence-1.6681401?cmp=rss\u001b\\Can the new AI tool ChatGPT replace human work? Judge for yourself\u001b]8;;\u001b\\ ───────────────────────╮\n",
       "│                                                Date: 2022-12-10                                                 │\n",
       "│                                                                                                                 │\n",
       "│   A new artificial intelligence tool using natural language processing has captured the public's imagination,   │\n",
       "│                                       amassing more than a million users.                                       │\n",
       "│                                                                                                                 │\n",
       "╰───────────────────────────────────────────── CBC | Technology News ─────────────────────────────────────────────╯\n"
      ]
     },
     "metadata": {},
     "output_type": "display_data"
    },
    {
     "data": {
      "text/html": [
       "<pre style=\"white-space:pre;overflow-x:auto;line-height:normal;font-family:Menlo,'DejaVu Sans Mono',consolas,'Courier New',monospace\">\n",
       "</pre>\n"
      ],
      "text/plain": [
       "\n"
      ]
     },
     "metadata": {},
     "output_type": "display_data"
    }
   ],
   "source": [
    "r.list(read=False, limit=5, mark_as_read=True)\n"
   ]
  },
  {
   "cell_type": "markdown",
   "metadata": {},
   "source": [
    "## Search Entries"
   ]
  },
  {
   "cell_type": "code",
   "execution_count": null,
   "metadata": {},
   "outputs": [
    {
     "data": {
      "text/html": [
       "<pre style=\"white-space:pre;overflow-x:auto;line-height:normal;font-family:Menlo,'DejaVu Sans Mono',consolas,'Courier New',monospace\">╭─────────────────────────── <a href=\"https://www.cbc.ca/news/science/us-fusion-announcement-1.6682497?cmp=rss\" target=\"_blank\">Fusion energy 'breakthrough' revealed by U.S. scientists</a> ────────────────────────────╮\n",
       "│                                                Date: 2022-12-13                                                 │\n",
       "│                                                                                                                 │\n",
       "│      U.S. Energy Secretary Jennifer Granholm announced a \"major scientific breakthrough\" on Tuesday in the      │\n",
       "│                 decades-long quest to harness fusion, the energy that powers the sun and stars.                 │\n",
       "│                                                                                                                 │\n",
       "╰───────────────────────────────────────────── CBC | Technology News ─────────────────────────────────────────────╯\n",
       "</pre>\n"
      ],
      "text/plain": [
       "╭─────────────────────────── \u001b]8;id=24007;https://www.cbc.ca/news/science/us-fusion-announcement-1.6682497?cmp=rss\u001b\\Fusion energy 'breakthrough' revealed by U.S. scientists\u001b]8;;\u001b\\ ────────────────────────────╮\n",
       "│                                                Date: 2022-12-13                                                 │\n",
       "│                                                                                                                 │\n",
       "│      U.S. Energy Secretary Jennifer Granholm announced a \"major scientific breakthrough\" on Tuesday in the      │\n",
       "│                 decades-long quest to harness fusion, the energy that powers the sun and stars.                 │\n",
       "│                                                                                                                 │\n",
       "╰───────────────────────────────────────────── CBC | Technology News ─────────────────────────────────────────────╯\n"
      ]
     },
     "metadata": {},
     "output_type": "display_data"
    },
    {
     "data": {
      "text/html": [
       "<pre style=\"white-space:pre;overflow-x:auto;line-height:normal;font-family:Menlo,'DejaVu Sans Mono',consolas,'Courier New',monospace\">\n",
       "</pre>\n"
      ],
      "text/plain": [
       "\n"
      ]
     },
     "metadata": {},
     "output_type": "display_data"
    },
    {
     "data": {
      "text/html": [
       "<pre style=\"white-space:pre;overflow-x:auto;line-height:normal;font-family:Menlo,'DejaVu Sans Mono',consolas,'Courier New',monospace\">╭───────────────────────────── <a href=\"https://www.cbc.ca/news/science/nuclear-fusion-explainer-1.6684298?cmp=rss\" target=\"_blank\">What is nuclear fusion and why is it such a big deal?</a> ─────────────────────────────╮\n",
       "│                                                Date: 2022-12-13                                                 │\n",
       "│                                                                                                                 │\n",
       "│  The U.S. Department of Energy on Tuesday announced a breakthrough in nuclear fusion, a way of producing clean  │\n",
       "│ energy that scientists have been working on since the 1940s. So what exactly is it, why is it so important and  │\n",
       "│                                        what does it mean for the future?                                        │\n",
       "│                                                                                                                 │\n",
       "╰───────────────────────────────────────────── CBC | Technology News ─────────────────────────────────────────────╯\n",
       "</pre>\n"
      ],
      "text/plain": [
       "╭───────────────────────────── \u001b]8;id=705691;https://www.cbc.ca/news/science/nuclear-fusion-explainer-1.6684298?cmp=rss\u001b\\What is nuclear fusion and why is it such a big deal?\u001b]8;;\u001b\\ ─────────────────────────────╮\n",
       "│                                                Date: 2022-12-13                                                 │\n",
       "│                                                                                                                 │\n",
       "│  The U.S. Department of Energy on Tuesday announced a breakthrough in nuclear fusion, a way of producing clean  │\n",
       "│ energy that scientists have been working on since the 1940s. So what exactly is it, why is it so important and  │\n",
       "│                                        what does it mean for the future?                                        │\n",
       "│                                                                                                                 │\n",
       "╰───────────────────────────────────────────── CBC | Technology News ─────────────────────────────────────────────╯\n"
      ]
     },
     "metadata": {},
     "output_type": "display_data"
    },
    {
     "data": {
      "text/html": [
       "<pre style=\"white-space:pre;overflow-x:auto;line-height:normal;font-family:Menlo,'DejaVu Sans Mono',consolas,'Courier New',monospace\">\n",
       "</pre>\n"
      ],
      "text/plain": [
       "\n"
      ]
     },
     "metadata": {},
     "output_type": "display_data"
    },
    {
     "data": {
      "text/html": [
       "<pre style=\"white-space:pre;overflow-x:auto;line-height:normal;font-family:Menlo,'DejaVu Sans Mono',consolas,'Courier New',monospace\">╭────────────── <a href=\"https://www.cbc.ca/news/science/what-on-earth-cannabis-plastic-waste-1.6687271?cmp=rss\" target=\"_blank\">The cannabis industry has a plastic waste problem — but some are finding solutions</a> ───────────────╮\n",
       "│                                                Date: 2022-12-15                                                 │\n",
       "│                                                                                                                 │\n",
       "│    In this week's issue of our environment newsletter, we look at the plastic waste produced in the cannabis    │\n",
       "│      industry and what this week's announcement about nuclear fusion means for the future of clean energy.      │\n",
       "│                                                                                                                 │\n",
       "╰─────────────────────────────────────────────── CBC | Canada News ───────────────────────────────────────────────╯\n",
       "</pre>\n"
      ],
      "text/plain": [
       "╭────────────── \u001b]8;id=732462;https://www.cbc.ca/news/science/what-on-earth-cannabis-plastic-waste-1.6687271?cmp=rss\u001b\\The cannabis industry has a plastic waste problem — but some are finding solutions\u001b]8;;\u001b\\ ───────────────╮\n",
       "│                                                Date: 2022-12-15                                                 │\n",
       "│                                                                                                                 │\n",
       "│    In this week's issue of our environment newsletter, we look at the plastic waste produced in the cannabis    │\n",
       "│      industry and what this week's announcement about nuclear fusion means for the future of clean energy.      │\n",
       "│                                                                                                                 │\n",
       "╰─────────────────────────────────────────────── CBC | Canada News ───────────────────────────────────────────────╯\n"
      ]
     },
     "metadata": {},
     "output_type": "display_data"
    },
    {
     "data": {
      "text/html": [
       "<pre style=\"white-space:pre;overflow-x:auto;line-height:normal;font-family:Menlo,'DejaVu Sans Mono',consolas,'Courier New',monospace\">\n",
       "</pre>\n"
      ],
      "text/plain": [
       "\n"
      ]
     },
     "metadata": {},
     "output_type": "display_data"
    }
   ],
   "source": [
    "r.search(\"fusion\")\n"
   ]
  },
  {
   "cell_type": "code",
   "execution_count": null,
   "metadata": {},
   "outputs": [],
   "source": [
    "# | hide\n",
    "\n",
    "# To Do:\n",
    "# * Command line interface\n",
    "# * User interface\n",
    "# * Tags\n"
   ]
  },
  {
   "cell_type": "code",
   "execution_count": null,
   "metadata": {},
   "outputs": [],
   "source": [
    "# | hide\n",
    "import nbdev\n",
    "\n",
    "nbdev.nbdev_export()\n"
   ]
  },
  {
   "cell_type": "code",
   "execution_count": null,
   "metadata": {},
   "outputs": [],
   "source": []
  }
 ],
 "metadata": {
  "kernelspec": {
   "display_name": "Python 3 (ipykernel)",
   "language": "python",
   "name": "python3"
  }
 },
 "nbformat": 4,
 "nbformat_minor": 4
}
