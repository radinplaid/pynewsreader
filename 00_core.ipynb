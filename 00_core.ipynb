{
 "cells": [
  {
   "cell_type": "markdown",
   "metadata": {},
   "source": [
    "# core\n",
    "\n",
    "> Main codebase for fetching and saving RSS feeds"
   ]
  },
  {
   "cell_type": "code",
   "execution_count": null,
   "metadata": {},
   "outputs": [],
   "source": [
    "# | default_exp core"
   ]
  },
  {
   "cell_type": "code",
   "execution_count": null,
   "metadata": {},
   "outputs": [],
   "source": [
    "# | hide\n",
    "from nbdev.showdoc import *"
   ]
  },
  {
   "cell_type": "code",
   "execution_count": null,
   "metadata": {},
   "outputs": [],
   "source": [
    "# | export\n",
    "\n",
    "import json\n",
    "import logging\n",
    "from pathlib import Path\n",
    "from typing import *\n",
    "\n",
    "import fire\n",
    "import reader\n",
    "import rich\n",
    "from bs4 import BeautifulSoup\n",
    "from rich import print\n",
    "from rich.console import Console\n",
    "from rich.panel import Panel\n",
    "from rich.text import Text\n",
    "\n",
    "console = Console()\n",
    "\n",
    "logger = logging.getLogger(__name__)\n",
    "\n",
    "\n",
    "def strip_html(s: str):\n",
    "    s = BeautifulSoup(s, \"html.parser\")\n",
    "    return s.text"
   ]
  },
  {
   "cell_type": "code",
   "execution_count": null,
   "metadata": {},
   "outputs": [],
   "source": [
    "# | export\n",
    "\n",
    "\n",
    "class Feed:\n",
    "    \"\"\"RSS feed class\"\"\"\n",
    "\n",
    "    def __init__(self, url: str, name: str = None, tags: List[str] = []):\n",
    "        self.url = url\n",
    "        self.name = name\n",
    "        self.tags = tags\n",
    "\n",
    "    def add_tag(self, tag: str):\n",
    "        if tag not in self.tags:\n",
    "            self.tags.append(tag)\n",
    "\n",
    "    def remove_tag(self, tag: str):\n",
    "        if tag in self.tags:\n",
    "            self.tags.remove(tag)"
   ]
  },
  {
   "cell_type": "code",
   "execution_count": null,
   "metadata": {},
   "outputs": [],
   "source": [
    "# | export\n",
    "\n",
    "\n",
    "class PyNewsReader:\n",
    "    def __init__(self, feeds=List[Feed]):\n",
    "        self._dbfolder = Path().home() / \".cache/pynewsreader\"\n",
    "        if not self._dbfolder.exists():\n",
    "            self._dbfolder.mkdir(parents=True)\n",
    "\n",
    "        # If custom feed names exist, read them in\n",
    "        feed_names_path = self._dbfolder / \"feed_names.json\"\n",
    "        if feed_names_path.exists():\n",
    "            with open(self._dbfolder / \"feed_names.json\", \"rt\") as myfile:\n",
    "                self._feed_names = json.load(myfile)\n",
    "        else:\n",
    "            self._feed_names = {}\n",
    "\n",
    "        # If title blacklist exists, read it in\n",
    "        title_blacklist_path = self._dbfolder / \"title_blacklist.json\"\n",
    "        if title_blacklist_path.exists():\n",
    "            with open(self._dbfolder / \"title_blacklist.json\", \"rt\") as myfile:\n",
    "                self._title_blacklist = json.load(myfile)\n",
    "        else:\n",
    "            self._title_blacklist = []\n",
    "\n",
    "        self._reader = reader.make_reader(\n",
    "            self._dbfolder / \"db.sqlite\",\n",
    "            plugins=[\"reader.enclosure_dedupe\", \"reader.entry_dedupe\"],\n",
    "        )\n",
    "\n",
    "        # If title whitelist exists, read it in\n",
    "        title_whitelist_path = self._dbfolder / \"title_whitelist.json\"\n",
    "        if title_whitelist_path.exists():\n",
    "            with open(self._dbfolder / \"title_whitelist.json\", \"rt\") as myfile:\n",
    "                self._title_whitelist = json.load(myfile)\n",
    "        else:\n",
    "            self._title_whitelist = []\n",
    "\n",
    "        self._reader = reader.make_reader(\n",
    "            self._dbfolder / \"db.sqlite\",\n",
    "            plugins=[\"reader.enclosure_dedupe\", \"reader.entry_dedupe\"],\n",
    "        )\n",
    "\n",
    "        self._reader.enable_search()\n",
    "\n",
    "    def _print_entries(\n",
    "        self, entries: List[reader.Entry], mark_as_read: bool = True, limit: int = 10\n",
    "    ):\n",
    "        \"\"\"Pretty print entries - supports reader.Reader.get_entries arguments\"\"\"\n",
    "        displayed_links = set()\n",
    "        for e in entries:\n",
    "            if e.link in displayed_links:\n",
    "                # Don't display duplicates\n",
    "                self._reader.mark_entry_as_read(e)\n",
    "            else:\n",
    "                displayed_links.add(e.link)\n",
    "                if e.published:\n",
    "                    published_date = \"Date: \" + e.published.isoformat()[:10]\n",
    "                else:\n",
    "                    published_date = \"Date: Unknown\"\n",
    "                if mark_as_read:\n",
    "                    self._reader.mark_entry_as_read(e)\n",
    "\n",
    "                feed_title = f\"[bold]{self._get_feed_title(e.original_feed_url)}[/bold]\"\n",
    "\n",
    "                if e.important:\n",
    "                    panel_body = \":exclamation_mark:\"\n",
    "                else:\n",
    "                    panel_body = \"\"\n",
    "                panel_body += f\"Title: [bold]{e.title}[/bold]\" + \"\\n\"\n",
    "                panel_body += str(published_date) + \"\\n\\n\"\n",
    "                panel_body += strip_html(e.summary).strip() + \"\\n\"\n",
    "\n",
    "                console.print(\n",
    "                    Panel(\n",
    "                        panel_body,\n",
    "                        title=feed_title,\n",
    "                        subtitle=f\"[link={e.link}]{e.link}[/link]\",\n",
    "                    )\n",
    "                )\n",
    "                console.print()\n",
    "            if len(displayed_links) == limit:\n",
    "                return\n",
    "\n",
    "    def _search_to_entry(self, search_result):\n",
    "        \"\"\"For a given `reader` search result return the corresponding `reader.Entry`\"\"\"\n",
    "        for i in self._reader.get_entries():\n",
    "            if i.id == search_result.id and i.feed_url == search_result.feed_url:\n",
    "                return i\n",
    "\n",
    "    def _get_feed_title(self, url: str):\n",
    "        \"\"\"Get display title for pynewsreader feed\"\"\"\n",
    "        if url in self._feed_names and self._feed_names[url] is not None:\n",
    "            return self._feed_names[url]\n",
    "        elif self._reader.get_feed(url).title:\n",
    "            return self._reader.get_feed(url).title\n",
    "        else:\n",
    "            return self._reader.get_feed(url).url\n",
    "\n",
    "    def _get_entries(\n",
    "        self, important: bool = None, read: Union[None, bool] = None, limit: int = 10\n",
    "    ) -> List[reader.Entry]:\n",
    "        \"\"\"Get entries in reader.Entry format\"\"\"\n",
    "        return self._reader.get_entries(read=read, limit=limit, important=important)\n",
    "\n",
    "    def _get_tags(self, entry: reader.Entry):\n",
    "        \"\"\"Get tags for a given entry\"\"\"\n",
    "        return [i[0] for i in list(self._reader.get_tags(entry))]\n",
    "\n",
    "    def _mark_matching_entries_as_read(self, match_strings: List):\n",
    "        for i in self._reader.get_entries(read=False):\n",
    "            for filter_string in match_strings:\n",
    "                if filter_string in i.title:\n",
    "                    print(f\"Marking entry as read: {i.title}\")\n",
    "                    self._reader.mark_entry_as_read(i)\n",
    "                if filter_string in i.link:\n",
    "                    print(f\"Marking entry as read: {i.title}\")\n",
    "                    self._reader.mark_entry_as_read(i)\n",
    "\n",
    "    def _mark_matching_entries_as_important(self, match_strings: List):\n",
    "        for i in self._reader.get_entries(read=False):\n",
    "            for filter_string in match_strings:\n",
    "                if filter_string in i.title:\n",
    "                    print(f\"Marking entry as important: {i.title}\")\n",
    "                    self._reader.mark_entry_as_important(i)\n",
    "\n",
    "    def _add_to_blacklist(self, blacklist_string: str):\n",
    "        \"\"\"Add entry to blacklist\"\"\"\n",
    "        if blacklist_string not in self._title_blacklist:\n",
    "            self._title_blacklist.append(blacklist_string)\n",
    "            with open(self._dbfolder / \"title_blacklist.json\", \"wt\") as myfile:\n",
    "                json.dump(self._title_blacklist, myfile)\n",
    "\n",
    "    def _remove_from_blacklist(self, blacklist_string: str):\n",
    "        \"\"\"Remove entry from blacklist\"\"\"\n",
    "        if blacklist_string in self._title_blacklist:\n",
    "            self._title_blacklist.remove(blacklist_string)\n",
    "            with open(self._dbfolder / \"title_blacklist.json\", \"wt\") as myfile:\n",
    "                json.dump(self._title_blacklist, myfile)\n",
    "\n",
    "    def _add_to_whitelist(self, whitelist_string: str):\n",
    "        \"\"\"Add entry to whitelist\"\"\"\n",
    "        if whitelist_string not in self._title_whitelist:\n",
    "            self._title_whitelist.append(whitelist_string)\n",
    "            with open(self._dbfolder / \"title_whitelist.json\", \"wt\") as myfile:\n",
    "                json.dump(self._title_whitelist, myfile)\n",
    "            for entry in self._get_entries(limit=None):\n",
    "                if whitelist_string in entry.title:\n",
    "                    self._reader.mark_entry_as_important(entry)\n",
    "\n",
    "    def _remove_from_whitelist(self, whitelist_string: str):\n",
    "        \"\"\"Remove whitelist entry\"\"\"\n",
    "        if whitelist_string in self._title_whitelist:\n",
    "            self._title_whitelist.remove(whitelist_string)\n",
    "            with open(self._dbfolder / \"title_whitelist.json\", \"wt\") as myfile:\n",
    "                json.dump(self._title_whitelist, myfile)\n",
    "            for entry in self._get_entries(limit=None):\n",
    "                if whitelist_string in entry.title:\n",
    "                    self._reader.mark_entry_as_unimportant(entry)\n",
    "\n",
    "    def _mark_important(self, entry: reader.Entry = None):\n",
    "        \"\"\"Mark entry as important\"\"\"\n",
    "        if entry is not None:\n",
    "            reader.Reader.mark_entry_as_important(entry)\n",
    "\n",
    "    def _mark_unimportant(self, entry: reader.Entry = None):\n",
    "        \"\"\"Mark entry as important\"\"\"\n",
    "        if entry is not None:\n",
    "            reader.Reader.mark_entry_as_unimportant(entry)\n",
    "\n",
    "    def _add_tag(self, entry: reader.Entry, tag_key: str, tag_value: Dict = None):\n",
    "        \"\"\"Add tag to entry\"\"\"\n",
    "        reader.Reader.set_tag(entry, tag_key, tag_value)\n",
    "\n",
    "    def _remove_tag(self, entry: reader.Entry, tag_key: str):\n",
    "        \"\"\"Remove tag from entry\"\"\"\n",
    "        self._reader.delete_tag(entry, tag_key)\n",
    "\n",
    "    def add_feed(self, feed: Union[Feed, str]):\n",
    "        \"\"\"Add feed to pynewsreader\n",
    "\n",
    "        Args:\n",
    "            feed (Feed): pynewsreader Feed to add\n",
    "        \"\"\"\n",
    "        if isinstance(feed, Feed):\n",
    "            self._feed_names[feed.url] = feed.name\n",
    "            self._reader.add_feed(feed.url, exist_ok=True)\n",
    "        elif isinstance(feed, str):\n",
    "            self._reader.add_feed(feed, exist_ok=True)\n",
    "        else:\n",
    "            raise Exception(\"Must be str or Feed type to add\")\n",
    "\n",
    "        # Save names to file\n",
    "        with open(self._dbfolder / \"feed_names.json\", \"wt\") as myfile:\n",
    "            json.dump(self._feed_names, myfile)\n",
    "\n",
    "    def remove_feed(self, feed: Union[Feed, str]):\n",
    "        \"\"\"Remove feed from pynewsreader instance\n",
    "\n",
    "        Args:\n",
    "            feed (Union[Feed, str]): Feed to remove\n",
    "        \"\"\"\n",
    "\n",
    "        if isinstance(feed, Feed):\n",
    "            self._reader.delete_feed(feed.url)\n",
    "        elif isinstance(feed, str):\n",
    "            self._reader.delete_feed(feed)\n",
    "        else:\n",
    "            raise Exception(TypeError)\n",
    "\n",
    "    def feeds(self):\n",
    "        \"\"\"List pynewsreader feeds\n",
    "\n",
    "        Returns:\n",
    "            List[str]: List of names of current pynewsreader feeds\n",
    "        \"\"\"\n",
    "        return [self._get_feed_title(i.url) for i in self._reader.get_feeds()]\n",
    "\n",
    "    def update(self):\n",
    "        \"\"\"Update feeds and search\"\"\"\n",
    "        self._reader.update_feeds()\n",
    "        self._reader.update_search()\n",
    "        if len(self._title_blacklist) > 0:\n",
    "            self._mark_matching_entries_as_read(self._title_blacklist)\n",
    "        if len(self._title_whitelist) > 0:\n",
    "            self._mark_matching_entries_as_important(self._title_whitelist)\n",
    "\n",
    "    def show(\n",
    "        self,\n",
    "        limit: int = 6,\n",
    "        read: bool = False,\n",
    "        important: bool = None,\n",
    "        mark_as_read: bool = True,\n",
    "    ):\n",
    "        \"\"\"Pretty print entries\n",
    "\n",
    "        Args:\n",
    "            limit (int, optional): Number of entries to show. Defaults to 5.\n",
    "            read (bool, optional): Show read entries (True), unread entries (False), or all entries (None). Defaults to None.\n",
    "            mark_as_read (bool, optional): Mark displayed entries as read. Defaults to False.\n",
    "        \"\"\"\n",
    "        self._print_entries(\n",
    "            self._get_entries(read=read, important=important, limit=limit * 2),\n",
    "            limit=limit,\n",
    "            mark_as_read=mark_as_read,\n",
    "        )\n",
    "\n",
    "    def search(self, query: str, mark_as_read: bool = True, limit: int = 10):\n",
    "        \"\"\"Search entries and pretty print results\n",
    "\n",
    "        Args:\n",
    "            query (str): Search query\n",
    "            mark_as_read (bool, optional): Mark results as read? Defaults to True.\n",
    "        \"\"\"\n",
    "        self._print_entries(\n",
    "            [self._search_to_entry(i) for i in self._reader.search_entries(query)],\n",
    "            mark_as_read=mark_as_read,\n",
    "            limit=limit,\n",
    "        )"
   ]
  },
  {
   "cell_type": "code",
   "execution_count": null,
   "metadata": {},
   "outputs": [],
   "source": [
    "r = PyNewsReader()"
   ]
  },
  {
   "cell_type": "markdown",
   "metadata": {},
   "source": [
    "## Add Feeds"
   ]
  },
  {
   "cell_type": "code",
   "execution_count": null,
   "metadata": {},
   "outputs": [],
   "source": [
    "# With names\n",
    "for i in [\n",
    "    Feed(url=\"https://ricochet.media/en/feed\", name=\"Richochet Media\"),\n",
    "    Feed(url=\"https://thetyee.ca/rss2.xml\", name=\"The Tyee\"),\n",
    "    Feed(\n",
    "        url=\"https://www.thestar.com/content/thestar/feed.RSSManagerServlet.articles.topstories.rss\",\n",
    "        name=\"Toronto Star | Top Stories\",\n",
    "    ),\n",
    "    Feed(\n",
    "        url=\"https://www.thestar.com/content/thestar/feed.RSSManagerServlet.articles.news.investigations.rss\",\n",
    "        name=\"Toronto Star | Investigations\",\n",
    "    ),\n",
    "    Feed(\n",
    "        url=\"https://www.thestar.com/content/thestar/feed.RSSManagerServlet.articles.opinion.editorials.rss\",\n",
    "        name=\"Toronto Star | Editorials\",\n",
    "    ),\n",
    "    Feed(url=\"https://www.macleans.ca/feed/\", name=\"Macleans\"),\n",
    "]:\n",
    "    r.add_feed(i)\n",
    "\n",
    "# Use the default name from the feed\n",
    "for i in [\n",
    "    \"https://rss.cbc.ca/lineup/topstories.xml\",\n",
    "    \"https://rss.cbc.ca/lineup/world.xml\",\n",
    "    \"https://rss.cbc.ca/lineup/canada.xml\",\n",
    "    \"https://rss.cbc.ca/lineup/business.xml\",\n",
    "    \"https://rss.cbc.ca/lineup/technology.xml\",\n",
    "    \"https://www.cbc.ca/cmlink/rss-canada-ottawa\",\n",
    "    \"https://thenarwhal.ca/feed/\",\n",
    "    \"https://www.theguardian.com/science/rss\",\n",
    "    \"https://www.theguardian.com/world/canada/rss\",\n",
    "]:\n",
    "    r.add_feed(Feed(i))"
   ]
  },
  {
   "cell_type": "markdown",
   "metadata": {},
   "source": [
    "## Update Feeds"
   ]
  },
  {
   "cell_type": "code",
   "execution_count": null,
   "metadata": {},
   "outputs": [],
   "source": [
    "r.update()"
   ]
  },
  {
   "cell_type": "markdown",
   "metadata": {},
   "source": [
    "## List Feeds"
   ]
  },
  {
   "cell_type": "code",
   "execution_count": null,
   "metadata": {},
   "outputs": [
    {
     "data": {
      "text/plain": [
       "['Canada | The Guardian',\n",
       " 'CBC | Business News',\n",
       " 'CBC | Canada News',\n",
       " 'CBC | Ottawa News',\n",
       " 'CBC | Technology News',\n",
       " 'CBC | Top Stories News',\n",
       " 'CBC | World News',\n",
       " 'Macleans',\n",
       " 'Richochet Media',\n",
       " 'Science | The Guardian',\n",
       " 'The Narwhal',\n",
       " 'The Tyee',\n",
       " 'Toronto Star | Investigations',\n",
       " 'Toronto Star | Editorials',\n",
       " 'Toronto Star | Top Stories']"
      ]
     },
     "execution_count": null,
     "metadata": {},
     "output_type": "execute_result"
    }
   ],
   "source": [
    "r.feeds()"
   ]
  },
  {
   "cell_type": "markdown",
   "metadata": {},
   "source": [
    "## Display Entries\n",
    "\n",
    "`read` = None shows all entries\n",
    "\n",
    "`read` = False shows only unread entries\n",
    "\n",
    "`read` = True shows only read entries"
   ]
  },
  {
   "cell_type": "code",
   "execution_count": null,
   "metadata": {},
   "outputs": [
    {
     "data": {
      "text/html": [
       "<pre style=\"white-space:pre;overflow-x:auto;line-height:normal;font-family:Menlo,'DejaVu Sans Mono',consolas,'Courier New',monospace\">╭─────────────────────────────────────────────────── <span style=\"font-weight: bold\">The Tyee</span> ────────────────────────────────────────────────────╮\n",
       "│ Title: <span style=\"font-weight: bold\">Glen Clark Is Open to Running BC Housing (in News)</span>                                                       │\n",
       "│ Date: Unknown                                                                                                   │\n",
       "│                                                                                                                 │\n",
       "│ The former premier left the private sector this week and says he’s offered to help David Eby’s government.      │\n",
       "│                                                                                                                 │\n",
       "╰────────────── <a href=\"https://thetyee.ca/News/2023/01/06/Glen-Clark-Open-BC-Housing-David-Eby-Government/\" target=\"_blank\">https://thetyee.ca/News/2023/01/06/Glen-Clark-Open-BC-Housing-David-Eby-Government/</a> ──────────────╯\n",
       "</pre>\n"
      ],
      "text/plain": [
       "╭─────────────────────────────────────────────────── \u001b[1mThe Tyee\u001b[0m ────────────────────────────────────────────────────╮\n",
       "│ Title: \u001b[1mGlen Clark Is Open to Running BC Housing (in News)\u001b[0m                                                       │\n",
       "│ Date: Unknown                                                                                                   │\n",
       "│                                                                                                                 │\n",
       "│ The former premier left the private sector this week and says he’s offered to help David Eby’s government.      │\n",
       "│                                                                                                                 │\n",
       "╰────────────── \u001b]8;id=686604;https://thetyee.ca/News/2023/01/06/Glen-Clark-Open-BC-Housing-David-Eby-Government/\u001b\\https://thetyee.ca/News/2023/01/06/Glen-Clark-Open-BC-Housing-David-Eby-Government/\u001b]8;;\u001b\\ ──────────────╯\n"
      ]
     },
     "metadata": {},
     "output_type": "display_data"
    },
    {
     "data": {
      "text/html": [
       "<pre style=\"white-space:pre;overflow-x:auto;line-height:normal;font-family:Menlo,'DejaVu Sans Mono',consolas,'Courier New',monospace\">\n",
       "</pre>\n"
      ],
      "text/plain": [
       "\n"
      ]
     },
     "metadata": {},
     "output_type": "display_data"
    },
    {
     "data": {
      "text/html": [
       "<pre style=\"white-space:pre;overflow-x:auto;line-height:normal;font-family:Menlo,'DejaVu Sans Mono',consolas,'Courier New',monospace\">╭─────────────────────────────────────────────────── <span style=\"font-weight: bold\">The Tyee</span> ────────────────────────────────────────────────────╮\n",
       "│ Title: <span style=\"font-weight: bold\">What Canadian Cities Can Learn from My 'Intense' Mumbai Neighbourhood (in Opinion)</span>                       │\n",
       "│ Date: Unknown                                                                                                   │\n",
       "│                                                                                                                 │\n",
       "│ Diversity, connection and a car-free life come when all the things you need, from fresh meals to doctors, are   │\n",
       "│ steps away from your home.                                                                                      │\n",
       "│                                                                                                                 │\n",
       "╰─────────── <a href=\"https://thetyee.ca/Opinion/2023/01/06/Canadian-Cities-Learn-Intense-Mumbai-Neighbourhood/\" target=\"_blank\">https://thetyee.ca/Opinion/2023/01/06/Canadian-Cities-Learn-Intense-Mumbai-Neighbourhood/</a> ───────────╯\n",
       "</pre>\n"
      ],
      "text/plain": [
       "╭─────────────────────────────────────────────────── \u001b[1mThe Tyee\u001b[0m ────────────────────────────────────────────────────╮\n",
       "│ Title: \u001b[1mWhat Canadian Cities Can Learn from My 'Intense' Mumbai Neighbourhood (in Opinion)\u001b[0m                       │\n",
       "│ Date: Unknown                                                                                                   │\n",
       "│                                                                                                                 │\n",
       "│ Diversity, connection and a car-free life come when all the things you need, from fresh meals to doctors, are   │\n",
       "│ steps away from your home.                                                                                      │\n",
       "│                                                                                                                 │\n",
       "╰─────────── \u001b]8;id=771542;https://thetyee.ca/Opinion/2023/01/06/Canadian-Cities-Learn-Intense-Mumbai-Neighbourhood/\u001b\\https://thetyee.ca/Opinion/2023/01/06/Canadian-Cities-Learn-Intense-Mumbai-Neighbourhood/\u001b]8;;\u001b\\ ───────────╯\n"
      ]
     },
     "metadata": {},
     "output_type": "display_data"
    },
    {
     "data": {
      "text/html": [
       "<pre style=\"white-space:pre;overflow-x:auto;line-height:normal;font-family:Menlo,'DejaVu Sans Mono',consolas,'Courier New',monospace\">\n",
       "</pre>\n"
      ],
      "text/plain": [
       "\n"
      ]
     },
     "metadata": {},
     "output_type": "display_data"
    },
    {
     "data": {
      "text/html": [
       "<pre style=\"white-space:pre;overflow-x:auto;line-height:normal;font-family:Menlo,'DejaVu Sans Mono',consolas,'Courier New',monospace\">╭─────────────────────────────────────────────────── <span style=\"font-weight: bold\">The Tyee</span> ────────────────────────────────────────────────────╮\n",
       "│ Title: <span style=\"font-weight: bold\">BC Labour Board Rules Workers Can’t Refuse to Cross Some Picket Lines (in News)</span>                          │\n",
       "│ Date: Unknown                                                                                                   │\n",
       "│                                                                                                                 │\n",
       "│ The precedent-setting decision affects strikes by federally regulated employees in the province.                │\n",
       "│                                                                                                                 │\n",
       "╰───────────── <a href=\"https://thetyee.ca/News/2023/01/06/BC-Labour-Board-Rules-Workers-Refuse-Picket-Lines/\" target=\"_blank\">https://thetyee.ca/News/2023/01/06/BC-Labour-Board-Rules-Workers-Refuse-Picket-Lines/</a> ─────────────╯\n",
       "</pre>\n"
      ],
      "text/plain": [
       "╭─────────────────────────────────────────────────── \u001b[1mThe Tyee\u001b[0m ────────────────────────────────────────────────────╮\n",
       "│ Title: \u001b[1mBC Labour Board Rules Workers Can’t Refuse to Cross Some Picket Lines (in News)\u001b[0m                          │\n",
       "│ Date: Unknown                                                                                                   │\n",
       "│                                                                                                                 │\n",
       "│ The precedent-setting decision affects strikes by federally regulated employees in the province.                │\n",
       "│                                                                                                                 │\n",
       "╰───────────── \u001b]8;id=273607;https://thetyee.ca/News/2023/01/06/BC-Labour-Board-Rules-Workers-Refuse-Picket-Lines/\u001b\\https://thetyee.ca/News/2023/01/06/BC-Labour-Board-Rules-Workers-Refuse-Picket-Lines/\u001b]8;;\u001b\\ ─────────────╯\n"
      ]
     },
     "metadata": {},
     "output_type": "display_data"
    },
    {
     "data": {
      "text/html": [
       "<pre style=\"white-space:pre;overflow-x:auto;line-height:normal;font-family:Menlo,'DejaVu Sans Mono',consolas,'Courier New',monospace\">\n",
       "</pre>\n"
      ],
      "text/plain": [
       "\n"
      ]
     },
     "metadata": {},
     "output_type": "display_data"
    },
    {
     "data": {
      "text/html": [
       "<pre style=\"white-space:pre;overflow-x:auto;line-height:normal;font-family:Menlo,'DejaVu Sans Mono',consolas,'Courier New',monospace\">╭─────────────────────────────────────────────────── <span style=\"font-weight: bold\">The Tyee</span> ────────────────────────────────────────────────────╮\n",
       "│ Title: <span style=\"font-weight: bold\">Telus Health Gets More Time in Extra-Billing Case (in News)</span>                                              │\n",
       "│ Date: Unknown                                                                                                   │\n",
       "│                                                                                                                 │\n",
       "│ The province is seeking an injunction to stop the corporation from charging patients for access to primary      │\n",
       "│ care.                                                                                                           │\n",
       "│                                                                                                                 │\n",
       "╰────────────────────── <a href=\"https://thetyee.ca/News/2023/01/06/Telus-Health-Extra-Billing-Case/\" target=\"_blank\">https://thetyee.ca/News/2023/01/06/Telus-Health-Extra-Billing-Case/</a> ──────────────────────╯\n",
       "</pre>\n"
      ],
      "text/plain": [
       "╭─────────────────────────────────────────────────── \u001b[1mThe Tyee\u001b[0m ────────────────────────────────────────────────────╮\n",
       "│ Title: \u001b[1mTelus Health Gets More Time in Extra-Billing Case (in News)\u001b[0m                                              │\n",
       "│ Date: Unknown                                                                                                   │\n",
       "│                                                                                                                 │\n",
       "│ The province is seeking an injunction to stop the corporation from charging patients for access to primary      │\n",
       "│ care.                                                                                                           │\n",
       "│                                                                                                                 │\n",
       "╰────────────────────── \u001b]8;id=244852;https://thetyee.ca/News/2023/01/06/Telus-Health-Extra-Billing-Case/\u001b\\https://thetyee.ca/News/2023/01/06/Telus-Health-Extra-Billing-Case/\u001b]8;;\u001b\\ ──────────────────────╯\n"
      ]
     },
     "metadata": {},
     "output_type": "display_data"
    },
    {
     "data": {
      "text/html": [
       "<pre style=\"white-space:pre;overflow-x:auto;line-height:normal;font-family:Menlo,'DejaVu Sans Mono',consolas,'Courier New',monospace\">\n",
       "</pre>\n"
      ],
      "text/plain": [
       "\n"
      ]
     },
     "metadata": {},
     "output_type": "display_data"
    },
    {
     "data": {
      "text/html": [
       "<pre style=\"white-space:pre;overflow-x:auto;line-height:normal;font-family:Menlo,'DejaVu Sans Mono',consolas,'Courier New',monospace\">╭─────────────────────────────────────────────────── <span style=\"font-weight: bold\">The Tyee</span> ────────────────────────────────────────────────────╮\n",
       "│ Title: <span style=\"font-weight: bold\">What Canada Needs to Understand about Albertans (in Analysis)</span>                                            │\n",
       "│ Date: Unknown                                                                                                   │\n",
       "│                                                                                                                 │\n",
       "│ Behind our charged politics are valid resentments. Here’s how we can have a productive conversation.            │\n",
       "│                                                                                                                 │\n",
       "╰──────────────── <a href=\"https://thetyee.ca/Analysis/2023/01/05/What-Canada-Needs-Understand-Albertans/\" target=\"_blank\">https://thetyee.ca/Analysis/2023/01/05/What-Canada-Needs-Understand-Albertans/</a> ─────────────────╯\n",
       "</pre>\n"
      ],
      "text/plain": [
       "╭─────────────────────────────────────────────────── \u001b[1mThe Tyee\u001b[0m ────────────────────────────────────────────────────╮\n",
       "│ Title: \u001b[1mWhat Canada Needs to Understand about Albertans (in Analysis)\u001b[0m                                            │\n",
       "│ Date: Unknown                                                                                                   │\n",
       "│                                                                                                                 │\n",
       "│ Behind our charged politics are valid resentments. Here’s how we can have a productive conversation.            │\n",
       "│                                                                                                                 │\n",
       "╰──────────────── \u001b]8;id=845160;https://thetyee.ca/Analysis/2023/01/05/What-Canada-Needs-Understand-Albertans/\u001b\\https://thetyee.ca/Analysis/2023/01/05/What-Canada-Needs-Understand-Albertans/\u001b]8;;\u001b\\ ─────────────────╯\n"
      ]
     },
     "metadata": {},
     "output_type": "display_data"
    },
    {
     "data": {
      "text/html": [
       "<pre style=\"white-space:pre;overflow-x:auto;line-height:normal;font-family:Menlo,'DejaVu Sans Mono',consolas,'Courier New',monospace\">\n",
       "</pre>\n"
      ],
      "text/plain": [
       "\n"
      ]
     },
     "metadata": {},
     "output_type": "display_data"
    }
   ],
   "source": [
    "r.show(limit=5, read=None, mark_as_read=False)"
   ]
  },
  {
   "cell_type": "markdown",
   "metadata": {},
   "source": [
    "## Search Entries"
   ]
  },
  {
   "cell_type": "code",
   "execution_count": null,
   "metadata": {},
   "outputs": [
    {
     "data": {
      "text/html": [
       "<pre style=\"white-space:pre;overflow-x:auto;line-height:normal;font-family:Menlo,'DejaVu Sans Mono',consolas,'Courier New',monospace\">╭────────────────────────────────────────────── <span style=\"font-weight: bold\">CBC | Business News</span> ──────────────────────────────────────────────╮\n",
       "│ Title: <span style=\"font-weight: bold\">High office vacancy rates spell continuing trouble for shops dependent on worker foot traffic</span>            │\n",
       "│ Date: 2022-12-22                                                                                                │\n",
       "│                                                                                                                 │\n",
       "│ Businesses that depend on the flow of office workers are struggling as vacancy rates in office towers across    │\n",
       "│ Canada continue to rise. Vancouver's office tower vacancy rate has tripled since 2019, while Montreal's has     │\n",
       "│ doubled.                                                                                                        │\n",
       "│                                                                                                                 │\n",
       "╰────────── <a href=\"https://www.cbc.ca/news/business/office-vacancy-rates-businesses-struggle-1.6692360?cmp=rss\" target=\"_blank\">https://www.cbc.ca/news/business/office-vacancy-rates-businesses-struggle-1.6692360?cmp=rss</a> ──────────╯\n",
       "</pre>\n"
      ],
      "text/plain": [
       "╭────────────────────────────────────────────── \u001b[1mCBC | Business News\u001b[0m ──────────────────────────────────────────────╮\n",
       "│ Title: \u001b[1mHigh office vacancy rates spell continuing trouble for shops dependent on worker foot traffic\u001b[0m            │\n",
       "│ Date: 2022-12-22                                                                                                │\n",
       "│                                                                                                                 │\n",
       "│ Businesses that depend on the flow of office workers are struggling as vacancy rates in office towers across    │\n",
       "│ Canada continue to rise. Vancouver's office tower vacancy rate has tripled since 2019, while Montreal's has     │\n",
       "│ doubled.                                                                                                        │\n",
       "│                                                                                                                 │\n",
       "╰────────── \u001b]8;id=40257;https://www.cbc.ca/news/business/office-vacancy-rates-businesses-struggle-1.6692360?cmp=rss\u001b\\https://www.cbc.ca/news/business/office-vacancy-rates-businesses-struggle-1.6692360?cmp=rss\u001b]8;;\u001b\\ ──────────╯\n"
      ]
     },
     "metadata": {},
     "output_type": "display_data"
    },
    {
     "data": {
      "text/html": [
       "<pre style=\"white-space:pre;overflow-x:auto;line-height:normal;font-family:Menlo,'DejaVu Sans Mono',consolas,'Courier New',monospace\">\n",
       "</pre>\n"
      ],
      "text/plain": [
       "\n"
      ]
     },
     "metadata": {},
     "output_type": "display_data"
    },
    {
     "data": {
      "text/html": [
       "<pre style=\"white-space:pre;overflow-x:auto;line-height:normal;font-family:Menlo,'DejaVu Sans Mono',consolas,'Courier New',monospace\">╭────────────────────────────────────────────── <span style=\"font-weight: bold\">CBC | Business News</span> ──────────────────────────────────────────────╮\n",
       "│ Title: <span style=\"font-weight: bold\">Official inflation rate cools to 6.8% — but just about everything except gasoline keeps getting more </span>    │\n",
       "│ <span style=\"font-weight: bold\">expensive</span>                                                                                                       │\n",
       "│ Date: 2022-12-21                                                                                                │\n",
       "│                                                                                                                 │\n",
       "│ Canada's inflation rate cooled to 6.8 per cent last month as prices for gasoline and furniture went down, but   │\n",
       "│ the cost of food and rent went up.                                                                              │\n",
       "│                                                                                                                 │\n",
       "╰────────────────────── <a href=\"https://www.cbc.ca/news/business/inflation-canada-1.6693441?cmp=rss\" target=\"_blank\">https://www.cbc.ca/news/business/inflation-canada-1.6693441?cmp=rss</a> ──────────────────────╯\n",
       "</pre>\n"
      ],
      "text/plain": [
       "╭────────────────────────────────────────────── \u001b[1mCBC | Business News\u001b[0m ──────────────────────────────────────────────╮\n",
       "│ Title: \u001b[1mOfficial inflation rate cools to 6.8% — but just about everything except gasoline keeps getting more \u001b[0m    │\n",
       "│ \u001b[1mexpensive\u001b[0m                                                                                                       │\n",
       "│ Date: 2022-12-21                                                                                                │\n",
       "│                                                                                                                 │\n",
       "│ Canada's inflation rate cooled to 6.8 per cent last month as prices for gasoline and furniture went down, but   │\n",
       "│ the cost of food and rent went up.                                                                              │\n",
       "│                                                                                                                 │\n",
       "╰────────────────────── \u001b]8;id=35479;https://www.cbc.ca/news/business/inflation-canada-1.6693441?cmp=rss\u001b\\https://www.cbc.ca/news/business/inflation-canada-1.6693441?cmp=rss\u001b]8;;\u001b\\ ──────────────────────╯\n"
      ]
     },
     "metadata": {},
     "output_type": "display_data"
    },
    {
     "data": {
      "text/html": [
       "<pre style=\"white-space:pre;overflow-x:auto;line-height:normal;font-family:Menlo,'DejaVu Sans Mono',consolas,'Courier New',monospace\">\n",
       "</pre>\n"
      ],
      "text/plain": [
       "\n"
      ]
     },
     "metadata": {},
     "output_type": "display_data"
    },
    {
     "data": {
      "text/html": [
       "<pre style=\"white-space:pre;overflow-x:auto;line-height:normal;font-family:Menlo,'DejaVu Sans Mono',consolas,'Courier New',monospace\">╭────────────────────────────────────────── <span style=\"font-weight: bold\">Toronto Star | Top Stories</span> ───────────────────────────────────────────╮\n",
       "│ Title: <span style=\"font-weight: bold\">‘It’s choking me’: This homeowner’s mortgage payments have shot up by more than $1,000 a month. What </span>    │\n",
       "│ <span style=\"font-weight: bold\">should he do?</span>                                                                                                   │\n",
       "│ Date: 2022-12-30                                                                                                │\n",
       "│                                                                                                                 │\n",
       "│ ‘I was naive. I’ve never experienced rate hikes like this before,’ homeowner says, adding he plans to switch to │\n",
       "│ a five-year fixed rate.                                                                                         │\n",
       "│                                                                                                                 │\n",
       "╰─ <a href=\"https://www.thestar.com/business/personal_finance/2022/12/30/the-last-thing-you-want-to-do-it-sell-your-home-as-variable-mortgages-rates-go-up-cutting-back-significantly-on-expenses-is-required-short-term-experts-say.html\" target=\"_blank\">https://www.thestar.com/business/personal_finance/2022/12/30/the-last-thing-you-want-to-do-it-sell-your-home-a</a>─╯\n",
       "</pre>\n"
      ],
      "text/plain": [
       "╭────────────────────────────────────────── \u001b[1mToronto Star | Top Stories\u001b[0m ───────────────────────────────────────────╮\n",
       "│ Title: \u001b[1m‘It’s choking me’: This homeowner’s mortgage payments have shot up by more than $1,000 a month. What \u001b[0m    │\n",
       "│ \u001b[1mshould he do?\u001b[0m                                                                                                   │\n",
       "│ Date: 2022-12-30                                                                                                │\n",
       "│                                                                                                                 │\n",
       "│ ‘I was naive. I’ve never experienced rate hikes like this before,’ homeowner says, adding he plans to switch to │\n",
       "│ a five-year fixed rate.                                                                                         │\n",
       "│                                                                                                                 │\n",
       "╰─ \u001b]8;id=906563;https://www.thestar.com/business/personal_finance/2022/12/30/the-last-thing-you-want-to-do-it-sell-your-home-as-variable-mortgages-rates-go-up-cutting-back-significantly-on-expenses-is-required-short-term-experts-say.html\u001b\\https://www.thestar.com/business/personal_finance/2022/12/30/the-last-thing-you-want-to-do-it-sell-your-home-a\u001b]8;;\u001b\\─╯\n"
      ]
     },
     "metadata": {},
     "output_type": "display_data"
    },
    {
     "data": {
      "text/html": [
       "<pre style=\"white-space:pre;overflow-x:auto;line-height:normal;font-family:Menlo,'DejaVu Sans Mono',consolas,'Courier New',monospace\">\n",
       "</pre>\n"
      ],
      "text/plain": [
       "\n"
      ]
     },
     "metadata": {},
     "output_type": "display_data"
    },
    {
     "data": {
      "text/html": [
       "<pre style=\"white-space:pre;overflow-x:auto;line-height:normal;font-family:Menlo,'DejaVu Sans Mono',consolas,'Courier New',monospace\">╭────────────────────────────────────────────── <span style=\"font-weight: bold\">CBC | Business News</span> ──────────────────────────────────────────────╮\n",
       "│ Title: <span style=\"font-weight: bold\">Canada's economy added 104,000 jobs in December, blowing well past expectations</span>                          │\n",
       "│ Date: 2023-01-06                                                                                                │\n",
       "│                                                                                                                 │\n",
       "│ Canada's economy added 104,000 jobs in December as the unemployment rate fell slightly to 5.0 per cent,         │\n",
       "│ Statistics Canada said Friday. But the gain wasn't reflected in working hours, and a hot labour market could    │\n",
       "│ mean another rate hike from the central bank in January.                                                        │\n",
       "│                                                                                                                 │\n",
       "╰──────────────────── <a href=\"https://www.cbc.ca/news/business/canada-jobs-december-1.6705569?cmp=rss\" target=\"_blank\">https://www.cbc.ca/news/business/canada-jobs-december-1.6705569?cmp=rss</a> ────────────────────╯\n",
       "</pre>\n"
      ],
      "text/plain": [
       "╭────────────────────────────────────────────── \u001b[1mCBC | Business News\u001b[0m ──────────────────────────────────────────────╮\n",
       "│ Title: \u001b[1mCanada's economy added 104,000 jobs in December, blowing well past expectations\u001b[0m                          │\n",
       "│ Date: 2023-01-06                                                                                                │\n",
       "│                                                                                                                 │\n",
       "│ Canada's economy added 104,000 jobs in December as the unemployment rate fell slightly to 5.0 per cent,         │\n",
       "│ Statistics Canada said Friday. But the gain wasn't reflected in working hours, and a hot labour market could    │\n",
       "│ mean another rate hike from the central bank in January.                                                        │\n",
       "│                                                                                                                 │\n",
       "╰──────────────────── \u001b]8;id=883438;https://www.cbc.ca/news/business/canada-jobs-december-1.6705569?cmp=rss\u001b\\https://www.cbc.ca/news/business/canada-jobs-december-1.6705569?cmp=rss\u001b]8;;\u001b\\ ────────────────────╯\n"
      ]
     },
     "metadata": {},
     "output_type": "display_data"
    },
    {
     "data": {
      "text/html": [
       "<pre style=\"white-space:pre;overflow-x:auto;line-height:normal;font-family:Menlo,'DejaVu Sans Mono',consolas,'Courier New',monospace\">\n",
       "</pre>\n"
      ],
      "text/plain": [
       "\n"
      ]
     },
     "metadata": {},
     "output_type": "display_data"
    },
    {
     "data": {
      "text/html": [
       "<pre style=\"white-space:pre;overflow-x:auto;line-height:normal;font-family:Menlo,'DejaVu Sans Mono',consolas,'Courier New',monospace\">╭───────────────────────────────────────────────── <span style=\"font-weight: bold\">The Guardian</span> ──────────────────────────────────────────────────╮\n",
       "│ Title: <span style=\"font-weight: bold\">We are ignoring Covid case rises once again | Letters</span>                                                    │\n",
       "│ Date: 2022-12-29                                                                                                │\n",
       "│                                                                                                                 │\n",
       "│ The decision to stop reporting the Covid growth rate is the latest in a series of attempts to limit the         │\n",
       "│ available information about the current spread, writes Dr Brian Ramsden, while Susan Treagus has been keeping a │\n",
       "│ Covid diaryWith a predictable adherence to the principle of burying bad news, the government’s UK Health        │\n",
       "│ Security Agency announced on the Friday before Christmas that it is now ceasing to publish the reproduction     │\n",
       "│ number – the R value – and the growth rate for Covid-19 in the UK (UK to stop publishing Covid modelling data,  │\n",
       "│ 25 December).This decision was taken at a time when the R value and the growth rate both show that the          │\n",
       "│ prevalence of Covid is increasing in the UK. This is just the latest in a series of attempts to minimise the    │\n",
       "│ availability of information about Covid. Data about tests is virtually nonexistent, because tests are no longer │\n",
       "│ freely available; contact tracing has ceased; and daily reporting of infections stopped when people were told   │\n",
       "│ there was no longer a need to use masks or to self-isolate. Continue reading...                                 │\n",
       "│                                                                                                                 │\n",
       "╰─────────── <a href=\"https://www.theguardian.com/world/2022/dec/29/we-are-ignoring-covid-case-rises-once-again\" target=\"_blank\">https://www.theguardian.com/world/2022/dec/29/we-are-ignoring-covid-case-rises-once-again</a> ───────────╯\n",
       "</pre>\n"
      ],
      "text/plain": [
       "╭───────────────────────────────────────────────── \u001b[1mThe Guardian\u001b[0m ──────────────────────────────────────────────────╮\n",
       "│ Title: \u001b[1mWe are ignoring Covid case rises once again | Letters\u001b[0m                                                    │\n",
       "│ Date: 2022-12-29                                                                                                │\n",
       "│                                                                                                                 │\n",
       "│ The decision to stop reporting the Covid growth rate is the latest in a series of attempts to limit the         │\n",
       "│ available information about the current spread, writes Dr Brian Ramsden, while Susan Treagus has been keeping a │\n",
       "│ Covid diaryWith a predictable adherence to the principle of burying bad news, the government’s UK Health        │\n",
       "│ Security Agency announced on the Friday before Christmas that it is now ceasing to publish the reproduction     │\n",
       "│ number – the R value – and the growth rate for Covid-19 in the UK (UK to stop publishing Covid modelling data,  │\n",
       "│ 25 December).This decision was taken at a time when the R value and the growth rate both show that the          │\n",
       "│ prevalence of Covid is increasing in the UK. This is just the latest in a series of attempts to minimise the    │\n",
       "│ availability of information about Covid. Data about tests is virtually nonexistent, because tests are no longer │\n",
       "│ freely available; contact tracing has ceased; and daily reporting of infections stopped when people were told   │\n",
       "│ there was no longer a need to use masks or to self-isolate. Continue reading...                                 │\n",
       "│                                                                                                                 │\n",
       "╰─────────── \u001b]8;id=860048;https://www.theguardian.com/world/2022/dec/29/we-are-ignoring-covid-case-rises-once-again\u001b\\https://www.theguardian.com/world/2022/dec/29/we-are-ignoring-covid-case-rises-once-again\u001b]8;;\u001b\\ ───────────╯\n"
      ]
     },
     "metadata": {},
     "output_type": "display_data"
    },
    {
     "data": {
      "text/html": [
       "<pre style=\"white-space:pre;overflow-x:auto;line-height:normal;font-family:Menlo,'DejaVu Sans Mono',consolas,'Courier New',monospace\">\n",
       "</pre>\n"
      ],
      "text/plain": [
       "\n"
      ]
     },
     "metadata": {},
     "output_type": "display_data"
    },
    {
     "data": {
      "text/html": [
       "<pre style=\"white-space:pre;overflow-x:auto;line-height:normal;font-family:Menlo,'DejaVu Sans Mono',consolas,'Courier New',monospace\">╭───────────────────────────────────────────────── <span style=\"font-weight: bold\">The Guardian</span> ──────────────────────────────────────────────────╮\n",
       "│ Title: <span style=\"font-weight: bold\">Inflation, tech plunge and ‘crypto winter’: global stock markets in 2022</span>                                 │\n",
       "│ Date: 2022-12-30                                                                                                │\n",
       "│                                                                                                                 │\n",
       "│ Shares tumble and government bonds hammered by central banks’ interest rate risesFTSE 100 ends 2022 slightly up │\n",
       "│ despite global turmoilInvestors are reeling from the worst year in global financial markets since the 2008      │\n",
       "│ financial crisis, as inflation forced central banks around the world to raise interest rates and put an end to  │\n",
       "│ the supply of cheap money that has fuelled a golden decade for investors.Global stocks have lost about a fifth  │\n",
       "│ of their value during the last year, as the “everything bubble” that inflated during the Covid-19 pandemic      │\n",
       "│ burst, sending tech shares and crypto assets tumbling. Continue reading...                                      │\n",
       "│                                                                                                                 │\n",
       "╰─ <a href=\"https://www.theguardian.com/business/2022/dec/30/inflation-tech-plunge-crypto-global-stock-markets-2022-shares-bonds-interest-rates\" target=\"_blank\">https://www.theguardian.com/business/2022/dec/30/inflation-tech-plunge-crypto-global-stock-markets-2022-shares</a>─╯\n",
       "</pre>\n"
      ],
      "text/plain": [
       "╭───────────────────────────────────────────────── \u001b[1mThe Guardian\u001b[0m ──────────────────────────────────────────────────╮\n",
       "│ Title: \u001b[1mInflation, tech plunge and ‘crypto winter’: global stock markets in 2022\u001b[0m                                 │\n",
       "│ Date: 2022-12-30                                                                                                │\n",
       "│                                                                                                                 │\n",
       "│ Shares tumble and government bonds hammered by central banks’ interest rate risesFTSE 100 ends 2022 slightly up │\n",
       "│ despite global turmoilInvestors are reeling from the worst year in global financial markets since the 2008      │\n",
       "│ financial crisis, as inflation forced central banks around the world to raise interest rates and put an end to  │\n",
       "│ the supply of cheap money that has fuelled a golden decade for investors.Global stocks have lost about a fifth  │\n",
       "│ of their value during the last year, as the “everything bubble” that inflated during the Covid-19 pandemic      │\n",
       "│ burst, sending tech shares and crypto assets tumbling. Continue reading...                                      │\n",
       "│                                                                                                                 │\n",
       "╰─ \u001b]8;id=91454;https://www.theguardian.com/business/2022/dec/30/inflation-tech-plunge-crypto-global-stock-markets-2022-shares-bonds-interest-rates\u001b\\https://www.theguardian.com/business/2022/dec/30/inflation-tech-plunge-crypto-global-stock-markets-2022-shares\u001b]8;;\u001b\\─╯\n"
      ]
     },
     "metadata": {},
     "output_type": "display_data"
    },
    {
     "data": {
      "text/html": [
       "<pre style=\"white-space:pre;overflow-x:auto;line-height:normal;font-family:Menlo,'DejaVu Sans Mono',consolas,'Courier New',monospace\">\n",
       "</pre>\n"
      ],
      "text/plain": [
       "\n"
      ]
     },
     "metadata": {},
     "output_type": "display_data"
    },
    {
     "data": {
      "text/html": [
       "<pre style=\"white-space:pre;overflow-x:auto;line-height:normal;font-family:Menlo,'DejaVu Sans Mono',consolas,'Courier New',monospace\">╭───────────────────────────────────────── <span style=\"font-weight: bold\">Toronto Star | Investigations</span> ─────────────────────────────────────────╮\n",
       "│ Title: <span style=\"font-weight: bold\">Toronto parents less likely to see reduced daycare fees than almost anywhere else in Ontario</span>             │\n",
       "│ Date: 2022-12-22                                                                                                │\n",
       "│                                                                                                                 │\n",
       "│ For-profit daycares opted out of $10/day child care program at much higher rate than non-profits, a Star        │\n",
       "│ analysis found.                                                                                                 │\n",
       "│                                                                                                                 │\n",
       "╰─ <a href=\"https://www.thestar.com/news/investigations/2022/12/22/toronto-parents-less-likely-to-see-reduced-daycare-fees-than-almost-anywhere-else-in-ontario.html\" target=\"_blank\">https://www.thestar.com/news/investigations/2022/12/22/toronto-parents-less-likely-to-see-reduced-daycare-fees</a>─╯\n",
       "</pre>\n"
      ],
      "text/plain": [
       "╭───────────────────────────────────────── \u001b[1mToronto Star | Investigations\u001b[0m ─────────────────────────────────────────╮\n",
       "│ Title: \u001b[1mToronto parents less likely to see reduced daycare fees than almost anywhere else in Ontario\u001b[0m             │\n",
       "│ Date: 2022-12-22                                                                                                │\n",
       "│                                                                                                                 │\n",
       "│ For-profit daycares opted out of $10/day child care program at much higher rate than non-profits, a Star        │\n",
       "│ analysis found.                                                                                                 │\n",
       "│                                                                                                                 │\n",
       "╰─ \u001b]8;id=131531;https://www.thestar.com/news/investigations/2022/12/22/toronto-parents-less-likely-to-see-reduced-daycare-fees-than-almost-anywhere-else-in-ontario.html\u001b\\https://www.thestar.com/news/investigations/2022/12/22/toronto-parents-less-likely-to-see-reduced-daycare-fees\u001b]8;;\u001b\\─╯\n"
      ]
     },
     "metadata": {},
     "output_type": "display_data"
    },
    {
     "data": {
      "text/html": [
       "<pre style=\"white-space:pre;overflow-x:auto;line-height:normal;font-family:Menlo,'DejaVu Sans Mono',consolas,'Courier New',monospace\">\n",
       "</pre>\n"
      ],
      "text/plain": [
       "\n"
      ]
     },
     "metadata": {},
     "output_type": "display_data"
    },
    {
     "data": {
      "text/html": [
       "<pre style=\"white-space:pre;overflow-x:auto;line-height:normal;font-family:Menlo,'DejaVu Sans Mono',consolas,'Courier New',monospace\">╭───────────────────────────────────────────────── <span style=\"font-weight: bold\">The Guardian</span> ──────────────────────────────────────────────────╮\n",
       "│ Title: <span style=\"font-weight: bold\">UK inflation will fall in 2023 but energy bills and taxes will rise as house prices drop. Happy new year</span> │\n",
       "│ <span style=\"font-weight: bold\">| Larry Elliott</span>                                                                                                 │\n",
       "│ Date: 2023-01-01                                                                                                │\n",
       "│                                                                                                                 │\n",
       "│ Britain’s recession, however, will be relatively mild, although such forecasting is a mug’s gameWar in Europe.  │\n",
       "│ Political turmoil. A stagnant economy. Soaring energy bills. The highest inflation rate in more than four       │\n",
       "│ decades. Higher interest rates. That was the story of 2022. Truly, the year just gone was – in the words of the │\n",
       "│ late queen – an annus horribilis.So 2023 will have to go some to match its predecessor for drama. The bookies   │\n",
       "│ would, for example, give you relatively long odds on it being another year of three prime ministers and four    │\n",
       "│ chancellors of the exchequer. Continue reading...                                                               │\n",
       "│                                                                                                                 │\n",
       "╰─ <a href=\"https://www.theguardian.com/business/2023/jan/01/uk-inflation-energy-bills-taxes-house-prices-happy-new-year\" target=\"_blank\">https://www.theguardian.com/business/2023/jan/01/uk-inflation-energy-bills-taxes-house-prices-happy-new-year</a> ──╯\n",
       "</pre>\n"
      ],
      "text/plain": [
       "╭───────────────────────────────────────────────── \u001b[1mThe Guardian\u001b[0m ──────────────────────────────────────────────────╮\n",
       "│ Title: \u001b[1mUK inflation will fall in 2023 but energy bills and taxes will rise as house prices drop. Happy new year\u001b[0m │\n",
       "│ \u001b[1m| Larry Elliott\u001b[0m                                                                                                 │\n",
       "│ Date: 2023-01-01                                                                                                │\n",
       "│                                                                                                                 │\n",
       "│ Britain’s recession, however, will be relatively mild, although such forecasting is a mug’s gameWar in Europe.  │\n",
       "│ Political turmoil. A stagnant economy. Soaring energy bills. The highest inflation rate in more than four       │\n",
       "│ decades. Higher interest rates. That was the story of 2022. Truly, the year just gone was – in the words of the │\n",
       "│ late queen – an annus horribilis.So 2023 will have to go some to match its predecessor for drama. The bookies   │\n",
       "│ would, for example, give you relatively long odds on it being another year of three prime ministers and four    │\n",
       "│ chancellors of the exchequer. Continue reading...                                                               │\n",
       "│                                                                                                                 │\n",
       "╰─ \u001b]8;id=277481;https://www.theguardian.com/business/2023/jan/01/uk-inflation-energy-bills-taxes-house-prices-happy-new-year\u001b\\https://www.theguardian.com/business/2023/jan/01/uk-inflation-energy-bills-taxes-house-prices-happy-new-year\u001b]8;;\u001b\\ ──╯\n"
      ]
     },
     "metadata": {},
     "output_type": "display_data"
    },
    {
     "data": {
      "text/html": [
       "<pre style=\"white-space:pre;overflow-x:auto;line-height:normal;font-family:Menlo,'DejaVu Sans Mono',consolas,'Courier New',monospace\">\n",
       "</pre>\n"
      ],
      "text/plain": [
       "\n"
      ]
     },
     "metadata": {},
     "output_type": "display_data"
    },
    {
     "data": {
      "text/html": [
       "<pre style=\"white-space:pre;overflow-x:auto;line-height:normal;font-family:Menlo,'DejaVu Sans Mono',consolas,'Courier New',monospace\">╭──────────────────────────────────────────── <span style=\"font-weight: bold\">Science | The Guardian</span> ─────────────────────────────────────────────╮\n",
       "│ Title: <span style=\"font-weight: bold\">UK to stop publishing Covid modelling data</span>                                                               │\n",
       "│ Date: 2022-12-25                                                                                                │\n",
       "│                                                                                                                 │\n",
       "│ R range and growth rate, which during the height of the pandemic was published weekly in England, deemed ‘no    │\n",
       "│ longer necessary’The UK Health Security Agency will stop publishing modelling data on coronavirus in early      │\n",
       "│ January.The chief data scientist, Dr Nick Watkins, said the publication of this specific data is “no longer     │\n",
       "│ necessary” as the country is living with Covid thanks to vaccines and therapeutics. Continue reading...         │\n",
       "│                                                                                                                 │\n",
       "╰─────────── <a href=\"https://www.theguardian.com/world/2022/dec/25/uk-to-stop-publishing-covid-modelling-data\" target=\"_blank\">https://www.theguardian.com/world/2022/dec/25/uk-to-stop-publishing-covid-modelling-data</a> ────────────╯\n",
       "</pre>\n"
      ],
      "text/plain": [
       "╭──────────────────────────────────────────── \u001b[1mScience | The Guardian\u001b[0m ─────────────────────────────────────────────╮\n",
       "│ Title: \u001b[1mUK to stop publishing Covid modelling data\u001b[0m                                                               │\n",
       "│ Date: 2022-12-25                                                                                                │\n",
       "│                                                                                                                 │\n",
       "│ R range and growth rate, which during the height of the pandemic was published weekly in England, deemed ‘no    │\n",
       "│ longer necessary’The UK Health Security Agency will stop publishing modelling data on coronavirus in early      │\n",
       "│ January.The chief data scientist, Dr Nick Watkins, said the publication of this specific data is “no longer     │\n",
       "│ necessary” as the country is living with Covid thanks to vaccines and therapeutics. Continue reading...         │\n",
       "│                                                                                                                 │\n",
       "╰─────────── \u001b]8;id=884222;https://www.theguardian.com/world/2022/dec/25/uk-to-stop-publishing-covid-modelling-data\u001b\\https://www.theguardian.com/world/2022/dec/25/uk-to-stop-publishing-covid-modelling-data\u001b]8;;\u001b\\ ────────────╯\n"
      ]
     },
     "metadata": {},
     "output_type": "display_data"
    },
    {
     "data": {
      "text/html": [
       "<pre style=\"white-space:pre;overflow-x:auto;line-height:normal;font-family:Menlo,'DejaVu Sans Mono',consolas,'Courier New',monospace\">\n",
       "</pre>\n"
      ],
      "text/plain": [
       "\n"
      ]
     },
     "metadata": {},
     "output_type": "display_data"
    },
    {
     "data": {
      "text/html": [
       "<pre style=\"white-space:pre;overflow-x:auto;line-height:normal;font-family:Menlo,'DejaVu Sans Mono',consolas,'Courier New',monospace\">╭───────────────────────────────────────────────── <span style=\"font-weight: bold\">The Guardian</span> ──────────────────────────────────────────────────╮\n",
       "│ Title: <span style=\"font-weight: bold\">‘Groundhog year’: UK disposable incomes to fall by 3.8% in 2023</span>                                          │\n",
       "│ Date: 2022-12-30                                                                                                │\n",
       "│                                                                                                                 │\n",
       "│ The Resolution Foundation thinktank forecasts a drop in living standards for a second year as the cost of       │\n",
       "│ living crisis deepensHouseholds are facing a “groundhog year” in 2023, as soaring gas bills and planned tax     │\n",
       "│ rises squeeze disposable incomes and send living standards tumbling for the second year running.Higher mortgage │\n",
       "│ costs as fixed-rate loans come to an end and new deals are negotiated will add to the financial burden already  │\n",
       "│ felt by millions of households reeling from the worst fall in living standards in a century. Continue           │\n",
       "│ reading...                                                                                                      │\n",
       "│                                                                                                                 │\n",
       "╰── <a href=\"https://www.theguardian.com/business/2022/dec/30/groundhog-year-uk-disposable-incomes-to-fall-by-38-in-2023\" target=\"_blank\">https://www.theguardian.com/business/2022/dec/30/groundhog-year-uk-disposable-incomes-to-fall-by-38-in-2023</a> ──╯\n",
       "</pre>\n"
      ],
      "text/plain": [
       "╭───────────────────────────────────────────────── \u001b[1mThe Guardian\u001b[0m ──────────────────────────────────────────────────╮\n",
       "│ Title: \u001b[1m‘Groundhog year’: UK disposable incomes to fall by 3.8% in 2023\u001b[0m                                          │\n",
       "│ Date: 2022-12-30                                                                                                │\n",
       "│                                                                                                                 │\n",
       "│ The Resolution Foundation thinktank forecasts a drop in living standards for a second year as the cost of       │\n",
       "│ living crisis deepensHouseholds are facing a “groundhog year” in 2023, as soaring gas bills and planned tax     │\n",
       "│ rises squeeze disposable incomes and send living standards tumbling for the second year running.Higher mortgage │\n",
       "│ costs as fixed-rate loans come to an end and new deals are negotiated will add to the financial burden already  │\n",
       "│ felt by millions of households reeling from the worst fall in living standards in a century. Continue           │\n",
       "│ reading...                                                                                                      │\n",
       "│                                                                                                                 │\n",
       "╰── \u001b]8;id=709920;https://www.theguardian.com/business/2022/dec/30/groundhog-year-uk-disposable-incomes-to-fall-by-38-in-2023\u001b\\https://www.theguardian.com/business/2022/dec/30/groundhog-year-uk-disposable-incomes-to-fall-by-38-in-2023\u001b]8;;\u001b\\ ──╯\n"
      ]
     },
     "metadata": {},
     "output_type": "display_data"
    },
    {
     "data": {
      "text/html": [
       "<pre style=\"white-space:pre;overflow-x:auto;line-height:normal;font-family:Menlo,'DejaVu Sans Mono',consolas,'Courier New',monospace\">\n",
       "</pre>\n"
      ],
      "text/plain": [
       "\n"
      ]
     },
     "metadata": {},
     "output_type": "display_data"
    }
   ],
   "source": [
    "r.search(\"rate\", mark_as_read=False)"
   ]
  },
  {
   "cell_type": "markdown",
   "metadata": {},
   "source": [
    "## Tag Entry"
   ]
  },
  {
   "cell_type": "code",
   "execution_count": null,
   "metadata": {},
   "outputs": [],
   "source": [
    "test = list(r._reader.get_entries())"
   ]
  },
  {
   "cell_type": "code",
   "execution_count": null,
   "metadata": {},
   "outputs": [],
   "source": [
    "r._reader.set_tag(test[0], \"foobar\")"
   ]
  },
  {
   "cell_type": "code",
   "execution_count": null,
   "metadata": {},
   "outputs": [
    {
     "data": {
      "text/plain": [
       "[('foobar', None)]"
      ]
     },
     "execution_count": null,
     "metadata": {},
     "output_type": "execute_result"
    }
   ],
   "source": [
    "list(r._reader.get_tags(test[0]))"
   ]
  },
  {
   "cell_type": "code",
   "execution_count": null,
   "metadata": {},
   "outputs": [
    {
     "data": {
      "text/plain": [
       "['foobar']"
      ]
     },
     "execution_count": null,
     "metadata": {},
     "output_type": "execute_result"
    }
   ],
   "source": [
    "# We added a method to just return the tag key:\n",
    "r._get_tags(test[0])"
   ]
  },
  {
   "cell_type": "markdown",
   "metadata": {},
   "source": [
    "## Remove tag from entry"
   ]
  },
  {
   "cell_type": "code",
   "execution_count": null,
   "metadata": {},
   "outputs": [],
   "source": [
    "r._reader.delete_tag(test[0], \"foobar\")"
   ]
  },
  {
   "cell_type": "code",
   "execution_count": null,
   "metadata": {},
   "outputs": [
    {
     "data": {
      "text/plain": [
       "[]"
      ]
     },
     "execution_count": null,
     "metadata": {},
     "output_type": "execute_result"
    }
   ],
   "source": [
    "list(r._get_tags(test[0]))"
   ]
  },
  {
   "cell_type": "markdown",
   "metadata": {},
   "source": [
    "## Mark as Important/Unimportant"
   ]
  },
  {
   "cell_type": "code",
   "execution_count": null,
   "metadata": {},
   "outputs": [],
   "source": [
    "r._reader.mark_entry_as_important(test[0])\n",
    "r._reader.mark_entry_as_unimportant(test[0])"
   ]
  },
  {
   "cell_type": "markdown",
   "metadata": {},
   "source": [
    "## Mark as Read / Unread"
   ]
  },
  {
   "cell_type": "code",
   "execution_count": null,
   "metadata": {},
   "outputs": [],
   "source": [
    "r._reader.mark_entry_as_read(test[0])\n",
    "r._reader.mark_entry_as_unread(test[0])"
   ]
  },
  {
   "cell_type": "markdown",
   "metadata": {},
   "source": [
    "## Automatically mark entries as read\n",
    "\n",
    "When updating feeds, entries with titles matching these strings will automatically be marked as read"
   ]
  },
  {
   "cell_type": "code",
   "execution_count": null,
   "metadata": {},
   "outputs": [],
   "source": [
    "for i in [\"Musk\", \"Apple\", \"Bezos\", \"Google\", \"Samsung\", \"iPhone\", \"iPad\", \"guardian.com/sport/\", \"guardian.com/football/\", \"thestar.com/sports\"]:\n",
    "    r._add_to_blacklist(i)"
   ]
  },
  {
   "cell_type": "code",
   "execution_count": null,
   "metadata": {},
   "outputs": [
    {
     "data": {
      "text/plain": [
       "['Musk',\n",
       " 'Apple',\n",
       " 'Bezos',\n",
       " 'Google',\n",
       " 'Samsung',\n",
       " 'iPhone',\n",
       " 'iPad',\n",
       " 'Premier League',\n",
       " 'NHL',\n",
       " 'NFL',\n",
       " 'NBA',\n",
       " 'guardian.com/sport/',\n",
       " 'guardian.com/football/',\n",
       " 'thestar.com/sports']"
      ]
     },
     "execution_count": null,
     "metadata": {},
     "output_type": "execute_result"
    }
   ],
   "source": [
    "r._title_blacklist"
   ]
  },
  {
   "cell_type": "code",
   "execution_count": null,
   "metadata": {},
   "outputs": [],
   "source": [
    "#r.update()"
   ]
  },
  {
   "cell_type": "markdown",
   "metadata": {},
   "source": [
    "## Automatically mark entries as important"
   ]
  },
  {
   "cell_type": "code",
   "execution_count": null,
   "metadata": {},
   "outputs": [],
   "source": [
    "for i in [\"interest rate\", \"Bank of Canada\", \"housing market\"]:\n",
    "    r._add_to_whitelist(i)"
   ]
  },
  {
   "cell_type": "code",
   "execution_count": null,
   "metadata": {},
   "outputs": [],
   "source": [
    "#r.update()"
   ]
  },
  {
   "cell_type": "markdown",
   "metadata": {},
   "source": [
    "## Low level access to data"
   ]
  },
  {
   "cell_type": "code",
   "execution_count": null,
   "metadata": {},
   "outputs": [
    {
     "data": {
      "text/plain": [
       "Entry(id='https://thetyee.ca/News/2023/01/06/Glen-Clark-Open-BC-Housing-David-Eby-Government/', updated=None, title='Glen Clark Is Open to Running BC Housing (in News)', link='https://thetyee.ca/News/2023/01/06/Glen-Clark-Open-BC-Housing-David-Eby-Government/', author='Andrew MacLeod', published=None, summary='The former premier left the private sector this week and says he’s offered to help David Eby’s government.', content=(), enclosures=(Enclosure(href='https://thetyee.ca/News/2023/01/06/GlenClarkNDPConvention.jpg', type='image/jpeg', length=None),), read=False, read_modified=datetime.datetime(2023, 1, 7, 15, 5, 8, 100984, tzinfo=datetime.timezone.utc), important=False, important_modified=datetime.datetime(2023, 1, 7, 15, 5, 6, 970716, tzinfo=datetime.timezone.utc), added=datetime.datetime(2023, 1, 7, 15, 2, 53, 727599, tzinfo=datetime.timezone.utc), added_by='feed', last_updated=datetime.datetime(2023, 1, 7, 15, 2, 53, 727599, tzinfo=datetime.timezone.utc), original_feed_url='https://thetyee.ca/rss2.xml', feed=Feed(url='https://thetyee.ca/rss2.xml', updated=datetime.datetime(2023, 1, 7, 0, 15, 45, tzinfo=datetime.timezone.utc), title=\"The Tyee | BC's home for today's news, analysis and updates\", link='https://thetyee.ca/', author='editor@thetyee.ca (Editor)', subtitle=None, version='rss20', user_title=None, added=datetime.datetime(2022, 12, 28, 19, 33, 57, 223793, tzinfo=datetime.timezone.utc), last_updated=datetime.datetime(2023, 1, 7, 15, 2, 53, 727599, tzinfo=datetime.timezone.utc), last_exception=None, updates_enabled=True))"
      ]
     },
     "execution_count": null,
     "metadata": {},
     "output_type": "execute_result"
    }
   ],
   "source": [
    "entries = r._get_entries(limit=1)\n",
    "[i for i in entries][0]"
   ]
  },
  {
   "cell_type": "markdown",
   "metadata": {},
   "source": [
    "## CLI"
   ]
  },
  {
   "cell_type": "code",
   "execution_count": null,
   "metadata": {},
   "outputs": [],
   "source": [
    "# | export\n",
    "\n",
    "\n",
    "def main():\n",
    "    fire.Fire(PyNewsReader)"
   ]
  },
  {
   "cell_type": "code",
   "execution_count": null,
   "metadata": {},
   "outputs": [],
   "source": [
    "# | hide\n",
    "\n",
    "# To Do:\n",
    "# * User interface"
   ]
  },
  {
   "cell_type": "code",
   "execution_count": null,
   "metadata": {},
   "outputs": [],
   "source": [
    "# | hide\n",
    "import nbdev\n",
    "\n",
    "nbdev.nbdev_export()"
   ]
  }
 ],
 "metadata": {
  "kernelspec": {
   "display_name": "Python 3",
   "language": "python",
   "name": "python3"
  }
 },
 "nbformat": 4,
 "nbformat_minor": 4
}
