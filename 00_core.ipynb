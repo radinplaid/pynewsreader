{
 "cells": [
  {
   "cell_type": "markdown",
   "metadata": {},
   "source": [
    "# core\n",
    "\n",
    "> Main codebase for fetching and saving RSS feeds"
   ]
  },
  {
   "cell_type": "code",
   "execution_count": null,
   "metadata": {},
   "outputs": [],
   "source": [
    "# | default_exp core"
   ]
  },
  {
   "cell_type": "code",
   "execution_count": null,
   "metadata": {},
   "outputs": [],
   "source": [
    "# | hide\n",
    "from nbdev.showdoc import *"
   ]
  },
  {
   "cell_type": "code",
   "execution_count": null,
   "metadata": {},
   "outputs": [],
   "source": [
    "# | export\n",
    "\n",
    "import json\n",
    "import logging\n",
    "from pathlib import Path\n",
    "from typing import *\n",
    "\n",
    "import fire\n",
    "import reader\n",
    "import rich\n",
    "from bs4 import BeautifulSoup\n",
    "from rich import print\n",
    "from rich.console import Console\n",
    "from rich.panel import Panel\n",
    "from rich.text import Text\n",
    "\n",
    "console = Console()\n",
    "\n",
    "logger = logging.getLogger(__name__)\n",
    "\n",
    "\n",
    "def strip_html(s: str):\n",
    "    s = BeautifulSoup(s, \"html.parser\")\n",
    "    return s.text"
   ]
  },
  {
   "cell_type": "code",
   "execution_count": null,
   "metadata": {},
   "outputs": [],
   "source": [
    "# | export\n",
    "\n",
    "\n",
    "class Feed:\n",
    "    \"\"\"RSS feed class\"\"\"\n",
    "\n",
    "    def __init__(self, url: str, name: str = None, tags: List[str] = []):\n",
    "        self.url = url\n",
    "        self.name = name\n",
    "        self.tags = tags\n",
    "\n",
    "    def add_tag(self, tag: str):\n",
    "        if tag not in self.tags:\n",
    "            self.tags.append(tag)\n",
    "\n",
    "    def remove_tag(self, tag: str):\n",
    "        if tag in self.tags:\n",
    "            self.tags.remove(tag)"
   ]
  },
  {
   "cell_type": "code",
   "execution_count": null,
   "metadata": {},
   "outputs": [],
   "source": [
    "# | export\n",
    "\n",
    "\n",
    "class PyNewsReader:\n",
    "    def __init__(self, feeds=List[Feed]):\n",
    "        self.dbfolder = Path().home() / \".cache/pynewsreader\"\n",
    "        if not self.dbfolder.exists():\n",
    "            self.dbfolder.mkdir(parents=True)\n",
    "\n",
    "        # If custom feed names exist, read them in\n",
    "        feed_names_path = self.dbfolder / \"feed_names.json\"\n",
    "        if feed_names_path.exists():\n",
    "            with open(self.dbfolder / \"feed_names.json\", \"rt\") as myfile:\n",
    "                self._feed_names = json.load(myfile)\n",
    "        else:\n",
    "            self._feed_names = {}\n",
    "\n",
    "        # If title blacklist exists, read it in\n",
    "        title_blacklist_path = self.dbfolder / \"title_blacklist.json\"\n",
    "        if title_blacklist_path.exists():\n",
    "            with open(self.dbfolder / \"title_blacklist.json\", \"rt\") as myfile:\n",
    "                self._title_blacklist = json.load(myfile)\n",
    "        else:\n",
    "            self._title_blacklist = []\n",
    "\n",
    "        self._reader = reader.make_reader(\n",
    "            self.dbfolder / \"db.sqlite\",\n",
    "            plugins=[\"reader.enclosure_dedupe\", \"reader.entry_dedupe\"],\n",
    "        )\n",
    "\n",
    "        # If title whitelist exists, read it in\n",
    "        title_whitelist_path = self.dbfolder / \"title_whitelist.json\"\n",
    "        if title_whitelist_path.exists():\n",
    "            with open(self.dbfolder / \"title_whitelist.json\", \"rt\") as myfile:\n",
    "                self._title_whitelist = json.load(myfile)\n",
    "        else:\n",
    "            self._title_whitelist = []\n",
    "\n",
    "        self._reader = reader.make_reader(\n",
    "            self.dbfolder / \"db.sqlite\",\n",
    "            plugins=[\"reader.enclosure_dedupe\", \"reader.entry_dedupe\"],\n",
    "        )\n",
    "\n",
    "        self._reader.enable_search()\n",
    "\n",
    "    def _print_entries(\n",
    "        self, entries: List[reader.Entry], mark_as_read: bool = True, limit: int = 10\n",
    "    ):\n",
    "        \"\"\"\n",
    "        Pretty print entries - supports reader.Reader.get_entries arguments\n",
    "        \"\"\"\n",
    "        displayed_links = set()\n",
    "        for e in entries:\n",
    "            if e.link in displayed_links:\n",
    "                # Don't display duplicates\n",
    "                self._reader.mark_entry_as_read(e)\n",
    "            else:\n",
    "                displayed_links.add(e.link)\n",
    "                if e.published:\n",
    "                    published_date = \"Date: \" + e.published.isoformat()[:10]\n",
    "                else:\n",
    "                    published_date = \"Date: Unknown\"\n",
    "                if mark_as_read:\n",
    "                    self._reader.mark_entry_as_read(e)\n",
    "\n",
    "                feed_title = f\"[bold]{self._get_feed_title(e.original_feed_url)}[/bold]\"\n",
    "\n",
    "                if e.important:\n",
    "                    panel_body = \":exclamation_mark:\"\n",
    "                else:\n",
    "                    panel_body = \"\"\n",
    "                panel_body += f\"Title: [bold]{e.title}[/bold]\" + \"\\n\"\n",
    "                panel_body += str(published_date) + \"\\n\\n\"\n",
    "                panel_body += strip_html(e.summary).strip() + \"\\n\"\n",
    "\n",
    "                console.print(\n",
    "                    Panel(\n",
    "                        panel_body,\n",
    "                        title=feed_title,\n",
    "                        subtitle=f\"[link={e.link}]{e.link}[/link]\",\n",
    "                    )\n",
    "                )\n",
    "                console.print()\n",
    "            if len(displayed_links) == limit:\n",
    "                return\n",
    "\n",
    "    def _search_to_entry(self, search_result):\n",
    "        for i in self._reader.get_entries():\n",
    "            if i.id == search_result.id and i.feed_url == search_result.feed_url:\n",
    "                return i\n",
    "\n",
    "    def _get_feed_title(self, url: str):\n",
    "        \"\"\"Get display title for pynewsreader feed\n",
    "\n",
    "        Args:\n",
    "            url (str): URL of pynewsreader feed\n",
    "\n",
    "        Returns:\n",
    "            str: Display title\n",
    "        \"\"\"\n",
    "        if url in self._feed_names and self._feed_names[url] is not None:\n",
    "            return self._feed_names[url]\n",
    "        elif self._reader.get_feed(url).title:\n",
    "            return self._reader.get_feed(url).title\n",
    "        else:\n",
    "            return self._reader.get_feed(url).url\n",
    "\n",
    "    def _mark_matching_entries_as_read(self, match_strings: List):\n",
    "        for i in self._reader.get_entries(read=False):\n",
    "            for filter_string in match_strings:\n",
    "                if filter_string in i.title:\n",
    "                    print(f\"Marking entry as read: {i.title}\")\n",
    "                    self._reader.mark_entry_as_read(i)\n",
    "\n",
    "    def _mark_matching_entries_as_important(self, match_strings: List):\n",
    "        for i in self._reader.get_entries(read=False):\n",
    "            for filter_string in match_strings:\n",
    "                if filter_string in i.title:\n",
    "                    print(f\"Marking entry as important: {i.title}\")\n",
    "                    self._reader.mark_entry_as_important(i)\n",
    "\n",
    "    def update(self):\n",
    "        \"\"\"Update feeds and search\"\"\"\n",
    "        self._reader.update_feeds()\n",
    "        self._reader.update_search()\n",
    "        if len(self._title_blacklist) > 0:\n",
    "            self._mark_matching_entries_as_read(self._title_blacklist)\n",
    "        if len(self._title_whitelist) > 0:\n",
    "            self._mark_matching_entries_as_important(self._title_whitelist)\n",
    "\n",
    "    def _get_entries(\n",
    "        self, important: bool = None, read: Union[None, bool] = None, limit: int = 10\n",
    "    ):\n",
    "        \"\"\"Get entries in reader.Entry format\n",
    "\n",
    "        Args:\n",
    "            read (reader.Entry.read, optional): Filter on `read` status (None, True, False). Defaults to None.\n",
    "            limit (int, optional): Number of entries to return. Defaults to 10.\n",
    "\n",
    "        Returns:\n",
    "            List[reader.Entry]: List of entries\n",
    "        \"\"\"\n",
    "        return self._reader.get_entries(read=read, limit=limit, important=important)\n",
    "\n",
    "    def _get_tags(self, entry: reader.Entry):\n",
    "        \"\"\"Get tags for a given entry\"\"\"\n",
    "        return [i[0] for i in list(self._reader.get_tags(entry))]\n",
    "\n",
    "    def add_feed(self, feed: Union[Feed, str]):\n",
    "        \"\"\"Add feed to pynewsreader\n",
    "\n",
    "        Args:\n",
    "            feed (Feed): pynewsreader Feed to add\n",
    "        \"\"\"\n",
    "        if isinstance(feed, Feed):\n",
    "            self._feed_names[feed.url] = feed.name\n",
    "            self._reader.add_feed(feed.url, exist_ok=True)\n",
    "        elif isinstance(feed, str):\n",
    "            self._reader.add_feed(feed, exist_ok=True)\n",
    "        else:\n",
    "            raise Exception(\"Must be str or Feed type to add\")\n",
    "\n",
    "        # Save names to file\n",
    "        with open(self.dbfolder / \"feed_names.json\", \"wt\") as myfile:\n",
    "            json.dump(self._feed_names, myfile)\n",
    "\n",
    "    def remove_feed(self, feed: Feed):\n",
    "        \"\"\"Remove feed from pynewsreader instance\n",
    "\n",
    "        Args:\n",
    "            feed (Feed): Feed to remove\n",
    "        \"\"\"\n",
    "\n",
    "        self._reader.delete_feed(feed.url)\n",
    "\n",
    "    def _add_to_blacklist(self, blacklist_string: str):\n",
    "        if blacklist_string not in self._title_blacklist:\n",
    "            self._title_blacklist.append(blacklist_string)\n",
    "            with open(self.dbfolder / \"title_blacklist.json\", \"wt\") as myfile:\n",
    "                json.dump(self._title_blacklist, myfile)\n",
    "\n",
    "    def _remove_from_blacklist(self, blacklist_string: str):\n",
    "        if blacklist_string in self._title_blacklist:\n",
    "            self._title_blacklist.remove(blacklist_string)\n",
    "            with open(self.dbfolder / \"title_blacklist.json\", \"wt\") as myfile:\n",
    "                json.dump(self._title_blacklist, myfile)\n",
    "\n",
    "    def _add_to_whitelist(self, whitelist_string: str):\n",
    "        if whitelist_string not in self._title_whitelist:\n",
    "            self._title_whitelist.append(whitelist_string)\n",
    "            with open(self.dbfolder / \"title_whitelist.json\", \"wt\") as myfile:\n",
    "                json.dump(self._title_whitelist, myfile)\n",
    "            for entry in self._get_entries():\n",
    "                if whitelist_string in entry.title:\n",
    "                    self._reader.mark_entry_as_important(entry)\n",
    "\n",
    "    def _remove_from_whitelist(self, whitelist_string: str):\n",
    "        if whitelist_string in self._title_whitelist:\n",
    "            self._title_whitelist.remove(whitelist_string)\n",
    "            with open(self.dbfolder / \"title_whitelist.json\", \"wt\") as myfile:\n",
    "                json.dump(self._title_whitelist, myfile)\n",
    "            for entry in self._get_entries():\n",
    "                if whitelist_string in entry.title:\n",
    "                    self._reader.mark_entry_as_unimportant(entry)\n",
    "\n",
    "    def feeds(self):\n",
    "        \"\"\"List pynewsreader feeds\n",
    "\n",
    "        Returns:\n",
    "            List[str]: List of names of current pynewsreader feeds\n",
    "        \"\"\"\n",
    "        return [self._get_feed_title(i.url) for i in self._reader.get_feeds()]\n",
    "\n",
    "    def show(\n",
    "        self,\n",
    "        limit: int = 6,\n",
    "        read: bool = False,\n",
    "        important: bool = None,\n",
    "        mark_as_read: bool = True,\n",
    "    ):\n",
    "        \"\"\"Pretty print entries\n",
    "\n",
    "        Args:\n",
    "            limit (int, optional): Number of entries to show. Defaults to 5.\n",
    "            read (bool, optional): Show read entries (True), unread entries (False), or all entries (None). Defaults to None.\n",
    "            mark_as_read (bool, optional): Mark displayed entries as read. Defaults to False.\n",
    "        \"\"\"\n",
    "        self._print_entries(\n",
    "            self._get_entries(read=read, important=important, limit=limit * 2),\n",
    "            limit=limit,\n",
    "            mark_as_read=mark_as_read,\n",
    "        )\n",
    "\n",
    "    def search(self, query: str, mark_as_read: bool = True, limit: int = 10):\n",
    "        \"\"\"Search entries and pretty print results\n",
    "\n",
    "        Args:\n",
    "            query (str): Search query\n",
    "            mark_as_read (bool, optional): Mark results as read? Defaults to True.\n",
    "        \"\"\"\n",
    "        self._print_entries(\n",
    "            [self._search_to_entry(i) for i in self._reader.search_entries(query)],\n",
    "            mark_as_read=mark_as_read,\n",
    "            limit=limit,\n",
    "        )\n",
    "\n",
    "    def _mark_important(self, entry: reader.Entry = None):\n",
    "        \"\"\"Mark entry as important\n",
    "\n",
    "        Args:\n",
    "            entry (reader.Entry): Entry to mark as important\n",
    "        \"\"\"\n",
    "        if entry is not None:\n",
    "            reader.Reader.mark_entry_as_important(entry)\n",
    "\n",
    "    def _mark_unimportant(self, entry: reader.Entry = None):\n",
    "        \"\"\"Mark entry as important\n",
    "\n",
    "        Args:\n",
    "            entry (reader.Entry): Entry to mark as important\n",
    "        \"\"\"\n",
    "        if entry is not None:\n",
    "            reader.Reader.mark_entry_as_unimportant(entry)\n",
    "\n",
    "    def _add_tag(self, entry: reader.Entry, tag_key: str, tag_value: Dict = None):\n",
    "        \"\"\"Add tag to entry\n",
    "\n",
    "        Args:\n",
    "            entry (reader.Entry): Entry to tag\n",
    "            tag_key (str): Key of tag\n",
    "            tag_value (Dict, optional): Value of tag. Defaults to None.\n",
    "        \"\"\"\n",
    "        reader.Reader.set_tag(entry, tag_key, tag_value)\n",
    "\n",
    "    def _remove_tag(self, entry: reader.Entry, tag_key: str):\n",
    "        \"\"\"Remove tag from entry\n",
    "\n",
    "        Args:\n",
    "            entry (reader.Entry): Entry to tag\n",
    "            tag_key (str): Key of tag\n",
    "        \"\"\"\n",
    "        self._reader.delete_tag(entry, tag_key)"
   ]
  },
  {
   "cell_type": "code",
   "execution_count": null,
   "metadata": {},
   "outputs": [],
   "source": [
    "r = PyNewsReader()"
   ]
  },
  {
   "cell_type": "markdown",
   "metadata": {},
   "source": [
    "## Add Feeds"
   ]
  },
  {
   "cell_type": "code",
   "execution_count": null,
   "metadata": {},
   "outputs": [],
   "source": [
    "# With names\n",
    "for i in [\n",
    "    Feed(url=\"https://ricochet.media/en/feed\", name=\"Richochet Media\"),\n",
    "    Feed(url=\"https://thetyee.ca/rss2.xml\", name=\"The Tyee\"),\n",
    "    Feed(\n",
    "        url=\"https://www.thestar.com/content/thestar/feed.RSSManagerServlet.articles.topstories.rss\",\n",
    "        name=\"Toronto Star | Top Stories\",\n",
    "    ),\n",
    "    Feed(\n",
    "        url=\"https://www.thestar.com/content/thestar/feed.RSSManagerServlet.articles.news.investigations.rss\",\n",
    "        name=\"Toronto Star | Investigations\",\n",
    "    ),\n",
    "    Feed(\n",
    "        url=\"https://www.thestar.com/content/thestar/feed.RSSManagerServlet.articles.opinion.editorials.rss\",\n",
    "        name=\"Toronto Star | Editorials\",\n",
    "    ),\n",
    "    Feed(url=\"https://www.macleans.ca/feed/\", name=\"Macleans\"),\n",
    "]:\n",
    "    r.add_feed(i)\n",
    "\n",
    "# Use the default name from the feed\n",
    "for i in [\n",
    "    \"https://rss.cbc.ca/lineup/topstories.xml\",\n",
    "    \"https://rss.cbc.ca/lineup/world.xml\",\n",
    "    \"https://rss.cbc.ca/lineup/canada.xml\",\n",
    "    \"https://rss.cbc.ca/lineup/business.xml\",\n",
    "    \"https://rss.cbc.ca/lineup/technology.xml\",\n",
    "    \"https://www.cbc.ca/cmlink/rss-canada-ottawa\",\n",
    "    \"https://thenarwhal.ca/feed/\",\n",
    "]:\n",
    "    r.add_feed(Feed(i))"
   ]
  },
  {
   "cell_type": "markdown",
   "metadata": {},
   "source": [
    "## Update Feeds"
   ]
  },
  {
   "cell_type": "code",
   "execution_count": null,
   "metadata": {},
   "outputs": [],
   "source": [
    "r.update()"
   ]
  },
  {
   "cell_type": "markdown",
   "metadata": {},
   "source": [
    "## List Feeds"
   ]
  },
  {
   "cell_type": "code",
   "execution_count": null,
   "metadata": {},
   "outputs": [
    {
     "data": {
      "text/plain": [
       "['Richochet Media',\n",
       " 'CBC | Business News',\n",
       " 'CBC | Canada News',\n",
       " 'CBC | Ottawa News',\n",
       " 'CBC | Technology News',\n",
       " 'CBC | Top Stories News',\n",
       " 'CBC | World News',\n",
       " 'Macleans',\n",
       " 'The Narwhal',\n",
       " 'The Tyee',\n",
       " 'Toronto Star | Investigations',\n",
       " 'Toronto Star | Editorials',\n",
       " 'Toronto Star | Top Stories']"
      ]
     },
     "execution_count": null,
     "metadata": {},
     "output_type": "execute_result"
    }
   ],
   "source": [
    "r.feeds()"
   ]
  },
  {
   "cell_type": "markdown",
   "metadata": {},
   "source": [
    "## Display Entries\n",
    "\n",
    "`read` = None shows all entries\n",
    "\n",
    "`read` = False shows only unread entries\n",
    "\n",
    "`read` = True shows only read entries"
   ]
  },
  {
   "cell_type": "code",
   "execution_count": null,
   "metadata": {},
   "outputs": [
    {
     "data": {
      "text/html": [
       "<pre style=\"white-space:pre;overflow-x:auto;line-height:normal;font-family:Menlo,'DejaVu Sans Mono',consolas,'Courier New',monospace\">╭─────────────────────────────────────────────── <span style=\"font-weight: bold\">CBC | Ottawa News</span> ───────────────────────────────────────────────╮\n",
       "│ Title: <span style=\"font-weight: bold\">Ian Tyson, Canadian folk music star who penned Four Strong Winds, dead at 89</span>                             │\n",
       "│ Date: 2022-12-29                                                                                                │\n",
       "│                                                                                                                 │\n",
       "│ Canadian folk music icon Ian Tyson has died, his ex-partner Sylvia Tyson has confirmed to CBC News.             │\n",
       "│                                                                                                                 │\n",
       "╰───────────────── <a href=\"https://www.cbc.ca/news/canada/calgary/ian-tyson-dead-at-89-1.6699778?cmp=rss\" target=\"_blank\">https://www.cbc.ca/news/canada/calgary/ian-tyson-dead-at-89-1.6699778?cmp=rss</a> ─────────────────╯\n",
       "</pre>\n"
      ],
      "text/plain": [
       "╭─────────────────────────────────────────────── \u001b[1mCBC | Ottawa News\u001b[0m ───────────────────────────────────────────────╮\n",
       "│ Title: \u001b[1mIan Tyson, Canadian folk music star who penned Four Strong Winds, dead at 89\u001b[0m                             │\n",
       "│ Date: 2022-12-29                                                                                                │\n",
       "│                                                                                                                 │\n",
       "│ Canadian folk music icon Ian Tyson has died, his ex-partner Sylvia Tyson has confirmed to CBC News.             │\n",
       "│                                                                                                                 │\n",
       "╰───────────────── \u001b]8;id=340092;https://www.cbc.ca/news/canada/calgary/ian-tyson-dead-at-89-1.6699778?cmp=rss\u001b\\https://www.cbc.ca/news/canada/calgary/ian-tyson-dead-at-89-1.6699778?cmp=rss\u001b]8;;\u001b\\ ─────────────────╯\n"
      ]
     },
     "metadata": {},
     "output_type": "display_data"
    },
    {
     "data": {
      "text/html": [
       "<pre style=\"white-space:pre;overflow-x:auto;line-height:normal;font-family:Menlo,'DejaVu Sans Mono',consolas,'Courier New',monospace\">\n",
       "</pre>\n"
      ],
      "text/plain": [
       "\n"
      ]
     },
     "metadata": {},
     "output_type": "display_data"
    },
    {
     "data": {
      "text/html": [
       "<pre style=\"white-space:pre;overflow-x:auto;line-height:normal;font-family:Menlo,'DejaVu Sans Mono',consolas,'Courier New',monospace\">╭─────────────────────────────────────────────── <span style=\"font-weight: bold\">CBC | Ottawa News</span> ───────────────────────────────────────────────╮\n",
       "│ Title: <span style=\"font-weight: bold\">Supersized snowman's fate in peril as weather warms</span>                                                      │\n",
       "│ Date: 2022-12-29                                                                                                │\n",
       "│                                                                                                                 │\n",
       "│ Chris Moller took advantage of the recent dump of wet snow to build a nearly five-metre-tall snowman outside    │\n",
       "│ his Kanata home. But with a warm spell in the forecast, the unnamed Frosty may not be around much longer.       │\n",
       "│                                                                                                                 │\n",
       "╰──────────── <a href=\"https://www.cbc.ca/news/canada/ottawa/supersized-snowman-coming-melt-1.6699273?cmp=rss\" target=\"_blank\">https://www.cbc.ca/news/canada/ottawa/supersized-snowman-coming-melt-1.6699273?cmp=rss</a> ─────────────╯\n",
       "</pre>\n"
      ],
      "text/plain": [
       "╭─────────────────────────────────────────────── \u001b[1mCBC | Ottawa News\u001b[0m ───────────────────────────────────────────────╮\n",
       "│ Title: \u001b[1mSupersized snowman's fate in peril as weather warms\u001b[0m                                                      │\n",
       "│ Date: 2022-12-29                                                                                                │\n",
       "│                                                                                                                 │\n",
       "│ Chris Moller took advantage of the recent dump of wet snow to build a nearly five-metre-tall snowman outside    │\n",
       "│ his Kanata home. But with a warm spell in the forecast, the unnamed Frosty may not be around much longer.       │\n",
       "│                                                                                                                 │\n",
       "╰──────────── \u001b]8;id=270391;https://www.cbc.ca/news/canada/ottawa/supersized-snowman-coming-melt-1.6699273?cmp=rss\u001b\\https://www.cbc.ca/news/canada/ottawa/supersized-snowman-coming-melt-1.6699273?cmp=rss\u001b]8;;\u001b\\ ─────────────╯\n"
      ]
     },
     "metadata": {},
     "output_type": "display_data"
    },
    {
     "data": {
      "text/html": [
       "<pre style=\"white-space:pre;overflow-x:auto;line-height:normal;font-family:Menlo,'DejaVu Sans Mono',consolas,'Courier New',monospace\">\n",
       "</pre>\n"
      ],
      "text/plain": [
       "\n"
      ]
     },
     "metadata": {},
     "output_type": "display_data"
    },
    {
     "data": {
      "text/html": [
       "<pre style=\"white-space:pre;overflow-x:auto;line-height:normal;font-family:Menlo,'DejaVu Sans Mono',consolas,'Courier New',monospace\">╭────────────────────────────────────────── <span style=\"font-weight: bold\">Toronto Star | Top Stories</span> ───────────────────────────────────────────╮\n",
       "│ Title: <span style=\"font-weight: bold\">‘A legend has fallen’: Death of Pelé sparks outpouring of grief online</span>                                   │\n",
       "│ Date: 2022-12-29                                                                                                │\n",
       "│                                                                                                                 │\n",
       "│ Pelé, the Brazilian king of soccer who won a record three World Cups and became one of the most commanding      │\n",
       "│ sports figures the last century died at 82.                                                                     │\n",
       "│                                                                                                                 │\n",
       "╰─ <a href=\"https://www.thestar.com/sports/soccer/2022/12/29/a-legend-has-fallen-death-of-pel-sparks-outpouring-of-grief-online.html\" target=\"_blank\">https://www.thestar.com/sports/soccer/2022/12/29/a-legend-has-fallen-death-of-pel-sparks-outpouring-of-grief-o</a>─╯\n",
       "</pre>\n"
      ],
      "text/plain": [
       "╭────────────────────────────────────────── \u001b[1mToronto Star | Top Stories\u001b[0m ───────────────────────────────────────────╮\n",
       "│ Title: \u001b[1m‘A legend has fallen’: Death of Pelé sparks outpouring of grief online\u001b[0m                                   │\n",
       "│ Date: 2022-12-29                                                                                                │\n",
       "│                                                                                                                 │\n",
       "│ Pelé, the Brazilian king of soccer who won a record three World Cups and became one of the most commanding      │\n",
       "│ sports figures the last century died at 82.                                                                     │\n",
       "│                                                                                                                 │\n",
       "╰─ \u001b]8;id=594421;https://www.thestar.com/sports/soccer/2022/12/29/a-legend-has-fallen-death-of-pel-sparks-outpouring-of-grief-online.html\u001b\\https://www.thestar.com/sports/soccer/2022/12/29/a-legend-has-fallen-death-of-pel-sparks-outpouring-of-grief-o\u001b]8;;\u001b\\─╯\n"
      ]
     },
     "metadata": {},
     "output_type": "display_data"
    },
    {
     "data": {
      "text/html": [
       "<pre style=\"white-space:pre;overflow-x:auto;line-height:normal;font-family:Menlo,'DejaVu Sans Mono',consolas,'Courier New',monospace\">\n",
       "</pre>\n"
      ],
      "text/plain": [
       "\n"
      ]
     },
     "metadata": {},
     "output_type": "display_data"
    },
    {
     "data": {
      "text/html": [
       "<pre style=\"white-space:pre;overflow-x:auto;line-height:normal;font-family:Menlo,'DejaVu Sans Mono',consolas,'Courier New',monospace\">╭────────────────────────────────────────── <span style=\"font-weight: bold\">Toronto Star | Top Stories</span> ───────────────────────────────────────────╮\n",
       "│ Title: <span style=\"font-weight: bold\">Blue Jays starter Hyun-Jin Ryu could return in July from Tommy John surgery: report</span>                      │\n",
       "│ Date: 2022-12-29                                                                                                │\n",
       "│                                                                                                                 │\n",
       "│ Ryu spent the past month in Korea with his family and will now continue rehab in the U.S., per the report.      │\n",
       "│                                                                                                                 │\n",
       "╰─ <a href=\"https://www.thestar.com/sports/bluejays/2022/12/29/blue-jays-starter-hyun-jin-ryu-could-return-in-july-from-tommy-john-surgery-report.html\" target=\"_blank\">https://www.thestar.com/sports/bluejays/2022/12/29/blue-jays-starter-hyun-jin-ryu-could-return-in-july-from-to</a>─╯\n",
       "</pre>\n"
      ],
      "text/plain": [
       "╭────────────────────────────────────────── \u001b[1mToronto Star | Top Stories\u001b[0m ───────────────────────────────────────────╮\n",
       "│ Title: \u001b[1mBlue Jays starter Hyun-Jin Ryu could return in July from Tommy John surgery: report\u001b[0m                      │\n",
       "│ Date: 2022-12-29                                                                                                │\n",
       "│                                                                                                                 │\n",
       "│ Ryu spent the past month in Korea with his family and will now continue rehab in the U.S., per the report.      │\n",
       "│                                                                                                                 │\n",
       "╰─ \u001b]8;id=573397;https://www.thestar.com/sports/bluejays/2022/12/29/blue-jays-starter-hyun-jin-ryu-could-return-in-july-from-tommy-john-surgery-report.html\u001b\\https://www.thestar.com/sports/bluejays/2022/12/29/blue-jays-starter-hyun-jin-ryu-could-return-in-july-from-to\u001b]8;;\u001b\\─╯\n"
      ]
     },
     "metadata": {},
     "output_type": "display_data"
    },
    {
     "data": {
      "text/html": [
       "<pre style=\"white-space:pre;overflow-x:auto;line-height:normal;font-family:Menlo,'DejaVu Sans Mono',consolas,'Courier New',monospace\">\n",
       "</pre>\n"
      ],
      "text/plain": [
       "\n"
      ]
     },
     "metadata": {},
     "output_type": "display_data"
    },
    {
     "data": {
      "text/html": [
       "<pre style=\"white-space:pre;overflow-x:auto;line-height:normal;font-family:Menlo,'DejaVu Sans Mono',consolas,'Courier New',monospace\">╭─────────────────────────────────────────────── <span style=\"font-weight: bold\">CBC | World News</span> ────────────────────────────────────────────────╮\n",
       "│ Title: <span style=\"font-weight: bold\">Brazilian soccer legend Pelé, winner of record 3 World Cups, dead at 82</span>                                  │\n",
       "│ Date: 2022-12-29                                                                                                │\n",
       "│                                                                                                                 │\n",
       "│ Pelé, the Brazilian king of soccer who won a record three World Cups and became one of the most commanding      │\n",
       "│ sports figures of the last century, died Thursday. He was 82.                                                   │\n",
       "│                                                                                                                 │\n",
       "╰──────────────────── <a href=\"https://www.cbc.ca/sports/soccer/soccer-pele-obituary-1.6698012?cmp=rss\" target=\"_blank\">https://www.cbc.ca/sports/soccer/soccer-pele-obituary-1.6698012?cmp=rss</a> ────────────────────╯\n",
       "</pre>\n"
      ],
      "text/plain": [
       "╭─────────────────────────────────────────────── \u001b[1mCBC | World News\u001b[0m ────────────────────────────────────────────────╮\n",
       "│ Title: \u001b[1mBrazilian soccer legend Pelé, winner of record 3 World Cups, dead at 82\u001b[0m                                  │\n",
       "│ Date: 2022-12-29                                                                                                │\n",
       "│                                                                                                                 │\n",
       "│ Pelé, the Brazilian king of soccer who won a record three World Cups and became one of the most commanding      │\n",
       "│ sports figures of the last century, died Thursday. He was 82.                                                   │\n",
       "│                                                                                                                 │\n",
       "╰──────────────────── \u001b]8;id=353241;https://www.cbc.ca/sports/soccer/soccer-pele-obituary-1.6698012?cmp=rss\u001b\\https://www.cbc.ca/sports/soccer/soccer-pele-obituary-1.6698012?cmp=rss\u001b]8;;\u001b\\ ────────────────────╯\n"
      ]
     },
     "metadata": {},
     "output_type": "display_data"
    },
    {
     "data": {
      "text/html": [
       "<pre style=\"white-space:pre;overflow-x:auto;line-height:normal;font-family:Menlo,'DejaVu Sans Mono',consolas,'Courier New',monospace\">\n",
       "</pre>\n"
      ],
      "text/plain": [
       "\n"
      ]
     },
     "metadata": {},
     "output_type": "display_data"
    }
   ],
   "source": [
    "r.show(limit=5, read=None, mark_as_read=False)"
   ]
  },
  {
   "cell_type": "markdown",
   "metadata": {},
   "source": [
    "## Search Entries"
   ]
  },
  {
   "cell_type": "code",
   "execution_count": null,
   "metadata": {},
   "outputs": [
    {
     "data": {
      "text/html": [
       "<pre style=\"white-space:pre;overflow-x:auto;line-height:normal;font-family:Menlo,'DejaVu Sans Mono',consolas,'Courier New',monospace\">╭─────────────────────────────────────────────── <span style=\"font-weight: bold\">CBC | Ottawa News</span> ───────────────────────────────────────────────╮\n",
       "│ Title: <span style=\"font-weight: bold\">Ian Tyson, Canadian folk music star who penned Four Strong Winds, dead at 89</span>                             │\n",
       "│ Date: 2022-12-29                                                                                                │\n",
       "│                                                                                                                 │\n",
       "│ Canadian folk music icon Ian Tyson has died, his ex-partner Sylvia Tyson has confirmed to CBC News.             │\n",
       "│                                                                                                                 │\n",
       "╰───────────────── <a href=\"https://www.cbc.ca/news/canada/calgary/ian-tyson-dead-at-89-1.6699778?cmp=rss\" target=\"_blank\">https://www.cbc.ca/news/canada/calgary/ian-tyson-dead-at-89-1.6699778?cmp=rss</a> ─────────────────╯\n",
       "</pre>\n"
      ],
      "text/plain": [
       "╭─────────────────────────────────────────────── \u001b[1mCBC | Ottawa News\u001b[0m ───────────────────────────────────────────────╮\n",
       "│ Title: \u001b[1mIan Tyson, Canadian folk music star who penned Four Strong Winds, dead at 89\u001b[0m                             │\n",
       "│ Date: 2022-12-29                                                                                                │\n",
       "│                                                                                                                 │\n",
       "│ Canadian folk music icon Ian Tyson has died, his ex-partner Sylvia Tyson has confirmed to CBC News.             │\n",
       "│                                                                                                                 │\n",
       "╰───────────────── \u001b]8;id=557951;https://www.cbc.ca/news/canada/calgary/ian-tyson-dead-at-89-1.6699778?cmp=rss\u001b\\https://www.cbc.ca/news/canada/calgary/ian-tyson-dead-at-89-1.6699778?cmp=rss\u001b]8;;\u001b\\ ─────────────────╯\n"
      ]
     },
     "metadata": {},
     "output_type": "display_data"
    },
    {
     "data": {
      "text/html": [
       "<pre style=\"white-space:pre;overflow-x:auto;line-height:normal;font-family:Menlo,'DejaVu Sans Mono',consolas,'Courier New',monospace\">\n",
       "</pre>\n"
      ],
      "text/plain": [
       "\n"
      ]
     },
     "metadata": {},
     "output_type": "display_data"
    }
   ],
   "source": [
    "r.search(\"Tyson\", mark_as_read=False)"
   ]
  },
  {
   "cell_type": "markdown",
   "metadata": {},
   "source": [
    "## Tag Entry"
   ]
  },
  {
   "cell_type": "code",
   "execution_count": null,
   "metadata": {},
   "outputs": [],
   "source": [
    "test = list(r._reader.get_entries())"
   ]
  },
  {
   "cell_type": "code",
   "execution_count": null,
   "metadata": {},
   "outputs": [],
   "source": [
    "r._reader.set_tag(test[0], \"foobar\")"
   ]
  },
  {
   "cell_type": "code",
   "execution_count": null,
   "metadata": {},
   "outputs": [
    {
     "data": {
      "text/plain": [
       "[('foobar', None)]"
      ]
     },
     "execution_count": null,
     "metadata": {},
     "output_type": "execute_result"
    }
   ],
   "source": [
    "list(r._reader.get_tags(test[0]))"
   ]
  },
  {
   "cell_type": "code",
   "execution_count": null,
   "metadata": {},
   "outputs": [
    {
     "data": {
      "text/plain": [
       "['foobar']"
      ]
     },
     "execution_count": null,
     "metadata": {},
     "output_type": "execute_result"
    }
   ],
   "source": [
    "# We added a method to just return the tag key:\n",
    "r._get_tags(test[0])"
   ]
  },
  {
   "cell_type": "markdown",
   "metadata": {},
   "source": [
    "## Remove tag from entry"
   ]
  },
  {
   "cell_type": "code",
   "execution_count": null,
   "metadata": {},
   "outputs": [],
   "source": [
    "r._reader.delete_tag(test[0], \"foobar\")"
   ]
  },
  {
   "cell_type": "code",
   "execution_count": null,
   "metadata": {},
   "outputs": [
    {
     "data": {
      "text/plain": [
       "[]"
      ]
     },
     "execution_count": null,
     "metadata": {},
     "output_type": "execute_result"
    }
   ],
   "source": [
    "list(r._get_tags(test[0]))"
   ]
  },
  {
   "cell_type": "markdown",
   "metadata": {},
   "source": [
    "## Mark as Important/Unimportant"
   ]
  },
  {
   "cell_type": "code",
   "execution_count": null,
   "metadata": {},
   "outputs": [],
   "source": [
    "r._reader.mark_entry_as_important(test[0])\n",
    "r._reader.mark_entry_as_unimportant(test[0])"
   ]
  },
  {
   "cell_type": "markdown",
   "metadata": {},
   "source": [
    "## Mark as Read / Unread"
   ]
  },
  {
   "cell_type": "code",
   "execution_count": null,
   "metadata": {},
   "outputs": [],
   "source": [
    "r._reader.mark_entry_as_read(test[0])\n",
    "r._reader.mark_entry_as_unread(test[0])"
   ]
  },
  {
   "cell_type": "markdown",
   "metadata": {},
   "source": [
    "## Automatically mark entries as read\n",
    "\n",
    "When updating feeds, entries with titles matching these strings will automatically be marked as read"
   ]
  },
  {
   "cell_type": "code",
   "execution_count": null,
   "metadata": {},
   "outputs": [],
   "source": [
    "for i in [\"Musk\", \"Apple\", \"Bezos\", \"Google\", \"Samsung\", \"iPhone\", \"iPad\"]:\n",
    "    r._add_to_blacklist(i)"
   ]
  },
  {
   "cell_type": "code",
   "execution_count": null,
   "metadata": {},
   "outputs": [
    {
     "data": {
      "text/plain": [
       "['Musk', 'Apple', 'Bezos', 'Google', 'Samsung', 'iPhone', 'iPad', 'Canada']"
      ]
     },
     "execution_count": null,
     "metadata": {},
     "output_type": "execute_result"
    }
   ],
   "source": [
    "r._title_blacklist"
   ]
  },
  {
   "cell_type": "code",
   "execution_count": null,
   "metadata": {},
   "outputs": [],
   "source": [
    "r.update()"
   ]
  },
  {
   "cell_type": "markdown",
   "metadata": {},
   "source": [
    "## Automatically mark entries as important"
   ]
  },
  {
   "cell_type": "code",
   "execution_count": null,
   "metadata": {},
   "outputs": [],
   "source": [
    "for i in [\"interest rate\", \"Bank of Canada\", \"housing market\"]:\n",
    "    r._add_to_whitelist(i)"
   ]
  },
  {
   "cell_type": "code",
   "execution_count": null,
   "metadata": {},
   "outputs": [],
   "source": [
    "r.update()"
   ]
  },
  {
   "cell_type": "markdown",
   "metadata": {},
   "source": [
    "## CLI"
   ]
  },
  {
   "cell_type": "code",
   "execution_count": null,
   "metadata": {},
   "outputs": [],
   "source": [
    "# | export\n",
    "\n",
    "\n",
    "def main():\n",
    "    fire.Fire(PyNewsReader)"
   ]
  },
  {
   "cell_type": "code",
   "execution_count": null,
   "metadata": {},
   "outputs": [],
   "source": [
    "# | hide\n",
    "\n",
    "# To Do:\n",
    "# * User interface"
   ]
  },
  {
   "cell_type": "code",
   "execution_count": null,
   "metadata": {},
   "outputs": [],
   "source": [
    "# | hide\n",
    "import nbdev\n",
    "\n",
    "nbdev.nbdev_export()"
   ]
  }
 ],
 "metadata": {
  "kernelspec": {
   "display_name": "Python 3 (ipykernel)",
   "language": "python",
   "name": "python3"
  }
 },
 "nbformat": 4,
 "nbformat_minor": 4
}
