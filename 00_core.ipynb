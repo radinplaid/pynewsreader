{
 "cells": [
  {
   "cell_type": "markdown",
   "metadata": {},
   "source": [
    "# core\n",
    "\n",
    "> Main codebase for fetching and saving RSS feeds"
   ]
  },
  {
   "cell_type": "code",
   "execution_count": 1,
   "metadata": {
    "vscode": {
     "languageId": "python"
    }
   },
   "outputs": [],
   "source": [
    "#| default_exp core"
   ]
  },
  {
   "cell_type": "code",
   "execution_count": 2,
   "metadata": {
    "vscode": {
     "languageId": "python"
    }
   },
   "outputs": [],
   "source": [
    "#| hide\n",
    "from nbdev.showdoc import *"
   ]
  },
  {
   "cell_type": "code",
   "execution_count": 3,
   "metadata": {},
   "outputs": [],
   "source": [
    "#| export"
   ]
  },
  {
   "cell_type": "code",
   "execution_count": 4,
   "metadata": {
    "vscode": {
     "languageId": "python"
    }
   },
   "outputs": [],
   "source": [
    "#| export\n",
    "import reader\n",
    "from typing import *\n",
    "from bs4 import BeautifulSoup\n",
    "from rich import print\n",
    "from rich.panel import Panel\n",
    "from rich.text import Text\n",
    "import logging\n",
    "logger = logging.getLogger(__name__)\n",
    "\n",
    "def strip_html(s: str):\n",
    "    s = BeautifulSoup(s)\n",
    "    return s.text\n",
    "\n",
    "class PyNewsReader(reader.Reader):\n",
    "    def __init__(self, dbpath=None, feeds=None):\n",
    "        if dbpath is None:\n",
    "            logger.info(\"Database path not specified, using ./db.sqlite\")\n",
    "            dbpath = \"db.sqlite\"\n",
    "\n",
    "        self.reader = reader.make_reader(\n",
    "            \"db.sqlite\", \n",
    "            plugins=[\n",
    "                \"reader.enclosure_dedupe\",\n",
    "                \"reader.entry_dedupe\"\n",
    "            ]\n",
    "        )\n",
    "    \n",
    "        if feeds is None or self.reader.get_feed_counts().total == 0:\n",
    "            feeds = [\n",
    "                \"https://rss.cbc.ca/lineup/topstories.xml\",\n",
    "                \"https://rss.cbc.ca/lineup/world.xml\",\n",
    "                \"https://rss.cbc.ca/lineup/canada.xml\",\n",
    "                \"https://rss.cbc.ca/lineup/business.xml\",\n",
    "                \"https://rss.cbc.ca/lineup/technology.xml\",\n",
    "                \"https://www.cbc.ca/cmlink/rss-canada-ottawa\",\n",
    "                \"https://www.thestar.com/content/thestar/feed.RSSManagerServlet.articles.topstories.rss\",\n",
    "                \"https://www.thestar.com/content/thestar/feed.RSSManagerServlet.articles.news.investigations.rss\",\n",
    "                \"https://www.thestar.com/content/thestar/feed.RSSManagerServlet.articles.opinion.editorials.rss\",\n",
    "                \"https://www.macleans.ca/feed/\",\n",
    "                \"https://thetyee.ca/rss2.xml\",\n",
    "                \"https://thenarwhal.ca/feed/\",\n",
    "                \"https://ricochet.media/en/feed\",\n",
    "            ]\n",
    "\n",
    "        for feed in feeds:\n",
    "            logger.info(\"Feeds not specified, starting you off with some Canadian news\")\n",
    "            self.reader.add_feed(feed, exist_ok=True)\n",
    "        \n",
    "        super().__init__(self.reader._storage, self.reader._search, self.reader._parser, self.reader._reserved_name_scheme)\n",
    "        self.enable_search()\n",
    "\n",
    "    def print_entries(self, entries: List[reader.Entry]):\n",
    "        \"\"\"\n",
    "        Pretty print entries - supports reader.Reader.get_entries arguments\n",
    "        \"\"\"\n",
    "        for e in entries:\n",
    "            if e.published:\n",
    "                published_date = Text(\n",
    "                    \"Date: \" + e.published.isoformat()[:10], justify=\"center\"\n",
    "                )\n",
    "            else:\n",
    "                published_date = Text(\"Date: Unknown\", justify=\"center\")\n",
    "            print(\n",
    "                Panel(\n",
    "                    published_date + \"\\n\" + Text(strip_html(e.summary), justify=None),\n",
    "                    title=f\"[link={e.link}]{e.title}[/link]\",\n",
    "                    subtitle=e.feed.title or e.feed_url,\n",
    "                )\n",
    "            )\n",
    "            print()\n",
    "    \n",
    "    def show(self, limit: int = 5, **kwargs) -> type(None):\n",
    "        \"\"\"Pretty print entries - supports reader.Reader.get_entries arguments\"\"\"\n",
    "        self.print_entries(self.get_entries(**kwargs, limit=limit))    \n",
    "    \n",
    "    def search(self, query:str):\n",
    "        \"\"\"Search entries and pretty print results\"\"\"\n",
    "        entries = []\n",
    "        for e in r.search_entries(query):\n",
    "            entries.append(self.search_to_entry(e))\n",
    "        self.print_entries(entries)\n",
    "    \n",
    "    def search_to_entry(self, search_result):\n",
    "        for i in r.get_entries():\n",
    "            if i.id == search_result.id and i.feed_url == search_result.feed_url:\n",
    "                return i\n",
    "    \n",
    "    def update(self):\n",
    "        \"\"\"Update feeds and search\"\"\"\n",
    "        self.update_feeds()\n",
    "        self.update_search()\n"
   ]
  },
  {
   "cell_type": "code",
   "execution_count": 5,
   "metadata": {},
   "outputs": [
    {
     "name": "stderr",
     "output_type": "stream",
     "text": [
      "/home/mark/mambaforge/lib/python3.10/site-packages/reader/core.py:443: UserWarning: Reader objects should be created using make_reader(); the Reader constructor is not stable yet and may change without any notice.\n",
      "  warnings.warn(\n"
     ]
    }
   ],
   "source": [
    "r = PyNewsReader()"
   ]
  },
  {
   "cell_type": "markdown",
   "metadata": {},
   "source": [
    "## List feeds"
   ]
  },
  {
   "cell_type": "code",
   "execution_count": 6,
   "metadata": {},
   "outputs": [
    {
     "data": {
      "text/plain": [
       "['https://ricochet.media/en/feed',\n",
       " 'CBC | Business News',\n",
       " 'CBC | Canada News',\n",
       " 'CBC | Ottawa News',\n",
       " 'CBC | Technology News',\n",
       " 'CBC | Top Stories News',\n",
       " 'CBC | World News',\n",
       " 'Macleans.ca',\n",
       " 'The Narwhal',\n",
       " \"The Tyee | BC's home for today's news, analysis and updates\",\n",
       " 'TORONTO STAR',\n",
       " 'TORONTO STAR',\n",
       " 'TORONTO STAR']"
      ]
     },
     "execution_count": 6,
     "metadata": {},
     "output_type": "execute_result"
    }
   ],
   "source": [
    "[i.title or i.url for i in r.get_feeds()]"
   ]
  },
  {
   "cell_type": "markdown",
   "metadata": {},
   "source": [
    "## Update Feeds"
   ]
  },
  {
   "cell_type": "code",
   "execution_count": 7,
   "metadata": {},
   "outputs": [],
   "source": [
    "r.update()"
   ]
  },
  {
   "cell_type": "markdown",
   "metadata": {},
   "source": [
    "## List Entries"
   ]
  },
  {
   "cell_type": "code",
   "execution_count": 8,
   "metadata": {},
   "outputs": [
    {
     "data": {
      "text/html": [
       "<pre style=\"white-space:pre;overflow-x:auto;line-height:normal;font-family:Menlo,'DejaVu Sans Mono',consolas,'Courier New',monospace\">╭──────────────────── <a href=\"https://www.thestar.com/politics/federal/2022/12/07/critics-say-feds-taking-scattergun-approach-to-investment-law-reforms.html\" target=\"_blank\">Critics say feds taking ‘scattergun’ approach to investment law reforms</a> ────────────────────╮\n",
       "│                                                Date: 2022-12-08                                                 │\n",
       "│             Ottawa unveils heightened scrutiny measures in amendments to the Investment Canada Act              │\n",
       "╰───────────────────────────────────────────────── TORONTO STAR ──────────────────────────────────────────────────╯\n",
       "</pre>\n"
      ],
      "text/plain": [
       "╭──────────────────── \u001b]8;id=918182;https://www.thestar.com/politics/federal/2022/12/07/critics-say-feds-taking-scattergun-approach-to-investment-law-reforms.html\u001b\\Critics say feds taking ‘scattergun’ approach to investment law reforms\u001b]8;;\u001b\\ ────────────────────╮\n",
       "│                                                Date: 2022-12-08                                                 │\n",
       "│             Ottawa unveils heightened scrutiny measures in amendments to the Investment Canada Act              │\n",
       "╰───────────────────────────────────────────────── TORONTO STAR ──────────────────────────────────────────────────╯\n"
      ]
     },
     "metadata": {},
     "output_type": "display_data"
    },
    {
     "data": {
      "text/html": [
       "<pre style=\"white-space:pre;overflow-x:auto;line-height:normal;font-family:Menlo,'DejaVu Sans Mono',consolas,'Courier New',monospace\">\n",
       "</pre>\n"
      ],
      "text/plain": [
       "\n"
      ]
     },
     "metadata": {},
     "output_type": "display_data"
    },
    {
     "data": {
      "text/html": [
       "<pre style=\"white-space:pre;overflow-x:auto;line-height:normal;font-family:Menlo,'DejaVu Sans Mono',consolas,'Courier New',monospace\">╭─────────────────────── <a href=\"https://www.cbc.ca/news/canada/ottawa/transit-deficit-2022-city-ottawa-safe-restart-1.6678227?cmp=rss\" target=\"_blank\">City's transit deficit not fully covered off by provincial grants</a> ───────────────────────╮\n",
       "│                                                Date: 2022-12-08                                                 │\n",
       "│   The City of Ottawa wasn't allocated enough funding in a long-awaited provincial announcement to fully cover   │\n",
       "│                                off its anticipated $85-million transit deficit.                                 │\n",
       "╰─────────────────────────────────────────────── CBC | Ottawa News ───────────────────────────────────────────────╯\n",
       "</pre>\n"
      ],
      "text/plain": [
       "╭─────────────────────── \u001b]8;id=675479;https://www.cbc.ca/news/canada/ottawa/transit-deficit-2022-city-ottawa-safe-restart-1.6678227?cmp=rss\u001b\\City's transit deficit not fully covered off by provincial grants\u001b]8;;\u001b\\ ───────────────────────╮\n",
       "│                                                Date: 2022-12-08                                                 │\n",
       "│   The City of Ottawa wasn't allocated enough funding in a long-awaited provincial announcement to fully cover   │\n",
       "│                                off its anticipated $85-million transit deficit.                                 │\n",
       "╰─────────────────────────────────────────────── CBC | Ottawa News ───────────────────────────────────────────────╯\n"
      ]
     },
     "metadata": {},
     "output_type": "display_data"
    },
    {
     "data": {
      "text/html": [
       "<pre style=\"white-space:pre;overflow-x:auto;line-height:normal;font-family:Menlo,'DejaVu Sans Mono',consolas,'Courier New',monospace\">\n",
       "</pre>\n"
      ],
      "text/plain": [
       "\n"
      ]
     },
     "metadata": {},
     "output_type": "display_data"
    },
    {
     "data": {
      "text/html": [
       "<pre style=\"white-space:pre;overflow-x:auto;line-height:normal;font-family:Menlo,'DejaVu Sans Mono',consolas,'Courier New',monospace\">╭────────────────────────────────── <a href=\"https://thetyee.ca/News/2022/12/07/New-Cabinet-Steering-BC/\" target=\"_blank\">Meet the New Cabinet Steering BC (in News)</a> ───────────────────────────────────╮\n",
       "│                                                  Date: Unknown                                                  │\n",
       "│                         Fresh faces join veterans as Premier David Eby sets priorities.                         │\n",
       "╰────────────────────────── The Tyee | BC's home for today's news, analysis and updates ──────────────────────────╯\n",
       "</pre>\n"
      ],
      "text/plain": [
       "╭────────────────────────────────── \u001b]8;id=851287;https://thetyee.ca/News/2022/12/07/New-Cabinet-Steering-BC/\u001b\\Meet the New Cabinet Steering BC (in News)\u001b]8;;\u001b\\ ───────────────────────────────────╮\n",
       "│                                                  Date: Unknown                                                  │\n",
       "│                         Fresh faces join veterans as Premier David Eby sets priorities.                         │\n",
       "╰────────────────────────── The Tyee | BC's home for today's news, analysis and updates ──────────────────────────╯\n"
      ]
     },
     "metadata": {},
     "output_type": "display_data"
    },
    {
     "data": {
      "text/html": [
       "<pre style=\"white-space:pre;overflow-x:auto;line-height:normal;font-family:Menlo,'DejaVu Sans Mono',consolas,'Courier New',monospace\">\n",
       "</pre>\n"
      ],
      "text/plain": [
       "\n"
      ]
     },
     "metadata": {},
     "output_type": "display_data"
    },
    {
     "data": {
      "text/html": [
       "<pre style=\"white-space:pre;overflow-x:auto;line-height:normal;font-family:Menlo,'DejaVu Sans Mono',consolas,'Courier New',monospace\">╭──────────────────────────────────── <a href=\"https://thetyee.ca/News/2022/12/07/Mellowing-Laird-Cronk/\" target=\"_blank\">The Mellowing of Laird Cronk (in News)</a> ─────────────────────────────────────╮\n",
       "│                                                  Date: Unknown                                                  │\n",
       "│           The ex-BC Federation of Labour head on boxing, politics and working with an NDP government.           │\n",
       "╰────────────────────────── The Tyee | BC's home for today's news, analysis and updates ──────────────────────────╯\n",
       "</pre>\n"
      ],
      "text/plain": [
       "╭──────────────────────────────────── \u001b]8;id=638856;https://thetyee.ca/News/2022/12/07/Mellowing-Laird-Cronk/\u001b\\The Mellowing of Laird Cronk (in News)\u001b]8;;\u001b\\ ─────────────────────────────────────╮\n",
       "│                                                  Date: Unknown                                                  │\n",
       "│           The ex-BC Federation of Labour head on boxing, politics and working with an NDP government.           │\n",
       "╰────────────────────────── The Tyee | BC's home for today's news, analysis and updates ──────────────────────────╯\n"
      ]
     },
     "metadata": {},
     "output_type": "display_data"
    },
    {
     "data": {
      "text/html": [
       "<pre style=\"white-space:pre;overflow-x:auto;line-height:normal;font-family:Menlo,'DejaVu Sans Mono',consolas,'Courier New',monospace\">\n",
       "</pre>\n"
      ],
      "text/plain": [
       "\n"
      ]
     },
     "metadata": {},
     "output_type": "display_data"
    },
    {
     "data": {
      "text/html": [
       "<pre style=\"white-space:pre;overflow-x:auto;line-height:normal;font-family:Menlo,'DejaVu Sans Mono',consolas,'Courier New',monospace\">╭────────────────────── <a href=\"https://thetyee.ca/Culture/2022/12/07/Visit-Anne-Cameron-In-Tahsis/\" target=\"_blank\">At Canada’s End of the Road, a Visit with Anne Cameron (in Culture)</a> ──────────────────────╮\n",
       "│                                                  Date: Unknown                                                  │\n",
       "│    The late, noted author (and Tyee commenter) on Indigenous blockades, her most controversial book, life in    │\n",
       "│                                                Tahsis, and more.                                                │\n",
       "╰────────────────────────── The Tyee | BC's home for today's news, analysis and updates ──────────────────────────╯\n",
       "</pre>\n"
      ],
      "text/plain": [
       "╭────────────────────── \u001b]8;id=108898;https://thetyee.ca/Culture/2022/12/07/Visit-Anne-Cameron-In-Tahsis/\u001b\\At Canada’s End of the Road, a Visit with Anne Cameron (in Culture)\u001b]8;;\u001b\\ ──────────────────────╮\n",
       "│                                                  Date: Unknown                                                  │\n",
       "│    The late, noted author (and Tyee commenter) on Indigenous blockades, her most controversial book, life in    │\n",
       "│                                                Tahsis, and more.                                                │\n",
       "╰────────────────────────── The Tyee | BC's home for today's news, analysis and updates ──────────────────────────╯\n"
      ]
     },
     "metadata": {},
     "output_type": "display_data"
    },
    {
     "data": {
      "text/html": [
       "<pre style=\"white-space:pre;overflow-x:auto;line-height:normal;font-family:Menlo,'DejaVu Sans Mono',consolas,'Courier New',monospace\">\n",
       "</pre>\n"
      ],
      "text/plain": [
       "\n"
      ]
     },
     "metadata": {},
     "output_type": "display_data"
    },
    {
     "data": {
      "text/html": [
       "<pre style=\"white-space:pre;overflow-x:auto;line-height:normal;font-family:Menlo,'DejaVu Sans Mono',consolas,'Courier New',monospace\">╭───────────────── <a href=\"https://thetyee.ca/Opinion/2022/12/07/Danielle-Smith-As-Queen/\" target=\"_blank\">Please Advise! Can Danielle Smith Really Declare Herself Queen? (in Opinion)</a> ──────────────────╮\n",
       "│                                                  Date: Unknown                                                  │\n",
       "│           Don’t worry about the premier’s power grab, says Dr. Steve. She’ll change her mind — again.           │\n",
       "╰────────────────────────── The Tyee | BC's home for today's news, analysis and updates ──────────────────────────╯\n",
       "</pre>\n"
      ],
      "text/plain": [
       "╭───────────────── \u001b]8;id=160614;https://thetyee.ca/Opinion/2022/12/07/Danielle-Smith-As-Queen/\u001b\\Please Advise! Can Danielle Smith Really Declare Herself Queen? (in Opinion)\u001b]8;;\u001b\\ ──────────────────╮\n",
       "│                                                  Date: Unknown                                                  │\n",
       "│           Don’t worry about the premier’s power grab, says Dr. Steve. She’ll change her mind — again.           │\n",
       "╰────────────────────────── The Tyee | BC's home for today's news, analysis and updates ──────────────────────────╯\n"
      ]
     },
     "metadata": {},
     "output_type": "display_data"
    },
    {
     "data": {
      "text/html": [
       "<pre style=\"white-space:pre;overflow-x:auto;line-height:normal;font-family:Menlo,'DejaVu Sans Mono',consolas,'Courier New',monospace\">\n",
       "</pre>\n"
      ],
      "text/plain": [
       "\n"
      ]
     },
     "metadata": {},
     "output_type": "display_data"
    },
    {
     "data": {
      "text/html": [
       "<pre style=\"white-space:pre;overflow-x:auto;line-height:normal;font-family:Menlo,'DejaVu Sans Mono',consolas,'Courier New',monospace\">╭────────────── <a href=\"https://thetyee.ca/News/2022/12/07/Whistleblower-Protection-For-Crown-Corps/\" target=\"_blank\">Whistleblower Protections Expanded to Include BC Housing, Other Agencies (in News)</a> ───────────────╮\n",
       "│                                                  Date: Unknown                                                  │\n",
       "│             Some BC Housing employees have alleged the former CEO broke conflict of interest rules.             │\n",
       "╰────────────────────────── The Tyee | BC's home for today's news, analysis and updates ──────────────────────────╯\n",
       "</pre>\n"
      ],
      "text/plain": [
       "╭────────────── \u001b]8;id=420040;https://thetyee.ca/News/2022/12/07/Whistleblower-Protection-For-Crown-Corps/\u001b\\Whistleblower Protections Expanded to Include BC Housing, Other Agencies (in News)\u001b]8;;\u001b\\ ───────────────╮\n",
       "│                                                  Date: Unknown                                                  │\n",
       "│             Some BC Housing employees have alleged the former CEO broke conflict of interest rules.             │\n",
       "╰────────────────────────── The Tyee | BC's home for today's news, analysis and updates ──────────────────────────╯\n"
      ]
     },
     "metadata": {},
     "output_type": "display_data"
    },
    {
     "data": {
      "text/html": [
       "<pre style=\"white-space:pre;overflow-x:auto;line-height:normal;font-family:Menlo,'DejaVu Sans Mono',consolas,'Courier New',monospace\">\n",
       "</pre>\n"
      ],
      "text/plain": [
       "\n"
      ]
     },
     "metadata": {},
     "output_type": "display_data"
    },
    {
     "data": {
      "text/html": [
       "<pre style=\"white-space:pre;overflow-x:auto;line-height:normal;font-family:Menlo,'DejaVu Sans Mono',consolas,'Courier New',monospace\">╭──────────────────────────── <a href=\"https://thetyee.ca/Analysis/2022/12/06/BC-Hasnt-Learned-Much-Pandemic-Report-Covid-Disappointed/\" target=\"_blank\">BC Hasn’t Learned Much from the Pandemic (in Analysis)</a> ─────────────────────────────╮\n",
       "│                                                  Date: Unknown                                                  │\n",
       "│        A report on the provincial response to the COVID-19 pandemic shows citizens are disappointed and         │\n",
       "│                                          disenfranchised. Here’s why.                                           │\n",
       "╰────────────────────────── The Tyee | BC's home for today's news, analysis and updates ──────────────────────────╯\n",
       "</pre>\n"
      ],
      "text/plain": [
       "╭──────────────────────────── \u001b]8;id=625025;https://thetyee.ca/Analysis/2022/12/06/BC-Hasnt-Learned-Much-Pandemic-Report-Covid-Disappointed/\u001b\\BC Hasn’t Learned Much from the Pandemic (in Analysis)\u001b]8;;\u001b\\ ─────────────────────────────╮\n",
       "│                                                  Date: Unknown                                                  │\n",
       "│        A report on the provincial response to the COVID-19 pandemic shows citizens are disappointed and         │\n",
       "│                                          disenfranchised. Here’s why.                                           │\n",
       "╰────────────────────────── The Tyee | BC's home for today's news, analysis and updates ──────────────────────────╯\n"
      ]
     },
     "metadata": {},
     "output_type": "display_data"
    },
    {
     "data": {
      "text/html": [
       "<pre style=\"white-space:pre;overflow-x:auto;line-height:normal;font-family:Menlo,'DejaVu Sans Mono',consolas,'Courier New',monospace\">\n",
       "</pre>\n"
      ],
      "text/plain": [
       "\n"
      ]
     },
     "metadata": {},
     "output_type": "display_data"
    },
    {
     "data": {
      "text/html": [
       "<pre style=\"white-space:pre;overflow-x:auto;line-height:normal;font-family:Menlo,'DejaVu Sans Mono',consolas,'Courier New',monospace\">╭────────────────────── <a href=\"https://thetyee.ca/Culture/2022/12/06/Nan-Goldin-Art-Icon-Big-Pharma-Knees/\" target=\"_blank\">Meet the Art Icon Who Brought Big Pharma To Its Knees (in Culture)</a> ───────────────────────╮\n",
       "│                                                  Date: Unknown                                                  │\n",
       "│                         Art can change the world, and Nan Goldin’s work does just that.                         │\n",
       "╰────────────────────────── The Tyee | BC's home for today's news, analysis and updates ──────────────────────────╯\n",
       "</pre>\n"
      ],
      "text/plain": [
       "╭────────────────────── \u001b]8;id=397649;https://thetyee.ca/Culture/2022/12/06/Nan-Goldin-Art-Icon-Big-Pharma-Knees/\u001b\\Meet the Art Icon Who Brought Big Pharma To Its Knees (in Culture)\u001b]8;;\u001b\\ ───────────────────────╮\n",
       "│                                                  Date: Unknown                                                  │\n",
       "│                         Art can change the world, and Nan Goldin’s work does just that.                         │\n",
       "╰────────────────────────── The Tyee | BC's home for today's news, analysis and updates ──────────────────────────╯\n"
      ]
     },
     "metadata": {},
     "output_type": "display_data"
    },
    {
     "data": {
      "text/html": [
       "<pre style=\"white-space:pre;overflow-x:auto;line-height:normal;font-family:Menlo,'DejaVu Sans Mono',consolas,'Courier New',monospace\">\n",
       "</pre>\n"
      ],
      "text/plain": [
       "\n"
      ]
     },
     "metadata": {},
     "output_type": "display_data"
    },
    {
     "data": {
      "text/html": [
       "<pre style=\"white-space:pre;overflow-x:auto;line-height:normal;font-family:Menlo,'DejaVu Sans Mono',consolas,'Courier New',monospace\">╭─────────────────────── <a href=\"https://thetyee.ca/News/2022/12/06/Calls-For-Flu-Fighting-Vaxapalooza/\" target=\"_blank\">Calls for a Flu-Fighting ‘Vaxapalooza.’ But What Else? (in News)</a> ────────────────────────╮\n",
       "│                                                  Date: Unknown                                                  │\n",
       "│     Beyond the ‘blitz’ of flu shots aimed for by BC health officials, critics urge more focus on masks and      │\n",
       "│                                                  ventilation.                                                   │\n",
       "╰────────────────────────── The Tyee | BC's home for today's news, analysis and updates ──────────────────────────╯\n",
       "</pre>\n"
      ],
      "text/plain": [
       "╭─────────────────────── \u001b]8;id=804896;https://thetyee.ca/News/2022/12/06/Calls-For-Flu-Fighting-Vaxapalooza/\u001b\\Calls for a Flu-Fighting ‘Vaxapalooza.’ But What Else? (in News)\u001b]8;;\u001b\\ ────────────────────────╮\n",
       "│                                                  Date: Unknown                                                  │\n",
       "│     Beyond the ‘blitz’ of flu shots aimed for by BC health officials, critics urge more focus on masks and      │\n",
       "│                                                  ventilation.                                                   │\n",
       "╰────────────────────────── The Tyee | BC's home for today's news, analysis and updates ──────────────────────────╯\n"
      ]
     },
     "metadata": {},
     "output_type": "display_data"
    },
    {
     "data": {
      "text/html": [
       "<pre style=\"white-space:pre;overflow-x:auto;line-height:normal;font-family:Menlo,'DejaVu Sans Mono',consolas,'Courier New',monospace\">\n",
       "</pre>\n"
      ],
      "text/plain": [
       "\n"
      ]
     },
     "metadata": {},
     "output_type": "display_data"
    }
   ],
   "source": [
    "r.show(limit=10)"
   ]
  },
  {
   "cell_type": "markdown",
   "metadata": {},
   "source": [
    "## Search Entries"
   ]
  },
  {
   "cell_type": "code",
   "execution_count": 9,
   "metadata": {},
   "outputs": [
    {
     "data": {
      "text/html": [
       "<pre style=\"white-space:pre;overflow-x:auto;line-height:normal;font-family:Menlo,'DejaVu Sans Mono',consolas,'Courier New',monospace\">╭───────────────────────── <a href=\"https://www.cbc.ca/news/science/mars-moon-occultation-1.6677281?cmp=rss\" target=\"_blank\">How you can watch Mars disappear behind the full moon tonight</a> ─────────────────────────╮\n",
       "│                                                Date: 2022-12-07                                                 │\n",
       "│  If you happen to have clear skies on Wednesday night, you’ll be able to catch a planet disappearing behind the │\n",
       "│                                                      moon.                                                      │\n",
       "╰─────────────────────────────────────────────── CBC | Canada News ───────────────────────────────────────────────╯\n",
       "</pre>\n"
      ],
      "text/plain": [
       "╭───────────────────────── \u001b]8;id=51080;https://www.cbc.ca/news/science/mars-moon-occultation-1.6677281?cmp=rss\u001b\\How you can watch Mars disappear behind the full moon tonight\u001b]8;;\u001b\\ ─────────────────────────╮\n",
       "│                                                Date: 2022-12-07                                                 │\n",
       "│  If you happen to have clear skies on Wednesday night, you’ll be able to catch a planet disappearing behind the │\n",
       "│                                                      moon.                                                      │\n",
       "╰─────────────────────────────────────────────── CBC | Canada News ───────────────────────────────────────────────╯\n"
      ]
     },
     "metadata": {},
     "output_type": "display_data"
    },
    {
     "data": {
      "text/html": [
       "<pre style=\"white-space:pre;overflow-x:auto;line-height:normal;font-family:Menlo,'DejaVu Sans Mono',consolas,'Courier New',monospace\">\n",
       "</pre>\n"
      ],
      "text/plain": [
       "\n"
      ]
     },
     "metadata": {},
     "output_type": "display_data"
    },
    {
     "data": {
      "text/html": [
       "<pre style=\"white-space:pre;overflow-x:auto;line-height:normal;font-family:Menlo,'DejaVu Sans Mono',consolas,'Courier New',monospace\">╭───────────────────────── <a href=\"https://www.cbc.ca/news/science/mars-moon-occultation-1.6677281?cmp=rss\" target=\"_blank\">How you can watch Mars disappear behind the full moon tonight</a> ─────────────────────────╮\n",
       "│                                                Date: 2022-12-07                                                 │\n",
       "│  If you happen to have clear skies on Wednesday night, you’ll be able to catch a planet disappearing behind the │\n",
       "│                                                      moon.                                                      │\n",
       "╰───────────────────────────────────────────── CBC | Technology News ─────────────────────────────────────────────╯\n",
       "</pre>\n"
      ],
      "text/plain": [
       "╭───────────────────────── \u001b]8;id=923147;https://www.cbc.ca/news/science/mars-moon-occultation-1.6677281?cmp=rss\u001b\\How you can watch Mars disappear behind the full moon tonight\u001b]8;;\u001b\\ ─────────────────────────╮\n",
       "│                                                Date: 2022-12-07                                                 │\n",
       "│  If you happen to have clear skies on Wednesday night, you’ll be able to catch a planet disappearing behind the │\n",
       "│                                                      moon.                                                      │\n",
       "╰───────────────────────────────────────────── CBC | Technology News ─────────────────────────────────────────────╯\n"
      ]
     },
     "metadata": {},
     "output_type": "display_data"
    },
    {
     "data": {
      "text/html": [
       "<pre style=\"white-space:pre;overflow-x:auto;line-height:normal;font-family:Menlo,'DejaVu Sans Mono',consolas,'Courier New',monospace\">\n",
       "</pre>\n"
      ],
      "text/plain": [
       "\n"
      ]
     },
     "metadata": {},
     "output_type": "display_data"
    },
    {
     "data": {
      "text/html": [
       "<pre style=\"white-space:pre;overflow-x:auto;line-height:normal;font-family:Menlo,'DejaVu Sans Mono',consolas,'Courier New',monospace\">╭───────────────────────── <a href=\"https://www.cbc.ca/news/science/mars-moon-occultation-1.6677281?cmp=rss\" target=\"_blank\">How you can watch Mars disappear behind the full moon tonight</a> ─────────────────────────╮\n",
       "│                                                Date: 2022-12-07                                                 │\n",
       "│  If you happen to have clear skies on Wednesday night, you’ll be able to catch a planet disappearing behind the │\n",
       "│                                                      moon.                                                      │\n",
       "╰──────────────────────────────────────────── CBC | Top Stories News ─────────────────────────────────────────────╯\n",
       "</pre>\n"
      ],
      "text/plain": [
       "╭───────────────────────── \u001b]8;id=165417;https://www.cbc.ca/news/science/mars-moon-occultation-1.6677281?cmp=rss\u001b\\How you can watch Mars disappear behind the full moon tonight\u001b]8;;\u001b\\ ─────────────────────────╮\n",
       "│                                                Date: 2022-12-07                                                 │\n",
       "│  If you happen to have clear skies on Wednesday night, you’ll be able to catch a planet disappearing behind the │\n",
       "│                                                      moon.                                                      │\n",
       "╰──────────────────────────────────────────── CBC | Top Stories News ─────────────────────────────────────────────╯\n"
      ]
     },
     "metadata": {},
     "output_type": "display_data"
    },
    {
     "data": {
      "text/html": [
       "<pre style=\"white-space:pre;overflow-x:auto;line-height:normal;font-family:Menlo,'DejaVu Sans Mono',consolas,'Courier New',monospace\">\n",
       "</pre>\n"
      ],
      "text/plain": [
       "\n"
      ]
     },
     "metadata": {},
     "output_type": "display_data"
    },
    {
     "data": {
      "text/html": [
       "<pre style=\"white-space:pre;overflow-x:auto;line-height:normal;font-family:Menlo,'DejaVu Sans Mono',consolas,'Courier New',monospace\">╭───────────────────────────────────────── <a href=\"https://www.cbc.ca/news/world/a-second-chance-for-the-bees-1.6676534?cmp=rss\" target=\"_blank\">A second chance for the bees</a> ──────────────────────────────────────────╮\n",
       "│                                                Date: 2022-12-06                                                 │\n",
       "│     Metalsmith Angel Nieto is an amateur beekeeper in Vina del Mar, Chile, who started receiving calls from     │\n",
       "│           firefighters last year to take beehives in populated areas and relocate them to safe areas.           │\n",
       "╰─────────────────────────────────────────────── CBC | World News ────────────────────────────────────────────────╯\n",
       "</pre>\n"
      ],
      "text/plain": [
       "╭───────────────────────────────────────── \u001b]8;id=996408;https://www.cbc.ca/news/world/a-second-chance-for-the-bees-1.6676534?cmp=rss\u001b\\A second chance for the bees\u001b]8;;\u001b\\ ──────────────────────────────────────────╮\n",
       "│                                                Date: 2022-12-06                                                 │\n",
       "│     Metalsmith Angel Nieto is an amateur beekeeper in Vina del Mar, Chile, who started receiving calls from     │\n",
       "│           firefighters last year to take beehives in populated areas and relocate them to safe areas.           │\n",
       "╰─────────────────────────────────────────────── CBC | World News ────────────────────────────────────────────────╯\n"
      ]
     },
     "metadata": {},
     "output_type": "display_data"
    },
    {
     "data": {
      "text/html": [
       "<pre style=\"white-space:pre;overflow-x:auto;line-height:normal;font-family:Menlo,'DejaVu Sans Mono',consolas,'Courier New',monospace\">\n",
       "</pre>\n"
      ],
      "text/plain": [
       "\n"
      ]
     },
     "metadata": {},
     "output_type": "display_data"
    }
   ],
   "source": [
    "r.search(\"mars\")"
   ]
  },
  {
   "cell_type": "code",
   "execution_count": 10,
   "metadata": {},
   "outputs": [],
   "source": [
    "## Change title of feed"
   ]
  },
  {
   "cell_type": "code",
   "execution_count": 11,
   "metadata": {
    "vscode": {
     "languageId": "python"
    }
   },
   "outputs": [],
   "source": [
    "#| hide\n",
    "import nbdev\n",
    "\n",
    "nbdev.nbdev_export()"
   ]
  }
 ],
 "metadata": {
  "kernelspec": {
   "display_name": "Python 3 (ipykernel)",
   "language": "python",
   "name": "python3"
  },
  "language_info": {
   "codemirror_mode": {
    "name": "ipython",
    "version": 3
   },
   "file_extension": ".py",
   "mimetype": "text/x-python",
   "name": "python",
   "nbconvert_exporter": "python",
   "pygments_lexer": "ipython3",
   "version": "3.10.6"
  }
 },
 "nbformat": 4,
 "nbformat_minor": 4
}
