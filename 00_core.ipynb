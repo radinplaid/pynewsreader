{
 "cells": [
  {
   "cell_type": "markdown",
   "metadata": {},
   "source": [
    "# core\n",
    "\n",
    "> Main codebase for fetching and saving RSS feeds"
   ]
  },
  {
   "cell_type": "code",
   "execution_count": 1,
   "metadata": {},
   "outputs": [],
   "source": [
    "# | default_exp core\n"
   ]
  },
  {
   "cell_type": "code",
   "execution_count": 2,
   "metadata": {},
   "outputs": [],
   "source": [
    "# | hide\n",
    "from nbdev.showdoc import *\n"
   ]
  },
  {
   "cell_type": "code",
   "execution_count": 14,
   "metadata": {},
   "outputs": [],
   "source": [
    "# | export\n",
    "\n",
    "import reader\n",
    "from typing import *\n",
    "from bs4 import BeautifulSoup\n",
    "from rich import print\n",
    "from rich.panel import Panel\n",
    "from rich.text import Text\n",
    "import logging\n",
    "\n",
    "logger = logging.getLogger(__name__)\n",
    "\n",
    "\n",
    "def strip_html(s: str):\n",
    "    s = BeautifulSoup(s)\n",
    "    return s.text\n"
   ]
  },
  {
   "cell_type": "code",
   "execution_count": 60,
   "metadata": {},
   "outputs": [],
   "source": [
    "# | export\n",
    "\n",
    "class Feed:\n",
    "    \"\"\"RSS feed class \n",
    "    \"\"\"\n",
    "\n",
    "    def __init__(self, url: str, name: str = None, tags: List[str] = []):\n",
    "        self.url = url\n",
    "        self.name = name\n",
    "        self.tags = tags\n",
    "\n",
    "    def add_tag(self, tag: str):\n",
    "        if tag not in self.tags:\n",
    "            self.tags.append(tag)\n",
    "\n",
    "    def remove_tag(self, tag: str):\n",
    "        if tag in self.tags:\n",
    "            self.tags.remove(tag)\n"
   ]
  },
  {
   "cell_type": "code",
   "execution_count": 212,
   "metadata": {},
   "outputs": [],
   "source": [
    "# | export\n",
    "\n",
    "class PyNewsReader:\n",
    "    def __init__(self, dbpath=None, feeds=List[Feed]):\n",
    "        if dbpath is None:\n",
    "            logger.info(\"Database path not specified, using ./db.sqlite\")\n",
    "            dbpath = \"db.sqlite\"\n",
    "\n",
    "        self._reader = reader.make_reader(\n",
    "            \"db.sqlite\", plugins=[\"reader.enclosure_dedupe\", \"reader.entry_dedupe\"]\n",
    "        )\n",
    "\n",
    "        self._reader.enable_search()\n",
    "        self._feed_names = {}\n",
    "\n",
    "    def _print_entries(self, entries: List[reader.Entry], mark_as_read: bool = True, limit: int = 10):\n",
    "        \"\"\"\n",
    "        Pretty print entries - supports reader.Reader.get_entries arguments\n",
    "        \"\"\"\n",
    "        displayed_links = set()\n",
    "        for e in entries:\n",
    "            if e.link in displayed_links:\n",
    "                # Don't display duplicates\n",
    "                self._reader.mark_entry_as_read(e)\n",
    "            else:\n",
    "                displayed_links.add(e.link)\n",
    "                if e.published:\n",
    "                    published_date = Text(\n",
    "                        \"Date: \" + e.published.isoformat()[:10], justify=\"center\"\n",
    "                    )\n",
    "                else:\n",
    "                    published_date = Text(\"Date: Unknown\", justify=\"center\")\n",
    "                if mark_as_read:\n",
    "                    self._reader.mark_entry_as_read(e)\n",
    "\n",
    "                feed_title = self._get_feed_title(e.original_feed_url)\n",
    "                print(\n",
    "                    Panel(\n",
    "                        published_date\n",
    "                        + \"\\n\\n\"\n",
    "                        + Text(strip_html(e.summary) + \"\\n\", justify=None),\n",
    "                        title=f\"[link={e.link}]{e.title}[/link]\",\n",
    "                        subtitle=feed_title,\n",
    "                    )\n",
    "                )\n",
    "                print()\n",
    "            if len(displayed_links) == limit:\n",
    "                return\n",
    "\n",
    "    def _search_to_entry(self, search_result):\n",
    "        for i in self._reader.get_entries():\n",
    "            if i.id == search_result.id and i.feed_url == search_result.feed_url:\n",
    "                return i\n",
    "\n",
    "    def _get_feed_title(self, url: str):\n",
    "        \"\"\"Get display title for pynewsreader feed\n",
    "\n",
    "        Args:\n",
    "            url (str): URL of pynewsreader feed\n",
    "\n",
    "        Returns:\n",
    "            str: Display title\n",
    "        \"\"\"\n",
    "        if url in self._feed_names:\n",
    "            return self._feed_names[url]\n",
    "        elif self._reader.get_feed(url).title:\n",
    "            return self._reader.get_feed(url).title\n",
    "        else:\n",
    "            return self._reader.get_feed(url).url\n",
    "\n",
    "    def update(self):\n",
    "        \"\"\"Update feeds and search\"\"\"\n",
    "        self._reader.update_feeds()\n",
    "        self._reader.update_search()\n",
    "\n",
    "    def get_entries(self, important: bool = None, read: Union[None, bool] = None, limit: int = 10):\n",
    "        \"\"\"Get entries in reader.Entry format\n",
    "\n",
    "        Args:\n",
    "            read (reader.Entry.read, optional): Filter on `read` status (None, True, False). Defaults to None.\n",
    "            limit (int, optional): Number of entries to return. Defaults to 10.\n",
    "\n",
    "        Returns:\n",
    "            List[reader.Entry]: List of entries\n",
    "        \"\"\"\n",
    "        return self._reader.get_entries(read=read, limit=limit, important=important)\n",
    "\n",
    "    def add_feed(self, feed: Feed):\n",
    "        \"\"\"Add feed to pynewsreader\n",
    "\n",
    "        Args:\n",
    "            feed (Feed): pynewsreader Feed to add\n",
    "        \"\"\"\n",
    "        self._reader.add_feed(feed.url, exist_ok=True)\n",
    "        if feed.name:\n",
    "            self._feed_names[feed.url] = feed.name\n",
    "\n",
    "    def remove_feed(self, feed: Feed):\n",
    "        \"\"\"Remove feed from pynewsreader instance\n",
    "\n",
    "        Args:\n",
    "            feed (Feed): Feed to remove\n",
    "        \"\"\"\n",
    "\n",
    "        self._reader.delete_feed(feed.url)\n",
    "\n",
    "    def list_feeds(self):\n",
    "        \"\"\"List pynewsreader feeds\n",
    "\n",
    "        Returns:\n",
    "            List[str]: List of names of current pynewsreader feeds\n",
    "        \"\"\"\n",
    "        return [self._get_feed_title(i.url) for i in self._reader.get_feeds()]\n",
    "\n",
    "    def show(self, limit: int = 5, read: bool = None, important: bool = None, mark_as_read: bool = False):\n",
    "        \"\"\"Pretty print entries\n",
    "\n",
    "        Args:\n",
    "            limit (int, optional): Number of entries to show. Defaults to 5.\n",
    "            read (bool, optional): Show read entries (True), unread entries (False), or all entries (None). Defaults to None.\n",
    "            mark_as_read (bool, optional): Mark displayed entries as read. Defaults to False.\n",
    "        \"\"\"\n",
    "        self._print_entries(self.get_entries(\n",
    "            read=read, important=important, limit=limit*2), limit=limit, mark_as_read=mark_as_read)\n",
    "\n",
    "    def search(self, query: str, mark_as_read: bool = True, limit: int = 10):\n",
    "        \"\"\"Search entries and pretty print results\n",
    "\n",
    "        Args:\n",
    "            query (str): Search query\n",
    "            mark_as_read (bool, optional): Mark results as read? Defaults to True.\n",
    "        \"\"\"\n",
    "        self._print_entries([self._search_to_entry(i) for i in self._reader.search_entries(\n",
    "            query)], mark_as_read=mark_as_read, limit=limit)\n",
    "\n",
    "    def mark_important(self, entry: reader.Entry):\n",
    "        \"\"\"Mark entry as important\n",
    "\n",
    "        Args:\n",
    "            entry (reader.Entry): Entry to mark as important\n",
    "        \"\"\"\n",
    "        reader.Reader.mark_entry_as_important(entry)\n",
    "\n",
    "    def tag_entry(self, entry: reader.Entry, tag_key: str, tag_value: Dict = None):\n",
    "        \"\"\"Tag an entry\n",
    "\n",
    "        Args:\n",
    "            entry (reader.Entry): Entry to tag\n",
    "            tag_key (str): Key of tag\n",
    "            tag_value (Dict, optional): Value of tag. Defaults to None.\n",
    "        \"\"\"\n",
    "        reader.Reader.set_tag(entry, tag_key, tag_value)\n"
   ]
  },
  {
   "cell_type": "code",
   "execution_count": 213,
   "metadata": {},
   "outputs": [],
   "source": [
    "r = PyNewsReader()\n"
   ]
  },
  {
   "attachments": {},
   "cell_type": "markdown",
   "metadata": {},
   "source": [
    "## Add Feeds"
   ]
  },
  {
   "cell_type": "code",
   "execution_count": 214,
   "metadata": {},
   "outputs": [],
   "source": [
    "# With names\n",
    "for i in [\n",
    "    Feed(url='https://ricochet.media/en/feed', name=\"Richochet Media\"),\n",
    "    Feed(url='https://thetyee.ca/rss2.xml', name=\"The Tyee\"),\n",
    "    Feed(url=\"https://www.thestar.com/content/thestar/feed.RSSManagerServlet.articles.topstories.rss\",\n",
    "         name=\"Toronto Star - Top Stories\"),\n",
    "    Feed(url=\"https://www.thestar.com/content/thestar/feed.RSSManagerServlet.articles.news.investigations.rss\",\n",
    "         name=\"Toronto Star - Investigations\"),\n",
    "    Feed(url=\"https://www.thestar.com/content/thestar/feed.RSSManagerServlet.articles.opinion.editorials.rss\",\n",
    "         name=\"Toronto Star - Editorials\"),\n",
    "]:\n",
    "    r.add_feed(i)\n",
    "\n",
    "# Use the default name from the feed\n",
    "for i in [\n",
    "    \"https://rss.cbc.ca/lineup/topstories.xml\",\n",
    "    \"https://rss.cbc.ca/lineup/world.xml\",\n",
    "    \"https://rss.cbc.ca/lineup/canada.xml\",\n",
    "    \"https://rss.cbc.ca/lineup/business.xml\",\n",
    "    \"https://rss.cbc.ca/lineup/technology.xml\",\n",
    "    \"https://www.cbc.ca/cmlink/rss-canada-ottawa\",\n",
    "    \"https://www.macleans.ca/feed/\",\n",
    "    \"https://thenarwhal.ca/feed/\",\n",
    "]:\n",
    "    r.add_feed(Feed(i))\n"
   ]
  },
  {
   "cell_type": "markdown",
   "metadata": {},
   "source": [
    "## List Feeds"
   ]
  },
  {
   "cell_type": "code",
   "execution_count": 215,
   "metadata": {},
   "outputs": [
    {
     "data": {
      "text/plain": [
       "['Richochet Media',\n",
       " 'CBC | Business News',\n",
       " 'CBC | Canada News',\n",
       " 'CBC | Ottawa News',\n",
       " 'CBC | Technology News',\n",
       " 'CBC | Top Stories News',\n",
       " 'CBC | World News',\n",
       " 'Macleans.ca',\n",
       " 'The Narwhal',\n",
       " 'The Tyee',\n",
       " 'Toronto Star - Investigations',\n",
       " 'Toronto Star - Editorials',\n",
       " 'Toronto Star - Top Stories']"
      ]
     },
     "execution_count": 215,
     "metadata": {},
     "output_type": "execute_result"
    }
   ],
   "source": [
    "r.list_feeds()\n"
   ]
  },
  {
   "cell_type": "markdown",
   "metadata": {},
   "source": [
    "## Update Feeds"
   ]
  },
  {
   "cell_type": "code",
   "execution_count": 167,
   "metadata": {},
   "outputs": [],
   "source": [
    "r.update()\n"
   ]
  },
  {
   "cell_type": "markdown",
   "metadata": {},
   "source": [
    "## Get Entries"
   ]
  },
  {
   "cell_type": "code",
   "execution_count": 216,
   "metadata": {},
   "outputs": [
    {
     "data": {
      "text/html": [
       "<pre style=\"white-space:pre;overflow-x:auto;line-height:normal;font-family:Menlo,'DejaVu Sans Mono',consolas,'Courier New',monospace\"><span style=\"color: #800080; text-decoration-color: #800080; font-weight: bold\">Entry</span><span style=\"font-weight: bold\">(</span>\n",
       "    <span style=\"color: #808000; text-decoration-color: #808000\">id</span>=<span style=\"color: #008000; text-decoration-color: #008000\">'1.6686447'</span>,\n",
       "    <span style=\"color: #808000; text-decoration-color: #808000\">updated</span>=<span style=\"color: #800080; text-decoration-color: #800080; font-style: italic\">None</span>,\n",
       "    <span style=\"color: #808000; text-decoration-color: #808000\">title</span>=<span style=\"color: #008000; text-decoration-color: #008000\">'MPs pass bill mandating internet giants pay for news. Meta threatens to block content'</span>,\n",
       "    <span style=\"color: #808000; text-decoration-color: #808000\">link</span>=<span style=\"color: #008000; text-decoration-color: #008000\">'https://www.cbc.ca/news/politics/bill-c18-internet-news-meta-1.6686447?cmp=rss'</span>,\n",
       "    <span style=\"color: #808000; text-decoration-color: #808000\">author</span>=<span style=\"color: #008000; text-decoration-color: #008000\">'The Canadian Press'</span>,\n",
       "    <span style=\"color: #808000; text-decoration-color: #808000\">published</span>=<span style=\"color: #800080; text-decoration-color: #800080; font-weight: bold\">datetime</span><span style=\"color: #800080; text-decoration-color: #800080; font-weight: bold\">.datetime</span><span style=\"font-weight: bold\">(</span><span style=\"color: #008080; text-decoration-color: #008080; font-weight: bold\">2022</span>, <span style=\"color: #008080; text-decoration-color: #008080; font-weight: bold\">12</span>, <span style=\"color: #008080; text-decoration-color: #008080; font-weight: bold\">15</span>, <span style=\"color: #008080; text-decoration-color: #008080; font-weight: bold\">0</span>, <span style=\"color: #008080; text-decoration-color: #008080; font-weight: bold\">40</span>, <span style=\"color: #008080; text-decoration-color: #008080; font-weight: bold\">2</span>, <span style=\"color: #808000; text-decoration-color: #808000\">tzinfo</span>=<span style=\"color: #800080; text-decoration-color: #800080\">datetime</span>.timezone.utc<span style=\"font-weight: bold\">)</span>,\n",
       "    <span style=\"color: #808000; text-decoration-color: #808000\">summary</span>=<span style=\"color: #008000; text-decoration-color: #008000\">'&lt;img alt=\"Senate Committee Bill C-11 20221122\" height=\"259\" </span>\n",
       "<span style=\"color: #008000; text-decoration-color: #008000\">src=\"https://i.cbc.ca/1.6686463.1671064617!/fileImage/httpImage/image.JPG_gen/derivatives/16x9_460/senate-committee</span>\n",
       "<span style=\"color: #008000; text-decoration-color: #008000\">-bill-c-11-20221122.JPG\" title=\"Minister of Canadian Heritage Pablo Rodriguez prepares to appear before the Senate </span>\n",
       "<span style=\"color: #008000; text-decoration-color: #008000\">Committee on Transport and Communications on Bill C-11, in the Senate of Canada Building in Ottawa, on Tuesday, </span>\n",
       "<span style=\"color: #008000; text-decoration-color: #008000\">Nov. 22, 2022. THE CANADIAN PRESS/Justin Tang\" width=\"460\" /&gt;                &lt;p&gt;The House of Commons passed a </span>\n",
       "<span style=\"color: #008000; text-decoration-color: #008000\">Liberal bill on Wednesday designed to require web giants to compensate journalism outfits for reposting their </span>\n",
       "<span style=\"color: #008000; text-decoration-color: #008000\">content, and Meta is once again threatening to remove news content from Facebook in Canada.&lt;/p&gt;'</span>,\n",
       "    <span style=\"color: #808000; text-decoration-color: #808000\">content</span>=<span style=\"font-weight: bold\">()</span>,\n",
       "    <span style=\"color: #808000; text-decoration-color: #808000\">enclosures</span>=<span style=\"font-weight: bold\">()</span>,\n",
       "    <span style=\"color: #808000; text-decoration-color: #808000\">read</span>=<span style=\"color: #00ff00; text-decoration-color: #00ff00; font-style: italic\">True</span>,\n",
       "    <span style=\"color: #808000; text-decoration-color: #808000\">read_modified</span>=<span style=\"color: #800080; text-decoration-color: #800080; font-weight: bold\">datetime</span><span style=\"color: #800080; text-decoration-color: #800080; font-weight: bold\">.datetime</span><span style=\"font-weight: bold\">(</span><span style=\"color: #008080; text-decoration-color: #008080; font-weight: bold\">2022</span>, <span style=\"color: #008080; text-decoration-color: #008080; font-weight: bold\">12</span>, <span style=\"color: #008080; text-decoration-color: #008080; font-weight: bold\">15</span>, <span style=\"color: #008080; text-decoration-color: #008080; font-weight: bold\">1</span>, <span style=\"color: #008080; text-decoration-color: #008080; font-weight: bold\">13</span>, <span style=\"color: #008080; text-decoration-color: #008080; font-weight: bold\">16</span>, <span style=\"color: #008080; text-decoration-color: #008080; font-weight: bold\">72777</span>, <span style=\"color: #808000; text-decoration-color: #808000\">tzinfo</span>=<span style=\"color: #800080; text-decoration-color: #800080\">datetime</span>.timezone.utc<span style=\"font-weight: bold\">)</span>,\n",
       "    <span style=\"color: #808000; text-decoration-color: #808000\">important</span>=<span style=\"color: #ff0000; text-decoration-color: #ff0000; font-style: italic\">False</span>,\n",
       "    <span style=\"color: #808000; text-decoration-color: #808000\">important_modified</span>=<span style=\"color: #800080; text-decoration-color: #800080; font-style: italic\">None</span>,\n",
       "    <span style=\"color: #808000; text-decoration-color: #808000\">added</span>=<span style=\"color: #800080; text-decoration-color: #800080; font-weight: bold\">datetime</span><span style=\"color: #800080; text-decoration-color: #800080; font-weight: bold\">.datetime</span><span style=\"font-weight: bold\">(</span><span style=\"color: #008080; text-decoration-color: #008080; font-weight: bold\">2022</span>, <span style=\"color: #008080; text-decoration-color: #008080; font-weight: bold\">12</span>, <span style=\"color: #008080; text-decoration-color: #008080; font-weight: bold\">15</span>, <span style=\"color: #008080; text-decoration-color: #008080; font-weight: bold\">1</span>, <span style=\"color: #008080; text-decoration-color: #008080; font-weight: bold\">13</span>, <span style=\"color: #008080; text-decoration-color: #008080; font-weight: bold\">5</span>, <span style=\"color: #008080; text-decoration-color: #008080; font-weight: bold\">405940</span>, <span style=\"color: #808000; text-decoration-color: #808000\">tzinfo</span>=<span style=\"color: #800080; text-decoration-color: #800080\">datetime</span>.timezone.utc<span style=\"font-weight: bold\">)</span>,\n",
       "    <span style=\"color: #808000; text-decoration-color: #808000\">added_by</span>=<span style=\"color: #008000; text-decoration-color: #008000\">'feed'</span>,\n",
       "    <span style=\"color: #808000; text-decoration-color: #808000\">last_updated</span>=<span style=\"color: #800080; text-decoration-color: #800080; font-weight: bold\">datetime</span><span style=\"color: #800080; text-decoration-color: #800080; font-weight: bold\">.datetime</span><span style=\"font-weight: bold\">(</span><span style=\"color: #008080; text-decoration-color: #008080; font-weight: bold\">2022</span>, <span style=\"color: #008080; text-decoration-color: #008080; font-weight: bold\">12</span>, <span style=\"color: #008080; text-decoration-color: #008080; font-weight: bold\">15</span>, <span style=\"color: #008080; text-decoration-color: #008080; font-weight: bold\">1</span>, <span style=\"color: #008080; text-decoration-color: #008080; font-weight: bold\">13</span>, <span style=\"color: #008080; text-decoration-color: #008080; font-weight: bold\">5</span>, <span style=\"color: #008080; text-decoration-color: #008080; font-weight: bold\">405940</span>, <span style=\"color: #808000; text-decoration-color: #808000\">tzinfo</span>=<span style=\"color: #800080; text-decoration-color: #800080\">datetime</span>.timezone.utc<span style=\"font-weight: bold\">)</span>,\n",
       "    <span style=\"color: #808000; text-decoration-color: #808000\">original_feed_url</span>=<span style=\"color: #008000; text-decoration-color: #008000\">'https://rss.cbc.ca/lineup/topstories.xml'</span>,\n",
       "    <span style=\"color: #808000; text-decoration-color: #808000\">feed</span>=<span style=\"color: #800080; text-decoration-color: #800080; font-weight: bold\">Feed</span><span style=\"font-weight: bold\">(</span>\n",
       "        <span style=\"color: #808000; text-decoration-color: #808000\">url</span>=<span style=\"color: #008000; text-decoration-color: #008000\">'https://rss.cbc.ca/lineup/topstories.xml'</span>,\n",
       "        <span style=\"color: #808000; text-decoration-color: #808000\">updated</span>=<span style=\"color: #800080; text-decoration-color: #800080; font-weight: bold\">datetime</span><span style=\"color: #800080; text-decoration-color: #800080; font-weight: bold\">.datetime</span><span style=\"font-weight: bold\">(</span><span style=\"color: #008080; text-decoration-color: #008080; font-weight: bold\">2022</span>, <span style=\"color: #008080; text-decoration-color: #008080; font-weight: bold\">12</span>, <span style=\"color: #008080; text-decoration-color: #008080; font-weight: bold\">15</span>, <span style=\"color: #008080; text-decoration-color: #008080; font-weight: bold\">0</span>, <span style=\"color: #008080; text-decoration-color: #008080; font-weight: bold\">40</span>, <span style=\"color: #008080; text-decoration-color: #008080; font-weight: bold\">2</span>, <span style=\"color: #808000; text-decoration-color: #808000\">tzinfo</span>=<span style=\"color: #800080; text-decoration-color: #800080\">datetime</span>.timezone.utc<span style=\"font-weight: bold\">)</span>,\n",
       "        <span style=\"color: #808000; text-decoration-color: #808000\">title</span>=<span style=\"color: #008000; text-decoration-color: #008000\">'CBC | Top Stories News'</span>,\n",
       "        <span style=\"color: #808000; text-decoration-color: #808000\">link</span>=<span style=\"color: #008000; text-decoration-color: #008000\">'http://www.cbc.ca/news/?cmp=rss'</span>,\n",
       "        <span style=\"color: #808000; text-decoration-color: #808000\">author</span>=<span style=\"color: #800080; text-decoration-color: #800080; font-style: italic\">None</span>,\n",
       "        <span style=\"color: #808000; text-decoration-color: #808000\">subtitle</span>=<span style=\"color: #008000; text-decoration-color: #008000\">'FOR PERSONAL USE ONLY'</span>,\n",
       "        <span style=\"color: #808000; text-decoration-color: #808000\">version</span>=<span style=\"color: #008000; text-decoration-color: #008000\">'rss20'</span>,\n",
       "        <span style=\"color: #808000; text-decoration-color: #808000\">user_title</span>=<span style=\"color: #800080; text-decoration-color: #800080; font-style: italic\">None</span>,\n",
       "        <span style=\"color: #808000; text-decoration-color: #808000\">added</span>=<span style=\"color: #800080; text-decoration-color: #800080; font-weight: bold\">datetime</span><span style=\"color: #800080; text-decoration-color: #800080; font-weight: bold\">.datetime</span><span style=\"font-weight: bold\">(</span><span style=\"color: #008080; text-decoration-color: #008080; font-weight: bold\">2022</span>, <span style=\"color: #008080; text-decoration-color: #008080; font-weight: bold\">12</span>, <span style=\"color: #008080; text-decoration-color: #008080; font-weight: bold\">7</span>, <span style=\"color: #008080; text-decoration-color: #008080; font-weight: bold\">0</span>, <span style=\"color: #008080; text-decoration-color: #008080; font-weight: bold\">40</span>, <span style=\"color: #008080; text-decoration-color: #008080; font-weight: bold\">58</span>, <span style=\"color: #008080; text-decoration-color: #008080; font-weight: bold\">106810</span>, <span style=\"color: #808000; text-decoration-color: #808000\">tzinfo</span>=<span style=\"color: #800080; text-decoration-color: #800080\">datetime</span>.timezone.utc<span style=\"font-weight: bold\">)</span>,\n",
       "        <span style=\"color: #808000; text-decoration-color: #808000\">last_updated</span>=<span style=\"color: #800080; text-decoration-color: #800080; font-weight: bold\">datetime</span><span style=\"color: #800080; text-decoration-color: #800080; font-weight: bold\">.datetime</span><span style=\"font-weight: bold\">(</span><span style=\"color: #008080; text-decoration-color: #008080; font-weight: bold\">2022</span>, <span style=\"color: #008080; text-decoration-color: #008080; font-weight: bold\">12</span>, <span style=\"color: #008080; text-decoration-color: #008080; font-weight: bold\">15</span>, <span style=\"color: #008080; text-decoration-color: #008080; font-weight: bold\">1</span>, <span style=\"color: #008080; text-decoration-color: #008080; font-weight: bold\">13</span>, <span style=\"color: #008080; text-decoration-color: #008080; font-weight: bold\">5</span>, <span style=\"color: #008080; text-decoration-color: #008080; font-weight: bold\">405940</span>, <span style=\"color: #808000; text-decoration-color: #808000\">tzinfo</span>=<span style=\"color: #800080; text-decoration-color: #800080\">datetime</span>.timezone.utc<span style=\"font-weight: bold\">)</span>,\n",
       "        <span style=\"color: #808000; text-decoration-color: #808000\">last_exception</span>=<span style=\"color: #800080; text-decoration-color: #800080; font-style: italic\">None</span>,\n",
       "        <span style=\"color: #808000; text-decoration-color: #808000\">updates_enabled</span>=<span style=\"color: #00ff00; text-decoration-color: #00ff00; font-style: italic\">True</span>\n",
       "    <span style=\"font-weight: bold\">)</span>\n",
       "<span style=\"font-weight: bold\">)</span>\n",
       "</pre>\n"
      ],
      "text/plain": [
       "\u001b[1;35mEntry\u001b[0m\u001b[1m(\u001b[0m\n",
       "    \u001b[33mid\u001b[0m=\u001b[32m'1.6686447'\u001b[0m,\n",
       "    \u001b[33mupdated\u001b[0m=\u001b[3;35mNone\u001b[0m,\n",
       "    \u001b[33mtitle\u001b[0m=\u001b[32m'MPs pass bill mandating internet giants pay for news. Meta threatens to block content'\u001b[0m,\n",
       "    \u001b[33mlink\u001b[0m=\u001b[32m'https://www.cbc.ca/news/politics/bill-c18-internet-news-meta-1.6686447?\u001b[0m\u001b[32mcmp\u001b[0m\u001b[32m=\u001b[0m\u001b[32mrss\u001b[0m\u001b[32m'\u001b[0m,\n",
       "    \u001b[33mauthor\u001b[0m=\u001b[32m'The Canadian Press'\u001b[0m,\n",
       "    \u001b[33mpublished\u001b[0m=\u001b[1;35mdatetime\u001b[0m\u001b[1;35m.datetime\u001b[0m\u001b[1m(\u001b[0m\u001b[1;36m2022\u001b[0m, \u001b[1;36m12\u001b[0m, \u001b[1;36m15\u001b[0m, \u001b[1;36m0\u001b[0m, \u001b[1;36m40\u001b[0m, \u001b[1;36m2\u001b[0m, \u001b[33mtzinfo\u001b[0m=\u001b[35mdatetime\u001b[0m.timezone.utc\u001b[1m)\u001b[0m,\n",
       "    \u001b[33msummary\u001b[0m=\u001b[32m'\u001b[0m\u001b[32m<\u001b[0m\u001b[32mimg\u001b[0m\u001b[32m \u001b[0m\u001b[32malt\u001b[0m\u001b[32m=\u001b[0m\u001b[32m\"Senate\u001b[0m\u001b[32m Committee Bill C-11 20221122\" \u001b[0m\u001b[32mheight\u001b[0m\u001b[32m=\u001b[0m\u001b[32m\"259\"\u001b[0m\u001b[32m \u001b[0m\n",
       "\u001b[32msrc\u001b[0m\u001b[32m=\u001b[0m\u001b[32m\"https\u001b[0m\u001b[32m://i.cbc.ca/1.6686463.1671064617!/fileImage/httpImage/image.JPG_gen/derivatives/16x9_460/senate-committee\u001b[0m\n",
       "\u001b[32m-bill-c-11-20221122.JPG\" \u001b[0m\u001b[32mtitle\u001b[0m\u001b[32m=\u001b[0m\u001b[32m\"Minister\u001b[0m\u001b[32m of Canadian Heritage Pablo Rodriguez prepares to appear before the Senate \u001b[0m\n",
       "\u001b[32mCommittee on Transport and Communications on Bill C-11, in the Senate of Canada Building in Ottawa, on Tuesday, \u001b[0m\n",
       "\u001b[32mNov. 22, 2022. THE CANADIAN PRESS/Justin Tang\" \u001b[0m\u001b[32mwidth\u001b[0m\u001b[32m=\u001b[0m\u001b[32m\"460\"\u001b[0m\u001b[32m /\u001b[0m\u001b[32m>\u001b[0m\u001b[32m                \u001b[0m\u001b[32m<\u001b[0m\u001b[32mp\u001b[0m\u001b[32m>\u001b[0m\u001b[32mThe House of Commons passed a \u001b[0m\n",
       "\u001b[32mLiberal bill on Wednesday designed to require web giants to compensate journalism outfits for reposting their \u001b[0m\n",
       "\u001b[32mcontent, and Meta is once again threatening to remove news content from Facebook in Canada.\u001b[0m\u001b[32m<\u001b[0m\u001b[32m/p\u001b[0m\u001b[32m>\u001b[0m\u001b[32m'\u001b[0m,\n",
       "    \u001b[33mcontent\u001b[0m=\u001b[1m(\u001b[0m\u001b[1m)\u001b[0m,\n",
       "    \u001b[33menclosures\u001b[0m=\u001b[1m(\u001b[0m\u001b[1m)\u001b[0m,\n",
       "    \u001b[33mread\u001b[0m=\u001b[3;92mTrue\u001b[0m,\n",
       "    \u001b[33mread_modified\u001b[0m=\u001b[1;35mdatetime\u001b[0m\u001b[1;35m.datetime\u001b[0m\u001b[1m(\u001b[0m\u001b[1;36m2022\u001b[0m, \u001b[1;36m12\u001b[0m, \u001b[1;36m15\u001b[0m, \u001b[1;36m1\u001b[0m, \u001b[1;36m13\u001b[0m, \u001b[1;36m16\u001b[0m, \u001b[1;36m72777\u001b[0m, \u001b[33mtzinfo\u001b[0m=\u001b[35mdatetime\u001b[0m.timezone.utc\u001b[1m)\u001b[0m,\n",
       "    \u001b[33mimportant\u001b[0m=\u001b[3;91mFalse\u001b[0m,\n",
       "    \u001b[33mimportant_modified\u001b[0m=\u001b[3;35mNone\u001b[0m,\n",
       "    \u001b[33madded\u001b[0m=\u001b[1;35mdatetime\u001b[0m\u001b[1;35m.datetime\u001b[0m\u001b[1m(\u001b[0m\u001b[1;36m2022\u001b[0m, \u001b[1;36m12\u001b[0m, \u001b[1;36m15\u001b[0m, \u001b[1;36m1\u001b[0m, \u001b[1;36m13\u001b[0m, \u001b[1;36m5\u001b[0m, \u001b[1;36m405940\u001b[0m, \u001b[33mtzinfo\u001b[0m=\u001b[35mdatetime\u001b[0m.timezone.utc\u001b[1m)\u001b[0m,\n",
       "    \u001b[33madded_by\u001b[0m=\u001b[32m'feed'\u001b[0m,\n",
       "    \u001b[33mlast_updated\u001b[0m=\u001b[1;35mdatetime\u001b[0m\u001b[1;35m.datetime\u001b[0m\u001b[1m(\u001b[0m\u001b[1;36m2022\u001b[0m, \u001b[1;36m12\u001b[0m, \u001b[1;36m15\u001b[0m, \u001b[1;36m1\u001b[0m, \u001b[1;36m13\u001b[0m, \u001b[1;36m5\u001b[0m, \u001b[1;36m405940\u001b[0m, \u001b[33mtzinfo\u001b[0m=\u001b[35mdatetime\u001b[0m.timezone.utc\u001b[1m)\u001b[0m,\n",
       "    \u001b[33moriginal_feed_url\u001b[0m=\u001b[32m'https://rss.cbc.ca/lineup/topstories.xml'\u001b[0m,\n",
       "    \u001b[33mfeed\u001b[0m=\u001b[1;35mFeed\u001b[0m\u001b[1m(\u001b[0m\n",
       "        \u001b[33murl\u001b[0m=\u001b[32m'https://rss.cbc.ca/lineup/topstories.xml'\u001b[0m,\n",
       "        \u001b[33mupdated\u001b[0m=\u001b[1;35mdatetime\u001b[0m\u001b[1;35m.datetime\u001b[0m\u001b[1m(\u001b[0m\u001b[1;36m2022\u001b[0m, \u001b[1;36m12\u001b[0m, \u001b[1;36m15\u001b[0m, \u001b[1;36m0\u001b[0m, \u001b[1;36m40\u001b[0m, \u001b[1;36m2\u001b[0m, \u001b[33mtzinfo\u001b[0m=\u001b[35mdatetime\u001b[0m.timezone.utc\u001b[1m)\u001b[0m,\n",
       "        \u001b[33mtitle\u001b[0m=\u001b[32m'CBC | Top Stories News'\u001b[0m,\n",
       "        \u001b[33mlink\u001b[0m=\u001b[32m'http://www.cbc.ca/news/?\u001b[0m\u001b[32mcmp\u001b[0m\u001b[32m=\u001b[0m\u001b[32mrss\u001b[0m\u001b[32m'\u001b[0m,\n",
       "        \u001b[33mauthor\u001b[0m=\u001b[3;35mNone\u001b[0m,\n",
       "        \u001b[33msubtitle\u001b[0m=\u001b[32m'FOR PERSONAL USE ONLY'\u001b[0m,\n",
       "        \u001b[33mversion\u001b[0m=\u001b[32m'rss20'\u001b[0m,\n",
       "        \u001b[33muser_title\u001b[0m=\u001b[3;35mNone\u001b[0m,\n",
       "        \u001b[33madded\u001b[0m=\u001b[1;35mdatetime\u001b[0m\u001b[1;35m.datetime\u001b[0m\u001b[1m(\u001b[0m\u001b[1;36m2022\u001b[0m, \u001b[1;36m12\u001b[0m, \u001b[1;36m7\u001b[0m, \u001b[1;36m0\u001b[0m, \u001b[1;36m40\u001b[0m, \u001b[1;36m58\u001b[0m, \u001b[1;36m106810\u001b[0m, \u001b[33mtzinfo\u001b[0m=\u001b[35mdatetime\u001b[0m.timezone.utc\u001b[1m)\u001b[0m,\n",
       "        \u001b[33mlast_updated\u001b[0m=\u001b[1;35mdatetime\u001b[0m\u001b[1;35m.datetime\u001b[0m\u001b[1m(\u001b[0m\u001b[1;36m2022\u001b[0m, \u001b[1;36m12\u001b[0m, \u001b[1;36m15\u001b[0m, \u001b[1;36m1\u001b[0m, \u001b[1;36m13\u001b[0m, \u001b[1;36m5\u001b[0m, \u001b[1;36m405940\u001b[0m, \u001b[33mtzinfo\u001b[0m=\u001b[35mdatetime\u001b[0m.timezone.utc\u001b[1m)\u001b[0m,\n",
       "        \u001b[33mlast_exception\u001b[0m=\u001b[3;35mNone\u001b[0m,\n",
       "        \u001b[33mupdates_enabled\u001b[0m=\u001b[3;92mTrue\u001b[0m\n",
       "    \u001b[1m)\u001b[0m\n",
       "\u001b[1m)\u001b[0m\n"
      ]
     },
     "metadata": {},
     "output_type": "display_data"
    }
   ],
   "source": [
    "for i in r.get_entries(limit=1):\n",
    "    print(i)\n"
   ]
  },
  {
   "cell_type": "markdown",
   "metadata": {},
   "source": [
    "## Display Entries\n",
    "\n",
    "`read` = None shows all entries\n",
    "\n",
    "`read` = False shows only unread entries\n",
    "\n",
    "`read` = True shows only read entries"
   ]
  },
  {
   "cell_type": "code",
   "execution_count": 217,
   "metadata": {},
   "outputs": [
    {
     "data": {
      "text/html": [
       "<pre style=\"white-space:pre;overflow-x:auto;line-height:normal;font-family:Menlo,'DejaVu Sans Mono',consolas,'Courier New',monospace\">╭───────────── <a href=\"https://www.cbc.ca/news/politics/bill-c18-internet-news-meta-1.6686447?cmp=rss\" target=\"_blank\">MPs pass bill mandating internet giants pay for news. Meta threatens to block content</a> ─────────────╮\n",
       "│                                                Date: 2022-12-15                                                 │\n",
       "│                                                                                                                 │\n",
       "│       The House of Commons passed a Liberal bill on Wednesday designed to require web giants to compensate      │\n",
       "│ journalism outfits for reposting their content, and Meta is once again threatening to remove news content from  │\n",
       "│                                               Facebook in Canada.                                               │\n",
       "│                                                                                                                 │\n",
       "╰──────────────────────────────────────────── CBC | Top Stories News ─────────────────────────────────────────────╯\n",
       "</pre>\n"
      ],
      "text/plain": [
       "╭───────────── \u001b]8;id=780204;https://www.cbc.ca/news/politics/bill-c18-internet-news-meta-1.6686447?cmp=rss\u001b\\MPs pass bill mandating internet giants pay for news. Meta threatens to block content\u001b]8;;\u001b\\ ─────────────╮\n",
       "│                                                Date: 2022-12-15                                                 │\n",
       "│                                                                                                                 │\n",
       "│       The House of Commons passed a Liberal bill on Wednesday designed to require web giants to compensate      │\n",
       "│ journalism outfits for reposting their content, and Meta is once again threatening to remove news content from  │\n",
       "│                                               Facebook in Canada.                                               │\n",
       "│                                                                                                                 │\n",
       "╰──────────────────────────────────────────── CBC | Top Stories News ─────────────────────────────────────────────╯\n"
      ]
     },
     "metadata": {},
     "output_type": "display_data"
    },
    {
     "data": {
      "text/html": [
       "<pre style=\"white-space:pre;overflow-x:auto;line-height:normal;font-family:Menlo,'DejaVu Sans Mono',consolas,'Courier New',monospace\">\n",
       "</pre>\n"
      ],
      "text/plain": [
       "\n"
      ]
     },
     "metadata": {},
     "output_type": "display_data"
    },
    {
     "data": {
      "text/html": [
       "<pre style=\"white-space:pre;overflow-x:auto;line-height:normal;font-family:Menlo,'DejaVu Sans Mono',consolas,'Courier New',monospace\">╭───────────────────────────────────────── <a href=\"https://www.cbc.ca/news/world/monkeys-in-hot-water-in-japan-1.6686499?cmp=rss\" target=\"_blank\">Monkeys in hot water in Japan</a> ─────────────────────────────────────────╮\n",
       "│                                                Date: 2022-12-15                                                 │\n",
       "│                                                                                                                 │\n",
       "│  The Hakodate Tropical Botanical Garden in Hokkaido, Japan, has set out its annual winter bath using hot water  │\n",
       "│   from a nearby spring to give monkeys from its monkey park a chance to stay warm. Despite temperatures below   │\n",
       "│  zero Celsius freezing, the primates can stay relaxed and toasty while visitors take photos and toss food into  │\n",
       "│                                              the penned-off area.                                               │\n",
       "│                                                                                                                 │\n",
       "╰─────────────────────────────────────────────── CBC | World News ────────────────────────────────────────────────╯\n",
       "</pre>\n"
      ],
      "text/plain": [
       "╭───────────────────────────────────────── \u001b]8;id=262807;https://www.cbc.ca/news/world/monkeys-in-hot-water-in-japan-1.6686499?cmp=rss\u001b\\Monkeys in hot water in Japan\u001b]8;;\u001b\\ ─────────────────────────────────────────╮\n",
       "│                                                Date: 2022-12-15                                                 │\n",
       "│                                                                                                                 │\n",
       "│  The Hakodate Tropical Botanical Garden in Hokkaido, Japan, has set out its annual winter bath using hot water  │\n",
       "│   from a nearby spring to give monkeys from its monkey park a chance to stay warm. Despite temperatures below   │\n",
       "│  zero Celsius freezing, the primates can stay relaxed and toasty while visitors take photos and toss food into  │\n",
       "│                                              the penned-off area.                                               │\n",
       "│                                                                                                                 │\n",
       "╰─────────────────────────────────────────────── CBC | World News ────────────────────────────────────────────────╯\n"
      ]
     },
     "metadata": {},
     "output_type": "display_data"
    },
    {
     "data": {
      "text/html": [
       "<pre style=\"white-space:pre;overflow-x:auto;line-height:normal;font-family:Menlo,'DejaVu Sans Mono',consolas,'Courier New',monospace\">\n",
       "</pre>\n"
      ],
      "text/plain": [
       "\n"
      ]
     },
     "metadata": {},
     "output_type": "display_data"
    },
    {
     "data": {
      "text/html": [
       "<pre style=\"white-space:pre;overflow-x:auto;line-height:normal;font-family:Menlo,'DejaVu Sans Mono',consolas,'Courier New',monospace\">╭─ <a href=\"https://www.thestar.com/sports/worldcup/opinion/2022/12/14/moroccos-magnificent-world-cup-run-comes-to-an-end-against-france-and-the-stage-is-set-for-a-piece-of-football-history.html\" target=\"_blank\">Bruce Arthur: Morocco’s magnificent World Cup run comes to an end against France, and the stage is set for a p</a>─╮\n",
       "│                                                Date: 2022-12-15                                                 │\n",
       "│                                                                                                                 │\n",
       "│ Lionel Messi — in his last Cup — will be up in the final against Kylian Mbappé and a French team which has worn │\n",
       "│                                             winning like a perfume.                                             │\n",
       "│                                                                                                                 │\n",
       "╰────────────────────────────────────────── Toronto Star - Top Stories ───────────────────────────────────────────╯\n",
       "</pre>\n"
      ],
      "text/plain": [
       "╭─ \u001b]8;id=368548;https://www.thestar.com/sports/worldcup/opinion/2022/12/14/moroccos-magnificent-world-cup-run-comes-to-an-end-against-france-and-the-stage-is-set-for-a-piece-of-football-history.html\u001b\\Bruce Arthur: Morocco’s magnificent World Cup run comes to an end against France, and the stage is set for a p\u001b]8;;\u001b\\─╮\n",
       "│                                                Date: 2022-12-15                                                 │\n",
       "│                                                                                                                 │\n",
       "│ Lionel Messi — in his last Cup — will be up in the final against Kylian Mbappé and a French team which has worn │\n",
       "│                                             winning like a perfume.                                             │\n",
       "│                                                                                                                 │\n",
       "╰────────────────────────────────────────── Toronto Star - Top Stories ───────────────────────────────────────────╯\n"
      ]
     },
     "metadata": {},
     "output_type": "display_data"
    },
    {
     "data": {
      "text/html": [
       "<pre style=\"white-space:pre;overflow-x:auto;line-height:normal;font-family:Menlo,'DejaVu Sans Mono',consolas,'Courier New',monospace\">\n",
       "</pre>\n"
      ],
      "text/plain": [
       "\n"
      ]
     },
     "metadata": {},
     "output_type": "display_data"
    },
    {
     "data": {
      "text/html": [
       "<pre style=\"white-space:pre;overflow-x:auto;line-height:normal;font-family:Menlo,'DejaVu Sans Mono',consolas,'Courier New',monospace\">╭───────── <a href=\"https://www.cbc.ca/news/canada/ottawa/council-budget-directions-2-5-percent-1.6685803?cmp=rss\" target=\"_blank\">Council gives green light to draft budget with 2.5% tax hike cap — but one third not on board</a> ─────────╮\n",
       "│                                                Date: 2022-12-15                                                 │\n",
       "│                                                                                                                 │\n",
       "│  Mayor Mark Sutcliffe may have run on a promise not to increase property taxes more than 2.5 per cent, but one  │\n",
       "│ third of the newly elected council has not signed onto that pledge, worried that it won't provide the city with │\n",
       "│                                     the money it needs to serve residents.                                      │\n",
       "│                                                                                                                 │\n",
       "╰─────────────────────────────────────────────── CBC | Ottawa News ───────────────────────────────────────────────╯\n",
       "</pre>\n"
      ],
      "text/plain": [
       "╭───────── \u001b]8;id=816207;https://www.cbc.ca/news/canada/ottawa/council-budget-directions-2-5-percent-1.6685803?cmp=rss\u001b\\Council gives green light to draft budget with 2.5% tax hike cap — but one third not on board\u001b]8;;\u001b\\ ─────────╮\n",
       "│                                                Date: 2022-12-15                                                 │\n",
       "│                                                                                                                 │\n",
       "│  Mayor Mark Sutcliffe may have run on a promise not to increase property taxes more than 2.5 per cent, but one  │\n",
       "│ third of the newly elected council has not signed onto that pledge, worried that it won't provide the city with │\n",
       "│                                     the money it needs to serve residents.                                      │\n",
       "│                                                                                                                 │\n",
       "╰─────────────────────────────────────────────── CBC | Ottawa News ───────────────────────────────────────────────╯\n"
      ]
     },
     "metadata": {},
     "output_type": "display_data"
    },
    {
     "data": {
      "text/html": [
       "<pre style=\"white-space:pre;overflow-x:auto;line-height:normal;font-family:Menlo,'DejaVu Sans Mono',consolas,'Courier New',monospace\">\n",
       "</pre>\n"
      ],
      "text/plain": [
       "\n"
      ]
     },
     "metadata": {},
     "output_type": "display_data"
    },
    {
     "data": {
      "text/html": [
       "<pre style=\"white-space:pre;overflow-x:auto;line-height:normal;font-family:Menlo,'DejaVu Sans Mono',consolas,'Courier New',monospace\">╭─────── <a href=\"https://www.cbc.ca/news/canada/saskatchewan/turpel-lafond-honorary-degrees-1.6684340?cmp=rss\" target=\"_blank\">Rescind Turpel-Lafond's honorary degrees or we'll return ours, say high-profile Indigenous women</a> ────────╮\n",
       "│                                                Date: 2022-12-15                                                 │\n",
       "│                                                                                                                 │\n",
       "│  Retired Cree lawyer Michelle Good says that if Simon Fraser University does not revoke the honorary degree it  │\n",
       "│             granted Mary Ellen Turpel-Lafond, then Good will be forced to make a painful decision.              │\n",
       "│                                                                                                                 │\n",
       "╰──────────────────────────────────────────── CBC | Top Stories News ─────────────────────────────────────────────╯\n",
       "</pre>\n"
      ],
      "text/plain": [
       "╭─────── \u001b]8;id=587695;https://www.cbc.ca/news/canada/saskatchewan/turpel-lafond-honorary-degrees-1.6684340?cmp=rss\u001b\\Rescind Turpel-Lafond's honorary degrees or we'll return ours, say high-profile Indigenous women\u001b]8;;\u001b\\ ────────╮\n",
       "│                                                Date: 2022-12-15                                                 │\n",
       "│                                                                                                                 │\n",
       "│  Retired Cree lawyer Michelle Good says that if Simon Fraser University does not revoke the honorary degree it  │\n",
       "│             granted Mary Ellen Turpel-Lafond, then Good will be forced to make a painful decision.              │\n",
       "│                                                                                                                 │\n",
       "╰──────────────────────────────────────────── CBC | Top Stories News ─────────────────────────────────────────────╯\n"
      ]
     },
     "metadata": {},
     "output_type": "display_data"
    },
    {
     "data": {
      "text/html": [
       "<pre style=\"white-space:pre;overflow-x:auto;line-height:normal;font-family:Menlo,'DejaVu Sans Mono',consolas,'Courier New',monospace\">\n",
       "</pre>\n"
      ],
      "text/plain": [
       "\n"
      ]
     },
     "metadata": {},
     "output_type": "display_data"
    },
    {
     "data": {
      "text/html": [
       "<pre style=\"white-space:pre;overflow-x:auto;line-height:normal;font-family:Menlo,'DejaVu Sans Mono',consolas,'Courier New',monospace\">╭─ <a href=\"https://www.thestar.com/politics/federal/2022/12/12/anita-anand-misses-academic-life-but-says-shes-the-one-to-finally-tackle-sexual-misconduct-in-the-canadian-military.html\" target=\"_blank\">Anita Anand misses academic life — but says she’s the one to finally tackle sexual misconduct in the Canadian </a>─╮\n",
       "│                                                Date: 2022-12-14                                                 │\n",
       "│                                                                                                                 │\n",
       "│ The defence minister says she misses what she called “the solitude of academic life” — but it doesn’t mean she  │\n",
       "│                                     has one foot out the door of politics.                                      │\n",
       "│                                                                                                                 │\n",
       "╰────────────────────────────────────────── Toronto Star - Top Stories ───────────────────────────────────────────╯\n",
       "</pre>\n"
      ],
      "text/plain": [
       "╭─ \u001b]8;id=605661;https://www.thestar.com/politics/federal/2022/12/12/anita-anand-misses-academic-life-but-says-shes-the-one-to-finally-tackle-sexual-misconduct-in-the-canadian-military.html\u001b\\Anita Anand misses academic life — but says she’s the one to finally tackle sexual misconduct in the Canadian \u001b]8;;\u001b\\─╮\n",
       "│                                                Date: 2022-12-14                                                 │\n",
       "│                                                                                                                 │\n",
       "│ The defence minister says she misses what she called “the solitude of academic life” — but it doesn’t mean she  │\n",
       "│                                     has one foot out the door of politics.                                      │\n",
       "│                                                                                                                 │\n",
       "╰────────────────────────────────────────── Toronto Star - Top Stories ───────────────────────────────────────────╯\n"
      ]
     },
     "metadata": {},
     "output_type": "display_data"
    },
    {
     "data": {
      "text/html": [
       "<pre style=\"white-space:pre;overflow-x:auto;line-height:normal;font-family:Menlo,'DejaVu Sans Mono',consolas,'Courier New',monospace\">\n",
       "</pre>\n"
      ],
      "text/plain": [
       "\n"
      ]
     },
     "metadata": {},
     "output_type": "display_data"
    },
    {
     "data": {
      "text/html": [
       "<pre style=\"white-space:pre;overflow-x:auto;line-height:normal;font-family:Menlo,'DejaVu Sans Mono',consolas,'Courier New',monospace\">╭────────────── <a href=\"https://www.cbc.ca/radio/asithappens/sandy-hook-animal-sanctuary-1.6685993?cmp=rss\" target=\"_blank\">How the mother of a Sandy Hook victim honours her daughter's deep love for animals</a> ───────────────╮\n",
       "│                                                Date: 2022-12-14                                                 │\n",
       "│                                                                                                                 │\n",
       "│     Catherine Hubbard loved animals with all her heart. So her mother runs a sanctuary in her name. Jennifer    │\n",
       "│       Hubbard talks to As It Happens host Nil Köksal on the 10th anniversary of the Sandy Hook shooting.        │\n",
       "│                                                                                                                 │\n",
       "╰─────────────────────────────────────────────── CBC | World News ────────────────────────────────────────────────╯\n",
       "</pre>\n"
      ],
      "text/plain": [
       "╭────────────── \u001b]8;id=92654;https://www.cbc.ca/radio/asithappens/sandy-hook-animal-sanctuary-1.6685993?cmp=rss\u001b\\How the mother of a Sandy Hook victim honours her daughter's deep love for animals\u001b]8;;\u001b\\ ───────────────╮\n",
       "│                                                Date: 2022-12-14                                                 │\n",
       "│                                                                                                                 │\n",
       "│     Catherine Hubbard loved animals with all her heart. So her mother runs a sanctuary in her name. Jennifer    │\n",
       "│       Hubbard talks to As It Happens host Nil Köksal on the 10th anniversary of the Sandy Hook shooting.        │\n",
       "│                                                                                                                 │\n",
       "╰─────────────────────────────────────────────── CBC | World News ────────────────────────────────────────────────╯\n"
      ]
     },
     "metadata": {},
     "output_type": "display_data"
    },
    {
     "data": {
      "text/html": [
       "<pre style=\"white-space:pre;overflow-x:auto;line-height:normal;font-family:Menlo,'DejaVu Sans Mono',consolas,'Courier New',monospace\">\n",
       "</pre>\n"
      ],
      "text/plain": [
       "\n"
      ]
     },
     "metadata": {},
     "output_type": "display_data"
    },
    {
     "data": {
      "text/html": [
       "<pre style=\"white-space:pre;overflow-x:auto;line-height:normal;font-family:Menlo,'DejaVu Sans Mono',consolas,'Courier New',monospace\">╭─────────────────────────── <a href=\"https://www.thestar.com/news/gta/2022/12/14/canada-wide-warrant-issued-for-suspects-in-markham-murder.html\" target=\"_blank\">Canada-wide warrant issued for suspects in Markham murder</a> ───────────────────────────╮\n",
       "│                                                Date: 2022-12-14                                                 │\n",
       "│                                                                                                                 │\n",
       "│     York Regional Police says a 37-year-old woman and a 38-year-old man are considered armed and dangerous.     │\n",
       "│                                                                                                                 │\n",
       "╰────────────────────────────────────────── Toronto Star - Top Stories ───────────────────────────────────────────╯\n",
       "</pre>\n"
      ],
      "text/plain": [
       "╭─────────────────────────── \u001b]8;id=565880;https://www.thestar.com/news/gta/2022/12/14/canada-wide-warrant-issued-for-suspects-in-markham-murder.html\u001b\\Canada-wide warrant issued for suspects in Markham murder\u001b]8;;\u001b\\ ───────────────────────────╮\n",
       "│                                                Date: 2022-12-14                                                 │\n",
       "│                                                                                                                 │\n",
       "│     York Regional Police says a 37-year-old woman and a 38-year-old man are considered armed and dangerous.     │\n",
       "│                                                                                                                 │\n",
       "╰────────────────────────────────────────── Toronto Star - Top Stories ───────────────────────────────────────────╯\n"
      ]
     },
     "metadata": {},
     "output_type": "display_data"
    },
    {
     "data": {
      "text/html": [
       "<pre style=\"white-space:pre;overflow-x:auto;line-height:normal;font-family:Menlo,'DejaVu Sans Mono',consolas,'Courier New',monospace\">\n",
       "</pre>\n"
      ],
      "text/plain": [
       "\n"
      ]
     },
     "metadata": {},
     "output_type": "display_data"
    },
    {
     "data": {
      "text/html": [
       "<pre style=\"white-space:pre;overflow-x:auto;line-height:normal;font-family:Menlo,'DejaVu Sans Mono',consolas,'Courier New',monospace\">╭────── <a href=\"https://www.thestar.com/politics/federal/2022/12/14/19000-thats-how-many-models-of-guns-will-be-available-despite-new-bans-trudeau-government-says.html\" target=\"_blank\">19,000. That’s how many models of guns will be available despite new bans, Trudeau government says</a> ───────╮\n",
       "│                                                Date: 2022-12-14                                                 │\n",
       "│                                                                                                                 │\n",
       "│   Rural Economic Development Minister Gudie Hutchings offered the number as the Liberals tried to reframe the   │\n",
       "│                              debate around controversial amendments to Bill C-21.                               │\n",
       "│                                                                                                                 │\n",
       "╰────────────────────────────────────────── Toronto Star - Top Stories ───────────────────────────────────────────╯\n",
       "</pre>\n"
      ],
      "text/plain": [
       "╭────── \u001b]8;id=993130;https://www.thestar.com/politics/federal/2022/12/14/19000-thats-how-many-models-of-guns-will-be-available-despite-new-bans-trudeau-government-says.html\u001b\\19,000. That’s how many models of guns will be available despite new bans, Trudeau government says\u001b]8;;\u001b\\ ───────╮\n",
       "│                                                Date: 2022-12-14                                                 │\n",
       "│                                                                                                                 │\n",
       "│   Rural Economic Development Minister Gudie Hutchings offered the number as the Liberals tried to reframe the   │\n",
       "│                              debate around controversial amendments to Bill C-21.                               │\n",
       "│                                                                                                                 │\n",
       "╰────────────────────────────────────────── Toronto Star - Top Stories ───────────────────────────────────────────╯\n"
      ]
     },
     "metadata": {},
     "output_type": "display_data"
    },
    {
     "data": {
      "text/html": [
       "<pre style=\"white-space:pre;overflow-x:auto;line-height:normal;font-family:Menlo,'DejaVu Sans Mono',consolas,'Courier New',monospace\">\n",
       "</pre>\n"
      ],
      "text/plain": [
       "\n"
      ]
     },
     "metadata": {},
     "output_type": "display_data"
    },
    {
     "data": {
      "text/html": [
       "<pre style=\"white-space:pre;overflow-x:auto;line-height:normal;font-family:Menlo,'DejaVu Sans Mono',consolas,'Courier New',monospace\">╭─────────────── <a href=\"https://www.cbc.ca/news/canada/thunder-bay/ryan-reynolds-dennis-franklin-cromarty-high-school-interview-1.6686213?cmp=rss\" target=\"_blank\">Meet the First Nations students who scored an interview with actor Ryan Reynolds</a> ────────────────╮\n",
       "│                                                Date: 2022-12-14                                                 │\n",
       "│                                                                                                                 │\n",
       "│    Students with the Dennis Franklin Cromarty high school media club landed a big interview Wednesday — actor   │\n",
       "│                                                 Ryan Reynolds.                                                  │\n",
       "│                                                                                                                 │\n",
       "╰──────────────────────────────────────────── CBC | Top Stories News ─────────────────────────────────────────────╯\n",
       "</pre>\n"
      ],
      "text/plain": [
       "╭─────────────── \u001b]8;id=376311;https://www.cbc.ca/news/canada/thunder-bay/ryan-reynolds-dennis-franklin-cromarty-high-school-interview-1.6686213?cmp=rss\u001b\\Meet the First Nations students who scored an interview with actor Ryan Reynolds\u001b]8;;\u001b\\ ────────────────╮\n",
       "│                                                Date: 2022-12-14                                                 │\n",
       "│                                                                                                                 │\n",
       "│    Students with the Dennis Franklin Cromarty high school media club landed a big interview Wednesday — actor   │\n",
       "│                                                 Ryan Reynolds.                                                  │\n",
       "│                                                                                                                 │\n",
       "╰──────────────────────────────────────────── CBC | Top Stories News ─────────────────────────────────────────────╯\n"
      ]
     },
     "metadata": {},
     "output_type": "display_data"
    },
    {
     "data": {
      "text/html": [
       "<pre style=\"white-space:pre;overflow-x:auto;line-height:normal;font-family:Menlo,'DejaVu Sans Mono',consolas,'Courier New',monospace\">\n",
       "</pre>\n"
      ],
      "text/plain": [
       "\n"
      ]
     },
     "metadata": {},
     "output_type": "display_data"
    }
   ],
   "source": [
    "r.show(read=True, limit=10, mark_as_read=False)\n"
   ]
  },
  {
   "cell_type": "markdown",
   "metadata": {},
   "source": [
    "## Search Entries"
   ]
  },
  {
   "cell_type": "code",
   "execution_count": 218,
   "metadata": {},
   "outputs": [
    {
     "data": {
      "text/html": [
       "<pre style=\"white-space:pre;overflow-x:auto;line-height:normal;font-family:Menlo,'DejaVu Sans Mono',consolas,'Courier New',monospace\">╭──────────────────────── <a href=\"https://www.cbc.ca/news/science/nuclear-fusion-explainer-1.6684298?cmp=rss\" target=\"_blank\">Here's why a breakthrough in nuclear fusion is such a big deal</a> ─────────────────────────╮\n",
       "│                                                Date: 2022-12-13                                                 │\n",
       "│                                                                                                                 │\n",
       "│                                                                                                                 │\n",
       "│                                                                                                                 │\n",
       "╰─────────────────────────────────────────────── CBC | World News ────────────────────────────────────────────────╯\n",
       "</pre>\n"
      ],
      "text/plain": [
       "╭──────────────────────── \u001b]8;id=91903;https://www.cbc.ca/news/science/nuclear-fusion-explainer-1.6684298?cmp=rss\u001b\\Here's why a breakthrough in nuclear fusion is such a big deal\u001b]8;;\u001b\\ ─────────────────────────╮\n",
       "│                                                Date: 2022-12-13                                                 │\n",
       "│                                                                                                                 │\n",
       "│                                                                                                                 │\n",
       "│                                                                                                                 │\n",
       "╰─────────────────────────────────────────────── CBC | World News ────────────────────────────────────────────────╯\n"
      ]
     },
     "metadata": {},
     "output_type": "display_data"
    },
    {
     "data": {
      "text/html": [
       "<pre style=\"white-space:pre;overflow-x:auto;line-height:normal;font-family:Menlo,'DejaVu Sans Mono',consolas,'Courier New',monospace\">\n",
       "</pre>\n"
      ],
      "text/plain": [
       "\n"
      ]
     },
     "metadata": {},
     "output_type": "display_data"
    },
    {
     "data": {
      "text/html": [
       "<pre style=\"white-space:pre;overflow-x:auto;line-height:normal;font-family:Menlo,'DejaVu Sans Mono',consolas,'Courier New',monospace\">╭─────────────────────────── <a href=\"https://www.cbc.ca/news/science/us-fusion-announcement-1.6682497?cmp=rss\" target=\"_blank\">Fusion energy 'breakthrough' revealed by U.S. scientists</a> ────────────────────────────╮\n",
       "│                                                Date: 2022-12-13                                                 │\n",
       "│                                                                                                                 │\n",
       "│      U.S. Energy Secretary Jennifer Granholm announced a \"major scientific breakthrough\" on Tuesday in the      │\n",
       "│                 decades-long quest to harness fusion, the energy that powers the sun and stars.                 │\n",
       "│                                                                                                                 │\n",
       "╰───────────────────────────────────────────── CBC | Technology News ─────────────────────────────────────────────╯\n",
       "</pre>\n"
      ],
      "text/plain": [
       "╭─────────────────────────── \u001b]8;id=388027;https://www.cbc.ca/news/science/us-fusion-announcement-1.6682497?cmp=rss\u001b\\Fusion energy 'breakthrough' revealed by U.S. scientists\u001b]8;;\u001b\\ ────────────────────────────╮\n",
       "│                                                Date: 2022-12-13                                                 │\n",
       "│                                                                                                                 │\n",
       "│      U.S. Energy Secretary Jennifer Granholm announced a \"major scientific breakthrough\" on Tuesday in the      │\n",
       "│                 decades-long quest to harness fusion, the energy that powers the sun and stars.                 │\n",
       "│                                                                                                                 │\n",
       "╰───────────────────────────────────────────── CBC | Technology News ─────────────────────────────────────────────╯\n"
      ]
     },
     "metadata": {},
     "output_type": "display_data"
    },
    {
     "data": {
      "text/html": [
       "<pre style=\"white-space:pre;overflow-x:auto;line-height:normal;font-family:Menlo,'DejaVu Sans Mono',consolas,'Courier New',monospace\">\n",
       "</pre>\n"
      ],
      "text/plain": [
       "\n"
      ]
     },
     "metadata": {},
     "output_type": "display_data"
    },
    {
     "data": {
      "text/html": [
       "<pre style=\"white-space:pre;overflow-x:auto;line-height:normal;font-family:Menlo,'DejaVu Sans Mono',consolas,'Courier New',monospace\">╭───────────────── <a href=\"https://www.thestar.com/news/canada/2022/12/13/scientists-reveal-holy-grail-breakthrough-to-create-limitless-clean-energy.html\" target=\"_blank\">Scientists reveal ‘holy grail’ breakthrough to create limitless clean energy</a> ──────────────────╮\n",
       "│                                                Date: 2022-12-13                                                 │\n",
       "│                                                                                                                 │\n",
       "│  Scientists have taken the first step towards cheap, clean and near unlimited power by harnessing the power of  │\n",
       "│                                the sun, announced the U.S. Department of Energy.                                │\n",
       "│                                                                                                                 │\n",
       "╰────────────────────────────────────────── Toronto Star - Top Stories ───────────────────────────────────────────╯\n",
       "</pre>\n"
      ],
      "text/plain": [
       "╭───────────────── \u001b]8;id=911046;https://www.thestar.com/news/canada/2022/12/13/scientists-reveal-holy-grail-breakthrough-to-create-limitless-clean-energy.html\u001b\\Scientists reveal ‘holy grail’ breakthrough to create limitless clean energy\u001b]8;;\u001b\\ ──────────────────╮\n",
       "│                                                Date: 2022-12-13                                                 │\n",
       "│                                                                                                                 │\n",
       "│  Scientists have taken the first step towards cheap, clean and near unlimited power by harnessing the power of  │\n",
       "│                                the sun, announced the U.S. Department of Energy.                                │\n",
       "│                                                                                                                 │\n",
       "╰────────────────────────────────────────── Toronto Star - Top Stories ───────────────────────────────────────────╯\n"
      ]
     },
     "metadata": {},
     "output_type": "display_data"
    },
    {
     "data": {
      "text/html": [
       "<pre style=\"white-space:pre;overflow-x:auto;line-height:normal;font-family:Menlo,'DejaVu Sans Mono',consolas,'Courier New',monospace\">\n",
       "</pre>\n"
      ],
      "text/plain": [
       "\n"
      ]
     },
     "metadata": {},
     "output_type": "display_data"
    }
   ],
   "source": [
    "r.search(\"fusion\")\n"
   ]
  },
  {
   "cell_type": "code",
   "execution_count": 219,
   "metadata": {},
   "outputs": [],
   "source": [
    "# | hide\n",
    "\n",
    "# To Do:\n",
    "# * Command line interface\n",
    "# * User interface\n",
    "# * Tags\n"
   ]
  },
  {
   "cell_type": "code",
   "execution_count": 220,
   "metadata": {},
   "outputs": [],
   "source": [
    "# | hide\n",
    "import nbdev\n",
    "\n",
    "nbdev.nbdev_export()\n"
   ]
  },
  {
   "cell_type": "code",
   "execution_count": null,
   "metadata": {},
   "outputs": [],
   "source": []
  }
 ],
 "metadata": {
  "kernelspec": {
   "display_name": "Python 3.8.8 ('base')",
   "language": "python",
   "name": "python3"
  },
  "language_info": {
   "codemirror_mode": {
    "name": "ipython",
    "version": 3
   },
   "file_extension": ".py",
   "mimetype": "text/x-python",
   "name": "python",
   "nbconvert_exporter": "python",
   "pygments_lexer": "ipython3",
   "version": "3.8.8"
  },
  "vscode": {
   "interpreter": {
    "hash": "c7f5e592c43e0bb3865fa17512643febd83867b1832dfdc95e4b02df1a0eafd5"
   }
  }
 },
 "nbformat": 4,
 "nbformat_minor": 4
}
