{
 "cells": [
  {
   "cell_type": "markdown",
   "metadata": {},
   "source": [
    "# core\n",
    "\n",
    "> Main codebase for fetching and saving RSS feeds"
   ]
  },
  {
   "cell_type": "code",
   "execution_count": null,
   "metadata": {},
   "outputs": [],
   "source": [
    "# | default_exp core"
   ]
  },
  {
   "cell_type": "code",
   "execution_count": null,
   "metadata": {},
   "outputs": [],
   "source": [
    "# | hide\n",
    "from nbdev.showdoc import *"
   ]
  },
  {
   "cell_type": "code",
   "execution_count": null,
   "metadata": {},
   "outputs": [],
   "source": [
    "# | export\n",
    "\n",
    "from typing import *\n",
    "\n",
    "import reader\n",
    "from bs4 import BeautifulSoup\n",
    "from rich import print\n",
    "from rich.console import Console\n",
    "from rich.panel import Panel\n",
    "from rich.text import Text\n",
    "\n",
    "console = Console()\n",
    "import logging\n",
    "\n",
    "logger = logging.getLogger(__name__)\n",
    "\n",
    "\n",
    "def strip_html(s: str):\n",
    "    s = BeautifulSoup(s, features=\"lxml\")\n",
    "    return s.text"
   ]
  },
  {
   "cell_type": "code",
   "execution_count": null,
   "metadata": {},
   "outputs": [],
   "source": [
    "# | export\n",
    "\n",
    "\n",
    "class Feed:\n",
    "    \"\"\"RSS feed class\"\"\"\n",
    "\n",
    "    def __init__(self, url: str, name: str = None, tags: List[str] = []):\n",
    "        self.url = url\n",
    "        self.name = name\n",
    "        self.tags = tags\n",
    "\n",
    "    def add_tag(self, tag: str):\n",
    "        if tag not in self.tags:\n",
    "            self.tags.append(tag)\n",
    "\n",
    "    def remove_tag(self, tag: str):\n",
    "        if tag in self.tags:\n",
    "            self.tags.remove(tag)"
   ]
  },
  {
   "cell_type": "code",
   "execution_count": null,
   "metadata": {},
   "outputs": [
    {
     "data": {
      "text/plain": [
       "'testtest2'"
      ]
     },
     "execution_count": null,
     "metadata": {},
     "output_type": "execute_result"
    }
   ],
   "source": [
    "(\"test\" \"test2\")"
   ]
  },
  {
   "cell_type": "code",
   "execution_count": null,
   "metadata": {},
   "outputs": [],
   "source": [
    "# | export\n",
    "\n",
    "import rich\n",
    "\n",
    "\n",
    "class PyNewsReader:\n",
    "    def __init__(self, dbpath=None, feeds=List[Feed]):\n",
    "        if dbpath is None:\n",
    "            logger.info(\"Database path not specified, using ./db.sqlite\")\n",
    "            dbpath = \"db.sqlite\"\n",
    "\n",
    "        self._reader = reader.make_reader(\n",
    "            \"db.sqlite\", plugins=[\"reader.enclosure_dedupe\", \"reader.entry_dedupe\"]\n",
    "        )\n",
    "\n",
    "        self._reader.enable_search()\n",
    "        self._feed_names = {}\n",
    "\n",
    "    def _print_entries(\n",
    "        self, entries: List[reader.Entry], mark_as_read: bool = True, limit: int = 10\n",
    "    ):\n",
    "        \"\"\"\n",
    "        Pretty print entries - supports reader.Reader.get_entries arguments\n",
    "        \"\"\"\n",
    "        displayed_links = set()\n",
    "        for e in entries:\n",
    "            if e.link in displayed_links:\n",
    "                # Don't display duplicates\n",
    "                self._reader.mark_entry_as_read(e)\n",
    "            else:\n",
    "                displayed_links.add(e.link)\n",
    "                if e.published:\n",
    "                    published_date = \"Date: \" + e.published.isoformat()[:10]\n",
    "                else:\n",
    "                    published_date = \"Date: Unknown\"\n",
    "                if mark_as_read:\n",
    "                    self._reader.mark_entry_as_read(e)\n",
    "\n",
    "                feed_title = self._get_feed_title(e.original_feed_url)\n",
    "                panel_body = f\"Link: [link={e.link}]{e.link}[/link]\"+\"\\n\"\n",
    "                panel_body += str(published_date) + \"\\n\"\n",
    "                panel_body += \"Source: \"+feed_title + \"\\n\\n\"\n",
    "                panel_body += strip_html(e.summary) + \"\\n\"\n",
    "\n",
    "                console.print(\n",
    "                    Panel(\n",
    "                        panel_body,\n",
    "                        title=f\"[link={e.link}]{e.title}[/link]\",\n",
    "                    )\n",
    "                )\n",
    "                console.print()\n",
    "            if len(displayed_links) == limit:\n",
    "                return\n",
    "\n",
    "    def _search_to_entry(self, search_result):\n",
    "        for i in self._reader.get_entries():\n",
    "            if i.id == search_result.id and i.feed_url == search_result.feed_url:\n",
    "                return i\n",
    "\n",
    "    def _get_feed_title(self, url: str):\n",
    "        \"\"\"Get display title for pynewsreader feed\n",
    "\n",
    "        Args:\n",
    "            url (str): URL of pynewsreader feed\n",
    "\n",
    "        Returns:\n",
    "            str: Display title\n",
    "        \"\"\"\n",
    "        if url in self._feed_names:\n",
    "            return self._feed_names[url]\n",
    "        elif self._reader.get_feed(url).title:\n",
    "            return self._reader.get_feed(url).title\n",
    "        else:\n",
    "            return self._reader.get_feed(url).url\n",
    "\n",
    "    def update(self):\n",
    "        \"\"\"Update feeds and search\"\"\"\n",
    "        self._reader.update_feeds()\n",
    "        self._reader.update_search()\n",
    "\n",
    "    def _get_entries(\n",
    "        self, important: bool = None, read: Union[None, bool] = None, limit: int = 10\n",
    "    ):\n",
    "        \"\"\"Get entries in reader.Entry format\n",
    "\n",
    "        Args:\n",
    "            read (reader.Entry.read, optional): Filter on `read` status (None, True, False). Defaults to None.\n",
    "            limit (int, optional): Number of entries to return. Defaults to 10.\n",
    "\n",
    "        Returns:\n",
    "            List[reader.Entry]: List of entries\n",
    "        \"\"\"\n",
    "        return self._reader.get_entries(read=read, limit=limit, important=important)\n",
    "\n",
    "    def add_feed(self, feed: Feed):\n",
    "        \"\"\"Add feed to pynewsreader\n",
    "\n",
    "        Args:\n",
    "            feed (Feed): pynewsreader Feed to add\n",
    "        \"\"\"\n",
    "        self._reader.add_feed(feed.url, exist_ok=True)\n",
    "        if feed.name:\n",
    "            self._feed_names[feed.url] = feed.name\n",
    "\n",
    "    def remove_feed(self, feed: Feed):\n",
    "        \"\"\"Remove feed from pynewsreader instance\n",
    "\n",
    "        Args:\n",
    "            feed (Feed): Feed to remove\n",
    "        \"\"\"\n",
    "\n",
    "        self._reader.delete_feed(feed.url)\n",
    "\n",
    "    def feeds(self):\n",
    "        \"\"\"List pynewsreader feeds\n",
    "\n",
    "        Returns:\n",
    "            List[str]: List of names of current pynewsreader feeds\n",
    "        \"\"\"\n",
    "        return [self._get_feed_title(i.url) for i in self._reader.get_feeds()]\n",
    "\n",
    "    def show(\n",
    "        self,\n",
    "        limit: int = 5,\n",
    "        read: bool = None,\n",
    "        important: bool = None,\n",
    "        mark_as_read: bool = False,\n",
    "    ):\n",
    "        \"\"\"Pretty print entries\n",
    "\n",
    "        Args:\n",
    "            limit (int, optional): Number of entries to show. Defaults to 5.\n",
    "            read (bool, optional): Show read entries (True), unread entries (False), or all entries (None). Defaults to None.\n",
    "            mark_as_read (bool, optional): Mark displayed entries as read. Defaults to False.\n",
    "        \"\"\"\n",
    "        self._print_entries(\n",
    "            self._get_entries(read=read, important=important, limit=limit * 2),\n",
    "            limit=limit,\n",
    "            mark_as_read=mark_as_read,\n",
    "        )\n",
    "\n",
    "    def search(self, query: str, mark_as_read: bool = True, limit: int = 10):\n",
    "        \"\"\"Search entries and pretty print results\n",
    "\n",
    "        Args:\n",
    "            query (str): Search query\n",
    "            mark_as_read (bool, optional): Mark results as read? Defaults to True.\n",
    "        \"\"\"\n",
    "        self._print_entries(\n",
    "            [self._search_to_entry(i) for i in self._reader.search_entries(query)],\n",
    "            mark_as_read=mark_as_read,\n",
    "            limit=limit,\n",
    "        )\n",
    "\n",
    "    def mark_important(self, entry: reader.Entry):\n",
    "        \"\"\"Mark entry as important\n",
    "\n",
    "        Args:\n",
    "            entry (reader.Entry): Entry to mark as important\n",
    "        \"\"\"\n",
    "        reader.Reader.mark_entry_as_important(entry)\n",
    "\n",
    "    def mark_unimportant(self, entry: reader.Entry):\n",
    "        \"\"\"Mark entry as important\n",
    "\n",
    "        Args:\n",
    "            entry (reader.Entry): Entry to mark as important\n",
    "        \"\"\"\n",
    "        reader.Reader.mark_entry_as_unimportant(entry)\n",
    "\n",
    "    def tag(self, entry: reader.Entry, tag_key: str, tag_value: Dict = None):\n",
    "        \"\"\"Tag an entry\n",
    "\n",
    "        Args:\n",
    "            entry (reader.Entry): Entry to tag\n",
    "            tag_key (str): Key of tag\n",
    "            tag_value (Dict, optional): Value of tag. Defaults to None.\n",
    "        \"\"\"\n",
    "        reader.Reader.set_tag(entry, tag_key, tag_value)"
   ]
  },
  {
   "cell_type": "code",
   "execution_count": null,
   "metadata": {},
   "outputs": [],
   "source": [
    "r = PyNewsReader()"
   ]
  },
  {
   "cell_type": "markdown",
   "metadata": {},
   "source": [
    "## Add Feeds"
   ]
  },
  {
   "cell_type": "code",
   "execution_count": null,
   "metadata": {},
   "outputs": [],
   "source": [
    "# With names\n",
    "for i in [\n",
    "    Feed(url=\"https://ricochet.media/en/feed\", name=\"Richochet Media\"),\n",
    "    Feed(url=\"https://thetyee.ca/rss2.xml\", name=\"The Tyee\"),\n",
    "    Feed(\n",
    "        url=\"https://www.thestar.com/content/thestar/feed.RSSManagerServlet.articles.topstories.rss\",\n",
    "        name=\"Toronto Star | Top Stories\",\n",
    "    ),\n",
    "    Feed(\n",
    "        url=\"https://www.thestar.com/content/thestar/feed.RSSManagerServlet.articles.news.investigations.rss\",\n",
    "        name=\"Toronto Star | Investigations\",\n",
    "    ),\n",
    "    Feed(\n",
    "        url=\"https://www.thestar.com/content/thestar/feed.RSSManagerServlet.articles.opinion.editorials.rss\",\n",
    "        name=\"Toronto Star | Editorials\",\n",
    "    ),\n",
    "    Feed(url=\"https://www.macleans.ca/feed/\", name=\"Macleans\"),\n",
    "]:\n",
    "    r.add_feed(i)\n",
    "\n",
    "# Use the default name from the feed\n",
    "for i in [\n",
    "    \"https://rss.cbc.ca/lineup/topstories.xml\",\n",
    "    \"https://rss.cbc.ca/lineup/world.xml\",\n",
    "    \"https://rss.cbc.ca/lineup/canada.xml\",\n",
    "    \"https://rss.cbc.ca/lineup/business.xml\",\n",
    "    \"https://rss.cbc.ca/lineup/technology.xml\",\n",
    "    \"https://www.cbc.ca/cmlink/rss-canada-ottawa\",\n",
    "    \"https://thenarwhal.ca/feed/\",\n",
    "]:\n",
    "    r.add_feed(Feed(i))"
   ]
  },
  {
   "cell_type": "markdown",
   "metadata": {},
   "source": [
    "## List Feeds"
   ]
  },
  {
   "cell_type": "code",
   "execution_count": null,
   "metadata": {},
   "outputs": [
    {
     "data": {
      "text/plain": [
       "['Richochet Media',\n",
       " 'CBC | Business News',\n",
       " 'CBC | Canada News',\n",
       " 'CBC | Ottawa News',\n",
       " 'CBC | Technology News',\n",
       " 'CBC | Top Stories News',\n",
       " 'CBC | World News',\n",
       " 'Macleans',\n",
       " 'The Narwhal',\n",
       " 'The Tyee',\n",
       " 'Toronto Star | Investigations',\n",
       " 'Toronto Star | Editorials',\n",
       " 'Toronto Star | Top Stories']"
      ]
     },
     "execution_count": null,
     "metadata": {},
     "output_type": "execute_result"
    }
   ],
   "source": [
    "r.feeds()"
   ]
  },
  {
   "cell_type": "markdown",
   "metadata": {},
   "source": [
    "## Update Feeds"
   ]
  },
  {
   "cell_type": "code",
   "execution_count": null,
   "metadata": {},
   "outputs": [],
   "source": [
    "# r.update()"
   ]
  },
  {
   "cell_type": "markdown",
   "metadata": {},
   "source": [
    "## Display Entries\n",
    "\n",
    "`read` = None shows all entries\n",
    "\n",
    "`read` = False shows only unread entries\n",
    "\n",
    "`read` = True shows only read entries"
   ]
  },
  {
   "cell_type": "code",
   "execution_count": null,
   "metadata": {},
   "outputs": [
    {
     "data": {
      "text/html": [
       "<pre style=\"white-space:pre;overflow-x:auto;line-height:normal;font-family:Menlo,'DejaVu Sans Mono',consolas,'Courier New',monospace\">╭─────────────── <a href=\"https://www.cbc.ca/news/science/biodiversity-montreal-cop27-1.6654447?cmp=rss\" target=\"_blank\">Biodiversity needs same protection as climate, say scientists, activists at COP27</a> ───────────────╮\n",
       "│ Link: <a href=\"https://www.cbc.ca/news/science/biodiversity-montreal-cop27-1.6654447?cmp=rss\" target=\"_blank\">https://www.cbc.ca/news/science/biodiversity-montreal-cop27-1.6654447?cmp=rss</a>                             │\n",
       "│ Date: 2022-11-17                                                                                                │\n",
       "│ Source: CBC | Technology News                                                                                   │\n",
       "│                                                                                                                 │\n",
       "│  Civil society groups, Indigenous activists and scientists are standing together at the COP27 climate           │\n",
       "│ conference in Sharm el-Sheikh, Egypt, and demanding firm action be taken next month at the UN Biodiversity      │\n",
       "│ Conference that will be hosted in Montreal.                                                                     │\n",
       "│                                                                                                                 │\n",
       "╰─────────────────────────────────────────────────────────────────────────────────────────────────────────────────╯\n",
       "</pre>\n"
      ],
      "text/plain": [
       "╭─────────────── \u001b]8;id=364742;https://www.cbc.ca/news/science/biodiversity-montreal-cop27-1.6654447?cmp=rss\u001b\\Biodiversity needs same protection as climate, say scientists, activists at COP27\u001b]8;;\u001b\\ ───────────────╮\n",
       "│ Link: \u001b]8;id=621267;https://www.cbc.ca/news/science/biodiversity-montreal-cop27-1.6654447?cmp=rss\u001b\\https://www.cbc.ca/news/science/biodiversity-montreal-cop27-1.6654447?cmp=rss\u001b]8;;\u001b\\                             │\n",
       "│ Date: 2022-11-17                                                                                                │\n",
       "│ Source: CBC | Technology News                                                                                   │\n",
       "│                                                                                                                 │\n",
       "│  Civil society groups, Indigenous activists and scientists are standing together at the COP27 climate           │\n",
       "│ conference in Sharm el-Sheikh, Egypt, and demanding firm action be taken next month at the UN Biodiversity      │\n",
       "│ Conference that will be hosted in Montreal.                                                                     │\n",
       "│                                                                                                                 │\n",
       "╰─────────────────────────────────────────────────────────────────────────────────────────────────────────────────╯\n"
      ]
     },
     "metadata": {},
     "output_type": "display_data"
    },
    {
     "data": {
      "text/html": [
       "<pre style=\"white-space:pre;overflow-x:auto;line-height:normal;font-family:Menlo,'DejaVu Sans Mono',consolas,'Courier New',monospace\">\n",
       "</pre>\n"
      ],
      "text/plain": [
       "\n"
      ]
     },
     "metadata": {},
     "output_type": "display_data"
    },
    {
     "data": {
      "text/html": [
       "<pre style=\"white-space:pre;overflow-x:auto;line-height:normal;font-family:Menlo,'DejaVu Sans Mono',consolas,'Courier New',monospace\">╭───────────────────── <a href=\"https://www.thestar.com/opinion/editorials/2022/11/17/judges-should-be-free-to-impose-conditional-sentences-when-reasonable.html\" target=\"_blank\">Judges should be free to impose conditional sentences when reasonable</a> ─────────────────────╮\n",
       "│ Link:                                                                                                           │\n",
       "│ <a href=\"https://www.thestar.com/opinion/editorials/2022/11/17/judges-should-be-free-to-impose-conditional-sentences-when-reasonable.html\" target=\"_blank\">https://www.thestar.com/opinion/editorials/2022/11/17/judges-should-be-free-to-impose-conditional-sentences-whe</a> │\n",
       "│ <a href=\"https://www.thestar.com/opinion/editorials/2022/11/17/judges-should-be-free-to-impose-conditional-sentences-when-reasonable.html\" target=\"_blank\">n-reasonable.html</a>                                                                                               │\n",
       "│ Date: 2022-11-17                                                                                                │\n",
       "│ Source: Toronto Star | Editorials                                                                               │\n",
       "│                                                                                                                 │\n",
       "│ It costs about $150,000 per year to house one inmate in a federal prison. That’s just one reason to pursue      │\n",
       "│ alternatives to incarceration for offenders who don’t represent a danger to the public.                         │\n",
       "│                                                                                                                 │\n",
       "╰─────────────────────────────────────────────────────────────────────────────────────────────────────────────────╯\n",
       "</pre>\n"
      ],
      "text/plain": [
       "╭───────────────────── \u001b]8;id=76686;https://www.thestar.com/opinion/editorials/2022/11/17/judges-should-be-free-to-impose-conditional-sentences-when-reasonable.html\u001b\\Judges should be free to impose conditional sentences when reasonable\u001b]8;;\u001b\\ ─────────────────────╮\n",
       "│ Link:                                                                                                           │\n",
       "│ \u001b]8;id=185763;https://www.thestar.com/opinion/editorials/2022/11/17/judges-should-be-free-to-impose-conditional-sentences-when-reasonable.html\u001b\\https://www.thestar.com/opinion/editorials/2022/11/17/judges-should-be-free-to-impose-conditional-sentences-whe\u001b]8;;\u001b\\ │\n",
       "│ \u001b]8;id=185763;https://www.thestar.com/opinion/editorials/2022/11/17/judges-should-be-free-to-impose-conditional-sentences-when-reasonable.html\u001b\\n-reasonable.html\u001b]8;;\u001b\\                                                                                               │\n",
       "│ Date: 2022-11-17                                                                                                │\n",
       "│ Source: Toronto Star | Editorials                                                                               │\n",
       "│                                                                                                                 │\n",
       "│ It costs about $150,000 per year to house one inmate in a federal prison. That’s just one reason to pursue      │\n",
       "│ alternatives to incarceration for offenders who don’t represent a danger to the public.                         │\n",
       "│                                                                                                                 │\n",
       "╰─────────────────────────────────────────────────────────────────────────────────────────────────────────────────╯\n"
      ]
     },
     "metadata": {},
     "output_type": "display_data"
    },
    {
     "data": {
      "text/html": [
       "<pre style=\"white-space:pre;overflow-x:auto;line-height:normal;font-family:Menlo,'DejaVu Sans Mono',consolas,'Courier New',monospace\">\n",
       "</pre>\n"
      ],
      "text/plain": [
       "\n"
      ]
     },
     "metadata": {},
     "output_type": "display_data"
    },
    {
     "data": {
      "text/html": [
       "<pre style=\"white-space:pre;overflow-x:auto;line-height:normal;font-family:Menlo,'DejaVu Sans Mono',consolas,'Courier New',monospace\">╭─ <a href=\"https://www.thestar.com/news/investigations/2022/11/17/they-recently-bought-greenbelt-land-that-was-undevelopable-now-the-ford-government-is-poised-to-remove-protections-and-these-developers-stand-to-profit.html\" target=\"_blank\">They recently bought Greenbelt land that was undevelopable. Now the Ford government is poised to remove protec</a>─╮\n",
       "│ Link:                                                                                                           │\n",
       "│ <a href=\"https://www.thestar.com/news/investigations/2022/11/17/they-recently-bought-greenbelt-land-that-was-undevelopable-now-the-ford-government-is-poised-to-remove-protections-and-these-developers-stand-to-profit.html\" target=\"_blank\">https://www.thestar.com/news/investigations/2022/11/17/they-recently-bought-greenbelt-land-that-was-undevelopab</a> │\n",
       "│ <a href=\"https://www.thestar.com/news/investigations/2022/11/17/they-recently-bought-greenbelt-land-that-was-undevelopable-now-the-ford-government-is-poised-to-remove-protections-and-these-developers-stand-to-profit.html\" target=\"_blank\">le-now-the-ford-government-is-poised-to-remove-protections-and-these-developers-stand-to-profit.html</a>            │\n",
       "│ Date: 2022-11-17                                                                                                │\n",
       "│ Source: Toronto Star | Investigations                                                                           │\n",
       "│                                                                                                                 │\n",
       "│ An association representing developers said the GTA is in “the midst of a housing crisis” and more homes are    │\n",
       "│ needed to meet increased demand.                                                                                │\n",
       "│                                                                                                                 │\n",
       "╰─────────────────────────────────────────────────────────────────────────────────────────────────────────────────╯\n",
       "</pre>\n"
      ],
      "text/plain": [
       "╭─ \u001b]8;id=66126;https://www.thestar.com/news/investigations/2022/11/17/they-recently-bought-greenbelt-land-that-was-undevelopable-now-the-ford-government-is-poised-to-remove-protections-and-these-developers-stand-to-profit.html\u001b\\They recently bought Greenbelt land that was undevelopable. Now the Ford government is poised to remove protec\u001b]8;;\u001b\\─╮\n",
       "│ Link:                                                                                                           │\n",
       "│ \u001b]8;id=35881;https://www.thestar.com/news/investigations/2022/11/17/they-recently-bought-greenbelt-land-that-was-undevelopable-now-the-ford-government-is-poised-to-remove-protections-and-these-developers-stand-to-profit.html\u001b\\https://www.thestar.com/news/investigations/2022/11/17/they-recently-bought-greenbelt-land-that-was-undevelopab\u001b]8;;\u001b\\ │\n",
       "│ \u001b]8;id=35881;https://www.thestar.com/news/investigations/2022/11/17/they-recently-bought-greenbelt-land-that-was-undevelopable-now-the-ford-government-is-poised-to-remove-protections-and-these-developers-stand-to-profit.html\u001b\\le-now-the-ford-government-is-poised-to-remove-protections-and-these-developers-stand-to-profit.html\u001b]8;;\u001b\\            │\n",
       "│ Date: 2022-11-17                                                                                                │\n",
       "│ Source: Toronto Star | Investigations                                                                           │\n",
       "│                                                                                                                 │\n",
       "│ An association representing developers said the GTA is in “the midst of a housing crisis” and more homes are    │\n",
       "│ needed to meet increased demand.                                                                                │\n",
       "│                                                                                                                 │\n",
       "╰─────────────────────────────────────────────────────────────────────────────────────────────────────────────────╯\n"
      ]
     },
     "metadata": {},
     "output_type": "display_data"
    },
    {
     "data": {
      "text/html": [
       "<pre style=\"white-space:pre;overflow-x:auto;line-height:normal;font-family:Menlo,'DejaVu Sans Mono',consolas,'Courier New',monospace\">\n",
       "</pre>\n"
      ],
      "text/plain": [
       "\n"
      ]
     },
     "metadata": {},
     "output_type": "display_data"
    },
    {
     "data": {
      "text/html": [
       "<pre style=\"white-space:pre;overflow-x:auto;line-height:normal;font-family:Menlo,'DejaVu Sans Mono',consolas,'Courier New',monospace\">╭───────────────────────── <a href=\"https://www.macleans.ca/technology-3/the-big-idea-solving-canadas-supply-chain-woes/\" target=\"_blank\">The Big Idea: Airships are back, and they’re better than ever</a> ─────────────────────────╮\n",
       "│ Link: <a href=\"https://www.macleans.ca/technology-3/the-big-idea-solving-canadas-supply-chain-woes/\" target=\"_blank\">https://www.macleans.ca/technology-3/the-big-idea-solving-canadas-supply-chain-woes/</a>                      │\n",
       "│ Date: 2022-11-16                                                                                                │\n",
       "│ Source: Macleans                                                                                                │\n",
       "│                                                                                                                 │\n",
       "│ With a bit of investment, they can help solve our supply chain woes                                             │\n",
       "│ The post The Big Idea: Airships are back, and they’re better than ever appeared first on Macleans.ca.           │\n",
       "│                                                                                                                 │\n",
       "╰─────────────────────────────────────────────────────────────────────────────────────────────────────────────────╯\n",
       "</pre>\n"
      ],
      "text/plain": [
       "╭───────────────────────── \u001b]8;id=740175;https://www.macleans.ca/technology-3/the-big-idea-solving-canadas-supply-chain-woes/\u001b\\The Big Idea: Airships are back, and they’re better than ever\u001b]8;;\u001b\\ ─────────────────────────╮\n",
       "│ Link: \u001b]8;id=874757;https://www.macleans.ca/technology-3/the-big-idea-solving-canadas-supply-chain-woes/\u001b\\https://www.macleans.ca/technology-3/the-big-idea-solving-canadas-supply-chain-woes/\u001b]8;;\u001b\\                      │\n",
       "│ Date: 2022-11-16                                                                                                │\n",
       "│ Source: Macleans                                                                                                │\n",
       "│                                                                                                                 │\n",
       "│ With a bit of investment, they can help solve our supply chain woes                                             │\n",
       "│ The post The Big Idea: Airships are back, and they’re better than ever appeared first on Macleans.ca.           │\n",
       "│                                                                                                                 │\n",
       "╰─────────────────────────────────────────────────────────────────────────────────────────────────────────────────╯\n"
      ]
     },
     "metadata": {},
     "output_type": "display_data"
    },
    {
     "data": {
      "text/html": [
       "<pre style=\"white-space:pre;overflow-x:auto;line-height:normal;font-family:Menlo,'DejaVu Sans Mono',consolas,'Courier New',monospace\">\n",
       "</pre>\n"
      ],
      "text/plain": [
       "\n"
      ]
     },
     "metadata": {},
     "output_type": "display_data"
    },
    {
     "data": {
      "text/html": [
       "<pre style=\"white-space:pre;overflow-x:auto;line-height:normal;font-family:Menlo,'DejaVu Sans Mono',consolas,'Courier New',monospace\">╭─────────────────────────────── <a href=\"https://www.cbc.ca/news/science/artemis-1-third-attempt-1.6651139?cmp=rss\" target=\"_blank\">NASA finally launches Artemis mission to the moon</a> ───────────────────────────────╮\n",
       "│ Link: <a href=\"https://www.cbc.ca/news/science/artemis-1-third-attempt-1.6651139?cmp=rss\" target=\"_blank\">https://www.cbc.ca/news/science/artemis-1-third-attempt-1.6651139?cmp=rss</a>                                 │\n",
       "│ Date: 2022-11-15                                                                                                │\n",
       "│ Source: CBC | Technology News                                                                                   │\n",
       "│                                                                                                                 │\n",
       "│  It was a nail-biter, but NASA finally got the first rocket in its Artemis mission off the ground. The rocket   │\n",
       "│ lifted off at 1:47 a.m. ET, lighting up the early morning sky in Cape Canaveral, Fla.                           │\n",
       "│                                                                                                                 │\n",
       "╰─────────────────────────────────────────────────────────────────────────────────────────────────────────────────╯\n",
       "</pre>\n"
      ],
      "text/plain": [
       "╭─────────────────────────────── \u001b]8;id=498469;https://www.cbc.ca/news/science/artemis-1-third-attempt-1.6651139?cmp=rss\u001b\\NASA finally launches Artemis mission to the moon\u001b]8;;\u001b\\ ───────────────────────────────╮\n",
       "│ Link: \u001b]8;id=189526;https://www.cbc.ca/news/science/artemis-1-third-attempt-1.6651139?cmp=rss\u001b\\https://www.cbc.ca/news/science/artemis-1-third-attempt-1.6651139?cmp=rss\u001b]8;;\u001b\\                                 │\n",
       "│ Date: 2022-11-15                                                                                                │\n",
       "│ Source: CBC | Technology News                                                                                   │\n",
       "│                                                                                                                 │\n",
       "│  It was a nail-biter, but NASA finally got the first rocket in its Artemis mission off the ground. The rocket   │\n",
       "│ lifted off at 1:47 a.m. ET, lighting up the early morning sky in Cape Canaveral, Fla.                           │\n",
       "│                                                                                                                 │\n",
       "╰─────────────────────────────────────────────────────────────────────────────────────────────────────────────────╯\n"
      ]
     },
     "metadata": {},
     "output_type": "display_data"
    },
    {
     "data": {
      "text/html": [
       "<pre style=\"white-space:pre;overflow-x:auto;line-height:normal;font-family:Menlo,'DejaVu Sans Mono',consolas,'Courier New',monospace\">\n",
       "</pre>\n"
      ],
      "text/plain": [
       "\n"
      ]
     },
     "metadata": {},
     "output_type": "display_data"
    }
   ],
   "source": [
    "r.show(read=False, limit=5, mark_as_read=True)"
   ]
  },
  {
   "cell_type": "markdown",
   "metadata": {},
   "source": [
    "## Search Entries"
   ]
  },
  {
   "cell_type": "code",
   "execution_count": null,
   "metadata": {},
   "outputs": [
    {
     "data": {
      "text/html": [
       "<pre style=\"white-space:pre;overflow-x:auto;line-height:normal;font-family:Menlo,'DejaVu Sans Mono',consolas,'Courier New',monospace\">╭─────────────────── <a href=\"https://www.cbc.ca/radio/quirks/why-burning-plasma-could-be-the-next-milestone-in-nuclear-fusion-research-1.6687322?cmp=rss\" target=\"_blank\">Why burning plasma could be the next milestone in nuclear fusion research</a> ───────────────────╮\n",
       "│ Link:                                                                                                           │\n",
       "│ <a href=\"https://www.cbc.ca/radio/quirks/why-burning-plasma-could-be-the-next-milestone-in-nuclear-fusion-research-1.6687322?cmp=rss\" target=\"_blank\">https://www.cbc.ca/radio/quirks/why-burning-plasma-could-be-the-next-milestone-in-nuclear-fusion-research-1.668</a> │\n",
       "│ <a href=\"https://www.cbc.ca/radio/quirks/why-burning-plasma-could-be-the-next-milestone-in-nuclear-fusion-research-1.6687322?cmp=rss\" target=\"_blank\">7322?cmp=rss</a>                                                                                                    │\n",
       "│ Date: 2022-12-16                                                                                                │\n",
       "│ Source: CBC | Technology News                                                                                   │\n",
       "│                                                                                                                 │\n",
       "│  Bob McDonald's blog: A laser fusion experiment in the U.S. produced more energy out than went into driving it, │\n",
       "│ which is an important step. But practical fusion power will likely come from a different technology and is      │\n",
       "│ still many years away.                                                                                          │\n",
       "│                                                                                                                 │\n",
       "╰─────────────────────────────────────────────────────────────────────────────────────────────────────────────────╯\n",
       "</pre>\n"
      ],
      "text/plain": [
       "╭─────────────────── \u001b]8;id=453890;https://www.cbc.ca/radio/quirks/why-burning-plasma-could-be-the-next-milestone-in-nuclear-fusion-research-1.6687322?cmp=rss\u001b\\Why burning plasma could be the next milestone in nuclear fusion research\u001b]8;;\u001b\\ ───────────────────╮\n",
       "│ Link:                                                                                                           │\n",
       "│ \u001b]8;id=733953;https://www.cbc.ca/radio/quirks/why-burning-plasma-could-be-the-next-milestone-in-nuclear-fusion-research-1.6687322?cmp=rss\u001b\\https://www.cbc.ca/radio/quirks/why-burning-plasma-could-be-the-next-milestone-in-nuclear-fusion-research-1.668\u001b]8;;\u001b\\ │\n",
       "│ \u001b]8;id=733953;https://www.cbc.ca/radio/quirks/why-burning-plasma-could-be-the-next-milestone-in-nuclear-fusion-research-1.6687322?cmp=rss\u001b\\7322?cmp=rss\u001b]8;;\u001b\\                                                                                                    │\n",
       "│ Date: 2022-12-16                                                                                                │\n",
       "│ Source: CBC | Technology News                                                                                   │\n",
       "│                                                                                                                 │\n",
       "│  Bob McDonald's blog: A laser fusion experiment in the U.S. produced more energy out than went into driving it, │\n",
       "│ which is an important step. But practical fusion power will likely come from a different technology and is      │\n",
       "│ still many years away.                                                                                          │\n",
       "│                                                                                                                 │\n",
       "╰─────────────────────────────────────────────────────────────────────────────────────────────────────────────────╯\n"
      ]
     },
     "metadata": {},
     "output_type": "display_data"
    },
    {
     "data": {
      "text/html": [
       "<pre style=\"white-space:pre;overflow-x:auto;line-height:normal;font-family:Menlo,'DejaVu Sans Mono',consolas,'Courier New',monospace\">\n",
       "</pre>\n"
      ],
      "text/plain": [
       "\n"
      ]
     },
     "metadata": {},
     "output_type": "display_data"
    },
    {
     "data": {
      "text/html": [
       "<pre style=\"white-space:pre;overflow-x:auto;line-height:normal;font-family:Menlo,'DejaVu Sans Mono',consolas,'Courier New',monospace\">╭─────────────────────────── <a href=\"https://www.cbc.ca/news/science/us-fusion-announcement-1.6682497?cmp=rss\" target=\"_blank\">Fusion energy 'breakthrough' revealed by U.S. scientists</a> ────────────────────────────╮\n",
       "│ Link: <a href=\"https://www.cbc.ca/news/science/us-fusion-announcement-1.6682497?cmp=rss\" target=\"_blank\">https://www.cbc.ca/news/science/us-fusion-announcement-1.6682497?cmp=rss</a>                                  │\n",
       "│ Date: 2022-12-13                                                                                                │\n",
       "│ Source: CBC | Technology News                                                                                   │\n",
       "│                                                                                                                 │\n",
       "│  U.S. Energy Secretary Jennifer Granholm announced a \"major scientific breakthrough\" on Tuesday in the          │\n",
       "│ decades-long quest to harness fusion, the energy that powers the sun and stars.                                 │\n",
       "│                                                                                                                 │\n",
       "╰─────────────────────────────────────────────────────────────────────────────────────────────────────────────────╯\n",
       "</pre>\n"
      ],
      "text/plain": [
       "╭─────────────────────────── \u001b]8;id=545516;https://www.cbc.ca/news/science/us-fusion-announcement-1.6682497?cmp=rss\u001b\\Fusion energy 'breakthrough' revealed by U.S. scientists\u001b]8;;\u001b\\ ────────────────────────────╮\n",
       "│ Link: \u001b]8;id=468588;https://www.cbc.ca/news/science/us-fusion-announcement-1.6682497?cmp=rss\u001b\\https://www.cbc.ca/news/science/us-fusion-announcement-1.6682497?cmp=rss\u001b]8;;\u001b\\                                  │\n",
       "│ Date: 2022-12-13                                                                                                │\n",
       "│ Source: CBC | Technology News                                                                                   │\n",
       "│                                                                                                                 │\n",
       "│  U.S. Energy Secretary Jennifer Granholm announced a \"major scientific breakthrough\" on Tuesday in the          │\n",
       "│ decades-long quest to harness fusion, the energy that powers the sun and stars.                                 │\n",
       "│                                                                                                                 │\n",
       "╰─────────────────────────────────────────────────────────────────────────────────────────────────────────────────╯\n"
      ]
     },
     "metadata": {},
     "output_type": "display_data"
    },
    {
     "data": {
      "text/html": [
       "<pre style=\"white-space:pre;overflow-x:auto;line-height:normal;font-family:Menlo,'DejaVu Sans Mono',consolas,'Courier New',monospace\">\n",
       "</pre>\n"
      ],
      "text/plain": [
       "\n"
      ]
     },
     "metadata": {},
     "output_type": "display_data"
    },
    {
     "data": {
      "text/html": [
       "<pre style=\"white-space:pre;overflow-x:auto;line-height:normal;font-family:Menlo,'DejaVu Sans Mono',consolas,'Courier New',monospace\">╭───────────────────────────── <a href=\"https://www.cbc.ca/news/science/nuclear-fusion-explainer-1.6684298?cmp=rss\" target=\"_blank\">What is nuclear fusion and why is it such a big deal?</a> ─────────────────────────────╮\n",
       "│ Link: <a href=\"https://www.cbc.ca/news/science/nuclear-fusion-explainer-1.6684298?cmp=rss\" target=\"_blank\">https://www.cbc.ca/news/science/nuclear-fusion-explainer-1.6684298?cmp=rss</a>                                │\n",
       "│ Date: 2022-12-13                                                                                                │\n",
       "│ Source: CBC | Technology News                                                                                   │\n",
       "│                                                                                                                 │\n",
       "│  The U.S. Department of Energy on Tuesday announced a breakthrough in nuclear fusion, a way of producing clean  │\n",
       "│ energy that scientists have been working on since the 1940s. So what exactly is it, why is it so important and  │\n",
       "│ what does it mean for the future?                                                                               │\n",
       "│                                                                                                                 │\n",
       "╰─────────────────────────────────────────────────────────────────────────────────────────────────────────────────╯\n",
       "</pre>\n"
      ],
      "text/plain": [
       "╭───────────────────────────── \u001b]8;id=573869;https://www.cbc.ca/news/science/nuclear-fusion-explainer-1.6684298?cmp=rss\u001b\\What is nuclear fusion and why is it such a big deal?\u001b]8;;\u001b\\ ─────────────────────────────╮\n",
       "│ Link: \u001b]8;id=446973;https://www.cbc.ca/news/science/nuclear-fusion-explainer-1.6684298?cmp=rss\u001b\\https://www.cbc.ca/news/science/nuclear-fusion-explainer-1.6684298?cmp=rss\u001b]8;;\u001b\\                                │\n",
       "│ Date: 2022-12-13                                                                                                │\n",
       "│ Source: CBC | Technology News                                                                                   │\n",
       "│                                                                                                                 │\n",
       "│  The U.S. Department of Energy on Tuesday announced a breakthrough in nuclear fusion, a way of producing clean  │\n",
       "│ energy that scientists have been working on since the 1940s. So what exactly is it, why is it so important and  │\n",
       "│ what does it mean for the future?                                                                               │\n",
       "│                                                                                                                 │\n",
       "╰─────────────────────────────────────────────────────────────────────────────────────────────────────────────────╯\n"
      ]
     },
     "metadata": {},
     "output_type": "display_data"
    },
    {
     "data": {
      "text/html": [
       "<pre style=\"white-space:pre;overflow-x:auto;line-height:normal;font-family:Menlo,'DejaVu Sans Mono',consolas,'Courier New',monospace\">\n",
       "</pre>\n"
      ],
      "text/plain": [
       "\n"
      ]
     },
     "metadata": {},
     "output_type": "display_data"
    },
    {
     "data": {
      "text/html": [
       "<pre style=\"white-space:pre;overflow-x:auto;line-height:normal;font-family:Menlo,'DejaVu Sans Mono',consolas,'Courier New',monospace\">╭────────────── <a href=\"https://www.cbc.ca/news/science/what-on-earth-cannabis-plastic-waste-1.6687271?cmp=rss\" target=\"_blank\">The cannabis industry has a plastic waste problem — but some are finding solutions</a> ───────────────╮\n",
       "│ Link: <a href=\"https://www.cbc.ca/news/science/what-on-earth-cannabis-plastic-waste-1.6687271?cmp=rss\" target=\"_blank\">https://www.cbc.ca/news/science/what-on-earth-cannabis-plastic-waste-1.6687271?cmp=rss</a>                    │\n",
       "│ Date: 2022-12-15                                                                                                │\n",
       "│ Source: CBC | Canada News                                                                                       │\n",
       "│                                                                                                                 │\n",
       "│  In this week's issue of our environment newsletter, we look at the plastic waste produced in the cannabis      │\n",
       "│ industry and what this week's announcement about nuclear fusion means for the future of clean energy.           │\n",
       "│                                                                                                                 │\n",
       "╰─────────────────────────────────────────────────────────────────────────────────────────────────────────────────╯\n",
       "</pre>\n"
      ],
      "text/plain": [
       "╭────────────── \u001b]8;id=248451;https://www.cbc.ca/news/science/what-on-earth-cannabis-plastic-waste-1.6687271?cmp=rss\u001b\\The cannabis industry has a plastic waste problem — but some are finding solutions\u001b]8;;\u001b\\ ───────────────╮\n",
       "│ Link: \u001b]8;id=527940;https://www.cbc.ca/news/science/what-on-earth-cannabis-plastic-waste-1.6687271?cmp=rss\u001b\\https://www.cbc.ca/news/science/what-on-earth-cannabis-plastic-waste-1.6687271?cmp=rss\u001b]8;;\u001b\\                    │\n",
       "│ Date: 2022-12-15                                                                                                │\n",
       "│ Source: CBC | Canada News                                                                                       │\n",
       "│                                                                                                                 │\n",
       "│  In this week's issue of our environment newsletter, we look at the plastic waste produced in the cannabis      │\n",
       "│ industry and what this week's announcement about nuclear fusion means for the future of clean energy.           │\n",
       "│                                                                                                                 │\n",
       "╰─────────────────────────────────────────────────────────────────────────────────────────────────────────────────╯\n"
      ]
     },
     "metadata": {},
     "output_type": "display_data"
    },
    {
     "data": {
      "text/html": [
       "<pre style=\"white-space:pre;overflow-x:auto;line-height:normal;font-family:Menlo,'DejaVu Sans Mono',consolas,'Courier New',monospace\">\n",
       "</pre>\n"
      ],
      "text/plain": [
       "\n"
      ]
     },
     "metadata": {},
     "output_type": "display_data"
    }
   ],
   "source": [
    "r.search(\"fusion\")"
   ]
  },
  {
   "cell_type": "code",
   "execution_count": null,
   "metadata": {},
   "outputs": [],
   "source": [
    "# | hide\n",
    "\n",
    "# To Do:\n",
    "# * Command line interface\n",
    "# * User interface\n",
    "# * Tags"
   ]
  },
  {
   "cell_type": "code",
   "execution_count": null,
   "metadata": {},
   "outputs": [],
   "source": [
    "# | hide\n",
    "import nbdev\n",
    "\n",
    "nbdev.nbdev_export()"
   ]
  }
 ],
 "metadata": {
  "kernelspec": {
   "display_name": "Python 3 (ipykernel)",
   "language": "python",
   "name": "python3"
  }
 },
 "nbformat": 4,
 "nbformat_minor": 4
}
