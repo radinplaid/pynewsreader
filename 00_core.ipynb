{
 "cells": [
  {
   "cell_type": "markdown",
   "metadata": {},
   "source": [
    "# core\n",
    "\n",
    "> Main codebase for fetching and saving RSS feeds"
   ]
  },
  {
   "cell_type": "code",
   "execution_count": null,
   "metadata": {},
   "outputs": [],
   "source": [
    "# | default_exp core"
   ]
  },
  {
   "cell_type": "code",
   "execution_count": null,
   "metadata": {},
   "outputs": [],
   "source": [
    "# | hide\n",
    "from nbdev.showdoc import *"
   ]
  },
  {
   "cell_type": "code",
   "execution_count": null,
   "metadata": {},
   "outputs": [],
   "source": [
    "# | export\n",
    "\n",
    "import json\n",
    "import logging\n",
    "from pathlib import Path\n",
    "from typing import *\n",
    "\n",
    "import fire\n",
    "import reader\n",
    "import rich\n",
    "from bs4 import BeautifulSoup\n",
    "from fastcore.basics import patch_to\n",
    "from rich import print\n",
    "from rich.console import Console\n",
    "from rich.panel import Panel\n",
    "from rich.text import Text\n",
    "\n",
    "console = Console()\n",
    "\n",
    "logger = logging.getLogger(__name__)\n",
    "\n",
    "\n",
    "def strip_html(s: str):\n",
    "    s = BeautifulSoup(s, \"html.parser\")\n",
    "    return s.text"
   ]
  },
  {
   "cell_type": "code",
   "execution_count": null,
   "metadata": {},
   "outputs": [],
   "source": [
    "# | export\n",
    "\n",
    "\n",
    "class Feed:\n",
    "    \"\"\"RSS feed class\"\"\"\n",
    "\n",
    "    def __init__(self, url: str, name: str = None, tags: List[str] = []):\n",
    "        self.url = url\n",
    "        self.name = name\n",
    "        self.tags = tags\n",
    "\n",
    "    def add_tag(self, tag: str):\n",
    "        if tag not in self.tags:\n",
    "            self.tags.append(tag)\n",
    "\n",
    "    def remove_tag(self, tag: str):\n",
    "        if tag in self.tags:\n",
    "            self.tags.remove(tag)"
   ]
  },
  {
   "cell_type": "code",
   "execution_count": null,
   "metadata": {},
   "outputs": [],
   "source": [
    "# | export\n",
    "\n",
    "\n",
    "class PyNewsReader:\n",
    "    def __init__(self, feeds=List[Feed]):\n",
    "        self._dbfolder = Path().home() / \".cache/pynewsreader\"\n",
    "        if not self._dbfolder.exists():\n",
    "            self._dbfolder.mkdir(parents=True)\n",
    "\n",
    "        # If custom feed names exist, read them in\n",
    "        feed_names_path = self._dbfolder / \"feed_names.json\"\n",
    "        if feed_names_path.exists():\n",
    "            with open(self._dbfolder / \"feed_names.json\", \"rt\") as myfile:\n",
    "                self._feed_names = json.load(myfile)\n",
    "        else:\n",
    "            self._feed_names = {}\n",
    "\n",
    "        # If title blacklist exists, read it in\n",
    "        title_blacklist_path = self._dbfolder / \"title_blacklist.json\"\n",
    "        if title_blacklist_path.exists():\n",
    "            with open(self._dbfolder / \"title_blacklist.json\", \"rt\") as myfile:\n",
    "                self._title_blacklist = json.load(myfile)\n",
    "        else:\n",
    "            self._title_blacklist = []\n",
    "\n",
    "        self._reader = reader.make_reader(\n",
    "            self._dbfolder / \"db.sqlite\",\n",
    "            plugins=[\"reader.enclosure_dedupe\", \"reader.entry_dedupe\"],\n",
    "        )\n",
    "\n",
    "        # If title whitelist exists, read it in\n",
    "        title_whitelist_path = self._dbfolder / \"title_whitelist.json\"\n",
    "        if title_whitelist_path.exists():\n",
    "            with open(self._dbfolder / \"title_whitelist.json\", \"rt\") as myfile:\n",
    "                self._title_whitelist = json.load(myfile)\n",
    "        else:\n",
    "            self._title_whitelist = []\n",
    "\n",
    "        self._reader = reader.make_reader(\n",
    "            self._dbfolder / \"db.sqlite\",\n",
    "            plugins=[\"reader.enclosure_dedupe\", \"reader.entry_dedupe\"],\n",
    "        )\n",
    "\n",
    "        self._reader.enable_search()\n",
    "\n",
    "    def _print_entries(\n",
    "        self, entries: List[reader.Entry], mark_as_read: bool = True, limit: int = 10\n",
    "    ):\n",
    "        \"\"\"Pretty print entries - supports reader.Reader.get_entries arguments\"\"\"\n",
    "        displayed_links = set()\n",
    "        for e in entries:\n",
    "            if e.link in displayed_links:\n",
    "                # Don't display duplicates\n",
    "                self._reader.mark_entry_as_read(e)\n",
    "            else:\n",
    "                displayed_links.add(e.link)\n",
    "                if e.published:\n",
    "                    published_date = \"Date: \" + e.published.isoformat()[:10]\n",
    "                else:\n",
    "                    published_date = \"Date: Unknown\"\n",
    "                if mark_as_read:\n",
    "                    self._reader.mark_entry_as_read(e)\n",
    "\n",
    "                feed_title = f\"[bold]{self._get_feed_title(e.original_feed_url)}[/bold]\"\n",
    "\n",
    "                if e.important:\n",
    "                    panel_body = \":exclamation_mark:\"\n",
    "                else:\n",
    "                    panel_body = \"\"\n",
    "                panel_body += f\"Title: [bold]{e.title}[/bold]\" + \"\\n\"\n",
    "                panel_body += str(published_date) + \"\\n\\n\"\n",
    "                panel_body += strip_html(e.summary).strip() + \"\\n\"\n",
    "\n",
    "                console.print(\n",
    "                    Panel(\n",
    "                        panel_body,\n",
    "                        title=feed_title,\n",
    "                        subtitle=f\"[link={e.link}]{e.link}[/link]\",\n",
    "                    )\n",
    "                )\n",
    "                console.print()\n",
    "            if len(displayed_links) == limit:\n",
    "                return\n",
    "\n",
    "    def _get_feed_title(self, url: str):\n",
    "        \"\"\"Get display title for pynewsreader feed\"\"\"\n",
    "        if url in self._feed_names and self._feed_names[url] is not None:\n",
    "            return self._feed_names[url]\n",
    "        elif self._reader.get_feed(url).title:\n",
    "            return self._reader.get_feed(url).title\n",
    "        else:\n",
    "            return self._reader.get_feed(url).url\n",
    "\n",
    "    def _get_entries(\n",
    "        self, important: bool = None, read: Union[None, bool] = None, limit: int = 10\n",
    "    ) -> List[reader.Entry]:\n",
    "        \"\"\"Get entries in reader.Entry format\"\"\"\n",
    "        return self._reader.get_entries(read=read, limit=limit, important=important)\n",
    "\n",
    "    def _get_tags(self, entry: reader.Entry):\n",
    "        \"\"\"Get tags for a given entry\"\"\"\n",
    "        return [i[0] for i in list(self._reader.get_tags(entry))]\n",
    "\n",
    "    def _mark_matching_entries_as_read(self, match_strings: List):\n",
    "        for i in self._reader.get_entries(read=False):\n",
    "            for filter_string in match_strings:\n",
    "                if filter_string in i.title:\n",
    "                    print(f\"Marking entry as read: {i.title}\")\n",
    "                    self._reader.mark_entry_as_read(i)\n",
    "                if filter_string in i.link:\n",
    "                    print(f\"Marking entry as read: {i.title}\")\n",
    "                    self._reader.mark_entry_as_read(i)\n",
    "\n",
    "    def _mark_matching_entries_as_important(self, match_strings: List):\n",
    "        for i in self._reader.get_entries(read=False):\n",
    "            for filter_string in match_strings:\n",
    "                if filter_string in i.title:\n",
    "                    print(f\"Marking entry as important: {i.title}\")\n",
    "                    self._reader.mark_entry_as_important(i)\n",
    "\n",
    "    def _add_tag(self, entry: reader.Entry, tag_key: str, tag_value: Dict = None):\n",
    "        \"\"\"Add tag to entry\"\"\"\n",
    "        reader.Reader.set_tag(entry, tag_key, tag_value)\n",
    "\n",
    "    def _remove_tag(self, entry: reader.Entry, tag_key: str):\n",
    "        \"\"\"Remove tag from entry\"\"\"\n",
    "        self._reader.delete_tag(entry, tag_key)\n",
    "\n",
    "    def _mark_important(self, feed_url: str, entry_id: str):\n",
    "        article = r._reader.get_entry((feed_url, entry_id))\n",
    "        self._reader.mark_entry_as_important(article)\n",
    "\n",
    "    def _mark_unimportant(self, feed_url: str, entry_id: str):\n",
    "        article = r._reader.get_entry((feed_url, entry_id))\n",
    "        self._reader.mark_entry_as_unimportant(article)"
   ]
  },
  {
   "cell_type": "code",
   "execution_count": null,
   "metadata": {},
   "outputs": [],
   "source": [
    "# | export\n",
    "\n",
    "\n",
    "@patch_to(PyNewsReader)\n",
    "def blacklist_add(self, blacklist_string: str):\n",
    "    \"\"\"Add entry to blacklist\"\"\"\n",
    "    if blacklist_string not in self._title_blacklist:\n",
    "        self._title_blacklist.append(blacklist_string)\n",
    "        with open(self._dbfolder / \"title_blacklist.json\", \"wt\") as myfile:\n",
    "            json.dump(self._title_blacklist, myfile)\n",
    "\n",
    "\n",
    "@patch_to(PyNewsReader)\n",
    "def blacklist_remove(self, blacklist_string: str):\n",
    "    \"\"\"Remove entry from blacklist\"\"\"\n",
    "    if blacklist_string in self._title_blacklist:\n",
    "        self._title_blacklist.remove(blacklist_string)\n",
    "        with open(self._dbfolder / \"title_blacklist.json\", \"wt\") as myfile:\n",
    "            json.dump(self._title_blacklist, myfile)\n",
    "\n",
    "\n",
    "@patch_to(PyNewsReader)\n",
    "def blacklist_show(self):\n",
    "    \"\"\"Show blacklist\"\"\"\n",
    "    print(self._title_blacklist)"
   ]
  },
  {
   "cell_type": "code",
   "execution_count": null,
   "metadata": {},
   "outputs": [],
   "source": [
    "#| export\n",
    "\n",
    "\n",
    "@patch_to(PyNewsReader)\n",
    "def whitelist_add(self, whitelist_string: str):\n",
    "    \"\"\"Add entry to whitelist\"\"\"\n",
    "    if whitelist_string not in self._title_whitelist:\n",
    "        self._title_whitelist.append(whitelist_string)\n",
    "        with open(self._dbfolder / \"title_whitelist.json\", \"wt\") as myfile:\n",
    "            json.dump(self._title_whitelist, myfile)\n",
    "        for entry in self._get_entries(limit=None):\n",
    "            if whitelist_string in entry.title:\n",
    "                self._reader.mark_entry_as_important(entry)\n",
    "\n",
    "\n",
    "@patch_to(PyNewsReader)\n",
    "def whitelist_remove(self, whitelist_string: str):\n",
    "    \"\"\"Remove whitelist entry\"\"\"\n",
    "    if whitelist_string in self._title_whitelist:\n",
    "        self._title_whitelist.remove(whitelist_string)\n",
    "        with open(self._dbfolder / \"title_whitelist.json\", \"wt\") as myfile:\n",
    "            json.dump(self._title_whitelist, myfile)\n",
    "        for entry in self._get_entries(limit=None):\n",
    "            if whitelist_string in entry.title:\n",
    "                self._reader.mark_entry_as_unimportant(entry)\n",
    "\n",
    "\n",
    "@patch_to(PyNewsReader)\n",
    "def whitelist_show(self):\n",
    "    \"\"\"Show whitelist\"\"\"\n",
    "    print(self._title_whitelist)"
   ]
  },
  {
   "cell_type": "code",
   "execution_count": null,
   "metadata": {},
   "outputs": [],
   "source": [
    "# | export\n",
    "\n",
    "\n",
    "@patch_to(PyNewsReader)\n",
    "def update(self):\n",
    "    \"\"\"Update feeds and search\"\"\"\n",
    "    self._reader.update_feeds()\n",
    "    self._reader.update_search()\n",
    "    if len(self._title_blacklist) > 0:\n",
    "        self._mark_matching_entries_as_read(self._title_blacklist)\n",
    "    if len(self._title_whitelist) > 0:\n",
    "        self._mark_matching_entries_as_important(self._title_whitelist)"
   ]
  },
  {
   "cell_type": "code",
   "execution_count": null,
   "metadata": {},
   "outputs": [],
   "source": [
    "# | export\n",
    "\n",
    "\n",
    "@patch_to(PyNewsReader)\n",
    "def add_feed(self, feed: Union[Feed, str]):\n",
    "    \"\"\"Add feed to pynewsreader\n",
    "\n",
    "    Args:\n",
    "        feed (Feed): pynewsreader Feed to add\n",
    "    \"\"\"\n",
    "    if isinstance(feed, Feed):\n",
    "        self._feed_names[feed.url] = feed.name\n",
    "        self._reader.add_feed(feed.url.rstrip(\"/\"), exist_ok=True)\n",
    "    elif isinstance(feed, str):\n",
    "        self._reader.add_feed(feed.rstrip(\"/\"), exist_ok=True)\n",
    "    else:\n",
    "        raise Exception(\"Must be str or Feed type to add\")\n",
    "\n",
    "    # Save names to file\n",
    "    with open(self._dbfolder / \"feed_names.json\", \"wt\") as myfile:\n",
    "        json.dump(self._feed_names, myfile)\n",
    "\n",
    "\n",
    "@patch_to(PyNewsReader)\n",
    "def remove_feed(self, feed: Union[Feed, str]):\n",
    "    \"\"\"Remove feed from pynewsreader instance\n",
    "\n",
    "    Args:\n",
    "        feed (Union[Feed, str]): Feed to remove\n",
    "    \"\"\"\n",
    "\n",
    "    if isinstance(feed, Feed):\n",
    "        self._reader.delete_feed(feed.url)\n",
    "    elif isinstance(feed, str):\n",
    "        self._reader.delete_feed(feed)\n",
    "    else:\n",
    "        raise Exception(TypeError)\n",
    "\n",
    "\n",
    "@patch_to(PyNewsReader)\n",
    "def feeds(self):\n",
    "    \"\"\"List pynewsreader feeds\n",
    "\n",
    "    Returns:\n",
    "        List[str]: List of names of current pynewsreader feeds\n",
    "    \"\"\"\n",
    "    return [self._get_feed_title(i.url) for i in self._reader.get_feeds()]"
   ]
  },
  {
   "cell_type": "code",
   "execution_count": null,
   "metadata": {},
   "outputs": [],
   "source": [
    "# | export\n",
    "\n",
    "\n",
    "@patch_to(PyNewsReader)\n",
    "def show(\n",
    "    self,\n",
    "    limit: int = 6,\n",
    "    read: bool = False,\n",
    "    important: bool = None,\n",
    "    mark_as_read: bool = True,\n",
    "):\n",
    "    \"\"\"Pretty print entries\n",
    "\n",
    "    Args:\n",
    "        limit (int, optional): Number of entries to show. Defaults to 5.\n",
    "        read (bool, optional): Show read entries (True), unread entries (False), or all entries (None). Defaults to None.\n",
    "        mark_as_read (bool, optional): Mark displayed entries as read. Defaults to False.\n",
    "    \"\"\"\n",
    "    self._print_entries(\n",
    "        self._get_entries(read=read, important=important, limit=limit * 2),\n",
    "        limit=limit,\n",
    "        mark_as_read=mark_as_read,\n",
    "    )"
   ]
  },
  {
   "cell_type": "code",
   "execution_count": null,
   "metadata": {},
   "outputs": [],
   "source": [
    "# | export\n",
    "\n",
    "\n",
    "@patch_to(PyNewsReader)\n",
    "def search(self, query: str, mark_as_read: bool = True, limit: int = 10):\n",
    "    \"\"\"Search entries and pretty print results\n",
    "\n",
    "    Args:a\n",
    "        query (str): Search query\n",
    "        mark_as_read (bool, optional): Mark results as read? Defaults to True.\n",
    "    \"\"\"\n",
    "    self._print_entries(\n",
    "        [self._reader.get_entry(i) for i in self._reader.search_entries(query)],\n",
    "        mark_as_read=mark_as_read,\n",
    "        limit=limit,\n",
    "    )"
   ]
  },
  {
   "cell_type": "code",
   "execution_count": null,
   "metadata": {},
   "outputs": [],
   "source": [
    "r = PyNewsReader()"
   ]
  },
  {
   "cell_type": "markdown",
   "metadata": {},
   "source": [
    "## Add Feeds"
   ]
  },
  {
   "cell_type": "code",
   "execution_count": null,
   "metadata": {},
   "outputs": [],
   "source": [
    "# With names\n",
    "for i in [\n",
    "    Feed(url=\"https://ricochet.media/en/feed\", name=\"Richochet Media\"),\n",
    "    Feed(url=\"https://thetyee.ca/rss2.xml\", name=\"The Tyee\"),\n",
    "    Feed(\n",
    "        url=\"https://www.thestar.com/content/thestar/feed.RSSManagerServlet.articles.topstories.rss\",\n",
    "        name=\"Toronto Star | Top Stories\",\n",
    "    ),\n",
    "    Feed(\n",
    "        url=\"https://www.thestar.com/content/thestar/feed.RSSManagerServlet.articles.news.investigations.rss\",\n",
    "        name=\"Toronto Star | Investigations\",\n",
    "    ),\n",
    "    Feed(\n",
    "        url=\"https://www.thestar.com/content/thestar/feed.RSSManagerServlet.articles.opinion.editorials.rss\",\n",
    "        name=\"Toronto Star | Editorials\",\n",
    "    ),\n",
    "    Feed(url=\"https://www.macleans.ca/feed/\", name=\"Macleans\"),\n",
    "]:\n",
    "    r.add_feed(i)\n",
    "\n",
    "# Use the default name from the feed\n",
    "for i in [\n",
    "    \"https://rss.cbc.ca/lineup/topstories.xml\",\n",
    "    \"https://rss.cbc.ca/lineup/world.xml\",\n",
    "    \"https://rss.cbc.ca/lineup/canada.xml\",\n",
    "    \"https://rss.cbc.ca/lineup/business.xml\",\n",
    "    \"https://rss.cbc.ca/lineup/technology.xml\",\n",
    "    \"https://www.cbc.ca/cmlink/rss-canada-ottawa\",\n",
    "    \"https://thenarwhal.ca/feed/\",\n",
    "    \"https://www.theguardian.com/science/rss\",\n",
    "    \"https://www.theguardian.com/world/canada/rss\",\n",
    "]:\n",
    "    r.add_feed(Feed(i))"
   ]
  },
  {
   "cell_type": "markdown",
   "metadata": {},
   "source": [
    "## Update Feeds"
   ]
  },
  {
   "cell_type": "code",
   "execution_count": null,
   "metadata": {},
   "outputs": [],
   "source": [
    "r.update()"
   ]
  },
  {
   "cell_type": "markdown",
   "metadata": {},
   "source": [
    "## List Feeds"
   ]
  },
  {
   "cell_type": "code",
   "execution_count": null,
   "metadata": {},
   "outputs": [
    {
     "data": {
      "text/plain": [
       "['Canada | The Guardian',\n",
       " 'CBC | Business News',\n",
       " 'CBC | Canada News',\n",
       " 'CBC | Ottawa News',\n",
       " 'CBC | Technology News',\n",
       " 'CBC | Top Stories News',\n",
       " 'CBC | World News',\n",
       " 'Facebook AI Blog',\n",
       " 'Google AI Blog',\n",
       " 'Huggingface Blog',\n",
       " 'Journal of Statistical Software',\n",
       " 'Macleans.ca',\n",
       " 'Macleans',\n",
       " 'OpenAI Blog',\n",
       " 'Posit AI Blog',\n",
       " 'Proceedings of Machine Learning Research',\n",
       " 'Richochet Media',\n",
       " 'Science | The Guardian',\n",
       " 'Technology | The Guardian',\n",
       " 'The Beaverton',\n",
       " 'The Berkeley Artificial Intelligence Research Blog',\n",
       " 'The Guardian',\n",
       " 'The Narwhal',\n",
       " 'The Narwhal',\n",
       " 'The Tyee',\n",
       " 'Toronto Star | Investigations',\n",
       " 'Toronto Star | Editorials',\n",
       " 'Toronto Star | Top Stories']"
      ]
     },
     "execution_count": null,
     "metadata": {},
     "output_type": "execute_result"
    }
   ],
   "source": [
    "r.feeds()"
   ]
  },
  {
   "cell_type": "markdown",
   "metadata": {},
   "source": [
    "## Display Entries\n",
    "\n",
    "`read` = None shows all entries\n",
    "\n",
    "`read` = False shows only unread entries\n",
    "\n",
    "`read` = True shows only read entries"
   ]
  },
  {
   "cell_type": "code",
   "execution_count": null,
   "metadata": {},
   "outputs": [
    {
     "data": {
      "text/html": [
       "<pre style=\"white-space:pre;overflow-x:auto;line-height:normal;font-family:Menlo,'DejaVu Sans Mono',consolas,'Courier New',monospace\">╭───────────────────────────────────────────────── <span style=\"font-weight: bold\">The Guardian</span> ──────────────────────────────────────────────────╮\n",
       "│ Title: <span style=\"font-weight: bold\">New Zealand announces its biggest emissions reduction project in history</span>                                 │\n",
       "│ Date: 2023-05-22                                                                                                │\n",
       "│                                                                                                                 │\n",
       "│ Move to power Glenbrook steel plant with electricity from renewables rather than coal will reduce emissions by  │\n",
       "│ 1% – or the equivalent of taking 300,000 cars off the roadNew Zealand has announced its largest emissions       │\n",
       "│ reduction project in history, transitioning from coal to renewable electricity at the country’s major steel     │\n",
       "│ plant in a move that the government says is equivalent to taking 300,000 cars off the road.The government will  │\n",
       "│ spend $140m on halving the coal used at Glenbrook steel plant to recycle scrap steel, replacing that generating │\n",
       "│ power with an electric-powered furnace. The plant will contribute $160m to the project’s cost. Continue         │\n",
       "│ reading...                                                                                                      │\n",
       "│                                                                                                                 │\n",
       "╰─ <a href=\"https://www.theguardian.com/world/2023/may/22/new-zealand-announces-its-biggest-emissions-reduction-project-in-history\" target=\"_blank\">https://www.theguardian.com/world/2023/may/22/new-zealand-announces-its-biggest-emissions-reduction-project-in</a>─╯\n",
       "</pre>\n"
      ],
      "text/plain": [
       "╭───────────────────────────────────────────────── \u001b[1mThe Guardian\u001b[0m ──────────────────────────────────────────────────╮\n",
       "│ Title: \u001b[1mNew Zealand announces its biggest emissions reduction project in history\u001b[0m                                 │\n",
       "│ Date: 2023-05-22                                                                                                │\n",
       "│                                                                                                                 │\n",
       "│ Move to power Glenbrook steel plant with electricity from renewables rather than coal will reduce emissions by  │\n",
       "│ 1% – or the equivalent of taking 300,000 cars off the roadNew Zealand has announced its largest emissions       │\n",
       "│ reduction project in history, transitioning from coal to renewable electricity at the country’s major steel     │\n",
       "│ plant in a move that the government says is equivalent to taking 300,000 cars off the road.The government will  │\n",
       "│ spend $140m on halving the coal used at Glenbrook steel plant to recycle scrap steel, replacing that generating │\n",
       "│ power with an electric-powered furnace. The plant will contribute $160m to the project’s cost. Continue         │\n",
       "│ reading...                                                                                                      │\n",
       "│                                                                                                                 │\n",
       "╰─ \u001b]8;id=964411;https://www.theguardian.com/world/2023/may/22/new-zealand-announces-its-biggest-emissions-reduction-project-in-history\u001b\\https://www.theguardian.com/world/2023/may/22/new-zealand-announces-its-biggest-emissions-reduction-project-in\u001b]8;;\u001b\\─╯\n"
      ]
     },
     "metadata": {},
     "output_type": "display_data"
    },
    {
     "data": {
      "text/html": [
       "<pre style=\"white-space:pre;overflow-x:auto;line-height:normal;font-family:Menlo,'DejaVu Sans Mono',consolas,'Courier New',monospace\">\n",
       "</pre>\n"
      ],
      "text/plain": [
       "\n"
      ]
     },
     "metadata": {},
     "output_type": "display_data"
    },
    {
     "data": {
      "text/html": [
       "<pre style=\"white-space:pre;overflow-x:auto;line-height:normal;font-family:Menlo,'DejaVu Sans Mono',consolas,'Courier New',monospace\">╭───────────────────────────────────────────────── <span style=\"font-weight: bold\">The Guardian</span> ──────────────────────────────────────────────────╮\n",
       "│ Title: <span style=\"font-weight: bold\">US and Papua New Guinea set to sign security agreement amid Pacific militarisation concerns</span>              │\n",
       "│ Date: 2023-05-22                                                                                                │\n",
       "│                                                                                                                 │\n",
       "│ Antony Blinken has arrived on the Pacific island for signing as PM James Marape defends need to strengthen      │\n",
       "│ bordersThe United States is scheduled to sign a new security pact with Papua New Guinea on Monday amid concerns │\n",
       "│ in PNG about increasing militarisation and as the US continues to compete with China for influence in the       │\n",
       "│ Pacific.The state department said the new agreement would provide a framework to help improve security          │\n",
       "│ cooperation, enhance the capacity of Papua New Guinea’s defence force and increase regional stability. Continue │\n",
       "│ reading...                                                                                                      │\n",
       "│                                                                                                                 │\n",
       "╰─ <a href=\"https://www.theguardian.com/world/2023/may/22/us-png-defence-security-agreement-papua-new-guinea-china-india-modi-pacific-militarisation-concerns\" target=\"_blank\">https://www.theguardian.com/world/2023/may/22/us-png-defence-security-agreement-papua-new-guinea-china-india-m</a>─╯\n",
       "</pre>\n"
      ],
      "text/plain": [
       "╭───────────────────────────────────────────────── \u001b[1mThe Guardian\u001b[0m ──────────────────────────────────────────────────╮\n",
       "│ Title: \u001b[1mUS and Papua New Guinea set to sign security agreement amid Pacific militarisation concerns\u001b[0m              │\n",
       "│ Date: 2023-05-22                                                                                                │\n",
       "│                                                                                                                 │\n",
       "│ Antony Blinken has arrived on the Pacific island for signing as PM James Marape defends need to strengthen      │\n",
       "│ bordersThe United States is scheduled to sign a new security pact with Papua New Guinea on Monday amid concerns │\n",
       "│ in PNG about increasing militarisation and as the US continues to compete with China for influence in the       │\n",
       "│ Pacific.The state department said the new agreement would provide a framework to help improve security          │\n",
       "│ cooperation, enhance the capacity of Papua New Guinea’s defence force and increase regional stability. Continue │\n",
       "│ reading...                                                                                                      │\n",
       "│                                                                                                                 │\n",
       "╰─ \u001b]8;id=482449;https://www.theguardian.com/world/2023/may/22/us-png-defence-security-agreement-papua-new-guinea-china-india-modi-pacific-militarisation-concerns\u001b\\https://www.theguardian.com/world/2023/may/22/us-png-defence-security-agreement-papua-new-guinea-china-india-m\u001b]8;;\u001b\\─╯\n"
      ]
     },
     "metadata": {},
     "output_type": "display_data"
    },
    {
     "data": {
      "text/html": [
       "<pre style=\"white-space:pre;overflow-x:auto;line-height:normal;font-family:Menlo,'DejaVu Sans Mono',consolas,'Courier New',monospace\">\n",
       "</pre>\n"
      ],
      "text/plain": [
       "\n"
      ]
     },
     "metadata": {},
     "output_type": "display_data"
    },
    {
     "data": {
      "text/html": [
       "<pre style=\"white-space:pre;overflow-x:auto;line-height:normal;font-family:Menlo,'DejaVu Sans Mono',consolas,'Courier New',monospace\">╭──────────────────────────────────────────── <span style=\"font-weight: bold\">CBC | Top Stories News</span> ─────────────────────────────────────────────╮\n",
       "│ Title: <span style=\"font-weight: bold\">The National | Zelenskyy at G7, Bakhmut victory dispute, Smoky Alberta</span>                                   │\n",
       "│ Date: 2023-05-22                                                                                                │\n",
       "│                                                                                                                 │\n",
       "│ May 21, 2023 | Ukraine’s president secures more Western aid at the G7 summit in Japan. Ukrainian forces dispute │\n",
       "│ Russian victory claims in Bakhmut. Plus Alberta firefighters look for rain as wildfire smoke spreads.           │\n",
       "│                                                                                                                 │\n",
       "╰─ <a href=\"https://www.cbc.ca/news/thenational/the-national-zelenskyy-at-g7-bakhmut-victory-dispute-smoky-alberta-1.6589288?cmp=rss\" target=\"_blank\">https://www.cbc.ca/news/thenational/the-national-zelenskyy-at-g7-bakhmut-victory-dispute-smoky-alberta-1.65892</a>─╯\n",
       "</pre>\n"
      ],
      "text/plain": [
       "╭──────────────────────────────────────────── \u001b[1mCBC | Top Stories News\u001b[0m ─────────────────────────────────────────────╮\n",
       "│ Title: \u001b[1mThe National | Zelenskyy at G7, Bakhmut victory dispute, Smoky Alberta\u001b[0m                                   │\n",
       "│ Date: 2023-05-22                                                                                                │\n",
       "│                                                                                                                 │\n",
       "│ May 21, 2023 | Ukraine’s president secures more Western aid at the G7 summit in Japan. Ukrainian forces dispute │\n",
       "│ Russian victory claims in Bakhmut. Plus Alberta firefighters look for rain as wildfire smoke spreads.           │\n",
       "│                                                                                                                 │\n",
       "╰─ \u001b]8;id=176661;https://www.cbc.ca/news/thenational/the-national-zelenskyy-at-g7-bakhmut-victory-dispute-smoky-alberta-1.6589288?cmp=rss\u001b\\https://www.cbc.ca/news/thenational/the-national-zelenskyy-at-g7-bakhmut-victory-dispute-smoky-alberta-1.65892\u001b]8;;\u001b\\─╯\n"
      ]
     },
     "metadata": {},
     "output_type": "display_data"
    },
    {
     "data": {
      "text/html": [
       "<pre style=\"white-space:pre;overflow-x:auto;line-height:normal;font-family:Menlo,'DejaVu Sans Mono',consolas,'Courier New',monospace\">\n",
       "</pre>\n"
      ],
      "text/plain": [
       "\n"
      ]
     },
     "metadata": {},
     "output_type": "display_data"
    },
    {
     "data": {
      "text/html": [
       "<pre style=\"white-space:pre;overflow-x:auto;line-height:normal;font-family:Menlo,'DejaVu Sans Mono',consolas,'Courier New',monospace\">╭─────────────────────────────────────────────────── <span style=\"font-weight: bold\">The Tyee</span> ────────────────────────────────────────────────────╮\n",
       "│ Title: <span style=\"font-weight: bold\">How Smith’s Words and Actions Made ‘Trust’ a Ballot Issue</span>                                                │\n",
       "│ Date: Unknown                                                                                                   │\n",
       "│                                                                                                                 │\n",
       "│ Fit to govern? Here’s what Alberta’s UCP leader has done to spark the question.                                 │\n",
       "│                                                                                                                 │\n",
       "╰────────────── <a href=\"https://thetyee.ca/News/2023/05/19/How-Smith-Words-Actions-Made-Trust-Ballot-Issue/\" target=\"_blank\">https://thetyee.ca/News/2023/05/19/How-Smith-Words-Actions-Made-Trust-Ballot-Issue/</a> ──────────────╯\n",
       "</pre>\n"
      ],
      "text/plain": [
       "╭─────────────────────────────────────────────────── \u001b[1mThe Tyee\u001b[0m ────────────────────────────────────────────────────╮\n",
       "│ Title: \u001b[1mHow Smith’s Words and Actions Made ‘Trust’ a Ballot Issue\u001b[0m                                                │\n",
       "│ Date: Unknown                                                                                                   │\n",
       "│                                                                                                                 │\n",
       "│ Fit to govern? Here’s what Alberta’s UCP leader has done to spark the question.                                 │\n",
       "│                                                                                                                 │\n",
       "╰────────────── \u001b]8;id=657768;https://thetyee.ca/News/2023/05/19/How-Smith-Words-Actions-Made-Trust-Ballot-Issue/\u001b\\https://thetyee.ca/News/2023/05/19/How-Smith-Words-Actions-Made-Trust-Ballot-Issue/\u001b]8;;\u001b\\ ──────────────╯\n"
      ]
     },
     "metadata": {},
     "output_type": "display_data"
    },
    {
     "data": {
      "text/html": [
       "<pre style=\"white-space:pre;overflow-x:auto;line-height:normal;font-family:Menlo,'DejaVu Sans Mono',consolas,'Courier New',monospace\">\n",
       "</pre>\n"
      ],
      "text/plain": [
       "\n"
      ]
     },
     "metadata": {},
     "output_type": "display_data"
    },
    {
     "data": {
      "text/html": [
       "<pre style=\"white-space:pre;overflow-x:auto;line-height:normal;font-family:Menlo,'DejaVu Sans Mono',consolas,'Courier New',monospace\">╭─────────────────────────────────────────────────── <span style=\"font-weight: bold\">The Tyee</span> ────────────────────────────────────────────────────╮\n",
       "│ Title: <span style=\"font-weight: bold\">Danielle Smith’s Day Went Bad Long Before the Debate</span>                                                     │\n",
       "│ Date: Unknown                                                                                                   │\n",
       "│                                                                                                                 │\n",
       "│ A damning ethics report and dumped candidate upstaged a leaders’ debate draw.                                   │\n",
       "│                                                                                                                 │\n",
       "╰─────────────────────── <a href=\"https://thetyee.ca/Opinion/2023/05/19/Danielle-Smith-Day-Debate/\" target=\"_blank\">https://thetyee.ca/Opinion/2023/05/19/Danielle-Smith-Day-Debate/</a> ────────────────────────╯\n",
       "</pre>\n"
      ],
      "text/plain": [
       "╭─────────────────────────────────────────────────── \u001b[1mThe Tyee\u001b[0m ────────────────────────────────────────────────────╮\n",
       "│ Title: \u001b[1mDanielle Smith’s Day Went Bad Long Before the Debate\u001b[0m                                                     │\n",
       "│ Date: Unknown                                                                                                   │\n",
       "│                                                                                                                 │\n",
       "│ A damning ethics report and dumped candidate upstaged a leaders’ debate draw.                                   │\n",
       "│                                                                                                                 │\n",
       "╰─────────────────────── \u001b]8;id=442287;https://thetyee.ca/Opinion/2023/05/19/Danielle-Smith-Day-Debate/\u001b\\https://thetyee.ca/Opinion/2023/05/19/Danielle-Smith-Day-Debate/\u001b]8;;\u001b\\ ────────────────────────╯\n"
      ]
     },
     "metadata": {},
     "output_type": "display_data"
    },
    {
     "data": {
      "text/html": [
       "<pre style=\"white-space:pre;overflow-x:auto;line-height:normal;font-family:Menlo,'DejaVu Sans Mono',consolas,'Courier New',monospace\">\n",
       "</pre>\n"
      ],
      "text/plain": [
       "\n"
      ]
     },
     "metadata": {},
     "output_type": "display_data"
    }
   ],
   "source": [
    "r.show(limit=5, read=None, mark_as_read=False)"
   ]
  },
  {
   "cell_type": "markdown",
   "metadata": {},
   "source": [
    "## Search Entries"
   ]
  },
  {
   "cell_type": "code",
   "execution_count": null,
   "metadata": {},
   "outputs": [
    {
     "data": {
      "text/html": [
       "<pre style=\"white-space:pre;overflow-x:auto;line-height:normal;font-family:Menlo,'DejaVu Sans Mono',consolas,'Courier New',monospace\">╭────────────────────────────────────────────── <span style=\"font-weight: bold\">CBC | Business News</span> ──────────────────────────────────────────────╮\n",
       "│ Title: <span style=\"font-weight: bold\">Inflation rate unexpectedly increased in April, jumping up to 4.4%</span>                                       │\n",
       "│ Date: 2023-05-16                                                                                                │\n",
       "│                                                                                                                 │\n",
       "│ Canada's inflation rate reversed its cooling trend last month and moved higher, to a 4.4 per cent annual rate.  │\n",
       "│                                                                                                                 │\n",
       "╰────────────────────── <a href=\"https://www.cbc.ca/news/business/inflation-april-1.6844703?cmp=rss\" target=\"_blank\">https://www.cbc.ca/news/business/inflation-april-1.6844703?cmp=rss</a> ───────────────────────╯\n",
       "</pre>\n"
      ],
      "text/plain": [
       "╭────────────────────────────────────────────── \u001b[1mCBC | Business News\u001b[0m ──────────────────────────────────────────────╮\n",
       "│ Title: \u001b[1mInflation rate unexpectedly increased in April, jumping up to 4.4%\u001b[0m                                       │\n",
       "│ Date: 2023-05-16                                                                                                │\n",
       "│                                                                                                                 │\n",
       "│ Canada's inflation rate reversed its cooling trend last month and moved higher, to a 4.4 per cent annual rate.  │\n",
       "│                                                                                                                 │\n",
       "╰────────────────────── \u001b]8;id=233999;https://www.cbc.ca/news/business/inflation-april-1.6844703?cmp=rss\u001b\\https://www.cbc.ca/news/business/inflation-april-1.6844703?cmp=rss\u001b]8;;\u001b\\ ───────────────────────╯\n"
      ]
     },
     "metadata": {},
     "output_type": "display_data"
    },
    {
     "data": {
      "text/html": [
       "<pre style=\"white-space:pre;overflow-x:auto;line-height:normal;font-family:Menlo,'DejaVu Sans Mono',consolas,'Courier New',monospace\">\n",
       "</pre>\n"
      ],
      "text/plain": [
       "\n"
      ]
     },
     "metadata": {},
     "output_type": "display_data"
    },
    {
     "data": {
      "text/html": [
       "<pre style=\"white-space:pre;overflow-x:auto;line-height:normal;font-family:Menlo,'DejaVu Sans Mono',consolas,'Courier New',monospace\">╭────────────────────────────────────────────── <span style=\"font-weight: bold\">CBC | Business News</span> ──────────────────────────────────────────────╮\n",
       "│ ❗Title: <span style=\"font-weight: bold\">Bank of Canada raises interest rate again — but hits 'pause' on any more for now</span>                       │\n",
       "│ Date: 2023-01-25                                                                                                │\n",
       "│                                                                                                                 │\n",
       "│ The Bank of Canada has raised its benchmark interest rate again, to 4.5 per cent, but hinted that it may now be │\n",
       "│ done with its aggressive campaign of rate hikes.                                                                │\n",
       "│                                                                                                                 │\n",
       "╰──────────── <a href=\"https://www.cbc.ca/news/business/bank-of-canada-january-rate-decision-1.6725283?cmp=rss\" target=\"_blank\">https://www.cbc.ca/news/business/bank-of-canada-january-rate-decision-1.6725283?cmp=rss</a> ────────────╯\n",
       "</pre>\n"
      ],
      "text/plain": [
       "╭────────────────────────────────────────────── \u001b[1mCBC | Business News\u001b[0m ──────────────────────────────────────────────╮\n",
       "│ ❗Title: \u001b[1mBank of Canada raises interest rate again — but hits 'pause' on any more for now\u001b[0m                       │\n",
       "│ Date: 2023-01-25                                                                                                │\n",
       "│                                                                                                                 │\n",
       "│ The Bank of Canada has raised its benchmark interest rate again, to 4.5 per cent, but hinted that it may now be │\n",
       "│ done with its aggressive campaign of rate hikes.                                                                │\n",
       "│                                                                                                                 │\n",
       "╰──────────── \u001b]8;id=325398;https://www.cbc.ca/news/business/bank-of-canada-january-rate-decision-1.6725283?cmp=rss\u001b\\https://www.cbc.ca/news/business/bank-of-canada-january-rate-decision-1.6725283?cmp=rss\u001b]8;;\u001b\\ ────────────╯\n"
      ]
     },
     "metadata": {},
     "output_type": "display_data"
    },
    {
     "data": {
      "text/html": [
       "<pre style=\"white-space:pre;overflow-x:auto;line-height:normal;font-family:Menlo,'DejaVu Sans Mono',consolas,'Courier New',monospace\">\n",
       "</pre>\n"
      ],
      "text/plain": [
       "\n"
      ]
     },
     "metadata": {},
     "output_type": "display_data"
    },
    {
     "data": {
      "text/html": [
       "<pre style=\"white-space:pre;overflow-x:auto;line-height:normal;font-family:Menlo,'DejaVu Sans Mono',consolas,'Courier New',monospace\">╭─────────────────────────────────────────── <span style=\"font-weight: bold\">Toronto Star | Editorials</span> ───────────────────────────────────────────╮\n",
       "│ ❗Title: <span style=\"font-weight: bold\">With inflation easing will interest rates hikes pause?</span>                                                 │\n",
       "│ Date: 2023-01-20                                                                                                │\n",
       "│                                                                                                                 │\n",
       "│ With some welcome downward movement on inflation, let’s hope then that we’re seeing an end to the Bank of       │\n",
       "│ Canada’s string of rate hikes.                                                                                  │\n",
       "│                                                                                                                 │\n",
       "╰─ <a href=\"https://www.thestar.com/opinion/editorials/2023/01/20/with-inflation-easing-will-interest-rates-hikes-pause.html\" target=\"_blank\">https://www.thestar.com/opinion/editorials/2023/01/20/with-inflation-easing-will-interest-rates-hikes-pause.ht</a>─╯\n",
       "</pre>\n"
      ],
      "text/plain": [
       "╭─────────────────────────────────────────── \u001b[1mToronto Star | Editorials\u001b[0m ───────────────────────────────────────────╮\n",
       "│ ❗Title: \u001b[1mWith inflation easing will interest rates hikes pause?\u001b[0m                                                 │\n",
       "│ Date: 2023-01-20                                                                                                │\n",
       "│                                                                                                                 │\n",
       "│ With some welcome downward movement on inflation, let’s hope then that we’re seeing an end to the Bank of       │\n",
       "│ Canada’s string of rate hikes.                                                                                  │\n",
       "│                                                                                                                 │\n",
       "╰─ \u001b]8;id=979120;https://www.thestar.com/opinion/editorials/2023/01/20/with-inflation-easing-will-interest-rates-hikes-pause.html\u001b\\https://www.thestar.com/opinion/editorials/2023/01/20/with-inflation-easing-will-interest-rates-hikes-pause.ht\u001b]8;;\u001b\\─╯\n"
      ]
     },
     "metadata": {},
     "output_type": "display_data"
    },
    {
     "data": {
      "text/html": [
       "<pre style=\"white-space:pre;overflow-x:auto;line-height:normal;font-family:Menlo,'DejaVu Sans Mono',consolas,'Courier New',monospace\">\n",
       "</pre>\n"
      ],
      "text/plain": [
       "\n"
      ]
     },
     "metadata": {},
     "output_type": "display_data"
    },
    {
     "data": {
      "text/html": [
       "<pre style=\"white-space:pre;overflow-x:auto;line-height:normal;font-family:Menlo,'DejaVu Sans Mono',consolas,'Courier New',monospace\">╭────────────────────────────────────────────── <span style=\"font-weight: bold\">CBC | Business News</span> ──────────────────────────────────────────────╮\n",
       "│ Title: <span style=\"font-weight: bold\">High office vacancy rates spell continuing trouble for shops dependent on worker foot traffic</span>            │\n",
       "│ Date: 2022-12-22                                                                                                │\n",
       "│                                                                                                                 │\n",
       "│ Businesses that depend on the flow of office workers are struggling as vacancy rates in office towers across    │\n",
       "│ Canada continue to rise. Vancouver's office tower vacancy rate has tripled since 2019, while Montreal's has     │\n",
       "│ doubled.                                                                                                        │\n",
       "│                                                                                                                 │\n",
       "╰────────── <a href=\"https://www.cbc.ca/news/business/office-vacancy-rates-businesses-struggle-1.6692360?cmp=rss\" target=\"_blank\">https://www.cbc.ca/news/business/office-vacancy-rates-businesses-struggle-1.6692360?cmp=rss</a> ──────────╯\n",
       "</pre>\n"
      ],
      "text/plain": [
       "╭────────────────────────────────────────────── \u001b[1mCBC | Business News\u001b[0m ──────────────────────────────────────────────╮\n",
       "│ Title: \u001b[1mHigh office vacancy rates spell continuing trouble for shops dependent on worker foot traffic\u001b[0m            │\n",
       "│ Date: 2022-12-22                                                                                                │\n",
       "│                                                                                                                 │\n",
       "│ Businesses that depend on the flow of office workers are struggling as vacancy rates in office towers across    │\n",
       "│ Canada continue to rise. Vancouver's office tower vacancy rate has tripled since 2019, while Montreal's has     │\n",
       "│ doubled.                                                                                                        │\n",
       "│                                                                                                                 │\n",
       "╰────────── \u001b]8;id=195533;https://www.cbc.ca/news/business/office-vacancy-rates-businesses-struggle-1.6692360?cmp=rss\u001b\\https://www.cbc.ca/news/business/office-vacancy-rates-businesses-struggle-1.6692360?cmp=rss\u001b]8;;\u001b\\ ──────────╯\n"
      ]
     },
     "metadata": {},
     "output_type": "display_data"
    },
    {
     "data": {
      "text/html": [
       "<pre style=\"white-space:pre;overflow-x:auto;line-height:normal;font-family:Menlo,'DejaVu Sans Mono',consolas,'Courier New',monospace\">\n",
       "</pre>\n"
      ],
      "text/plain": [
       "\n"
      ]
     },
     "metadata": {},
     "output_type": "display_data"
    },
    {
     "data": {
      "text/html": [
       "<pre style=\"white-space:pre;overflow-x:auto;line-height:normal;font-family:Menlo,'DejaVu Sans Mono',consolas,'Courier New',monospace\">╭────────────────────────────────────────── <span style=\"font-weight: bold\">Toronto Star | Top Stories</span> ───────────────────────────────────────────╮\n",
       "│ ❗Title: <span style=\"font-weight: bold\">‘Vicious feedback loop’: The Bank of Canada hiked rates to push inflation down — but it’s also driving</span> │\n",
       "│ <span style=\"font-weight: bold\">inflation up</span>                                                                                                    │\n",
       "│ Date: 2023-05-18                                                                                                │\n",
       "│                                                                                                                 │\n",
       "│ As more Canadians renewed their mortgages at much higher interest rates, costs have soared and contributed to   │\n",
       "│ sticky inflation.                                                                                               │\n",
       "│                                                                                                                 │\n",
       "╰─ <a href=\"https://www.thestar.com/business/2023/05/18/mortgage-costs-jump-28-per-cent-in-april-driving-an-inflation-feedback-loop.html\" target=\"_blank\">https://www.thestar.com/business/2023/05/18/mortgage-costs-jump-28-per-cent-in-april-driving-an-inflation-feed</a>─╯\n",
       "</pre>\n"
      ],
      "text/plain": [
       "╭────────────────────────────────────────── \u001b[1mToronto Star | Top Stories\u001b[0m ───────────────────────────────────────────╮\n",
       "│ ❗Title: \u001b[1m‘Vicious feedback loop’: The Bank of Canada hiked rates to push inflation down — but it’s also driving\u001b[0m │\n",
       "│ \u001b[1minflation up\u001b[0m                                                                                                    │\n",
       "│ Date: 2023-05-18                                                                                                │\n",
       "│                                                                                                                 │\n",
       "│ As more Canadians renewed their mortgages at much higher interest rates, costs have soared and contributed to   │\n",
       "│ sticky inflation.                                                                                               │\n",
       "│                                                                                                                 │\n",
       "╰─ \u001b]8;id=980269;https://www.thestar.com/business/2023/05/18/mortgage-costs-jump-28-per-cent-in-april-driving-an-inflation-feedback-loop.html\u001b\\https://www.thestar.com/business/2023/05/18/mortgage-costs-jump-28-per-cent-in-april-driving-an-inflation-feed\u001b]8;;\u001b\\─╯\n"
      ]
     },
     "metadata": {},
     "output_type": "display_data"
    },
    {
     "data": {
      "text/html": [
       "<pre style=\"white-space:pre;overflow-x:auto;line-height:normal;font-family:Menlo,'DejaVu Sans Mono',consolas,'Courier New',monospace\">\n",
       "</pre>\n"
      ],
      "text/plain": [
       "\n"
      ]
     },
     "metadata": {},
     "output_type": "display_data"
    },
    {
     "data": {
      "text/html": [
       "<pre style=\"white-space:pre;overflow-x:auto;line-height:normal;font-family:Menlo,'DejaVu Sans Mono',consolas,'Courier New',monospace\">╭────────────────────────────────────────────── <span style=\"font-weight: bold\">CBC | Business News</span> ──────────────────────────────────────────────╮\n",
       "│ Title: <span style=\"font-weight: bold\">More U.S. rate hikes in store as Federal Reserve warns inflation could 'spring back'</span>                     │\n",
       "│ Date: 2023-02-02                                                                                                │\n",
       "│                                                                                                                 │\n",
       "│ It's premature to declare victory over inflation, says the U.S. central bank's Jerome Powell, in a move that    │\n",
       "│ could force North American interest rates even higher yet.                                                      │\n",
       "│                                                                                                                 │\n",
       "╰─────────────── <a href=\"https://www.cbc.ca/news/business/fed-outlook-column-don-pittis-1.6733151?cmp=rss\" target=\"_blank\">https://www.cbc.ca/news/business/fed-outlook-column-don-pittis-1.6733151?cmp=rss</a> ────────────────╯\n",
       "</pre>\n"
      ],
      "text/plain": [
       "╭────────────────────────────────────────────── \u001b[1mCBC | Business News\u001b[0m ──────────────────────────────────────────────╮\n",
       "│ Title: \u001b[1mMore U.S. rate hikes in store as Federal Reserve warns inflation could 'spring back'\u001b[0m                     │\n",
       "│ Date: 2023-02-02                                                                                                │\n",
       "│                                                                                                                 │\n",
       "│ It's premature to declare victory over inflation, says the U.S. central bank's Jerome Powell, in a move that    │\n",
       "│ could force North American interest rates even higher yet.                                                      │\n",
       "│                                                                                                                 │\n",
       "╰─────────────── \u001b]8;id=757571;https://www.cbc.ca/news/business/fed-outlook-column-don-pittis-1.6733151?cmp=rss\u001b\\https://www.cbc.ca/news/business/fed-outlook-column-don-pittis-1.6733151?cmp=rss\u001b]8;;\u001b\\ ────────────────╯\n"
      ]
     },
     "metadata": {},
     "output_type": "display_data"
    },
    {
     "data": {
      "text/html": [
       "<pre style=\"white-space:pre;overflow-x:auto;line-height:normal;font-family:Menlo,'DejaVu Sans Mono',consolas,'Courier New',monospace\">\n",
       "</pre>\n"
      ],
      "text/plain": [
       "\n"
      ]
     },
     "metadata": {},
     "output_type": "display_data"
    },
    {
     "data": {
      "text/html": [
       "<pre style=\"white-space:pre;overflow-x:auto;line-height:normal;font-family:Menlo,'DejaVu Sans Mono',consolas,'Courier New',monospace\">╭────────────────────────────────────────────── <span style=\"font-weight: bold\">CBC | Business News</span> ──────────────────────────────────────────────╮\n",
       "│ Title: <span style=\"font-weight: bold\">U.S. added 517,000 jobs last month, pushing unemployment rate to lowest since 1969</span>                       │\n",
       "│ Date: 2023-02-03                                                                                                │\n",
       "│                                                                                                                 │\n",
       "│ The U.S. economy added more than half a million jobs in January, an astonishing number that pushed the jobless  │\n",
       "│ rate down to its lowest level in half a century.                                                                │\n",
       "│                                                                                                                 │\n",
       "╰────────────────────── <a href=\"https://www.cbc.ca/news/business/us-jobs-january-1.6735707?cmp=rss\" target=\"_blank\">https://www.cbc.ca/news/business/us-jobs-january-1.6735707?cmp=rss</a> ───────────────────────╯\n",
       "</pre>\n"
      ],
      "text/plain": [
       "╭────────────────────────────────────────────── \u001b[1mCBC | Business News\u001b[0m ──────────────────────────────────────────────╮\n",
       "│ Title: \u001b[1mU.S. added 517,000 jobs last month, pushing unemployment rate to lowest since 1969\u001b[0m                       │\n",
       "│ Date: 2023-02-03                                                                                                │\n",
       "│                                                                                                                 │\n",
       "│ The U.S. economy added more than half a million jobs in January, an astonishing number that pushed the jobless  │\n",
       "│ rate down to its lowest level in half a century.                                                                │\n",
       "│                                                                                                                 │\n",
       "╰────────────────────── \u001b]8;id=686916;https://www.cbc.ca/news/business/us-jobs-january-1.6735707?cmp=rss\u001b\\https://www.cbc.ca/news/business/us-jobs-january-1.6735707?cmp=rss\u001b]8;;\u001b\\ ───────────────────────╯\n"
      ]
     },
     "metadata": {},
     "output_type": "display_data"
    },
    {
     "data": {
      "text/html": [
       "<pre style=\"white-space:pre;overflow-x:auto;line-height:normal;font-family:Menlo,'DejaVu Sans Mono',consolas,'Courier New',monospace\">\n",
       "</pre>\n"
      ],
      "text/plain": [
       "\n"
      ]
     },
     "metadata": {},
     "output_type": "display_data"
    },
    {
     "data": {
      "text/html": [
       "<pre style=\"white-space:pre;overflow-x:auto;line-height:normal;font-family:Menlo,'DejaVu Sans Mono',consolas,'Courier New',monospace\">╭────────────────────────────────────────────── <span style=\"font-weight: bold\">CBC | Business News</span> ──────────────────────────────────────────────╮\n",
       "│ Title: <span style=\"font-weight: bold\">Official inflation rate cools to 6.8% — but just about everything except gasoline keeps getting more </span>    │\n",
       "│ <span style=\"font-weight: bold\">expensive</span>                                                                                                       │\n",
       "│ Date: 2022-12-21                                                                                                │\n",
       "│                                                                                                                 │\n",
       "│ Canada's inflation rate cooled to 6.8 per cent last month as prices for gasoline and furniture went down, but   │\n",
       "│ the cost of food and rent went up.                                                                              │\n",
       "│                                                                                                                 │\n",
       "╰────────────────────── <a href=\"https://www.cbc.ca/news/business/inflation-canada-1.6693441?cmp=rss\" target=\"_blank\">https://www.cbc.ca/news/business/inflation-canada-1.6693441?cmp=rss</a> ──────────────────────╯\n",
       "</pre>\n"
      ],
      "text/plain": [
       "╭────────────────────────────────────────────── \u001b[1mCBC | Business News\u001b[0m ──────────────────────────────────────────────╮\n",
       "│ Title: \u001b[1mOfficial inflation rate cools to 6.8% — but just about everything except gasoline keeps getting more \u001b[0m    │\n",
       "│ \u001b[1mexpensive\u001b[0m                                                                                                       │\n",
       "│ Date: 2022-12-21                                                                                                │\n",
       "│                                                                                                                 │\n",
       "│ Canada's inflation rate cooled to 6.8 per cent last month as prices for gasoline and furniture went down, but   │\n",
       "│ the cost of food and rent went up.                                                                              │\n",
       "│                                                                                                                 │\n",
       "╰────────────────────── \u001b]8;id=402474;https://www.cbc.ca/news/business/inflation-canada-1.6693441?cmp=rss\u001b\\https://www.cbc.ca/news/business/inflation-canada-1.6693441?cmp=rss\u001b]8;;\u001b\\ ──────────────────────╯\n"
      ]
     },
     "metadata": {},
     "output_type": "display_data"
    },
    {
     "data": {
      "text/html": [
       "<pre style=\"white-space:pre;overflow-x:auto;line-height:normal;font-family:Menlo,'DejaVu Sans Mono',consolas,'Courier New',monospace\">\n",
       "</pre>\n"
      ],
      "text/plain": [
       "\n"
      ]
     },
     "metadata": {},
     "output_type": "display_data"
    },
    {
     "data": {
      "text/html": [
       "<pre style=\"white-space:pre;overflow-x:auto;line-height:normal;font-family:Menlo,'DejaVu Sans Mono',consolas,'Courier New',monospace\">╭─────────────────────────────────────────────── <span style=\"font-weight: bold\">CBC | Ottawa News</span> ───────────────────────────────────────────────╮\n",
       "│ Title: <span style=\"font-weight: bold\">Death rate among on-duty police officers fallen since 1960s, new data shows, with car crashes top cause</span>  │\n",
       "│ Date: 2023-05-20                                                                                                │\n",
       "│                                                                                                                 │\n",
       "│ New data from University of Ottawa researchers shows the death rate for officers on the job has fallen in past  │\n",
       "│ decades. It also shows how they died. Historically, car crashes have killed more officers than guns — though    │\n",
       "│ that hasn't been the case recently.                                                                             │\n",
       "│                                                                                                                 │\n",
       "╰──────── <a href=\"https://www.cbc.ca/news/canada/hamilton/police-officer-deaths-trend-research-1.6834737?cmp=rss\" target=\"_blank\">https://www.cbc.ca/news/canada/hamilton/police-officer-deaths-trend-research-1.6834737?cmp=rss</a> ─────────╯\n",
       "</pre>\n"
      ],
      "text/plain": [
       "╭─────────────────────────────────────────────── \u001b[1mCBC | Ottawa News\u001b[0m ───────────────────────────────────────────────╮\n",
       "│ Title: \u001b[1mDeath rate among on-duty police officers fallen since 1960s, new data shows, with car crashes top cause\u001b[0m  │\n",
       "│ Date: 2023-05-20                                                                                                │\n",
       "│                                                                                                                 │\n",
       "│ New data from University of Ottawa researchers shows the death rate for officers on the job has fallen in past  │\n",
       "│ decades. It also shows how they died. Historically, car crashes have killed more officers than guns — though    │\n",
       "│ that hasn't been the case recently.                                                                             │\n",
       "│                                                                                                                 │\n",
       "╰──────── \u001b]8;id=456744;https://www.cbc.ca/news/canada/hamilton/police-officer-deaths-trend-research-1.6834737?cmp=rss\u001b\\https://www.cbc.ca/news/canada/hamilton/police-officer-deaths-trend-research-1.6834737?cmp=rss\u001b]8;;\u001b\\ ─────────╯\n"
      ]
     },
     "metadata": {},
     "output_type": "display_data"
    },
    {
     "data": {
      "text/html": [
       "<pre style=\"white-space:pre;overflow-x:auto;line-height:normal;font-family:Menlo,'DejaVu Sans Mono',consolas,'Courier New',monospace\">\n",
       "</pre>\n"
      ],
      "text/plain": [
       "\n"
      ]
     },
     "metadata": {},
     "output_type": "display_data"
    },
    {
     "data": {
      "text/html": [
       "<pre style=\"white-space:pre;overflow-x:auto;line-height:normal;font-family:Menlo,'DejaVu Sans Mono',consolas,'Courier New',monospace\">╭───────────────────────────────────────────────── <span style=\"font-weight: bold\">The Guardian</span> ──────────────────────────────────────────────────╮\n",
       "│ Title: <span style=\"font-weight: bold\">‘This is just devilish … I’m going in again’: the best hot sauces tasted and rated</span>                       │\n",
       "│ Date: 2023-05-21                                                                                                │\n",
       "│                                                                                                                 │\n",
       "│ Who best to test 15 hot sauces – from mild and fruity to fierce and fiery – in a single sitting? Food TV’s Big  │\n",
       "│ Zuu, that’s who£6.45, patandpinkys.com Continue reading...                                                      │\n",
       "│                                                                                                                 │\n",
       "╰─ <a href=\"https://www.theguardian.com/food/2023/may/21/this-is-just-devilish-the-best-hot-sauces-tasted-and-rated-big-zuu\" target=\"_blank\">https://www.theguardian.com/food/2023/may/21/this-is-just-devilish-the-best-hot-sauces-tasted-and-rated-big-zu</a>─╯\n",
       "</pre>\n"
      ],
      "text/plain": [
       "╭───────────────────────────────────────────────── \u001b[1mThe Guardian\u001b[0m ──────────────────────────────────────────────────╮\n",
       "│ Title: \u001b[1m‘This is just devilish … I’m going in again’: the best hot sauces tasted and rated\u001b[0m                       │\n",
       "│ Date: 2023-05-21                                                                                                │\n",
       "│                                                                                                                 │\n",
       "│ Who best to test 15 hot sauces – from mild and fruity to fierce and fiery – in a single sitting? Food TV’s Big  │\n",
       "│ Zuu, that’s who£6.45, patandpinkys.com Continue reading...                                                      │\n",
       "│                                                                                                                 │\n",
       "╰─ \u001b]8;id=464235;https://www.theguardian.com/food/2023/may/21/this-is-just-devilish-the-best-hot-sauces-tasted-and-rated-big-zuu\u001b\\https://www.theguardian.com/food/2023/may/21/this-is-just-devilish-the-best-hot-sauces-tasted-and-rated-big-zu\u001b]8;;\u001b\\─╯\n"
      ]
     },
     "metadata": {},
     "output_type": "display_data"
    },
    {
     "data": {
      "text/html": [
       "<pre style=\"white-space:pre;overflow-x:auto;line-height:normal;font-family:Menlo,'DejaVu Sans Mono',consolas,'Courier New',monospace\">\n",
       "</pre>\n"
      ],
      "text/plain": [
       "\n"
      ]
     },
     "metadata": {},
     "output_type": "display_data"
    }
   ],
   "source": [
    "r.search(\"rate\", mark_as_read=False)"
   ]
  },
  {
   "cell_type": "markdown",
   "metadata": {},
   "source": [
    "## Tag Entry"
   ]
  },
  {
   "cell_type": "code",
   "execution_count": null,
   "metadata": {},
   "outputs": [],
   "source": [
    "test = list(r._reader.get_entries())"
   ]
  },
  {
   "cell_type": "code",
   "execution_count": null,
   "metadata": {},
   "outputs": [],
   "source": [
    "r._reader.set_tag(test[0], \"foobar\")"
   ]
  },
  {
   "cell_type": "code",
   "execution_count": null,
   "metadata": {},
   "outputs": [
    {
     "data": {
      "text/plain": [
       "[('foobar', None)]"
      ]
     },
     "execution_count": null,
     "metadata": {},
     "output_type": "execute_result"
    }
   ],
   "source": [
    "list(r._reader.get_tags(test[0]))"
   ]
  },
  {
   "cell_type": "code",
   "execution_count": null,
   "metadata": {},
   "outputs": [
    {
     "data": {
      "text/plain": [
       "['foobar']"
      ]
     },
     "execution_count": null,
     "metadata": {},
     "output_type": "execute_result"
    }
   ],
   "source": [
    "# We added a method to just return the tag key:\n",
    "r._get_tags(test[0])"
   ]
  },
  {
   "cell_type": "markdown",
   "metadata": {},
   "source": [
    "## Remove tag from entry"
   ]
  },
  {
   "cell_type": "code",
   "execution_count": null,
   "metadata": {},
   "outputs": [],
   "source": [
    "r._reader.delete_tag(test[0], \"foobar\")"
   ]
  },
  {
   "cell_type": "code",
   "execution_count": null,
   "metadata": {},
   "outputs": [
    {
     "data": {
      "text/plain": [
       "[]"
      ]
     },
     "execution_count": null,
     "metadata": {},
     "output_type": "execute_result"
    }
   ],
   "source": [
    "list(r._get_tags(test[0]))"
   ]
  },
  {
   "cell_type": "markdown",
   "metadata": {},
   "source": [
    "## Mark as Important/Unimportant"
   ]
  },
  {
   "cell_type": "code",
   "execution_count": null,
   "metadata": {},
   "outputs": [],
   "source": [
    "r._mark_important(test[0].feed_url, test[0].id)"
   ]
  },
  {
   "cell_type": "code",
   "execution_count": null,
   "metadata": {},
   "outputs": [],
   "source": [
    "r._mark_unimportant(test[0].feed_url, test[0].id)"
   ]
  },
  {
   "cell_type": "markdown",
   "metadata": {},
   "source": [
    "## Mark as Read / Unread"
   ]
  },
  {
   "cell_type": "code",
   "execution_count": null,
   "metadata": {},
   "outputs": [],
   "source": [
    "r._reader.mark_entry_as_read(test[0])\n",
    "r._reader.mark_entry_as_unread(test[0])"
   ]
  },
  {
   "cell_type": "markdown",
   "metadata": {},
   "source": [
    "## Automatically mark entries as read\n",
    "\n",
    "When updating feeds, entries with titles matching these strings will automatically be marked as read"
   ]
  },
  {
   "cell_type": "code",
   "execution_count": null,
   "metadata": {},
   "outputs": [],
   "source": [
    "for i in [\n",
    "    \"Musk\",\n",
    "    \"Apple\",\n",
    "    \"Bezos\",\n",
    "    \"Google\",\n",
    "    \"Samsung\",\n",
    "    \"iPhone\",\n",
    "    \"iPad\",\n",
    "    \"guardian.com/sport/\",\n",
    "    \"guardian.com/football/\",\n",
    "    \"thestar.com/sports\",\n",
    "]:\n",
    "    r.blacklist_add(i)"
   ]
  },
  {
   "cell_type": "code",
   "execution_count": null,
   "metadata": {},
   "outputs": [
    {
     "data": {
      "text/html": [
       "<pre style=\"white-space:pre;overflow-x:auto;line-height:normal;font-family:Menlo,'DejaVu Sans Mono',consolas,'Courier New',monospace\"><span style=\"font-weight: bold\">[</span>\n",
       "    <span style=\"color: #008000; text-decoration-color: #008000\">'Musk'</span>,\n",
       "    <span style=\"color: #008000; text-decoration-color: #008000\">'Apple'</span>,\n",
       "    <span style=\"color: #008000; text-decoration-color: #008000\">'Bezos'</span>,\n",
       "    <span style=\"color: #008000; text-decoration-color: #008000\">'Google'</span>,\n",
       "    <span style=\"color: #008000; text-decoration-color: #008000\">'Samsung'</span>,\n",
       "    <span style=\"color: #008000; text-decoration-color: #008000\">'iPhone'</span>,\n",
       "    <span style=\"color: #008000; text-decoration-color: #008000\">'iPad'</span>,\n",
       "    <span style=\"color: #008000; text-decoration-color: #008000\">'Premier League'</span>,\n",
       "    <span style=\"color: #008000; text-decoration-color: #008000\">'NHL'</span>,\n",
       "    <span style=\"color: #008000; text-decoration-color: #008000\">'NFL'</span>,\n",
       "    <span style=\"color: #008000; text-decoration-color: #008000\">'NBA'</span>,\n",
       "    <span style=\"color: #008000; text-decoration-color: #008000\">'guardian.com/sport/'</span>,\n",
       "    <span style=\"color: #008000; text-decoration-color: #008000\">'guardian.com/football/'</span>,\n",
       "    <span style=\"color: #008000; text-decoration-color: #008000\">'thestar.com/sports'</span>\n",
       "<span style=\"font-weight: bold\">]</span>\n",
       "</pre>\n"
      ],
      "text/plain": [
       "\u001b[1m[\u001b[0m\n",
       "    \u001b[32m'Musk'\u001b[0m,\n",
       "    \u001b[32m'Apple'\u001b[0m,\n",
       "    \u001b[32m'Bezos'\u001b[0m,\n",
       "    \u001b[32m'Google'\u001b[0m,\n",
       "    \u001b[32m'Samsung'\u001b[0m,\n",
       "    \u001b[32m'iPhone'\u001b[0m,\n",
       "    \u001b[32m'iPad'\u001b[0m,\n",
       "    \u001b[32m'Premier League'\u001b[0m,\n",
       "    \u001b[32m'NHL'\u001b[0m,\n",
       "    \u001b[32m'NFL'\u001b[0m,\n",
       "    \u001b[32m'NBA'\u001b[0m,\n",
       "    \u001b[32m'guardian.com/sport/'\u001b[0m,\n",
       "    \u001b[32m'guardian.com/football/'\u001b[0m,\n",
       "    \u001b[32m'thestar.com/sports'\u001b[0m\n",
       "\u001b[1m]\u001b[0m\n"
      ]
     },
     "metadata": {},
     "output_type": "display_data"
    }
   ],
   "source": [
    "r.blacklist_show()"
   ]
  },
  {
   "cell_type": "code",
   "execution_count": null,
   "metadata": {},
   "outputs": [],
   "source": [
    "# r.update()"
   ]
  },
  {
   "cell_type": "markdown",
   "metadata": {},
   "source": [
    "## Automatically mark entries as important"
   ]
  },
  {
   "cell_type": "code",
   "execution_count": null,
   "metadata": {},
   "outputs": [],
   "source": [
    "for i in [\"interest rate\", \"Bank of Canada\", \"housing market\"]:\n",
    "    r.whitelist_add(i)"
   ]
  },
  {
   "cell_type": "code",
   "execution_count": null,
   "metadata": {},
   "outputs": [
    {
     "data": {
      "text/html": [
       "<pre style=\"white-space:pre;overflow-x:auto;line-height:normal;font-family:Menlo,'DejaVu Sans Mono',consolas,'Courier New',monospace\"><span style=\"font-weight: bold\">[</span><span style=\"color: #008000; text-decoration-color: #008000\">'interest rate'</span>, <span style=\"color: #008000; text-decoration-color: #008000\">'Bank of Canada'</span>, <span style=\"color: #008000; text-decoration-color: #008000\">'housing market'</span><span style=\"font-weight: bold\">]</span>\n",
       "</pre>\n"
      ],
      "text/plain": [
       "\u001b[1m[\u001b[0m\u001b[32m'interest rate'\u001b[0m, \u001b[32m'Bank of Canada'\u001b[0m, \u001b[32m'housing market'\u001b[0m\u001b[1m]\u001b[0m\n"
      ]
     },
     "metadata": {},
     "output_type": "display_data"
    }
   ],
   "source": [
    "r.whitelist_show()"
   ]
  },
  {
   "cell_type": "code",
   "execution_count": null,
   "metadata": {},
   "outputs": [],
   "source": [
    "# r.update()"
   ]
  },
  {
   "cell_type": "markdown",
   "metadata": {},
   "source": [
    "## Low level access to data"
   ]
  },
  {
   "cell_type": "code",
   "execution_count": null,
   "metadata": {},
   "outputs": [
    {
     "data": {
      "text/plain": [
       "Entry(id='https://www.theguardian.com/world/2023/may/22/new-zealand-announces-its-biggest-emissions-reduction-project-in-history', updated=datetime.datetime(2023, 5, 22, 1, 7, 15, tzinfo=datetime.timezone.utc), title='New Zealand announces its biggest emissions reduction project in history', link='https://www.theguardian.com/world/2023/may/22/new-zealand-announces-its-biggest-emissions-reduction-project-in-history', author='Tess McClure in Auckland', published=datetime.datetime(2023, 5, 22, 1, 7, 15, tzinfo=datetime.timezone.utc), summary='<p>Move to power Glenbrook steel plant with electricity from renewables rather than coal will reduce emissions by 1% – or the equivalent of taking 300,000 cars off the road</p><p>New Zealand has announced its largest emissions reduction project in history, transitioning from coal to renewable electricity at the country’s major steel plant in a move that the government says is equivalent to taking 300,000 cars off the road.</p><p>The government will spend $140m on halving the coal used at Glenbrook steel plant to recycle scrap steel, replacing that generating power with an electric-powered furnace. The plant will contribute $160m to the project’s cost.</p> <a href=\"https://www.theguardian.com/world/2023/may/22/new-zealand-announces-its-biggest-emissions-reduction-project-in-history\">Continue reading...</a>', content=(), enclosures=(), read=False, read_modified=datetime.datetime(2023, 5, 22, 1, 32, 38, 83078, tzinfo=datetime.timezone.utc), important=False, important_modified=datetime.datetime(2023, 5, 22, 1, 32, 38, 72191, tzinfo=datetime.timezone.utc), added=datetime.datetime(2023, 5, 22, 1, 32, 25, 942490, tzinfo=datetime.timezone.utc), added_by='feed', last_updated=datetime.datetime(2023, 5, 22, 1, 32, 25, 942490, tzinfo=datetime.timezone.utc), original_feed_url='https://www.theguardian.com/commentisfree/all/rss', feed=Feed(url='https://www.theguardian.com/commentisfree/all/rss', updated=datetime.datetime(2023, 5, 22, 1, 23, 32, tzinfo=datetime.timezone.utc), title='The Guardian', link='https://www.theguardian.com/uk', author=None, subtitle=\"Latest news, sport, business, comment, analysis and reviews from the Guardian, the world's leading liberal voice\", version='rss20', user_title=None, added=datetime.datetime(2022, 12, 30, 0, 31, 23, 19562, tzinfo=datetime.timezone.utc), last_updated=datetime.datetime(2023, 5, 22, 1, 32, 25, 942490, tzinfo=datetime.timezone.utc), last_exception=None, updates_enabled=True))"
      ]
     },
     "execution_count": null,
     "metadata": {},
     "output_type": "execute_result"
    }
   ],
   "source": [
    "entries = r._get_entries(limit=1)\n",
    "entry = [i for i in entries][0]\n",
    "entry"
   ]
  },
  {
   "cell_type": "markdown",
   "metadata": {},
   "source": [
    "## CLI"
   ]
  },
  {
   "cell_type": "code",
   "execution_count": null,
   "metadata": {},
   "outputs": [],
   "source": [
    "# | export\n",
    "\n",
    "\n",
    "def main():\n",
    "    fire.Fire(PyNewsReader)"
   ]
  },
  {
   "cell_type": "code",
   "execution_count": null,
   "metadata": {},
   "outputs": [
    {
     "ename": "OSError",
     "evalue": "source code not available",
     "output_type": "error",
     "traceback": [
      "\u001b[0;31m---------------------------------------------------------------------------\u001b[0m",
      "\u001b[0;31mOSError\u001b[0m                                   Traceback (most recent call last)",
      "Cell \u001b[0;32mIn[35], line 5\u001b[0m\n\u001b[1;32m      1\u001b[0m \u001b[38;5;66;03m# | export\u001b[39;00m\n\u001b[1;32m      4\u001b[0m \u001b[38;5;28;01mif\u001b[39;00m \u001b[38;5;18m__name__\u001b[39m \u001b[38;5;241m==\u001b[39m \u001b[38;5;124m\"\u001b[39m\u001b[38;5;124m__main__\u001b[39m\u001b[38;5;124m\"\u001b[39m:\n\u001b[0;32m----> 5\u001b[0m     \u001b[43mmain\u001b[49m\u001b[43m(\u001b[49m\u001b[43m)\u001b[49m\n",
      "Cell \u001b[0;32mIn[34], line 5\u001b[0m, in \u001b[0;36mmain\u001b[0;34m()\u001b[0m\n\u001b[1;32m      4\u001b[0m \u001b[38;5;28;01mdef\u001b[39;00m \u001b[38;5;21mmain\u001b[39m():\n\u001b[0;32m----> 5\u001b[0m     \u001b[43mfire\u001b[49m\u001b[38;5;241;43m.\u001b[39;49m\u001b[43mFire\u001b[49m\u001b[43m(\u001b[49m\u001b[43mPyNewsReader\u001b[49m\u001b[43m)\u001b[49m\n",
      "File \u001b[0;32m~/mambaforge/lib/python3.10/site-packages/fire/core.py:141\u001b[0m, in \u001b[0;36mFire\u001b[0;34m(component, command, name, serialize)\u001b[0m\n\u001b[1;32m    138\u001b[0m   context\u001b[38;5;241m.\u001b[39mupdate(caller_globals)\n\u001b[1;32m    139\u001b[0m   context\u001b[38;5;241m.\u001b[39mupdate(caller_locals)\n\u001b[0;32m--> 141\u001b[0m component_trace \u001b[38;5;241m=\u001b[39m \u001b[43m_Fire\u001b[49m\u001b[43m(\u001b[49m\u001b[43mcomponent\u001b[49m\u001b[43m,\u001b[49m\u001b[43m \u001b[49m\u001b[43margs\u001b[49m\u001b[43m,\u001b[49m\u001b[43m \u001b[49m\u001b[43mparsed_flag_args\u001b[49m\u001b[43m,\u001b[49m\u001b[43m \u001b[49m\u001b[43mcontext\u001b[49m\u001b[43m,\u001b[49m\u001b[43m \u001b[49m\u001b[43mname\u001b[49m\u001b[43m)\u001b[49m\n\u001b[1;32m    143\u001b[0m \u001b[38;5;28;01mif\u001b[39;00m component_trace\u001b[38;5;241m.\u001b[39mHasError():\n\u001b[1;32m    144\u001b[0m   _DisplayError(component_trace)\n",
      "File \u001b[0;32m~/mambaforge/lib/python3.10/site-packages/fire/core.py:475\u001b[0m, in \u001b[0;36m_Fire\u001b[0;34m(component, args, parsed_flag_args, context, name)\u001b[0m\n\u001b[1;32m    472\u001b[0m is_class \u001b[38;5;241m=\u001b[39m inspect\u001b[38;5;241m.\u001b[39misclass(component)\n\u001b[1;32m    474\u001b[0m \u001b[38;5;28;01mtry\u001b[39;00m:\n\u001b[0;32m--> 475\u001b[0m   component, remaining_args \u001b[38;5;241m=\u001b[39m \u001b[43m_CallAndUpdateTrace\u001b[49m\u001b[43m(\u001b[49m\n\u001b[1;32m    476\u001b[0m \u001b[43m      \u001b[49m\u001b[43mcomponent\u001b[49m\u001b[43m,\u001b[49m\n\u001b[1;32m    477\u001b[0m \u001b[43m      \u001b[49m\u001b[43mremaining_args\u001b[49m\u001b[43m,\u001b[49m\n\u001b[1;32m    478\u001b[0m \u001b[43m      \u001b[49m\u001b[43mcomponent_trace\u001b[49m\u001b[43m,\u001b[49m\n\u001b[1;32m    479\u001b[0m \u001b[43m      \u001b[49m\u001b[43mtreatment\u001b[49m\u001b[38;5;241;43m=\u001b[39;49m\u001b[38;5;124;43m'\u001b[39;49m\u001b[38;5;124;43mclass\u001b[39;49m\u001b[38;5;124;43m'\u001b[39;49m\u001b[43m \u001b[49m\u001b[38;5;28;43;01mif\u001b[39;49;00m\u001b[43m \u001b[49m\u001b[43mis_class\u001b[49m\u001b[43m \u001b[49m\u001b[38;5;28;43;01melse\u001b[39;49;00m\u001b[43m \u001b[49m\u001b[38;5;124;43m'\u001b[39;49m\u001b[38;5;124;43mroutine\u001b[39;49m\u001b[38;5;124;43m'\u001b[39;49m\u001b[43m,\u001b[49m\n\u001b[1;32m    480\u001b[0m \u001b[43m      \u001b[49m\u001b[43mtarget\u001b[49m\u001b[38;5;241;43m=\u001b[39;49m\u001b[43mcomponent\u001b[49m\u001b[38;5;241;43m.\u001b[39;49m\u001b[38;5;18;43m__name__\u001b[39;49m\u001b[43m)\u001b[49m\n\u001b[1;32m    481\u001b[0m   handled \u001b[38;5;241m=\u001b[39m \u001b[38;5;28;01mTrue\u001b[39;00m\n\u001b[1;32m    482\u001b[0m \u001b[38;5;28;01mexcept\u001b[39;00m FireError \u001b[38;5;28;01mas\u001b[39;00m error:\n",
      "File \u001b[0;32m~/mambaforge/lib/python3.10/site-packages/fire/core.py:680\u001b[0m, in \u001b[0;36m_CallAndUpdateTrace\u001b[0;34m(component, args, component_trace, treatment, target)\u001b[0m\n\u001b[1;32m    678\u001b[0m \u001b[38;5;28;01mif\u001b[39;00m \u001b[38;5;129;01mnot\u001b[39;00m target:\n\u001b[1;32m    679\u001b[0m   target \u001b[38;5;241m=\u001b[39m component\n\u001b[0;32m--> 680\u001b[0m filename, lineno \u001b[38;5;241m=\u001b[39m \u001b[43minspectutils\u001b[49m\u001b[38;5;241;43m.\u001b[39;49m\u001b[43mGetFileAndLine\u001b[49m\u001b[43m(\u001b[49m\u001b[43mcomponent\u001b[49m\u001b[43m)\u001b[49m\n\u001b[1;32m    681\u001b[0m metadata \u001b[38;5;241m=\u001b[39m decorators\u001b[38;5;241m.\u001b[39mGetMetadata(component)\n\u001b[1;32m    682\u001b[0m fn \u001b[38;5;241m=\u001b[39m component\u001b[38;5;241m.\u001b[39m\u001b[38;5;21m__call__\u001b[39m \u001b[38;5;28;01mif\u001b[39;00m treatment \u001b[38;5;241m==\u001b[39m \u001b[38;5;124m'\u001b[39m\u001b[38;5;124mcallable\u001b[39m\u001b[38;5;124m'\u001b[39m \u001b[38;5;28;01melse\u001b[39;00m component\n",
      "File \u001b[0;32m~/mambaforge/lib/python3.10/site-packages/fire/inspectutils.py:249\u001b[0m, in \u001b[0;36mGetFileAndLine\u001b[0;34m(component)\u001b[0m\n\u001b[1;32m    246\u001b[0m   \u001b[38;5;28;01mreturn\u001b[39;00m \u001b[38;5;28;01mNone\u001b[39;00m, \u001b[38;5;28;01mNone\u001b[39;00m\n\u001b[1;32m    248\u001b[0m \u001b[38;5;28;01mtry\u001b[39;00m:\n\u001b[0;32m--> 249\u001b[0m   filename \u001b[38;5;241m=\u001b[39m \u001b[43minspect\u001b[49m\u001b[38;5;241;43m.\u001b[39;49m\u001b[43mgetsourcefile\u001b[49m\u001b[43m(\u001b[49m\u001b[43mcomponent\u001b[49m\u001b[43m)\u001b[49m\n\u001b[1;32m    250\u001b[0m \u001b[38;5;28;01mexcept\u001b[39;00m \u001b[38;5;167;01mTypeError\u001b[39;00m:\n\u001b[1;32m    251\u001b[0m   \u001b[38;5;28;01mreturn\u001b[39;00m \u001b[38;5;28;01mNone\u001b[39;00m, \u001b[38;5;28;01mNone\u001b[39;00m\n",
      "File \u001b[0;32m~/mambaforge/lib/python3.10/inspect.py:817\u001b[0m, in \u001b[0;36mgetsourcefile\u001b[0;34m(object)\u001b[0m\n\u001b[1;32m    813\u001b[0m \u001b[38;5;28;01mdef\u001b[39;00m \u001b[38;5;21mgetsourcefile\u001b[39m(\u001b[38;5;28mobject\u001b[39m):\n\u001b[1;32m    814\u001b[0m     \u001b[38;5;124;03m\"\"\"Return the filename that can be used to locate an object's source.\u001b[39;00m\n\u001b[1;32m    815\u001b[0m \u001b[38;5;124;03m    Return None if no way can be identified to get the source.\u001b[39;00m\n\u001b[1;32m    816\u001b[0m \u001b[38;5;124;03m    \"\"\"\u001b[39;00m\n\u001b[0;32m--> 817\u001b[0m     filename \u001b[38;5;241m=\u001b[39m \u001b[43mgetfile\u001b[49m\u001b[43m(\u001b[49m\u001b[38;5;28;43mobject\u001b[39;49m\u001b[43m)\u001b[49m\n\u001b[1;32m    818\u001b[0m     all_bytecode_suffixes \u001b[38;5;241m=\u001b[39m importlib\u001b[38;5;241m.\u001b[39mmachinery\u001b[38;5;241m.\u001b[39mDEBUG_BYTECODE_SUFFIXES[:]\n\u001b[1;32m    819\u001b[0m     all_bytecode_suffixes \u001b[38;5;241m+\u001b[39m\u001b[38;5;241m=\u001b[39m importlib\u001b[38;5;241m.\u001b[39mmachinery\u001b[38;5;241m.\u001b[39mOPTIMIZED_BYTECODE_SUFFIXES[:]\n",
      "File \u001b[0;32m~/mambaforge/lib/python3.10/inspect.py:785\u001b[0m, in \u001b[0;36mgetfile\u001b[0;34m(object)\u001b[0m\n\u001b[1;32m    783\u001b[0m             \u001b[38;5;28;01mreturn\u001b[39;00m module\u001b[38;5;241m.\u001b[39m\u001b[38;5;18m__file__\u001b[39m\n\u001b[1;32m    784\u001b[0m         \u001b[38;5;28;01mif\u001b[39;00m \u001b[38;5;28mobject\u001b[39m\u001b[38;5;241m.\u001b[39m\u001b[38;5;18m__module__\u001b[39m \u001b[38;5;241m==\u001b[39m \u001b[38;5;124m'\u001b[39m\u001b[38;5;124m__main__\u001b[39m\u001b[38;5;124m'\u001b[39m:\n\u001b[0;32m--> 785\u001b[0m             \u001b[38;5;28;01mraise\u001b[39;00m \u001b[38;5;167;01mOSError\u001b[39;00m(\u001b[38;5;124m'\u001b[39m\u001b[38;5;124msource code not available\u001b[39m\u001b[38;5;124m'\u001b[39m)\n\u001b[1;32m    786\u001b[0m     \u001b[38;5;28;01mraise\u001b[39;00m \u001b[38;5;167;01mTypeError\u001b[39;00m(\u001b[38;5;124m'\u001b[39m\u001b[38;5;132;01m{!r}\u001b[39;00m\u001b[38;5;124m is a built-in class\u001b[39m\u001b[38;5;124m'\u001b[39m\u001b[38;5;241m.\u001b[39mformat(\u001b[38;5;28mobject\u001b[39m))\n\u001b[1;32m    787\u001b[0m \u001b[38;5;28;01mif\u001b[39;00m ismethod(\u001b[38;5;28mobject\u001b[39m):\n",
      "\u001b[0;31mOSError\u001b[0m: source code not available"
     ]
    }
   ],
   "source": [
    "# | export\n",
    "\n",
    "\n",
    "if __name__ == \"__main__\":\n",
    "    main()"
   ]
  },
  {
   "cell_type": "code",
   "execution_count": null,
   "metadata": {},
   "outputs": [],
   "source": [
    "# | hide\n",
    "\n",
    "# To Do:\n",
    "# * User interface"
   ]
  },
  {
   "cell_type": "code",
   "execution_count": null,
   "metadata": {},
   "outputs": [],
   "source": [
    "# | hide\n",
    "import nbdev\n",
    "\n",
    "nbdev.nbdev_export()"
   ]
  }
 ],
 "metadata": {
  "kernelspec": {
   "display_name": "Python 3 (ipykernel)",
   "language": "python",
   "name": "python3"
  }
 },
 "nbformat": 4,
 "nbformat_minor": 4
}
