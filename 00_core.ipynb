{
 "cells": [
  {
   "cell_type": "markdown",
   "metadata": {},
   "source": [
    "# core\n",
    "\n",
    "> Main codebase for fetching and saving RSS feeds"
   ]
  },
  {
   "cell_type": "code",
   "execution_count": null,
   "metadata": {},
   "outputs": [],
   "source": [
    "# | default_exp core"
   ]
  },
  {
   "cell_type": "code",
   "execution_count": null,
   "metadata": {},
   "outputs": [],
   "source": [
    "# | hide\n",
    "from nbdev.showdoc import *"
   ]
  },
  {
   "cell_type": "code",
   "execution_count": null,
   "metadata": {},
   "outputs": [],
   "source": [
    "# | export\n",
    "\n",
    "from typing import *\n",
    "\n",
    "import reader\n",
    "from bs4 import BeautifulSoup\n",
    "from rich import print\n",
    "from rich.console import Console\n",
    "from rich.panel import Panel\n",
    "from rich.text import Text\n",
    "\n",
    "console = Console()\n",
    "import logging\n",
    "\n",
    "logger = logging.getLogger(__name__)\n",
    "\n",
    "\n",
    "def strip_html(s: str):\n",
    "    s = BeautifulSoup(s, features='html')\n",
    "    return s.text"
   ]
  },
  {
   "cell_type": "code",
   "execution_count": null,
   "metadata": {},
   "outputs": [],
   "source": [
    "# | export\n",
    "\n",
    "\n",
    "class Feed:\n",
    "    \"\"\"RSS feed class\"\"\"\n",
    "\n",
    "    def __init__(self, url: str, name: str = None, tags: List[str] = []):\n",
    "        self.url = url\n",
    "        self.name = name\n",
    "        self.tags = tags\n",
    "\n",
    "    def add_tag(self, tag: str):\n",
    "        if tag not in self.tags:\n",
    "            self.tags.append(tag)\n",
    "\n",
    "    def remove_tag(self, tag: str):\n",
    "        if tag in self.tags:\n",
    "            self.tags.remove(tag)"
   ]
  },
  {
   "cell_type": "code",
   "execution_count": null,
   "metadata": {},
   "outputs": [
    {
     "data": {
      "text/plain": [
       "'testtest2'"
      ]
     },
     "execution_count": null,
     "metadata": {},
     "output_type": "execute_result"
    }
   ],
   "source": [
    "(\"test\" \"test2\")"
   ]
  },
  {
   "cell_type": "code",
   "execution_count": null,
   "metadata": {},
   "outputs": [],
   "source": [
    "# | export\n",
    "\n",
    "import rich\n",
    "\n",
    "\n",
    "class PyNewsReader:\n",
    "    def __init__(self, dbpath=None, feeds=List[Feed]):\n",
    "        if dbpath is None:\n",
    "            logger.info(\"Database path not specified, using ./db.sqlite\")\n",
    "            dbpath = \"db.sqlite\"\n",
    "\n",
    "        self._reader = reader.make_reader(\n",
    "            \"db.sqlite\", plugins=[\"reader.enclosure_dedupe\", \"reader.entry_dedupe\"]\n",
    "        )\n",
    "\n",
    "        self._reader.enable_search()\n",
    "        self._feed_names = {}\n",
    "\n",
    "    def _print_entries(\n",
    "        self, entries: List[reader.Entry], mark_as_read: bool = True, limit: int = 10\n",
    "    ):\n",
    "        \"\"\"\n",
    "        Pretty print entries - supports reader.Reader.get_entries arguments\n",
    "        \"\"\"\n",
    "        displayed_links = set()\n",
    "        for e in entries:\n",
    "            if e.link in displayed_links:\n",
    "                # Don't display duplicates\n",
    "                self._reader.mark_entry_as_read(e)\n",
    "            else:\n",
    "                displayed_links.add(e.link)\n",
    "                if e.published:\n",
    "                    published_date = \"Date: \" + e.published.isoformat()[:10]\n",
    "                else:\n",
    "                    published_date = \"Date: Unknown\"\n",
    "                if mark_as_read:\n",
    "                    self._reader.mark_entry_as_read(e)\n",
    "\n",
    "                feed_title = self._get_feed_title(e.original_feed_url)\n",
    "                panel_body = f\"Link: [link={e.link}]{e.link}[/link]\"+\"\\n\"\n",
    "                panel_body += str(published_date) + \"\\n\"\n",
    "                panel_body += \"Source: \"+feed_title + \"\\n\\n\"\n",
    "                panel_body += strip_html(e.summary) + \"\\n\"\n",
    "\n",
    "                console.print(\n",
    "                    Panel(\n",
    "                        panel_body,\n",
    "                        title=f\"[link={e.link}]{e.title}[/link]\",\n",
    "                    )\n",
    "                )\n",
    "                console.print()\n",
    "            if len(displayed_links) == limit:\n",
    "                return\n",
    "\n",
    "    def _search_to_entry(self, search_result):\n",
    "        for i in self._reader.get_entries():\n",
    "            if i.id == search_result.id and i.feed_url == search_result.feed_url:\n",
    "                return i\n",
    "\n",
    "    def _get_feed_title(self, url: str):\n",
    "        \"\"\"Get display title for pynewsreader feed\n",
    "\n",
    "        Args:\n",
    "            url (str): URL of pynewsreader feed\n",
    "\n",
    "        Returns:\n",
    "            str: Display title\n",
    "        \"\"\"\n",
    "        if url in self._feed_names:\n",
    "            return self._feed_names[url]\n",
    "        elif self._reader.get_feed(url).title:\n",
    "            return self._reader.get_feed(url).title\n",
    "        else:\n",
    "            return self._reader.get_feed(url).url\n",
    "\n",
    "    def update(self):\n",
    "        \"\"\"Update feeds and search\"\"\"\n",
    "        self._reader.update_feeds()\n",
    "        self._reader.update_search()\n",
    "\n",
    "    def _get_entries(\n",
    "        self, important: bool = None, read: Union[None, bool] = None, limit: int = 10\n",
    "    ):\n",
    "        \"\"\"Get entries in reader.Entry format\n",
    "\n",
    "        Args:\n",
    "            read (reader.Entry.read, optional): Filter on `read` status (None, True, False). Defaults to None.\n",
    "            limit (int, optional): Number of entries to return. Defaults to 10.\n",
    "\n",
    "        Returns:\n",
    "            List[reader.Entry]: List of entries\n",
    "        \"\"\"\n",
    "        return self._reader.get_entries(read=read, limit=limit, important=important)\n",
    "\n",
    "    def add_feed(self, feed: Feed):\n",
    "        \"\"\"Add feed to pynewsreader\n",
    "\n",
    "        Args:\n",
    "            feed (Feed): pynewsreader Feed to add\n",
    "        \"\"\"\n",
    "        self._reader.add_feed(feed.url, exist_ok=True)\n",
    "        if feed.name:\n",
    "            self._feed_names[feed.url] = feed.name\n",
    "\n",
    "    def remove_feed(self, feed: Feed):\n",
    "        \"\"\"Remove feed from pynewsreader instance\n",
    "\n",
    "        Args:\n",
    "            feed (Feed): Feed to remove\n",
    "        \"\"\"\n",
    "\n",
    "        self._reader.delete_feed(feed.url)\n",
    "\n",
    "    def feeds(self):\n",
    "        \"\"\"List pynewsreader feeds\n",
    "\n",
    "        Returns:\n",
    "            List[str]: List of names of current pynewsreader feeds\n",
    "        \"\"\"\n",
    "        return [self._get_feed_title(i.url) for i in self._reader.get_feeds()]\n",
    "\n",
    "    def show(\n",
    "        self,\n",
    "        limit: int = 5,\n",
    "        read: bool = None,\n",
    "        important: bool = None,\n",
    "        mark_as_read: bool = False,\n",
    "    ):\n",
    "        \"\"\"Pretty print entries\n",
    "\n",
    "        Args:\n",
    "            limit (int, optional): Number of entries to show. Defaults to 5.\n",
    "            read (bool, optional): Show read entries (True), unread entries (False), or all entries (None). Defaults to None.\n",
    "            mark_as_read (bool, optional): Mark displayed entries as read. Defaults to False.\n",
    "        \"\"\"\n",
    "        self._print_entries(\n",
    "            self._get_entries(read=read, important=important, limit=limit * 2),\n",
    "            limit=limit,\n",
    "            mark_as_read=mark_as_read,\n",
    "        )\n",
    "\n",
    "    def search(self, query: str, mark_as_read: bool = True, limit: int = 10):\n",
    "        \"\"\"Search entries and pretty print results\n",
    "\n",
    "        Args:\n",
    "            query (str): Search query\n",
    "            mark_as_read (bool, optional): Mark results as read? Defaults to True.\n",
    "        \"\"\"\n",
    "        self._print_entries(\n",
    "            [self._search_to_entry(i) for i in self._reader.search_entries(query)],\n",
    "            mark_as_read=mark_as_read,\n",
    "            limit=limit,\n",
    "        )\n",
    "\n",
    "    def mark_important(self, entry: reader.Entry):\n",
    "        \"\"\"Mark entry as important\n",
    "\n",
    "        Args:\n",
    "            entry (reader.Entry): Entry to mark as important\n",
    "        \"\"\"\n",
    "        reader.Reader.mark_entry_as_important(entry)\n",
    "\n",
    "    def mark_unimportant(self, entry: reader.Entry):\n",
    "        \"\"\"Mark entry as important\n",
    "\n",
    "        Args:\n",
    "            entry (reader.Entry): Entry to mark as important\n",
    "        \"\"\"\n",
    "        reader.Reader.mark_entry_as_unimportant(entry)\n",
    "\n",
    "    def tag(self, entry: reader.Entry, tag_key: str, tag_value: Dict = None):\n",
    "        \"\"\"Tag an entry\n",
    "\n",
    "        Args:\n",
    "            entry (reader.Entry): Entry to tag\n",
    "            tag_key (str): Key of tag\n",
    "            tag_value (Dict, optional): Value of tag. Defaults to None.\n",
    "        \"\"\"\n",
    "        reader.Reader.set_tag(entry, tag_key, tag_value)"
   ]
  },
  {
   "cell_type": "code",
   "execution_count": null,
   "metadata": {},
   "outputs": [],
   "source": [
    "r = PyNewsReader()"
   ]
  },
  {
   "cell_type": "markdown",
   "metadata": {},
   "source": [
    "## Add Feeds"
   ]
  },
  {
   "cell_type": "code",
   "execution_count": null,
   "metadata": {},
   "outputs": [],
   "source": [
    "# With names\n",
    "for i in [\n",
    "    Feed(url=\"https://ricochet.media/en/feed\", name=\"Richochet Media\"),\n",
    "    Feed(url=\"https://thetyee.ca/rss2.xml\", name=\"The Tyee\"),\n",
    "    Feed(\n",
    "        url=\"https://www.thestar.com/content/thestar/feed.RSSManagerServlet.articles.topstories.rss\",\n",
    "        name=\"Toronto Star | Top Stories\",\n",
    "    ),\n",
    "    Feed(\n",
    "        url=\"https://www.thestar.com/content/thestar/feed.RSSManagerServlet.articles.news.investigations.rss\",\n",
    "        name=\"Toronto Star | Investigations\",\n",
    "    ),\n",
    "    Feed(\n",
    "        url=\"https://www.thestar.com/content/thestar/feed.RSSManagerServlet.articles.opinion.editorials.rss\",\n",
    "        name=\"Toronto Star | Editorials\",\n",
    "    ),\n",
    "    Feed(url=\"https://www.macleans.ca/feed/\", name=\"Macleans\"),\n",
    "]:\n",
    "    r.add_feed(i)\n",
    "\n",
    "# Use the default name from the feed\n",
    "for i in [\n",
    "    \"https://rss.cbc.ca/lineup/topstories.xml\",\n",
    "    \"https://rss.cbc.ca/lineup/world.xml\",\n",
    "    \"https://rss.cbc.ca/lineup/canada.xml\",\n",
    "    \"https://rss.cbc.ca/lineup/business.xml\",\n",
    "    \"https://rss.cbc.ca/lineup/technology.xml\",\n",
    "    \"https://www.cbc.ca/cmlink/rss-canada-ottawa\",\n",
    "    \"https://thenarwhal.ca/feed/\",\n",
    "]:\n",
    "    r.add_feed(Feed(i))"
   ]
  },
  {
   "cell_type": "markdown",
   "metadata": {},
   "source": [
    "## List Feeds"
   ]
  },
  {
   "cell_type": "code",
   "execution_count": null,
   "metadata": {},
   "outputs": [
    {
     "data": {
      "text/plain": [
       "['Richochet Media',\n",
       " 'CBC | Business News',\n",
       " 'CBC | Canada News',\n",
       " 'CBC | Ottawa News',\n",
       " 'CBC | Technology News',\n",
       " 'CBC | Top Stories News',\n",
       " 'CBC | World News',\n",
       " 'Macleans',\n",
       " 'The Narwhal',\n",
       " 'The Tyee',\n",
       " 'Toronto Star | Investigations',\n",
       " 'Toronto Star | Editorials',\n",
       " 'Toronto Star | Top Stories']"
      ]
     },
     "execution_count": null,
     "metadata": {},
     "output_type": "execute_result"
    }
   ],
   "source": [
    "r.feeds()"
   ]
  },
  {
   "cell_type": "markdown",
   "metadata": {},
   "source": [
    "## Update Feeds"
   ]
  },
  {
   "cell_type": "code",
   "execution_count": null,
   "metadata": {},
   "outputs": [],
   "source": [
    "# r.update()"
   ]
  },
  {
   "cell_type": "markdown",
   "metadata": {},
   "source": [
    "## Display Entries\n",
    "\n",
    "`read` = None shows all entries\n",
    "\n",
    "`read` = False shows only unread entries\n",
    "\n",
    "`read` = True shows only read entries"
   ]
  },
  {
   "cell_type": "code",
   "execution_count": null,
   "metadata": {},
   "outputs": [
    {
     "data": {
      "text/html": [
       "<pre style=\"white-space:pre;overflow-x:auto;line-height:normal;font-family:Menlo,'DejaVu Sans Mono',consolas,'Courier New',monospace\">╭─────── <a href=\"https://www.cbc.ca/radio/whitecoat/group-a-strep-infections-1.6687216?cmp=rss\" target=\"_blank\">2 Montreal children have died from group A strep complications. Here's what parents need to know</a> ────────╮\n",
       "│ Link: <a href=\"https://www.cbc.ca/radio/whitecoat/group-a-strep-infections-1.6687216?cmp=rss\" target=\"_blank\">https://www.cbc.ca/radio/whitecoat/group-a-strep-infections-1.6687216?cmp=rss</a>                             │\n",
       "│ Date: 2022-12-16                                                                                                │\n",
       "│ Source: CBC | Top Stories News                                                                                  │\n",
       "│                                                                                                                 │\n",
       "│                                                                                                                 │\n",
       "│                                                                                                                 │\n",
       "╰─────────────────────────────────────────────────────────────────────────────────────────────────────────────────╯\n",
       "</pre>\n"
      ],
      "text/plain": [
       "╭─────── \u001b]8;id=845351;https://www.cbc.ca/radio/whitecoat/group-a-strep-infections-1.6687216?cmp=rss\u001b\\2 Montreal children have died from group A strep complications. Here's what parents need to know\u001b]8;;\u001b\\ ────────╮\n",
       "│ Link: \u001b]8;id=590135;https://www.cbc.ca/radio/whitecoat/group-a-strep-infections-1.6687216?cmp=rss\u001b\\https://www.cbc.ca/radio/whitecoat/group-a-strep-infections-1.6687216?cmp=rss\u001b]8;;\u001b\\                             │\n",
       "│ Date: 2022-12-16                                                                                                │\n",
       "│ Source: CBC | Top Stories News                                                                                  │\n",
       "│                                                                                                                 │\n",
       "│                                                                                                                 │\n",
       "│                                                                                                                 │\n",
       "╰─────────────────────────────────────────────────────────────────────────────────────────────────────────────────╯\n"
      ]
     },
     "metadata": {},
     "output_type": "display_data"
    },
    {
     "data": {
      "text/html": [
       "<pre style=\"white-space:pre;overflow-x:auto;line-height:normal;font-family:Menlo,'DejaVu Sans Mono',consolas,'Courier New',monospace\">\n",
       "</pre>\n"
      ],
      "text/plain": [
       "\n"
      ]
     },
     "metadata": {},
     "output_type": "display_data"
    },
    {
     "data": {
      "text/html": [
       "<pre style=\"white-space:pre;overflow-x:auto;line-height:normal;font-family:Menlo,'DejaVu Sans Mono',consolas,'Courier New',monospace\">╭───────────────── <a href=\"https://www.thestar.com/news/gta/2022/12/16/jury-convicts-brampton-man-who-murdered-wife-then-fled-to-mexico-for-13-years.html\" target=\"_blank\">Jury convicts Brampton man who murdered wife then fled to Mexico for 13 years</a> ─────────────────╮\n",
       "│ Link:                                                                                                           │\n",
       "│ <a href=\"https://www.thestar.com/news/gta/2022/12/16/jury-convicts-brampton-man-who-murdered-wife-then-fled-to-mexico-for-13-years.html\" target=\"_blank\">https://www.thestar.com/news/gta/2022/12/16/jury-convicts-brampton-man-who-murdered-wife-then-fled-to-mexico-fo</a> │\n",
       "│ <a href=\"https://www.thestar.com/news/gta/2022/12/16/jury-convicts-brampton-man-who-murdered-wife-then-fled-to-mexico-for-13-years.html\" target=\"_blank\">r-13-years.html</a>                                                                                                 │\n",
       "│ Date: 2022-12-16                                                                                                │\n",
       "│ Source: Toronto Star | Top Stories                                                                              │\n",
       "│                                                                                                                 │\n",
       "│ The jury took just over two hours to reach its verdict, rejecting Morales’ testimony he had been provoked into  │\n",
       "│ strangling his wife Malena during a heated argument.                                                            │\n",
       "│                                                                                                                 │\n",
       "╰─────────────────────────────────────────────────────────────────────────────────────────────────────────────────╯\n",
       "</pre>\n"
      ],
      "text/plain": [
       "╭───────────────── \u001b]8;id=154412;https://www.thestar.com/news/gta/2022/12/16/jury-convicts-brampton-man-who-murdered-wife-then-fled-to-mexico-for-13-years.html\u001b\\Jury convicts Brampton man who murdered wife then fled to Mexico for 13 years\u001b]8;;\u001b\\ ─────────────────╮\n",
       "│ Link:                                                                                                           │\n",
       "│ \u001b]8;id=833234;https://www.thestar.com/news/gta/2022/12/16/jury-convicts-brampton-man-who-murdered-wife-then-fled-to-mexico-for-13-years.html\u001b\\https://www.thestar.com/news/gta/2022/12/16/jury-convicts-brampton-man-who-murdered-wife-then-fled-to-mexico-fo\u001b]8;;\u001b\\ │\n",
       "│ \u001b]8;id=833234;https://www.thestar.com/news/gta/2022/12/16/jury-convicts-brampton-man-who-murdered-wife-then-fled-to-mexico-for-13-years.html\u001b\\r-13-years.html\u001b]8;;\u001b\\                                                                                                 │\n",
       "│ Date: 2022-12-16                                                                                                │\n",
       "│ Source: Toronto Star | Top Stories                                                                              │\n",
       "│                                                                                                                 │\n",
       "│ The jury took just over two hours to reach its verdict, rejecting Morales’ testimony he had been provoked into  │\n",
       "│ strangling his wife Malena during a heated argument.                                                            │\n",
       "│                                                                                                                 │\n",
       "╰─────────────────────────────────────────────────────────────────────────────────────────────────────────────────╯\n"
      ]
     },
     "metadata": {},
     "output_type": "display_data"
    },
    {
     "data": {
      "text/html": [
       "<pre style=\"white-space:pre;overflow-x:auto;line-height:normal;font-family:Menlo,'DejaVu Sans Mono',consolas,'Courier New',monospace\">\n",
       "</pre>\n"
      ],
      "text/plain": [
       "\n"
      ]
     },
     "metadata": {},
     "output_type": "display_data"
    },
    {
     "data": {
      "text/html": [
       "<pre style=\"white-space:pre;overflow-x:auto;line-height:normal;font-family:Menlo,'DejaVu Sans Mono',consolas,'Courier New',monospace\">╭──────────────── <a href=\"https://www.cbc.ca/news/canada/saskatoon/first-nations-sask-first-act-legal-action-1.6689149?cmp=rss\" target=\"_blank\">First Nations leaders pan Sask. First Act, threaten legal action and blockades</a> ─────────────────╮\n",
       "│ Link: <a href=\"https://www.cbc.ca/news/canada/saskatoon/first-nations-sask-first-act-legal-action-1.6689149?cmp=rss\" target=\"_blank\">https://www.cbc.ca/news/canada/saskatoon/first-nations-sask-first-act-legal-action-1.6689149?cmp=rss</a>      │\n",
       "│ Date: 2022-12-16                                                                                                │\n",
       "│ Source: CBC | Top Stories News                                                                                  │\n",
       "│                                                                                                                 │\n",
       "│  First Nations leaders have a message for Saskatchewan Premier Scott Moe: kill the controversial Saskatchewan   │\n",
       "│ First Act or face blockades, legal action and other consequences.                                               │\n",
       "│                                                                                                                 │\n",
       "╰─────────────────────────────────────────────────────────────────────────────────────────────────────────────────╯\n",
       "</pre>\n"
      ],
      "text/plain": [
       "╭──────────────── \u001b]8;id=967639;https://www.cbc.ca/news/canada/saskatoon/first-nations-sask-first-act-legal-action-1.6689149?cmp=rss\u001b\\First Nations leaders pan Sask. First Act, threaten legal action and blockades\u001b]8;;\u001b\\ ─────────────────╮\n",
       "│ Link: \u001b]8;id=152324;https://www.cbc.ca/news/canada/saskatoon/first-nations-sask-first-act-legal-action-1.6689149?cmp=rss\u001b\\https://www.cbc.ca/news/canada/saskatoon/first-nations-sask-first-act-legal-action-1.6689149?cmp=rss\u001b]8;;\u001b\\      │\n",
       "│ Date: 2022-12-16                                                                                                │\n",
       "│ Source: CBC | Top Stories News                                                                                  │\n",
       "│                                                                                                                 │\n",
       "│  First Nations leaders have a message for Saskatchewan Premier Scott Moe: kill the controversial Saskatchewan   │\n",
       "│ First Act or face blockades, legal action and other consequences.                                               │\n",
       "│                                                                                                                 │\n",
       "╰─────────────────────────────────────────────────────────────────────────────────────────────────────────────────╯\n"
      ]
     },
     "metadata": {},
     "output_type": "display_data"
    },
    {
     "data": {
      "text/html": [
       "<pre style=\"white-space:pre;overflow-x:auto;line-height:normal;font-family:Menlo,'DejaVu Sans Mono',consolas,'Courier New',monospace\">\n",
       "</pre>\n"
      ],
      "text/plain": [
       "\n"
      ]
     },
     "metadata": {},
     "output_type": "display_data"
    },
    {
     "data": {
      "text/html": [
       "<pre style=\"white-space:pre;overflow-x:auto;line-height:normal;font-family:Menlo,'DejaVu Sans Mono',consolas,'Courier New',monospace\">╭─────────────── <a href=\"https://www.cbc.ca/news/canada/hamilton/peter-khill-trial-murder-jon-styres-guilty-verdict-1.6689316?cmp=rss\" target=\"_blank\">Peter Khill guilty of manslaughter, not guilty of murder in killing of Jon Styres</a> ───────────────╮\n",
       "│ Link:                                                                                                           │\n",
       "│ <a href=\"https://www.cbc.ca/news/canada/hamilton/peter-khill-trial-murder-jon-styres-guilty-verdict-1.6689316?cmp=rss\" target=\"_blank\">https://www.cbc.ca/news/canada/hamilton/peter-khill-trial-murder-jon-styres-guilty-verdict-1.6689316?cmp=rss</a>    │\n",
       "│ Date: 2022-12-16                                                                                                │\n",
       "│ Source: CBC | Top Stories News                                                                                  │\n",
       "│                                                                                                                 │\n",
       "│  A Hamilton jury has found Peter Khill not guilty of second-degree murder, but guilty of manslaughter after     │\n",
       "│ shooting and killing Jon Styres in 2016.                                                                        │\n",
       "│                                                                                                                 │\n",
       "╰─────────────────────────────────────────────────────────────────────────────────────────────────────────────────╯\n",
       "</pre>\n"
      ],
      "text/plain": [
       "╭─────────────── \u001b]8;id=878402;https://www.cbc.ca/news/canada/hamilton/peter-khill-trial-murder-jon-styres-guilty-verdict-1.6689316?cmp=rss\u001b\\Peter Khill guilty of manslaughter, not guilty of murder in killing of Jon Styres\u001b]8;;\u001b\\ ───────────────╮\n",
       "│ Link:                                                                                                           │\n",
       "│ \u001b]8;id=380625;https://www.cbc.ca/news/canada/hamilton/peter-khill-trial-murder-jon-styres-guilty-verdict-1.6689316?cmp=rss\u001b\\https://www.cbc.ca/news/canada/hamilton/peter-khill-trial-murder-jon-styres-guilty-verdict-1.6689316?cmp=rss\u001b]8;;\u001b\\    │\n",
       "│ Date: 2022-12-16                                                                                                │\n",
       "│ Source: CBC | Top Stories News                                                                                  │\n",
       "│                                                                                                                 │\n",
       "│  A Hamilton jury has found Peter Khill not guilty of second-degree murder, but guilty of manslaughter after     │\n",
       "│ shooting and killing Jon Styres in 2016.                                                                        │\n",
       "│                                                                                                                 │\n",
       "╰─────────────────────────────────────────────────────────────────────────────────────────────────────────────────╯\n"
      ]
     },
     "metadata": {},
     "output_type": "display_data"
    },
    {
     "data": {
      "text/html": [
       "<pre style=\"white-space:pre;overflow-x:auto;line-height:normal;font-family:Menlo,'DejaVu Sans Mono',consolas,'Courier New',monospace\">\n",
       "</pre>\n"
      ],
      "text/plain": [
       "\n"
      ]
     },
     "metadata": {},
     "output_type": "display_data"
    },
    {
     "data": {
      "text/html": [
       "<pre style=\"white-space:pre;overflow-x:auto;line-height:normal;font-family:Menlo,'DejaVu Sans Mono',consolas,'Courier New',monospace\">╭──────────────── <a href=\"https://www.thestar.com/news/canada/2022/12/16/two-montreal-kids-die-from-strep-a-as-infections-on-rise-among-children.html\" target=\"_blank\">At least 3 kids die from Strep A as infections on rise among children in Canada</a> ────────────────╮\n",
       "│ Link:                                                                                                           │\n",
       "│ <a href=\"https://www.thestar.com/news/canada/2022/12/16/two-montreal-kids-die-from-strep-a-as-infections-on-rise-among-children.html\" target=\"_blank\">https://www.thestar.com/news/canada/2022/12/16/two-montreal-kids-die-from-strep-a-as-infections-on-rise-among-c</a> │\n",
       "│ <a href=\"https://www.thestar.com/news/canada/2022/12/16/two-montreal-kids-die-from-strep-a-as-infections-on-rise-among-children.html\" target=\"_blank\">hildren.html</a>                                                                                                    │\n",
       "│ Date: 2022-12-16                                                                                                │\n",
       "│ Source: Toronto Star | Top Stories                                                                              │\n",
       "│                                                                                                                 │\n",
       "│ On Friday, the WHO published an update on increased incidence of scarlet fever, invasive group A streptococcal  │\n",
       "│ virus infections in several countries.                                                                          │\n",
       "│                                                                                                                 │\n",
       "╰─────────────────────────────────────────────────────────────────────────────────────────────────────────────────╯\n",
       "</pre>\n"
      ],
      "text/plain": [
       "╭──────────────── \u001b]8;id=662830;https://www.thestar.com/news/canada/2022/12/16/two-montreal-kids-die-from-strep-a-as-infections-on-rise-among-children.html\u001b\\At least 3 kids die from Strep A as infections on rise among children in Canada\u001b]8;;\u001b\\ ────────────────╮\n",
       "│ Link:                                                                                                           │\n",
       "│ \u001b]8;id=533051;https://www.thestar.com/news/canada/2022/12/16/two-montreal-kids-die-from-strep-a-as-infections-on-rise-among-children.html\u001b\\https://www.thestar.com/news/canada/2022/12/16/two-montreal-kids-die-from-strep-a-as-infections-on-rise-among-c\u001b]8;;\u001b\\ │\n",
       "│ \u001b]8;id=533051;https://www.thestar.com/news/canada/2022/12/16/two-montreal-kids-die-from-strep-a-as-infections-on-rise-among-children.html\u001b\\hildren.html\u001b]8;;\u001b\\                                                                                                    │\n",
       "│ Date: 2022-12-16                                                                                                │\n",
       "│ Source: Toronto Star | Top Stories                                                                              │\n",
       "│                                                                                                                 │\n",
       "│ On Friday, the WHO published an update on increased incidence of scarlet fever, invasive group A streptococcal  │\n",
       "│ virus infections in several countries.                                                                          │\n",
       "│                                                                                                                 │\n",
       "╰─────────────────────────────────────────────────────────────────────────────────────────────────────────────────╯\n"
      ]
     },
     "metadata": {},
     "output_type": "display_data"
    },
    {
     "data": {
      "text/html": [
       "<pre style=\"white-space:pre;overflow-x:auto;line-height:normal;font-family:Menlo,'DejaVu Sans Mono',consolas,'Courier New',monospace\">\n",
       "</pre>\n"
      ],
      "text/plain": [
       "\n"
      ]
     },
     "metadata": {},
     "output_type": "display_data"
    }
   ],
   "source": [
    "r.show(read=False, limit=5, mark_as_read=True)"
   ]
  },
  {
   "cell_type": "markdown",
   "metadata": {},
   "source": [
    "## Search Entries"
   ]
  },
  {
   "cell_type": "code",
   "execution_count": null,
   "metadata": {},
   "outputs": [
    {
     "data": {
      "text/html": [
       "<pre style=\"white-space:pre;overflow-x:auto;line-height:normal;font-family:Menlo,'DejaVu Sans Mono',consolas,'Courier New',monospace\">╭─────────────────── <a href=\"https://www.cbc.ca/radio/quirks/why-burning-plasma-could-be-the-next-milestone-in-nuclear-fusion-research-1.6687322?cmp=rss\" target=\"_blank\">Why burning plasma could be the next milestone in nuclear fusion research</a> ───────────────────╮\n",
       "│ Link:                                                                                                           │\n",
       "│ <a href=\"https://www.cbc.ca/radio/quirks/why-burning-plasma-could-be-the-next-milestone-in-nuclear-fusion-research-1.6687322?cmp=rss\" target=\"_blank\">https://www.cbc.ca/radio/quirks/why-burning-plasma-could-be-the-next-milestone-in-nuclear-fusion-research-1.668</a> │\n",
       "│ <a href=\"https://www.cbc.ca/radio/quirks/why-burning-plasma-could-be-the-next-milestone-in-nuclear-fusion-research-1.6687322?cmp=rss\" target=\"_blank\">7322?cmp=rss</a>                                                                                                    │\n",
       "│ Date: 2022-12-16                                                                                                │\n",
       "│ Source: CBC | Technology News                                                                                   │\n",
       "│                                                                                                                 │\n",
       "│  Bob McDonald's blog: A laser fusion experiment in the U.S. produced more energy out than went into driving it, │\n",
       "│ which is an important step. But practical fusion power will likely come from a different technology and is      │\n",
       "│ still many years away.                                                                                          │\n",
       "│                                                                                                                 │\n",
       "╰─────────────────────────────────────────────────────────────────────────────────────────────────────────────────╯\n",
       "</pre>\n"
      ],
      "text/plain": [
       "╭─────────────────── \u001b]8;id=865930;https://www.cbc.ca/radio/quirks/why-burning-plasma-could-be-the-next-milestone-in-nuclear-fusion-research-1.6687322?cmp=rss\u001b\\Why burning plasma could be the next milestone in nuclear fusion research\u001b]8;;\u001b\\ ───────────────────╮\n",
       "│ Link:                                                                                                           │\n",
       "│ \u001b]8;id=945801;https://www.cbc.ca/radio/quirks/why-burning-plasma-could-be-the-next-milestone-in-nuclear-fusion-research-1.6687322?cmp=rss\u001b\\https://www.cbc.ca/radio/quirks/why-burning-plasma-could-be-the-next-milestone-in-nuclear-fusion-research-1.668\u001b]8;;\u001b\\ │\n",
       "│ \u001b]8;id=945801;https://www.cbc.ca/radio/quirks/why-burning-plasma-could-be-the-next-milestone-in-nuclear-fusion-research-1.6687322?cmp=rss\u001b\\7322?cmp=rss\u001b]8;;\u001b\\                                                                                                    │\n",
       "│ Date: 2022-12-16                                                                                                │\n",
       "│ Source: CBC | Technology News                                                                                   │\n",
       "│                                                                                                                 │\n",
       "│  Bob McDonald's blog: A laser fusion experiment in the U.S. produced more energy out than went into driving it, │\n",
       "│ which is an important step. But practical fusion power will likely come from a different technology and is      │\n",
       "│ still many years away.                                                                                          │\n",
       "│                                                                                                                 │\n",
       "╰─────────────────────────────────────────────────────────────────────────────────────────────────────────────────╯\n"
      ]
     },
     "metadata": {},
     "output_type": "display_data"
    },
    {
     "data": {
      "text/html": [
       "<pre style=\"white-space:pre;overflow-x:auto;line-height:normal;font-family:Menlo,'DejaVu Sans Mono',consolas,'Courier New',monospace\">\n",
       "</pre>\n"
      ],
      "text/plain": [
       "\n"
      ]
     },
     "metadata": {},
     "output_type": "display_data"
    },
    {
     "data": {
      "text/html": [
       "<pre style=\"white-space:pre;overflow-x:auto;line-height:normal;font-family:Menlo,'DejaVu Sans Mono',consolas,'Courier New',monospace\">╭─────────────────────────── <a href=\"https://www.cbc.ca/news/science/us-fusion-announcement-1.6682497?cmp=rss\" target=\"_blank\">Fusion energy 'breakthrough' revealed by U.S. scientists</a> ────────────────────────────╮\n",
       "│ Link: <a href=\"https://www.cbc.ca/news/science/us-fusion-announcement-1.6682497?cmp=rss\" target=\"_blank\">https://www.cbc.ca/news/science/us-fusion-announcement-1.6682497?cmp=rss</a>                                  │\n",
       "│ Date: 2022-12-13                                                                                                │\n",
       "│ Source: CBC | Technology News                                                                                   │\n",
       "│                                                                                                                 │\n",
       "│  U.S. Energy Secretary Jennifer Granholm announced a \"major scientific breakthrough\" on Tuesday in the          │\n",
       "│ decades-long quest to harness fusion, the energy that powers the sun and stars.                                 │\n",
       "│                                                                                                                 │\n",
       "╰─────────────────────────────────────────────────────────────────────────────────────────────────────────────────╯\n",
       "</pre>\n"
      ],
      "text/plain": [
       "╭─────────────────────────── \u001b]8;id=299828;https://www.cbc.ca/news/science/us-fusion-announcement-1.6682497?cmp=rss\u001b\\Fusion energy 'breakthrough' revealed by U.S. scientists\u001b]8;;\u001b\\ ────────────────────────────╮\n",
       "│ Link: \u001b]8;id=636647;https://www.cbc.ca/news/science/us-fusion-announcement-1.6682497?cmp=rss\u001b\\https://www.cbc.ca/news/science/us-fusion-announcement-1.6682497?cmp=rss\u001b]8;;\u001b\\                                  │\n",
       "│ Date: 2022-12-13                                                                                                │\n",
       "│ Source: CBC | Technology News                                                                                   │\n",
       "│                                                                                                                 │\n",
       "│  U.S. Energy Secretary Jennifer Granholm announced a \"major scientific breakthrough\" on Tuesday in the          │\n",
       "│ decades-long quest to harness fusion, the energy that powers the sun and stars.                                 │\n",
       "│                                                                                                                 │\n",
       "╰─────────────────────────────────────────────────────────────────────────────────────────────────────────────────╯\n"
      ]
     },
     "metadata": {},
     "output_type": "display_data"
    },
    {
     "data": {
      "text/html": [
       "<pre style=\"white-space:pre;overflow-x:auto;line-height:normal;font-family:Menlo,'DejaVu Sans Mono',consolas,'Courier New',monospace\">\n",
       "</pre>\n"
      ],
      "text/plain": [
       "\n"
      ]
     },
     "metadata": {},
     "output_type": "display_data"
    },
    {
     "data": {
      "text/html": [
       "<pre style=\"white-space:pre;overflow-x:auto;line-height:normal;font-family:Menlo,'DejaVu Sans Mono',consolas,'Courier New',monospace\">╭───────────────────────────── <a href=\"https://www.cbc.ca/news/science/nuclear-fusion-explainer-1.6684298?cmp=rss\" target=\"_blank\">What is nuclear fusion and why is it such a big deal?</a> ─────────────────────────────╮\n",
       "│ Link: <a href=\"https://www.cbc.ca/news/science/nuclear-fusion-explainer-1.6684298?cmp=rss\" target=\"_blank\">https://www.cbc.ca/news/science/nuclear-fusion-explainer-1.6684298?cmp=rss</a>                                │\n",
       "│ Date: 2022-12-13                                                                                                │\n",
       "│ Source: CBC | Technology News                                                                                   │\n",
       "│                                                                                                                 │\n",
       "│  The U.S. Department of Energy on Tuesday announced a breakthrough in nuclear fusion, a way of producing clean  │\n",
       "│ energy that scientists have been working on since the 1940s. So what exactly is it, why is it so important and  │\n",
       "│ what does it mean for the future?                                                                               │\n",
       "│                                                                                                                 │\n",
       "╰─────────────────────────────────────────────────────────────────────────────────────────────────────────────────╯\n",
       "</pre>\n"
      ],
      "text/plain": [
       "╭───────────────────────────── \u001b]8;id=418341;https://www.cbc.ca/news/science/nuclear-fusion-explainer-1.6684298?cmp=rss\u001b\\What is nuclear fusion and why is it such a big deal?\u001b]8;;\u001b\\ ─────────────────────────────╮\n",
       "│ Link: \u001b]8;id=245573;https://www.cbc.ca/news/science/nuclear-fusion-explainer-1.6684298?cmp=rss\u001b\\https://www.cbc.ca/news/science/nuclear-fusion-explainer-1.6684298?cmp=rss\u001b]8;;\u001b\\                                │\n",
       "│ Date: 2022-12-13                                                                                                │\n",
       "│ Source: CBC | Technology News                                                                                   │\n",
       "│                                                                                                                 │\n",
       "│  The U.S. Department of Energy on Tuesday announced a breakthrough in nuclear fusion, a way of producing clean  │\n",
       "│ energy that scientists have been working on since the 1940s. So what exactly is it, why is it so important and  │\n",
       "│ what does it mean for the future?                                                                               │\n",
       "│                                                                                                                 │\n",
       "╰─────────────────────────────────────────────────────────────────────────────────────────────────────────────────╯\n"
      ]
     },
     "metadata": {},
     "output_type": "display_data"
    },
    {
     "data": {
      "text/html": [
       "<pre style=\"white-space:pre;overflow-x:auto;line-height:normal;font-family:Menlo,'DejaVu Sans Mono',consolas,'Courier New',monospace\">\n",
       "</pre>\n"
      ],
      "text/plain": [
       "\n"
      ]
     },
     "metadata": {},
     "output_type": "display_data"
    },
    {
     "data": {
      "text/html": [
       "<pre style=\"white-space:pre;overflow-x:auto;line-height:normal;font-family:Menlo,'DejaVu Sans Mono',consolas,'Courier New',monospace\">╭────────────── <a href=\"https://www.cbc.ca/news/science/what-on-earth-cannabis-plastic-waste-1.6687271?cmp=rss\" target=\"_blank\">The cannabis industry has a plastic waste problem — but some are finding solutions</a> ───────────────╮\n",
       "│ Link: <a href=\"https://www.cbc.ca/news/science/what-on-earth-cannabis-plastic-waste-1.6687271?cmp=rss\" target=\"_blank\">https://www.cbc.ca/news/science/what-on-earth-cannabis-plastic-waste-1.6687271?cmp=rss</a>                    │\n",
       "│ Date: 2022-12-15                                                                                                │\n",
       "│ Source: CBC | Canada News                                                                                       │\n",
       "│                                                                                                                 │\n",
       "│  In this week's issue of our environment newsletter, we look at the plastic waste produced in the cannabis      │\n",
       "│ industry and what this week's announcement about nuclear fusion means for the future of clean energy.           │\n",
       "│                                                                                                                 │\n",
       "╰─────────────────────────────────────────────────────────────────────────────────────────────────────────────────╯\n",
       "</pre>\n"
      ],
      "text/plain": [
       "╭────────────── \u001b]8;id=245255;https://www.cbc.ca/news/science/what-on-earth-cannabis-plastic-waste-1.6687271?cmp=rss\u001b\\The cannabis industry has a plastic waste problem — but some are finding solutions\u001b]8;;\u001b\\ ───────────────╮\n",
       "│ Link: \u001b]8;id=555928;https://www.cbc.ca/news/science/what-on-earth-cannabis-plastic-waste-1.6687271?cmp=rss\u001b\\https://www.cbc.ca/news/science/what-on-earth-cannabis-plastic-waste-1.6687271?cmp=rss\u001b]8;;\u001b\\                    │\n",
       "│ Date: 2022-12-15                                                                                                │\n",
       "│ Source: CBC | Canada News                                                                                       │\n",
       "│                                                                                                                 │\n",
       "│  In this week's issue of our environment newsletter, we look at the plastic waste produced in the cannabis      │\n",
       "│ industry and what this week's announcement about nuclear fusion means for the future of clean energy.           │\n",
       "│                                                                                                                 │\n",
       "╰─────────────────────────────────────────────────────────────────────────────────────────────────────────────────╯\n"
      ]
     },
     "metadata": {},
     "output_type": "display_data"
    },
    {
     "data": {
      "text/html": [
       "<pre style=\"white-space:pre;overflow-x:auto;line-height:normal;font-family:Menlo,'DejaVu Sans Mono',consolas,'Courier New',monospace\">\n",
       "</pre>\n"
      ],
      "text/plain": [
       "\n"
      ]
     },
     "metadata": {},
     "output_type": "display_data"
    }
   ],
   "source": [
    "r.search(\"fusion\")"
   ]
  },
  {
   "cell_type": "code",
   "execution_count": null,
   "metadata": {},
   "outputs": [],
   "source": [
    "# | hide\n",
    "\n",
    "# To Do:\n",
    "# * Command line interface\n",
    "# * User interface\n",
    "# * Tags"
   ]
  },
  {
   "cell_type": "code",
   "execution_count": null,
   "metadata": {},
   "outputs": [],
   "source": [
    "# | hide\n",
    "import nbdev\n",
    "\n",
    "nbdev.nbdev_export()"
   ]
  }
 ],
 "metadata": {
  "kernelspec": {
   "display_name": "Python 3 (ipykernel)",
   "language": "python",
   "name": "python3"
  }
 },
 "nbformat": 4,
 "nbformat_minor": 4
}
