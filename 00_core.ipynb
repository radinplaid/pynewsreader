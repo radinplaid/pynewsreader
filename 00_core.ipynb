{
 "cells": [
  {
   "cell_type": "markdown",
   "metadata": {},
   "source": [
    "# core\n",
    "\n",
    "> Main codebase for fetching and saving RSS feeds"
   ]
  },
  {
   "cell_type": "code",
   "execution_count": null,
   "metadata": {},
   "outputs": [],
   "source": [
    "#| default_exp core"
   ]
  },
  {
   "cell_type": "code",
   "execution_count": null,
   "metadata": {},
   "outputs": [],
   "source": [
    "#| hide\n",
    "from nbdev.showdoc import *"
   ]
  },
  {
   "cell_type": "code",
   "execution_count": null,
   "metadata": {},
   "outputs": [],
   "source": [
    "# | export\n",
    "\n",
    "import reader\n",
    "from typing import *\n",
    "from bs4 import BeautifulSoup\n",
    "from rich import print\n",
    "from rich.panel import Panel\n",
    "from rich.text import Text\n",
    "import logging\n",
    "\n",
    "logger = logging.getLogger(__name__)\n",
    "\n",
    "\n",
    "def strip_html(s: str):\n",
    "    s = BeautifulSoup(s)\n",
    "    return s.text\n",
    "\n",
    "\n",
    "class PyNewsReader(reader.Reader):\n",
    "    def __init__(self, dbpath=None, feeds=None):\n",
    "        if dbpath is None:\n",
    "            logger.info(\"Database path not specified, using ./db.sqlite\")\n",
    "            dbpath = \"db.sqlite\"\n",
    "\n",
    "        self.reader = reader.make_reader(\n",
    "            \"db.sqlite\", plugins=[\"reader.enclosure_dedupe\", \"reader.entry_dedupe\"]\n",
    "        )\n",
    "\n",
    "        if feeds is None or self.reader.get_feed_counts().total == 0:\n",
    "            feeds = [\n",
    "                \"https://rss.cbc.ca/lineup/topstories.xml\",\n",
    "                \"https://rss.cbc.ca/lineup/world.xml\",\n",
    "                \"https://rss.cbc.ca/lineup/canada.xml\",\n",
    "                \"https://rss.cbc.ca/lineup/business.xml\",\n",
    "                \"https://rss.cbc.ca/lineup/technology.xml\",\n",
    "                \"https://www.cbc.ca/cmlink/rss-canada-ottawa\",\n",
    "                \"https://www.thestar.com/content/thestar/feed.RSSManagerServlet.articles.topstories.rss\",\n",
    "                \"https://www.thestar.com/content/thestar/feed.RSSManagerServlet.articles.news.investigations.rss\",\n",
    "                \"https://www.thestar.com/content/thestar/feed.RSSManagerServlet.articles.opinion.editorials.rss\",\n",
    "                \"https://www.macleans.ca/feed/\",\n",
    "                \"https://thetyee.ca/rss2.xml\",\n",
    "                \"https://thenarwhal.ca/feed/\",\n",
    "                \"https://ricochet.media/en/feed\",\n",
    "            ]\n",
    "\n",
    "        for feed in feeds:\n",
    "            logger.info(\"Feeds not specified, starting you off with some Canadian news\")\n",
    "            self.reader.add_feed(feed, exist_ok=True)\n",
    "\n",
    "        super().__init__(\n",
    "            self.reader._storage,\n",
    "            self.reader._search,\n",
    "            self.reader._parser,\n",
    "            self.reader._reserved_name_scheme,\n",
    "        )\n",
    "        self.enable_search()\n",
    "\n",
    "    def _print_entries(self, entries: List[reader.Entry], mark_as_read: bool = True, limit: int = 10):\n",
    "        \"\"\"\n",
    "        Pretty print entries - supports reader.Reader.get_entries arguments\n",
    "        \"\"\"\n",
    "        displayed_links = set()\n",
    "        for e in entries:\n",
    "            if e.link in displayed_links:\n",
    "                # Don't display duplicates\n",
    "                r.mark_entry_as_read(e)\n",
    "            else:\n",
    "                displayed_links.add(e.link)\n",
    "                if e.published:\n",
    "                    published_date = Text(\n",
    "                        \"Date: \" + e.published.isoformat()[:10], justify=\"center\"\n",
    "                    )\n",
    "                else:\n",
    "                    published_date = Text(\"Date: Unknown\", justify=\"center\")\n",
    "                if mark_as_read:\n",
    "                    r.mark_entry_as_read(e)\n",
    "                print(\n",
    "                    Panel(\n",
    "                        published_date\n",
    "                        + \"\\n\\n\"\n",
    "                        + Text(strip_html(e.summary) + \"\\n\", justify=None),\n",
    "                        title=f\"[link={e.link}]{e.title}[/link]\",\n",
    "                        subtitle=e.feed.title or e.feed_url,\n",
    "                    )\n",
    "                )\n",
    "                print()\n",
    "            if len(displayed_links) == limit:\n",
    "                return\n",
    "\n",
    "    def _search_to_entry(self, search_result):\n",
    "        for i in r.get_entries():\n",
    "            if i.id == search_result.id and i.feed_url == search_result.feed_url:\n",
    "                return i\n",
    "\n",
    "    def show(self, limit: int = 5, read: bool = None, **kwargs) -> type(None):\n",
    "        \"\"\"Pretty print entries - supports reader.Reader.get_entries arguments\"\"\"\n",
    "        self._print_entries(self.get_entries(**kwargs, read=read, limit=limit*2), limit=limit)\n",
    "\n",
    "    def search(self, query: str, mark_as_read: bool = True):\n",
    "        \"\"\"Search entries and pretty print results\"\"\"\n",
    "        entries = []\n",
    "        for e in r.search_entries(query):\n",
    "            if mark_as_read:\n",
    "                r.mark_entry_as_read(e)\n",
    "            entries.append(self._search_to_entry(e))\n",
    "        self._print_entries(entries)\n",
    "\n",
    "    def update(self):\n",
    "        \"\"\"Update feeds and search\"\"\"\n",
    "        self.update_feeds()\n",
    "        self.update_search()"
   ]
  },
  {
   "cell_type": "code",
   "execution_count": null,
   "metadata": {},
   "outputs": [
    {
     "name": "stderr",
     "output_type": "stream",
     "text": [
      "/home/mark/anaconda3/lib/python3.8/site-packages/reader/core.py:443: UserWarning: Reader objects should be created using make_reader(); the Reader constructor is not stable yet and may change without any notice.\n",
      "  warnings.warn(\n"
     ]
    }
   ],
   "source": [
    "r = PyNewsReader()"
   ]
  },
  {
   "cell_type": "markdown",
   "metadata": {},
   "source": [
    "## List feeds"
   ]
  },
  {
   "cell_type": "code",
   "execution_count": null,
   "metadata": {},
   "outputs": [
    {
     "data": {
      "text/plain": [
       "['https://ricochet.media/en/feed',\n",
       " 'CBC | Business News',\n",
       " 'CBC | Canada News',\n",
       " 'CBC | Ottawa News',\n",
       " 'CBC | Technology News',\n",
       " 'CBC | Top Stories News',\n",
       " 'CBC | World News',\n",
       " 'Macleans.ca',\n",
       " 'The Narwhal',\n",
       " \"The Tyee | BC's home for today's news, analysis and updates\",\n",
       " 'TORONTO STAR',\n",
       " 'TORONTO STAR',\n",
       " 'TORONTO STAR']"
      ]
     },
     "execution_count": null,
     "metadata": {},
     "output_type": "execute_result"
    }
   ],
   "source": [
    "[i.title or i.url for i in r.get_feeds()]"
   ]
  },
  {
   "cell_type": "markdown",
   "metadata": {},
   "source": [
    "## Update Feeds"
   ]
  },
  {
   "cell_type": "code",
   "execution_count": null,
   "metadata": {},
   "outputs": [],
   "source": [
    "r.update()"
   ]
  },
  {
   "cell_type": "markdown",
   "metadata": {},
   "source": [
    "## Get Entries"
   ]
  },
  {
   "cell_type": "code",
   "execution_count": null,
   "metadata": {},
   "outputs": [
    {
     "data": {
      "text/html": [
       "<pre style=\"white-space:pre;overflow-x:auto;line-height:normal;font-family:Menlo,'DejaVu Sans Mono',consolas,'Courier New',monospace\"><span style=\"color: #800080; text-decoration-color: #800080; font-weight: bold\">Entry</span><span style=\"font-weight: bold\">(</span>\n",
       "    <span style=\"color: #808000; text-decoration-color: #808000\">id</span>=<span style=\"color: #008000; text-decoration-color: #008000\">'1.6684943'</span>,\n",
       "    <span style=\"color: #808000; text-decoration-color: #808000\">updated</span>=<span style=\"color: #800080; text-decoration-color: #800080; font-style: italic\">None</span>,\n",
       "    <span style=\"color: #808000; text-decoration-color: #808000\">title</span>=<span style=\"color: #008000; text-decoration-color: #008000\">'Multiple injuries reported after bus, car collide northeast of Quebec City'</span>,\n",
       "    <span style=\"color: #808000; text-decoration-color: #808000\">link</span>=<span style=\"color: #008000; text-decoration-color: #008000\">'https://www.cbc.ca/news/canada/montreal/bus-car-collide-quebec-1.6684943?cmp=rss'</span>,\n",
       "    <span style=\"color: #808000; text-decoration-color: #808000\">author</span>=<span style=\"color: #008000; text-decoration-color: #008000\">'CBC News'</span>,\n",
       "    <span style=\"color: #808000; text-decoration-color: #808000\">published</span>=<span style=\"color: #800080; text-decoration-color: #800080; font-weight: bold\">datetime</span><span style=\"color: #800080; text-decoration-color: #800080; font-weight: bold\">.datetime</span><span style=\"font-weight: bold\">(</span><span style=\"color: #008080; text-decoration-color: #008080; font-weight: bold\">2022</span>, <span style=\"color: #008080; text-decoration-color: #008080; font-weight: bold\">12</span>, <span style=\"color: #008080; text-decoration-color: #008080; font-weight: bold\">14</span>, <span style=\"color: #008080; text-decoration-color: #008080; font-weight: bold\">0</span>, <span style=\"color: #008080; text-decoration-color: #008080; font-weight: bold\">32</span>, <span style=\"color: #008080; text-decoration-color: #008080; font-weight: bold\">56</span>, <span style=\"color: #808000; text-decoration-color: #808000\">tzinfo</span>=<span style=\"color: #800080; text-decoration-color: #800080\">datetime</span>.timezone.utc<span style=\"font-weight: bold\">)</span>,\n",
       "    <span style=\"color: #808000; text-decoration-color: #808000\">summary</span>=<span style=\"color: #008000; text-decoration-color: #008000\">'&lt;img alt=\"collision\" height=\"259\" </span>\n",
       "<span style=\"color: #008000; text-decoration-color: #008000\">src=\"https://i.cbc.ca/1.6684973.1670978692!/fileImage/httpImage/image.JPG_gen/derivatives/16x9_460/collision.JPG\" </span>\n",
       "<span style=\"color: #008000; text-decoration-color: #008000\">title=\"Sûreté du Québec police and ambulances were called to the scene after a bus and car collided near </span>\n",
       "<span style=\"color: #008000; text-decoration-color: #008000\">Saint-Fabien, Que.\" width=\"460\" /&gt;                &lt;p&gt;The Orléans Express bus and car collided around 5:15 p.m. on </span>\n",
       "<span style=\"color: #008000; text-decoration-color: #008000\">route 132, near Saint-Fabien, Que., about 285 kilometres northeast of Quebec City.\\xa0There were about 40 </span>\n",
       "<span style=\"color: #008000; text-decoration-color: #008000\">passengers on the bus.&lt;/p&gt;'</span>,\n",
       "    <span style=\"color: #808000; text-decoration-color: #808000\">content</span>=<span style=\"font-weight: bold\">()</span>,\n",
       "    <span style=\"color: #808000; text-decoration-color: #808000\">enclosures</span>=<span style=\"font-weight: bold\">()</span>,\n",
       "    <span style=\"color: #808000; text-decoration-color: #808000\">read</span>=<span style=\"color: #00ff00; text-decoration-color: #00ff00; font-style: italic\">True</span>,\n",
       "    <span style=\"color: #808000; text-decoration-color: #808000\">read_modified</span>=<span style=\"color: #800080; text-decoration-color: #800080; font-weight: bold\">datetime</span><span style=\"color: #800080; text-decoration-color: #800080; font-weight: bold\">.datetime</span><span style=\"font-weight: bold\">(</span><span style=\"color: #008080; text-decoration-color: #008080; font-weight: bold\">2022</span>, <span style=\"color: #008080; text-decoration-color: #008080; font-weight: bold\">12</span>, <span style=\"color: #008080; text-decoration-color: #008080; font-weight: bold\">14</span>, <span style=\"color: #008080; text-decoration-color: #008080; font-weight: bold\">1</span>, <span style=\"color: #008080; text-decoration-color: #008080; font-weight: bold\">43</span>, <span style=\"color: #008080; text-decoration-color: #008080; font-weight: bold\">6</span>, <span style=\"color: #008080; text-decoration-color: #008080; font-weight: bold\">888791</span>, <span style=\"color: #808000; text-decoration-color: #808000\">tzinfo</span>=<span style=\"color: #800080; text-decoration-color: #800080\">datetime</span>.timezone.utc<span style=\"font-weight: bold\">)</span>,\n",
       "    <span style=\"color: #808000; text-decoration-color: #808000\">important</span>=<span style=\"color: #ff0000; text-decoration-color: #ff0000; font-style: italic\">False</span>,\n",
       "    <span style=\"color: #808000; text-decoration-color: #808000\">important_modified</span>=<span style=\"color: #800080; text-decoration-color: #800080; font-style: italic\">None</span>,\n",
       "    <span style=\"color: #808000; text-decoration-color: #808000\">added</span>=<span style=\"color: #800080; text-decoration-color: #800080; font-weight: bold\">datetime</span><span style=\"color: #800080; text-decoration-color: #800080; font-weight: bold\">.datetime</span><span style=\"font-weight: bold\">(</span><span style=\"color: #008080; text-decoration-color: #008080; font-weight: bold\">2022</span>, <span style=\"color: #008080; text-decoration-color: #008080; font-weight: bold\">12</span>, <span style=\"color: #008080; text-decoration-color: #008080; font-weight: bold\">14</span>, <span style=\"color: #008080; text-decoration-color: #008080; font-weight: bold\">1</span>, <span style=\"color: #008080; text-decoration-color: #008080; font-weight: bold\">43</span>, <span style=\"color: #008080; text-decoration-color: #008080; font-weight: bold\">1</span>, <span style=\"color: #008080; text-decoration-color: #008080; font-weight: bold\">799593</span>, <span style=\"color: #808000; text-decoration-color: #808000\">tzinfo</span>=<span style=\"color: #800080; text-decoration-color: #800080\">datetime</span>.timezone.utc<span style=\"font-weight: bold\">)</span>,\n",
       "    <span style=\"color: #808000; text-decoration-color: #808000\">added_by</span>=<span style=\"color: #008000; text-decoration-color: #008000\">'feed'</span>,\n",
       "    <span style=\"color: #808000; text-decoration-color: #808000\">last_updated</span>=<span style=\"color: #800080; text-decoration-color: #800080; font-weight: bold\">datetime</span><span style=\"color: #800080; text-decoration-color: #800080; font-weight: bold\">.datetime</span><span style=\"font-weight: bold\">(</span><span style=\"color: #008080; text-decoration-color: #008080; font-weight: bold\">2022</span>, <span style=\"color: #008080; text-decoration-color: #008080; font-weight: bold\">12</span>, <span style=\"color: #008080; text-decoration-color: #008080; font-weight: bold\">14</span>, <span style=\"color: #008080; text-decoration-color: #008080; font-weight: bold\">1</span>, <span style=\"color: #008080; text-decoration-color: #008080; font-weight: bold\">43</span>, <span style=\"color: #008080; text-decoration-color: #008080; font-weight: bold\">1</span>, <span style=\"color: #008080; text-decoration-color: #008080; font-weight: bold\">799593</span>, <span style=\"color: #808000; text-decoration-color: #808000\">tzinfo</span>=<span style=\"color: #800080; text-decoration-color: #800080\">datetime</span>.timezone.utc<span style=\"font-weight: bold\">)</span>,\n",
       "    <span style=\"color: #808000; text-decoration-color: #808000\">original_feed_url</span>=<span style=\"color: #008000; text-decoration-color: #008000\">'https://rss.cbc.ca/lineup/topstories.xml'</span>,\n",
       "    <span style=\"color: #808000; text-decoration-color: #808000\">feed</span>=<span style=\"color: #800080; text-decoration-color: #800080; font-weight: bold\">Feed</span><span style=\"font-weight: bold\">(</span>\n",
       "        <span style=\"color: #808000; text-decoration-color: #808000\">url</span>=<span style=\"color: #008000; text-decoration-color: #008000\">'https://rss.cbc.ca/lineup/topstories.xml'</span>,\n",
       "        <span style=\"color: #808000; text-decoration-color: #808000\">updated</span>=<span style=\"color: #800080; text-decoration-color: #800080; font-weight: bold\">datetime</span><span style=\"color: #800080; text-decoration-color: #800080; font-weight: bold\">.datetime</span><span style=\"font-weight: bold\">(</span><span style=\"color: #008080; text-decoration-color: #008080; font-weight: bold\">2022</span>, <span style=\"color: #008080; text-decoration-color: #008080; font-weight: bold\">12</span>, <span style=\"color: #008080; text-decoration-color: #008080; font-weight: bold\">14</span>, <span style=\"color: #008080; text-decoration-color: #008080; font-weight: bold\">0</span>, <span style=\"color: #008080; text-decoration-color: #008080; font-weight: bold\">32</span>, <span style=\"color: #008080; text-decoration-color: #008080; font-weight: bold\">56</span>, <span style=\"color: #808000; text-decoration-color: #808000\">tzinfo</span>=<span style=\"color: #800080; text-decoration-color: #800080\">datetime</span>.timezone.utc<span style=\"font-weight: bold\">)</span>,\n",
       "        <span style=\"color: #808000; text-decoration-color: #808000\">title</span>=<span style=\"color: #008000; text-decoration-color: #008000\">'CBC | Top Stories News'</span>,\n",
       "        <span style=\"color: #808000; text-decoration-color: #808000\">link</span>=<span style=\"color: #008000; text-decoration-color: #008000\">'http://www.cbc.ca/news/?cmp=rss'</span>,\n",
       "        <span style=\"color: #808000; text-decoration-color: #808000\">author</span>=<span style=\"color: #800080; text-decoration-color: #800080; font-style: italic\">None</span>,\n",
       "        <span style=\"color: #808000; text-decoration-color: #808000\">subtitle</span>=<span style=\"color: #008000; text-decoration-color: #008000\">'FOR PERSONAL USE ONLY'</span>,\n",
       "        <span style=\"color: #808000; text-decoration-color: #808000\">version</span>=<span style=\"color: #008000; text-decoration-color: #008000\">'rss20'</span>,\n",
       "        <span style=\"color: #808000; text-decoration-color: #808000\">user_title</span>=<span style=\"color: #800080; text-decoration-color: #800080; font-style: italic\">None</span>,\n",
       "        <span style=\"color: #808000; text-decoration-color: #808000\">added</span>=<span style=\"color: #800080; text-decoration-color: #800080; font-weight: bold\">datetime</span><span style=\"color: #800080; text-decoration-color: #800080; font-weight: bold\">.datetime</span><span style=\"font-weight: bold\">(</span><span style=\"color: #008080; text-decoration-color: #008080; font-weight: bold\">2022</span>, <span style=\"color: #008080; text-decoration-color: #008080; font-weight: bold\">12</span>, <span style=\"color: #008080; text-decoration-color: #008080; font-weight: bold\">7</span>, <span style=\"color: #008080; text-decoration-color: #008080; font-weight: bold\">0</span>, <span style=\"color: #008080; text-decoration-color: #008080; font-weight: bold\">40</span>, <span style=\"color: #008080; text-decoration-color: #008080; font-weight: bold\">58</span>, <span style=\"color: #008080; text-decoration-color: #008080; font-weight: bold\">106810</span>, <span style=\"color: #808000; text-decoration-color: #808000\">tzinfo</span>=<span style=\"color: #800080; text-decoration-color: #800080\">datetime</span>.timezone.utc<span style=\"font-weight: bold\">)</span>,\n",
       "        <span style=\"color: #808000; text-decoration-color: #808000\">last_updated</span>=<span style=\"color: #800080; text-decoration-color: #800080; font-weight: bold\">datetime</span><span style=\"color: #800080; text-decoration-color: #800080; font-weight: bold\">.datetime</span><span style=\"font-weight: bold\">(</span><span style=\"color: #008080; text-decoration-color: #008080; font-weight: bold\">2022</span>, <span style=\"color: #008080; text-decoration-color: #008080; font-weight: bold\">12</span>, <span style=\"color: #008080; text-decoration-color: #008080; font-weight: bold\">14</span>, <span style=\"color: #008080; text-decoration-color: #008080; font-weight: bold\">1</span>, <span style=\"color: #008080; text-decoration-color: #008080; font-weight: bold\">43</span>, <span style=\"color: #008080; text-decoration-color: #008080; font-weight: bold\">1</span>, <span style=\"color: #008080; text-decoration-color: #008080; font-weight: bold\">799593</span>, <span style=\"color: #808000; text-decoration-color: #808000\">tzinfo</span>=<span style=\"color: #800080; text-decoration-color: #800080\">datetime</span>.timezone.utc<span style=\"font-weight: bold\">)</span>,\n",
       "        <span style=\"color: #808000; text-decoration-color: #808000\">last_exception</span>=<span style=\"color: #800080; text-decoration-color: #800080; font-style: italic\">None</span>,\n",
       "        <span style=\"color: #808000; text-decoration-color: #808000\">updates_enabled</span>=<span style=\"color: #00ff00; text-decoration-color: #00ff00; font-style: italic\">True</span>\n",
       "    <span style=\"font-weight: bold\">)</span>\n",
       "<span style=\"font-weight: bold\">)</span>\n",
       "</pre>\n"
      ],
      "text/plain": [
       "\u001b[1;35mEntry\u001b[0m\u001b[1m(\u001b[0m\n",
       "    \u001b[33mid\u001b[0m=\u001b[32m'1.6684943'\u001b[0m,\n",
       "    \u001b[33mupdated\u001b[0m=\u001b[3;35mNone\u001b[0m,\n",
       "    \u001b[33mtitle\u001b[0m=\u001b[32m'Multiple injuries reported after bus, car collide northeast of Quebec City'\u001b[0m,\n",
       "    \u001b[33mlink\u001b[0m=\u001b[32m'https://www.cbc.ca/news/canada/montreal/bus-car-collide-quebec-1.6684943?\u001b[0m\u001b[32mcmp\u001b[0m\u001b[32m=\u001b[0m\u001b[32mrss\u001b[0m\u001b[32m'\u001b[0m,\n",
       "    \u001b[33mauthor\u001b[0m=\u001b[32m'CBC News'\u001b[0m,\n",
       "    \u001b[33mpublished\u001b[0m=\u001b[1;35mdatetime\u001b[0m\u001b[1;35m.datetime\u001b[0m\u001b[1m(\u001b[0m\u001b[1;36m2022\u001b[0m, \u001b[1;36m12\u001b[0m, \u001b[1;36m14\u001b[0m, \u001b[1;36m0\u001b[0m, \u001b[1;36m32\u001b[0m, \u001b[1;36m56\u001b[0m, \u001b[33mtzinfo\u001b[0m=\u001b[35mdatetime\u001b[0m.timezone.utc\u001b[1m)\u001b[0m,\n",
       "    \u001b[33msummary\u001b[0m=\u001b[32m'\u001b[0m\u001b[32m<\u001b[0m\u001b[32mimg\u001b[0m\u001b[32m \u001b[0m\u001b[32malt\u001b[0m\u001b[32m=\u001b[0m\u001b[32m\"collision\"\u001b[0m\u001b[32m \u001b[0m\u001b[32mheight\u001b[0m\u001b[32m=\u001b[0m\u001b[32m\"259\"\u001b[0m\u001b[32m \u001b[0m\n",
       "\u001b[32msrc\u001b[0m\u001b[32m=\u001b[0m\u001b[32m\"https\u001b[0m\u001b[32m://i.cbc.ca/1.6684973.1670978692!/fileImage/httpImage/image.JPG_gen/derivatives/16x9_460/collision.JPG\" \u001b[0m\n",
       "\u001b[32mtitle\u001b[0m\u001b[32m=\u001b[0m\u001b[32m\"Sûreté\u001b[0m\u001b[32m du Québec police and ambulances were called to the scene after a bus and car collided near \u001b[0m\n",
       "\u001b[32mSaint-Fabien, Que.\" \u001b[0m\u001b[32mwidth\u001b[0m\u001b[32m=\u001b[0m\u001b[32m\"460\"\u001b[0m\u001b[32m /\u001b[0m\u001b[32m>\u001b[0m\u001b[32m                \u001b[0m\u001b[32m<\u001b[0m\u001b[32mp\u001b[0m\u001b[32m>\u001b[0m\u001b[32mThe Orléans Express bus and car collided around 5:15 p.m. on \u001b[0m\n",
       "\u001b[32mroute 132, near Saint-Fabien, Que., about 285 kilometres northeast of Quebec City.\\xa0There were about 40 \u001b[0m\n",
       "\u001b[32mpassengers on the bus.\u001b[0m\u001b[32m<\u001b[0m\u001b[32m/p\u001b[0m\u001b[32m>\u001b[0m\u001b[32m'\u001b[0m,\n",
       "    \u001b[33mcontent\u001b[0m=\u001b[1m(\u001b[0m\u001b[1m)\u001b[0m,\n",
       "    \u001b[33menclosures\u001b[0m=\u001b[1m(\u001b[0m\u001b[1m)\u001b[0m,\n",
       "    \u001b[33mread\u001b[0m=\u001b[3;92mTrue\u001b[0m,\n",
       "    \u001b[33mread_modified\u001b[0m=\u001b[1;35mdatetime\u001b[0m\u001b[1;35m.datetime\u001b[0m\u001b[1m(\u001b[0m\u001b[1;36m2022\u001b[0m, \u001b[1;36m12\u001b[0m, \u001b[1;36m14\u001b[0m, \u001b[1;36m1\u001b[0m, \u001b[1;36m43\u001b[0m, \u001b[1;36m6\u001b[0m, \u001b[1;36m888791\u001b[0m, \u001b[33mtzinfo\u001b[0m=\u001b[35mdatetime\u001b[0m.timezone.utc\u001b[1m)\u001b[0m,\n",
       "    \u001b[33mimportant\u001b[0m=\u001b[3;91mFalse\u001b[0m,\n",
       "    \u001b[33mimportant_modified\u001b[0m=\u001b[3;35mNone\u001b[0m,\n",
       "    \u001b[33madded\u001b[0m=\u001b[1;35mdatetime\u001b[0m\u001b[1;35m.datetime\u001b[0m\u001b[1m(\u001b[0m\u001b[1;36m2022\u001b[0m, \u001b[1;36m12\u001b[0m, \u001b[1;36m14\u001b[0m, \u001b[1;36m1\u001b[0m, \u001b[1;36m43\u001b[0m, \u001b[1;36m1\u001b[0m, \u001b[1;36m799593\u001b[0m, \u001b[33mtzinfo\u001b[0m=\u001b[35mdatetime\u001b[0m.timezone.utc\u001b[1m)\u001b[0m,\n",
       "    \u001b[33madded_by\u001b[0m=\u001b[32m'feed'\u001b[0m,\n",
       "    \u001b[33mlast_updated\u001b[0m=\u001b[1;35mdatetime\u001b[0m\u001b[1;35m.datetime\u001b[0m\u001b[1m(\u001b[0m\u001b[1;36m2022\u001b[0m, \u001b[1;36m12\u001b[0m, \u001b[1;36m14\u001b[0m, \u001b[1;36m1\u001b[0m, \u001b[1;36m43\u001b[0m, \u001b[1;36m1\u001b[0m, \u001b[1;36m799593\u001b[0m, \u001b[33mtzinfo\u001b[0m=\u001b[35mdatetime\u001b[0m.timezone.utc\u001b[1m)\u001b[0m,\n",
       "    \u001b[33moriginal_feed_url\u001b[0m=\u001b[32m'https://rss.cbc.ca/lineup/topstories.xml'\u001b[0m,\n",
       "    \u001b[33mfeed\u001b[0m=\u001b[1;35mFeed\u001b[0m\u001b[1m(\u001b[0m\n",
       "        \u001b[33murl\u001b[0m=\u001b[32m'https://rss.cbc.ca/lineup/topstories.xml'\u001b[0m,\n",
       "        \u001b[33mupdated\u001b[0m=\u001b[1;35mdatetime\u001b[0m\u001b[1;35m.datetime\u001b[0m\u001b[1m(\u001b[0m\u001b[1;36m2022\u001b[0m, \u001b[1;36m12\u001b[0m, \u001b[1;36m14\u001b[0m, \u001b[1;36m0\u001b[0m, \u001b[1;36m32\u001b[0m, \u001b[1;36m56\u001b[0m, \u001b[33mtzinfo\u001b[0m=\u001b[35mdatetime\u001b[0m.timezone.utc\u001b[1m)\u001b[0m,\n",
       "        \u001b[33mtitle\u001b[0m=\u001b[32m'CBC | Top Stories News'\u001b[0m,\n",
       "        \u001b[33mlink\u001b[0m=\u001b[32m'http://www.cbc.ca/news/?\u001b[0m\u001b[32mcmp\u001b[0m\u001b[32m=\u001b[0m\u001b[32mrss\u001b[0m\u001b[32m'\u001b[0m,\n",
       "        \u001b[33mauthor\u001b[0m=\u001b[3;35mNone\u001b[0m,\n",
       "        \u001b[33msubtitle\u001b[0m=\u001b[32m'FOR PERSONAL USE ONLY'\u001b[0m,\n",
       "        \u001b[33mversion\u001b[0m=\u001b[32m'rss20'\u001b[0m,\n",
       "        \u001b[33muser_title\u001b[0m=\u001b[3;35mNone\u001b[0m,\n",
       "        \u001b[33madded\u001b[0m=\u001b[1;35mdatetime\u001b[0m\u001b[1;35m.datetime\u001b[0m\u001b[1m(\u001b[0m\u001b[1;36m2022\u001b[0m, \u001b[1;36m12\u001b[0m, \u001b[1;36m7\u001b[0m, \u001b[1;36m0\u001b[0m, \u001b[1;36m40\u001b[0m, \u001b[1;36m58\u001b[0m, \u001b[1;36m106810\u001b[0m, \u001b[33mtzinfo\u001b[0m=\u001b[35mdatetime\u001b[0m.timezone.utc\u001b[1m)\u001b[0m,\n",
       "        \u001b[33mlast_updated\u001b[0m=\u001b[1;35mdatetime\u001b[0m\u001b[1;35m.datetime\u001b[0m\u001b[1m(\u001b[0m\u001b[1;36m2022\u001b[0m, \u001b[1;36m12\u001b[0m, \u001b[1;36m14\u001b[0m, \u001b[1;36m1\u001b[0m, \u001b[1;36m43\u001b[0m, \u001b[1;36m1\u001b[0m, \u001b[1;36m799593\u001b[0m, \u001b[33mtzinfo\u001b[0m=\u001b[35mdatetime\u001b[0m.timezone.utc\u001b[1m)\u001b[0m,\n",
       "        \u001b[33mlast_exception\u001b[0m=\u001b[3;35mNone\u001b[0m,\n",
       "        \u001b[33mupdates_enabled\u001b[0m=\u001b[3;92mTrue\u001b[0m\n",
       "    \u001b[1m)\u001b[0m\n",
       "\u001b[1m)\u001b[0m\n"
      ]
     },
     "metadata": {},
     "output_type": "display_data"
    }
   ],
   "source": [
    "for i in r.get_entries(limit=1):\n",
    "    print(i)"
   ]
  },
  {
   "cell_type": "markdown",
   "metadata": {},
   "source": [
    "## Display Entries\n",
    "\n",
    "`read` = None shows all entries\n",
    "\n",
    "`read` = False shows only unread entries\n",
    "\n",
    "`read` = True shows only read entries"
   ]
  },
  {
   "cell_type": "code",
   "execution_count": null,
   "metadata": {},
   "outputs": [
    {
     "data": {
      "text/html": [
       "<pre style=\"white-space:pre;overflow-x:auto;line-height:normal;font-family:Menlo,'DejaVu Sans Mono',consolas,'Courier New',monospace\">╭────────────────── <a href=\"https://www.cbc.ca/news/canada/montreal/bus-car-collide-quebec-1.6684943?cmp=rss\" target=\"_blank\">Multiple injuries reported after bus, car collide northeast of Quebec City</a> ───────────────────╮\n",
       "│                                                Date: 2022-12-14                                                 │\n",
       "│                                                                                                                 │\n",
       "│    The Orléans Express bus and car collided around 5:15 p.m. on route 132, near Saint-Fabien, Que., about 285   │\n",
       "│                 kilometres northeast of Quebec City. There were about 40 passengers on the bus.                 │\n",
       "│                                                                                                                 │\n",
       "╰──────────────────────────────────────────── CBC | Top Stories News ─────────────────────────────────────────────╯\n",
       "</pre>\n"
      ],
      "text/plain": [
       "╭────────────────── \u001b]8;id=344643;https://www.cbc.ca/news/canada/montreal/bus-car-collide-quebec-1.6684943?cmp=rss\u001b\\Multiple injuries reported after bus, car collide northeast of Quebec City\u001b]8;;\u001b\\ ───────────────────╮\n",
       "│                                                Date: 2022-12-14                                                 │\n",
       "│                                                                                                                 │\n",
       "│    The Orléans Express bus and car collided around 5:15 p.m. on route 132, near Saint-Fabien, Que., about 285   │\n",
       "│                 kilometres northeast of Quebec City. There were about 40 passengers on the bus.                 │\n",
       "│                                                                                                                 │\n",
       "╰──────────────────────────────────────────── CBC | Top Stories News ─────────────────────────────────────────────╯\n"
      ]
     },
     "metadata": {},
     "output_type": "display_data"
    },
    {
     "data": {
      "text/html": [
       "<pre style=\"white-space:pre;overflow-x:auto;line-height:normal;font-family:Menlo,'DejaVu Sans Mono',consolas,'Courier New',monospace\">\n",
       "</pre>\n"
      ],
      "text/plain": [
       "\n"
      ]
     },
     "metadata": {},
     "output_type": "display_data"
    },
    {
     "data": {
      "text/html": [
       "<pre style=\"white-space:pre;overflow-x:auto;line-height:normal;font-family:Menlo,'DejaVu Sans Mono',consolas,'Courier New',monospace\">╭─────── <a href=\"https://www.cbc.ca/news/politics/hockey-canada-public-financial-statements-1.6684855?cmp=rss\" target=\"_blank\">Hockey Canada to make financial statements public after backlash over sexual assault settlements</a> ────────╮\n",
       "│                                                Date: 2022-12-14                                                 │\n",
       "│                                                                                                                 │\n",
       "│  Hockey Canada says it will release its audited financial statements following a public outcry over its use of  │\n",
       "│            controversial reserve funds that could be employed to settle sexual assault allegations.             │\n",
       "│                                                                                                                 │\n",
       "╰──────────────────────────────────────────── CBC | Top Stories News ─────────────────────────────────────────────╯\n",
       "</pre>\n"
      ],
      "text/plain": [
       "╭─────── \u001b]8;id=480511;https://www.cbc.ca/news/politics/hockey-canada-public-financial-statements-1.6684855?cmp=rss\u001b\\Hockey Canada to make financial statements public after backlash over sexual assault settlements\u001b]8;;\u001b\\ ────────╮\n",
       "│                                                Date: 2022-12-14                                                 │\n",
       "│                                                                                                                 │\n",
       "│  Hockey Canada says it will release its audited financial statements following a public outcry over its use of  │\n",
       "│            controversial reserve funds that could be employed to settle sexual assault allegations.             │\n",
       "│                                                                                                                 │\n",
       "╰──────────────────────────────────────────── CBC | Top Stories News ─────────────────────────────────────────────╯\n"
      ]
     },
     "metadata": {},
     "output_type": "display_data"
    },
    {
     "data": {
      "text/html": [
       "<pre style=\"white-space:pre;overflow-x:auto;line-height:normal;font-family:Menlo,'DejaVu Sans Mono',consolas,'Courier New',monospace\">\n",
       "</pre>\n"
      ],
      "text/plain": [
       "\n"
      ]
     },
     "metadata": {},
     "output_type": "display_data"
    },
    {
     "data": {
      "text/html": [
       "<pre style=\"white-space:pre;overflow-x:auto;line-height:normal;font-family:Menlo,'DejaVu Sans Mono',consolas,'Courier New',monospace\">╭───────────────────── <a href=\"https://www.cbc.ca/news/canada/british-columbia/b-c-men-in-violent-protests-in-peru-1.6684390?cmp=rss\" target=\"_blank\">Victoria, B.C., men recount being caught in violent protests in Peru</a> ──────────────────────╮\n",
       "│                                                Date: 2022-12-13                                                 │\n",
       "│                                                                                                                 │\n",
       "│  Peru has been sinking deeper into political crisis amid violent protests following the impeachment and arrest  │\n",
       "│                                   of leftist leader President Pedro Castillo.                                   │\n",
       "│                                                                                                                 │\n",
       "╰─────────────────────────────────────────────── CBC | World News ────────────────────────────────────────────────╯\n",
       "</pre>\n"
      ],
      "text/plain": [
       "╭───────────────────── \u001b]8;id=607363;https://www.cbc.ca/news/canada/british-columbia/b-c-men-in-violent-protests-in-peru-1.6684390?cmp=rss\u001b\\Victoria, B.C., men recount being caught in violent protests in Peru\u001b]8;;\u001b\\ ──────────────────────╮\n",
       "│                                                Date: 2022-12-13                                                 │\n",
       "│                                                                                                                 │\n",
       "│  Peru has been sinking deeper into political crisis amid violent protests following the impeachment and arrest  │\n",
       "│                                   of leftist leader President Pedro Castillo.                                   │\n",
       "│                                                                                                                 │\n",
       "╰─────────────────────────────────────────────── CBC | World News ────────────────────────────────────────────────╯\n"
      ]
     },
     "metadata": {},
     "output_type": "display_data"
    },
    {
     "data": {
      "text/html": [
       "<pre style=\"white-space:pre;overflow-x:auto;line-height:normal;font-family:Menlo,'DejaVu Sans Mono',consolas,'Courier New',monospace\">\n",
       "</pre>\n"
      ],
      "text/plain": [
       "\n"
      ]
     },
     "metadata": {},
     "output_type": "display_data"
    },
    {
     "data": {
      "text/html": [
       "<pre style=\"white-space:pre;overflow-x:auto;line-height:normal;font-family:Menlo,'DejaVu Sans Mono',consolas,'Courier New',monospace\">╭─ <a href=\"https://www.thestar.com/politics/federal/2022/12/13/pierre-poilievre-needs-to-win-ridings-like-mississauga-lakeshore-insiders-reveal-why-he-didnt-try-harder-this-time.html\" target=\"_blank\">Pierre Poilievre needs to win ridings like Mississauga-Lakeshore. Insiders reveal why he didn’t try harder thi</a>─╮\n",
       "│                                                Date: 2022-12-13                                                 │\n",
       "│                                                                                                                 │\n",
       "│  Voters in Mississauga-Lakeshore have returned a Liberal to Parliament in a byelection that opposition parties  │\n",
       "│                                              played down Tuesday.                                               │\n",
       "│                                                                                                                 │\n",
       "╰───────────────────────────────────────────────── TORONTO STAR ──────────────────────────────────────────────────╯\n",
       "</pre>\n"
      ],
      "text/plain": [
       "╭─ \u001b]8;id=602424;https://www.thestar.com/politics/federal/2022/12/13/pierre-poilievre-needs-to-win-ridings-like-mississauga-lakeshore-insiders-reveal-why-he-didnt-try-harder-this-time.html\u001b\\Pierre Poilievre needs to win ridings like Mississauga-Lakeshore. Insiders reveal why he didn’t try harder thi\u001b]8;;\u001b\\─╮\n",
       "│                                                Date: 2022-12-13                                                 │\n",
       "│                                                                                                                 │\n",
       "│  Voters in Mississauga-Lakeshore have returned a Liberal to Parliament in a byelection that opposition parties  │\n",
       "│                                              played down Tuesday.                                               │\n",
       "│                                                                                                                 │\n",
       "╰───────────────────────────────────────────────── TORONTO STAR ──────────────────────────────────────────────────╯\n"
      ]
     },
     "metadata": {},
     "output_type": "display_data"
    },
    {
     "data": {
      "text/html": [
       "<pre style=\"white-space:pre;overflow-x:auto;line-height:normal;font-family:Menlo,'DejaVu Sans Mono',consolas,'Courier New',monospace\">\n",
       "</pre>\n"
      ],
      "text/plain": [
       "\n"
      ]
     },
     "metadata": {},
     "output_type": "display_data"
    },
    {
     "data": {
      "text/html": [
       "<pre style=\"white-space:pre;overflow-x:auto;line-height:normal;font-family:Menlo,'DejaVu Sans Mono',consolas,'Courier New',monospace\">╭───────────────── <a href=\"https://www.cbc.ca/news/canada/north/atlin-bc-postmaster-resigns-1.6684360?cmp=rss\" target=\"_blank\">The only postmaster in Atlin, B.C., has a message for Canada Post — she quits</a> ─────────────────╮\n",
       "│                                                Date: 2022-12-13                                                 │\n",
       "│                                                                                                                 │\n",
       "│    After a contract dispute, Tina St Cyr says she'll finish as postmaster on Dec. 23. It's unclear what will    │\n",
       "│                             happen with mail delivery in the community after that.                              │\n",
       "│                                                                                                                 │\n",
       "╰──────────────────────────────────────────── CBC | Top Stories News ─────────────────────────────────────────────╯\n",
       "</pre>\n"
      ],
      "text/plain": [
       "╭───────────────── \u001b]8;id=550853;https://www.cbc.ca/news/canada/north/atlin-bc-postmaster-resigns-1.6684360?cmp=rss\u001b\\The only postmaster in Atlin, B.C., has a message for Canada Post — she quits\u001b]8;;\u001b\\ ─────────────────╮\n",
       "│                                                Date: 2022-12-13                                                 │\n",
       "│                                                                                                                 │\n",
       "│    After a contract dispute, Tina St Cyr says she'll finish as postmaster on Dec. 23. It's unclear what will    │\n",
       "│                             happen with mail delivery in the community after that.                              │\n",
       "│                                                                                                                 │\n",
       "╰──────────────────────────────────────────── CBC | Top Stories News ─────────────────────────────────────────────╯\n"
      ]
     },
     "metadata": {},
     "output_type": "display_data"
    },
    {
     "data": {
      "text/html": [
       "<pre style=\"white-space:pre;overflow-x:auto;line-height:normal;font-family:Menlo,'DejaVu Sans Mono',consolas,'Courier New',monospace\">\n",
       "</pre>\n"
      ],
      "text/plain": [
       "\n"
      ]
     },
     "metadata": {},
     "output_type": "display_data"
    }
   ],
   "source": [
    "r.show(limit=5, read=None)"
   ]
  },
  {
   "cell_type": "markdown",
   "metadata": {},
   "source": [
    "## Search Entries"
   ]
  },
  {
   "cell_type": "code",
   "execution_count": null,
   "metadata": {},
   "outputs": [
    {
     "data": {
      "text/html": [
       "<pre style=\"white-space:pre;overflow-x:auto;line-height:normal;font-family:Menlo,'DejaVu Sans Mono',consolas,'Courier New',monospace\">╭──────────────────────── <a href=\"https://www.cbc.ca/news/science/nuclear-fusion-explainer-1.6684298?cmp=rss\" target=\"_blank\">Here's why a breakthrough in nuclear fusion is such a big deal</a> ─────────────────────────╮\n",
       "│                                                Date: 2022-12-13                                                 │\n",
       "│                                                                                                                 │\n",
       "│                                                                                                                 │\n",
       "│                                                                                                                 │\n",
       "╰─────────────────────────────────────────────── CBC | World News ────────────────────────────────────────────────╯\n",
       "</pre>\n"
      ],
      "text/plain": [
       "╭──────────────────────── \u001b]8;id=208537;https://www.cbc.ca/news/science/nuclear-fusion-explainer-1.6684298?cmp=rss\u001b\\Here's why a breakthrough in nuclear fusion is such a big deal\u001b]8;;\u001b\\ ─────────────────────────╮\n",
       "│                                                Date: 2022-12-13                                                 │\n",
       "│                                                                                                                 │\n",
       "│                                                                                                                 │\n",
       "│                                                                                                                 │\n",
       "╰─────────────────────────────────────────────── CBC | World News ────────────────────────────────────────────────╯\n"
      ]
     },
     "metadata": {},
     "output_type": "display_data"
    },
    {
     "data": {
      "text/html": [
       "<pre style=\"white-space:pre;overflow-x:auto;line-height:normal;font-family:Menlo,'DejaVu Sans Mono',consolas,'Courier New',monospace\">\n",
       "</pre>\n"
      ],
      "text/plain": [
       "\n"
      ]
     },
     "metadata": {},
     "output_type": "display_data"
    },
    {
     "data": {
      "text/html": [
       "<pre style=\"white-space:pre;overflow-x:auto;line-height:normal;font-family:Menlo,'DejaVu Sans Mono',consolas,'Courier New',monospace\">╭─────────────────────────── <a href=\"https://www.cbc.ca/news/science/us-fusion-announcement-1.6682497?cmp=rss\" target=\"_blank\">Fusion energy 'breakthrough' revealed by U.S. scientists</a> ────────────────────────────╮\n",
       "│                                                Date: 2022-12-13                                                 │\n",
       "│                                                                                                                 │\n",
       "│      U.S. Energy Secretary Jennifer Granholm announced a \"major scientific breakthrough\" on Tuesday in the      │\n",
       "│                 decades-long quest to harness fusion, the energy that powers the sun and stars.                 │\n",
       "│                                                                                                                 │\n",
       "╰───────────────────────────────────────────── CBC | Technology News ─────────────────────────────────────────────╯\n",
       "</pre>\n"
      ],
      "text/plain": [
       "╭─────────────────────────── \u001b]8;id=251681;https://www.cbc.ca/news/science/us-fusion-announcement-1.6682497?cmp=rss\u001b\\Fusion energy 'breakthrough' revealed by U.S. scientists\u001b]8;;\u001b\\ ────────────────────────────╮\n",
       "│                                                Date: 2022-12-13                                                 │\n",
       "│                                                                                                                 │\n",
       "│      U.S. Energy Secretary Jennifer Granholm announced a \"major scientific breakthrough\" on Tuesday in the      │\n",
       "│                 decades-long quest to harness fusion, the energy that powers the sun and stars.                 │\n",
       "│                                                                                                                 │\n",
       "╰───────────────────────────────────────────── CBC | Technology News ─────────────────────────────────────────────╯\n"
      ]
     },
     "metadata": {},
     "output_type": "display_data"
    },
    {
     "data": {
      "text/html": [
       "<pre style=\"white-space:pre;overflow-x:auto;line-height:normal;font-family:Menlo,'DejaVu Sans Mono',consolas,'Courier New',monospace\">\n",
       "</pre>\n"
      ],
      "text/plain": [
       "\n"
      ]
     },
     "metadata": {},
     "output_type": "display_data"
    },
    {
     "data": {
      "text/html": [
       "<pre style=\"white-space:pre;overflow-x:auto;line-height:normal;font-family:Menlo,'DejaVu Sans Mono',consolas,'Courier New',monospace\">╭───────────────── <a href=\"https://www.thestar.com/news/canada/2022/12/13/scientists-reveal-holy-grail-breakthrough-to-create-limitless-clean-energy.html\" target=\"_blank\">Scientists reveal ‘holy grail’ breakthrough to create limitless clean energy</a> ──────────────────╮\n",
       "│                                                Date: 2022-12-13                                                 │\n",
       "│                                                                                                                 │\n",
       "│  Scientists have taken the first step towards cheap, clean and near unlimited power by harnessing the power of  │\n",
       "│                                the sun, announced the U.S. Department of Energy.                                │\n",
       "│                                                                                                                 │\n",
       "╰───────────────────────────────────────────────── TORONTO STAR ──────────────────────────────────────────────────╯\n",
       "</pre>\n"
      ],
      "text/plain": [
       "╭───────────────── \u001b]8;id=408568;https://www.thestar.com/news/canada/2022/12/13/scientists-reveal-holy-grail-breakthrough-to-create-limitless-clean-energy.html\u001b\\Scientists reveal ‘holy grail’ breakthrough to create limitless clean energy\u001b]8;;\u001b\\ ──────────────────╮\n",
       "│                                                Date: 2022-12-13                                                 │\n",
       "│                                                                                                                 │\n",
       "│  Scientists have taken the first step towards cheap, clean and near unlimited power by harnessing the power of  │\n",
       "│                                the sun, announced the U.S. Department of Energy.                                │\n",
       "│                                                                                                                 │\n",
       "╰───────────────────────────────────────────────── TORONTO STAR ──────────────────────────────────────────────────╯\n"
      ]
     },
     "metadata": {},
     "output_type": "display_data"
    },
    {
     "data": {
      "text/html": [
       "<pre style=\"white-space:pre;overflow-x:auto;line-height:normal;font-family:Menlo,'DejaVu Sans Mono',consolas,'Courier New',monospace\">\n",
       "</pre>\n"
      ],
      "text/plain": [
       "\n"
      ]
     },
     "metadata": {},
     "output_type": "display_data"
    }
   ],
   "source": [
    "r.search(\"fusion\")"
   ]
  },
  {
   "cell_type": "code",
   "execution_count": null,
   "metadata": {},
   "outputs": [],
   "source": [
    "#| hide\n",
    "\n",
    "## To Do:\n",
    "## * Change title of feed\n",
    "## * Command line interface\n",
    "## * User interface\n",
    "## * Share / favourite entries\n",
    "## * Tags"
   ]
  },
  {
   "cell_type": "code",
   "execution_count": null,
   "metadata": {},
   "outputs": [],
   "source": [
    "#| hide\n",
    "import nbdev\n",
    "\n",
    "nbdev.nbdev_export()"
   ]
  }
 ],
 "metadata": {
  "kernelspec": {
   "display_name": "Python 3",
   "language": "python",
   "name": "python3"
  }
 },
 "nbformat": 4,
 "nbformat_minor": 4
}
