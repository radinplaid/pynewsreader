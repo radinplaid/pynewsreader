{
 "cells": [
  {
   "cell_type": "markdown",
   "metadata": {},
   "source": [
    "# core\n",
    "\n",
    "> Main codebase for fetching and saving RSS feeds"
   ]
  },
  {
   "cell_type": "code",
   "execution_count": null,
   "metadata": {},
   "outputs": [],
   "source": [
    "# | default_exp core"
   ]
  },
  {
   "cell_type": "code",
   "execution_count": null,
   "metadata": {},
   "outputs": [],
   "source": [
    "# | hide\n",
    "from nbdev.showdoc import *"
   ]
  },
  {
   "cell_type": "code",
   "execution_count": null,
   "metadata": {},
   "outputs": [],
   "source": [
    "# | export\n",
    "\n",
    "from typing import *\n",
    "\n",
    "import reader\n",
    "from bs4 import BeautifulSoup\n",
    "from rich import print\n",
    "from rich.console import Console\n",
    "from rich.panel import Panel\n",
    "from rich.text import Text\n",
    "\n",
    "console = Console()\n",
    "import logging\n",
    "\n",
    "logger = logging.getLogger(__name__)\n",
    "\n",
    "\n",
    "def strip_html(s: str):\n",
    "    s = BeautifulSoup(s, \"html.parser\")\n",
    "    return s.text"
   ]
  },
  {
   "cell_type": "code",
   "execution_count": null,
   "metadata": {},
   "outputs": [],
   "source": [
    "# | export\n",
    "\n",
    "\n",
    "class Feed:\n",
    "    \"\"\"RSS feed class\"\"\"\n",
    "\n",
    "    def __init__(self, url: str, name: str = None, tags: List[str] = []):\n",
    "        self.url = url\n",
    "        self.name = name\n",
    "        self.tags = tags\n",
    "\n",
    "    def add_tag(self, tag: str):\n",
    "        if tag not in self.tags:\n",
    "            self.tags.append(tag)\n",
    "\n",
    "    def remove_tag(self, tag: str):\n",
    "        if tag in self.tags:\n",
    "            self.tags.remove(tag)"
   ]
  },
  {
   "cell_type": "code",
   "execution_count": null,
   "metadata": {},
   "outputs": [],
   "source": [
    "# | export\n",
    "\n",
    "import rich\n",
    "\n",
    "\n",
    "class PyNewsReader:\n",
    "    def __init__(self, dbpath=None, feeds=List[Feed]):\n",
    "        if dbpath is None:\n",
    "            logger.info(\"Database path not specified, using ./db.sqlite\")\n",
    "            self.dbpath = \"db.sqlite\"\n",
    "        else:\n",
    "            self.dbpath = dbpath\n",
    "\n",
    "        self._reader = reader.make_reader(\n",
    "            self.dbpath, plugins=[\"reader.enclosure_dedupe\", \"reader.entry_dedupe\"]\n",
    "        )\n",
    "\n",
    "        self._reader.enable_search()\n",
    "        self._feed_names = {}\n",
    "\n",
    "    def _print_entries(\n",
    "        self, entries: List[reader.Entry], mark_as_read: bool = True, limit: int = 10\n",
    "    ):\n",
    "        \"\"\"\n",
    "        Pretty print entries - supports reader.Reader.get_entries arguments\n",
    "        \"\"\"\n",
    "        displayed_links = set()\n",
    "        for e in entries:\n",
    "            if e.link in displayed_links:\n",
    "                # Don't display duplicates\n",
    "                self._reader.mark_entry_as_read(e)\n",
    "            else:\n",
    "                displayed_links.add(e.link)\n",
    "                if e.published:\n",
    "                    published_date = \"Date: \" + e.published.isoformat()[:10]\n",
    "                else:\n",
    "                    published_date = \"Date: Unknown\"\n",
    "                if mark_as_read:\n",
    "                    self._reader.mark_entry_as_read(e)\n",
    "\n",
    "                feed_title = f\"[bold]{self._get_feed_title(e.original_feed_url)}[/bold]\"\n",
    "                panel_body = f\"Title: [bold]{e.title}[/bold]\" + \"\\n\"\n",
    "                panel_body += str(published_date) + \"\\n\\n\"\n",
    "                panel_body += strip_html(e.summary).strip() + \"\\n\"\n",
    "\n",
    "                console.print(\n",
    "                    Panel(\n",
    "                        panel_body,\n",
    "                        title=feed_title,\n",
    "                        subtitle=f\"[link={e.link}]{e.link}[/link]\",\n",
    "                    )\n",
    "                )\n",
    "                console.print()\n",
    "            if len(displayed_links) == limit:\n",
    "                return\n",
    "\n",
    "    def _search_to_entry(self, search_result):\n",
    "        for i in self._reader.get_entries():\n",
    "            if i.id == search_result.id and i.feed_url == search_result.feed_url:\n",
    "                return i\n",
    "\n",
    "    def _get_feed_title(self, url: str):\n",
    "        \"\"\"Get display title for pynewsreader feed\n",
    "\n",
    "        Args:\n",
    "            url (str): URL of pynewsreader feed\n",
    "\n",
    "        Returns:\n",
    "            str: Display title\n",
    "        \"\"\"\n",
    "        if url in self._feed_names:\n",
    "            return self._feed_names[url]\n",
    "        elif self._reader.get_feed(url).title:\n",
    "            return self._reader.get_feed(url).title\n",
    "        else:\n",
    "            return self._reader.get_feed(url).url\n",
    "\n",
    "    def update(self):\n",
    "        \"\"\"Update feeds and search\"\"\"\n",
    "        self._reader.update_feeds()\n",
    "        self._reader.update_search()\n",
    "\n",
    "    def _get_entries(\n",
    "        self, important: bool = None, read: Union[None, bool] = None, limit: int = 10\n",
    "    ):\n",
    "        \"\"\"Get entries in reader.Entry format\n",
    "\n",
    "        Args:\n",
    "            read (reader.Entry.read, optional): Filter on `read` status (None, True, False). Defaults to None.\n",
    "            limit (int, optional): Number of entries to return. Defaults to 10.\n",
    "\n",
    "        Returns:\n",
    "            List[reader.Entry]: List of entries\n",
    "        \"\"\"\n",
    "        return self._reader.get_entries(read=read, limit=limit, important=important)\n",
    "\n",
    "    def _get_tags(self, entry: reader.Entry):\n",
    "        \"\"\"Get tags for a given entry\"\"\"\n",
    "        # To set a tag:\n",
    "        # r._reader.set_tag(test[0], \"foobar\")\n",
    "        # To delete a tag:\n",
    "        # r._reader.delete_tag(test[0], \"foobar\")\n",
    "        return [i[0] for i in list(self._reader.get_tags(entry))]\n",
    "\n",
    "    def add_feed(self, feed: Union[Feed, str]):\n",
    "        \"\"\"Add feed to pynewsreader\n",
    "\n",
    "        Args:\n",
    "            feed (Feed): pynewsreader Feed to add\n",
    "        \"\"\"\n",
    "        if isinstance(feed, Feed):\n",
    "            self._feed_names[feed.url] = feed.name\n",
    "            self._reader.add_feed(feed.url, exist_ok=True)\n",
    "        elif isinstance(feed, str):\n",
    "            self._reader.add_feed(feed, exist_ok=True)\n",
    "        else:\n",
    "            raise Exception(\"Must be str or Feed type to add\")\n",
    "            \n",
    "\n",
    "    def remove_feed(self, feed: Feed):\n",
    "        \"\"\"Remove feed from pynewsreader instance\n",
    "\n",
    "        Args:\n",
    "            feed (Feed): Feed to remove\n",
    "        \"\"\"\n",
    "\n",
    "        self._reader.delete_feed(feed.url)\n",
    "\n",
    "    def feeds(self):\n",
    "        \"\"\"List pynewsreader feeds\n",
    "\n",
    "        Returns:\n",
    "            List[str]: List of names of current pynewsreader feeds\n",
    "        \"\"\"\n",
    "        return [self._get_feed_title(i.url) for i in self._reader.get_feeds()]\n",
    "\n",
    "    def show(\n",
    "        self,\n",
    "        limit: int = 6,\n",
    "        read: bool = False,\n",
    "        important: bool = None,\n",
    "        mark_as_read: bool = True,\n",
    "    ):\n",
    "        \"\"\"Pretty print entries\n",
    "\n",
    "        Args:\n",
    "            limit (int, optional): Number of entries to show. Defaults to 5.\n",
    "            read (bool, optional): Show read entries (True), unread entries (False), or all entries (None). Defaults to None.\n",
    "            mark_as_read (bool, optional): Mark displayed entries as read. Defaults to False.\n",
    "        \"\"\"\n",
    "        self._print_entries(\n",
    "            self._get_entries(read=read, important=important, limit=limit * 2),\n",
    "            limit=limit,\n",
    "            mark_as_read=mark_as_read,\n",
    "        )\n",
    "\n",
    "    def search(self, query: str, mark_as_read: bool = True, limit: int = 10):\n",
    "        \"\"\"Search entries and pretty print results\n",
    "\n",
    "        Args:\n",
    "            query (str): Search query\n",
    "            mark_as_read (bool, optional): Mark results as read? Defaults to True.\n",
    "        \"\"\"\n",
    "        self._print_entries(\n",
    "            [self._search_to_entry(i) for i in self._reader.search_entries(query)],\n",
    "            mark_as_read=mark_as_read,\n",
    "            limit=limit,\n",
    "        )\n",
    "\n",
    "    def _mark_important(self, entry: reader.Entry):\n",
    "        \"\"\"Mark entry as important\n",
    "\n",
    "        Args:\n",
    "            entry (reader.Entry): Entry to mark as important\n",
    "        \"\"\"\n",
    "        reader.Reader.mark_entry_as_important(entry)\n",
    "\n",
    "    def _mark_unimportant(self, entry: reader.Entry):\n",
    "        \"\"\"Mark entry as important\n",
    "\n",
    "        Args:\n",
    "            entry (reader.Entry): Entry to mark as important\n",
    "        \"\"\"\n",
    "        reader.Reader.mark_entry_as_unimportant(entry)\n",
    "\n",
    "    def _add_tag(self, entry: reader.Entry, tag_key: str, tag_value: Dict = None):\n",
    "        \"\"\"Add tag to entry\n",
    "\n",
    "        Args:\n",
    "            entry (reader.Entry): Entry to tag\n",
    "            tag_key (str): Key of tag\n",
    "            tag_value (Dict, optional): Value of tag. Defaults to None.\n",
    "        \"\"\"\n",
    "        reader.Reader.set_tag(entry, tag_key, tag_value)\n",
    "\n",
    "    def _remove_tag(self, entry: reader.Entry, tag_key: str):\n",
    "        \"\"\"Remove tag from entry\n",
    "\n",
    "        Args:\n",
    "            entry (reader.Entry): Entry to tag\n",
    "            tag_key (str): Key of tag\n",
    "        \"\"\"\n",
    "        self._reader.delete_tag(entry, tag_key)"
   ]
  },
  {
   "cell_type": "code",
   "execution_count": null,
   "metadata": {},
   "outputs": [],
   "source": [
    "r = PyNewsReader()"
   ]
  },
  {
   "cell_type": "markdown",
   "metadata": {},
   "source": [
    "## Add Feeds"
   ]
  },
  {
   "cell_type": "code",
   "execution_count": null,
   "metadata": {},
   "outputs": [],
   "source": [
    "# With names\n",
    "for i in [\n",
    "    Feed(url=\"https://ricochet.media/en/feed\", name=\"Richochet Media\"),\n",
    "    Feed(url=\"https://thetyee.ca/rss2.xml\", name=\"The Tyee\"),\n",
    "    Feed(\n",
    "        url=\"https://www.thestar.com/content/thestar/feed.RSSManagerServlet.articles.topstories.rss\",\n",
    "        name=\"Toronto Star | Top Stories\",\n",
    "    ),\n",
    "    Feed(\n",
    "        url=\"https://www.thestar.com/content/thestar/feed.RSSManagerServlet.articles.news.investigations.rss\",\n",
    "        name=\"Toronto Star | Investigations\",\n",
    "    ),\n",
    "    Feed(\n",
    "        url=\"https://www.thestar.com/content/thestar/feed.RSSManagerServlet.articles.opinion.editorials.rss\",\n",
    "        name=\"Toronto Star | Editorials\",\n",
    "    ),\n",
    "    Feed(url=\"https://www.macleans.ca/feed/\", name=\"Macleans\"),\n",
    "]:\n",
    "    r.add_feed(i)\n",
    "\n",
    "# Use the default name from the feed\n",
    "for i in [\n",
    "    \"https://rss.cbc.ca/lineup/topstories.xml\",\n",
    "    \"https://rss.cbc.ca/lineup/world.xml\",\n",
    "    \"https://rss.cbc.ca/lineup/canada.xml\",\n",
    "    \"https://rss.cbc.ca/lineup/business.xml\",\n",
    "    \"https://rss.cbc.ca/lineup/technology.xml\",\n",
    "    \"https://www.cbc.ca/cmlink/rss-canada-ottawa\",\n",
    "    \"https://thenarwhal.ca/feed/\",\n",
    "]:\n",
    "    r.add_feed(Feed(i))"
   ]
  },
  {
   "cell_type": "markdown",
   "metadata": {},
   "source": [
    "## List Feeds"
   ]
  },
  {
   "cell_type": "code",
   "execution_count": null,
   "metadata": {},
   "outputs": [
    {
     "data": {
      "text/plain": [
       "['Richochet Media',\n",
       " None,\n",
       " None,\n",
       " None,\n",
       " None,\n",
       " None,\n",
       " None,\n",
       " 'Macleans',\n",
       " None,\n",
       " 'The Tyee',\n",
       " 'Toronto Star | Investigations',\n",
       " 'Toronto Star | Editorials',\n",
       " 'Toronto Star | Top Stories']"
      ]
     },
     "execution_count": null,
     "metadata": {},
     "output_type": "execute_result"
    }
   ],
   "source": [
    "r.feeds()"
   ]
  },
  {
   "cell_type": "markdown",
   "metadata": {},
   "source": [
    "## Update Feeds"
   ]
  },
  {
   "cell_type": "code",
   "execution_count": null,
   "metadata": {},
   "outputs": [],
   "source": [
    "r.update()"
   ]
  },
  {
   "cell_type": "markdown",
   "metadata": {},
   "source": [
    "## Display Entries\n",
    "\n",
    "`read` = None shows all entries\n",
    "\n",
    "`read` = False shows only unread entries\n",
    "\n",
    "`read` = True shows only read entries"
   ]
  },
  {
   "cell_type": "code",
   "execution_count": null,
   "metadata": {},
   "outputs": [
    {
     "data": {
      "text/html": [
       "<pre style=\"white-space:pre;overflow-x:auto;line-height:normal;font-family:Menlo,'DejaVu Sans Mono',consolas,'Courier New',monospace\">╭───────────────────────────────────────────────────── <span style=\"font-weight: bold\">None</span> ──────────────────────────────────────────────────────╮\n",
       "│ Title: <span style=\"font-weight: bold\">Canada among 4 countries launching effort to hold Iran accountable for shooting down Flight PS752</span>        │\n",
       "│ Date: 2022-12-28                                                                                                │\n",
       "│                                                                                                                 │\n",
       "│                                                                                                                 │\n",
       "│                                                                                                                 │\n",
       "╰──────────── <a href=\"https://www.cbc.ca/news/politics/canada-trigger-convention-iran-ps752-1.6698758?cmp=rss\" target=\"_blank\">https://www.cbc.ca/news/politics/canada-trigger-convention-iran-ps752-1.6698758?cmp=rss</a> ────────────╯\n",
       "</pre>\n"
      ],
      "text/plain": [
       "╭───────────────────────────────────────────────────── \u001b[1mNone\u001b[0m ──────────────────────────────────────────────────────╮\n",
       "│ Title: \u001b[1mCanada among 4 countries launching effort to hold Iran accountable for shooting down Flight PS752\u001b[0m        │\n",
       "│ Date: 2022-12-28                                                                                                │\n",
       "│                                                                                                                 │\n",
       "│                                                                                                                 │\n",
       "│                                                                                                                 │\n",
       "╰──────────── \u001b]8;id=863702;https://www.cbc.ca/news/politics/canada-trigger-convention-iran-ps752-1.6698758?cmp=rss\u001b\\https://www.cbc.ca/news/politics/canada-trigger-convention-iran-ps752-1.6698758?cmp=rss\u001b]8;;\u001b\\ ────────────╯\n"
      ]
     },
     "metadata": {},
     "output_type": "display_data"
    },
    {
     "data": {
      "text/html": [
       "<pre style=\"white-space:pre;overflow-x:auto;line-height:normal;font-family:Menlo,'DejaVu Sans Mono',consolas,'Courier New',monospace\">\n",
       "</pre>\n"
      ],
      "text/plain": [
       "\n"
      ]
     },
     "metadata": {},
     "output_type": "display_data"
    },
    {
     "data": {
      "text/html": [
       "<pre style=\"white-space:pre;overflow-x:auto;line-height:normal;font-family:Menlo,'DejaVu Sans Mono',consolas,'Courier New',monospace\">╭───────────────────────────────────────────────────── <span style=\"font-weight: bold\">None</span> ──────────────────────────────────────────────────────╮\n",
       "│ Title: <span style=\"font-weight: bold\">NASA mulls SpaceX backup plan for crew of Russia's leaky Soyuz ship</span>                                      │\n",
       "│ Date: 2022-12-28                                                                                                │\n",
       "│                                                                                                                 │\n",
       "│ Following a coolant leak on a Soyuz capsule earlier this month, three members of the International Space        │\n",
       "│ Station might need an alternative ride home.                                                                    │\n",
       "│                                                                                                                 │\n",
       "╰──────────── <a href=\"https://www.cbc.ca/news/science/nasa-spacex-russia-soyuz-coolant-leak-1.6698775?cmp=rss\" target=\"_blank\">https://www.cbc.ca/news/science/nasa-spacex-russia-soyuz-coolant-leak-1.6698775?cmp=rss</a> ────────────╯\n",
       "</pre>\n"
      ],
      "text/plain": [
       "╭───────────────────────────────────────────────────── \u001b[1mNone\u001b[0m ──────────────────────────────────────────────────────╮\n",
       "│ Title: \u001b[1mNASA mulls SpaceX backup plan for crew of Russia's leaky Soyuz ship\u001b[0m                                      │\n",
       "│ Date: 2022-12-28                                                                                                │\n",
       "│                                                                                                                 │\n",
       "│ Following a coolant leak on a Soyuz capsule earlier this month, three members of the International Space        │\n",
       "│ Station might need an alternative ride home.                                                                    │\n",
       "│                                                                                                                 │\n",
       "╰──────────── \u001b]8;id=247281;https://www.cbc.ca/news/science/nasa-spacex-russia-soyuz-coolant-leak-1.6698775?cmp=rss\u001b\\https://www.cbc.ca/news/science/nasa-spacex-russia-soyuz-coolant-leak-1.6698775?cmp=rss\u001b]8;;\u001b\\ ────────────╯\n"
      ]
     },
     "metadata": {},
     "output_type": "display_data"
    },
    {
     "data": {
      "text/html": [
       "<pre style=\"white-space:pre;overflow-x:auto;line-height:normal;font-family:Menlo,'DejaVu Sans Mono',consolas,'Courier New',monospace\">\n",
       "</pre>\n"
      ],
      "text/plain": [
       "\n"
      ]
     },
     "metadata": {},
     "output_type": "display_data"
    },
    {
     "data": {
      "text/html": [
       "<pre style=\"white-space:pre;overflow-x:auto;line-height:normal;font-family:Menlo,'DejaVu Sans Mono',consolas,'Courier New',monospace\">╭───────────────────────────────────────────────────── <span style=\"font-weight: bold\">None</span> ──────────────────────────────────────────────────────╮\n",
       "│ Title: <span style=\"font-weight: bold\">Kingston Police appoint interim chief as former chief set to retire</span>                                      │\n",
       "│ Date: 2022-12-28                                                                                                │\n",
       "│                                                                                                                 │\n",
       "│ Kingston will start the new year with a new interim police chief, as former Chief Antje McNeely steps down from │\n",
       "│ the role before easing into retirement.                                                                         │\n",
       "│                                                                                                                 │\n",
       "╰───────────── <a href=\"https://www.cbc.ca/news/canada/ottawa/kingston-police-interim-chief-1.6698740?cmp=rss\" target=\"_blank\">https://www.cbc.ca/news/canada/ottawa/kingston-police-interim-chief-1.6698740?cmp=rss</a> ─────────────╯\n",
       "</pre>\n"
      ],
      "text/plain": [
       "╭───────────────────────────────────────────────────── \u001b[1mNone\u001b[0m ──────────────────────────────────────────────────────╮\n",
       "│ Title: \u001b[1mKingston Police appoint interim chief as former chief set to retire\u001b[0m                                      │\n",
       "│ Date: 2022-12-28                                                                                                │\n",
       "│                                                                                                                 │\n",
       "│ Kingston will start the new year with a new interim police chief, as former Chief Antje McNeely steps down from │\n",
       "│ the role before easing into retirement.                                                                         │\n",
       "│                                                                                                                 │\n",
       "╰───────────── \u001b]8;id=566991;https://www.cbc.ca/news/canada/ottawa/kingston-police-interim-chief-1.6698740?cmp=rss\u001b\\https://www.cbc.ca/news/canada/ottawa/kingston-police-interim-chief-1.6698740?cmp=rss\u001b]8;;\u001b\\ ─────────────╯\n"
      ]
     },
     "metadata": {},
     "output_type": "display_data"
    },
    {
     "data": {
      "text/html": [
       "<pre style=\"white-space:pre;overflow-x:auto;line-height:normal;font-family:Menlo,'DejaVu Sans Mono',consolas,'Courier New',monospace\">\n",
       "</pre>\n"
      ],
      "text/plain": [
       "\n"
      ]
     },
     "metadata": {},
     "output_type": "display_data"
    },
    {
     "data": {
      "text/html": [
       "<pre style=\"white-space:pre;overflow-x:auto;line-height:normal;font-family:Menlo,'DejaVu Sans Mono',consolas,'Courier New',monospace\">╭───────────────────────────────────────────────────── <span style=\"font-weight: bold\">None</span> ──────────────────────────────────────────────────────╮\n",
       "│ Title: <span style=\"font-weight: bold\">Skip the doctor, see a pharmacist: 13 conditions you can have treated at an Ontario pharmacy in 2023</span>     │\n",
       "│ Date: 2022-12-28                                                                                                │\n",
       "│                                                                                                                 │\n",
       "│ Ontario pharmacies will officially be able to assess and prescribe medication for 13 common ailments as of Jan. │\n",
       "│ 1. People will not be required to pay out of pocket for pharmacist visits.                                      │\n",
       "│                                                                                                                 │\n",
       "╰─────────── <a href=\"https://www.cbc.ca/news/canada/toronto/ontario-pharmacies-prescriptions-1.6698703?cmp=rss\" target=\"_blank\">https://www.cbc.ca/news/canada/toronto/ontario-pharmacies-prescriptions-1.6698703?cmp=rss</a> ───────────╯\n",
       "</pre>\n"
      ],
      "text/plain": [
       "╭───────────────────────────────────────────────────── \u001b[1mNone\u001b[0m ──────────────────────────────────────────────────────╮\n",
       "│ Title: \u001b[1mSkip the doctor, see a pharmacist: 13 conditions you can have treated at an Ontario pharmacy in 2023\u001b[0m     │\n",
       "│ Date: 2022-12-28                                                                                                │\n",
       "│                                                                                                                 │\n",
       "│ Ontario pharmacies will officially be able to assess and prescribe medication for 13 common ailments as of Jan. │\n",
       "│ 1. People will not be required to pay out of pocket for pharmacist visits.                                      │\n",
       "│                                                                                                                 │\n",
       "╰─────────── \u001b]8;id=795118;https://www.cbc.ca/news/canada/toronto/ontario-pharmacies-prescriptions-1.6698703?cmp=rss\u001b\\https://www.cbc.ca/news/canada/toronto/ontario-pharmacies-prescriptions-1.6698703?cmp=rss\u001b]8;;\u001b\\ ───────────╯\n"
      ]
     },
     "metadata": {},
     "output_type": "display_data"
    },
    {
     "data": {
      "text/html": [
       "<pre style=\"white-space:pre;overflow-x:auto;line-height:normal;font-family:Menlo,'DejaVu Sans Mono',consolas,'Courier New',monospace\">\n",
       "</pre>\n"
      ],
      "text/plain": [
       "\n"
      ]
     },
     "metadata": {},
     "output_type": "display_data"
    },
    {
     "data": {
      "text/html": [
       "<pre style=\"white-space:pre;overflow-x:auto;line-height:normal;font-family:Menlo,'DejaVu Sans Mono',consolas,'Courier New',monospace\">╭───────────────────────────────────────────────────── <span style=\"font-weight: bold\">None</span> ──────────────────────────────────────────────────────╮\n",
       "│ Title: <span style=\"font-weight: bold\">1 killed, 9 injured in 14-vehicle crash north of Calgary</span>                                                 │\n",
       "│ Date: 2022-12-28                                                                                                │\n",
       "│                                                                                                                 │\n",
       "│ One person was killed and nine people were injured after a 14-vehicle collision north of Calgary late Tuesday   │\n",
       "│ night, RCMP said in releases.                                                                                   │\n",
       "│                                                                                                                 │\n",
       "╰─ <a href=\"https://www.cbc.ca/news/canada/calgary/fires-injuries-reported-after-massive-multi-vehicle-collision-north-of-calgary-1.6698649?cmp=rss\" target=\"_blank\">https://www.cbc.ca/news/canada/calgary/fires-injuries-reported-after-massive-multi-vehicle-collision-north-of-</a>─╯\n",
       "</pre>\n"
      ],
      "text/plain": [
       "╭───────────────────────────────────────────────────── \u001b[1mNone\u001b[0m ──────────────────────────────────────────────────────╮\n",
       "│ Title: \u001b[1m1 killed, 9 injured in 14-vehicle crash north of Calgary\u001b[0m                                                 │\n",
       "│ Date: 2022-12-28                                                                                                │\n",
       "│                                                                                                                 │\n",
       "│ One person was killed and nine people were injured after a 14-vehicle collision north of Calgary late Tuesday   │\n",
       "│ night, RCMP said in releases.                                                                                   │\n",
       "│                                                                                                                 │\n",
       "╰─ \u001b]8;id=443600;https://www.cbc.ca/news/canada/calgary/fires-injuries-reported-after-massive-multi-vehicle-collision-north-of-calgary-1.6698649?cmp=rss\u001b\\https://www.cbc.ca/news/canada/calgary/fires-injuries-reported-after-massive-multi-vehicle-collision-north-of-\u001b]8;;\u001b\\─╯\n"
      ]
     },
     "metadata": {},
     "output_type": "display_data"
    },
    {
     "data": {
      "text/html": [
       "<pre style=\"white-space:pre;overflow-x:auto;line-height:normal;font-family:Menlo,'DejaVu Sans Mono',consolas,'Courier New',monospace\">\n",
       "</pre>\n"
      ],
      "text/plain": [
       "\n"
      ]
     },
     "metadata": {},
     "output_type": "display_data"
    }
   ],
   "source": [
    "r.show(limit=5, read=None, mark_as_read=False)"
   ]
  },
  {
   "cell_type": "markdown",
   "metadata": {},
   "source": [
    "## Search Entries"
   ]
  },
  {
   "cell_type": "code",
   "execution_count": null,
   "metadata": {},
   "outputs": [
    {
     "data": {
      "text/html": [
       "<pre style=\"white-space:pre;overflow-x:auto;line-height:normal;font-family:Menlo,'DejaVu Sans Mono',consolas,'Courier New',monospace\">╭───────────────────────────────────────────────────── <span style=\"font-weight: bold\">None</span> ──────────────────────────────────────────────────────╮\n",
       "│ Title: <span style=\"font-weight: bold\">Why burning plasma could be the next milestone in nuclear fusion research</span>                                │\n",
       "│ Date: 2022-12-16                                                                                                │\n",
       "│                                                                                                                 │\n",
       "│ Bob McDonald's blog: A laser fusion experiment in the U.S. produced more energy out than went into driving it,  │\n",
       "│ which is an important step. But practical fusion power will likely come from a different technology and is      │\n",
       "│ still many years away.                                                                                          │\n",
       "│                                                                                                                 │\n",
       "╰─ <a href=\"https://www.cbc.ca/radio/quirks/why-burning-plasma-could-be-the-next-milestone-in-nuclear-fusion-research-1.6687322?cmp=rss\" target=\"_blank\">https://www.cbc.ca/radio/quirks/why-burning-plasma-could-be-the-next-milestone-in-nuclear-fusion-research-1.66</a>─╯\n",
       "</pre>\n"
      ],
      "text/plain": [
       "╭───────────────────────────────────────────────────── \u001b[1mNone\u001b[0m ──────────────────────────────────────────────────────╮\n",
       "│ Title: \u001b[1mWhy burning plasma could be the next milestone in nuclear fusion research\u001b[0m                                │\n",
       "│ Date: 2022-12-16                                                                                                │\n",
       "│                                                                                                                 │\n",
       "│ Bob McDonald's blog: A laser fusion experiment in the U.S. produced more energy out than went into driving it,  │\n",
       "│ which is an important step. But practical fusion power will likely come from a different technology and is      │\n",
       "│ still many years away.                                                                                          │\n",
       "│                                                                                                                 │\n",
       "╰─ \u001b]8;id=642260;https://www.cbc.ca/radio/quirks/why-burning-plasma-could-be-the-next-milestone-in-nuclear-fusion-research-1.6687322?cmp=rss\u001b\\https://www.cbc.ca/radio/quirks/why-burning-plasma-could-be-the-next-milestone-in-nuclear-fusion-research-1.66\u001b]8;;\u001b\\─╯\n"
      ]
     },
     "metadata": {},
     "output_type": "display_data"
    },
    {
     "data": {
      "text/html": [
       "<pre style=\"white-space:pre;overflow-x:auto;line-height:normal;font-family:Menlo,'DejaVu Sans Mono',consolas,'Courier New',monospace\">\n",
       "</pre>\n"
      ],
      "text/plain": [
       "\n"
      ]
     },
     "metadata": {},
     "output_type": "display_data"
    },
    {
     "data": {
      "text/html": [
       "<pre style=\"white-space:pre;overflow-x:auto;line-height:normal;font-family:Menlo,'DejaVu Sans Mono',consolas,'Courier New',monospace\">╭───────────────────────────────────────────────────── <span style=\"font-weight: bold\">None</span> ──────────────────────────────────────────────────────╮\n",
       "│ Title: <span style=\"font-weight: bold\">Fusion energy 'breakthrough' revealed by U.S. scientists</span>                                                 │\n",
       "│ Date: 2022-12-13                                                                                                │\n",
       "│                                                                                                                 │\n",
       "│ U.S. Energy Secretary Jennifer Granholm announced a \"major scientific breakthrough\" on Tuesday in the           │\n",
       "│ decades-long quest to harness fusion, the energy that powers the sun and stars.                                 │\n",
       "│                                                                                                                 │\n",
       "╰─────────────────── <a href=\"https://www.cbc.ca/news/science/us-fusion-announcement-1.6682497?cmp=rss\" target=\"_blank\">https://www.cbc.ca/news/science/us-fusion-announcement-1.6682497?cmp=rss</a> ────────────────────╯\n",
       "</pre>\n"
      ],
      "text/plain": [
       "╭───────────────────────────────────────────────────── \u001b[1mNone\u001b[0m ──────────────────────────────────────────────────────╮\n",
       "│ Title: \u001b[1mFusion energy 'breakthrough' revealed by U.S. scientists\u001b[0m                                                 │\n",
       "│ Date: 2022-12-13                                                                                                │\n",
       "│                                                                                                                 │\n",
       "│ U.S. Energy Secretary Jennifer Granholm announced a \"major scientific breakthrough\" on Tuesday in the           │\n",
       "│ decades-long quest to harness fusion, the energy that powers the sun and stars.                                 │\n",
       "│                                                                                                                 │\n",
       "╰─────────────────── \u001b]8;id=358437;https://www.cbc.ca/news/science/us-fusion-announcement-1.6682497?cmp=rss\u001b\\https://www.cbc.ca/news/science/us-fusion-announcement-1.6682497?cmp=rss\u001b]8;;\u001b\\ ────────────────────╯\n"
      ]
     },
     "metadata": {},
     "output_type": "display_data"
    },
    {
     "data": {
      "text/html": [
       "<pre style=\"white-space:pre;overflow-x:auto;line-height:normal;font-family:Menlo,'DejaVu Sans Mono',consolas,'Courier New',monospace\">\n",
       "</pre>\n"
      ],
      "text/plain": [
       "\n"
      ]
     },
     "metadata": {},
     "output_type": "display_data"
    },
    {
     "data": {
      "text/html": [
       "<pre style=\"white-space:pre;overflow-x:auto;line-height:normal;font-family:Menlo,'DejaVu Sans Mono',consolas,'Courier New',monospace\">╭───────────────────────────────────────────────────── <span style=\"font-weight: bold\">None</span> ──────────────────────────────────────────────────────╮\n",
       "│ Title: <span style=\"font-weight: bold\">What is nuclear fusion and why is it such a big deal?</span>                                                    │\n",
       "│ Date: 2022-12-13                                                                                                │\n",
       "│                                                                                                                 │\n",
       "│ The U.S. Department of Energy on Tuesday announced a breakthrough in nuclear fusion, a way of producing clean   │\n",
       "│ energy that scientists have been working on since the 1940s. So what exactly is it, why is it so important and  │\n",
       "│ what does it mean for the future?                                                                               │\n",
       "│                                                                                                                 │\n",
       "╰────────────────── <a href=\"https://www.cbc.ca/news/science/nuclear-fusion-explainer-1.6684298?cmp=rss\" target=\"_blank\">https://www.cbc.ca/news/science/nuclear-fusion-explainer-1.6684298?cmp=rss</a> ───────────────────╯\n",
       "</pre>\n"
      ],
      "text/plain": [
       "╭───────────────────────────────────────────────────── \u001b[1mNone\u001b[0m ──────────────────────────────────────────────────────╮\n",
       "│ Title: \u001b[1mWhat is nuclear fusion and why is it such a big deal?\u001b[0m                                                    │\n",
       "│ Date: 2022-12-13                                                                                                │\n",
       "│                                                                                                                 │\n",
       "│ The U.S. Department of Energy on Tuesday announced a breakthrough in nuclear fusion, a way of producing clean   │\n",
       "│ energy that scientists have been working on since the 1940s. So what exactly is it, why is it so important and  │\n",
       "│ what does it mean for the future?                                                                               │\n",
       "│                                                                                                                 │\n",
       "╰────────────────── \u001b]8;id=145332;https://www.cbc.ca/news/science/nuclear-fusion-explainer-1.6684298?cmp=rss\u001b\\https://www.cbc.ca/news/science/nuclear-fusion-explainer-1.6684298?cmp=rss\u001b]8;;\u001b\\ ───────────────────╯\n"
      ]
     },
     "metadata": {},
     "output_type": "display_data"
    },
    {
     "data": {
      "text/html": [
       "<pre style=\"white-space:pre;overflow-x:auto;line-height:normal;font-family:Menlo,'DejaVu Sans Mono',consolas,'Courier New',monospace\">\n",
       "</pre>\n"
      ],
      "text/plain": [
       "\n"
      ]
     },
     "metadata": {},
     "output_type": "display_data"
    },
    {
     "data": {
      "text/html": [
       "<pre style=\"white-space:pre;overflow-x:auto;line-height:normal;font-family:Menlo,'DejaVu Sans Mono',consolas,'Courier New',monospace\">╭───────────────────────────────────────────────────── <span style=\"font-weight: bold\">None</span> ──────────────────────────────────────────────────────╮\n",
       "│ Title: <span style=\"font-weight: bold\">The cannabis industry has a plastic waste problem — but some are finding solutions</span>                       │\n",
       "│ Date: 2022-12-15                                                                                                │\n",
       "│                                                                                                                 │\n",
       "│ In this week's issue of our environment newsletter, we look at the plastic waste produced in the cannabis       │\n",
       "│ industry and what this week's announcement about nuclear fusion means for the future of clean energy.           │\n",
       "│                                                                                                                 │\n",
       "╰──────────── <a href=\"https://www.cbc.ca/news/science/what-on-earth-cannabis-plastic-waste-1.6687271?cmp=rss\" target=\"_blank\">https://www.cbc.ca/news/science/what-on-earth-cannabis-plastic-waste-1.6687271?cmp=rss</a> ─────────────╯\n",
       "</pre>\n"
      ],
      "text/plain": [
       "╭───────────────────────────────────────────────────── \u001b[1mNone\u001b[0m ──────────────────────────────────────────────────────╮\n",
       "│ Title: \u001b[1mThe cannabis industry has a plastic waste problem — but some are finding solutions\u001b[0m                       │\n",
       "│ Date: 2022-12-15                                                                                                │\n",
       "│                                                                                                                 │\n",
       "│ In this week's issue of our environment newsletter, we look at the plastic waste produced in the cannabis       │\n",
       "│ industry and what this week's announcement about nuclear fusion means for the future of clean energy.           │\n",
       "│                                                                                                                 │\n",
       "╰──────────── \u001b]8;id=596910;https://www.cbc.ca/news/science/what-on-earth-cannabis-plastic-waste-1.6687271?cmp=rss\u001b\\https://www.cbc.ca/news/science/what-on-earth-cannabis-plastic-waste-1.6687271?cmp=rss\u001b]8;;\u001b\\ ─────────────╯\n"
      ]
     },
     "metadata": {},
     "output_type": "display_data"
    },
    {
     "data": {
      "text/html": [
       "<pre style=\"white-space:pre;overflow-x:auto;line-height:normal;font-family:Menlo,'DejaVu Sans Mono',consolas,'Courier New',monospace\">\n",
       "</pre>\n"
      ],
      "text/plain": [
       "\n"
      ]
     },
     "metadata": {},
     "output_type": "display_data"
    }
   ],
   "source": [
    "r.search(\"fusion\")"
   ]
  },
  {
   "cell_type": "markdown",
   "metadata": {},
   "source": [
    "## Tag Entry"
   ]
  },
  {
   "cell_type": "code",
   "execution_count": null,
   "metadata": {},
   "outputs": [],
   "source": [
    "test = list(r._reader.get_entries())"
   ]
  },
  {
   "cell_type": "code",
   "execution_count": null,
   "metadata": {},
   "outputs": [],
   "source": [
    "r._reader.set_tag(test[0], \"foobar\")"
   ]
  },
  {
   "cell_type": "code",
   "execution_count": null,
   "metadata": {},
   "outputs": [
    {
     "data": {
      "text/plain": [
       "[('foobar', None)]"
      ]
     },
     "execution_count": null,
     "metadata": {},
     "output_type": "execute_result"
    }
   ],
   "source": [
    "list(r._reader.get_tags(test[0]))"
   ]
  },
  {
   "cell_type": "code",
   "execution_count": null,
   "metadata": {},
   "outputs": [
    {
     "data": {
      "text/plain": [
       "['foobar']"
      ]
     },
     "execution_count": null,
     "metadata": {},
     "output_type": "execute_result"
    }
   ],
   "source": [
    "# We added a method to just return the tag key:\n",
    "r._get_tags(test[0])"
   ]
  },
  {
   "cell_type": "markdown",
   "metadata": {},
   "source": [
    "## Mark as Important"
   ]
  },
  {
   "cell_type": "code",
   "execution_count": null,
   "metadata": {},
   "outputs": [],
   "source": [
    "r._reader.mark_entry_as_important(test[0])"
   ]
  },
  {
   "cell_type": "markdown",
   "metadata": {},
   "source": [
    "## Mark as unimportant"
   ]
  },
  {
   "cell_type": "code",
   "execution_count": null,
   "metadata": {},
   "outputs": [],
   "source": [
    "r._reader.mark_entry_as_unimportant(test[0])"
   ]
  },
  {
   "cell_type": "markdown",
   "metadata": {},
   "source": [
    "## Mark as Read"
   ]
  },
  {
   "cell_type": "code",
   "execution_count": null,
   "metadata": {},
   "outputs": [],
   "source": [
    "r._reader.mark_entry_as_read(test[0])"
   ]
  },
  {
   "cell_type": "markdown",
   "metadata": {},
   "source": [
    "## Remove tag from entry"
   ]
  },
  {
   "cell_type": "code",
   "execution_count": null,
   "metadata": {},
   "outputs": [],
   "source": [
    "r._reader.delete_tag(test[0], \"foobar\")"
   ]
  },
  {
   "cell_type": "code",
   "execution_count": null,
   "metadata": {},
   "outputs": [
    {
     "data": {
      "text/plain": [
       "[]"
      ]
     },
     "execution_count": null,
     "metadata": {},
     "output_type": "execute_result"
    }
   ],
   "source": [
    "list(r._get_tags(test[0]))"
   ]
  },
  {
   "cell_type": "markdown",
   "metadata": {},
   "source": [
    "## Automatically mark entries as read"
   ]
  },
  {
   "cell_type": "code",
   "execution_count": null,
   "metadata": {},
   "outputs": [],
   "source": [
    "def mark_matching_entries_as_read(r, match_strings=[]):\n",
    "    assert isinstance(match_strings, list)\n",
    "    for i in r._reader.get_entries():\n",
    "        for filter_string in match_strings:\n",
    "            if filter_string in i.title:\n",
    "                r._reader.mark_entry_as_read(i)"
   ]
  },
  {
   "cell_type": "code",
   "execution_count": null,
   "metadata": {},
   "outputs": [
    {
     "name": "stdout",
     "output_type": "stream",
     "text": [
      "CPU times: user 35.3 ms, sys: 0 ns, total: 35.3 ms\n",
      "Wall time: 45.7 ms\n"
     ]
    }
   ],
   "source": [
    "%%time\n",
    "mark_matching_entries_as_read(r, [\"Apple\"])"
   ]
  },
  {
   "cell_type": "markdown",
   "metadata": {},
   "source": [
    "## CLI"
   ]
  },
  {
   "cell_type": "code",
   "execution_count": null,
   "metadata": {},
   "outputs": [],
   "source": [
    "# | export\n",
    "import fire\n",
    "\n",
    "\n",
    "def main():\n",
    "    fire.Fire(PyNewsReader)\n"
   ]
  },
  {
   "cell_type": "code",
   "execution_count": null,
   "metadata": {},
   "outputs": [],
   "source": [
    "# | hide\n",
    "\n",
    "# To Do:\n",
    "# * Functions to mark entries as read before actually seeing them - accept an interable or entries and mark entries\n",
    "# * User interface\n",
    "# * Use pathlib to store database in ~.cache/pynewsreader"
   ]
  },
  {
   "cell_type": "code",
   "execution_count": null,
   "metadata": {},
   "outputs": [],
   "source": [
    "# | hide\n",
    "import nbdev\n",
    "\n",
    "nbdev.nbdev_export()"
   ]
  }
 ],
 "metadata": {
  "kernelspec": {
   "display_name": "Python 3 (ipykernel)",
   "language": "python",
   "name": "python3"
  }
 },
 "nbformat": 4,
 "nbformat_minor": 4
}
