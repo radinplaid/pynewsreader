{
 "cells": [
  {
   "cell_type": "markdown",
   "metadata": {},
   "source": [
    "# core\n",
    "\n",
    "> Main codebase for fetching and saving RSS feeds"
   ]
  },
  {
   "cell_type": "code",
   "execution_count": null,
   "metadata": {},
   "outputs": [],
   "source": [
    "# | default_exp core"
   ]
  },
  {
   "cell_type": "code",
   "execution_count": null,
   "metadata": {},
   "outputs": [],
   "source": [
    "# | hide\n",
    "from nbdev.showdoc import *"
   ]
  },
  {
   "cell_type": "code",
   "execution_count": null,
   "metadata": {},
   "outputs": [],
   "source": [
    "# | export\n",
    "\n",
    "import json\n",
    "import logging\n",
    "from pathlib import Path\n",
    "from typing import *\n",
    "\n",
    "import fire\n",
    "import reader\n",
    "import rich\n",
    "from bs4 import BeautifulSoup\n",
    "from fastcore.basics import patch_to\n",
    "from rich import print\n",
    "from rich.console import Console\n",
    "from rich.panel import Panel\n",
    "from rich.text import Text\n",
    "\n",
    "console = Console()\n",
    "\n",
    "logger = logging.getLogger(__name__)\n",
    "\n",
    "\n",
    "def strip_html(s: str):\n",
    "    s = BeautifulSoup(s, \"html.parser\")\n",
    "    return s.text"
   ]
  },
  {
   "cell_type": "code",
   "execution_count": null,
   "metadata": {},
   "outputs": [],
   "source": [
    "# | export\n",
    "\n",
    "class Feed:\n",
    "    \"\"\"RSS feed class\"\"\"\n",
    "\n",
    "    def __init__(self, url: str, name: str = None, tags: List[str] = []):\n",
    "        self.url = url\n",
    "        self.name = name\n",
    "        self.tags = tags\n",
    "\n",
    "    def add_tag(self, tag: str):\n",
    "        if tag not in self.tags:\n",
    "            self.tags.append(tag)\n",
    "\n",
    "    def remove_tag(self, tag: str):\n",
    "        if tag in self.tags:\n",
    "            self.tags.remove(tag)"
   ]
  },
  {
   "cell_type": "code",
   "execution_count": null,
   "metadata": {},
   "outputs": [],
   "source": [
    "# | export\n",
    "\n",
    "\n",
    "class PyNewsReader:\n",
    "    def __init__(self, feeds=List[Feed]):\n",
    "        self._dbfolder = Path().home() / \".cache/pynewsreader\"\n",
    "        if not self._dbfolder.exists():\n",
    "            self._dbfolder.mkdir(parents=True)\n",
    "\n",
    "        # If custom feed names exist, read them in\n",
    "        feed_names_path = self._dbfolder / \"feed_names.json\"\n",
    "        if feed_names_path.exists():\n",
    "            with open(self._dbfolder / \"feed_names.json\", \"rt\") as myfile:\n",
    "                self._feed_names = json.load(myfile)\n",
    "        else:\n",
    "            self._feed_names = {}\n",
    "\n",
    "        # If title blacklist exists, read it in\n",
    "        title_blacklist_path = self._dbfolder / \"title_blacklist.json\"\n",
    "        if title_blacklist_path.exists():\n",
    "            with open(self._dbfolder / \"title_blacklist.json\", \"rt\") as myfile:\n",
    "                self._title_blacklist = json.load(myfile)\n",
    "        else:\n",
    "            self._title_blacklist = []\n",
    "\n",
    "        self._reader = reader.make_reader(\n",
    "            self._dbfolder / \"db.sqlite\",\n",
    "            plugins=[\"reader.enclosure_dedupe\", \"reader.entry_dedupe\"],\n",
    "        )\n",
    "\n",
    "        # If title whitelist exists, read it in\n",
    "        title_whitelist_path = self._dbfolder / \"title_whitelist.json\"\n",
    "        if title_whitelist_path.exists():\n",
    "            with open(self._dbfolder / \"title_whitelist.json\", \"rt\") as myfile:\n",
    "                self._title_whitelist = json.load(myfile)\n",
    "        else:\n",
    "            self._title_whitelist = []\n",
    "\n",
    "        self._reader = reader.make_reader(\n",
    "            self._dbfolder / \"db.sqlite\",\n",
    "            plugins=[\"reader.enclosure_dedupe\", \"reader.entry_dedupe\"],\n",
    "        )\n",
    "\n",
    "        self._reader.enable_search()\n",
    "\n",
    "    def _print_entries(\n",
    "        self, entries: List[reader.Entry], mark_as_read: bool = True, limit: int = 10\n",
    "    ):\n",
    "        \"\"\"Pretty print entries - supports reader.Reader.get_entries arguments\"\"\"\n",
    "        displayed_links = set()\n",
    "        for e in entries:\n",
    "            if e.link in displayed_links:\n",
    "                # Don't display duplicates\n",
    "                self._reader.mark_entry_as_read(e)\n",
    "            else:\n",
    "                displayed_links.add(e.link)\n",
    "                if e.published:\n",
    "                    published_date = \"Date: \" + e.published.isoformat()[:10]\n",
    "                else:\n",
    "                    published_date = \"Date: Unknown\"\n",
    "                if mark_as_read:\n",
    "                    self._reader.mark_entry_as_read(e)\n",
    "\n",
    "                feed_title = f\"[bold]{self._get_feed_title(e.original_feed_url)}[/bold]\"\n",
    "\n",
    "                if e.important:\n",
    "                    panel_body = \":exclamation_mark:\"\n",
    "                else:\n",
    "                    panel_body = \"\"\n",
    "                panel_body += f\"Title: [bold]{e.title}[/bold]\" + \"\\n\"\n",
    "                panel_body += str(published_date) + \"\\n\\n\"\n",
    "                panel_body += strip_html(e.summary).strip() + \"\\n\"\n",
    "\n",
    "                console.print(\n",
    "                    Panel(\n",
    "                        panel_body,\n",
    "                        title=feed_title,\n",
    "                        subtitle=f\"[link={e.link}]{e.link}[/link]\",\n",
    "                    )\n",
    "                )\n",
    "                console.print()\n",
    "            if len(displayed_links) == limit:\n",
    "                return\n",
    "\n",
    "    def _get_feed_title(self, url: str):\n",
    "        \"\"\"Get display title for pynewsreader feed\"\"\"\n",
    "        if url in self._feed_names and self._feed_names[url] is not None:\n",
    "            return self._feed_names[url]\n",
    "        elif self._reader.get_feed(url).title:\n",
    "            return self._reader.get_feed(url).title\n",
    "        else:\n",
    "            return self._reader.get_feed(url).url\n",
    "\n",
    "    def _get_entries(\n",
    "        self, important: bool = None, read: Union[None, bool] = None, limit: int = 10\n",
    "    ) -> List[reader.Entry]:\n",
    "        \"\"\"Get entries in reader.Entry format\"\"\"\n",
    "        return self._reader.get_entries(read=read, limit=limit, important=important)\n",
    "\n",
    "    def _get_tags(self, entry: reader.Entry):\n",
    "        \"\"\"Get tags for a given entry\"\"\"\n",
    "        return [i[0] for i in list(self._reader.get_tags(entry))]\n",
    "\n",
    "    def _mark_matching_entries_as_read(self, match_strings: List):\n",
    "        for i in self._reader.get_entries(read=False):\n",
    "            for filter_string in match_strings:\n",
    "                if filter_string in i.title:\n",
    "                    print(f\"Marking entry as read: {i.title}\")\n",
    "                    self._reader.mark_entry_as_read(i)\n",
    "                if filter_string in i.link:\n",
    "                    print(f\"Marking entry as read: {i.title}\")\n",
    "                    self._reader.mark_entry_as_read(i)\n",
    "\n",
    "    def _mark_matching_entries_as_important(self, match_strings: List):\n",
    "        for i in self._reader.get_entries(read=False):\n",
    "            for filter_string in match_strings:\n",
    "                if filter_string in i.title:\n",
    "                    print(f\"Marking entry as important: {i.title}\")\n",
    "                    self._reader.mark_entry_as_important(i)\n",
    "\n",
    "    def _mark_important(self, entry: reader.Entry = None):\n",
    "        \"\"\"Mark entry as important\"\"\"\n",
    "        if entry is not None:\n",
    "            reader.Reader.mark_entry_as_important(entry)\n",
    "\n",
    "    def _mark_unimportant(self, entry: reader.Entry = None):\n",
    "        \"\"\"Mark entry as important\"\"\"\n",
    "        if entry is not None:\n",
    "            reader.Reader.mark_entry_as_unimportant(entry)\n",
    "\n",
    "    def _add_tag(self, entry: reader.Entry, tag_key: str, tag_value: Dict = None):\n",
    "        \"\"\"Add tag to entry\"\"\"\n",
    "        reader.Reader.set_tag(entry, tag_key, tag_value)\n",
    "\n",
    "    def _remove_tag(self, entry: reader.Entry, tag_key: str):\n",
    "        \"\"\"Remove tag from entry\"\"\"\n",
    "        self._reader.delete_tag(entry, tag_key)"
   ]
  },
  {
   "cell_type": "code",
   "execution_count": null,
   "metadata": {},
   "outputs": [],
   "source": [
    "# | export\n",
    "\n",
    "@patch_to(PyNewsReader)\n",
    "def blacklist_add(self, blacklist_string: str):\n",
    "    \"\"\"Add entry to blacklist\"\"\"\n",
    "    if blacklist_string not in self._title_blacklist:\n",
    "        self._title_blacklist.append(blacklist_string)\n",
    "        with open(self._dbfolder / \"title_blacklist.json\", \"wt\") as myfile:\n",
    "            json.dump(self._title_blacklist, myfile)\n",
    "\n",
    "\n",
    "@patch_to(PyNewsReader)\n",
    "def blacklist_remove(self, blacklist_string: str):\n",
    "    \"\"\"Remove entry from blacklist\"\"\"\n",
    "    if blacklist_string in self._title_blacklist:\n",
    "        self._title_blacklist.remove(blacklist_string)\n",
    "        with open(self._dbfolder / \"title_blacklist.json\", \"wt\") as myfile:\n",
    "            json.dump(self._title_blacklist, myfile)\n",
    "\n",
    "@patch_to(PyNewsReader)\n",
    "def blacklist_show(self):\n",
    "    \"\"\"Show blacklist\"\"\"\n",
    "    print(self._title_blacklist)\n",
    "  "
   ]
  },
  {
   "cell_type": "code",
   "execution_count": null,
   "metadata": {},
   "outputs": [],
   "source": [
    "#| export\n",
    "\n",
    "@patch_to(PyNewsReader)\n",
    "def whitelist_add(self, whitelist_string: str):\n",
    "    \"\"\"Add entry to whitelist\"\"\"\n",
    "    if whitelist_string not in self._title_whitelist:\n",
    "        self._title_whitelist.append(whitelist_string)\n",
    "        with open(self._dbfolder / \"title_whitelist.json\", \"wt\") as myfile:\n",
    "            json.dump(self._title_whitelist, myfile)\n",
    "        for entry in self._get_entries(limit=None):\n",
    "            if whitelist_string in entry.title:\n",
    "                self._reader.mark_entry_as_important(entry)\n",
    "\n",
    "\n",
    "@patch_to(PyNewsReader)\n",
    "def whitelist_remove(self, whitelist_string: str):\n",
    "    \"\"\"Remove whitelist entry\"\"\"\n",
    "    if whitelist_string in self._title_whitelist:\n",
    "        self._title_whitelist.remove(whitelist_string)\n",
    "        with open(self._dbfolder / \"title_whitelist.json\", \"wt\") as myfile:\n",
    "            json.dump(self._title_whitelist, myfile)\n",
    "        for entry in self._get_entries(limit=None):\n",
    "            if whitelist_string in entry.title:\n",
    "                self._reader.mark_entry_as_unimportant(entry)\n",
    "                \n",
    "@patch_to(PyNewsReader)\n",
    "def whitelist_show(self):\n",
    "    \"\"\"Show whitelist\"\"\"\n",
    "    print(self._title_whitelist)\n",
    "  "
   ]
  },
  {
   "cell_type": "code",
   "execution_count": null,
   "metadata": {},
   "outputs": [],
   "source": [
    "# | export\n",
    "\n",
    "@patch_to(PyNewsReader)\n",
    "def update(self):\n",
    "    \"\"\"Update feeds and search\"\"\"\n",
    "    self._reader.update_feeds()\n",
    "    self._reader.update_search()\n",
    "    if len(self._title_blacklist) > 0:\n",
    "        self._mark_matching_entries_as_read(self._title_blacklist)\n",
    "    if len(self._title_whitelist) > 0:\n",
    "        self._mark_matching_entries_as_important(self._title_whitelist)"
   ]
  },
  {
   "cell_type": "code",
   "execution_count": null,
   "metadata": {},
   "outputs": [],
   "source": [
    "# | export\n",
    "\n",
    "@patch_to(PyNewsReader)\n",
    "def add_feed(self, feed: Union[Feed, str]):\n",
    "    \"\"\"Add feed to pynewsreader\n",
    "\n",
    "    Args:\n",
    "        feed (Feed): pynewsreader Feed to add\n",
    "    \"\"\"\n",
    "    if isinstance(feed, Feed):\n",
    "        self._feed_names[feed.url] = feed.name\n",
    "        self._reader.add_feed(feed.url, exist_ok=True)\n",
    "    elif isinstance(feed, str):\n",
    "        self._reader.add_feed(feed, exist_ok=True)\n",
    "    else:\n",
    "        raise Exception(\"Must be str or Feed type to add\")\n",
    "\n",
    "    # Save names to file\n",
    "    with open(self._dbfolder / \"feed_names.json\", \"wt\") as myfile:\n",
    "        json.dump(self._feed_names, myfile)\n",
    "\n",
    "\n",
    "@patch_to(PyNewsReader)\n",
    "def remove_feed(self, feed: Union[Feed, str]):\n",
    "    \"\"\"Remove feed from pynewsreader instance\n",
    "\n",
    "    Args:\n",
    "        feed (Union[Feed, str]): Feed to remove\n",
    "    \"\"\"\n",
    "\n",
    "    if isinstance(feed, Feed):\n",
    "        self._reader.delete_feed(feed.url)\n",
    "    elif isinstance(feed, str):\n",
    "        self._reader.delete_feed(feed)\n",
    "    else:\n",
    "        raise Exception(TypeError)\n",
    "\n",
    "\n",
    "@patch_to(PyNewsReader)\n",
    "def feeds(self):\n",
    "    \"\"\"List pynewsreader feeds\n",
    "\n",
    "    Returns:\n",
    "        List[str]: List of names of current pynewsreader feeds\n",
    "    \"\"\"\n",
    "    return [self._get_feed_title(i.url) for i in self._reader.get_feeds()]"
   ]
  },
  {
   "cell_type": "code",
   "execution_count": null,
   "metadata": {},
   "outputs": [],
   "source": [
    "# | export\n",
    "\n",
    "@patch_to(PyNewsReader)\n",
    "def show(\n",
    "    self,\n",
    "    limit: int = 6,\n",
    "    read: bool = False,\n",
    "    important: bool = None,\n",
    "    mark_as_read: bool = True,\n",
    "):\n",
    "    \"\"\"Pretty print entries\n",
    "\n",
    "    Args:\n",
    "        limit (int, optional): Number of entries to show. Defaults to 5.\n",
    "        read (bool, optional): Show read entries (True), unread entries (False), or all entries (None). Defaults to None.\n",
    "        mark_as_read (bool, optional): Mark displayed entries as read. Defaults to False.\n",
    "    \"\"\"\n",
    "    self._print_entries(\n",
    "        self._get_entries(read=read, important=important, limit=limit * 2),\n",
    "        limit=limit,\n",
    "        mark_as_read=mark_as_read,\n",
    "    )"
   ]
  },
  {
   "cell_type": "code",
   "execution_count": null,
   "metadata": {},
   "outputs": [],
   "source": [
    "# | export\n",
    "\n",
    "@patch_to(PyNewsReader)\n",
    "def search(self, query: str, mark_as_read: bool = True, limit: int = 10):\n",
    "    \"\"\"Search entries and pretty print results\n",
    "\n",
    "    Args:\n",
    "        query (str): Search query\n",
    "        mark_as_read (bool, optional): Mark results as read? Defaults to True.\n",
    "    \"\"\"\n",
    "    self._print_entries(\n",
    "        [self._search_to_entry(i) for i in self._reader.search_entries(query)],\n",
    "        mark_as_read=mark_as_read,\n",
    "        limit=limit,\n",
    "    )\n",
    "\n",
    "\n",
    "@patch_to(PyNewsReader)\n",
    "def _search_to_entry(self, search_result):\n",
    "    \"\"\"For a given `reader` search result return the corresponding `reader.Entry`\"\"\"\n",
    "    for i in self._reader.get_entries():\n",
    "        if i.id == search_result.id and i.feed_url == search_result.feed_url:\n",
    "            return i"
   ]
  },
  {
   "cell_type": "code",
   "execution_count": null,
   "metadata": {},
   "outputs": [],
   "source": [
    "r = PyNewsReader()"
   ]
  },
  {
   "cell_type": "markdown",
   "metadata": {},
   "source": [
    "## Add Feeds"
   ]
  },
  {
   "cell_type": "code",
   "execution_count": null,
   "metadata": {},
   "outputs": [],
   "source": [
    "# With names\n",
    "for i in [\n",
    "    Feed(url=\"https://ricochet.media/en/feed\", name=\"Richochet Media\"),\n",
    "    Feed(url=\"https://thetyee.ca/rss2.xml\", name=\"The Tyee\"),\n",
    "    Feed(\n",
    "        url=\"https://www.thestar.com/content/thestar/feed.RSSManagerServlet.articles.topstories.rss\",\n",
    "        name=\"Toronto Star | Top Stories\",\n",
    "    ),\n",
    "    Feed(\n",
    "        url=\"https://www.thestar.com/content/thestar/feed.RSSManagerServlet.articles.news.investigations.rss\",\n",
    "        name=\"Toronto Star | Investigations\",\n",
    "    ),\n",
    "    Feed(\n",
    "        url=\"https://www.thestar.com/content/thestar/feed.RSSManagerServlet.articles.opinion.editorials.rss\",\n",
    "        name=\"Toronto Star | Editorials\",\n",
    "    ),\n",
    "    Feed(url=\"https://www.macleans.ca/feed/\", name=\"Macleans\"),\n",
    "]:\n",
    "    r.add_feed(i)\n",
    "\n",
    "# Use the default name from the feed\n",
    "for i in [\n",
    "    \"https://rss.cbc.ca/lineup/topstories.xml\",\n",
    "    \"https://rss.cbc.ca/lineup/world.xml\",\n",
    "    \"https://rss.cbc.ca/lineup/canada.xml\",\n",
    "    \"https://rss.cbc.ca/lineup/business.xml\",\n",
    "    \"https://rss.cbc.ca/lineup/technology.xml\",\n",
    "    \"https://www.cbc.ca/cmlink/rss-canada-ottawa\",\n",
    "    \"https://thenarwhal.ca/feed/\",\n",
    "    \"https://www.theguardian.com/science/rss\",\n",
    "    \"https://www.theguardian.com/world/canada/rss\",\n",
    "]:\n",
    "    r.add_feed(Feed(i))"
   ]
  },
  {
   "cell_type": "markdown",
   "metadata": {},
   "source": [
    "## Update Feeds"
   ]
  },
  {
   "cell_type": "code",
   "execution_count": null,
   "metadata": {},
   "outputs": [
    {
     "data": {
      "text/html": [
       "<pre style=\"white-space:pre;overflow-x:auto;line-height:normal;font-family:Menlo,'DejaVu Sans Mono',consolas,'Courier New',monospace\">Marking entry as read: Brooke Henderson takes three-shot lead into final round at Tournament of Champions\n",
       "</pre>\n"
      ],
      "text/plain": [
       "Marking entry as read: Brooke Henderson takes three-shot lead into final round at Tournament of Champions\n"
      ]
     },
     "metadata": {},
     "output_type": "display_data"
    },
    {
     "data": {
      "text/html": [
       "<pre style=\"white-space:pre;overflow-x:auto;line-height:normal;font-family:Menlo,'DejaVu Sans Mono',consolas,'Courier New',monospace\">Marking entry as read: Elon Musk defends <span style=\"color: #008080; text-decoration-color: #008080; font-weight: bold\">2018</span> Tesla takeover tweet in class action trial testimony\n",
       "</pre>\n"
      ],
      "text/plain": [
       "Marking entry as read: Elon Musk defends \u001b[1;36m2018\u001b[0m Tesla takeover tweet in class action trial testimony\n"
      ]
     },
     "metadata": {},
     "output_type": "display_data"
    },
    {
     "data": {
      "text/html": [
       "<pre style=\"white-space:pre;overflow-x:auto;line-height:normal;font-family:Menlo,'DejaVu Sans Mono',consolas,'Courier New',monospace\">Marking entry as read: Elon Musk defends <span style=\"color: #008080; text-decoration-color: #008080; font-weight: bold\">2018</span> Tesla takeover tweet in class action trial testimony\n",
       "</pre>\n"
      ],
      "text/plain": [
       "Marking entry as read: Elon Musk defends \u001b[1;36m2018\u001b[0m Tesla takeover tweet in class action trial testimony\n"
      ]
     },
     "metadata": {},
     "output_type": "display_data"
    },
    {
     "data": {
      "text/html": [
       "<pre style=\"white-space:pre;overflow-x:auto;line-height:normal;font-family:Menlo,'DejaVu Sans Mono',consolas,'Courier New',monospace\">Marking entry as read: Alphabet — Google's corporate parent — to cut <span style=\"color: #008080; text-decoration-color: #008080; font-weight: bold\">12</span>,<span style=\"color: #008080; text-decoration-color: #008080; font-weight: bold\">000</span> jobs\n",
       "</pre>\n"
      ],
      "text/plain": [
       "Marking entry as read: Alphabet — Google's corporate parent — to cut \u001b[1;36m12\u001b[0m,\u001b[1;36m000\u001b[0m jobs\n"
      ]
     },
     "metadata": {},
     "output_type": "display_data"
    },
    {
     "data": {
      "text/html": [
       "<pre style=\"white-space:pre;overflow-x:auto;line-height:normal;font-family:Menlo,'DejaVu Sans Mono',consolas,'Courier New',monospace\">Marking entry as read: Alphabet — Google's corporate parent — to cut <span style=\"color: #008080; text-decoration-color: #008080; font-weight: bold\">12</span>,<span style=\"color: #008080; text-decoration-color: #008080; font-weight: bold\">000</span> jobs\n",
       "</pre>\n"
      ],
      "text/plain": [
       "Marking entry as read: Alphabet — Google's corporate parent — to cut \u001b[1;36m12\u001b[0m,\u001b[1;36m000\u001b[0m jobs\n"
      ]
     },
     "metadata": {},
     "output_type": "display_data"
    },
    {
     "data": {
      "text/html": [
       "<pre style=\"white-space:pre;overflow-x:auto;line-height:normal;font-family:Menlo,'DejaVu Sans Mono',consolas,'Courier New',monospace\">Marking entry as read: Tesla investors say Elon Musk's tweets cost them billions. His trial starts today\n",
       "</pre>\n"
      ],
      "text/plain": [
       "Marking entry as read: Tesla investors say Elon Musk's tweets cost them billions. His trial starts today\n"
      ]
     },
     "metadata": {},
     "output_type": "display_data"
    },
    {
     "data": {
      "text/html": [
       "<pre style=\"white-space:pre;overflow-x:auto;line-height:normal;font-family:Menlo,'DejaVu Sans Mono',consolas,'Courier New',monospace\">Marking entry as read: CF Montréal fire coach one day after hire due to assassination tweet\n",
       "</pre>\n"
      ],
      "text/plain": [
       "Marking entry as read: CF Montréal fire coach one day after hire due to assassination tweet\n"
      ]
     },
     "metadata": {},
     "output_type": "display_data"
    },
    {
     "data": {
      "text/html": [
       "<pre style=\"white-space:pre;overflow-x:auto;line-height:normal;font-family:Menlo,'DejaVu Sans Mono',consolas,'Courier New',monospace\">Marking entry as important: With inflation easing will interest rates hikes pause?\n",
       "</pre>\n"
      ],
      "text/plain": [
       "Marking entry as important: With inflation easing will interest rates hikes pause?\n"
      ]
     },
     "metadata": {},
     "output_type": "display_data"
    },
    {
     "data": {
      "text/html": [
       "<pre style=\"white-space:pre;overflow-x:auto;line-height:normal;font-family:Menlo,'DejaVu Sans Mono',consolas,'Courier New',monospace\">Marking entry as important: Majority of Canadian consumers and businesses expect a recession this year, Bank of \n",
       "Canada surveys find\n",
       "</pre>\n"
      ],
      "text/plain": [
       "Marking entry as important: Majority of Canadian consumers and businesses expect a recession this year, Bank of \n",
       "Canada surveys find\n"
      ]
     },
     "metadata": {},
     "output_type": "display_data"
    },
    {
     "data": {
      "text/html": [
       "<pre style=\"white-space:pre;overflow-x:auto;line-height:normal;font-family:Menlo,'DejaVu Sans Mono',consolas,'Courier New',monospace\">Marking entry as important: Bank of Canada may lose billions in coming years, think tank warns\n",
       "</pre>\n"
      ],
      "text/plain": [
       "Marking entry as important: Bank of Canada may lose billions in coming years, think tank warns\n"
      ]
     },
     "metadata": {},
     "output_type": "display_data"
    }
   ],
   "source": [
    "r.update()"
   ]
  },
  {
   "cell_type": "markdown",
   "metadata": {},
   "source": [
    "## List Feeds"
   ]
  },
  {
   "cell_type": "code",
   "execution_count": null,
   "metadata": {},
   "outputs": [
    {
     "data": {
      "text/plain": [
       "['Canada | The Guardian',\n",
       " 'CBC | Business News',\n",
       " 'CBC | Canada News',\n",
       " 'CBC | Ottawa News',\n",
       " 'CBC | Technology News',\n",
       " 'CBC | Top Stories News',\n",
       " 'CBC | World News',\n",
       " 'Macleans',\n",
       " 'Richochet Media',\n",
       " 'Science | The Guardian',\n",
       " 'The Narwhal',\n",
       " 'The Tyee',\n",
       " 'Toronto Star | Investigations',\n",
       " 'Toronto Star | Editorials',\n",
       " 'Toronto Star | Top Stories']"
      ]
     },
     "execution_count": null,
     "metadata": {},
     "output_type": "execute_result"
    }
   ],
   "source": [
    "r.feeds()"
   ]
  },
  {
   "cell_type": "markdown",
   "metadata": {},
   "source": [
    "## Display Entries\n",
    "\n",
    "`read` = None shows all entries\n",
    "\n",
    "`read` = False shows only unread entries\n",
    "\n",
    "`read` = True shows only read entries"
   ]
  },
  {
   "cell_type": "code",
   "execution_count": null,
   "metadata": {},
   "outputs": [
    {
     "data": {
      "text/html": [
       "<pre style=\"white-space:pre;overflow-x:auto;line-height:normal;font-family:Menlo,'DejaVu Sans Mono',consolas,'Courier New',monospace\">╭──────────────────────────────────────────── <span style=\"font-weight: bold\">CBC | Top Stories News</span> ─────────────────────────────────────────────╮\n",
       "│ Title: <span style=\"font-weight: bold\">Actor Jeremy Renner reveals he broke more than 30 bones in snowplow accident</span>                             │\n",
       "│ Date: 2023-01-21                                                                                                │\n",
       "│                                                                                                                 │\n",
       "│ Actor Jeremy Renner says he broke more than 30 bones in a snowplow accident on New Year's Day.                  │\n",
       "│                                                                                                                 │\n",
       "╰───── <a href=\"https://www.cbc.ca/news/entertainment/jeremy-renner-snowplow-accident-broken-bones-1.6722214?cmp=rss\" target=\"_blank\">https://www.cbc.ca/news/entertainment/jeremy-renner-snowplow-accident-broken-bones-1.6722214?cmp=rss</a> ──────╯\n",
       "</pre>\n"
      ],
      "text/plain": [
       "╭──────────────────────────────────────────── \u001b[1mCBC | Top Stories News\u001b[0m ─────────────────────────────────────────────╮\n",
       "│ Title: \u001b[1mActor Jeremy Renner reveals he broke more than 30 bones in snowplow accident\u001b[0m                             │\n",
       "│ Date: 2023-01-21                                                                                                │\n",
       "│                                                                                                                 │\n",
       "│ Actor Jeremy Renner says he broke more than 30 bones in a snowplow accident on New Year's Day.                  │\n",
       "│                                                                                                                 │\n",
       "╰───── \u001b]8;id=192538;https://www.cbc.ca/news/entertainment/jeremy-renner-snowplow-accident-broken-bones-1.6722214?cmp=rss\u001b\\https://www.cbc.ca/news/entertainment/jeremy-renner-snowplow-accident-broken-bones-1.6722214?cmp=rss\u001b]8;;\u001b\\ ──────╯\n"
      ]
     },
     "metadata": {},
     "output_type": "display_data"
    },
    {
     "data": {
      "text/html": [
       "<pre style=\"white-space:pre;overflow-x:auto;line-height:normal;font-family:Menlo,'DejaVu Sans Mono',consolas,'Courier New',monospace\">\n",
       "</pre>\n"
      ],
      "text/plain": [
       "\n"
      ]
     },
     "metadata": {},
     "output_type": "display_data"
    },
    {
     "data": {
      "text/html": [
       "<pre style=\"white-space:pre;overflow-x:auto;line-height:normal;font-family:Menlo,'DejaVu Sans Mono',consolas,'Courier New',monospace\">╭──────────────────────────────────────────── <span style=\"font-weight: bold\">CBC | Top Stories News</span> ─────────────────────────────────────────────╮\n",
       "│ Title: <span style=\"font-weight: bold\">François Legault criticizes Justin Trudeau over notwithstanding clause comments</span>                          │\n",
       "│ Date: 2023-01-21                                                                                                │\n",
       "│                                                                                                                 │\n",
       "│ Quebec Premier François Legault is criticizing Prime Minister Justin Trudeau for \"attacking Quebec's democracy  │\n",
       "│ and people\" by proposing to limit the use of the notwithstanding clause.                                        │\n",
       "│                                                                                                                 │\n",
       "╰─ <a href=\"https://www.cbc.ca/news/canada/montreal/fran%C3%A7ois-legault-trudeau-democracy-under-attack-1.6722077?cmp=rss\" target=\"_blank\">https://www.cbc.ca/news/canada/montreal/fran%C3%A7ois-legault-trudeau-democracy-under-attack-1.6722077?cmp=rss</a>─╯\n",
       "</pre>\n"
      ],
      "text/plain": [
       "╭──────────────────────────────────────────── \u001b[1mCBC | Top Stories News\u001b[0m ─────────────────────────────────────────────╮\n",
       "│ Title: \u001b[1mFrançois Legault criticizes Justin Trudeau over notwithstanding clause comments\u001b[0m                          │\n",
       "│ Date: 2023-01-21                                                                                                │\n",
       "│                                                                                                                 │\n",
       "│ Quebec Premier François Legault is criticizing Prime Minister Justin Trudeau for \"attacking Quebec's democracy  │\n",
       "│ and people\" by proposing to limit the use of the notwithstanding clause.                                        │\n",
       "│                                                                                                                 │\n",
       "╰─ \u001b]8;id=943391;https://www.cbc.ca/news/canada/montreal/fran%C3%A7ois-legault-trudeau-democracy-under-attack-1.6722077?cmp=rss\u001b\\https://www.cbc.ca/news/canada/montreal/fran%C3%A7ois-legault-trudeau-democracy-under-attack-1.6722077?cmp=rss\u001b]8;;\u001b\\─╯\n"
      ]
     },
     "metadata": {},
     "output_type": "display_data"
    },
    {
     "data": {
      "text/html": [
       "<pre style=\"white-space:pre;overflow-x:auto;line-height:normal;font-family:Menlo,'DejaVu Sans Mono',consolas,'Courier New',monospace\">\n",
       "</pre>\n"
      ],
      "text/plain": [
       "\n"
      ]
     },
     "metadata": {},
     "output_type": "display_data"
    },
    {
     "data": {
      "text/html": [
       "<pre style=\"white-space:pre;overflow-x:auto;line-height:normal;font-family:Menlo,'DejaVu Sans Mono',consolas,'Courier New',monospace\">╭─────────────────────────────────────────────────── <span style=\"font-weight: bold\">The Tyee</span> ────────────────────────────────────────────────────╮\n",
       "│ Title: <span style=\"font-weight: bold\">Welcome to the Year of the Rabbit (in Culture)</span>                                                           │\n",
       "│ Date: Unknown                                                                                                   │\n",
       "│                                                                                                                 │\n",
       "│ Vancouver’s Lunar New Year parade returns to Chinatown after years of cancellations. We’re glad to be back.     │\n",
       "│                                                                                                                 │\n",
       "╰────────────────────────── <a href=\"https://thetyee.ca/Culture/2023/01/20/Welcome-Year-Rabbit/\" target=\"_blank\">https://thetyee.ca/Culture/2023/01/20/Welcome-Year-Rabbit/</a> ───────────────────────────╯\n",
       "</pre>\n"
      ],
      "text/plain": [
       "╭─────────────────────────────────────────────────── \u001b[1mThe Tyee\u001b[0m ────────────────────────────────────────────────────╮\n",
       "│ Title: \u001b[1mWelcome to the Year of the Rabbit (in Culture)\u001b[0m                                                           │\n",
       "│ Date: Unknown                                                                                                   │\n",
       "│                                                                                                                 │\n",
       "│ Vancouver’s Lunar New Year parade returns to Chinatown after years of cancellations. We’re glad to be back.     │\n",
       "│                                                                                                                 │\n",
       "╰────────────────────────── \u001b]8;id=672462;https://thetyee.ca/Culture/2023/01/20/Welcome-Year-Rabbit/\u001b\\https://thetyee.ca/Culture/2023/01/20/Welcome-Year-Rabbit/\u001b]8;;\u001b\\ ───────────────────────────╯\n"
      ]
     },
     "metadata": {},
     "output_type": "display_data"
    },
    {
     "data": {
      "text/html": [
       "<pre style=\"white-space:pre;overflow-x:auto;line-height:normal;font-family:Menlo,'DejaVu Sans Mono',consolas,'Courier New',monospace\">\n",
       "</pre>\n"
      ],
      "text/plain": [
       "\n"
      ]
     },
     "metadata": {},
     "output_type": "display_data"
    },
    {
     "data": {
      "text/html": [
       "<pre style=\"white-space:pre;overflow-x:auto;line-height:normal;font-family:Menlo,'DejaVu Sans Mono',consolas,'Courier New',monospace\">╭─────────────────────────────────────────────────── <span style=\"font-weight: bold\">The Tyee</span> ────────────────────────────────────────────────────╮\n",
       "│ Title: <span style=\"font-weight: bold\">Donors Step Up After Vancouver Council Axes Funding to VANDU Art Program (in News)</span>                       │\n",
       "│ Date: Unknown                                                                                                   │\n",
       "│                                                                                                                 │\n",
       "│ Councillors said they had problems with how the drug user group handled a previous city contract.               │\n",
       "│                                                                                                                 │\n",
       "╰────── <a href=\"https://thetyee.ca/News/2023/01/20/Donors-Step-Up-Vancouver-Council-Axes-Funding-VANDU-Art-Program/\" target=\"_blank\">https://thetyee.ca/News/2023/01/20/Donors-Step-Up-Vancouver-Council-Axes-Funding-VANDU-Art-Program/</a> ──────╯\n",
       "</pre>\n"
      ],
      "text/plain": [
       "╭─────────────────────────────────────────────────── \u001b[1mThe Tyee\u001b[0m ────────────────────────────────────────────────────╮\n",
       "│ Title: \u001b[1mDonors Step Up After Vancouver Council Axes Funding to VANDU Art Program (in News)\u001b[0m                       │\n",
       "│ Date: Unknown                                                                                                   │\n",
       "│                                                                                                                 │\n",
       "│ Councillors said they had problems with how the drug user group handled a previous city contract.               │\n",
       "│                                                                                                                 │\n",
       "╰────── \u001b]8;id=747710;https://thetyee.ca/News/2023/01/20/Donors-Step-Up-Vancouver-Council-Axes-Funding-VANDU-Art-Program/\u001b\\https://thetyee.ca/News/2023/01/20/Donors-Step-Up-Vancouver-Council-Axes-Funding-VANDU-Art-Program/\u001b]8;;\u001b\\ ──────╯\n"
      ]
     },
     "metadata": {},
     "output_type": "display_data"
    },
    {
     "data": {
      "text/html": [
       "<pre style=\"white-space:pre;overflow-x:auto;line-height:normal;font-family:Menlo,'DejaVu Sans Mono',consolas,'Courier New',monospace\">\n",
       "</pre>\n"
      ],
      "text/plain": [
       "\n"
      ]
     },
     "metadata": {},
     "output_type": "display_data"
    },
    {
     "data": {
      "text/html": [
       "<pre style=\"white-space:pre;overflow-x:auto;line-height:normal;font-family:Menlo,'DejaVu Sans Mono',consolas,'Courier New',monospace\">╭─────────────────────────────────────────────────── <span style=\"font-weight: bold\">The Tyee</span> ────────────────────────────────────────────────────╮\n",
       "│ Title: <span style=\"font-weight: bold\">Escape from Crimea to Canada (in Culture)</span>                                                                │\n",
       "│ Date: Unknown                                                                                                   │\n",
       "│                                                                                                                 │\n",
       "│ A Ukrainian refugee shares his story of fleeing fear to navigate a fresh start in BC.                           │\n",
       "│                                                                                                                 │\n",
       "╰────────────────────────── <a href=\"https://thetyee.ca/Culture/2023/01/20/Escape-Crimea-Canada/\" target=\"_blank\">https://thetyee.ca/Culture/2023/01/20/Escape-Crimea-Canada/</a> ──────────────────────────╯\n",
       "</pre>\n"
      ],
      "text/plain": [
       "╭─────────────────────────────────────────────────── \u001b[1mThe Tyee\u001b[0m ────────────────────────────────────────────────────╮\n",
       "│ Title: \u001b[1mEscape from Crimea to Canada (in Culture)\u001b[0m                                                                │\n",
       "│ Date: Unknown                                                                                                   │\n",
       "│                                                                                                                 │\n",
       "│ A Ukrainian refugee shares his story of fleeing fear to navigate a fresh start in BC.                           │\n",
       "│                                                                                                                 │\n",
       "╰────────────────────────── \u001b]8;id=353000;https://thetyee.ca/Culture/2023/01/20/Escape-Crimea-Canada/\u001b\\https://thetyee.ca/Culture/2023/01/20/Escape-Crimea-Canada/\u001b]8;;\u001b\\ ──────────────────────────╯\n"
      ]
     },
     "metadata": {},
     "output_type": "display_data"
    },
    {
     "data": {
      "text/html": [
       "<pre style=\"white-space:pre;overflow-x:auto;line-height:normal;font-family:Menlo,'DejaVu Sans Mono',consolas,'Courier New',monospace\">\n",
       "</pre>\n"
      ],
      "text/plain": [
       "\n"
      ]
     },
     "metadata": {},
     "output_type": "display_data"
    }
   ],
   "source": [
    "r.show(limit=5, read=None, mark_as_read=False)"
   ]
  },
  {
   "cell_type": "markdown",
   "metadata": {},
   "source": [
    "## Search Entries"
   ]
  },
  {
   "cell_type": "code",
   "execution_count": null,
   "metadata": {},
   "outputs": [
    {
     "data": {
      "text/html": [
       "<pre style=\"white-space:pre;overflow-x:auto;line-height:normal;font-family:Menlo,'DejaVu Sans Mono',consolas,'Courier New',monospace\">╭─────────────────────────────────────────────── <span style=\"font-weight: bold\">CBC | World News</span> ────────────────────────────────────────────────╮\n",
       "│ Title: <span style=\"font-weight: bold\">U.S. inflation rate was 6.5% in December</span>                                                                 │\n",
       "│ Date: 2023-01-12                                                                                                │\n",
       "│                                                                                                                 │\n",
       "│ The inflation rate in the U.S. decelerated to 6.5 per cent in December, mostly due to much cheaper gasoline.    │\n",
       "│                                                                                                                 │\n",
       "╰─────────────────── <a href=\"https://www.cbc.ca/news/business/us-inflation-december-1.6711469?cmp=rss\" target=\"_blank\">https://www.cbc.ca/news/business/us-inflation-december-1.6711469?cmp=rss</a> ────────────────────╯\n",
       "</pre>\n"
      ],
      "text/plain": [
       "╭─────────────────────────────────────────────── \u001b[1mCBC | World News\u001b[0m ────────────────────────────────────────────────╮\n",
       "│ Title: \u001b[1mU.S. inflation rate was 6.5% in December\u001b[0m                                                                 │\n",
       "│ Date: 2023-01-12                                                                                                │\n",
       "│                                                                                                                 │\n",
       "│ The inflation rate in the U.S. decelerated to 6.5 per cent in December, mostly due to much cheaper gasoline.    │\n",
       "│                                                                                                                 │\n",
       "╰─────────────────── \u001b]8;id=672405;https://www.cbc.ca/news/business/us-inflation-december-1.6711469?cmp=rss\u001b\\https://www.cbc.ca/news/business/us-inflation-december-1.6711469?cmp=rss\u001b]8;;\u001b\\ ────────────────────╯\n"
      ]
     },
     "metadata": {},
     "output_type": "display_data"
    },
    {
     "data": {
      "text/html": [
       "<pre style=\"white-space:pre;overflow-x:auto;line-height:normal;font-family:Menlo,'DejaVu Sans Mono',consolas,'Courier New',monospace\">\n",
       "</pre>\n"
      ],
      "text/plain": [
       "\n"
      ]
     },
     "metadata": {},
     "output_type": "display_data"
    },
    {
     "data": {
      "text/html": [
       "<pre style=\"white-space:pre;overflow-x:auto;line-height:normal;font-family:Menlo,'DejaVu Sans Mono',consolas,'Courier New',monospace\">╭─────────────────────────────────────────── <span style=\"font-weight: bold\">Toronto Star | Editorials</span> ───────────────────────────────────────────╮\n",
       "│ ❗Title: <span style=\"font-weight: bold\">With inflation easing will interest rates hikes pause?</span>                                                 │\n",
       "│ Date: 2023-01-20                                                                                                │\n",
       "│                                                                                                                 │\n",
       "│ With some welcome downward movement on inflation, let’s hope then that we’re seeing an end to the Bank of       │\n",
       "│ Canada’s string of rate hikes.                                                                                  │\n",
       "│                                                                                                                 │\n",
       "╰─ <a href=\"https://www.thestar.com/opinion/editorials/2023/01/20/with-inflation-easing-will-interest-rates-hikes-pause.html\" target=\"_blank\">https://www.thestar.com/opinion/editorials/2023/01/20/with-inflation-easing-will-interest-rates-hikes-pause.ht</a>─╯\n",
       "</pre>\n"
      ],
      "text/plain": [
       "╭─────────────────────────────────────────── \u001b[1mToronto Star | Editorials\u001b[0m ───────────────────────────────────────────╮\n",
       "│ ❗Title: \u001b[1mWith inflation easing will interest rates hikes pause?\u001b[0m                                                 │\n",
       "│ Date: 2023-01-20                                                                                                │\n",
       "│                                                                                                                 │\n",
       "│ With some welcome downward movement on inflation, let’s hope then that we’re seeing an end to the Bank of       │\n",
       "│ Canada’s string of rate hikes.                                                                                  │\n",
       "│                                                                                                                 │\n",
       "╰─ \u001b]8;id=471297;https://www.thestar.com/opinion/editorials/2023/01/20/with-inflation-easing-will-interest-rates-hikes-pause.html\u001b\\https://www.thestar.com/opinion/editorials/2023/01/20/with-inflation-easing-will-interest-rates-hikes-pause.ht\u001b]8;;\u001b\\─╯\n"
      ]
     },
     "metadata": {},
     "output_type": "display_data"
    },
    {
     "data": {
      "text/html": [
       "<pre style=\"white-space:pre;overflow-x:auto;line-height:normal;font-family:Menlo,'DejaVu Sans Mono',consolas,'Courier New',monospace\">\n",
       "</pre>\n"
      ],
      "text/plain": [
       "\n"
      ]
     },
     "metadata": {},
     "output_type": "display_data"
    },
    {
     "data": {
      "text/html": [
       "<pre style=\"white-space:pre;overflow-x:auto;line-height:normal;font-family:Menlo,'DejaVu Sans Mono',consolas,'Courier New',monospace\">╭────────────────────────────────────────────── <span style=\"font-weight: bold\">CBC | Business News</span> ──────────────────────────────────────────────╮\n",
       "│ Title: <span style=\"font-weight: bold\">Inflation rate slows to 6.3% — but groceries are still going up at nearly twice that pace</span>                │\n",
       "│ Date: 2023-01-17                                                                                                │\n",
       "│                                                                                                                 │\n",
       "│ Canada's annual inflation rate cooled to 6.3 per cent in December, its lowest level since February.             │\n",
       "│                                                                                                                 │\n",
       "╰───────────────── <a href=\"https://www.cbc.ca/news/business/canada-inflation-december-1.6716315?cmp=rss\" target=\"_blank\">https://www.cbc.ca/news/business/canada-inflation-december-1.6716315?cmp=rss</a> ──────────────────╯\n",
       "</pre>\n"
      ],
      "text/plain": [
       "╭────────────────────────────────────────────── \u001b[1mCBC | Business News\u001b[0m ──────────────────────────────────────────────╮\n",
       "│ Title: \u001b[1mInflation rate slows to 6.3% — but groceries are still going up at nearly twice that pace\u001b[0m                │\n",
       "│ Date: 2023-01-17                                                                                                │\n",
       "│                                                                                                                 │\n",
       "│ Canada's annual inflation rate cooled to 6.3 per cent in December, its lowest level since February.             │\n",
       "│                                                                                                                 │\n",
       "╰───────────────── \u001b]8;id=572725;https://www.cbc.ca/news/business/canada-inflation-december-1.6716315?cmp=rss\u001b\\https://www.cbc.ca/news/business/canada-inflation-december-1.6716315?cmp=rss\u001b]8;;\u001b\\ ──────────────────╯\n"
      ]
     },
     "metadata": {},
     "output_type": "display_data"
    },
    {
     "data": {
      "text/html": [
       "<pre style=\"white-space:pre;overflow-x:auto;line-height:normal;font-family:Menlo,'DejaVu Sans Mono',consolas,'Courier New',monospace\">\n",
       "</pre>\n"
      ],
      "text/plain": [
       "\n"
      ]
     },
     "metadata": {},
     "output_type": "display_data"
    },
    {
     "data": {
      "text/html": [
       "<pre style=\"white-space:pre;overflow-x:auto;line-height:normal;font-family:Menlo,'DejaVu Sans Mono',consolas,'Courier New',monospace\">╭────────────────────────────────────────── <span style=\"font-weight: bold\">Toronto Star | Top Stories</span> ───────────────────────────────────────────╮\n",
       "│ Title: <span style=\"font-weight: bold\">Vacancy rate for downtown Toronto offices climbs to 13.6 per cent</span>                                        │\n",
       "│ Date: 2023-01-12                                                                                                │\n",
       "│                                                                                                                 │\n",
       "│ This week, online retail giant Shopify put its massive new office space at The Well onto the sublet market.     │\n",
       "│                                                                                                                 │\n",
       "╰─ <a href=\"https://www.thestar.com/business/2023/01/12/vacancy-rate-for-downtown-toronto-offices-climbs-to-136-per-cent.html\" target=\"_blank\">https://www.thestar.com/business/2023/01/12/vacancy-rate-for-downtown-toronto-offices-climbs-to-136-per-cent.h</a>─╯\n",
       "</pre>\n"
      ],
      "text/plain": [
       "╭────────────────────────────────────────── \u001b[1mToronto Star | Top Stories\u001b[0m ───────────────────────────────────────────╮\n",
       "│ Title: \u001b[1mVacancy rate for downtown Toronto offices climbs to 13.6 per cent\u001b[0m                                        │\n",
       "│ Date: 2023-01-12                                                                                                │\n",
       "│                                                                                                                 │\n",
       "│ This week, online retail giant Shopify put its massive new office space at The Well onto the sublet market.     │\n",
       "│                                                                                                                 │\n",
       "╰─ \u001b]8;id=378960;https://www.thestar.com/business/2023/01/12/vacancy-rate-for-downtown-toronto-offices-climbs-to-136-per-cent.html\u001b\\https://www.thestar.com/business/2023/01/12/vacancy-rate-for-downtown-toronto-offices-climbs-to-136-per-cent.h\u001b]8;;\u001b\\─╯\n"
      ]
     },
     "metadata": {},
     "output_type": "display_data"
    },
    {
     "data": {
      "text/html": [
       "<pre style=\"white-space:pre;overflow-x:auto;line-height:normal;font-family:Menlo,'DejaVu Sans Mono',consolas,'Courier New',monospace\">\n",
       "</pre>\n"
      ],
      "text/plain": [
       "\n"
      ]
     },
     "metadata": {},
     "output_type": "display_data"
    },
    {
     "data": {
      "text/html": [
       "<pre style=\"white-space:pre;overflow-x:auto;line-height:normal;font-family:Menlo,'DejaVu Sans Mono',consolas,'Courier New',monospace\">╭────────────────────────────────────────── <span style=\"font-weight: bold\">Toronto Star | Top Stories</span> ───────────────────────────────────────────╮\n",
       "│ Title: <span style=\"font-weight: bold\">No-shows, dropouts and asylum requests — these 10 schools have Canada’s highest rates of </span>                │\n",
       "│ <span style=\"font-weight: bold\">‘non-compliance’ among international students</span>                                                                   │\n",
       "│ Date: 2023-01-12                                                                                                │\n",
       "│                                                                                                                 │\n",
       "│ Data suggests some issues around compliance and enforcement, but institutions say they can't control students   │\n",
       "│ after they are accepted into classes.                                                                           │\n",
       "│                                                                                                                 │\n",
       "╰─ <a href=\"https://www.thestar.com/news/canada/2023/01/12/no-shows-dropouts-and-asylum-requests-these-10-schools-have-canadas-highest-rates-of-non-compliance-among-international-students.html\" target=\"_blank\">https://www.thestar.com/news/canada/2023/01/12/no-shows-dropouts-and-asylum-requests-these-10-schools-have-can</a>─╯\n",
       "</pre>\n"
      ],
      "text/plain": [
       "╭────────────────────────────────────────── \u001b[1mToronto Star | Top Stories\u001b[0m ───────────────────────────────────────────╮\n",
       "│ Title: \u001b[1mNo-shows, dropouts and asylum requests — these 10 schools have Canada’s highest rates of \u001b[0m                │\n",
       "│ \u001b[1m‘non-compliance’ among international students\u001b[0m                                                                   │\n",
       "│ Date: 2023-01-12                                                                                                │\n",
       "│                                                                                                                 │\n",
       "│ Data suggests some issues around compliance and enforcement, but institutions say they can't control students   │\n",
       "│ after they are accepted into classes.                                                                           │\n",
       "│                                                                                                                 │\n",
       "╰─ \u001b]8;id=692386;https://www.thestar.com/news/canada/2023/01/12/no-shows-dropouts-and-asylum-requests-these-10-schools-have-canadas-highest-rates-of-non-compliance-among-international-students.html\u001b\\https://www.thestar.com/news/canada/2023/01/12/no-shows-dropouts-and-asylum-requests-these-10-schools-have-can\u001b]8;;\u001b\\─╯\n"
      ]
     },
     "metadata": {},
     "output_type": "display_data"
    },
    {
     "data": {
      "text/html": [
       "<pre style=\"white-space:pre;overflow-x:auto;line-height:normal;font-family:Menlo,'DejaVu Sans Mono',consolas,'Courier New',monospace\">\n",
       "</pre>\n"
      ],
      "text/plain": [
       "\n"
      ]
     },
     "metadata": {},
     "output_type": "display_data"
    },
    {
     "data": {
      "text/html": [
       "<pre style=\"white-space:pre;overflow-x:auto;line-height:normal;font-family:Menlo,'DejaVu Sans Mono',consolas,'Courier New',monospace\">╭────────────────────────────────────────────── <span style=\"font-weight: bold\">CBC | Business News</span> ──────────────────────────────────────────────╮\n",
       "│ Title: <span style=\"font-weight: bold\">Canada's economy added 104,000 jobs in December, blowing well past expectations</span>                          │\n",
       "│ Date: 2023-01-06                                                                                                │\n",
       "│                                                                                                                 │\n",
       "│ Canada's economy added 104,000 jobs in December as the unemployment rate fell slightly to 5.0 per cent,         │\n",
       "│ Statistics Canada said Friday. But the gain wasn't reflected in working hours, and a hot labour market could    │\n",
       "│ mean another rate hike from the central bank in January.                                                        │\n",
       "│                                                                                                                 │\n",
       "╰──────────────────── <a href=\"https://www.cbc.ca/news/business/canada-jobs-december-1.6705569?cmp=rss\" target=\"_blank\">https://www.cbc.ca/news/business/canada-jobs-december-1.6705569?cmp=rss</a> ────────────────────╯\n",
       "</pre>\n"
      ],
      "text/plain": [
       "╭────────────────────────────────────────────── \u001b[1mCBC | Business News\u001b[0m ──────────────────────────────────────────────╮\n",
       "│ Title: \u001b[1mCanada's economy added 104,000 jobs in December, blowing well past expectations\u001b[0m                          │\n",
       "│ Date: 2023-01-06                                                                                                │\n",
       "│                                                                                                                 │\n",
       "│ Canada's economy added 104,000 jobs in December as the unemployment rate fell slightly to 5.0 per cent,         │\n",
       "│ Statistics Canada said Friday. But the gain wasn't reflected in working hours, and a hot labour market could    │\n",
       "│ mean another rate hike from the central bank in January.                                                        │\n",
       "│                                                                                                                 │\n",
       "╰──────────────────── \u001b]8;id=635527;https://www.cbc.ca/news/business/canada-jobs-december-1.6705569?cmp=rss\u001b\\https://www.cbc.ca/news/business/canada-jobs-december-1.6705569?cmp=rss\u001b]8;;\u001b\\ ────────────────────╯\n"
      ]
     },
     "metadata": {},
     "output_type": "display_data"
    },
    {
     "data": {
      "text/html": [
       "<pre style=\"white-space:pre;overflow-x:auto;line-height:normal;font-family:Menlo,'DejaVu Sans Mono',consolas,'Courier New',monospace\">\n",
       "</pre>\n"
      ],
      "text/plain": [
       "\n"
      ]
     },
     "metadata": {},
     "output_type": "display_data"
    },
    {
     "data": {
      "text/html": [
       "<pre style=\"white-space:pre;overflow-x:auto;line-height:normal;font-family:Menlo,'DejaVu Sans Mono',consolas,'Courier New',monospace\">╭───────────────────────────────────────── <span style=\"font-weight: bold\">Toronto Star | Investigations</span> ─────────────────────────────────────────╮\n",
       "│ Title: <span style=\"font-weight: bold\">Toronto parents less likely to see reduced daycare fees than almost anywhere else in Ontario</span>             │\n",
       "│ Date: 2022-12-22                                                                                                │\n",
       "│                                                                                                                 │\n",
       "│ For-profit daycares opted out of $10/day child care program at much higher rate than non-profits, a Star        │\n",
       "│ analysis found.                                                                                                 │\n",
       "│                                                                                                                 │\n",
       "╰─ <a href=\"https://www.thestar.com/news/investigations/2022/12/22/toronto-parents-less-likely-to-see-reduced-daycare-fees-than-almost-anywhere-else-in-ontario.html\" target=\"_blank\">https://www.thestar.com/news/investigations/2022/12/22/toronto-parents-less-likely-to-see-reduced-daycare-fees</a>─╯\n",
       "</pre>\n"
      ],
      "text/plain": [
       "╭───────────────────────────────────────── \u001b[1mToronto Star | Investigations\u001b[0m ─────────────────────────────────────────╮\n",
       "│ Title: \u001b[1mToronto parents less likely to see reduced daycare fees than almost anywhere else in Ontario\u001b[0m             │\n",
       "│ Date: 2022-12-22                                                                                                │\n",
       "│                                                                                                                 │\n",
       "│ For-profit daycares opted out of $10/day child care program at much higher rate than non-profits, a Star        │\n",
       "│ analysis found.                                                                                                 │\n",
       "│                                                                                                                 │\n",
       "╰─ \u001b]8;id=457479;https://www.thestar.com/news/investigations/2022/12/22/toronto-parents-less-likely-to-see-reduced-daycare-fees-than-almost-anywhere-else-in-ontario.html\u001b\\https://www.thestar.com/news/investigations/2022/12/22/toronto-parents-less-likely-to-see-reduced-daycare-fees\u001b]8;;\u001b\\─╯\n"
      ]
     },
     "metadata": {},
     "output_type": "display_data"
    },
    {
     "data": {
      "text/html": [
       "<pre style=\"white-space:pre;overflow-x:auto;line-height:normal;font-family:Menlo,'DejaVu Sans Mono',consolas,'Courier New',monospace\">\n",
       "</pre>\n"
      ],
      "text/plain": [
       "\n"
      ]
     },
     "metadata": {},
     "output_type": "display_data"
    },
    {
     "data": {
      "text/html": [
       "<pre style=\"white-space:pre;overflow-x:auto;line-height:normal;font-family:Menlo,'DejaVu Sans Mono',consolas,'Courier New',monospace\">╭────────────────────────────────────────── <span style=\"font-weight: bold\">Toronto Star | Top Stories</span> ───────────────────────────────────────────╮\n",
       "│ Title: <span style=\"font-weight: bold\">New chair of telecom regulator takes aim at Canada’s high internet prices</span>                                │\n",
       "│ Date: 2023-01-21                                                                                                │\n",
       "│                                                                                                                 │\n",
       "│ Vicky Eatrides, a lawyer and bureaucrat who held senior roles with the Competition Bureau, said she plans new   │\n",
       "│ rules for the internet market.                                                                                  │\n",
       "│                                                                                                                 │\n",
       "╰─ <a href=\"https://www.thestar.com/business/2023/01/21/what-has-the-crtc-done-for-me-new-chair-of-telecom-regulator-takes-aim-at-canadas-high-internet-prices.html\" target=\"_blank\">https://www.thestar.com/business/2023/01/21/what-has-the-crtc-done-for-me-new-chair-of-telecom-regulator-takes</a>─╯\n",
       "</pre>\n"
      ],
      "text/plain": [
       "╭────────────────────────────────────────── \u001b[1mToronto Star | Top Stories\u001b[0m ───────────────────────────────────────────╮\n",
       "│ Title: \u001b[1mNew chair of telecom regulator takes aim at Canada’s high internet prices\u001b[0m                                │\n",
       "│ Date: 2023-01-21                                                                                                │\n",
       "│                                                                                                                 │\n",
       "│ Vicky Eatrides, a lawyer and bureaucrat who held senior roles with the Competition Bureau, said she plans new   │\n",
       "│ rules for the internet market.                                                                                  │\n",
       "│                                                                                                                 │\n",
       "╰─ \u001b]8;id=653257;https://www.thestar.com/business/2023/01/21/what-has-the-crtc-done-for-me-new-chair-of-telecom-regulator-takes-aim-at-canadas-high-internet-prices.html\u001b\\https://www.thestar.com/business/2023/01/21/what-has-the-crtc-done-for-me-new-chair-of-telecom-regulator-takes\u001b]8;;\u001b\\─╯\n"
      ]
     },
     "metadata": {},
     "output_type": "display_data"
    },
    {
     "data": {
      "text/html": [
       "<pre style=\"white-space:pre;overflow-x:auto;line-height:normal;font-family:Menlo,'DejaVu Sans Mono',consolas,'Courier New',monospace\">\n",
       "</pre>\n"
      ],
      "text/plain": [
       "\n"
      ]
     },
     "metadata": {},
     "output_type": "display_data"
    },
    {
     "data": {
      "text/html": [
       "<pre style=\"white-space:pre;overflow-x:auto;line-height:normal;font-family:Menlo,'DejaVu Sans Mono',consolas,'Courier New',monospace\">╭──────────────────────────────────────────────── <span style=\"font-weight: bold\">Richochet Media</span> ────────────────────────────────────────────────╮\n",
       "│ Title: <span style=\"font-weight: bold\">‘Learn to live with the virus,’ universities are telling teachers</span>                                        │\n",
       "│ Date: Unknown                                                                                                   │\n",
       "│                                                                                                                 │\n",
       "│ Allen had just gotten over a mild case of COVID-19 when the symptoms hit. “Everything started to implode. I     │\n",
       "│ couldn’t stand up. Couldn’t walk. Being out in the heat, my heart rate skyrocketed to 140, 150 beats per        │\n",
       "│ minute,” Allen said. “I’m an enduranc...                                                                        │\n",
       "│                                                                                                                 │\n",
       "╰──────── <a href=\"https://ricochet.media/en/3912/the-message-to-university-teachers-learn-to-live-with-the-virus\" target=\"_blank\">https://ricochet.media/en/3912/the-message-to-university-teachers-learn-to-live-with-the-virus</a> ─────────╯\n",
       "</pre>\n"
      ],
      "text/plain": [
       "╭──────────────────────────────────────────────── \u001b[1mRichochet Media\u001b[0m ────────────────────────────────────────────────╮\n",
       "│ Title: \u001b[1m‘Learn to live with the virus,’ universities are telling teachers\u001b[0m                                        │\n",
       "│ Date: Unknown                                                                                                   │\n",
       "│                                                                                                                 │\n",
       "│ Allen had just gotten over a mild case of COVID-19 when the symptoms hit. “Everything started to implode. I     │\n",
       "│ couldn’t stand up. Couldn’t walk. Being out in the heat, my heart rate skyrocketed to 140, 150 beats per        │\n",
       "│ minute,” Allen said. “I’m an enduranc...                                                                        │\n",
       "│                                                                                                                 │\n",
       "╰──────── \u001b]8;id=469086;https://ricochet.media/en/3912/the-message-to-university-teachers-learn-to-live-with-the-virus\u001b\\https://ricochet.media/en/3912/the-message-to-university-teachers-learn-to-live-with-the-virus\u001b]8;;\u001b\\ ─────────╯\n"
      ]
     },
     "metadata": {},
     "output_type": "display_data"
    },
    {
     "data": {
      "text/html": [
       "<pre style=\"white-space:pre;overflow-x:auto;line-height:normal;font-family:Menlo,'DejaVu Sans Mono',consolas,'Courier New',monospace\">\n",
       "</pre>\n"
      ],
      "text/plain": [
       "\n"
      ]
     },
     "metadata": {},
     "output_type": "display_data"
    },
    {
     "data": {
      "text/html": [
       "<pre style=\"white-space:pre;overflow-x:auto;line-height:normal;font-family:Menlo,'DejaVu Sans Mono',consolas,'Courier New',monospace\">╭─────────────────────────────────────────────────── <span style=\"font-weight: bold\">Macleans</span> ────────────────────────────────────────────────────╮\n",
       "│ Title: <span style=\"font-weight: bold\">My Prediction: Rent-to-own will transform how Canadians buy and sell homes</span>                               │\n",
       "│ Date: 2022-12-15                                                                                                │\n",
       "│                                                                                                                 │\n",
       "│ Archaic rules keep homeownership out of reach for millions. That’s about to change.                             │\n",
       "│ The post My Prediction: Rent-to-own will transform how Canadians buy and sell homes appeared first on           │\n",
       "│ Macleans.ca.                                                                                                    │\n",
       "│                                                                                                                 │\n",
       "╰─ <a href=\"https://www.macleans.ca/year-ahead/my-prediction-rent-to-own-will-transform-how-canadians-buy-and-sell-homes/\" target=\"_blank\">https://www.macleans.ca/year-ahead/my-prediction-rent-to-own-will-transform-how-canadians-buy-and-sell-homes/</a> ─╯\n",
       "</pre>\n"
      ],
      "text/plain": [
       "╭─────────────────────────────────────────────────── \u001b[1mMacleans\u001b[0m ────────────────────────────────────────────────────╮\n",
       "│ Title: \u001b[1mMy Prediction: Rent-to-own will transform how Canadians buy and sell homes\u001b[0m                               │\n",
       "│ Date: 2022-12-15                                                                                                │\n",
       "│                                                                                                                 │\n",
       "│ Archaic rules keep homeownership out of reach for millions. That’s about to change.                             │\n",
       "│ The post My Prediction: Rent-to-own will transform how Canadians buy and sell homes appeared first on           │\n",
       "│ Macleans.ca.                                                                                                    │\n",
       "│                                                                                                                 │\n",
       "╰─ \u001b]8;id=190655;https://www.macleans.ca/year-ahead/my-prediction-rent-to-own-will-transform-how-canadians-buy-and-sell-homes/\u001b\\https://www.macleans.ca/year-ahead/my-prediction-rent-to-own-will-transform-how-canadians-buy-and-sell-homes/\u001b]8;;\u001b\\ ─╯\n"
      ]
     },
     "metadata": {},
     "output_type": "display_data"
    },
    {
     "data": {
      "text/html": [
       "<pre style=\"white-space:pre;overflow-x:auto;line-height:normal;font-family:Menlo,'DejaVu Sans Mono',consolas,'Courier New',monospace\">\n",
       "</pre>\n"
      ],
      "text/plain": [
       "\n"
      ]
     },
     "metadata": {},
     "output_type": "display_data"
    }
   ],
   "source": [
    "r.search(\"rate\", mark_as_read=False)"
   ]
  },
  {
   "cell_type": "markdown",
   "metadata": {},
   "source": [
    "## Tag Entry"
   ]
  },
  {
   "cell_type": "code",
   "execution_count": null,
   "metadata": {},
   "outputs": [],
   "source": [
    "test = list(r._reader.get_entries())"
   ]
  },
  {
   "cell_type": "code",
   "execution_count": null,
   "metadata": {},
   "outputs": [],
   "source": [
    "r._reader.set_tag(test[0], \"foobar\")"
   ]
  },
  {
   "cell_type": "code",
   "execution_count": null,
   "metadata": {},
   "outputs": [
    {
     "data": {
      "text/plain": [
       "[('foobar', None)]"
      ]
     },
     "execution_count": null,
     "metadata": {},
     "output_type": "execute_result"
    }
   ],
   "source": [
    "list(r._reader.get_tags(test[0]))"
   ]
  },
  {
   "cell_type": "code",
   "execution_count": null,
   "metadata": {},
   "outputs": [
    {
     "data": {
      "text/plain": [
       "['foobar']"
      ]
     },
     "execution_count": null,
     "metadata": {},
     "output_type": "execute_result"
    }
   ],
   "source": [
    "# We added a method to just return the tag key:\n",
    "r._get_tags(test[0])"
   ]
  },
  {
   "cell_type": "markdown",
   "metadata": {},
   "source": [
    "## Remove tag from entry"
   ]
  },
  {
   "cell_type": "code",
   "execution_count": null,
   "metadata": {},
   "outputs": [],
   "source": [
    "r._reader.delete_tag(test[0], \"foobar\")"
   ]
  },
  {
   "cell_type": "code",
   "execution_count": null,
   "metadata": {},
   "outputs": [
    {
     "data": {
      "text/plain": [
       "[]"
      ]
     },
     "execution_count": null,
     "metadata": {},
     "output_type": "execute_result"
    }
   ],
   "source": [
    "list(r._get_tags(test[0]))"
   ]
  },
  {
   "cell_type": "markdown",
   "metadata": {},
   "source": [
    "## Mark as Important/Unimportant"
   ]
  },
  {
   "cell_type": "code",
   "execution_count": null,
   "metadata": {},
   "outputs": [],
   "source": [
    "r._reader.mark_entry_as_important(test[0])\n",
    "r._reader.mark_entry_as_unimportant(test[0])"
   ]
  },
  {
   "cell_type": "markdown",
   "metadata": {},
   "source": [
    "## Mark as Read / Unread"
   ]
  },
  {
   "cell_type": "code",
   "execution_count": null,
   "metadata": {},
   "outputs": [],
   "source": [
    "r._reader.mark_entry_as_read(test[0])\n",
    "r._reader.mark_entry_as_unread(test[0])"
   ]
  },
  {
   "cell_type": "markdown",
   "metadata": {},
   "source": [
    "## Automatically mark entries as read\n",
    "\n",
    "When updating feeds, entries with titles matching these strings will automatically be marked as read"
   ]
  },
  {
   "cell_type": "code",
   "execution_count": null,
   "metadata": {},
   "outputs": [],
   "source": [
    "for i in [\n",
    "    \"Musk\",\n",
    "    \"Apple\",\n",
    "    \"Bezos\",\n",
    "    \"Google\",\n",
    "    \"Samsung\",\n",
    "    \"iPhone\",\n",
    "    \"iPad\",\n",
    "    \"guardian.com/sport/\",\n",
    "    \"guardian.com/football/\",\n",
    "    \"thestar.com/sports\",\n",
    "]:\n",
    "    r.add_to_blacklist(i)"
   ]
  },
  {
   "cell_type": "code",
   "execution_count": null,
   "metadata": {},
   "outputs": [
    {
     "data": {
      "text/html": [
       "<pre style=\"white-space:pre;overflow-x:auto;line-height:normal;font-family:Menlo,'DejaVu Sans Mono',consolas,'Courier New',monospace\"><span style=\"font-weight: bold\">[</span>\n",
       "    <span style=\"color: #008000; text-decoration-color: #008000\">'Musk'</span>,\n",
       "    <span style=\"color: #008000; text-decoration-color: #008000\">'Apple'</span>,\n",
       "    <span style=\"color: #008000; text-decoration-color: #008000\">'Bezos'</span>,\n",
       "    <span style=\"color: #008000; text-decoration-color: #008000\">'Google'</span>,\n",
       "    <span style=\"color: #008000; text-decoration-color: #008000\">'Samsung'</span>,\n",
       "    <span style=\"color: #008000; text-decoration-color: #008000\">'iPhone'</span>,\n",
       "    <span style=\"color: #008000; text-decoration-color: #008000\">'iPad'</span>,\n",
       "    <span style=\"color: #008000; text-decoration-color: #008000\">'guardian.com/sport/'</span>,\n",
       "    <span style=\"color: #008000; text-decoration-color: #008000\">'guardian.com/football/'</span>,\n",
       "    <span style=\"color: #008000; text-decoration-color: #008000\">'thestar.com/sports'</span>\n",
       "<span style=\"font-weight: bold\">]</span>\n",
       "</pre>\n"
      ],
      "text/plain": [
       "\u001b[1m[\u001b[0m\n",
       "    \u001b[32m'Musk'\u001b[0m,\n",
       "    \u001b[32m'Apple'\u001b[0m,\n",
       "    \u001b[32m'Bezos'\u001b[0m,\n",
       "    \u001b[32m'Google'\u001b[0m,\n",
       "    \u001b[32m'Samsung'\u001b[0m,\n",
       "    \u001b[32m'iPhone'\u001b[0m,\n",
       "    \u001b[32m'iPad'\u001b[0m,\n",
       "    \u001b[32m'guardian.com/sport/'\u001b[0m,\n",
       "    \u001b[32m'guardian.com/football/'\u001b[0m,\n",
       "    \u001b[32m'thestar.com/sports'\u001b[0m\n",
       "\u001b[1m]\u001b[0m\n"
      ]
     },
     "metadata": {},
     "output_type": "display_data"
    }
   ],
   "source": [
    "r.blacklist_show()"
   ]
  },
  {
   "cell_type": "code",
   "execution_count": null,
   "metadata": {},
   "outputs": [],
   "source": [
    "# r.update()"
   ]
  },
  {
   "cell_type": "markdown",
   "metadata": {},
   "source": [
    "## Automatically mark entries as important"
   ]
  },
  {
   "cell_type": "code",
   "execution_count": null,
   "metadata": {},
   "outputs": [],
   "source": [
    "for i in [\"interest rate\", \"Bank of Canada\", \"housing market\"]:\n",
    "    r.whitelist_add(i)"
   ]
  },
  {
   "cell_type": "code",
   "execution_count": null,
   "metadata": {},
   "outputs": [
    {
     "data": {
      "text/html": [
       "<pre style=\"white-space:pre;overflow-x:auto;line-height:normal;font-family:Menlo,'DejaVu Sans Mono',consolas,'Courier New',monospace\"><span style=\"font-weight: bold\">[</span><span style=\"color: #008000; text-decoration-color: #008000\">'interest rate'</span>, <span style=\"color: #008000; text-decoration-color: #008000\">'Bank of Canada'</span>, <span style=\"color: #008000; text-decoration-color: #008000\">'housing market'</span><span style=\"font-weight: bold\">]</span>\n",
       "</pre>\n"
      ],
      "text/plain": [
       "\u001b[1m[\u001b[0m\u001b[32m'interest rate'\u001b[0m, \u001b[32m'Bank of Canada'\u001b[0m, \u001b[32m'housing market'\u001b[0m\u001b[1m]\u001b[0m\n"
      ]
     },
     "metadata": {},
     "output_type": "display_data"
    }
   ],
   "source": [
    "r.whitelist_show()"
   ]
  },
  {
   "cell_type": "code",
   "execution_count": null,
   "metadata": {},
   "outputs": [],
   "source": [
    "# r.update()"
   ]
  },
  {
   "cell_type": "markdown",
   "metadata": {},
   "source": [
    "## Low level access to data"
   ]
  },
  {
   "cell_type": "code",
   "execution_count": null,
   "metadata": {},
   "outputs": [
    {
     "data": {
      "text/plain": [
       "Entry(id='1.6722214', updated=None, title='Actor Jeremy Renner reveals he broke more than 30 bones in snowplow accident', link='https://www.cbc.ca/news/entertainment/jeremy-renner-snowplow-accident-broken-bones-1.6722214?cmp=rss', author='The Associated Press', published=datetime.datetime(2023, 1, 21, 23, 14, 3, tzinfo=datetime.timezone.utc), summary='<img alt=\"File photo of Jeremy Renner, taken in November 2021\" height=\"259\" src=\"https://i.cbc.ca/1.6722217.1674341826!/fileImage/httpImage/image.jpg_gen/derivatives/16x9_460/file-photo-of-jeremy-renner-taken-in-november-2021.jpg\" title=\"Jeremy Renner attends the &quot;Hawkeye&quot; Special Screening at AMC Lincoln Square Theater on November 22, 2021 in New York City.\" width=\"460\" />                <p>Actor Jeremy Renner says he broke more than 30 bones in a snowplow accident on New Year\\'s Day.</p>', content=(), enclosures=(), read=False, read_modified=datetime.datetime(2023, 1, 21, 23, 33, 38, 394852, tzinfo=datetime.timezone.utc), important=False, important_modified=datetime.datetime(2023, 1, 21, 23, 33, 37, 892264, tzinfo=datetime.timezone.utc), added=datetime.datetime(2023, 1, 21, 23, 27, 44, 524222, tzinfo=datetime.timezone.utc), added_by='feed', last_updated=datetime.datetime(2023, 1, 21, 23, 27, 44, 524222, tzinfo=datetime.timezone.utc), original_feed_url='https://rss.cbc.ca/lineup/topstories.xml', feed=Feed(url='https://rss.cbc.ca/lineup/topstories.xml', updated=datetime.datetime(2023, 1, 21, 23, 14, 3, tzinfo=datetime.timezone.utc), title='CBC | Top Stories News', link='http://www.cbc.ca/news/?cmp=rss', author=None, subtitle='FOR PERSONAL USE ONLY', version='rss20', user_title=None, added=datetime.datetime(2023, 1, 13, 0, 25, 51, 203737, tzinfo=datetime.timezone.utc), last_updated=datetime.datetime(2023, 1, 21, 23, 27, 44, 524222, tzinfo=datetime.timezone.utc), last_exception=None, updates_enabled=True))"
      ]
     },
     "execution_count": null,
     "metadata": {},
     "output_type": "execute_result"
    }
   ],
   "source": [
    "entries = r._get_entries(limit=1)\n",
    "[i for i in entries][0]"
   ]
  },
  {
   "cell_type": "markdown",
   "metadata": {},
   "source": [
    "## CLI"
   ]
  },
  {
   "cell_type": "code",
   "execution_count": null,
   "metadata": {},
   "outputs": [],
   "source": [
    "# | export\n",
    "\n",
    "\n",
    "def main():\n",
    "    fire.Fire(PyNewsReader)"
   ]
  },
  {
   "cell_type": "code",
   "execution_count": null,
   "metadata": {},
   "outputs": [
    {
     "name": "stdout",
     "output_type": "stream",
     "text": [
      "\u001b[1mNAME\u001b[0m\n",
      "    ipykernel_launcher.py -f /home/mark/.local/share/jupyter/runtime/kernel-09dfadad-262a-4a63-a09e-bcd46569e84b.json\n",
      "\n",
      "\u001b[1mSYNOPSIS\u001b[0m\n",
      "    ipykernel_launcher.py -f /home/mark/.local/share/jupyter/runtime/kernel-09dfadad-262a-4a63-a09e-bcd46569e84b.json \u001b[4mCOMMAND\u001b[0m\n",
      "\n",
      "\u001b[1mCOMMANDS\u001b[0m\n",
      "    \u001b[1m\u001b[4mCOMMAND\u001b[0m\u001b[0m is one of the following:\n",
      "\n",
      "     add_feed\n",
      "       Add feed to pynewsreader\n",
      "\n",
      "     add_to_blacklist\n",
      "       Add entry to blacklist\n",
      "\n",
      "     add_to_whitelist\n",
      "       Add entry to whitelist\n",
      "\n",
      "     blacklist_add\n",
      "       Add entry to blacklist\n",
      "\n",
      "     blacklist_remove\n",
      "       Remove entry from blacklist\n",
      "\n",
      "     blacklist_show\n",
      "       Show blacklist\n",
      "\n",
      "     feeds\n",
      "       List pynewsreader feeds\n",
      "\n",
      "     remove_feed\n",
      "       Remove feed from pynewsreader instance\n",
      "\n",
      "     remove_from_blacklist\n",
      "       Remove entry from blacklist\n",
      "\n",
      "     remove_from_whitelist\n",
      "       Remove whitelist entry\n",
      "\n",
      "     search\n",
      "       Search entries and pretty print results\n",
      "\n",
      "     show\n",
      "       Pretty print entries\n",
      "\n",
      "     update\n",
      "       Update feeds and search\n",
      "\n",
      "     whitelist_add\n",
      "       Add entry to whitelist\n",
      "\n",
      "     whitelist_remove\n",
      "       Remove whitelist entry\n",
      "\n",
      "     whitelist_show\n",
      "       Show whitelist\n"
     ]
    }
   ],
   "source": [
    "# | export\n",
    "\n",
    "\n",
    "if __name__ == \"__main__\":\n",
    "    main()"
   ]
  },
  {
   "cell_type": "code",
   "execution_count": null,
   "metadata": {},
   "outputs": [],
   "source": [
    "# | hide\n",
    "\n",
    "# To Do:\n",
    "# * User interface"
   ]
  },
  {
   "cell_type": "code",
   "execution_count": null,
   "metadata": {},
   "outputs": [],
   "source": [
    "# | hide\n",
    "import nbdev\n",
    "\n",
    "nbdev.nbdev_export()"
   ]
  }
 ],
 "metadata": {
  "kernelspec": {
   "display_name": "Python 3",
   "language": "python",
   "name": "python3"
  }
 },
 "nbformat": 4,
 "nbformat_minor": 4
}
