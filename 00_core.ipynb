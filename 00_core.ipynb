{
 "cells": [
  {
   "cell_type": "markdown",
   "metadata": {},
   "source": [
    "# core\n",
    "\n",
    "> Main codebase for fetching and saving RSS feeds"
   ]
  },
  {
   "cell_type": "code",
   "execution_count": null,
   "metadata": {},
   "outputs": [],
   "source": [
    "# | default_exp core"
   ]
  },
  {
   "cell_type": "code",
   "execution_count": null,
   "metadata": {},
   "outputs": [],
   "source": [
    "# | hide\n",
    "from nbdev.showdoc import *"
   ]
  },
  {
   "cell_type": "code",
   "execution_count": null,
   "metadata": {},
   "outputs": [],
   "source": [
    "# | export\n",
    "\n",
    "import json\n",
    "import logging\n",
    "from collections import namedtuple\n",
    "from pathlib import Path\n",
    "from typing import *\n",
    "\n",
    "import fire\n",
    "import reader\n",
    "import rich\n",
    "from bs4 import BeautifulSoup\n",
    "from fastcore.basics import patch_to\n",
    "from rich import print\n",
    "from rich.console import Console\n",
    "from rich.panel import Panel\n",
    "from rich.text import Text\n",
    "\n",
    "console = Console()\n",
    "\n",
    "logger = logging.getLogger(__name__)\n",
    "\n",
    "\n",
    "def strip_html(s: str):\n",
    "    s = BeautifulSoup(s, \"html.parser\")\n",
    "    return s.text"
   ]
  },
  {
   "cell_type": "code",
   "execution_count": null,
   "metadata": {},
   "outputs": [],
   "source": [
    "# | export\n",
    "\n",
    "\n",
    "class Feed:\n",
    "    \"\"\"RSS feed class\"\"\"\n",
    "\n",
    "    def __init__(self, url: str, name: str = None, tags: List[str] = []):\n",
    "        self.url = url\n",
    "        self.name = name\n",
    "        self.tags = tags\n",
    "\n",
    "    def add_tag(self, tag: str):\n",
    "        if tag not in self.tags:\n",
    "            self.tags.append(tag)\n",
    "\n",
    "    def remove_tag(self, tag: str):\n",
    "        if tag in self.tags:\n",
    "            self.tags.remove(tag)"
   ]
  },
  {
   "cell_type": "code",
   "execution_count": null,
   "metadata": {},
   "outputs": [],
   "source": [
    "# | export\n",
    "\n",
    "\n",
    "class PyNewsReader:\n",
    "    def __init__(self, feeds=List[Feed]):\n",
    "        self._dbfolder = Path().home() / \".cache/pynewsreader\"\n",
    "        if not self._dbfolder.exists():\n",
    "            self._dbfolder.mkdir(parents=True)\n",
    "\n",
    "        # If custom feed names exist, read them in\n",
    "        feed_names_path = self._dbfolder / \"feed_names.json\"\n",
    "        if feed_names_path.exists():\n",
    "            with open(self._dbfolder / \"feed_names.json\", \"rt\") as myfile:\n",
    "                self._feed_names = json.load(myfile)\n",
    "        else:\n",
    "            self._feed_names = {}\n",
    "\n",
    "        # If title blacklist exists, read it in\n",
    "        title_blacklist_path = self._dbfolder / \"title_blacklist.json\"\n",
    "        if title_blacklist_path.exists():\n",
    "            with open(self._dbfolder / \"title_blacklist.json\", \"rt\") as myfile:\n",
    "                self._title_blacklist = json.load(myfile)\n",
    "        else:\n",
    "            self._title_blacklist = []\n",
    "\n",
    "        self._reader = reader.make_reader(\n",
    "            str(self._dbfolder / \"db.sqlite\"),\n",
    "            plugins=[\"reader.enclosure_dedupe\", \"reader.entry_dedupe\"],\n",
    "        )\n",
    "\n",
    "        # If title whitelist exists, read it in\n",
    "        title_whitelist_path = self._dbfolder / \"title_whitelist.json\"\n",
    "        if title_whitelist_path.exists():\n",
    "            with open(self._dbfolder / \"title_whitelist.json\", \"rt\") as myfile:\n",
    "                self._title_whitelist = json.load(myfile)\n",
    "        else:\n",
    "            self._title_whitelist = []\n",
    "\n",
    "        self._reader = reader.make_reader(\n",
    "            str(self._dbfolder / \"db.sqlite\"),\n",
    "            plugins=[\"reader.enclosure_dedupe\", \"reader.entry_dedupe\"],\n",
    "        )\n",
    "\n",
    "        self._reader.enable_search()\n",
    "\n",
    "        def hook(session, request, **kwargs):\n",
    "            request.headers.setdefault(\n",
    "                \"User-Agent\",\n",
    "                \"Mozilla/5.0 (X11; Linux x86_64; rv:132.0) Gecko/20100101 Firefox/132.0\",\n",
    "            )\n",
    "\n",
    "        self._reader._parser.session_factory.request_hooks.append(hook)\n",
    "\n",
    "    def _print_entries(\n",
    "        self, entries: List[reader.Entry], mark_as_read: bool = True, limit: int = 10\n",
    "    ):\n",
    "        \"\"\"Pretty print entries - supports reader.Reader.get_entries arguments\"\"\"\n",
    "        displayed_links = set()\n",
    "        for e in entries:\n",
    "            if e.link in displayed_links:\n",
    "                # Don't display duplicates\n",
    "                self._reader.mark_entry_as_read(e)\n",
    "            else:\n",
    "                displayed_links.add(e.link)\n",
    "                if e.published:\n",
    "                    published_date = \"Date: \" + e.published.isoformat()[:10]\n",
    "                else:\n",
    "                    published_date = \"Date: Unknown\"\n",
    "                if mark_as_read:\n",
    "                    self._reader.mark_entry_as_read(e)\n",
    "\n",
    "                feed_title = f\"[bold]{self._get_feed_title(e.original_feed_url)}[/bold]\"\n",
    "\n",
    "                if e.important:\n",
    "                    panel_body = \":exclamation_mark:\"\n",
    "                else:\n",
    "                    panel_body = \"\"\n",
    "                panel_body += f\"Title: [bold]{e.title}[/bold]\" + \"\\n\"\n",
    "                panel_body += str(published_date) + \"\\n\\n\"\n",
    "                try:\n",
    "                    panel_body += strip_html(e.summary).strip() + \"\\n\"\n",
    "                except TypeError:\n",
    "                    panel_body += str(e.summary) + \"\\n\"\n",
    "\n",
    "                console.print(\n",
    "                    Panel(\n",
    "                        panel_body,\n",
    "                        title=feed_title,\n",
    "                        subtitle=f\"[link={e.link}]{e.link}[/link]\",\n",
    "                    )\n",
    "                )\n",
    "                console.print()\n",
    "            if len(displayed_links) == limit:\n",
    "                return\n",
    "\n",
    "    def _get_feed_title(self, url: str):\n",
    "        \"\"\"Get display title for pynewsreader feed\"\"\"\n",
    "        if url in self._feed_names and self._feed_names[url] is not None:\n",
    "            return self._feed_names[url]\n",
    "        elif self._reader.get_feed(url).title:\n",
    "            return self._reader.get_feed(url).title\n",
    "        else:\n",
    "            return self._reader.get_feed(url).url\n",
    "\n",
    "    def _get_entries(\n",
    "        self, important: bool = None, read: Union[None, bool] = None, limit: int = 10\n",
    "    ) -> List[reader.Entry]:\n",
    "        \"\"\"Get entries in reader.Entry format\"\"\"\n",
    "        return self._reader.get_entries(read=read, limit=limit, important=important)\n",
    "\n",
    "    def _get_tags(self, entry: reader.Entry):\n",
    "        \"\"\"Get tags for a given entry\"\"\"\n",
    "        return [i[0] for i in list(self._reader.get_tags(entry))]\n",
    "\n",
    "    def _mark_matching_entries_as_read(self, match_strings: List):\n",
    "        for i in self._reader.get_entries(read=False):\n",
    "            for filter_string in match_strings:\n",
    "                if filter_string in i.title:\n",
    "                    print(f\"Marking entry as read: {i.title}\")\n",
    "                    self._reader.mark_entry_as_read(i)\n",
    "                if filter_string in i.link:\n",
    "                    print(f\"Marking entry as read: {i.title}\")\n",
    "                    self._reader.mark_entry_as_read(i)\n",
    "\n",
    "    def _mark_matching_entries_as_important(self, match_strings: List):\n",
    "        for i in self._reader.get_entries(read=False):\n",
    "            for filter_string in match_strings:\n",
    "                if filter_string in i.title:\n",
    "                    print(f\"Marking entry as important: {i.title}\")\n",
    "                    self._reader.mark_entry_as_important(i)\n",
    "\n",
    "    def _add_tag(self, entry: reader.Entry, tag_key: str, tag_value: Dict = None):\n",
    "        \"\"\"Add tag to entry\"\"\"\n",
    "        reader.Reader.set_tag(entry, tag_key, tag_value)\n",
    "\n",
    "    def _remove_tag(self, entry: reader.Entry, tag_key: str):\n",
    "        \"\"\"Remove tag from entry\"\"\"\n",
    "        self._reader.delete_tag(entry, tag_key)\n",
    "\n",
    "    def _mark_important(self, feed_url: str, entry_id: str):\n",
    "        article = self._reader.get_entry((feed_url, entry_id))\n",
    "        self._reader.mark_entry_as_important(article)\n",
    "\n",
    "    def _mark_unimportant(self, feed_url: str, entry_id: str):\n",
    "        article = self._reader.get_entry((feed_url, entry_id))\n",
    "        self._reader.mark_entry_as_unimportant(article)"
   ]
  },
  {
   "cell_type": "code",
   "execution_count": null,
   "metadata": {},
   "outputs": [],
   "source": [
    "# | export\n",
    "\n",
    "\n",
    "@patch_to(PyNewsReader)\n",
    "def blacklist_add(self, blacklist_string: str):\n",
    "    \"\"\"Add entry to blacklist\"\"\"\n",
    "    if blacklist_string not in self._title_blacklist:\n",
    "        self._title_blacklist.append(blacklist_string)\n",
    "        with open(self._dbfolder / \"title_blacklist.json\", \"wt\") as myfile:\n",
    "            json.dump(self._title_blacklist, myfile)\n",
    "\n",
    "\n",
    "@patch_to(PyNewsReader)\n",
    "def blacklist_remove(self, blacklist_string: str):\n",
    "    \"\"\"Remove entry from blacklist\"\"\"\n",
    "    if blacklist_string in self._title_blacklist:\n",
    "        self._title_blacklist.remove(blacklist_string)\n",
    "        with open(self._dbfolder / \"title_blacklist.json\", \"wt\") as myfile:\n",
    "            json.dump(self._title_blacklist, myfile)\n",
    "\n",
    "\n",
    "@patch_to(PyNewsReader)\n",
    "def blacklist_show(self):\n",
    "    \"\"\"Show blacklist\"\"\"\n",
    "    print(self._title_blacklist)"
   ]
  },
  {
   "cell_type": "code",
   "execution_count": null,
   "metadata": {},
   "outputs": [],
   "source": [
    "#| export\n",
    "\n",
    "\n",
    "@patch_to(PyNewsReader)\n",
    "def whitelist_add(self, whitelist_string: str):\n",
    "    \"\"\"Add entry to whitelist\"\"\"\n",
    "    if whitelist_string not in self._title_whitelist:\n",
    "        self._title_whitelist.append(whitelist_string)\n",
    "        with open(self._dbfolder / \"title_whitelist.json\", \"wt\") as myfile:\n",
    "            json.dump(self._title_whitelist, myfile)\n",
    "        for entry in self._get_entries(limit=None):\n",
    "            if whitelist_string in entry.title:\n",
    "                self._reader.mark_entry_as_important(entry)\n",
    "\n",
    "\n",
    "@patch_to(PyNewsReader)\n",
    "def whitelist_remove(self, whitelist_string: str):\n",
    "    \"\"\"Remove whitelist entry\"\"\"\n",
    "    if whitelist_string in self._title_whitelist:\n",
    "        self._title_whitelist.remove(whitelist_string)\n",
    "        with open(self._dbfolder / \"title_whitelist.json\", \"wt\") as myfile:\n",
    "            json.dump(self._title_whitelist, myfile)\n",
    "        for entry in self._get_entries(limit=None):\n",
    "            if whitelist_string in entry.title:\n",
    "                self._reader.mark_entry_as_unimportant(entry)\n",
    "\n",
    "\n",
    "@patch_to(PyNewsReader)\n",
    "def whitelist_show(self):\n",
    "    \"\"\"Show whitelist\"\"\"\n",
    "    print(self._title_whitelist)"
   ]
  },
  {
   "cell_type": "code",
   "execution_count": null,
   "metadata": {},
   "outputs": [],
   "source": [
    "# | export\n",
    "\n",
    "\n",
    "@patch_to(PyNewsReader)\n",
    "def update(self, workers: int = 8):\n",
    "    \"\"\"Update feeds and search\"\"\"\n",
    "    self._reader.update_feeds(workers=workers)\n",
    "    self._reader.update_search()\n",
    "    if len(self._title_blacklist) > 0:\n",
    "        self._mark_matching_entries_as_read(self._title_blacklist)\n",
    "    if len(self._title_whitelist) > 0:\n",
    "        self._mark_matching_entries_as_important(self._title_whitelist)"
   ]
  },
  {
   "cell_type": "code",
   "execution_count": null,
   "metadata": {},
   "outputs": [],
   "source": [
    "# | export\n",
    "\n",
    "\n",
    "@patch_to(PyNewsReader)\n",
    "def add_feed(self, feed: Union[Feed, str]):\n",
    "    \"\"\"Add feed to pynewsreader\n",
    "\n",
    "    Args:\n",
    "        feed (Feed): pynewsreader Feed to add\n",
    "    \"\"\"\n",
    "    if isinstance(feed, Feed):\n",
    "        self._feed_names[feed.url] = feed.name\n",
    "        self._reader.add_feed(feed.url.rstrip(\"/\"), exist_ok=True)\n",
    "    elif isinstance(feed, str):\n",
    "        self._reader.add_feed(feed.rstrip(\"/\"), exist_ok=True)\n",
    "    else:\n",
    "        raise Exception(\"Must be str or Feed type to add\")\n",
    "\n",
    "    # Save names to file\n",
    "    with open(self._dbfolder / \"feed_names.json\", \"wt\") as myfile:\n",
    "        json.dump(self._feed_names, myfile)\n",
    "\n",
    "\n",
    "@patch_to(PyNewsReader)\n",
    "def remove_feed(self, feed: Union[Feed, str]):\n",
    "    \"\"\"Remove feed from pynewsreader instance\n",
    "\n",
    "    Args:\n",
    "        feed (Union[Feed, str]): Feed to remove\n",
    "    \"\"\"\n",
    "\n",
    "    if isinstance(feed, Feed):\n",
    "        self._reader.delete_feed(feed.url)\n",
    "    elif isinstance(feed, str):\n",
    "        self._reader.delete_feed(feed)\n",
    "    else:\n",
    "        raise Exception(TypeError)\n",
    "\n",
    "\n",
    "@patch_to(PyNewsReader)\n",
    "def feeds(self):\n",
    "    \"\"\"List pynewsreader feeds\n",
    "\n",
    "    Returns:\n",
    "        List[str]: List of names of current pynewsreader feeds\n",
    "    \"\"\"\n",
    "    feed_object = namedtuple(\"Feeds\", [\"url\", \"name\"])\n",
    "    return [\n",
    "        feed_object(i.url, self._get_feed_title(i.url))\n",
    "        for i in self._reader.get_feeds()\n",
    "    ]"
   ]
  },
  {
   "cell_type": "code",
   "execution_count": null,
   "metadata": {},
   "outputs": [],
   "source": [
    "# | export\n",
    "\n",
    "\n",
    "@patch_to(PyNewsReader)\n",
    "def show(\n",
    "    self,\n",
    "    limit: int = 6,\n",
    "    read: bool = False,\n",
    "    important: bool = None,\n",
    "    mark_as_read: bool = True,\n",
    "):\n",
    "    \"\"\"Pretty print entries\n",
    "\n",
    "    Args:\n",
    "        limit (int, optional): Number of entries to show. Defaults to 5.\n",
    "        read (bool, optional): Show read entries (True), unread entries (False), or all entries (None). Defaults to None.\n",
    "        mark_as_read (bool, optional): Mark displayed entries as read. Defaults to False.\n",
    "    \"\"\"\n",
    "    self._print_entries(\n",
    "        self._get_entries(read=read, important=important, limit=limit * 2),\n",
    "        limit=limit,\n",
    "        mark_as_read=mark_as_read,\n",
    "    )"
   ]
  },
  {
   "cell_type": "code",
   "execution_count": null,
   "metadata": {},
   "outputs": [],
   "source": [
    "# | export\n",
    "\n",
    "\n",
    "@patch_to(PyNewsReader)\n",
    "def search(self, query: str, mark_as_read: bool = True, limit: int = 10):\n",
    "    \"\"\"Search entries and pretty print results\n",
    "\n",
    "    Args:a\n",
    "        query (str): Search query\n",
    "        mark_as_read (bool, optional): Mark results as read? Defaults to True.\n",
    "    \"\"\"\n",
    "    entries = [self._reader.get_entry(i) for i in self._reader.search_entries(query)]\n",
    "    if len(entries) > 0:\n",
    "        self._print_entries(\n",
    "            entries,\n",
    "            mark_as_read=mark_as_read,\n",
    "            limit=limit,\n",
    "        )"
   ]
  },
  {
   "cell_type": "code",
   "execution_count": null,
   "metadata": {},
   "outputs": [],
   "source": [
    "r = PyNewsReader()"
   ]
  },
  {
   "cell_type": "markdown",
   "metadata": {},
   "source": [
    "## Add Feeds"
   ]
  },
  {
   "cell_type": "code",
   "execution_count": null,
   "metadata": {},
   "outputs": [],
   "source": [
    "# With names\n",
    "for i in [\n",
    "    Feed(url=\"https://ricochet.media/en/feed\", name=\"Richochet Media\"),\n",
    "    Feed(url=\"https://thetyee.ca/rss2.xml\", name=\"The Tyee\"),\n",
    "]:\n",
    "    r.add_feed(i)\n",
    "\n",
    "# Use the default name from the feed\n",
    "for i in [\n",
    "    \"https://www.theguardian.com/science/rss\",\n",
    "    \"https://www.theguardian.com/world/canada/rss\",\n",
    "]:\n",
    "    r.add_feed(Feed(i))"
   ]
  },
  {
   "cell_type": "markdown",
   "metadata": {},
   "source": [
    "## Update Feeds"
   ]
  },
  {
   "cell_type": "code",
   "execution_count": null,
   "metadata": {},
   "outputs": [
    {
     "data": {
      "text/html": [
       "<pre style=\"white-space:pre;overflow-x:auto;line-height:normal;font-family:Menlo,'DejaVu Sans Mono',consolas,'Courier New',monospace\">Marking entry as important: Harold the Mortgage Closer accused of charging ‘vulnerable’ people interest rates up to\n",
       "<span style=\"color: #008080; text-decoration-color: #008080; font-weight: bold\">76</span> per cent\n",
       "</pre>\n"
      ],
      "text/plain": [
       "Marking entry as important: Harold the Mortgage Closer accused of charging ‘vulnerable’ people interest rates up to\n",
       "\u001b[1;36m76\u001b[0m per cent\n"
      ]
     },
     "metadata": {},
     "output_type": "display_data"
    }
   ],
   "source": [
    "r.update()"
   ]
  },
  {
   "cell_type": "markdown",
   "metadata": {},
   "source": [
    "## List Feeds"
   ]
  },
  {
   "cell_type": "code",
   "execution_count": null,
   "metadata": {},
   "outputs": [
    {
     "data": {
      "text/plain": [
       "[Feeds(url='https://openai.com/blog/rss.xml', name='OpenAI Blog'),\n",
       " Feeds(url='https://ricochet.media/en/feed', name='Richochet Media'),\n",
       " Feeds(url='https://www.macleans.ca/feed', name='https://www.macleans.ca/feed'),\n",
       " Feeds(url='https://blog.google/technology/ai/rss', name='AI'),\n",
       " Feeds(url='https://www.answer.ai/index.xml', name='Answer.ai Blog'),\n",
       " Feeds(url='https://www.theguardian.com/world/canada/rss', name='Canada | The Guardian'),\n",
       " Feeds(url='https://www.cbc.ca/webfeed/rss/rss-business', name='CBC | Business'),\n",
       " Feeds(url='https://www.cbc.ca/webfeed/rss/rss-canada', name='CBC | Canada'),\n",
       " Feeds(url='https://www.cbc.ca/webfeed/rss/rss-canada-ottawa', name='CBC | Ottawa'),\n",
       " Feeds(url='https://www.cbc.ca/webfeed/rss/rss-technology', name='CBC | Technology'),\n",
       " Feeds(url='https://www.cbc.ca/webfeed/rss/rss-topstories', name='CBC | Top Stories'),\n",
       " Feeds(url='https://www.cbc.ca/webfeed/rss/rss-world', name='CBC | World'),\n",
       " Feeds(url='https://engineering.fb.com/feed', name='Facebook AI Blog'),\n",
       " Feeds(url='https://hf.co/blog/feed.xml', name='Huggingface Blog'),\n",
       " Feeds(url='https://ricochet.media/feed', name='Ricochet'),\n",
       " Feeds(url='https://www.theguardian.com/science/rss', name='Science | The Guardian'),\n",
       " Feeds(url='https://simonwillison.net/atom/everything', name=\"Simon Willison's Weblog\"),\n",
       " Feeds(url='https://www.theguardian.com/uk/technology/rss', name='Technology | The Guardian'),\n",
       " Feeds(url='https://www.thebeaverton.com/feed/?q=1684448990', name='The Beaverton'),\n",
       " Feeds(url='https://thenarwhal.ca/feed', name='The Narwhal'),\n",
       " Feeds(url='https://thetyee.ca/rss2.xml', name='The Tyee'),\n",
       " Feeds(url='https://www.theguardian.com/world/rss', name='World news | The Guardian'),\n",
       " Feeds(url='https://www.thestar.com/search/?f=rss&t=article&c=news/investigations*&l=50&s=start_time&sd=desc', name='Toronto Star | Investigations'),\n",
       " Feeds(url='https://www.thestar.com/search/?f=rss&t=article&bl=2827101&l=50', name='Toronto Star | Top Stories')]"
      ]
     },
     "execution_count": null,
     "metadata": {},
     "output_type": "execute_result"
    }
   ],
   "source": [
    "r.feeds()"
   ]
  },
  {
   "cell_type": "markdown",
   "metadata": {},
   "source": [
    "## Display Entries\n",
    "\n",
    "`read` = None shows all entries\n",
    "\n",
    "`read` = False shows only unread entries\n",
    "\n",
    "`read` = True shows only read entries"
   ]
  },
  {
   "cell_type": "code",
   "execution_count": null,
   "metadata": {},
   "outputs": [
    {
     "data": {
      "text/html": [
       "<pre style=\"white-space:pre;overflow-x:auto;line-height:normal;font-family:Menlo,'DejaVu Sans Mono',consolas,'Courier New',monospace\">╭─────────────────────────────────────────────── <span style=\"font-weight: bold\">CBC | Top Stories</span> ───────────────────────────────────────────────╮\n",
       "│ Title: <span style=\"font-weight: bold\">Feds announce forum on antisemitism following incidents at Jewish school and synagogue</span>                   │\n",
       "│ Date: 2024-12-20                                                                                                │\n",
       "│                                                                                                                 │\n",
       "│ The federal government will hold a national forum on combatting antisemitism in February — news that comes as   │\n",
       "│ police investigate a suspicious fire at a Montreal synagogue and gunshots aimed at a Toronto Jewish girls       │\n",
       "│ school.                                                                                                         │\n",
       "│                                                                                                                 │\n",
       "╰─ <a href=\"https://www.cbc.ca/news/politics/feds-announce-forum-on-antisemitism-following-incidents-at-jewish-school-and-synagogue-1.7416928?cmp=rss\" target=\"_blank\">https://www.cbc.ca/news/politics/feds-announce-forum-on-antisemitism-following-incidents-at-jewish-school-and-</a>─╯\n",
       "</pre>\n"
      ],
      "text/plain": [
       "╭─────────────────────────────────────────────── \u001b[1mCBC | Top Stories\u001b[0m ───────────────────────────────────────────────╮\n",
       "│ Title: \u001b[1mFeds announce forum on antisemitism following incidents at Jewish school and synagogue\u001b[0m                   │\n",
       "│ Date: 2024-12-20                                                                                                │\n",
       "│                                                                                                                 │\n",
       "│ The federal government will hold a national forum on combatting antisemitism in February — news that comes as   │\n",
       "│ police investigate a suspicious fire at a Montreal synagogue and gunshots aimed at a Toronto Jewish girls       │\n",
       "│ school.                                                                                                         │\n",
       "│                                                                                                                 │\n",
       "╰─ \u001b]8;id=750559;https://www.cbc.ca/news/politics/feds-announce-forum-on-antisemitism-following-incidents-at-jewish-school-and-synagogue-1.7416928?cmp=rss\u001b\\https://www.cbc.ca/news/politics/feds-announce-forum-on-antisemitism-following-incidents-at-jewish-school-and-\u001b]8;;\u001b\\─╯\n"
      ]
     },
     "metadata": {},
     "output_type": "display_data"
    },
    {
     "data": {
      "text/html": [
       "<pre style=\"white-space:pre;overflow-x:auto;line-height:normal;font-family:Menlo,'DejaVu Sans Mono',consolas,'Courier New',monospace\">\n",
       "</pre>\n"
      ],
      "text/plain": [
       "\n"
      ]
     },
     "metadata": {},
     "output_type": "display_data"
    },
    {
     "data": {
      "text/html": [
       "<pre style=\"white-space:pre;overflow-x:auto;line-height:normal;font-family:Menlo,'DejaVu Sans Mono',consolas,'Courier New',monospace\">╭──────────────────────────────────────────── <span style=\"font-weight: bold\">Simon Willison's Weblog</span> ────────────────────────────────────────────╮\n",
       "│ Title: <span style=\"font-weight: bold\">OpenAI o3 breakthrough high score on ARC-AGI-PUB</span>                                                         │\n",
       "│ Date: 2024-12-20                                                                                                │\n",
       "│                                                                                                                 │\n",
       "│ OpenAI o3 breakthrough high score on ARC-AGI-PUB                                                                │\n",
       "│ François Chollet is the co-founder of the ARC Prize and had advanced access to today's o3 results. His article  │\n",
       "│ here is the most insightful coverage I've seen of o3, going beyond just the benchmark results to talk about     │\n",
       "│ what this all means for the field in general.                                                                   │\n",
       "│ One fascinating detail: it cost $6,677 to run o3 in \"high efficiency\" mode against the 400 public ARC-AGI       │\n",
       "│ puzzles for a score of 82.8%, and an undisclosed amount of money to run the \"low efficiency\" mode model to      │\n",
       "│ score 91.5%. A note says:                                                                                       │\n",
       "│                                                                                                                 │\n",
       "│ o3 high-compute costs not available as pricing and feature availability is still TBD. The amount of compute was │\n",
       "│ roughly 172x the low-compute configuration.                                                                     │\n",
       "│                                                                                                                 │\n",
       "│ So we can get a ballpark estimate here in that 172 * $6,677 = $1,148,444!                                       │\n",
       "│ Here's how François explains the likely mechanisms behind o3, which reminds me of how a brute-force chess       │\n",
       "│ computer might work.                                                                                            │\n",
       "│                                                                                                                 │\n",
       "│ For now, we can only speculate about the exact specifics of how o3 works. But o3's core mechanism appears to be │\n",
       "│ natural language program search and execution within token space – at test time, the model searches over the    │\n",
       "│ space of possible Chains of Thought (CoTs) describing the steps required to solve the task, in a fashion        │\n",
       "│ perhaps not too dissimilar to AlphaZero-style Monte-Carlo tree search. In the case of o3, the search is         │\n",
       "│ presumably guided by some kind of evaluator model. To note, Demis Hassabis hinted back in a June 2023 interview │\n",
       "│ that DeepMind had been researching this very idea – this line of work has been a long time coming.              │\n",
       "│ So while single-generation LLMs struggle with novelty, o3 overcomes this by generating and executing its own    │\n",
       "│ programs, where the program itself (the CoT) becomes the artifact of knowledge recombination. Although this is  │\n",
       "│ not the only viable approach to test-time knowledge recombination (you could also do test-time training, or     │\n",
       "│ search in latent space), it represents the current state-of-the-art as per these new ARC-AGI numbers.           │\n",
       "│ Effectively, o3 represents a form of deep learning-guided program search. The model does test-time search over  │\n",
       "│ a space of \"programs\" (in this case, natural language programs – the space of CoTs that describe the steps to   │\n",
       "│ solve the task at hand), guided by a deep learning prior (the base LLM). The reason why solving a single        │\n",
       "│ ARC-AGI task can end up taking up tens of millions of tokens and cost thousands of dollars is because this      │\n",
       "│ search process has to explore an enormous number of paths through program space – including backtracking.       │\n",
       "│                                                                                                                 │\n",
       "│ I'm not sure if o3 (and o1 and similar models) even qualifies as an LLM any more - there's clearly a whole lot  │\n",
       "│ more going on here than just next-token prediction.                                                             │\n",
       "│ On the question of if o3 should qualify as AGI (whatever that might mean):                                      │\n",
       "│                                                                                                                 │\n",
       "│ Passing ARC-AGI does not equate to achieving AGI, and, as a matter of fact, I don't think o3 is AGI yet. o3     │\n",
       "│ still fails on some very easy tasks, indicating fundamental differences with human intelligence.                │\n",
       "│ Furthermore, early data points suggest that the upcoming ARC-AGI-2 benchmark will still pose a significant      │\n",
       "│ challenge to o3, potentially reducing its score to under 30% even at high compute (while a smart human would    │\n",
       "│ still be able to score over 95% with no training).                                                              │\n",
       "│                                                                                                                 │\n",
       "│ Tags: inference-scaling, generative-ai, openai, o3, francois-chollet, ai, llms                                  │\n",
       "│                                                                                                                 │\n",
       "╰───────────────── <a href=\"https://simonwillison.net/2024/Dec/20/openai-o3-breakthrough/#atom-everything\" target=\"_blank\">https://simonwillison.net/2024/Dec/20/openai-o3-breakthrough/#atom-everything</a> ─────────────────╯\n",
       "</pre>\n"
      ],
      "text/plain": [
       "╭──────────────────────────────────────────── \u001b[1mSimon Willison's Weblog\u001b[0m ────────────────────────────────────────────╮\n",
       "│ Title: \u001b[1mOpenAI o3 breakthrough high score on ARC-AGI-PUB\u001b[0m                                                         │\n",
       "│ Date: 2024-12-20                                                                                                │\n",
       "│                                                                                                                 │\n",
       "│ OpenAI o3 breakthrough high score on ARC-AGI-PUB                                                                │\n",
       "│ François Chollet is the co-founder of the ARC Prize and had advanced access to today's o3 results. His article  │\n",
       "│ here is the most insightful coverage I've seen of o3, going beyond just the benchmark results to talk about     │\n",
       "│ what this all means for the field in general.                                                                   │\n",
       "│ One fascinating detail: it cost $6,677 to run o3 in \"high efficiency\" mode against the 400 public ARC-AGI       │\n",
       "│ puzzles for a score of 82.8%, and an undisclosed amount of money to run the \"low efficiency\" mode model to      │\n",
       "│ score 91.5%. A note says:                                                                                       │\n",
       "│                                                                                                                 │\n",
       "│ o3 high-compute costs not available as pricing and feature availability is still TBD. The amount of compute was │\n",
       "│ roughly 172x the low-compute configuration.                                                                     │\n",
       "│                                                                                                                 │\n",
       "│ So we can get a ballpark estimate here in that 172 * $6,677 = $1,148,444!                                       │\n",
       "│ Here's how François explains the likely mechanisms behind o3, which reminds me of how a brute-force chess       │\n",
       "│ computer might work.                                                                                            │\n",
       "│                                                                                                                 │\n",
       "│ For now, we can only speculate about the exact specifics of how o3 works. But o3's core mechanism appears to be │\n",
       "│ natural language program search and execution within token space – at test time, the model searches over the    │\n",
       "│ space of possible Chains of Thought (CoTs) describing the steps required to solve the task, in a fashion        │\n",
       "│ perhaps not too dissimilar to AlphaZero-style Monte-Carlo tree search. In the case of o3, the search is         │\n",
       "│ presumably guided by some kind of evaluator model. To note, Demis Hassabis hinted back in a June 2023 interview │\n",
       "│ that DeepMind had been researching this very idea – this line of work has been a long time coming.              │\n",
       "│ So while single-generation LLMs struggle with novelty, o3 overcomes this by generating and executing its own    │\n",
       "│ programs, where the program itself (the CoT) becomes the artifact of knowledge recombination. Although this is  │\n",
       "│ not the only viable approach to test-time knowledge recombination (you could also do test-time training, or     │\n",
       "│ search in latent space), it represents the current state-of-the-art as per these new ARC-AGI numbers.           │\n",
       "│ Effectively, o3 represents a form of deep learning-guided program search. The model does test-time search over  │\n",
       "│ a space of \"programs\" (in this case, natural language programs – the space of CoTs that describe the steps to   │\n",
       "│ solve the task at hand), guided by a deep learning prior (the base LLM). The reason why solving a single        │\n",
       "│ ARC-AGI task can end up taking up tens of millions of tokens and cost thousands of dollars is because this      │\n",
       "│ search process has to explore an enormous number of paths through program space – including backtracking.       │\n",
       "│                                                                                                                 │\n",
       "│ I'm not sure if o3 (and o1 and similar models) even qualifies as an LLM any more - there's clearly a whole lot  │\n",
       "│ more going on here than just next-token prediction.                                                             │\n",
       "│ On the question of if o3 should qualify as AGI (whatever that might mean):                                      │\n",
       "│                                                                                                                 │\n",
       "│ Passing ARC-AGI does not equate to achieving AGI, and, as a matter of fact, I don't think o3 is AGI yet. o3     │\n",
       "│ still fails on some very easy tasks, indicating fundamental differences with human intelligence.                │\n",
       "│ Furthermore, early data points suggest that the upcoming ARC-AGI-2 benchmark will still pose a significant      │\n",
       "│ challenge to o3, potentially reducing its score to under 30% even at high compute (while a smart human would    │\n",
       "│ still be able to score over 95% with no training).                                                              │\n",
       "│                                                                                                                 │\n",
       "│ Tags: inference-scaling, generative-ai, openai, o3, francois-chollet, ai, llms                                  │\n",
       "│                                                                                                                 │\n",
       "╰───────────────── \u001b]8;id=32959;https://simonwillison.net/2024/Dec/20/openai-o3-breakthrough/#atom-everything\u001b\\https://simonwillison.net/2024/Dec/20/openai-o3-breakthrough/#atom-everything\u001b]8;;\u001b\\ ─────────────────╯\n"
      ]
     },
     "metadata": {},
     "output_type": "display_data"
    },
    {
     "data": {
      "text/html": [
       "<pre style=\"white-space:pre;overflow-x:auto;line-height:normal;font-family:Menlo,'DejaVu Sans Mono',consolas,'Courier New',monospace\">\n",
       "</pre>\n"
      ],
      "text/plain": [
       "\n"
      ]
     },
     "metadata": {},
     "output_type": "display_data"
    },
    {
     "data": {
      "text/html": [
       "<pre style=\"white-space:pre;overflow-x:auto;line-height:normal;font-family:Menlo,'DejaVu Sans Mono',consolas,'Courier New',monospace\">╭─────────────────────────────────────────── <span style=\"font-weight: bold\">World news | The Guardian</span> ───────────────────────────────────────────╮\n",
       "│ Title: <span style=\"font-weight: bold\">International court rules against El Salvador in key abortion rights case</span>                                │\n",
       "│ Date: 2024-12-20                                                                                                │\n",
       "│                                                                                                                 │\n",
       "│ Court finds Central American country violated rights of a pregnant woman who was denied an abortion in 2013The  │\n",
       "│ Inter-American Court of Human Rights (IACHR) has ruled that El Salvador violated the human rights of a          │\n",
       "│ Salvadoran woman who was denied an abortion despite her high-risk pregnancy in 2013.The court has ordered the   │\n",
       "│ Central American country to adopt “all necessary regulatory measures” so that doctors are authorised to         │\n",
       "│ terminate “pregnancies that pose a risk to the woman’s life and health”. Continue reading...                    │\n",
       "│                                                                                                                 │\n",
       "╰──────────────── <a href=\"https://www.theguardian.com/world/2024/dec/20/el-salvador-abortion-death-ruling\" target=\"_blank\">https://www.theguardian.com/world/2024/dec/20/el-salvador-abortion-death-ruling</a> ────────────────╯\n",
       "</pre>\n"
      ],
      "text/plain": [
       "╭─────────────────────────────────────────── \u001b[1mWorld news | The Guardian\u001b[0m ───────────────────────────────────────────╮\n",
       "│ Title: \u001b[1mInternational court rules against El Salvador in key abortion rights case\u001b[0m                                │\n",
       "│ Date: 2024-12-20                                                                                                │\n",
       "│                                                                                                                 │\n",
       "│ Court finds Central American country violated rights of a pregnant woman who was denied an abortion in 2013The  │\n",
       "│ Inter-American Court of Human Rights (IACHR) has ruled that El Salvador violated the human rights of a          │\n",
       "│ Salvadoran woman who was denied an abortion despite her high-risk pregnancy in 2013.The court has ordered the   │\n",
       "│ Central American country to adopt “all necessary regulatory measures” so that doctors are authorised to         │\n",
       "│ terminate “pregnancies that pose a risk to the woman’s life and health”. Continue reading...                    │\n",
       "│                                                                                                                 │\n",
       "╰──────────────── \u001b]8;id=777261;https://www.theguardian.com/world/2024/dec/20/el-salvador-abortion-death-ruling\u001b\\https://www.theguardian.com/world/2024/dec/20/el-salvador-abortion-death-ruling\u001b]8;;\u001b\\ ────────────────╯\n"
      ]
     },
     "metadata": {},
     "output_type": "display_data"
    },
    {
     "data": {
      "text/html": [
       "<pre style=\"white-space:pre;overflow-x:auto;line-height:normal;font-family:Menlo,'DejaVu Sans Mono',consolas,'Courier New',monospace\">\n",
       "</pre>\n"
      ],
      "text/plain": [
       "\n"
      ]
     },
     "metadata": {},
     "output_type": "display_data"
    },
    {
     "data": {
      "text/html": [
       "<pre style=\"white-space:pre;overflow-x:auto;line-height:normal;font-family:Menlo,'DejaVu Sans Mono',consolas,'Courier New',monospace\">╭─────────────────────────────────────────── <span style=\"font-weight: bold\">World news | The Guardian</span> ───────────────────────────────────────────╮\n",
       "│ Title: <span style=\"font-weight: bold\">Could the spending bill fiasco spell the end of Trump’s hold on Republicans?</span>                             │\n",
       "│ Date: 2024-12-20                                                                                                │\n",
       "│                                                                                                                 │\n",
       "│ President-elect, yet to take office, faces internal rebellion, with the specter of ‘President Musk’ looming     │\n",
       "│ largeDonald Trump is still a month away from returning to the White House and already his relationship with     │\n",
       "│ Republicans on Capitol Hill is fraying, signalling trouble ahead for both sides.The president-elect’s inability │\n",
       "│ to intimidate members of his own party in the House to back a spending resolution just to keep the government   │\n",
       "│ open ahead of a midnight shutdown surely has implications for his ability to drive through his ambitious agenda │\n",
       "│ in the face of tiny majorities in both congressional chambers once he returns to office. Continue reading...    │\n",
       "│                                                                                                                 │\n",
       "╰──────── <a href=\"https://www.theguardian.com/us-news/2024/dec/20/spending-bill-trump-influence-republican-party\" target=\"_blank\">https://www.theguardian.com/us-news/2024/dec/20/spending-bill-trump-influence-republican-party</a> ─────────╯\n",
       "</pre>\n"
      ],
      "text/plain": [
       "╭─────────────────────────────────────────── \u001b[1mWorld news | The Guardian\u001b[0m ───────────────────────────────────────────╮\n",
       "│ Title: \u001b[1mCould the spending bill fiasco spell the end of Trump’s hold on Republicans?\u001b[0m                             │\n",
       "│ Date: 2024-12-20                                                                                                │\n",
       "│                                                                                                                 │\n",
       "│ President-elect, yet to take office, faces internal rebellion, with the specter of ‘President Musk’ looming     │\n",
       "│ largeDonald Trump is still a month away from returning to the White House and already his relationship with     │\n",
       "│ Republicans on Capitol Hill is fraying, signalling trouble ahead for both sides.The president-elect’s inability │\n",
       "│ to intimidate members of his own party in the House to back a spending resolution just to keep the government   │\n",
       "│ open ahead of a midnight shutdown surely has implications for his ability to drive through his ambitious agenda │\n",
       "│ in the face of tiny majorities in both congressional chambers once he returns to office. Continue reading...    │\n",
       "│                                                                                                                 │\n",
       "╰──────── \u001b]8;id=987194;https://www.theguardian.com/us-news/2024/dec/20/spending-bill-trump-influence-republican-party\u001b\\https://www.theguardian.com/us-news/2024/dec/20/spending-bill-trump-influence-republican-party\u001b]8;;\u001b\\ ─────────╯\n"
      ]
     },
     "metadata": {},
     "output_type": "display_data"
    },
    {
     "data": {
      "text/html": [
       "<pre style=\"white-space:pre;overflow-x:auto;line-height:normal;font-family:Menlo,'DejaVu Sans Mono',consolas,'Courier New',monospace\">\n",
       "</pre>\n"
      ],
      "text/plain": [
       "\n"
      ]
     },
     "metadata": {},
     "output_type": "display_data"
    },
    {
     "data": {
      "text/html": [
       "<pre style=\"white-space:pre;overflow-x:auto;line-height:normal;font-family:Menlo,'DejaVu Sans Mono',consolas,'Courier New',monospace\">╭────────────────────────────────────────── <span style=\"font-weight: bold\">Toronto Star | Top Stories</span> ───────────────────────────────────────────╮\n",
       "│ Title: <span style=\"font-weight: bold\">Party City to close all stores in the U.S. but Canadian locations to remain open</span>                         │\n",
       "│ Date: 2024-12-20                                                                                                │\n",
       "│                                                                                                                 │\n",
       "│ In Canada, the brand is owned by Canadian Tire who said the stores are operational.                             │\n",
       "│                                                                                                                 │\n",
       "╰─ <a href=\"https://www.thestar.com/business/party-city-to-close-all-stores-in-the-u-s-but-canadian-locations-to-remain/article_cfbebb12-bf11-11ef-b43a-2319f712eec9.html\" target=\"_blank\">https://www.thestar.com/business/party-city-to-close-all-stores-in-the-u-s-but-canadian-locations-to-remain/ar</a>─╯\n",
       "</pre>\n"
      ],
      "text/plain": [
       "╭────────────────────────────────────────── \u001b[1mToronto Star | Top Stories\u001b[0m ───────────────────────────────────────────╮\n",
       "│ Title: \u001b[1mParty City to close all stores in the U.S. but Canadian locations to remain open\u001b[0m                         │\n",
       "│ Date: 2024-12-20                                                                                                │\n",
       "│                                                                                                                 │\n",
       "│ In Canada, the brand is owned by Canadian Tire who said the stores are operational.                             │\n",
       "│                                                                                                                 │\n",
       "╰─ \u001b]8;id=735035;https://www.thestar.com/business/party-city-to-close-all-stores-in-the-u-s-but-canadian-locations-to-remain/article_cfbebb12-bf11-11ef-b43a-2319f712eec9.html\u001b\\https://www.thestar.com/business/party-city-to-close-all-stores-in-the-u-s-but-canadian-locations-to-remain/ar\u001b]8;;\u001b\\─╯\n"
      ]
     },
     "metadata": {},
     "output_type": "display_data"
    },
    {
     "data": {
      "text/html": [
       "<pre style=\"white-space:pre;overflow-x:auto;line-height:normal;font-family:Menlo,'DejaVu Sans Mono',consolas,'Courier New',monospace\">\n",
       "</pre>\n"
      ],
      "text/plain": [
       "\n"
      ]
     },
     "metadata": {},
     "output_type": "display_data"
    }
   ],
   "source": [
    "r.show(limit=5, read=None, mark_as_read=False)"
   ]
  },
  {
   "cell_type": "markdown",
   "metadata": {},
   "source": [
    "## Search Entries"
   ]
  },
  {
   "cell_type": "code",
   "execution_count": null,
   "metadata": {},
   "outputs": [
    {
     "data": {
      "text/html": [
       "<pre style=\"white-space:pre;overflow-x:auto;line-height:normal;font-family:Menlo,'DejaVu Sans Mono',consolas,'Courier New',monospace\">╭─────────────────────────────────────────────── <span style=\"font-weight: bold\">Huggingface Blog</span> ────────────────────────────────────────────────╮\n",
       "│ Title: <span style=\"font-weight: bold\">The 5 Most Under-Rated Tools on Hugging Face</span>                                                             │\n",
       "│ Date: 2024-08-22                                                                                                │\n",
       "│                                                                                                                 │\n",
       "│ None                                                                                                            │\n",
       "│                                                                                                                 │\n",
       "╰─────────────────────────────────── <a href=\"https://huggingface.co/blog/unsung-heroes\" target=\"_blank\">https://huggingface.co/blog/unsung-heroes</a> ───────────────────────────────────╯\n",
       "</pre>\n"
      ],
      "text/plain": [
       "╭─────────────────────────────────────────────── \u001b[1mHuggingface Blog\u001b[0m ────────────────────────────────────────────────╮\n",
       "│ Title: \u001b[1mThe 5 Most Under-Rated Tools on Hugging Face\u001b[0m                                                             │\n",
       "│ Date: 2024-08-22                                                                                                │\n",
       "│                                                                                                                 │\n",
       "│ None                                                                                                            │\n",
       "│                                                                                                                 │\n",
       "╰─────────────────────────────────── \u001b]8;id=920969;https://huggingface.co/blog/unsung-heroes\u001b\\https://huggingface.co/blog/unsung-heroes\u001b]8;;\u001b\\ ───────────────────────────────────╯\n"
      ]
     },
     "metadata": {},
     "output_type": "display_data"
    },
    {
     "data": {
      "text/html": [
       "<pre style=\"white-space:pre;overflow-x:auto;line-height:normal;font-family:Menlo,'DejaVu Sans Mono',consolas,'Courier New',monospace\">\n",
       "</pre>\n"
      ],
      "text/plain": [
       "\n"
      ]
     },
     "metadata": {},
     "output_type": "display_data"
    },
    {
     "data": {
      "text/html": [
       "<pre style=\"white-space:pre;overflow-x:auto;line-height:normal;font-family:Menlo,'DejaVu Sans Mono',consolas,'Courier New',monospace\">╭──────────────────────────────────────────────── <span style=\"font-weight: bold\">CBC | Business</span> ─────────────────────────────────────────────────╮\n",
       "│ ❗Title: <span style=\"font-weight: bold\">U.S. Federal Reserve cuts interest rates by another quarter point</span>                                      │\n",
       "│ Date: 2024-12-18                                                                                                │\n",
       "│                                                                                                                 │\n",
       "│ The Federal Reserve cut its key interest rate Wednesday by a quarter-point — its third cut this year — but also │\n",
       "│ signalled that it expects to reduce rates next year more slowly than previously thought, with inflation still   │\n",
       "│ well above the central bank's two per cent target.                                                              │\n",
       "│                                                                                                                 │\n",
       "╰─────────────────── <a href=\"https://www.cbc.ca/news/business/fed-cuts-rates-dec-18-1.7414148?cmp=rss\" target=\"_blank\">https://www.cbc.ca/news/business/fed-cuts-rates-dec-18-1.7414148?cmp=rss</a> ────────────────────╯\n",
       "</pre>\n"
      ],
      "text/plain": [
       "╭──────────────────────────────────────────────── \u001b[1mCBC | Business\u001b[0m ─────────────────────────────────────────────────╮\n",
       "│ ❗Title: \u001b[1mU.S. Federal Reserve cuts interest rates by another quarter point\u001b[0m                                      │\n",
       "│ Date: 2024-12-18                                                                                                │\n",
       "│                                                                                                                 │\n",
       "│ The Federal Reserve cut its key interest rate Wednesday by a quarter-point — its third cut this year — but also │\n",
       "│ signalled that it expects to reduce rates next year more slowly than previously thought, with inflation still   │\n",
       "│ well above the central bank's two per cent target.                                                              │\n",
       "│                                                                                                                 │\n",
       "╰─────────────────── \u001b]8;id=366295;https://www.cbc.ca/news/business/fed-cuts-rates-dec-18-1.7414148?cmp=rss\u001b\\https://www.cbc.ca/news/business/fed-cuts-rates-dec-18-1.7414148?cmp=rss\u001b]8;;\u001b\\ ────────────────────╯\n"
      ]
     },
     "metadata": {},
     "output_type": "display_data"
    },
    {
     "data": {
      "text/html": [
       "<pre style=\"white-space:pre;overflow-x:auto;line-height:normal;font-family:Menlo,'DejaVu Sans Mono',consolas,'Courier New',monospace\">\n",
       "</pre>\n"
      ],
      "text/plain": [
       "\n"
      ]
     },
     "metadata": {},
     "output_type": "display_data"
    },
    {
     "data": {
      "text/html": [
       "<pre style=\"white-space:pre;overflow-x:auto;line-height:normal;font-family:Menlo,'DejaVu Sans Mono',consolas,'Courier New',monospace\">╭──────────────────────────────────────────────── <span style=\"font-weight: bold\">CBC | Business</span> ─────────────────────────────────────────────────╮\n",
       "│ Title: <span style=\"font-weight: bold\">Canada's inflation rate edges down to 1.9%</span>                                                               │\n",
       "│ Date: 2024-12-17                                                                                                │\n",
       "│                                                                                                                 │\n",
       "│ Canada's annual inflation rate ticked down to 1.9 per cent in November, with the slowdown in price growth       │\n",
       "│ mostly driven by lower mortgage interest costs and cheaper travel tours, Statistics Canada said on Tuesday.     │\n",
       "│                                                                                                                 │\n",
       "╰──────────────── <a href=\"https://www.cbc.ca/news/business/inflation-rate-november-2024-1.7412342?cmp=rss\" target=\"_blank\">https://www.cbc.ca/news/business/inflation-rate-november-2024-1.7412342?cmp=rss</a> ────────────────╯\n",
       "</pre>\n"
      ],
      "text/plain": [
       "╭──────────────────────────────────────────────── \u001b[1mCBC | Business\u001b[0m ─────────────────────────────────────────────────╮\n",
       "│ Title: \u001b[1mCanada's inflation rate edges down to 1.9%\u001b[0m                                                               │\n",
       "│ Date: 2024-12-17                                                                                                │\n",
       "│                                                                                                                 │\n",
       "│ Canada's annual inflation rate ticked down to 1.9 per cent in November, with the slowdown in price growth       │\n",
       "│ mostly driven by lower mortgage interest costs and cheaper travel tours, Statistics Canada said on Tuesday.     │\n",
       "│                                                                                                                 │\n",
       "╰──────────────── \u001b]8;id=859870;https://www.cbc.ca/news/business/inflation-rate-november-2024-1.7412342?cmp=rss\u001b\\https://www.cbc.ca/news/business/inflation-rate-november-2024-1.7412342?cmp=rss\u001b]8;;\u001b\\ ────────────────╯\n"
      ]
     },
     "metadata": {},
     "output_type": "display_data"
    },
    {
     "data": {
      "text/html": [
       "<pre style=\"white-space:pre;overflow-x:auto;line-height:normal;font-family:Menlo,'DejaVu Sans Mono',consolas,'Courier New',monospace\">\n",
       "</pre>\n"
      ],
      "text/plain": [
       "\n"
      ]
     },
     "metadata": {},
     "output_type": "display_data"
    },
    {
     "data": {
      "text/html": [
       "<pre style=\"white-space:pre;overflow-x:auto;line-height:normal;font-family:Menlo,'DejaVu Sans Mono',consolas,'Courier New',monospace\">╭──────────────────────────────────────────────── <span style=\"font-weight: bold\">CBC | Business</span> ─────────────────────────────────────────────────╮\n",
       "│ ❗Title: <span style=\"font-weight: bold\">Canadian annual home sales surged in November, with prices rising as interest rates fall</span>               │\n",
       "│ Date: 2024-12-16                                                                                                │\n",
       "│                                                                                                                 │\n",
       "│ The Canadian Real Estate Association says the number of homes sold in November rose 26 per cent compared with a │\n",
       "│ year ago, marking the second straight month of large year-over-year gains.                                      │\n",
       "│                                                                                                                 │\n",
       "╰───────────── <a href=\"https://www.cbc.ca/news/business/crea-national-home-sales-nov-2024-1.7411557?cmp=rss\" target=\"_blank\">https://www.cbc.ca/news/business/crea-national-home-sales-nov-2024-1.7411557?cmp=rss</a> ──────────────╯\n",
       "</pre>\n"
      ],
      "text/plain": [
       "╭──────────────────────────────────────────────── \u001b[1mCBC | Business\u001b[0m ─────────────────────────────────────────────────╮\n",
       "│ ❗Title: \u001b[1mCanadian annual home sales surged in November, with prices rising as interest rates fall\u001b[0m               │\n",
       "│ Date: 2024-12-16                                                                                                │\n",
       "│                                                                                                                 │\n",
       "│ The Canadian Real Estate Association says the number of homes sold in November rose 26 per cent compared with a │\n",
       "│ year ago, marking the second straight month of large year-over-year gains.                                      │\n",
       "│                                                                                                                 │\n",
       "╰───────────── \u001b]8;id=747938;https://www.cbc.ca/news/business/crea-national-home-sales-nov-2024-1.7411557?cmp=rss\u001b\\https://www.cbc.ca/news/business/crea-national-home-sales-nov-2024-1.7411557?cmp=rss\u001b]8;;\u001b\\ ──────────────╯\n"
      ]
     },
     "metadata": {},
     "output_type": "display_data"
    },
    {
     "data": {
      "text/html": [
       "<pre style=\"white-space:pre;overflow-x:auto;line-height:normal;font-family:Menlo,'DejaVu Sans Mono',consolas,'Courier New',monospace\">\n",
       "</pre>\n"
      ],
      "text/plain": [
       "\n"
      ]
     },
     "metadata": {},
     "output_type": "display_data"
    },
    {
     "data": {
      "text/html": [
       "<pre style=\"white-space:pre;overflow-x:auto;line-height:normal;font-family:Menlo,'DejaVu Sans Mono',consolas,'Courier New',monospace\">╭───────────────────────────────────────── <span style=\"font-weight: bold\">Toronto Star | Investigations</span> ─────────────────────────────────────────╮\n",
       "│ ❗Title: <span style=\"font-weight: bold\">Harold the Mortgage Closer accused of charging ‘vulnerable’ people interest rates up to 76 per cent</span>    │\n",
       "│ Date: 2024-05-17                                                                                                │\n",
       "│                                                                                                                 │\n",
       "│ Gerstel ‘is not suitable to be licensed as a mortgage broker,’ says the province’s financial services regulator │\n",
       "│ in a proposal that outlines five new cases against the GTA businessman.                                         │\n",
       "│                                                                                                                 │\n",
       "╰─ <a href=\"https://www.thestar.com/news/investigations/harold-the-mortgage-closer-accused-of-charging-vulnerable-people-interest-rates-up-to-76-per/article_0d3c6388-13b7-11ef-866d-e36a5e8e4903.html\" target=\"_blank\">https://www.thestar.com/news/investigations/harold-the-mortgage-closer-accused-of-charging-vulnerable-people-i</a>─╯\n",
       "</pre>\n"
      ],
      "text/plain": [
       "╭───────────────────────────────────────── \u001b[1mToronto Star | Investigations\u001b[0m ─────────────────────────────────────────╮\n",
       "│ ❗Title: \u001b[1mHarold the Mortgage Closer accused of charging ‘vulnerable’ people interest rates up to 76 per cent\u001b[0m    │\n",
       "│ Date: 2024-05-17                                                                                                │\n",
       "│                                                                                                                 │\n",
       "│ Gerstel ‘is not suitable to be licensed as a mortgage broker,’ says the province’s financial services regulator │\n",
       "│ in a proposal that outlines five new cases against the GTA businessman.                                         │\n",
       "│                                                                                                                 │\n",
       "╰─ \u001b]8;id=978306;https://www.thestar.com/news/investigations/harold-the-mortgage-closer-accused-of-charging-vulnerable-people-interest-rates-up-to-76-per/article_0d3c6388-13b7-11ef-866d-e36a5e8e4903.html\u001b\\https://www.thestar.com/news/investigations/harold-the-mortgage-closer-accused-of-charging-vulnerable-people-i\u001b]8;;\u001b\\─╯\n"
      ]
     },
     "metadata": {},
     "output_type": "display_data"
    },
    {
     "data": {
      "text/html": [
       "<pre style=\"white-space:pre;overflow-x:auto;line-height:normal;font-family:Menlo,'DejaVu Sans Mono',consolas,'Courier New',monospace\">\n",
       "</pre>\n"
      ],
      "text/plain": [
       "\n"
      ]
     },
     "metadata": {},
     "output_type": "display_data"
    },
    {
     "data": {
      "text/html": [
       "<pre style=\"white-space:pre;overflow-x:auto;line-height:normal;font-family:Menlo,'DejaVu Sans Mono',consolas,'Courier New',monospace\">╭──────────────────────────────────────────── <span style=\"font-weight: bold\">Science | The Guardian</span> ─────────────────────────────────────────────╮\n",
       "│ Title: <span style=\"font-weight: bold\">Unusual scales on crocodile heads due to skin growth rate, scientists say</span>                                │\n",
       "│ Date: 2024-12-11                                                                                                │\n",
       "│                                                                                                                 │\n",
       "│ Researchers find that varying stiffness and speeds at which skin grows lead to ‘mechanical’ formation of inward │\n",
       "│ foldsIt sounds like a conundrum that Rudyard Kipling would have explored in his Just So Stories, but            │\n",
       "│ researchers say they have the answer to how crocodiles get the scales on their heads.Many animals, from turtles │\n",
       "│ to birds, have scales – hard plate-like structures that form on the skin. Continue reading...                   │\n",
       "│                                                                                                                 │\n",
       "╰────── <a href=\"https://www.theguardian.com/science/2024/dec/11/scales-crocodile-heads-skin-growth-rate-scientists\" target=\"_blank\">https://www.theguardian.com/science/2024/dec/11/scales-crocodile-heads-skin-growth-rate-scientists</a> ───────╯\n",
       "</pre>\n"
      ],
      "text/plain": [
       "╭──────────────────────────────────────────── \u001b[1mScience | The Guardian\u001b[0m ─────────────────────────────────────────────╮\n",
       "│ Title: \u001b[1mUnusual scales on crocodile heads due to skin growth rate, scientists say\u001b[0m                                │\n",
       "│ Date: 2024-12-11                                                                                                │\n",
       "│                                                                                                                 │\n",
       "│ Researchers find that varying stiffness and speeds at which skin grows lead to ‘mechanical’ formation of inward │\n",
       "│ foldsIt sounds like a conundrum that Rudyard Kipling would have explored in his Just So Stories, but            │\n",
       "│ researchers say they have the answer to how crocodiles get the scales on their heads.Many animals, from turtles │\n",
       "│ to birds, have scales – hard plate-like structures that form on the skin. Continue reading...                   │\n",
       "│                                                                                                                 │\n",
       "╰────── \u001b]8;id=622142;https://www.theguardian.com/science/2024/dec/11/scales-crocodile-heads-skin-growth-rate-scientists\u001b\\https://www.theguardian.com/science/2024/dec/11/scales-crocodile-heads-skin-growth-rate-scientists\u001b]8;;\u001b\\ ───────╯\n"
      ]
     },
     "metadata": {},
     "output_type": "display_data"
    },
    {
     "data": {
      "text/html": [
       "<pre style=\"white-space:pre;overflow-x:auto;line-height:normal;font-family:Menlo,'DejaVu Sans Mono',consolas,'Courier New',monospace\">\n",
       "</pre>\n"
      ],
      "text/plain": [
       "\n"
      ]
     },
     "metadata": {},
     "output_type": "display_data"
    },
    {
     "data": {
      "text/html": [
       "<pre style=\"white-space:pre;overflow-x:auto;line-height:normal;font-family:Menlo,'DejaVu Sans Mono',consolas,'Courier New',monospace\">╭───────────────────────────────────────────── <span style=\"font-weight: bold\">Canada | The Guardian</span> ─────────────────────────────────────────────╮\n",
       "│ Title: <span style=\"font-weight: bold\">Canada’s rate of medically assisted deaths rises to record high</span>                                          │\n",
       "│ Date: 2024-12-12                                                                                                │\n",
       "│                                                                                                                 │\n",
       "│ Roughly 96% of deaths by euthanasia in 2023 were for those with a terminal condition, as growth in overall      │\n",
       "│ cases slowsA growing share of deaths in Canada are from euthanasia, but the vast majority are for terminal      │\n",
       "│ illnesses, according to new government figures.More than 15,000 people received medical assistance in dying in  │\n",
       "│ Canada in 2023, the highest figure on record. But federal statistics show the growth in cases has slowed        │\n",
       "│ significantly, with assisted death making up 4.7% of deaths, compared to 4.1% the previous year. Continue       │\n",
       "│ reading...                                                                                                      │\n",
       "│                                                                                                                 │\n",
       "╰───────────────── <a href=\"https://www.theguardian.com/world/2024/dec/12/canada-medically-assisted-death\" target=\"_blank\">https://www.theguardian.com/world/2024/dec/12/canada-medically-assisted-death</a> ─────────────────╯\n",
       "</pre>\n"
      ],
      "text/plain": [
       "╭───────────────────────────────────────────── \u001b[1mCanada | The Guardian\u001b[0m ─────────────────────────────────────────────╮\n",
       "│ Title: \u001b[1mCanada’s rate of medically assisted deaths rises to record high\u001b[0m                                          │\n",
       "│ Date: 2024-12-12                                                                                                │\n",
       "│                                                                                                                 │\n",
       "│ Roughly 96% of deaths by euthanasia in 2023 were for those with a terminal condition, as growth in overall      │\n",
       "│ cases slowsA growing share of deaths in Canada are from euthanasia, but the vast majority are for terminal      │\n",
       "│ illnesses, according to new government figures.More than 15,000 people received medical assistance in dying in  │\n",
       "│ Canada in 2023, the highest figure on record. But federal statistics show the growth in cases has slowed        │\n",
       "│ significantly, with assisted death making up 4.7% of deaths, compared to 4.1% the previous year. Continue       │\n",
       "│ reading...                                                                                                      │\n",
       "│                                                                                                                 │\n",
       "╰───────────────── \u001b]8;id=65117;https://www.theguardian.com/world/2024/dec/12/canada-medically-assisted-death\u001b\\https://www.theguardian.com/world/2024/dec/12/canada-medically-assisted-death\u001b]8;;\u001b\\ ─────────────────╯\n"
      ]
     },
     "metadata": {},
     "output_type": "display_data"
    },
    {
     "data": {
      "text/html": [
       "<pre style=\"white-space:pre;overflow-x:auto;line-height:normal;font-family:Menlo,'DejaVu Sans Mono',consolas,'Courier New',monospace\">\n",
       "</pre>\n"
      ],
      "text/plain": [
       "\n"
      ]
     },
     "metadata": {},
     "output_type": "display_data"
    },
    {
     "data": {
      "text/html": [
       "<pre style=\"white-space:pre;overflow-x:auto;line-height:normal;font-family:Menlo,'DejaVu Sans Mono',consolas,'Courier New',monospace\">╭────────────────────────────────────────── <span style=\"font-weight: bold\">Toronto Star | Top Stories</span> ───────────────────────────────────────────╮\n",
       "│ Title: <span style=\"font-weight: bold\">Loonie dips below 70 cents U.S. for first time since start of pandemic as Freeland resignation shakes </span>   │\n",
       "│ <span style=\"font-weight: bold\">markets</span>                                                                                                         │\n",
       "│ Date: 2024-12-18                                                                                                │\n",
       "│                                                                                                                 │\n",
       "│ Wednesday afternoon when the U.S. Federal reserve announced it would likely only be cutting rates twice next    │\n",
       "│ year, it took another big hit.                                                                                  │\n",
       "│                                                                                                                 │\n",
       "╰─ <a href=\"https://www.thestar.com/business/loonie-dips-below-70-cents-u-s-for-first-time-since-start-of-pandemic-as/article_1505c172-bd53-11ef-83fd-b3fe997a6769.html\" target=\"_blank\">https://www.thestar.com/business/loonie-dips-below-70-cents-u-s-for-first-time-since-start-of-pandemic-as/arti</a>─╯\n",
       "</pre>\n"
      ],
      "text/plain": [
       "╭────────────────────────────────────────── \u001b[1mToronto Star | Top Stories\u001b[0m ───────────────────────────────────────────╮\n",
       "│ Title: \u001b[1mLoonie dips below 70 cents U.S. for first time since start of pandemic as Freeland resignation shakes \u001b[0m   │\n",
       "│ \u001b[1mmarkets\u001b[0m                                                                                                         │\n",
       "│ Date: 2024-12-18                                                                                                │\n",
       "│                                                                                                                 │\n",
       "│ Wednesday afternoon when the U.S. Federal reserve announced it would likely only be cutting rates twice next    │\n",
       "│ year, it took another big hit.                                                                                  │\n",
       "│                                                                                                                 │\n",
       "╰─ \u001b]8;id=402029;https://www.thestar.com/business/loonie-dips-below-70-cents-u-s-for-first-time-since-start-of-pandemic-as/article_1505c172-bd53-11ef-83fd-b3fe997a6769.html\u001b\\https://www.thestar.com/business/loonie-dips-below-70-cents-u-s-for-first-time-since-start-of-pandemic-as/arti\u001b]8;;\u001b\\─╯\n"
      ]
     },
     "metadata": {},
     "output_type": "display_data"
    },
    {
     "data": {
      "text/html": [
       "<pre style=\"white-space:pre;overflow-x:auto;line-height:normal;font-family:Menlo,'DejaVu Sans Mono',consolas,'Courier New',monospace\">\n",
       "</pre>\n"
      ],
      "text/plain": [
       "\n"
      ]
     },
     "metadata": {},
     "output_type": "display_data"
    },
    {
     "data": {
      "text/html": [
       "<pre style=\"white-space:pre;overflow-x:auto;line-height:normal;font-family:Menlo,'DejaVu Sans Mono',consolas,'Courier New',monospace\">╭────────────────────────────────────────── <span style=\"font-weight: bold\">Toronto Star | Top Stories</span> ───────────────────────────────────────────╮\n",
       "│ Title: <span style=\"font-weight: bold\">Toronto area new home sales down 55% in November — with condos taking the hardest hit</span>                    │\n",
       "│ Date: 2024-12-19                                                                                                │\n",
       "│                                                                                                                 │\n",
       "│ New condo sales continue to suffer, selling at a rate 81 per cent lower than last November and 90 per cent      │\n",
       "│ lower than the Toronto region's 10-year average.                                                                │\n",
       "│                                                                                                                 │\n",
       "╰─ <a href=\"https://www.thestar.com/real-estate/toronto-area-new-home-sales-down-55-in-november-with-condos-taking-the-hardest-hit/article_81d16074-bd5b-11ef-b635-0fb20263dd05.html\" target=\"_blank\">https://www.thestar.com/real-estate/toronto-area-new-home-sales-down-55-in-november-with-condos-taking-the-har</a>─╯\n",
       "</pre>\n"
      ],
      "text/plain": [
       "╭────────────────────────────────────────── \u001b[1mToronto Star | Top Stories\u001b[0m ───────────────────────────────────────────╮\n",
       "│ Title: \u001b[1mToronto area new home sales down 55% in November — with condos taking the hardest hit\u001b[0m                    │\n",
       "│ Date: 2024-12-19                                                                                                │\n",
       "│                                                                                                                 │\n",
       "│ New condo sales continue to suffer, selling at a rate 81 per cent lower than last November and 90 per cent      │\n",
       "│ lower than the Toronto region's 10-year average.                                                                │\n",
       "│                                                                                                                 │\n",
       "╰─ \u001b]8;id=936826;https://www.thestar.com/real-estate/toronto-area-new-home-sales-down-55-in-november-with-condos-taking-the-hardest-hit/article_81d16074-bd5b-11ef-b635-0fb20263dd05.html\u001b\\https://www.thestar.com/real-estate/toronto-area-new-home-sales-down-55-in-november-with-condos-taking-the-har\u001b]8;;\u001b\\─╯\n"
      ]
     },
     "metadata": {},
     "output_type": "display_data"
    },
    {
     "data": {
      "text/html": [
       "<pre style=\"white-space:pre;overflow-x:auto;line-height:normal;font-family:Menlo,'DejaVu Sans Mono',consolas,'Courier New',monospace\">\n",
       "</pre>\n"
      ],
      "text/plain": [
       "\n"
      ]
     },
     "metadata": {},
     "output_type": "display_data"
    },
    {
     "data": {
      "text/html": [
       "<pre style=\"white-space:pre;overflow-x:auto;line-height:normal;font-family:Menlo,'DejaVu Sans Mono',consolas,'Courier New',monospace\">╭──────────────────────────────────────────── <span style=\"font-weight: bold\">Science | The Guardian</span> ─────────────────────────────────────────────╮\n",
       "│ Title: <span style=\"font-weight: bold\">Is our model of the universe wrong? – podcast</span>                                                            │\n",
       "│ Date: 2024-12-17                                                                                                │\n",
       "│                                                                                                                 │\n",
       "│ For the past 10 years cosmologists have been left scratching their heads over why two methods for measuring the │\n",
       "│ universe’s rate of expansion provide totally different results. There are two possible solutions to the puzzle, │\n",
       "│ known as the Hubble tension: either something is wrong with the measurements or something is wrong with our     │\n",
       "│ model of the universe. It was hoped that observations from the James Webb space telescope might shed some light │\n",
       "│ on the problem, but instead results published last week have continued to muddy the waters. To understand why   │\n",
       "│ the expansion rate of the universe remains a mystery, and what might be needed to finally pin it down,          │\n",
       "│ Madeleine Finlay speaks to Catherine Heymans, the astronomer royal for Scotland and a professor of astrophysics │\n",
       "│ at the University of EdinburghThe Hubble constant: a mystery that keeps getting biggerSupport the Guardian:     │\n",
       "│ theguardian.com/sciencepod Continue reading...                                                                  │\n",
       "│                                                                                                                 │\n",
       "╰─────── <a href=\"https://www.theguardian.com/science/audio/2024/dec/17/is-our-model-of-the-universe-wrong-podcast\" target=\"_blank\">https://www.theguardian.com/science/audio/2024/dec/17/is-our-model-of-the-universe-wrong-podcast</a> ────────╯\n",
       "</pre>\n"
      ],
      "text/plain": [
       "╭──────────────────────────────────────────── \u001b[1mScience | The Guardian\u001b[0m ─────────────────────────────────────────────╮\n",
       "│ Title: \u001b[1mIs our model of the universe wrong? – podcast\u001b[0m                                                            │\n",
       "│ Date: 2024-12-17                                                                                                │\n",
       "│                                                                                                                 │\n",
       "│ For the past 10 years cosmologists have been left scratching their heads over why two methods for measuring the │\n",
       "│ universe’s rate of expansion provide totally different results. There are two possible solutions to the puzzle, │\n",
       "│ known as the Hubble tension: either something is wrong with the measurements or something is wrong with our     │\n",
       "│ model of the universe. It was hoped that observations from the James Webb space telescope might shed some light │\n",
       "│ on the problem, but instead results published last week have continued to muddy the waters. To understand why   │\n",
       "│ the expansion rate of the universe remains a mystery, and what might be needed to finally pin it down,          │\n",
       "│ Madeleine Finlay speaks to Catherine Heymans, the astronomer royal for Scotland and a professor of astrophysics │\n",
       "│ at the University of EdinburghThe Hubble constant: a mystery that keeps getting biggerSupport the Guardian:     │\n",
       "│ theguardian.com/sciencepod Continue reading...                                                                  │\n",
       "│                                                                                                                 │\n",
       "╰─────── \u001b]8;id=527434;https://www.theguardian.com/science/audio/2024/dec/17/is-our-model-of-the-universe-wrong-podcast\u001b\\https://www.theguardian.com/science/audio/2024/dec/17/is-our-model-of-the-universe-wrong-podcast\u001b]8;;\u001b\\ ────────╯\n"
      ]
     },
     "metadata": {},
     "output_type": "display_data"
    },
    {
     "data": {
      "text/html": [
       "<pre style=\"white-space:pre;overflow-x:auto;line-height:normal;font-family:Menlo,'DejaVu Sans Mono',consolas,'Courier New',monospace\">\n",
       "</pre>\n"
      ],
      "text/plain": [
       "\n"
      ]
     },
     "metadata": {},
     "output_type": "display_data"
    }
   ],
   "source": [
    "r.search(\"rate\", mark_as_read=False)"
   ]
  },
  {
   "cell_type": "markdown",
   "metadata": {},
   "source": [
    "## Tag Entry"
   ]
  },
  {
   "cell_type": "code",
   "execution_count": null,
   "metadata": {},
   "outputs": [],
   "source": [
    "test = list(r._reader.get_entries())"
   ]
  },
  {
   "cell_type": "code",
   "execution_count": null,
   "metadata": {},
   "outputs": [],
   "source": [
    "r._reader.set_tag(test[0], \"foobar\")"
   ]
  },
  {
   "cell_type": "code",
   "execution_count": null,
   "metadata": {},
   "outputs": [
    {
     "data": {
      "text/plain": [
       "[('foobar', None)]"
      ]
     },
     "execution_count": null,
     "metadata": {},
     "output_type": "execute_result"
    }
   ],
   "source": [
    "list(r._reader.get_tags(test[0]))"
   ]
  },
  {
   "cell_type": "code",
   "execution_count": null,
   "metadata": {},
   "outputs": [
    {
     "data": {
      "text/plain": [
       "['foobar']"
      ]
     },
     "execution_count": null,
     "metadata": {},
     "output_type": "execute_result"
    }
   ],
   "source": [
    "# We added a method to just return the tag key:\n",
    "r._get_tags(test[0])"
   ]
  },
  {
   "cell_type": "markdown",
   "metadata": {},
   "source": [
    "## Remove tag from entry"
   ]
  },
  {
   "cell_type": "code",
   "execution_count": null,
   "metadata": {},
   "outputs": [],
   "source": [
    "r._reader.delete_tag(test[0], \"foobar\")"
   ]
  },
  {
   "cell_type": "code",
   "execution_count": null,
   "metadata": {},
   "outputs": [
    {
     "data": {
      "text/plain": [
       "[]"
      ]
     },
     "execution_count": null,
     "metadata": {},
     "output_type": "execute_result"
    }
   ],
   "source": [
    "list(r._get_tags(test[0]))"
   ]
  },
  {
   "cell_type": "markdown",
   "metadata": {},
   "source": [
    "## Mark as Important/Unimportant"
   ]
  },
  {
   "cell_type": "code",
   "execution_count": null,
   "metadata": {},
   "outputs": [],
   "source": [
    "r._mark_important(test[0].feed_url, test[0].id)"
   ]
  },
  {
   "cell_type": "code",
   "execution_count": null,
   "metadata": {},
   "outputs": [],
   "source": [
    "r._mark_unimportant(test[0].feed_url, test[0].id)"
   ]
  },
  {
   "cell_type": "markdown",
   "metadata": {},
   "source": [
    "## Mark as Read / Unread"
   ]
  },
  {
   "cell_type": "code",
   "execution_count": null,
   "metadata": {},
   "outputs": [],
   "source": [
    "r._reader.mark_entry_as_read(test[0])\n",
    "r._reader.mark_entry_as_unread(test[0])"
   ]
  },
  {
   "cell_type": "markdown",
   "metadata": {},
   "source": [
    "## Automatically mark entries as read\n",
    "\n",
    "When updating feeds, entries with titles matching these strings will automatically be marked as read"
   ]
  },
  {
   "cell_type": "code",
   "execution_count": null,
   "metadata": {},
   "outputs": [],
   "source": [
    "for i in [\n",
    "    \"Musk\",\n",
    "    \"Apple\",\n",
    "    \"Bezos\",\n",
    "    \"Google\",\n",
    "    \"Samsung\",\n",
    "    \"iPhone\",\n",
    "    \"iPad\",\n",
    "    \"guardian.com/sport/\",\n",
    "    \"guardian.com/football/\",\n",
    "    \"thestar.com/sports\",\n",
    "]:\n",
    "    r.blacklist_add(i)"
   ]
  },
  {
   "cell_type": "code",
   "execution_count": null,
   "metadata": {},
   "outputs": [
    {
     "data": {
      "text/html": [
       "<pre style=\"white-space:pre;overflow-x:auto;line-height:normal;font-family:Menlo,'DejaVu Sans Mono',consolas,'Courier New',monospace\"><span style=\"font-weight: bold\">[</span>\n",
       "    <span style=\"color: #008000; text-decoration-color: #008000\">'Musk'</span>,\n",
       "    <span style=\"color: #008000; text-decoration-color: #008000\">'Apple'</span>,\n",
       "    <span style=\"color: #008000; text-decoration-color: #008000\">'Bezos'</span>,\n",
       "    <span style=\"color: #008000; text-decoration-color: #008000\">'Google'</span>,\n",
       "    <span style=\"color: #008000; text-decoration-color: #008000\">'Samsung'</span>,\n",
       "    <span style=\"color: #008000; text-decoration-color: #008000\">'iPhone'</span>,\n",
       "    <span style=\"color: #008000; text-decoration-color: #008000\">'iPad'</span>,\n",
       "    <span style=\"color: #008000; text-decoration-color: #008000\">'guardian.com/sport/'</span>,\n",
       "    <span style=\"color: #008000; text-decoration-color: #008000\">'guardian.com/football/'</span>,\n",
       "    <span style=\"color: #008000; text-decoration-color: #008000\">'thestar.com/sports'</span>,\n",
       "    <span style=\"color: #008000; text-decoration-color: #008000\">'cbc.ca/sports'</span>\n",
       "<span style=\"font-weight: bold\">]</span>\n",
       "</pre>\n"
      ],
      "text/plain": [
       "\u001b[1m[\u001b[0m\n",
       "    \u001b[32m'Musk'\u001b[0m,\n",
       "    \u001b[32m'Apple'\u001b[0m,\n",
       "    \u001b[32m'Bezos'\u001b[0m,\n",
       "    \u001b[32m'Google'\u001b[0m,\n",
       "    \u001b[32m'Samsung'\u001b[0m,\n",
       "    \u001b[32m'iPhone'\u001b[0m,\n",
       "    \u001b[32m'iPad'\u001b[0m,\n",
       "    \u001b[32m'guardian.com/sport/'\u001b[0m,\n",
       "    \u001b[32m'guardian.com/football/'\u001b[0m,\n",
       "    \u001b[32m'thestar.com/sports'\u001b[0m,\n",
       "    \u001b[32m'cbc.ca/sports'\u001b[0m\n",
       "\u001b[1m]\u001b[0m\n"
      ]
     },
     "metadata": {},
     "output_type": "display_data"
    }
   ],
   "source": [
    "r.blacklist_show()"
   ]
  },
  {
   "cell_type": "code",
   "execution_count": null,
   "metadata": {},
   "outputs": [],
   "source": [
    "# r.update()"
   ]
  },
  {
   "cell_type": "markdown",
   "metadata": {},
   "source": [
    "## Automatically mark entries as important"
   ]
  },
  {
   "cell_type": "code",
   "execution_count": null,
   "metadata": {},
   "outputs": [],
   "source": [
    "for i in [\"interest rate\", \"Bank of Canada\", \"housing market\"]:\n",
    "    r.whitelist_add(i)"
   ]
  },
  {
   "cell_type": "code",
   "execution_count": null,
   "metadata": {},
   "outputs": [
    {
     "data": {
      "text/html": [
       "<pre style=\"white-space:pre;overflow-x:auto;line-height:normal;font-family:Menlo,'DejaVu Sans Mono',consolas,'Courier New',monospace\"><span style=\"font-weight: bold\">[</span><span style=\"color: #008000; text-decoration-color: #008000\">'interest rate'</span>, <span style=\"color: #008000; text-decoration-color: #008000\">'Bank of Canada'</span>, <span style=\"color: #008000; text-decoration-color: #008000\">'housing market'</span><span style=\"font-weight: bold\">]</span>\n",
       "</pre>\n"
      ],
      "text/plain": [
       "\u001b[1m[\u001b[0m\u001b[32m'interest rate'\u001b[0m, \u001b[32m'Bank of Canada'\u001b[0m, \u001b[32m'housing market'\u001b[0m\u001b[1m]\u001b[0m\n"
      ]
     },
     "metadata": {},
     "output_type": "display_data"
    }
   ],
   "source": [
    "r.whitelist_show()"
   ]
  },
  {
   "cell_type": "code",
   "execution_count": null,
   "metadata": {},
   "outputs": [],
   "source": [
    "# r.update()"
   ]
  },
  {
   "cell_type": "markdown",
   "metadata": {},
   "source": [
    "## Low level access to data"
   ]
  },
  {
   "cell_type": "code",
   "execution_count": null,
   "metadata": {},
   "outputs": [
    {
     "data": {
      "text/plain": [
       "Entry(id='1.7416928', updated=None, title='Feds announce forum on antisemitism following incidents at Jewish school and synagogue', link='https://www.cbc.ca/news/politics/feds-announce-forum-on-antisemitism-following-incidents-at-jewish-school-and-synagogue-1.7416928?cmp=rss', author=None, published=datetime.datetime(2024, 12, 20, 22, 28, 50, tzinfo=datetime.timezone.utc), summary='<img alt=\"A woman in a winter coat speaks at a podium as two people stand behind her.\" height=\"349\" src=\"https://i.cbc.ca/1.7416687.1734724108!/fileImage/httpImage/image.JPG_gen/derivatives/16x9_620/cabinet-shuffle-20241220.JPG\" title=\"Minister of Official Languages and Associate Minister of Public Safety Rachel Bendayan speaks to reporters following a cabinet shuffle at Rideau Hall in Ottawa, on Friday, Dec. 20, 2024.\" width=\"620\" /><p>The federal government will hold a national forum on combatting antisemitism in February — news that comes as police investigate a suspicious fire at a Montreal synagogue and gunshots aimed at a Toronto Jewish girls school.</p>', content=(), enclosures=(), source=None, read=False, read_modified=datetime.datetime(2024, 12, 20, 22, 47, 37, 155008, tzinfo=datetime.timezone.utc), important=False, important_modified=datetime.datetime(2024, 12, 20, 22, 47, 37, 145434, tzinfo=datetime.timezone.utc), added=datetime.datetime(2024, 12, 20, 22, 47, 32, 445145, tzinfo=datetime.timezone.utc), added_by='feed', last_updated=datetime.datetime(2024, 12, 20, 22, 47, 32, 445145, tzinfo=datetime.timezone.utc), original_feed_url='https://www.cbc.ca/webfeed/rss/rss-topstories', _sequence=b'T\\x00\\x05\\xf6~\\xfc\\xeai\\xa9\\x86#\\x1c\\x82\\x8a\\x07E', feed=Feed(url='https://www.cbc.ca/webfeed/rss/rss-topstories', updated=datetime.datetime(2024, 12, 20, 22, 28, 50, tzinfo=datetime.timezone.utc), title='CBC | Top Stories News', link='https://www.cbc.ca/news/?cmp=rss', author=None, subtitle='FOR PERSONAL USE ONLY', version='rss20', user_title=None, added=datetime.datetime(2024, 12, 20, 22, 6, 54, 468587, tzinfo=datetime.timezone.utc), last_updated=datetime.datetime(2024, 12, 20, 22, 47, 32, 445145, tzinfo=datetime.timezone.utc), last_exception=None, updates_enabled=True, update_after=datetime.datetime(2024, 12, 20, 23, 0, tzinfo=datetime.timezone.utc), last_retrieved=datetime.datetime(2024, 12, 20, 22, 47, 32, 445145, tzinfo=datetime.timezone.utc)))"
      ]
     },
     "execution_count": null,
     "metadata": {},
     "output_type": "execute_result"
    }
   ],
   "source": [
    "entries = r._get_entries(limit=1)\n",
    "entry = [i for i in entries][0]\n",
    "entry"
   ]
  },
  {
   "cell_type": "markdown",
   "metadata": {},
   "source": [
    "## CLI"
   ]
  },
  {
   "cell_type": "code",
   "execution_count": null,
   "metadata": {},
   "outputs": [],
   "source": [
    "# | export\n",
    "\n",
    "\n",
    "def main():\n",
    "    fire.Fire(PyNewsReader)"
   ]
  },
  {
   "cell_type": "code",
   "execution_count": null,
   "metadata": {},
   "outputs": [],
   "source": [
    "# | export\n",
    "\n",
    "\n",
    "# if __name__ == \"__main__\":\n",
    "#     main()"
   ]
  },
  {
   "cell_type": "code",
   "execution_count": null,
   "metadata": {},
   "outputs": [],
   "source": [
    "# | hide\n",
    "\n",
    "# To Do:\n",
    "# * User interface"
   ]
  },
  {
   "cell_type": "code",
   "execution_count": null,
   "metadata": {},
   "outputs": [],
   "source": [
    "# | hide\n",
    "import nbdev\n",
    "\n",
    "nbdev.nbdev_export()"
   ]
  },
  {
   "cell_type": "code",
   "execution_count": null,
   "metadata": {},
   "outputs": [],
   "source": []
  }
 ],
 "metadata": {
  "kernelspec": {
   "display_name": "python3",
   "language": "python",
   "name": "python3"
  }
 },
 "nbformat": 4,
 "nbformat_minor": 4
}
